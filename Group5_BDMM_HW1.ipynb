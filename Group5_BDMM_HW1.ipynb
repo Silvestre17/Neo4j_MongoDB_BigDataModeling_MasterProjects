{
 "cells": [
  {
   "cell_type": "markdown",
   "metadata": {},
   "source": [
    "# **Big Data Modeling and Management Assigment - Homework 1**"
   ]
  },
  {
   "cell_type": "markdown",
   "metadata": {},
   "source": [
    "# **Submission**\n",
    "\n",
    "GROUP NUMBER: **5**\n",
    "\n",
    "GROUP MEMBERS:\n",
    "\n",
    "|STUDENT NAME|STUDENT NUMBER|\n",
    "|:---:|:---:|\n",
    "|Alexandre Gonçalves|20240738|\n",
    "|André Silvestre|20240502|\n",
    "|Filipa Pereira|20240509|\n",
    "|João Henriques|20240499|\n",
    "|Umeima Mahomed|20240543|"
   ]
  },
  {
   "cell_type": "markdown",
   "metadata": {},
   "source": [
    "## **🍺 The Beer project  🍺** \n",
    "\n",
    "As it was shown in classes, graph databases are a natural way of navegating related information. For this first project we will be taking a graph database to analyse beer and breweries!   \n",
    "\n",
    "The project datasets are based on [kaggle](https://www.kaggle.com/ehallmar/beers-breweries-and-beer-reviews), released by Evan Hallmark. \n",
    "\n",
    "### **Problem description**\n",
    "\n",
    "Imagine you are working in the Data Management department of Analytics company.\n",
    "Explore the database via python neo4j connector and/or the graphical tool in the NEO4J webpage. Answer the questions while adjusting the database to meet the needs of your colleagues.\n",
    "Please record and keep track of your database changes, and submit the file with all cells run and with the output shown.\n",
    "\n",
    "### **Questions**\n",
    "\n",
    "1. Explore the database: get familiar with current schema, elements and other important database parameters. [1 point]\n",
    "2. Adjust the database and mention reasoning behind: e.g. clean errors, remove redundancies, adjust schema as necessary. Visualize the final version of database schema. [4 points]\n",
    "3. Analytics department requires the following information for the biweekly reporting: [5 points]\n",
    "    1. How many reviews has the beer with the most reviews?\n",
    "    2. Which three users wrote the most reviews about beers?\n",
    "    3. Find all beers that are described with following words: 'fruit', 'complex', 'nutty', 'dark'.\n",
    "    4. Which top three breweries produce the largest variety of beer styles?\n",
    "    5. Which country produces the most beer styles?\n",
    "4. Market Analysis department in your company accesses and updates the trends data on the daily basis. Given that, consider how you need to optimize the database and its performance so that the following queries are efficient. Measure performance to communicate your improvements using PROFILE before final query. Answer the following: [4 points]\n",
    "    1. Using ABV score, find five strongest beers, display their ABV score and the corresponding brewery? Keep in mind that the strongest known beer is Snake Venom, and deal with the error entries in the database.\n",
    "    2. Using the answer from question 2, find the top 5 distict beer styles with the highest average score of smell + feel that were reviewed by the third most productive user. Keep in mind that cleaning the database earlier should ensure correct results.\n",
    "5. Answer **two out of four** of the following questions using Graph Algorithms (gds): [NB: make sure to clear the graph before using it again] For the quarterly report, Analytics department the follownig information. [6 points]\n",
    "    1. Which two countries are most similiar when it comes to their top five most produced Beer styles?\n",
    "    2. Which beer is the most popular when considering the number of users who reviewed it? \n",
    "    3. Users are connected together by their reviews of beers, taking into consideration the \"smell\" score they assign as a weight, how many communities are formed from these relationships? How many users are in the three largest communities? \n",
    "    4. Which user is the most influential when it comes to reviews of distinct beers by style?\n",
    " \n",
    "### **Groups** \n",
    "\n",
    "Groups should have 4 people maximum. Please mark which group you are here: https://shorturl.at/zE0QP \n",
    "\n",
    "### **Submission**      \n",
    "\n",
    "The code used to produce the results and to-the-point explations should be uploaded to moodle. They should have a clear reference to the group, either on the file name or on the document itself. Preferably one Jupyter notebook per group.\n",
    "\n",
    "Delivery date: Until the **midnight of March 18, 2025**\n",
    "\n",
    "### **Evaluation**   \n",
    "\n",
    "This will be 20% of the final grade.   \n",
    "Each solution will be evaluated on 2 components: correctness of results and efficiency of the query (based on database schema).  \n",
    "All code will go through plagiarism automated checks. Groups with the same code will undergo investigation."
   ]
  },
  {
   "cell_type": "markdown",
   "metadata": {},
   "source": [
    "## **Loading the Database**\n",
    "\n",
    "Be sure that you **don't have** the neo4j docker container from the classes running (you can Stop it in the desktop app or with the command \"`docker stop Neo4JLab`\")\n",
    "\n",
    "\n",
    "The default container does not have any data whatsoever, we will have to load a database into our docker image:\n",
    "- Download and unzip the `Neo4JHWData` file provided in Moodle.\n",
    "- Copy the path of the `Neo4JHWData` folder of the unziped file, e.g. `C:/PATH/Neo4JHWData/data`.\n",
    "- Download and unzip the `Neo4JPlugins` file provided in Moodle.\n",
    "- Copy the path of the `Neo4JPlugins` folder of the unziped file, e.g. `C:/PATH/Neo4Jplugins`.\n",
    "- Change the code below accordingly. As you might have noticed, you do not have a user called `nunoa`, please use the appropriate path that you got from the previous step. Be sure that you have a neo4j docker container running: \\\n",
    "\n",
    "`docker run --name Neo4JHW2025 -p 7474:7474 -p 7687:7687 -d -v \"c:\\PATH\\Neo4JPlugins\":/plugins -v \"c:\\PATH\\Neo4JHWData\\data\":/data --env NEO4J_AUTH=neo4j/test --env NEO4J_dbms_connector_https_advertised__address=\"localhost:7473\" --env NEO4J_dbms_connector_http_advertised__address=\"localhost:7474\" --env NEO4J_dbms_connector_bolt_advertised__address=\"localhost:7687\" --env NEO4J_dbms_security_procedures_unrestricted=gds.* --env NEO4J_dbms_security_procedures_allowlist=\"gds.*\" neo4j:4.4.5`\n",
    "\n",
    "- Since Neo4j is trying to recognize a new database folder, this might take a bit (let's say 3 minutes), so don't worry.\n",
    "\n",
    "If the neo4j browser fails to load gds plugins, run the following in the Command Prompt before creating the container again:\n",
    "`// Remove stopped containers //\n",
    "docker container prune -f\n",
    "// Remove unused images //\n",
    "docker image prune -a -f\n",
    "// Remove unused volumes //\n",
    "docker volume prune -f\n",
    "// Remove unused networks //\n",
    "docker network prune -f\n",
    "// Remove all unused resources in one command //\n",
    "docker system prune -a -f`"
   ]
  },
  {
   "cell_type": "markdown",
   "metadata": {},
   "source": [
    "<div class=\"alert alert-block alert-info\">\n",
    "\n",
    "`docker run --name Neo4JHW2025 -p 7474:7474 -p 7687:7687 -d -v \"C:\\Users\\André Silvestre\\OneDrive - NOVAIMS\\MDSAA-DS_1ºAno\\2º Semestre\\5E_Big Data Modelling and Managment_[BDMM]\\[BDMM]_Assignment1&2\\data\\Neo4JPlugins\":/plugins -v \"C:\\Users\\André Silvestre\\OneDrive - NOVAIMS\\MDSAA-DS_1ºAno\\2º Semestre\\5E_Big Data Modelling and Managment_[BDMM]\\[BDMM]_Assignment1&2\\data\\NEW_VERSION\\data\":/data --env NEO4J_AUTH=neo4j/test --env NEO4J_dbms_connector_https_advertised__address=\"localhost:7473\" --env NEO4J_dbms_connector_http_advertised__address=\"localhost:7474\" --env NEO4J_dbms_connector_bolt_advertised__address=\"localhost:7687\" --env NEO4J_dbms_security_procedures_unrestricted=gds.* --env NEO4J_dbms_security_procedures_allowlist=\"gds.*\" neo4j:4.4.5`\n",
    "\n",
    "</div>"
   ]
  },
  {
   "cell_type": "code",
   "execution_count": 1,
   "metadata": {
    "ExecuteTime": {
     "end_time": "2024-02-29T21:45:57.447501Z",
     "start_time": "2024-02-29T21:45:56.625014Z"
    }
   },
   "outputs": [],
   "source": [
    "from neo4j import GraphDatabase\n",
    "from pprint import pprint\n",
    "\n",
    "# Extra\n",
    "import pandas as pd               # For data manipulation\n",
    "import numpy as np                # For numerical operations\n",
    "from tqdm import tqdm             # Progress bar\n",
    "\n",
    "# Disable FutureWarning messages\n",
    "import warnings\n",
    "warnings.simplefilter(action='ignore', category=FutureWarning)"
   ]
  },
  {
   "cell_type": "code",
   "execution_count": 2,
   "metadata": {
    "ExecuteTime": {
     "end_time": "2024-02-29T21:46:09.652569Z",
     "start_time": "2024-02-29T21:46:09.648166Z"
    }
   },
   "outputs": [],
   "source": [
    "NEO4J_URI=\"neo4j://localhost:7687\"\n",
    "NEO4J_USERNAME=\"neo4j\"\n",
    "NEO4J_PASSWORD=\"test\""
   ]
  },
  {
   "cell_type": "code",
   "execution_count": 3,
   "metadata": {
    "ExecuteTime": {
     "end_time": "2024-02-29T21:46:10.939324Z",
     "start_time": "2024-02-29T21:46:10.934651Z"
    }
   },
   "outputs": [],
   "source": [
    "driver = GraphDatabase.driver(NEO4J_URI, auth=(NEO4J_USERNAME, NEO4J_PASSWORD), )"
   ]
  },
  {
   "cell_type": "code",
   "execution_count": 4,
   "metadata": {
    "ExecuteTime": {
     "end_time": "2024-02-29T21:46:14.291655Z",
     "start_time": "2024-02-29T21:46:14.286865Z"
    }
   },
   "outputs": [],
   "source": [
    "def execute_read(driver, query):    \n",
    "    with driver.session(database=\"neo4j\") as session:\n",
    "        result = session.execute_read(lambda tx, query: list(tx.run(query)), query)\n",
    "    return result"
   ]
  },
  {
   "cell_type": "code",
   "execution_count": 5,
   "metadata": {},
   "outputs": [],
   "source": [
    "def execute_write(driver, query):\n",
    "    with driver.session(database=\"neo4j\") as session:\n",
    "        # Write transactions allow the driver to handle retries and transient errors\n",
    "        result = session.execute_write(lambda tx, query: list(tx.run(query)), query)\n",
    "    return result"
   ]
  },
  {
   "cell_type": "markdown",
   "metadata": {},
   "source": [
    "---"
   ]
  },
  {
   "cell_type": "markdown",
   "metadata": {},
   "source": [
    "# **👨‍💻 Answering the questions**\n",
    "\n",
    "## **1. Explore the database**"
   ]
  },
  {
   "cell_type": "code",
   "execution_count": 6,
   "metadata": {},
   "outputs": [
    {
     "name": "stdout",
     "output_type": "stream",
     "text": [
      "Labels of all nodes in the database:\n",
      "[<Record label='COUNTRIES'>,\n",
      " <Record label='CITIES'>,\n",
      " <Record label='BREWERIES'>,\n",
      " <Record label='BEERS'>,\n",
      " <Record label='REVIEWS'>,\n",
      " <Record label='STYLE'>,\n",
      " <Record label='USER'>]\n"
     ]
    }
   ],
   "source": [
    "# 1. Explore the database: get familiar with current schema, elements and other important database parameters. [1 point]\n",
    "\n",
    "# 1.1. Get the labels of all nodes in the database\n",
    "query = \"\"\"\n",
    "    CALL db.labels()\n",
    "\"\"\"\n",
    "result = execute_read(driver, query)\n",
    "print(\"Labels of all nodes in the database:\")\n",
    "pprint(result)"
   ]
  },
  {
   "cell_type": "code",
   "execution_count": 7,
   "metadata": {},
   "outputs": [
    {
     "name": "stdout",
     "output_type": "stream",
     "text": [
      "Relationship types in the database:\n",
      "[<Record relationshipType='REVIEWED'>,\n",
      " <Record relationshipType='BREWED'>,\n",
      " <Record relationshipType='IN'>,\n",
      " <Record relationshipType='HAS_STYLE'>,\n",
      " <Record relationshipType='POSTED'>]\n"
     ]
    }
   ],
   "source": [
    "# 1.2. Get the relationship types in the database\n",
    "query = \"\"\"\n",
    "    CALL db.relationshipTypes()\n",
    "\"\"\"\n",
    "result = execute_read(driver, query)\n",
    "print(\"Relationship types in the database:\")\n",
    "pprint(result)"
   ]
  },
  {
   "cell_type": "code",
   "execution_count": 8,
   "metadata": {},
   "outputs": [
    {
     "name": "stdout",
     "output_type": "stream",
     "text": [
      "[<Record count=3215489>]\n"
     ]
    }
   ],
   "source": [
    "# 1.3. Get the number of nodes in the database\n",
    "query = \"\"\"\n",
    "    MATCH (n)\n",
    "    RETURN count(n) as count\n",
    "\"\"\"\n",
    "result = execute_read(driver, query)\n",
    "pprint(result)"
   ]
  },
  {
   "cell_type": "code",
   "execution_count": 9,
   "metadata": {},
   "outputs": [
    {
     "name": "stdout",
     "output_type": "stream",
     "text": [
      "[<Record count=5856205>]\n"
     ]
    }
   ],
   "source": [
    "# 1.4. Get the number of relationships in the database\n",
    "query = \"\"\"\n",
    "    MATCH ()-[r]->()\n",
    "    RETURN count(r) as count\n",
    "\"\"\"\n",
    "result = execute_read(driver, query)\n",
    "pprint(result)"
   ]
  },
  {
   "cell_type": "code",
   "execution_count": 10,
   "metadata": {},
   "outputs": [
    {
     "name": "stdout",
     "output_type": "stream",
     "text": [
      "[<Record label=['COUNTRIES'] count=400>,\n",
      " <Record label=['CITIES'] count=23330>,\n",
      " <Record label=['BREWERIES'] count=100694>,\n",
      " <Record label=['BEERS'] count=417746>,\n",
      " <Record label=['REVIEWS'] count=2549252>,\n",
      " <Record label=['STYLE'] count=113>,\n",
      " <Record label=['USER'] count=123935>]\n"
     ]
    }
   ],
   "source": [
    "# 1.5. Get the number of nodes per label in the database\n",
    "query = \"\"\"\n",
    "    MATCH (n)\n",
    "    RETURN labels(n) as label, count(n) as count\n",
    "\"\"\"\n",
    "result = execute_read(driver, query)\n",
    "pprint(result)"
   ]
  },
  {
   "cell_type": "markdown",
   "metadata": {},
   "source": [
    "- With this query we can see that we have $7$ different types of nodes in the database: **`COUNTRIES`** with $400$ nodes, **`CITIES`** with $23\\;330$ nodes, **`BREWERIES`** with $100\\;694$ nodes, **`BEERS`** with $417\\;746$ nodes, **`REVIEWS`** with $2\\;549\\;252$ nodes, **`STYLE`** with $113$ nodes and **`USER`** with $123\\;935$ nodes."
   ]
  },
  {
   "cell_type": "code",
   "execution_count": 11,
   "metadata": {},
   "outputs": [
    {
     "name": "stdout",
     "output_type": "stream",
     "text": [
      "[<Record type='POSTED' NumberOfRelationships=2538044>,\n",
      " <Record type='REVIEWED' NumberOfRelationships=2537991>,\n",
      " <Record type='BREWED' NumberOfRelationships=358873>,\n",
      " <Record type='HAS_STYLE' NumberOfRelationships=358873>,\n",
      " <Record type='IN' NumberOfRelationships=62424>]\n"
     ]
    }
   ],
   "source": [
    "# 1.6. Get the number of relationships per type in the database\n",
    "query = \"\"\"\n",
    "    MATCH ()-[r]->()\n",
    "    RETURN type(r) as type, count(r) as NumberOfRelationships\n",
    "    ORDER BY NumberOfRelationships DESC\n",
    "\"\"\"\n",
    "result = execute_read(driver, query)\n",
    "pprint(result)"
   ]
  },
  {
   "cell_type": "markdown",
   "metadata": {},
   "source": [
    "- We also have $5$ different types of relationships in the database: **`POSTED`** with $2\\;538\\;044$ relationships, **`REVIEWED`** with $2\\;537\\;991$ relationships, **`BREWED`** with $358\\;873$ relationships, **`HAS_STYLE`** with $358\\;873$ relationships and **`IN`** with $62\\;424$ relationships."
   ]
  },
  {
   "cell_type": "code",
   "execution_count": 12,
   "metadata": {},
   "outputs": [
    {
     "name": "stdout",
     "output_type": "stream",
     "text": [
      "Properties and types for each node label:\n",
      "Node Label: :`BEERS`        | Property: abv             | Type(s): String               | Mandatory: True\n",
      "Node Label: :`BEERS`        | Property: availability    | Type(s): String               | Mandatory: True\n",
      "Node Label: :`BEERS`        | Property: brewery_id      | Type(s): String               | Mandatory: True\n",
      "Node Label: :`BEERS`        | Property: id              | Type(s): String               | Mandatory: True\n",
      "Node Label: :`BEERS`        | Property: name            | Type(s): String               | Mandatory: True\n",
      "Node Label: :`BEERS`        | Property: notes           | Type(s): String               | Mandatory: True\n",
      "Node Label: :`BEERS`        | Property: retired         | Type(s): String               | Mandatory: True\n",
      "Node Label: :`BEERS`        | Property: state           | Type(s): String               | Mandatory: True\n",
      "Node Label: :`BREWERIES`    | Property: id              | Type(s): String               | Mandatory: True\n",
      "Node Label: :`BREWERIES`    | Property: name            | Type(s): String               | Mandatory: True\n",
      "Node Label: :`BREWERIES`    | Property: notes           | Type(s): String               | Mandatory: True\n",
      "Node Label: :`BREWERIES`    | Property: state           | Type(s): String               | Mandatory: True\n",
      "Node Label: :`BREWERIES`    | Property: types           | Type(s): String               | Mandatory: True\n",
      "Node Label: :`CITIES`       | Property: name            | Type(s): String               | Mandatory: True\n",
      "Node Label: :`COUNTRIES`    | Property: name            | Type(s): String               | Mandatory: True\n",
      "Node Label: :`REVIEWS`      | Property: beer_id         | Type(s): String               | Mandatory: True\n",
      "Node Label: :`REVIEWS`      | Property: date            | Type(s): String               | Mandatory: True\n",
      "Node Label: :`REVIEWS`      | Property: feel            | Type(s): String               | Mandatory: True\n",
      "Node Label: :`REVIEWS`      | Property: id              | Type(s): String               | Mandatory: True\n",
      "Node Label: :`REVIEWS`      | Property: look            | Type(s): String               | Mandatory: True\n",
      "Node Label: :`REVIEWS`      | Property: overall         | Type(s): String               | Mandatory: True\n",
      "Node Label: :`REVIEWS`      | Property: score           | Type(s): String               | Mandatory: True\n",
      "Node Label: :`REVIEWS`      | Property: smell           | Type(s): String               | Mandatory: True\n",
      "Node Label: :`REVIEWS`      | Property: taste           | Type(s): String               | Mandatory: True\n",
      "Node Label: :`REVIEWS`      | Property: text            | Type(s): String               | Mandatory: True\n",
      "Node Label: :`STYLE`        | Property: name            | Type(s): String               | Mandatory: True\n",
      "Node Label: :`USER`         | Property: name            | Type(s): String               | Mandatory: True\n"
     ]
    }
   ],
   "source": [
    "# 1.7. For each node label, get a list of properties and their types\n",
    "\n",
    "# This query uses the built-in procedure db.schema.nodeTypeProperties() available in Neo4j 4.x+\n",
    "# It returns, for each node label (nodeType), each property (propertyName) and its type(s) (propertyTypes)\n",
    "# Source: https://neo4j.com/docs/operations-manual/current/procedures/#procedure_db_schema_nodetypeproperties\n",
    "query = \"\"\"\n",
    "    CALL db.schema.nodeTypeProperties() YIELD nodeType, propertyName, propertyTypes, mandatory\n",
    "    RETURN nodeType, propertyName, propertyTypes, mandatory\n",
    "    ORDER BY nodeType, propertyName\n",
    "\"\"\"\n",
    "result = execute_read(driver, query)\n",
    "print(\"Properties and types for each node label:\")\n",
    "for rec in result:\n",
    "    print(f\"Node Label: {rec['nodeType']:<15} | Property: {rec['propertyName']:<15} | Type(s): {', '.join(rec['propertyTypes']):<20} | Mandatory: {rec['mandatory']}\")"
   ]
  },
  {
   "cell_type": "code",
   "execution_count": 13,
   "metadata": {},
   "outputs": [
    {
     "name": "stdout",
     "output_type": "stream",
     "text": [
      "Example of 1 node for each label:\n",
      "Node Label: ['COUNTRIES'] | Node: <Node element_id='0' labels=frozenset({'COUNTRIES'}) properties={'name': 'BE'}>\n",
      "Node Label: ['CITIES'] | Node: <Node element_id='200' labels=frozenset({'CITIES'}) properties={'name': 'Erpe-Mere'}>\n",
      "Node Label: ['BREWERIES'] | Node: <Node element_id='11865' labels=frozenset({'BREWERIES'}) properties={'types': 'Brewery', 'notes': 'No notes at this time.', 'name': 'Brouwerij Danny', 'id': '19730', 'state': 'nan'}>\n",
      "Node Label: ['BEERS'] | Node: <Node element_id='62212' labels=frozenset({'BEERS'}) properties={'notes': 'No notes at this time.', 'abv': '7.3', 'name': 'Olde Cogitator', 'retired': 'f', 'state': 'CA', 'id': '202522', 'availability': ' Rotating', 'brewery_id': '2199'}>\n",
      "Node Label: ['REVIEWS'] | Node: <Node element_id='421086' labels=frozenset({'REVIEWS'}) properties={'date': '2017-12-21', 'score': '4.5', 'taste': '4.5', 'feel': '4.5', 'overall': '4.5', 'beer_id': '125646', 'text': '\\xa0\\xa0', 'id': '1', 'smell': '4.5', 'look': '4.5'}>\n",
      "Node Label: ['STYLE'] | Node: <Node element_id='9494213' labels=frozenset({'STYLE'}) properties={'name': 'English Oatmeal Stout'}>\n",
      "Node Label: ['USER'] | Node: <Node element_id='9494326' labels=frozenset({'USER'}) properties={'name': 'bluejacket74'}>\n"
     ]
    }
   ],
   "source": [
    "# 1.7.1. Get a example of 1 node for each label\n",
    "query = \"\"\"\n",
    "    MATCH (n)\n",
    "    WITH DISTINCT labels(n) AS label, collect(n) AS nodes\n",
    "    RETURN label, nodes[0] AS exampleNode\n",
    "\"\"\"\n",
    "\n",
    "# Explanation:\n",
    "# 1. MATCH (n):                                             Match all nodes in the database\n",
    "# 2. WITH DISTINCT labels(n) AS label, collect(n) AS nodes: For each node, get its labels and collect the node itself\n",
    "# 3. RETURN label, nodes[0] AS exampleNode:                 Return the label and an example node for each label\n",
    "\n",
    "result = execute_read(driver, query)\n",
    "print(\"Example of 1 node for each label:\")\n",
    "for rec in result:\n",
    "    print(f\"Node Label: {rec['label']} | Node: {rec['exampleNode']}\")"
   ]
  },
  {
   "cell_type": "markdown",
   "metadata": {},
   "source": [
    "- All **properties of the nodes** are in **`strings`** format, so we will have to convert them to the correct format in order to make the queries more efficient.\n",
    "\n",
    "**List of Properties to convert:**\n",
    "- **`abv`** in **`BEERS`** nodes to **`float`**.\n",
    "- **`score`**, **`taste`**, **`feel`**, **`overall`**, **`smell`** and **`look`** in **`REVIEWS`** nodes to **`float`**.\n",
    "- **`id`** in **`BEERS`**, **`BREWERIES`** and **`REVIEWS`** nodes to **`int`**.\n",
    "- **`date`** in **`REVIEWS`** nodes to **`date`**.\n"
   ]
  },
  {
   "cell_type": "code",
   "execution_count": 14,
   "metadata": {},
   "outputs": [
    {
     "name": "stdout",
     "output_type": "stream",
     "text": [
      "Properties and types for each relationship type:\n",
      "Relationship Type: :`BREWED` | Property: None | Type(s): None\n",
      "Relationship Type: :`HAS_STYLE` | Property: None | Type(s): None\n",
      "Relationship Type: :`IN` | Property: None | Type(s): None\n",
      "Relationship Type: :`POSTED` | Property: None | Type(s): None\n",
      "Relationship Type: :`REVIEWED` | Property: None | Type(s): None\n"
     ]
    }
   ],
   "source": [
    "# 1.8. For each relationship type, get a list of properties and their types (relTypeProperties)\n",
    "query = \"\"\"\n",
    "    CALL db.schema.relTypeProperties() YIELD relType, propertyName, propertyTypes\n",
    "    RETURN relType, propertyName, propertyTypes\n",
    "    ORDER BY relType, propertyName\n",
    "\"\"\"\n",
    "result = execute_read(driver, query)\n",
    "print(\"Properties and types for each relationship type:\")\n",
    "for rec in result:\n",
    "    print(\"Relationship Type:\", rec[\"relType\"], \"| Property:\", rec[\"propertyName\"], \"| Type(s):\", rec[\"propertyTypes\"])"
   ]
  },
  {
   "cell_type": "markdown",
   "metadata": {},
   "source": [
    "- All **relationships** don't have any properties."
   ]
  },
  {
   "cell_type": "code",
   "execution_count": 15,
   "metadata": {},
   "outputs": [
    {
     "name": "stdout",
     "output_type": "stream",
     "text": [
      "Schema of connections (node label - relationship -> node label):\n",
      "BEERS - HAS_STYLE -> STYLE\n",
      "BEERS - REVIEWED -> REVIEWS\n",
      "BREWERIES - BREWED -> BEERS\n",
      "BREWERIES - IN -> CITIES\n",
      "CITIES - IN -> COUNTRIES\n",
      "REVIEWS - POSTED -> USER\n"
     ]
    }
   ],
   "source": [
    "# 1.9. For each pair of nodes, print the connection and its direction\n",
    "query = \"\"\"\n",
    "    MATCH (a)-[r]->(b)\n",
    "    WITH DISTINCT head(labels(a)) AS StartLabel, type(r) AS Relationship, head(labels(b)) AS EndLabel\n",
    "    RETURN StartLabel, Relationship, EndLabel\n",
    "    ORDER BY StartLabel, Relationship, EndLabel\n",
    "\"\"\"\n",
    "result = execute_read(driver, query)\n",
    "print(\"Schema of connections (node label - relationship -> node label):\")\n",
    "for rec in result:\n",
    "    print(rec[\"StartLabel\"], \"-\", rec[\"Relationship\"], \"->\", rec[\"EndLabel\"])"
   ]
  },
  {
   "cell_type": "markdown",
   "metadata": {},
   "source": [
    "#### **🧮 Summary of the Database Schema**\n",
    "\n",
    "<center>\n",
    "\n",
    "|     |   **Node Labels**  | **Properties**                                                     |**Total number of nodes**|\n",
    "|:---:|:------------------:|:-------------------------------------------------------------------|:-----------------------:|\n",
    "|**1**| `COUNTRIES`        | name                                                               |400                      |\n",
    "|**2**| `CITIES`           | name                                                               |23330                    |\n",
    "|**3**| `BREWERIES`        | notes, types, id, name, state                                      |100694                   |\n",
    "|**4**| `BEERS`            | notes, abv, name, state, id, retired, availability, brewery_id     |417746                   |\n",
    "|**5**| `REVIEWS`          | text, smell, look, taste, feel, overall, beer_id, id, date, score  |2549271                  | \n",
    "|**6**| `STYLE`            | name                                                               |113                      |\n",
    "|**7**| `USER`             | name                                                               |123935                   |\n",
    "\n",
    "<br><br>\n",
    "\n",
    "|     |  **Relationship Types**  | **Total number of relationships** |\n",
    "|:---:|:------------------------:|:---------------------------------:|\n",
    "|**1**| `POSTED`                 |2538044                            |\n",
    "|**2**| `REVIEWED`               |2537991                            |\n",
    "|**3**| `BREWED`                 |358873                             |\n",
    "|**4**| `HAS_STYLE`              |358873                             |\n",
    "|**5**| `IN`                     |62424                              |\n",
    "\n",
    "\n",
    "\n",
    "</center>"
   ]
  },
  {
   "cell_type": "code",
   "execution_count": 16,
   "metadata": {},
   "outputs": [
    {
     "name": "stdout",
     "output_type": "stream",
     "text": [
      "Schema visualization:\n",
      "[<Record nodes=[<Node element_id='-5' labels=frozenset({'REVIEWS'}) properties={'name': 'REVIEWS', 'indexes': ['id'], 'constraints': []}>, <Node element_id='-4' labels=frozenset({'BEERS'}) properties={'name': 'BEERS', 'indexes': ['id'], 'constraints': []}>, <Node element_id='-1' labels=frozenset({'COUNTRIES'}) properties={'name': 'COUNTRIES', 'indexes': ['name'], 'constraints': []}>, <Node element_id='-3' labels=frozenset({'BREWERIES'}) properties={'name': 'BREWERIES', 'indexes': ['id'], 'constraints': []}>, <Node element_id='-6' labels=frozenset({'STYLE'}) properties={'name': 'STYLE', 'indexes': ['name'], 'constraints': []}>, <Node element_id='-2' labels=frozenset({'CITIES'}) properties={'name': 'CITIES', 'indexes': ['name'], 'constraints': []}>, <Node element_id='-7' labels=frozenset({'USER'}) properties={'name': 'USER', 'indexes': ['name'], 'constraints': []}>] relationships=[<Relationship element_id='-1' nodes=(<Node element_id='-4' labels=frozenset({'BEERS'}) properties={'name': 'BEERS', 'indexes': ['id'], 'constraints': []}>, <Node element_id='-5' labels=frozenset({'REVIEWS'}) properties={'name': 'REVIEWS', 'indexes': ['id'], 'constraints': []}>) type='REVIEWED' properties={}>, <Relationship element_id='-2' nodes=(<Node element_id='-3' labels=frozenset({'BREWERIES'}) properties={'name': 'BREWERIES', 'indexes': ['id'], 'constraints': []}>, <Node element_id='-4' labels=frozenset({'BEERS'}) properties={'name': 'BEERS', 'indexes': ['id'], 'constraints': []}>) type='BREWED' properties={}>, <Relationship element_id='-3' nodes=(<Node element_id='-2' labels=frozenset({'CITIES'}) properties={'name': 'CITIES', 'indexes': ['name'], 'constraints': []}>, <Node element_id='-1' labels=frozenset({'COUNTRIES'}) properties={'name': 'COUNTRIES', 'indexes': ['name'], 'constraints': []}>) type='IN' properties={}>, <Relationship element_id='-5' nodes=(<Node element_id='-3' labels=frozenset({'BREWERIES'}) properties={'name': 'BREWERIES', 'indexes': ['id'], 'constraints': []}>, <Node element_id='-1' labels=frozenset({'COUNTRIES'}) properties={'name': 'COUNTRIES', 'indexes': ['name'], 'constraints': []}>) type='IN' properties={}>, <Relationship element_id='-4' nodes=(<Node element_id='-2' labels=frozenset({'CITIES'}) properties={'name': 'CITIES', 'indexes': ['name'], 'constraints': []}>, <Node element_id='-2' labels=frozenset({'CITIES'}) properties={'name': 'CITIES', 'indexes': ['name'], 'constraints': []}>) type='IN' properties={}>, <Relationship element_id='-6' nodes=(<Node element_id='-3' labels=frozenset({'BREWERIES'}) properties={'name': 'BREWERIES', 'indexes': ['id'], 'constraints': []}>, <Node element_id='-2' labels=frozenset({'CITIES'}) properties={'name': 'CITIES', 'indexes': ['name'], 'constraints': []}>) type='IN' properties={}>, <Relationship element_id='-7' nodes=(<Node element_id='-4' labels=frozenset({'BEERS'}) properties={'name': 'BEERS', 'indexes': ['id'], 'constraints': []}>, <Node element_id='-6' labels=frozenset({'STYLE'}) properties={'name': 'STYLE', 'indexes': ['name'], 'constraints': []}>) type='HAS_STYLE' properties={}>, <Relationship element_id='-8' nodes=(<Node element_id='-5' labels=frozenset({'REVIEWS'}) properties={'name': 'REVIEWS', 'indexes': ['id'], 'constraints': []}>, <Node element_id='-7' labels=frozenset({'USER'}) properties={'name': 'USER', 'indexes': ['name'], 'constraints': []}>) type='POSTED' properties={}>]>]\n"
     ]
    }
   ],
   "source": [
    "# 1.10 Visualize the schema of the database\n",
    "query = \"\"\"\n",
    "    // What is related, and how\n",
    "    CALL db.schema.visualization()\n",
    "\"\"\"\n",
    "result = execute_read(driver, query)\n",
    "print(\"Schema visualization:\")\n",
    "pprint(result)"
   ]
  },
  {
   "cell_type": "markdown",
   "metadata": {},
   "source": [
    "> Running the previous query in **`http://localhost:7474/browser/`** we get the following output:\n",
    "\n",
    "<center><img src=\"./img/TheBeerProject_Schema.png\" width=\"700\"></center>\n",
    "\n",
    "**NOTE:** Although the relationship **`IN`** between **`CITIES`** and itself is shown in the image, it is not present in the database as we can see in the previous query (**1.9.**).\n"
   ]
  },
  {
   "cell_type": "code",
   "execution_count": 17,
   "metadata": {},
   "outputs": [
    {
     "name": "stderr",
     "output_type": "stream",
     "text": [
      "Received notification from DBMS server: {severity: WARNING} {code: Neo.ClientNotification.Statement.FeatureDeprecationWarning} {category: } {title: This feature is deprecated and will be removed in future versions.} {description: A pattern expression should only be used in order to test the existence of a pattern. It should therefore only be used in contexts that evaluate to a boolean, e.g. inside the function exists() or in a WHERE-clause. All other uses are deprecated and should be replaced by a pattern comprehension.} {position: line: 11, column: 23, offset: 405} for query: '\\n    // What kind of nodes exist\\n    // Sample some nodes, reporting on property and relationship counts per node.\\n    MATCH (n) WHERE rand() <= 0.1\\n    RETURN\\n        DISTINCT labels(n),\\n            count(*) AS SampleSize,\\n            avg(size(keys(n))) as Avg_PropertyCount,\\n            min(size(keys(n))) as Min_PropertyCount,\\n            max(size(keys(n))) as Max_PropertyCount,\\n            avg(size( (n)-[]-() ) ) as Avg_RelationshipCount,\\n            min(size( (n)-[]-() ) ) as Min_RelationshipCount,\\n            max(size( (n)-[]-() ) ) as Max_RelationshipCount\\n'\n",
      "Received notification from DBMS server: {severity: WARNING} {code: Neo.ClientNotification.Statement.FeatureDeprecationWarning} {category: } {title: This feature is deprecated and will be removed in future versions.} {description: A pattern expression should only be used in order to test the existence of a pattern. It should therefore only be used in contexts that evaluate to a boolean, e.g. inside the function exists() or in a WHERE-clause. All other uses are deprecated and should be replaced by a pattern comprehension.} {position: line: 12, column: 23, offset: 467} for query: '\\n    // What kind of nodes exist\\n    // Sample some nodes, reporting on property and relationship counts per node.\\n    MATCH (n) WHERE rand() <= 0.1\\n    RETURN\\n        DISTINCT labels(n),\\n            count(*) AS SampleSize,\\n            avg(size(keys(n))) as Avg_PropertyCount,\\n            min(size(keys(n))) as Min_PropertyCount,\\n            max(size(keys(n))) as Max_PropertyCount,\\n            avg(size( (n)-[]-() ) ) as Avg_RelationshipCount,\\n            min(size( (n)-[]-() ) ) as Min_RelationshipCount,\\n            max(size( (n)-[]-() ) ) as Max_RelationshipCount\\n'\n",
      "Received notification from DBMS server: {severity: WARNING} {code: Neo.ClientNotification.Statement.FeatureDeprecationWarning} {category: } {title: This feature is deprecated and will be removed in future versions.} {description: A pattern expression should only be used in order to test the existence of a pattern. It should therefore only be used in contexts that evaluate to a boolean, e.g. inside the function exists() or in a WHERE-clause. All other uses are deprecated and should be replaced by a pattern comprehension.} {position: line: 13, column: 23, offset: 529} for query: '\\n    // What kind of nodes exist\\n    // Sample some nodes, reporting on property and relationship counts per node.\\n    MATCH (n) WHERE rand() <= 0.1\\n    RETURN\\n        DISTINCT labels(n),\\n            count(*) AS SampleSize,\\n            avg(size(keys(n))) as Avg_PropertyCount,\\n            min(size(keys(n))) as Min_PropertyCount,\\n            max(size(keys(n))) as Max_PropertyCount,\\n            avg(size( (n)-[]-() ) ) as Avg_RelationshipCount,\\n            min(size( (n)-[]-() ) ) as Min_RelationshipCount,\\n            max(size( (n)-[]-() ) ) as Max_RelationshipCount\\n'\n"
     ]
    },
    {
     "name": "stdout",
     "output_type": "stream",
     "text": [
      "Description of the database:\n"
     ]
    },
    {
     "data": {
      "text/html": [
       "<div>\n",
       "<style scoped>\n",
       "    .dataframe tbody tr th:only-of-type {\n",
       "        vertical-align: middle;\n",
       "    }\n",
       "\n",
       "    .dataframe tbody tr th {\n",
       "        vertical-align: top;\n",
       "    }\n",
       "\n",
       "    .dataframe thead th {\n",
       "        text-align: right;\n",
       "    }\n",
       "</style>\n",
       "<table border=\"1\" class=\"dataframe\">\n",
       "  <thead>\n",
       "    <tr style=\"text-align: right;\">\n",
       "      <th></th>\n",
       "      <th>SampleSize</th>\n",
       "      <th>Avg_PropertyCount</th>\n",
       "      <th>Min_PropertyCount</th>\n",
       "      <th>Max_PropertyCount</th>\n",
       "      <th>Avg_RelationshipCount</th>\n",
       "      <th>Min_RelationshipCount</th>\n",
       "      <th>Max_RelationshipCount</th>\n",
       "    </tr>\n",
       "    <tr>\n",
       "      <th>Node Label</th>\n",
       "      <th></th>\n",
       "      <th></th>\n",
       "      <th></th>\n",
       "      <th></th>\n",
       "      <th></th>\n",
       "      <th></th>\n",
       "      <th></th>\n",
       "    </tr>\n",
       "  </thead>\n",
       "  <tbody>\n",
       "    <tr>\n",
       "      <th>[COUNTRIES]</th>\n",
       "      <td>47</td>\n",
       "      <td>1.0</td>\n",
       "      <td>1</td>\n",
       "      <td>1</td>\n",
       "      <td>1.787234</td>\n",
       "      <td>0</td>\n",
       "      <td>28</td>\n",
       "    </tr>\n",
       "    <tr>\n",
       "      <th>[CITIES]</th>\n",
       "      <td>2348</td>\n",
       "      <td>1.0</td>\n",
       "      <td>1</td>\n",
       "      <td>1</td>\n",
       "      <td>2.685264</td>\n",
       "      <td>0</td>\n",
       "      <td>222</td>\n",
       "    </tr>\n",
       "    <tr>\n",
       "      <th>[BREWERIES]</th>\n",
       "      <td>10040</td>\n",
       "      <td>5.0</td>\n",
       "      <td>5</td>\n",
       "      <td>5</td>\n",
       "      <td>4.235857</td>\n",
       "      <td>0</td>\n",
       "      <td>899</td>\n",
       "    </tr>\n",
       "    <tr>\n",
       "      <th>[BEERS]</th>\n",
       "      <td>41581</td>\n",
       "      <td>8.0</td>\n",
       "      <td>8</td>\n",
       "      <td>8</td>\n",
       "      <td>8.098891</td>\n",
       "      <td>0</td>\n",
       "      <td>3713</td>\n",
       "    </tr>\n",
       "    <tr>\n",
       "      <th>[REVIEWS]</th>\n",
       "      <td>254240</td>\n",
       "      <td>10.0</td>\n",
       "      <td>10</td>\n",
       "      <td>10</td>\n",
       "      <td>1.991276</td>\n",
       "      <td>0</td>\n",
       "      <td>2</td>\n",
       "    </tr>\n",
       "    <tr>\n",
       "      <th>[STYLE]</th>\n",
       "      <td>12</td>\n",
       "      <td>1.0</td>\n",
       "      <td>1</td>\n",
       "      <td>1</td>\n",
       "      <td>2381.416667</td>\n",
       "      <td>210</td>\n",
       "      <td>7729</td>\n",
       "    </tr>\n",
       "    <tr>\n",
       "      <th>[USER]</th>\n",
       "      <td>12556</td>\n",
       "      <td>1.0</td>\n",
       "      <td>1</td>\n",
       "      <td>1</td>\n",
       "      <td>20.621695</td>\n",
       "      <td>0</td>\n",
       "      <td>3368</td>\n",
       "    </tr>\n",
       "  </tbody>\n",
       "</table>\n",
       "</div>"
      ],
      "text/plain": [
       "             SampleSize  Avg_PropertyCount  Min_PropertyCount  \\\n",
       "Node Label                                                      \n",
       "[COUNTRIES]          47                1.0                  1   \n",
       "[CITIES]           2348                1.0                  1   \n",
       "[BREWERIES]       10040                5.0                  5   \n",
       "[BEERS]           41581                8.0                  8   \n",
       "[REVIEWS]        254240               10.0                 10   \n",
       "[STYLE]              12                1.0                  1   \n",
       "[USER]            12556                1.0                  1   \n",
       "\n",
       "             Max_PropertyCount  Avg_RelationshipCount  Min_RelationshipCount  \\\n",
       "Node Label                                                                     \n",
       "[COUNTRIES]                  1               1.787234                      0   \n",
       "[CITIES]                     1               2.685264                      0   \n",
       "[BREWERIES]                  5               4.235857                      0   \n",
       "[BEERS]                      8               8.098891                      0   \n",
       "[REVIEWS]                   10               1.991276                      0   \n",
       "[STYLE]                      1            2381.416667                    210   \n",
       "[USER]                       1              20.621695                      0   \n",
       "\n",
       "             Max_RelationshipCount  \n",
       "Node Label                          \n",
       "[COUNTRIES]                     28  \n",
       "[CITIES]                       222  \n",
       "[BREWERIES]                    899  \n",
       "[BEERS]                       3713  \n",
       "[REVIEWS]                        2  \n",
       "[STYLE]                       7729  \n",
       "[USER]                        3368  "
      ]
     },
     "execution_count": 17,
     "metadata": {},
     "output_type": "execute_result"
    }
   ],
   "source": [
    "# 1.11 Get a description of the database\n",
    "#      Source of the query: http://localhost:7474/browser/ > Favorites > Sample Scripts > Data Profiling > What kind of nodes exist\n",
    "query = \"\"\"\n",
    "    // What kind of nodes exist\n",
    "    // Sample some nodes, reporting on property and relationship counts per node.\n",
    "    MATCH (n) WHERE rand() <= 0.1\n",
    "    RETURN\n",
    "        DISTINCT labels(n),\n",
    "            count(*) AS SampleSize,\n",
    "            avg(size(keys(n))) as Avg_PropertyCount,\n",
    "            min(size(keys(n))) as Min_PropertyCount,\n",
    "            max(size(keys(n))) as Max_PropertyCount,\n",
    "            avg(size( (n)-[]-() ) ) as Avg_RelationshipCount,\n",
    "            min(size( (n)-[]-() ) ) as Min_RelationshipCount,\n",
    "            max(size( (n)-[]-() ) ) as Max_RelationshipCount\n",
    "\"\"\"\n",
    "\n",
    "result = execute_read(driver, query)\n",
    "\n",
    "# Convert the result to Pandas DataFrame for better visualization\n",
    "data = [dict(record) for record in result]\n",
    "df = pd.DataFrame(data)\n",
    "df.set_index(\"labels(n)\", inplace=True)\n",
    "df.index.name = \"Node Label\"\n",
    "print(\"Description of the database:\")\n",
    "df"
   ]
  },
  {
   "cell_type": "markdown",
   "metadata": {},
   "source": [
    "- **Orphan Nodes**: Nodes with `Min_RelationshipCount` of 0 are considered orphan nodes, meaning they are not connected to any other nodes in the graph. These nodes may represent incomplete data or entities that have not yet been linked to the rest of the dataset.\n",
    "    - In this database, there are orphan nodes of type `COUNTRIES`, `CITIES`, `BREWERIES`, `BEERS`, `REVIEWS`, and `USER`.\n",
    "\n",
    "- **`Min_PropertyCount` and `Max_PropertyCount`**: The consistency in `Min_PropertyCount` and `Max_PropertyCount` across all labels suggests that each node type has a uniform set of properties."
   ]
  },
  {
   "cell_type": "code",
   "execution_count": 18,
   "metadata": {},
   "outputs": [
    {
     "name": "stderr",
     "output_type": "stream",
     "text": [
      "100%|██████████| 27/27 [08:04<00:00, 17.95s/it]\n"
     ]
    },
    {
     "data": {
      "text/html": [
       "<div>\n",
       "<style scoped>\n",
       "    .dataframe tbody tr th:only-of-type {\n",
       "        vertical-align: middle;\n",
       "    }\n",
       "\n",
       "    .dataframe tbody tr th {\n",
       "        vertical-align: top;\n",
       "    }\n",
       "\n",
       "    .dataframe thead th {\n",
       "        text-align: right;\n",
       "    }\n",
       "</style>\n",
       "<table border=\"1\" class=\"dataframe\">\n",
       "  <thead>\n",
       "    <tr style=\"text-align: right;\">\n",
       "      <th></th>\n",
       "      <th></th>\n",
       "      <th>Count</th>\n",
       "      <th>Distinct Count</th>\n",
       "      <th>Mean</th>\n",
       "      <th>Min</th>\n",
       "      <th>Max</th>\n",
       "      <th>Missing Count</th>\n",
       "      <th>Missing Count (%)</th>\n",
       "    </tr>\n",
       "    <tr>\n",
       "      <th>Node</th>\n",
       "      <th>Property</th>\n",
       "      <th></th>\n",
       "      <th></th>\n",
       "      <th></th>\n",
       "      <th></th>\n",
       "      <th></th>\n",
       "      <th></th>\n",
       "      <th></th>\n",
       "    </tr>\n",
       "  </thead>\n",
       "  <tbody>\n",
       "    <tr>\n",
       "      <th rowspan=\"8\" valign=\"top\">BEERS</th>\n",
       "      <th>abv</th>\n",
       "      <td>372718</td>\n",
       "      <td>939</td>\n",
       "      <td>6.53</td>\n",
       "      <td>0.01</td>\n",
       "      <td>100</td>\n",
       "      <td>45028</td>\n",
       "      <td>12.08</td>\n",
       "    </tr>\n",
       "    <tr>\n",
       "      <th>availability</th>\n",
       "      <td>417746</td>\n",
       "      <td>20</td>\n",
       "      <td>-</td>\n",
       "      <td>-</td>\n",
       "      <td>-</td>\n",
       "      <td>0</td>\n",
       "      <td>0</td>\n",
       "    </tr>\n",
       "    <tr>\n",
       "      <th>brewery_id</th>\n",
       "      <td>417746</td>\n",
       "      <td>16569</td>\n",
       "      <td>24 592.84</td>\n",
       "      <td>1</td>\n",
       "      <td>54 144</td>\n",
       "      <td>0</td>\n",
       "      <td>0</td>\n",
       "    </tr>\n",
       "    <tr>\n",
       "      <th>id</th>\n",
       "      <td>417746</td>\n",
       "      <td>358873</td>\n",
       "      <td>189 196.88</td>\n",
       "      <td>3</td>\n",
       "      <td>374 406</td>\n",
       "      <td>0</td>\n",
       "      <td>0</td>\n",
       "    </tr>\n",
       "    <tr>\n",
       "      <th>name</th>\n",
       "      <td>417746</td>\n",
       "      <td>298567</td>\n",
       "      <td>-</td>\n",
       "      <td>-</td>\n",
       "      <td>-</td>\n",
       "      <td>0</td>\n",
       "      <td>0</td>\n",
       "    </tr>\n",
       "    <tr>\n",
       "      <th>notes</th>\n",
       "      <td>417746</td>\n",
       "      <td>48313</td>\n",
       "      <td>-</td>\n",
       "      <td>-</td>\n",
       "      <td>-</td>\n",
       "      <td>55</td>\n",
       "      <td>0.01</td>\n",
       "    </tr>\n",
       "    <tr>\n",
       "      <th>retired</th>\n",
       "      <td>417746</td>\n",
       "      <td>2</td>\n",
       "      <td>-</td>\n",
       "      <td>-</td>\n",
       "      <td>-</td>\n",
       "      <td>0</td>\n",
       "      <td>0</td>\n",
       "    </tr>\n",
       "    <tr>\n",
       "      <th>state</th>\n",
       "      <td>417746</td>\n",
       "      <td>68</td>\n",
       "      <td>-</td>\n",
       "      <td>-</td>\n",
       "      <td>-</td>\n",
       "      <td>70831</td>\n",
       "      <td>16.96</td>\n",
       "    </tr>\n",
       "    <tr>\n",
       "      <th rowspan=\"5\" valign=\"top\">BREWERIES</th>\n",
       "      <th>id</th>\n",
       "      <td>100694</td>\n",
       "      <td>50347</td>\n",
       "      <td>27 870.51</td>\n",
       "      <td>1</td>\n",
       "      <td>54 156</td>\n",
       "      <td>0</td>\n",
       "      <td>0</td>\n",
       "    </tr>\n",
       "    <tr>\n",
       "      <th>name</th>\n",
       "      <td>100694</td>\n",
       "      <td>45245</td>\n",
       "      <td>-</td>\n",
       "      <td>-</td>\n",
       "      <td>-</td>\n",
       "      <td>0</td>\n",
       "      <td>0</td>\n",
       "    </tr>\n",
       "    <tr>\n",
       "      <th>notes</th>\n",
       "      <td>100694</td>\n",
       "      <td>3271</td>\n",
       "      <td>-</td>\n",
       "      <td>-</td>\n",
       "      <td>-</td>\n",
       "      <td>170</td>\n",
       "      <td>0.17</td>\n",
       "    </tr>\n",
       "    <tr>\n",
       "      <th>state</th>\n",
       "      <td>100694</td>\n",
       "      <td>68</td>\n",
       "      <td>-</td>\n",
       "      <td>-</td>\n",
       "      <td>-</td>\n",
       "      <td>22542</td>\n",
       "      <td>22.39</td>\n",
       "    </tr>\n",
       "    <tr>\n",
       "      <th>types</th>\n",
       "      <td>100694</td>\n",
       "      <td>30</td>\n",
       "      <td>-</td>\n",
       "      <td>-</td>\n",
       "      <td>-</td>\n",
       "      <td>0</td>\n",
       "      <td>0</td>\n",
       "    </tr>\n",
       "    <tr>\n",
       "      <th>CITIES</th>\n",
       "      <th>name</th>\n",
       "      <td>23330</td>\n",
       "      <td>11665</td>\n",
       "      <td>-</td>\n",
       "      <td>-</td>\n",
       "      <td>-</td>\n",
       "      <td>2</td>\n",
       "      <td>0.01</td>\n",
       "    </tr>\n",
       "    <tr>\n",
       "      <th>COUNTRIES</th>\n",
       "      <th>name</th>\n",
       "      <td>400</td>\n",
       "      <td>200</td>\n",
       "      <td>-</td>\n",
       "      <td>-</td>\n",
       "      <td>-</td>\n",
       "      <td>2</td>\n",
       "      <td>0.50</td>\n",
       "    </tr>\n",
       "    <tr>\n",
       "      <th rowspan=\"10\" valign=\"top\">REVIEWS</th>\n",
       "      <th>beer_id</th>\n",
       "      <td>2549252</td>\n",
       "      <td>189645</td>\n",
       "      <td>77 459.01</td>\n",
       "      <td>3</td>\n",
       "      <td>373 128</td>\n",
       "      <td>0</td>\n",
       "      <td>0</td>\n",
       "    </tr>\n",
       "    <tr>\n",
       "      <th>date</th>\n",
       "      <td>2549252</td>\n",
       "      <td>6379</td>\n",
       "      <td>-</td>\n",
       "      <td>-</td>\n",
       "      <td>-</td>\n",
       "      <td>19</td>\n",
       "      <td>0.00</td>\n",
       "    </tr>\n",
       "    <tr>\n",
       "      <th>feel</th>\n",
       "      <td>1484819</td>\n",
       "      <td>17</td>\n",
       "      <td>3.89</td>\n",
       "      <td>1</td>\n",
       "      <td>5</td>\n",
       "      <td>1064433</td>\n",
       "      <td>71.69</td>\n",
       "    </tr>\n",
       "    <tr>\n",
       "      <th>id</th>\n",
       "      <td>2549252</td>\n",
       "      <td>2546141</td>\n",
       "      <td>4 517 442.86</td>\n",
       "      <td>1</td>\n",
       "      <td>9 073 127</td>\n",
       "      <td>0</td>\n",
       "      <td>0</td>\n",
       "    </tr>\n",
       "    <tr>\n",
       "      <th>look</th>\n",
       "      <td>1484819</td>\n",
       "      <td>17</td>\n",
       "      <td>3.95</td>\n",
       "      <td>1</td>\n",
       "      <td>5</td>\n",
       "      <td>1064433</td>\n",
       "      <td>71.69</td>\n",
       "    </tr>\n",
       "    <tr>\n",
       "      <th>overall</th>\n",
       "      <td>1484819</td>\n",
       "      <td>17</td>\n",
       "      <td>3.92</td>\n",
       "      <td>1</td>\n",
       "      <td>5</td>\n",
       "      <td>1064433</td>\n",
       "      <td>71.69</td>\n",
       "    </tr>\n",
       "    <tr>\n",
       "      <th>score</th>\n",
       "      <td>2549252</td>\n",
       "      <td>401</td>\n",
       "      <td>3.89</td>\n",
       "      <td>1</td>\n",
       "      <td>5</td>\n",
       "      <td>0</td>\n",
       "      <td>0</td>\n",
       "    </tr>\n",
       "    <tr>\n",
       "      <th>smell</th>\n",
       "      <td>1484819</td>\n",
       "      <td>17</td>\n",
       "      <td>3.89</td>\n",
       "      <td>1</td>\n",
       "      <td>5</td>\n",
       "      <td>1064433</td>\n",
       "      <td>71.69</td>\n",
       "    </tr>\n",
       "    <tr>\n",
       "      <th>taste</th>\n",
       "      <td>1484819</td>\n",
       "      <td>17</td>\n",
       "      <td>3.92</td>\n",
       "      <td>1</td>\n",
       "      <td>5</td>\n",
       "      <td>1064433</td>\n",
       "      <td>71.69</td>\n",
       "    </tr>\n",
       "    <tr>\n",
       "      <th>text</th>\n",
       "      <td>2549252</td>\n",
       "      <td>814333</td>\n",
       "      <td>-</td>\n",
       "      <td>-</td>\n",
       "      <td>-</td>\n",
       "      <td>19</td>\n",
       "      <td>0.00</td>\n",
       "    </tr>\n",
       "    <tr>\n",
       "      <th>STYLE</th>\n",
       "      <th>name</th>\n",
       "      <td>113</td>\n",
       "      <td>113</td>\n",
       "      <td>-</td>\n",
       "      <td>-</td>\n",
       "      <td>-</td>\n",
       "      <td>1</td>\n",
       "      <td>0.88</td>\n",
       "    </tr>\n",
       "    <tr>\n",
       "      <th>USER</th>\n",
       "      <th>name</th>\n",
       "      <td>123935</td>\n",
       "      <td>123935</td>\n",
       "      <td>-</td>\n",
       "      <td>-</td>\n",
       "      <td>-</td>\n",
       "      <td>1</td>\n",
       "      <td>0.00</td>\n",
       "    </tr>\n",
       "  </tbody>\n",
       "</table>\n",
       "</div>"
      ],
      "text/plain": [
       "                          Count  Distinct Count          Mean   Min  \\\n",
       "Node      Property                                                    \n",
       "BEERS     abv            372718             939          6.53  0.01   \n",
       "          availability   417746              20             -     -   \n",
       "          brewery_id     417746           16569     24 592.84     1   \n",
       "          id             417746          358873    189 196.88     3   \n",
       "          name           417746          298567             -     -   \n",
       "          notes          417746           48313             -     -   \n",
       "          retired        417746               2             -     -   \n",
       "          state          417746              68             -     -   \n",
       "BREWERIES id             100694           50347     27 870.51     1   \n",
       "          name           100694           45245             -     -   \n",
       "          notes          100694            3271             -     -   \n",
       "          state          100694              68             -     -   \n",
       "          types          100694              30             -     -   \n",
       "CITIES    name            23330           11665             -     -   \n",
       "COUNTRIES name              400             200             -     -   \n",
       "REVIEWS   beer_id       2549252          189645     77 459.01     3   \n",
       "          date          2549252            6379             -     -   \n",
       "          feel          1484819              17          3.89     1   \n",
       "          id            2549252         2546141  4 517 442.86     1   \n",
       "          look          1484819              17          3.95     1   \n",
       "          overall       1484819              17          3.92     1   \n",
       "          score         2549252             401          3.89     1   \n",
       "          smell         1484819              17          3.89     1   \n",
       "          taste         1484819              17          3.92     1   \n",
       "          text          2549252          814333             -     -   \n",
       "STYLE     name              113             113             -     -   \n",
       "USER      name           123935          123935             -     -   \n",
       "\n",
       "                              Max  Missing Count Missing Count (%)  \n",
       "Node      Property                                                  \n",
       "BEERS     abv                 100          45028             12.08  \n",
       "          availability          -              0                 0  \n",
       "          brewery_id       54 144              0                 0  \n",
       "          id              374 406              0                 0  \n",
       "          name                  -              0                 0  \n",
       "          notes                 -             55              0.01  \n",
       "          retired               -              0                 0  \n",
       "          state                 -          70831             16.96  \n",
       "BREWERIES id               54 156              0                 0  \n",
       "          name                  -              0                 0  \n",
       "          notes                 -            170              0.17  \n",
       "          state                 -          22542             22.39  \n",
       "          types                 -              0                 0  \n",
       "CITIES    name                  -              2              0.01  \n",
       "COUNTRIES name                  -              2              0.50  \n",
       "REVIEWS   beer_id         373 128              0                 0  \n",
       "          date                  -             19              0.00  \n",
       "          feel                  5        1064433             71.69  \n",
       "          id            9 073 127              0                 0  \n",
       "          look                  5        1064433             71.69  \n",
       "          overall               5        1064433             71.69  \n",
       "          score                 5              0                 0  \n",
       "          smell                 5        1064433             71.69  \n",
       "          taste                 5        1064433             71.69  \n",
       "          text                  -             19              0.00  \n",
       "STYLE     name                  -              1              0.88  \n",
       "USER      name                  -              1              0.00  "
      ]
     },
     "execution_count": 18,
     "metadata": {},
     "output_type": "execute_result"
    }
   ],
   "source": [
    "# 1.12 Get a summary statistics of each property for each node label in the database\n",
    "#     Source of the query: https://neo4j.com/blog/developer/data-profiling-holistic-view-neo4j/\n",
    "#                          https://neo4j.com/docs/cypher-manual/current/functions/aggregating/\n",
    "\n",
    "# Get all properties for each node label\n",
    "query = \"\"\"\n",
    "    CALL db.schema.nodeTypeProperties() YIELD nodeType, propertyName\n",
    "    WITH nodeType, propertyName\n",
    "    ORDER BY nodeType, propertyName\n",
    "    RETURN nodeType, propertyName\n",
    "\"\"\"\n",
    "properties_result = execute_read(driver, query)\n",
    "\n",
    "# Initialize a list to store statistics\n",
    "stats_list = []\n",
    "\n",
    "# Iterate over each property and calculate statistics\n",
    "for record in tqdm(properties_result):\n",
    "    nodeType = record['nodeType'].replace('`', '').replace(':', '')  # Remove backticks and ':'\n",
    "    propertyName = record['propertyName']\n",
    "    \n",
    "    # Construct query for each property\n",
    "    if propertyName.lower() in ['name', 'notes', 'state', 'availability', 'retired', 'types', 'date', 'text']:\n",
    "        # String properties\n",
    "        stats_query = f\"\"\"\n",
    "            MATCH (n:{nodeType})\n",
    "            RETURN\n",
    "                '{nodeType}' AS nodeType,\n",
    "                '{propertyName}' AS propertyName,\n",
    "                COUNT(n.{propertyName}) AS count,\n",
    "                COUNT(DISTINCT n.{propertyName}) AS distinctCount,\n",
    "                '-' AS mean,\n",
    "                '-' AS min,\n",
    "                '-' AS max,\n",
    "                COUNT(CASE WHEN n.{propertyName} IS NULL OR n.{propertyName} = '' OR toLower(trim(n.{propertyName})) IN ['nan', 'null', 'none', ' '] THEN 1 ELSE NULL END) AS missingCount\n",
    "        \"\"\"\n",
    "    else:\n",
    "        # Numeric properties\n",
    "        stats_query = f\"\"\"\n",
    "            MATCH (n:{nodeType})\n",
    "            WITH n, toFloat(n.{propertyName}) AS value\n",
    "            WHERE n.{propertyName} IS NOT NULL\n",
    "            RETURN\n",
    "                '{nodeType}' AS nodeType,\n",
    "                '{propertyName}' AS propertyName,\n",
    "                COUNT(value) AS count,\n",
    "                COUNT(DISTINCT value) AS distinctCount,\n",
    "                AVG(value) AS mean,\n",
    "                MIN(value) AS min,\n",
    "                MAX(value) AS max,\n",
    "                COUNT(CASE WHEN n.{propertyName} IS NULL OR n.{propertyName} = '' OR toLower(trim(n.{propertyName})) IN ['nan', 'null', 'none', ''] THEN 1 ELSE NULL END) AS missingCount\n",
    "        \"\"\"\n",
    "    \n",
    "    try:\n",
    "        stats_result = execute_read(driver, stats_query)\n",
    "        if stats_result:\n",
    "            stats_list.append(stats_result[0])\n",
    "    except Exception as e:\n",
    "        print(f\"Error processing {nodeType}.{propertyName}: {e}\")\n",
    "\n",
    "# Convert to DataFrame\n",
    "df = pd.DataFrame(stats_list, columns=['Node', 'Property', 'Count', 'Distinct Count', \n",
    "                                       'Mean', 'Min', 'Max', 'Missing Count'])                          # Convert the list to a DataFrame\n",
    "df['Missing Count (%)'] = (df['Missing Count'] / df['Count']) * 100                                     # Calculate the percentage of missing values\n",
    "df.set_index(['Node', 'Property'], inplace=True)                                                        # Set the index to Node and Property (Hierarchical Indexing)\n",
    "df.fillna('-', inplace=True)                                                                            # Fill NaN values with 0\n",
    "df = df.map(\n",
    "    lambda x: '{:,.0f}'.format(x).replace(',', ' ') if isinstance(x, float) and not np.isnan(x) and not np.isinf(x) and x == int(x) else\n",
    "              '{:,.2f}'.format(x).replace(',', ' ') if isinstance(x, float) and not np.isnan(x) and not np.isinf(x) else\n",
    "              x\n",
    ")                                                                                                                     # Format the DataFrame for better visualization\n",
    "df \n",
    "\n",
    "## Time of Execution: 2m (1st query) + 07min 38s (2nd query) = 9m 38s"
   ]
  },
  {
   "cell_type": "markdown",
   "metadata": {},
   "source": [
    "<div class=\"alert alert-block alert-info\" style=\"color: white; background-color: rgb(110, 3, 3); border: 0px; -moz-border-radius: 10px; -webkit-border-radius: 10px;\">\n",
    "\n",
    "#### **🖼️ Statistical Analysis of the Database**\n",
    "\n",
    "</div>\n",
    "\n",
    "**BEERS**\n",
    "- **`abv`**: According to [Hops & Hopes (2025)](https://www.hopsandhopes.nl/en/beers/snake-venom) the world's strongest beer is **Snake Venom** with **67.5% ABV**. We can see that the **maximum** value in the database is **100**, so we will need to verify the beers with more than **67.5% ABV**.\n",
    "- **`availability`** have **$20$** different values. We will check what are the possible values.\n",
    "- **`brewery_id`**: In total we have **$417\\;746$** brewery_ids, but **$16\\;569$** distinct brewery_ids. It is possible that some breweries have more than one beer.\n",
    "- **`id`**: In total we have **$417\\;746$** ids, but **$358\\;873$** distinct ids. We need to check the duplicates.\n",
    "- **`name`**: In total we have **$417\\;746$** names, but **$298\\;567$** distinct names. It is possible that some beers have the same name.\n",
    "- **`notes`**: In total we have **$417\\;746$** notes, but **$48\\;313$** distinct notes. Same as the **`name`** property, it is possible that some beers have the same notes.\n",
    "- **`retired`** have **$2$** different values - **`True`** and **`False`**.\n",
    "- **`state`** have **$68$** different values. We will check what are the possible values.\n",
    "\n",
    "**BREWERIES**\n",
    "\n",
    "- **`id`**: In total we have **$100\\;694$** ids, but **$50\\;347$** distinct ids. As in **`BEERS`**, it is possible that some breweries have more than one beer.\n",
    "- **`name`**: In total we have **$100\\;694$** names, but **$45\\;245$** distinct names. We need to check the duplicates.\n",
    "- **`notes`**: In total we have **$100\\;694$** notes, but **$3\\;271$** distinct notes. Same as the **`name`** property, it is possible that some breweries have the same notes.\n",
    "- **`state`** have **$68$** different values (the same as in **`BEERS`**). We will check what are the possible values.\n",
    "- **`types`** have **$30$** different values. We will check what are the possible values.\n",
    "\n",
    "**CITIES**\n",
    "\n",
    "- **`name`**: In total we have **$23\\;330$** names, but **$11\\;665$** distinct names. We need to check the duplicates.\n",
    "\n",
    "**COUNTRIES**\n",
    "\n",
    "- **`name`**: In total we have **$400$** names, but **$200$** distinct names. We need to check the duplicates.\n",
    "\n",
    "**REVIEWS**\n",
    "\n",
    "- **`beer_id`**: In total we have **$2\\;549\\;252$** beer_ids, but **$189\\;645$** distinct beer_ids. It is possible that some beers have more than one review.\n",
    "- **`date`**: We need to convert this property to **`date`** format.\n",
    "- **`feel`**, **`look`**, **`overall`**, **`smell`**, **`taste`** and **`score`**: We need to convert these properties to **`float`** format, but we can see that the values are already clean, because the **`Min`** and **`Max`** values are between **$1$** and **$5$**.\n",
    "- **`id`**: In total we have **$2\\;549\\;252$** ids, but **$2\\;546\\;141$** distinct ids. We need to check the duplicates.\n",
    "- **`text`**: In total we have **$2\\;549\\;252$** texts, but **$814\\;333$** distinct texts. It is possible that some reviews have the same text.\n",
    "\n",
    "**STYLE**\n",
    "\n",
    "- **`name`**: In total we have **$113$** names and distinct names, so we don't need to check the duplicates.\n",
    "\n",
    "**USER**\n",
    "\n",
    "- **`name`**: In total we have **$123\\;935$** names and distinct names, so we don't need to check the duplicates."
   ]
  },
  {
   "cell_type": "markdown",
   "metadata": {},
   "source": [
    "---"
   ]
  },
  {
   "cell_type": "markdown",
   "metadata": {},
   "source": [
    "## **2. Adjust the database**\n",
    "\n",
    "- Adjust the database and mention reasoning behind: \n",
    "    - Clean errors, \n",
    "    - Remove redundancies, \n",
    "    - Adjust schema as necessary\n",
    "    - Visualize the final version of database schema. [4 points]"
   ]
  },
  {
   "cell_type": "code",
   "execution_count": 19,
   "metadata": {},
   "outputs": [],
   "source": [
    "# 2. Adjust the database and mention reasoning behind: \n",
    "#    e.g. clean errors, remove redundancies, adjust schema as necessary. \n",
    "# Visualize the final version of database schema. [4 points]"
   ]
  },
  {
   "cell_type": "markdown",
   "metadata": {},
   "source": [
    "### **2.1. 🔢🔠 Adjust the data types**"
   ]
  },
  {
   "cell_type": "code",
   "execution_count": 21,
   "metadata": {},
   "outputs": [
    {
     "name": "stdout",
     "output_type": "stream",
     "text": [
      "[]\n",
      "[]\n"
     ]
    }
   ],
   "source": [
    "# 2.1. Convert BEERS.brewery_id, BEERS.id, BREWERIES.id, REVIEWS.beer_id, REVIEWS.id to integer\n",
    "# Convert BEERS.brewery_id and BEERS.id to integer\n",
    "query = \"\"\"\n",
    "    MATCH (n:BEERS)\n",
    "    SET n.brewery_id = toInteger(n.brewery_id)\n",
    "    SET n.id = toInteger(n.id);\n",
    "\"\"\"\n",
    "result = execute_write(driver, query)\n",
    "pprint(result)\n",
    "\n",
    "# Convert BREWERIES.id to integer\n",
    "query = \"\"\"\n",
    "    MATCH (n:BREWERIES)\n",
    "    SET n.id = toInteger(n.id);\n",
    "\"\"\"\n",
    "result = execute_write(driver, query)\n",
    "pprint(result)\n",
    "\n",
    "# # Convert REVIEWS.beer_id and REVIEWS.id to integer\n",
    "# query = \"\"\"\n",
    "#     MATCH (n:REVIEWS)\n",
    "#     SET n.beer_id = toInteger(n.beer_id)\n",
    "#     SET n.id = toInteger(n.id)\n",
    "# \"\"\"\n",
    "# result = execute_write(driver, query)\n",
    "# pprint(result)\n",
    "\n",
    "# {code: Neo.DatabaseError.Statement.ExecutionFailed} {message: Java heap space}"
   ]
  },
  {
   "cell_type": "markdown",
   "metadata": {},
   "source": [
    "When we run the previous query we raise an error\n",
    "\n",
    "```\n",
    "DatabaseError                             Traceback (most recent call last)\n",
    "....\n",
    "DatabaseError: {code: Neo.DatabaseError.Statement.ExecutionFailed} {message: Java heap space}\n",
    "\n",
    "\n",
    "Transaction failed and will be retried in 0.8927118089735324s (There is not enough memory to perform the current task. Please try increasing 'dbms.memory.heap.max_size' in the neo4j configuration (normally in 'conf/neo4j.conf' or, if you are using Neo4j Desktop, found through the user interface) or if you are running an embedded installation increase the heap by using '-Xmx' command line flag, and then restart the database.)\n",
    "```\n",
    "\n",
    "> To solve this problem we try to **increase the heap size** of the database, but we still get the same error. So after some research we create a function with help of the **`AI`** to ***Batch Processing*** the writing in the database.\n"
   ]
  },
  {
   "cell_type": "code",
   "execution_count": 22,
   "metadata": {},
   "outputs": [],
   "source": [
    "# Source: X. (2025). Grok 3 Beta — The Age of Reasoning Agents (Mar 07 version)[Large Language Model]. X.ai. https://x.ai/blog/grok-3\n",
    "#         Mistral. (2025). Le Chat - Mistral AI (Mar 07 version)[Large Language Model]. Mistral.ai. https://chat.mistral.ai/\n",
    "\n",
    "def execute_batch_write(driver, node_label, operation_clause, total_nodes, batch_size=100_000, desc=\"Processing batches\"):\n",
    "    \"\"\"\n",
    "    Process write operations in batches for a given node label.\n",
    "\n",
    "    Parameters:\n",
    "    - driver: Neo4j driver instance.\n",
    "    - node_label: String, the label of nodes to process (e.g., 'REVIEWS', 'BEERS').\n",
    "    - operation_clause: String, the Cypher clause to execute on matched nodes (e.g., 'SET n.prop = value').\n",
    "    - total_nodes: Integer, total number of nodes to process.\n",
    "    - batch_size: Integer, number of nodes per batch (default: 50,000).\n",
    "    - desc: String, description for tqdm progress bar (default: 'Processing batches').\n",
    "\n",
    "    Returns:\n",
    "    - None (prints progress and errors if any).\n",
    "    \"\"\"\n",
    "    for offset in tqdm(range(0, total_nodes, batch_size), desc=desc):\n",
    "        print(f\"Processing batch from offset {offset} to {offset + batch_size}\")\n",
    "        \n",
    "        # Base query template with SKIP and LIMIT integrated correctly\n",
    "        batch_query = f\"\"\"\n",
    "            MATCH (n:{node_label})\n",
    "            WITH n\n",
    "            SKIP {offset} LIMIT {batch_size}\n",
    "            {operation_clause}\n",
    "            RETURN COUNT(*)\n",
    "        \"\"\"\n",
    "        # print(batch_query.strip())  # Show the query for debugging\n",
    "        \n",
    "        try:\n",
    "            execute_write(driver, batch_query)\n",
    "        except Exception as e:\n",
    "            print(f\"Error at offset {offset}: {e}\")\n",
    "            break"
   ]
  },
  {
   "cell_type": "code",
   "execution_count": 23,
   "metadata": {},
   "outputs": [
    {
     "name": "stderr",
     "output_type": "stream",
     "text": [
      "Converting REVIEWS ids to integer:   0%|          | 0/26 [00:00<?, ?it/s]"
     ]
    },
    {
     "name": "stdout",
     "output_type": "stream",
     "text": [
      "Processing batch from offset 0 to 100000\n"
     ]
    },
    {
     "name": "stderr",
     "output_type": "stream",
     "text": [
      "Converting REVIEWS ids to integer:   4%|▍         | 1/26 [00:11<04:39, 11.19s/it]"
     ]
    },
    {
     "name": "stdout",
     "output_type": "stream",
     "text": [
      "Processing batch from offset 100000 to 200000\n"
     ]
    },
    {
     "name": "stderr",
     "output_type": "stream",
     "text": [
      "Converting REVIEWS ids to integer:   8%|▊         | 2/26 [00:16<02:58,  7.45s/it]"
     ]
    },
    {
     "name": "stdout",
     "output_type": "stream",
     "text": [
      "Processing batch from offset 200000 to 300000\n"
     ]
    },
    {
     "name": "stderr",
     "output_type": "stream",
     "text": [
      "Converting REVIEWS ids to integer:  12%|█▏        | 3/26 [00:38<05:30, 14.39s/it]"
     ]
    },
    {
     "name": "stdout",
     "output_type": "stream",
     "text": [
      "Processing batch from offset 300000 to 400000\n"
     ]
    },
    {
     "name": "stderr",
     "output_type": "stream",
     "text": [
      "Converting REVIEWS ids to integer:  15%|█▌        | 4/26 [00:47<04:29, 12.24s/it]"
     ]
    },
    {
     "name": "stdout",
     "output_type": "stream",
     "text": [
      "Processing batch from offset 400000 to 500000\n"
     ]
    },
    {
     "name": "stderr",
     "output_type": "stream",
     "text": [
      "Converting REVIEWS ids to integer:  19%|█▉        | 5/26 [00:56<03:54, 11.15s/it]"
     ]
    },
    {
     "name": "stdout",
     "output_type": "stream",
     "text": [
      "Processing batch from offset 500000 to 600000\n"
     ]
    },
    {
     "name": "stderr",
     "output_type": "stream",
     "text": [
      "Converting REVIEWS ids to integer:  23%|██▎       | 6/26 [01:19<05:04, 15.21s/it]"
     ]
    },
    {
     "name": "stdout",
     "output_type": "stream",
     "text": [
      "Processing batch from offset 600000 to 700000\n"
     ]
    },
    {
     "name": "stderr",
     "output_type": "stream",
     "text": [
      "Converting REVIEWS ids to integer:  27%|██▋       | 7/26 [01:29<04:11, 13.24s/it]"
     ]
    },
    {
     "name": "stdout",
     "output_type": "stream",
     "text": [
      "Processing batch from offset 700000 to 800000\n"
     ]
    },
    {
     "name": "stderr",
     "output_type": "stream",
     "text": [
      "Converting REVIEWS ids to integer:  31%|███       | 8/26 [01:37<03:31, 11.74s/it]"
     ]
    },
    {
     "name": "stdout",
     "output_type": "stream",
     "text": [
      "Processing batch from offset 800000 to 900000\n"
     ]
    },
    {
     "name": "stderr",
     "output_type": "stream",
     "text": [
      "Converting REVIEWS ids to integer:  35%|███▍      | 9/26 [01:46<03:02, 10.75s/it]"
     ]
    },
    {
     "name": "stdout",
     "output_type": "stream",
     "text": [
      "Processing batch from offset 900000 to 1000000\n"
     ]
    },
    {
     "name": "stderr",
     "output_type": "stream",
     "text": [
      "Converting REVIEWS ids to integer:  38%|███▊      | 10/26 [02:07<03:46, 14.15s/it]"
     ]
    },
    {
     "name": "stdout",
     "output_type": "stream",
     "text": [
      "Processing batch from offset 1000000 to 1100000\n"
     ]
    },
    {
     "name": "stderr",
     "output_type": "stream",
     "text": [
      "Converting REVIEWS ids to integer:  42%|████▏     | 11/26 [02:15<03:01, 12.11s/it]"
     ]
    },
    {
     "name": "stdout",
     "output_type": "stream",
     "text": [
      "Processing batch from offset 1100000 to 1200000\n"
     ]
    },
    {
     "name": "stderr",
     "output_type": "stream",
     "text": [
      "Converting REVIEWS ids to integer:  46%|████▌     | 12/26 [02:23<02:31, 10.84s/it]"
     ]
    },
    {
     "name": "stdout",
     "output_type": "stream",
     "text": [
      "Processing batch from offset 1200000 to 1300000\n"
     ]
    },
    {
     "name": "stderr",
     "output_type": "stream",
     "text": [
      "Converting REVIEWS ids to integer:  50%|█████     | 13/26 [02:32<02:15, 10.42s/it]"
     ]
    },
    {
     "name": "stdout",
     "output_type": "stream",
     "text": [
      "Processing batch from offset 1300000 to 1400000\n"
     ]
    },
    {
     "name": "stderr",
     "output_type": "stream",
     "text": [
      "Converting REVIEWS ids to integer:  54%|█████▍    | 14/26 [02:54<02:47, 13.95s/it]"
     ]
    },
    {
     "name": "stdout",
     "output_type": "stream",
     "text": [
      "Processing batch from offset 1400000 to 1500000\n"
     ]
    },
    {
     "name": "stderr",
     "output_type": "stream",
     "text": [
      "Converting REVIEWS ids to integer:  58%|█████▊    | 15/26 [03:02<02:12, 12.02s/it]"
     ]
    },
    {
     "name": "stdout",
     "output_type": "stream",
     "text": [
      "Processing batch from offset 1500000 to 1600000\n"
     ]
    },
    {
     "name": "stderr",
     "output_type": "stream",
     "text": [
      "Converting REVIEWS ids to integer:  62%|██████▏   | 16/26 [03:10<01:47, 10.78s/it]"
     ]
    },
    {
     "name": "stdout",
     "output_type": "stream",
     "text": [
      "Processing batch from offset 1600000 to 1700000\n"
     ]
    },
    {
     "name": "stderr",
     "output_type": "stream",
     "text": [
      "Converting REVIEWS ids to integer:  65%|██████▌   | 17/26 [03:18<01:29,  9.91s/it]"
     ]
    },
    {
     "name": "stdout",
     "output_type": "stream",
     "text": [
      "Processing batch from offset 1700000 to 1800000\n"
     ]
    },
    {
     "name": "stderr",
     "output_type": "stream",
     "text": [
      "Converting REVIEWS ids to integer:  69%|██████▉   | 18/26 [03:39<01:46, 13.33s/it]"
     ]
    },
    {
     "name": "stdout",
     "output_type": "stream",
     "text": [
      "Processing batch from offset 1800000 to 1900000\n"
     ]
    },
    {
     "name": "stderr",
     "output_type": "stream",
     "text": [
      "Converting REVIEWS ids to integer:  73%|███████▎  | 19/26 [03:47<01:21, 11.68s/it]"
     ]
    },
    {
     "name": "stdout",
     "output_type": "stream",
     "text": [
      "Processing batch from offset 1900000 to 2000000\n"
     ]
    },
    {
     "name": "stderr",
     "output_type": "stream",
     "text": [
      "Converting REVIEWS ids to integer:  77%|███████▋  | 20/26 [03:55<01:03, 10.52s/it]"
     ]
    },
    {
     "name": "stdout",
     "output_type": "stream",
     "text": [
      "Processing batch from offset 2000000 to 2100000\n"
     ]
    },
    {
     "name": "stderr",
     "output_type": "stream",
     "text": [
      "Converting REVIEWS ids to integer:  81%|████████  | 21/26 [04:02<00:47,  9.49s/it]"
     ]
    },
    {
     "name": "stdout",
     "output_type": "stream",
     "text": [
      "Processing batch from offset 2100000 to 2200000\n"
     ]
    },
    {
     "name": "stderr",
     "output_type": "stream",
     "text": [
      "Converting REVIEWS ids to integer:  85%|████████▍ | 22/26 [04:22<00:50, 12.58s/it]"
     ]
    },
    {
     "name": "stdout",
     "output_type": "stream",
     "text": [
      "Processing batch from offset 2200000 to 2300000\n"
     ]
    },
    {
     "name": "stderr",
     "output_type": "stream",
     "text": [
      "Converting REVIEWS ids to integer:  88%|████████▊ | 23/26 [04:29<00:32, 11.00s/it]"
     ]
    },
    {
     "name": "stdout",
     "output_type": "stream",
     "text": [
      "Processing batch from offset 2300000 to 2400000\n"
     ]
    },
    {
     "name": "stderr",
     "output_type": "stream",
     "text": [
      "Converting REVIEWS ids to integer:  92%|█████████▏| 24/26 [04:36<00:19,  9.86s/it]"
     ]
    },
    {
     "name": "stdout",
     "output_type": "stream",
     "text": [
      "Processing batch from offset 2400000 to 2500000\n"
     ]
    },
    {
     "name": "stderr",
     "output_type": "stream",
     "text": [
      "Converting REVIEWS ids to integer:  96%|█████████▌| 25/26 [04:43<00:09,  9.12s/it]"
     ]
    },
    {
     "name": "stdout",
     "output_type": "stream",
     "text": [
      "Processing batch from offset 2500000 to 2600000\n"
     ]
    },
    {
     "name": "stderr",
     "output_type": "stream",
     "text": [
      "Converting REVIEWS ids to integer: 100%|██████████| 26/26 [05:01<00:00, 11.60s/it]\n"
     ]
    }
   ],
   "source": [
    "# Total node counts from your exploration (1.5)\n",
    "total_reviews = 2_549_252\n",
    "operation_clause = \"SET n.beer_id = toInteger(n.beer_id), n.id = toInteger(n.id)\"\n",
    "execute_batch_write(driver, \"REVIEWS\", operation_clause, total_reviews, desc=\"Converting REVIEWS ids to integer\")"
   ]
  },
  {
   "cell_type": "code",
   "execution_count": 24,
   "metadata": {},
   "outputs": [
    {
     "name": "stdout",
     "output_type": "stream",
     "text": [
      "[<Record n.brewery_id=2199 n.id=202522>,\n",
      " <Record n.brewery_id=18604 n.id=82352>,\n",
      " <Record n.brewery_id=44306 n.id=214879>,\n",
      " <Record n.brewery_id=4378 n.id=320009>,\n",
      " <Record n.brewery_id=44617 n.id=246438>]\n",
      "[<Record n.id=19730>,\n",
      " <Record n.id=32541>,\n",
      " <Record n.id=44736>,\n",
      " <Record n.id=23372>,\n",
      " <Record n.id=35328>]\n",
      "[<Record n.beer_id=125646 n.id=1>,\n",
      " <Record n.beer_id=125646 n.id=2>,\n",
      " <Record n.beer_id=125646 n.id=3>,\n",
      " <Record n.beer_id=125646 n.id=4>,\n",
      " <Record n.beer_id=125646 n.id=6>]\n"
     ]
    }
   ],
   "source": [
    "# Verify the changes\n",
    "query = \"\"\"\n",
    "    MATCH (n:BEERS)\n",
    "    RETURN n.brewery_id, n.id\n",
    "    LIMIT 5\n",
    "\"\"\"\n",
    "result = execute_read(driver, query)\n",
    "pprint(result)\n",
    "\n",
    "query = \"\"\"\n",
    "    MATCH (n:BREWERIES)\n",
    "    RETURN n.id\n",
    "    LIMIT 5\n",
    "\"\"\"\n",
    "result = execute_read(driver, query)\n",
    "pprint(result)\n",
    "\n",
    "query = \"\"\"\n",
    "    MATCH (n:REVIEWS)\n",
    "    RETURN n.beer_id, n.id\n",
    "    LIMIT 5\n",
    "\"\"\"\n",
    "result = execute_read(driver, query)\n",
    "pprint(result)"
   ]
  },
  {
   "cell_type": "code",
   "execution_count": 25,
   "metadata": {},
   "outputs": [
    {
     "name": "stdout",
     "output_type": "stream",
     "text": [
      "[]\n"
     ]
    },
    {
     "name": "stderr",
     "output_type": "stream",
     "text": [
      "Converting REVIEWS properties to float:   0%|          | 0/11 [00:00<?, ?it/s]"
     ]
    },
    {
     "name": "stdout",
     "output_type": "stream",
     "text": [
      "Processing batch from offset 0 to 250000\n"
     ]
    },
    {
     "name": "stderr",
     "output_type": "stream",
     "text": [
      "Converting REVIEWS properties to float:   9%|▉         | 1/11 [00:36<06:07, 36.73s/it]"
     ]
    },
    {
     "name": "stdout",
     "output_type": "stream",
     "text": [
      "Processing batch from offset 250000 to 500000\n"
     ]
    },
    {
     "name": "stderr",
     "output_type": "stream",
     "text": [
      "Converting REVIEWS properties to float:  18%|█▊        | 2/11 [01:03<04:36, 30.76s/it]"
     ]
    },
    {
     "name": "stdout",
     "output_type": "stream",
     "text": [
      "Processing batch from offset 500000 to 750000\n"
     ]
    },
    {
     "name": "stderr",
     "output_type": "stream",
     "text": [
      "Converting REVIEWS properties to float:  27%|██▋       | 3/11 [01:40<04:31, 33.92s/it]"
     ]
    },
    {
     "name": "stdout",
     "output_type": "stream",
     "text": [
      "Processing batch from offset 750000 to 1000000\n"
     ]
    },
    {
     "name": "stderr",
     "output_type": "stream",
     "text": [
      "Converting REVIEWS properties to float:  36%|███▋      | 4/11 [02:03<03:27, 29.59s/it]"
     ]
    },
    {
     "name": "stdout",
     "output_type": "stream",
     "text": [
      "Processing batch from offset 1000000 to 1250000\n"
     ]
    },
    {
     "name": "stderr",
     "output_type": "stream",
     "text": [
      "Converting REVIEWS properties to float:  45%|████▌     | 5/11 [02:40<03:12, 32.16s/it]"
     ]
    },
    {
     "name": "stdout",
     "output_type": "stream",
     "text": [
      "Processing batch from offset 1250000 to 1500000\n"
     ]
    },
    {
     "name": "stderr",
     "output_type": "stream",
     "text": [
      "Converting REVIEWS properties to float:  55%|█████▍    | 6/11 [03:17<02:48, 33.76s/it]"
     ]
    },
    {
     "name": "stdout",
     "output_type": "stream",
     "text": [
      "Processing batch from offset 1500000 to 1750000\n"
     ]
    },
    {
     "name": "stderr",
     "output_type": "stream",
     "text": [
      "Converting REVIEWS properties to float:  64%|██████▎   | 7/11 [03:40<02:00, 30.23s/it]"
     ]
    },
    {
     "name": "stdout",
     "output_type": "stream",
     "text": [
      "Processing batch from offset 1750000 to 2000000\n"
     ]
    },
    {
     "name": "stderr",
     "output_type": "stream",
     "text": [
      "Converting REVIEWS properties to float:  73%|███████▎  | 8/11 [04:15<01:35, 31.75s/it]"
     ]
    },
    {
     "name": "stdout",
     "output_type": "stream",
     "text": [
      "Processing batch from offset 2000000 to 2250000\n"
     ]
    },
    {
     "name": "stderr",
     "output_type": "stream",
     "text": [
      "Converting REVIEWS properties to float:  82%|████████▏ | 9/11 [04:36<00:56, 28.47s/it]"
     ]
    },
    {
     "name": "stdout",
     "output_type": "stream",
     "text": [
      "Processing batch from offset 2250000 to 2500000\n"
     ]
    },
    {
     "name": "stderr",
     "output_type": "stream",
     "text": [
      "Converting REVIEWS properties to float:  91%|█████████ | 10/11 [05:11<00:30, 30.31s/it]"
     ]
    },
    {
     "name": "stdout",
     "output_type": "stream",
     "text": [
      "Processing batch from offset 2500000 to 2750000\n"
     ]
    },
    {
     "name": "stderr",
     "output_type": "stream",
     "text": [
      "Converting REVIEWS properties to float: 100%|██████████| 11/11 [05:15<00:00, 28.69s/it]\n"
     ]
    }
   ],
   "source": [
    "# 2.1. Convert BEERS.abv, REVIEWS.look, REVIEWS.overall, REVIEWS.score, REVIEWS.smell, REVIEWS.taste to float\n",
    "query = \"\"\"\n",
    "    MATCH (n:BEERS)\n",
    "    SET n.abv = toFloat(n.abv);\n",
    "\"\"\"\n",
    "result = execute_write(driver, query)\n",
    "pprint(result)\n",
    "\n",
    "# query = \"\"\"\n",
    "#     MATCH (n:REVIEWS)\n",
    "#     SET n.feel = toFloat(n.feel)\n",
    "#     SET n.look = toFloat(n.look)\n",
    "#     SET n.overall = toFloat(n.overall)\n",
    "#     SET n.score = toFloat(n.score)\n",
    "#     SET n.smell = toFloat(n.smell)\n",
    "#     SET n.taste = toFloat(n.taste)\n",
    "# \"\"\"\n",
    "# result = execute_write(driver, query)\n",
    "# pprint(result)                                      # Original query failed due to Java heap space error\n",
    "\n",
    "# Total node counts from your exploration (1.5)\n",
    "total_reviews = 2_549_252\n",
    "\n",
    "# Convert REVIEWS properties to float in batches\n",
    "operation_clause = \"\"\"\n",
    "    SET n.feel = toFloat(n.feel),\n",
    "        n.look = toFloat(n.look), \n",
    "        n.overall = toFloat(n.overall), \n",
    "        n.score = toFloat(n.score), \n",
    "        n.smell = toFloat(n.smell), \n",
    "        n.taste = toFloat(n.taste)\n",
    "\"\"\"\n",
    "execute_batch_write(driver, \"REVIEWS\", operation_clause, total_reviews, batch_size=250_000,  desc=\"Converting REVIEWS properties to float\")"
   ]
  },
  {
   "cell_type": "code",
   "execution_count": 26,
   "metadata": {},
   "outputs": [
    {
     "name": "stdout",
     "output_type": "stream",
     "text": [
      "[<Record n.abv=7.3>,\n",
      " <Record n.abv=10.4>,\n",
      " <Record n.abv=4.0>,\n",
      " <Record n.abv=8.7>,\n",
      " <Record n.abv=5.1>]\n",
      "[<Record n.look=4.5 n.overall=4.5 n.score=4.5 n.smell=4.5 n.taste=4.5>,\n",
      " <Record n.look=4.75 n.overall=4.75 n.score=4.75 n.smell=4.75 n.taste=4.75>,\n",
      " <Record n.look=4.75 n.overall=4.5 n.score=4.58 n.smell=4.75 n.taste=4.5>,\n",
      " <Record n.look=4.25 n.overall=4.25 n.score=4.31 n.smell=4.5 n.taste=4.25>,\n",
      " <Record n.look=4.75 n.overall=4.75 n.score=4.69 n.smell=4.5 n.taste=4.75>]\n"
     ]
    }
   ],
   "source": [
    "# Verify the changes\n",
    "query = \"\"\"\n",
    "    MATCH (n:BEERS)\n",
    "    RETURN n.abv\n",
    "    LIMIT 5\n",
    "\"\"\"\n",
    "result = execute_read(driver, query)\n",
    "pprint(result)\n",
    "\n",
    "query = \"\"\"\n",
    "    MATCH (n:REVIEWS)\n",
    "    RETURN n.look, n.overall, n.score, n.smell, n.taste\n",
    "    LIMIT 5\n",
    "\"\"\"\n",
    "result = execute_read(driver, query)\n",
    "pprint(result)"
   ]
  },
  {
   "cell_type": "code",
   "execution_count": 27,
   "metadata": {},
   "outputs": [
    {
     "name": "stdout",
     "output_type": "stream",
     "text": [
      "[<Record date='2017-12-21'>,\n",
      " <Record date='2017-12-20'>,\n",
      " <Record date='2017-12-19'>,\n",
      " <Record date='2017-12-10'>,\n",
      " <Record date='2017-12-09'>]\n"
     ]
    }
   ],
   "source": [
    "# 2.1. Convert REVIEWS.date to date format\n",
    "#      Source: https://neo4j.com/developer/kb/neo4j-string-to-date/\n",
    "\n",
    "# Confirm that the date format is in the correct format (YYYY-MM-DD)\n",
    "query = \"\"\"\n",
    "    MATCH (n:REVIEWS)\n",
    "    WITH n.date AS date\n",
    "    RETURN DISTINCT date\n",
    "    LIMIT 5\n",
    "\"\"\"\n",
    "result = execute_read(driver, query)\n",
    "pprint(result)"
   ]
  },
  {
   "cell_type": "code",
   "execution_count": 28,
   "metadata": {},
   "outputs": [
    {
     "name": "stderr",
     "output_type": "stream",
     "text": [
      "Converting REVIEWS date to date format:   0%|          | 0/11 [00:00<?, ?it/s]"
     ]
    },
    {
     "name": "stdout",
     "output_type": "stream",
     "text": [
      "Processing batch from offset 0 to 250000\n"
     ]
    },
    {
     "name": "stderr",
     "output_type": "stream",
     "text": [
      "Converting REVIEWS date to date format:   9%|▉         | 1/11 [00:07<01:11,  7.10s/it]"
     ]
    },
    {
     "name": "stdout",
     "output_type": "stream",
     "text": [
      "Processing batch from offset 250000 to 500000\n"
     ]
    },
    {
     "name": "stderr",
     "output_type": "stream",
     "text": [
      "Converting REVIEWS date to date format:  18%|█▊        | 2/11 [00:12<00:53,  5.98s/it]"
     ]
    },
    {
     "name": "stdout",
     "output_type": "stream",
     "text": [
      "Processing batch from offset 500000 to 750000\n"
     ]
    },
    {
     "name": "stderr",
     "output_type": "stream",
     "text": [
      "Converting REVIEWS date to date format:  27%|██▋       | 3/11 [00:18<00:49,  6.22s/it]"
     ]
    },
    {
     "name": "stdout",
     "output_type": "stream",
     "text": [
      "Processing batch from offset 750000 to 1000000\n"
     ]
    },
    {
     "name": "stderr",
     "output_type": "stream",
     "text": [
      "Converting REVIEWS date to date format:  36%|███▋      | 4/11 [00:25<00:45,  6.55s/it]"
     ]
    },
    {
     "name": "stdout",
     "output_type": "stream",
     "text": [
      "Processing batch from offset 1000000 to 1250000\n"
     ]
    },
    {
     "name": "stderr",
     "output_type": "stream",
     "text": [
      "Converting REVIEWS date to date format:  45%|████▌     | 5/11 [00:32<00:39,  6.58s/it]"
     ]
    },
    {
     "name": "stdout",
     "output_type": "stream",
     "text": [
      "Processing batch from offset 1250000 to 1500000\n"
     ]
    },
    {
     "name": "stderr",
     "output_type": "stream",
     "text": [
      "Converting REVIEWS date to date format:  55%|█████▍    | 6/11 [00:39<00:33,  6.80s/it]"
     ]
    },
    {
     "name": "stdout",
     "output_type": "stream",
     "text": [
      "Processing batch from offset 1500000 to 1750000\n"
     ]
    },
    {
     "name": "stderr",
     "output_type": "stream",
     "text": [
      "Converting REVIEWS date to date format:  64%|██████▎   | 7/11 [01:00<00:45, 11.27s/it]"
     ]
    },
    {
     "name": "stdout",
     "output_type": "stream",
     "text": [
      "Processing batch from offset 1750000 to 2000000\n"
     ]
    },
    {
     "name": "stderr",
     "output_type": "stream",
     "text": [
      "Converting REVIEWS date to date format:  73%|███████▎  | 8/11 [01:07<00:29,  9.99s/it]"
     ]
    },
    {
     "name": "stdout",
     "output_type": "stream",
     "text": [
      "Processing batch from offset 2000000 to 2250000\n"
     ]
    },
    {
     "name": "stderr",
     "output_type": "stream",
     "text": [
      "Converting REVIEWS date to date format:  82%|████████▏ | 9/11 [01:14<00:18,  9.18s/it]"
     ]
    },
    {
     "name": "stdout",
     "output_type": "stream",
     "text": [
      "Processing batch from offset 2250000 to 2500000\n"
     ]
    },
    {
     "name": "stderr",
     "output_type": "stream",
     "text": [
      "Converting REVIEWS date to date format:  91%|█████████ | 10/11 [01:22<00:08,  8.65s/it]"
     ]
    },
    {
     "name": "stdout",
     "output_type": "stream",
     "text": [
      "Processing batch from offset 2500000 to 2750000\n"
     ]
    },
    {
     "name": "stderr",
     "output_type": "stream",
     "text": [
      "Converting REVIEWS date to date format: 100%|██████████| 11/11 [01:23<00:00,  7.63s/it]\n"
     ]
    }
   ],
   "source": [
    "# Total node counts from your exploration (1.5)\n",
    "total_reviews = 2_549_252\n",
    "\n",
    "# Convert REVIEWS.date to date format in batches\n",
    "operation_clause = \"\"\"\n",
    "    SET n.date = date(n.date)\n",
    "\"\"\"\n",
    "execute_batch_write(driver, \"REVIEWS\", operation_clause, total_reviews, batch_size=250_000, desc=\"Converting REVIEWS date to date format\")"
   ]
  },
  {
   "cell_type": "code",
   "execution_count": 29,
   "metadata": {},
   "outputs": [
    {
     "name": "stdout",
     "output_type": "stream",
     "text": [
      "[<Record n.date=neo4j.time.Date(2017, 12, 21)>,\n",
      " <Record n.date=neo4j.time.Date(2017, 12, 21)>,\n",
      " <Record n.date=neo4j.time.Date(2017, 12, 20)>,\n",
      " <Record n.date=neo4j.time.Date(2017, 12, 20)>,\n",
      " <Record n.date=neo4j.time.Date(2017, 12, 19)>]\n"
     ]
    }
   ],
   "source": [
    "# Verify the changes\n",
    "query = \"\"\"\n",
    "    MATCH (n:REVIEWS)\n",
    "    RETURN n.date\n",
    "    LIMIT 5\n",
    "\"\"\"\n",
    "result = execute_read(driver, query)\n",
    "pprint(result)"
   ]
  },
  {
   "cell_type": "code",
   "execution_count": 30,
   "metadata": {},
   "outputs": [
    {
     "name": "stdout",
     "output_type": "stream",
     "text": [
      "[]\n"
     ]
    }
   ],
   "source": [
    "# Convert BEERS.retired to boolean format\n",
    "query = \"\"\"\n",
    "    MATCH (r:BEERS)\n",
    "    SET r.retired = CASE \n",
    "            WHEN toLower(trim(r.retired)) = 't' THEN true \n",
    "            WHEN toLower(trim(r.retired)) = 'f' THEN false \n",
    "            ELSE r.retired\n",
    "        END \n",
    "\"\"\"\n",
    "result = execute_write(driver, query)\n",
    "pprint(result)"
   ]
  },
  {
   "cell_type": "code",
   "execution_count": 31,
   "metadata": {},
   "outputs": [
    {
     "name": "stdout",
     "output_type": "stream",
     "text": [
      "[<Record n.retired=False>,\n",
      " <Record n.retired=False>,\n",
      " <Record n.retired=True>,\n",
      " <Record n.retired=False>,\n",
      " <Record n.retired=False>]\n"
     ]
    }
   ],
   "source": [
    "# Verify the changes\n",
    "query = \"\"\"\n",
    "    MATCH (n:BEERS)\n",
    "    RETURN n.retired\n",
    "    LIMIT 5\n",
    "\"\"\"\n",
    "result = execute_read(driver, query)\n",
    "pprint(result)"
   ]
  },
  {
   "cell_type": "code",
   "execution_count": 32,
   "metadata": {},
   "outputs": [
    {
     "name": "stdout",
     "output_type": "stream",
     "text": [
      "Properties and types for each node label:\n",
      "Node Label: :`BEERS`        | Property: abv             | Type(s): Double               | Mandatory: False\n",
      "Node Label: :`BEERS`        | Property: availability    | Type(s): String               | Mandatory: True\n",
      "Node Label: :`BEERS`        | Property: brewery_id      | Type(s): Long                 | Mandatory: True\n",
      "Node Label: :`BEERS`        | Property: id              | Type(s): Long                 | Mandatory: True\n",
      "Node Label: :`BEERS`        | Property: name            | Type(s): String               | Mandatory: True\n",
      "Node Label: :`BEERS`        | Property: notes           | Type(s): String               | Mandatory: True\n",
      "Node Label: :`BEERS`        | Property: retired         | Type(s): Boolean              | Mandatory: True\n",
      "Node Label: :`BEERS`        | Property: state           | Type(s): String               | Mandatory: True\n",
      "Node Label: :`BREWERIES`    | Property: id              | Type(s): Long                 | Mandatory: True\n",
      "Node Label: :`BREWERIES`    | Property: name            | Type(s): String               | Mandatory: True\n",
      "Node Label: :`BREWERIES`    | Property: notes           | Type(s): String               | Mandatory: True\n",
      "Node Label: :`BREWERIES`    | Property: state           | Type(s): String               | Mandatory: True\n",
      "Node Label: :`BREWERIES`    | Property: types           | Type(s): String               | Mandatory: True\n",
      "Node Label: :`CITIES`       | Property: name            | Type(s): String               | Mandatory: True\n",
      "Node Label: :`COUNTRIES`    | Property: name            | Type(s): String               | Mandatory: True\n",
      "Node Label: :`REVIEWS`      | Property: beer_id         | Type(s): Long                 | Mandatory: True\n",
      "Node Label: :`REVIEWS`      | Property: date            | Type(s): Date                 | Mandatory: True\n",
      "Node Label: :`REVIEWS`      | Property: feel            | Type(s): Double               | Mandatory: False\n",
      "Node Label: :`REVIEWS`      | Property: id              | Type(s): Long                 | Mandatory: True\n",
      "Node Label: :`REVIEWS`      | Property: look            | Type(s): Double               | Mandatory: False\n",
      "Node Label: :`REVIEWS`      | Property: overall         | Type(s): Double               | Mandatory: False\n",
      "Node Label: :`REVIEWS`      | Property: score           | Type(s): Double               | Mandatory: True\n",
      "Node Label: :`REVIEWS`      | Property: smell           | Type(s): Double               | Mandatory: False\n",
      "Node Label: :`REVIEWS`      | Property: taste           | Type(s): Double               | Mandatory: False\n",
      "Node Label: :`REVIEWS`      | Property: text            | Type(s): String               | Mandatory: True\n",
      "Node Label: :`STYLE`        | Property: name            | Type(s): String               | Mandatory: True\n",
      "Node Label: :`USER`         | Property: name            | Type(s): String               | Mandatory: True\n"
     ]
    }
   ],
   "source": [
    "# Re-run the statistics query (1.7 & 1.12) to get the updated schema after the data type conversions\n",
    "\n",
    "# Get all properties for each node label\n",
    "query = \"\"\"\n",
    "    CALL db.schema.nodeTypeProperties() \n",
    "    YIELD nodeType, propertyName, propertyTypes, mandatory \n",
    "    WITH nodeType, propertyName, propertyTypes, mandatory \n",
    "    ORDER BY nodeType, propertyName \n",
    "    RETURN nodeType, propertyName, propertyTypes, mandatory\n",
    "\"\"\"\n",
    "properties_result = execute_read(driver, query)\n",
    "\n",
    "print(\"Properties and types for each node label:\")\n",
    "for rec in properties_result:\n",
    "    print(f\"Node Label: {rec['nodeType']:<15} | Property: {rec['propertyName']:<15} | Type(s): {', '.join(rec['propertyTypes']):<20} | Mandatory: {rec['mandatory']}\")"
   ]
  },
  {
   "cell_type": "code",
   "execution_count": 33,
   "metadata": {},
   "outputs": [
    {
     "name": "stdout",
     "output_type": "stream",
     "text": [
      "\n",
      "\n",
      "Summary statistics of each property for each node label in the database:\n"
     ]
    },
    {
     "name": "stderr",
     "output_type": "stream",
     "text": [
      "100%|██████████| 27/27 [07:22<00:00, 16.41s/it]\n"
     ]
    },
    {
     "data": {
      "text/html": [
       "<div>\n",
       "<style scoped>\n",
       "    .dataframe tbody tr th:only-of-type {\n",
       "        vertical-align: middle;\n",
       "    }\n",
       "\n",
       "    .dataframe tbody tr th {\n",
       "        vertical-align: top;\n",
       "    }\n",
       "\n",
       "    .dataframe thead th {\n",
       "        text-align: right;\n",
       "    }\n",
       "</style>\n",
       "<table border=\"1\" class=\"dataframe\">\n",
       "  <thead>\n",
       "    <tr style=\"text-align: right;\">\n",
       "      <th></th>\n",
       "      <th></th>\n",
       "      <th>Count</th>\n",
       "      <th>Distinct Count</th>\n",
       "      <th>Mean</th>\n",
       "      <th>Min</th>\n",
       "      <th>Max</th>\n",
       "      <th>Missing Count</th>\n",
       "      <th>Missing Count (%)</th>\n",
       "    </tr>\n",
       "    <tr>\n",
       "      <th>Node</th>\n",
       "      <th>Property</th>\n",
       "      <th></th>\n",
       "      <th></th>\n",
       "      <th></th>\n",
       "      <th></th>\n",
       "      <th></th>\n",
       "      <th></th>\n",
       "      <th></th>\n",
       "    </tr>\n",
       "  </thead>\n",
       "  <tbody>\n",
       "    <tr>\n",
       "      <th rowspan=\"8\" valign=\"top\">BEERS</th>\n",
       "      <th>abv</th>\n",
       "      <td>372718</td>\n",
       "      <td>939</td>\n",
       "      <td>6.53</td>\n",
       "      <td>0.01</td>\n",
       "      <td>100</td>\n",
       "      <td>45028</td>\n",
       "      <td>12.08</td>\n",
       "    </tr>\n",
       "    <tr>\n",
       "      <th>availability</th>\n",
       "      <td>417746</td>\n",
       "      <td>20</td>\n",
       "      <td>-</td>\n",
       "      <td>-</td>\n",
       "      <td>-</td>\n",
       "      <td>0</td>\n",
       "      <td>0</td>\n",
       "    </tr>\n",
       "    <tr>\n",
       "      <th>brewery_id</th>\n",
       "      <td>417746</td>\n",
       "      <td>16569</td>\n",
       "      <td>24 592.84</td>\n",
       "      <td>1</td>\n",
       "      <td>54144</td>\n",
       "      <td>0</td>\n",
       "      <td>0</td>\n",
       "    </tr>\n",
       "    <tr>\n",
       "      <th>id</th>\n",
       "      <td>417746</td>\n",
       "      <td>358873</td>\n",
       "      <td>189 196.88</td>\n",
       "      <td>3</td>\n",
       "      <td>374406</td>\n",
       "      <td>0</td>\n",
       "      <td>0</td>\n",
       "    </tr>\n",
       "    <tr>\n",
       "      <th>name</th>\n",
       "      <td>417746</td>\n",
       "      <td>298567</td>\n",
       "      <td>-</td>\n",
       "      <td>-</td>\n",
       "      <td>-</td>\n",
       "      <td>0</td>\n",
       "      <td>0</td>\n",
       "    </tr>\n",
       "    <tr>\n",
       "      <th>notes</th>\n",
       "      <td>417746</td>\n",
       "      <td>48313</td>\n",
       "      <td>-</td>\n",
       "      <td>-</td>\n",
       "      <td>-</td>\n",
       "      <td>55</td>\n",
       "      <td>0.01</td>\n",
       "    </tr>\n",
       "    <tr>\n",
       "      <th>retired</th>\n",
       "      <td>417746</td>\n",
       "      <td>2</td>\n",
       "      <td>-</td>\n",
       "      <td>-</td>\n",
       "      <td>-</td>\n",
       "      <td>0</td>\n",
       "      <td>0</td>\n",
       "    </tr>\n",
       "    <tr>\n",
       "      <th>state</th>\n",
       "      <td>417746</td>\n",
       "      <td>68</td>\n",
       "      <td>-</td>\n",
       "      <td>-</td>\n",
       "      <td>-</td>\n",
       "      <td>70831</td>\n",
       "      <td>16.96</td>\n",
       "    </tr>\n",
       "    <tr>\n",
       "      <th rowspan=\"5\" valign=\"top\">BREWERIES</th>\n",
       "      <th>id</th>\n",
       "      <td>100694</td>\n",
       "      <td>50347</td>\n",
       "      <td>27 870.51</td>\n",
       "      <td>1</td>\n",
       "      <td>54156</td>\n",
       "      <td>0</td>\n",
       "      <td>0</td>\n",
       "    </tr>\n",
       "    <tr>\n",
       "      <th>name</th>\n",
       "      <td>100694</td>\n",
       "      <td>45245</td>\n",
       "      <td>-</td>\n",
       "      <td>-</td>\n",
       "      <td>-</td>\n",
       "      <td>0</td>\n",
       "      <td>0</td>\n",
       "    </tr>\n",
       "    <tr>\n",
       "      <th>notes</th>\n",
       "      <td>100694</td>\n",
       "      <td>3271</td>\n",
       "      <td>-</td>\n",
       "      <td>-</td>\n",
       "      <td>-</td>\n",
       "      <td>170</td>\n",
       "      <td>0.17</td>\n",
       "    </tr>\n",
       "    <tr>\n",
       "      <th>state</th>\n",
       "      <td>100694</td>\n",
       "      <td>68</td>\n",
       "      <td>-</td>\n",
       "      <td>-</td>\n",
       "      <td>-</td>\n",
       "      <td>22542</td>\n",
       "      <td>22.39</td>\n",
       "    </tr>\n",
       "    <tr>\n",
       "      <th>types</th>\n",
       "      <td>100694</td>\n",
       "      <td>30</td>\n",
       "      <td>-</td>\n",
       "      <td>-</td>\n",
       "      <td>-</td>\n",
       "      <td>0</td>\n",
       "      <td>0</td>\n",
       "    </tr>\n",
       "    <tr>\n",
       "      <th>CITIES</th>\n",
       "      <th>name</th>\n",
       "      <td>23330</td>\n",
       "      <td>11665</td>\n",
       "      <td>-</td>\n",
       "      <td>-</td>\n",
       "      <td>-</td>\n",
       "      <td>2</td>\n",
       "      <td>0.01</td>\n",
       "    </tr>\n",
       "    <tr>\n",
       "      <th>COUNTRIES</th>\n",
       "      <th>name</th>\n",
       "      <td>400</td>\n",
       "      <td>200</td>\n",
       "      <td>-</td>\n",
       "      <td>-</td>\n",
       "      <td>-</td>\n",
       "      <td>2</td>\n",
       "      <td>0.50</td>\n",
       "    </tr>\n",
       "    <tr>\n",
       "      <th rowspan=\"10\" valign=\"top\">REVIEWS</th>\n",
       "      <th>beer_id</th>\n",
       "      <td>2549252</td>\n",
       "      <td>189645</td>\n",
       "      <td>77 459.01</td>\n",
       "      <td>3</td>\n",
       "      <td>373128</td>\n",
       "      <td>19</td>\n",
       "      <td>0.00</td>\n",
       "    </tr>\n",
       "    <tr>\n",
       "      <th>date</th>\n",
       "      <td>2549252</td>\n",
       "      <td>6379</td>\n",
       "      <td>-</td>\n",
       "      <td>-</td>\n",
       "      <td>-</td>\n",
       "      <td>19</td>\n",
       "      <td>0.00</td>\n",
       "    </tr>\n",
       "    <tr>\n",
       "      <th>feel</th>\n",
       "      <td>1484819</td>\n",
       "      <td>17</td>\n",
       "      <td>3.89</td>\n",
       "      <td>1</td>\n",
       "      <td>5</td>\n",
       "      <td>1064452</td>\n",
       "      <td>71.69</td>\n",
       "    </tr>\n",
       "    <tr>\n",
       "      <th>id</th>\n",
       "      <td>2549252</td>\n",
       "      <td>2546141</td>\n",
       "      <td>4 517 442.86</td>\n",
       "      <td>1</td>\n",
       "      <td>9073127</td>\n",
       "      <td>19</td>\n",
       "      <td>0.00</td>\n",
       "    </tr>\n",
       "    <tr>\n",
       "      <th>look</th>\n",
       "      <td>1484819</td>\n",
       "      <td>17</td>\n",
       "      <td>3.95</td>\n",
       "      <td>1</td>\n",
       "      <td>5</td>\n",
       "      <td>1064452</td>\n",
       "      <td>71.69</td>\n",
       "    </tr>\n",
       "    <tr>\n",
       "      <th>overall</th>\n",
       "      <td>1484819</td>\n",
       "      <td>17</td>\n",
       "      <td>3.92</td>\n",
       "      <td>1</td>\n",
       "      <td>5</td>\n",
       "      <td>1064452</td>\n",
       "      <td>71.69</td>\n",
       "    </tr>\n",
       "    <tr>\n",
       "      <th>score</th>\n",
       "      <td>2549252</td>\n",
       "      <td>401</td>\n",
       "      <td>3.89</td>\n",
       "      <td>1</td>\n",
       "      <td>5</td>\n",
       "      <td>19</td>\n",
       "      <td>0.00</td>\n",
       "    </tr>\n",
       "    <tr>\n",
       "      <th>smell</th>\n",
       "      <td>1484819</td>\n",
       "      <td>17</td>\n",
       "      <td>3.89</td>\n",
       "      <td>1</td>\n",
       "      <td>5</td>\n",
       "      <td>1064452</td>\n",
       "      <td>71.69</td>\n",
       "    </tr>\n",
       "    <tr>\n",
       "      <th>taste</th>\n",
       "      <td>1484819</td>\n",
       "      <td>17</td>\n",
       "      <td>3.92</td>\n",
       "      <td>1</td>\n",
       "      <td>5</td>\n",
       "      <td>1064452</td>\n",
       "      <td>71.69</td>\n",
       "    </tr>\n",
       "    <tr>\n",
       "      <th>text</th>\n",
       "      <td>2549252</td>\n",
       "      <td>814333</td>\n",
       "      <td>-</td>\n",
       "      <td>-</td>\n",
       "      <td>-</td>\n",
       "      <td>19</td>\n",
       "      <td>0.00</td>\n",
       "    </tr>\n",
       "    <tr>\n",
       "      <th>STYLE</th>\n",
       "      <th>name</th>\n",
       "      <td>113</td>\n",
       "      <td>113</td>\n",
       "      <td>-</td>\n",
       "      <td>-</td>\n",
       "      <td>-</td>\n",
       "      <td>1</td>\n",
       "      <td>0.88</td>\n",
       "    </tr>\n",
       "    <tr>\n",
       "      <th>USER</th>\n",
       "      <th>name</th>\n",
       "      <td>123935</td>\n",
       "      <td>123935</td>\n",
       "      <td>-</td>\n",
       "      <td>-</td>\n",
       "      <td>-</td>\n",
       "      <td>1</td>\n",
       "      <td>0.00</td>\n",
       "    </tr>\n",
       "  </tbody>\n",
       "</table>\n",
       "</div>"
      ],
      "text/plain": [
       "                          Count  Distinct Count          Mean   Min      Max  \\\n",
       "Node      Property                                                             \n",
       "BEERS     abv            372718             939          6.53  0.01      100   \n",
       "          availability   417746              20             -     -        -   \n",
       "          brewery_id     417746           16569     24 592.84     1    54144   \n",
       "          id             417746          358873    189 196.88     3   374406   \n",
       "          name           417746          298567             -     -        -   \n",
       "          notes          417746           48313             -     -        -   \n",
       "          retired        417746               2             -     -        -   \n",
       "          state          417746              68             -     -        -   \n",
       "BREWERIES id             100694           50347     27 870.51     1    54156   \n",
       "          name           100694           45245             -     -        -   \n",
       "          notes          100694            3271             -     -        -   \n",
       "          state          100694              68             -     -        -   \n",
       "          types          100694              30             -     -        -   \n",
       "CITIES    name            23330           11665             -     -        -   \n",
       "COUNTRIES name              400             200             -     -        -   \n",
       "REVIEWS   beer_id       2549252          189645     77 459.01     3   373128   \n",
       "          date          2549252            6379             -     -        -   \n",
       "          feel          1484819              17          3.89     1        5   \n",
       "          id            2549252         2546141  4 517 442.86     1  9073127   \n",
       "          look          1484819              17          3.95     1        5   \n",
       "          overall       1484819              17          3.92     1        5   \n",
       "          score         2549252             401          3.89     1        5   \n",
       "          smell         1484819              17          3.89     1        5   \n",
       "          taste         1484819              17          3.92     1        5   \n",
       "          text          2549252          814333             -     -        -   \n",
       "STYLE     name              113             113             -     -        -   \n",
       "USER      name           123935          123935             -     -        -   \n",
       "\n",
       "                        Missing Count Missing Count (%)  \n",
       "Node      Property                                       \n",
       "BEERS     abv                   45028             12.08  \n",
       "          availability              0                 0  \n",
       "          brewery_id                0                 0  \n",
       "          id                        0                 0  \n",
       "          name                      0                 0  \n",
       "          notes                    55              0.01  \n",
       "          retired                   0                 0  \n",
       "          state                 70831             16.96  \n",
       "BREWERIES id                        0                 0  \n",
       "          name                      0                 0  \n",
       "          notes                   170              0.17  \n",
       "          state                 22542             22.39  \n",
       "          types                     0                 0  \n",
       "CITIES    name                      2              0.01  \n",
       "COUNTRIES name                      2              0.50  \n",
       "REVIEWS   beer_id                  19              0.00  \n",
       "          date                     19              0.00  \n",
       "          feel                1064452             71.69  \n",
       "          id                       19              0.00  \n",
       "          look                1064452             71.69  \n",
       "          overall             1064452             71.69  \n",
       "          score                    19              0.00  \n",
       "          smell               1064452             71.69  \n",
       "          taste               1064452             71.69  \n",
       "          text                     19              0.00  \n",
       "STYLE     name                      1              0.88  \n",
       "USER      name                      1              0.00  "
      ]
     },
     "execution_count": 33,
     "metadata": {},
     "output_type": "execute_result"
    }
   ],
   "source": [
    "print(\"\\n\\nSummary statistics of each property for each node label in the database:\")\n",
    "\n",
    "# Initialize a list to store statistics\n",
    "stats_list = []\n",
    "\n",
    "# Iterate over each property and calculate statistics\n",
    "for record in tqdm(properties_result):\n",
    "    nodeType = record['nodeType'].replace('`', '').replace(':', '')  # Remove backticks and ':'\n",
    "    propertyName = record['propertyName']\n",
    "    \n",
    "    # Construct query for each property\n",
    "    if propertyName.lower() in ['name', 'notes', 'state', 'availability', 'types', 'text']:\n",
    "        # String properties\n",
    "        stats_query = f\"\"\"\n",
    "            MATCH (n:{nodeType})\n",
    "            RETURN\n",
    "                '{nodeType}' AS nodeType,\n",
    "                '{propertyName}' AS propertyName,\n",
    "                COUNT(n.{propertyName}) AS count,\n",
    "                COUNT(DISTINCT n.{propertyName}) AS distinctCount,\n",
    "                '-' AS mean,\n",
    "                '-' AS min,\n",
    "                '-' AS max,\n",
    "                COUNT(CASE WHEN n.{propertyName} IS NULL OR n.{propertyName} = '' OR toLower(trim(n.{propertyName})) IN ['nan', 'null', 'none', ' '] THEN 1 ELSE NULL END) AS missingCount\n",
    "        \"\"\"\n",
    "    elif propertyName.lower() in ['retired', 'date']:\n",
    "        # Boolean & Date properties\n",
    "        stats_query = f\"\"\"\n",
    "            MATCH (n:{nodeType})\n",
    "            RETURN\n",
    "                '{nodeType}' AS nodeType,\n",
    "                '{propertyName}' AS propertyName,\n",
    "                COUNT(n.{propertyName}) AS count,\n",
    "                COUNT(DISTINCT n.{propertyName}) AS distinctCount,\n",
    "                '-' AS mean,\n",
    "                '-' AS min,\n",
    "                '-' AS max,\n",
    "                COUNT(CASE WHEN n.{propertyName} IS NULL THEN 1 ELSE NULL END) AS missingCount\n",
    "        \"\"\"\n",
    "    else:\n",
    "        # Numeric properties\n",
    "        stats_query = f\"\"\"\n",
    "            MATCH (n:{nodeType})\n",
    "            WITH n, n.{propertyName} AS value\n",
    "            RETURN\n",
    "                '{nodeType}' AS nodeType,\n",
    "                '{propertyName}' AS propertyName,\n",
    "                COUNT(value) AS count,\n",
    "                COUNT(DISTINCT value) AS distinctCount,\n",
    "                AVG(value) AS mean,\n",
    "                MIN(value) AS min,\n",
    "                MAX(value) AS max,\n",
    "                COUNT(CASE WHEN value IS NULL THEN 1 ELSE NULL END) AS missingCount\n",
    "        \"\"\"\n",
    "    \n",
    "    try:\n",
    "        stats_result = execute_read(driver, stats_query)\n",
    "        if stats_result:\n",
    "            stats_list.append(stats_result[0])\n",
    "    except Exception as e:\n",
    "        print(f\"Error processing {nodeType}.{propertyName}: {e}\")\n",
    "\n",
    "# Convert to DataFrame\n",
    "df = pd.DataFrame(stats_list, columns=['Node', 'Property', 'Count', 'Distinct Count', \n",
    "                                       'Mean', 'Min', 'Max', 'Missing Count'])                          # Convert the list to a DataFrame\n",
    "df['Missing Count (%)'] = (df['Missing Count'] / df['Count']) * 100                                     # Calculate the percentage of missing values\n",
    "df.set_index(['Node', 'Property'], inplace=True)                                                        # Set the index to Node and Property (Hierarchical Indexing)\n",
    "df.fillna('-', inplace=True)                                                                            # Fill NaN values with 0\n",
    "df = df.map(\n",
    "    lambda x: '{:,.0f}'.format(x).replace(',', ' ') if isinstance(x, float) and not np.isnan(x) and not np.isinf(x) and x == int(x) else\n",
    "              '{:,.2f}'.format(x).replace(',', ' ') if isinstance(x, float) and not np.isnan(x) and not np.isinf(x) else\n",
    "              x\n",
    ")                                                                                                                     # Format the DataFrame for better visualization\n",
    "df "
   ]
  },
  {
   "cell_type": "markdown",
   "metadata": {},
   "source": [
    "### **2.2. 🔄️ Find Duplicate Nodes**"
   ]
  },
  {
   "cell_type": "code",
   "execution_count": 34,
   "metadata": {},
   "outputs": [
    {
     "name": "stdout",
     "output_type": "stream",
     "text": [
      "[<Record beerId=214879 count=2>,\n",
      " <Record beerId=8036 count=2>,\n",
      " <Record beerId=265827 count=2>,\n",
      " <Record beerId=110318 count=2>,\n",
      " <Record beerId=138971 count=2>,\n",
      " <Record beerId=199068 count=2>,\n",
      " <Record beerId=80010 count=2>,\n",
      " <Record beerId=55175 count=2>,\n",
      " <Record beerId=55 count=2>,\n",
      " <Record beerId=354484 count=2>]\n",
      "[<Record totalDuplicates=58873>]\n"
     ]
    }
   ],
   "source": [
    "# 2.2. Find duplicate nodes if any (BEERS)\n",
    "query = \"\"\"\n",
    "    // Find duplicate BEERS nodes\n",
    "    MATCH (b:BEERS)\n",
    "    WITH b.id AS beerId, count(b) AS count\n",
    "    WHERE count > 1\n",
    "    RETURN beerId, count\n",
    "    LIMIT 10\n",
    "\"\"\"\n",
    "result = execute_read(driver, query)\n",
    "pprint(result)\n",
    "\n",
    "query = \"\"\"\n",
    "    // Find the total number of duplicate BEERS nodes\n",
    "    MATCH (b:BEERS)\n",
    "    WITH b.id AS beerId, count(b) AS count\n",
    "    WHERE count > 1\n",
    "    RETURN count(beerId) AS totalDuplicates\n",
    "\"\"\"\n",
    "result = execute_read(driver, query)\n",
    "pprint(result)"
   ]
  },
  {
   "cell_type": "markdown",
   "metadata": {},
   "source": [
    "> In total we have $58873$ duplicate **`BEERS`** ($\\frac{58\\;873}{417\\;746} \\approx 14.1\\%$)"
   ]
  },
  {
   "cell_type": "code",
   "execution_count": 35,
   "metadata": {},
   "outputs": [
    {
     "name": "stdout",
     "output_type": "stream",
     "text": [
      "[<Record beerId=214879 id1=62214 id2=9721475 rels1=[<Relationship element_id='9494215' nodes=(<Node element_id='62214' labels=frozenset() properties={}>, <Node element_id='9494215' labels=frozenset() properties={}>) type='HAS_STYLE' properties={}>, <Relationship element_id='9072917' nodes=(<Node element_id='13515' labels=frozenset() properties={}>, <Node element_id='62214' labels=frozenset() properties={}>) type='BREWED' properties={}>] rels2=[]>,\n",
      " <Record beerId=214879 id1=9721475 id2=62214 rels1=[] rels2=[<Relationship element_id='9494215' nodes=(<Node element_id='62214' labels=frozenset() properties={}>, <Node element_id='9494215' labels=frozenset() properties={}>) type='HAS_STYLE' properties={}>, <Relationship element_id='9072917' nodes=(<Node element_id='13515' labels=frozenset() properties={}>, <Node element_id='62214' labels=frozenset() properties={}>) type='BREWED' properties={}>]>]\n",
      "[<Record totalCases=117746>]\n"
     ]
    }
   ],
   "source": [
    "# Verify if the duplicate nodes have same relationships\n",
    "query = \"\"\"\n",
    "    // Verify if the duplicate nodes have the same relationships\n",
    "    MATCH (b:BEERS)\n",
    "    WITH b.id AS beerId, count(b) AS count, collect(b) AS nodes\n",
    "    WHERE count > 1\n",
    "    WITH beerId, nodes\n",
    "    UNWIND nodes AS node1\n",
    "    UNWIND nodes AS node2\n",
    "    WITH beerId, node1, node2\n",
    "    WHERE id(node1) <> id(node2)\n",
    "    // Collect relationships for each node\n",
    "    OPTIONAL MATCH (node1)-[r1]-()\n",
    "    OPTIONAL MATCH (node2)-[r2]-()\n",
    "    WITH beerId, node1, node2, collect(r1) AS rels1, collect(r2) AS rels2\n",
    "    // Compare relationships\n",
    "    WHERE rels1 <> rels2\n",
    "    RETURN beerId, id(node1) AS id1, id(node2) AS id2, rels1, rels2\n",
    "    LIMIT 2\n",
    "\"\"\"\n",
    "result = execute_read(driver, query)\n",
    "pprint(result)\n",
    "\n",
    "query = \"\"\"\n",
    "    // Verify if the duplicate nodes have the same relationships\n",
    "    MATCH (b:BEERS)\n",
    "    WITH b.id AS beerId, count(b) AS count, collect(b) AS nodes\n",
    "    WHERE count > 1\n",
    "    WITH beerId, nodes\n",
    "    UNWIND nodes AS node1\n",
    "    UNWIND nodes AS node2\n",
    "    WITH beerId, node1, node2\n",
    "    WHERE id(node1) <> id(node2)\n",
    "    // Collect relationships for each node\n",
    "    OPTIONAL MATCH (node1)-[r1]-()\n",
    "    OPTIONAL MATCH (node2)-[r2]-()\n",
    "    WITH beerId, node1, node2, collect(r1) AS rels1, collect(r2) AS rels2\n",
    "    // Compare relationships\n",
    "    WHERE rels1 <> rels2\n",
    "    // Count how many cases\n",
    "    RETURN count(beerId) AS totalCases\n",
    "\"\"\"\n",
    "result = execute_read(driver, query)\n",
    "pprint(result)"
   ]
  },
  {
   "cell_type": "code",
   "execution_count": 36,
   "metadata": {},
   "outputs": [
    {
     "name": "stdout",
     "output_type": "stream",
     "text": [
      "[<Record breweryId=19730 breweryName='Brouwerij Danny' count=2>,\n",
      " <Record breweryId=32541 breweryName='Coachella Valley Brewing Co' count=2>,\n",
      " <Record breweryId=44736 breweryName=\"Beef 'O' Brady's\" count=2>,\n",
      " <Record breweryId=23372 breweryName='Broadway Wine Merchant' count=2>,\n",
      " <Record breweryId=35328 breweryName='Brighton Beer Dispensary (DUPLICATE)' count=2>,\n",
      " <Record breweryId=31561 breweryName=\"Teddy's Tavern\" count=2>,\n",
      " <Record breweryId=35975 breweryName='Modus Operandi Brewing Co.' count=2>,\n",
      " <Record breweryId=5618 breweryName='Hops! Beer Restaurant & Pizza' count=2>,\n",
      " <Record breweryId=30916 breweryName=\"Kelly's Cellars\" count=2>,\n",
      " <Record breweryId=41278 breweryName='The Other End' count=2>]\n",
      "[<Record totalDuplicates=50347>]\n"
     ]
    }
   ],
   "source": [
    "# 2.2 Find duplicate nodes if any (BREWERIES)\n",
    "query = \"\"\"\n",
    "    // Find duplicate BREWERIES nodes\n",
    "    MATCH (b:BREWERIES)\n",
    "    WITH b.id AS breweryId, b.name AS breweryName, count(b) AS count\n",
    "    WHERE count > 1\n",
    "    RETURN breweryId, breweryName, count\n",
    "    LIMIT 10\n",
    "\"\"\"\n",
    "result = execute_read(driver, query)\n",
    "pprint(result)\n",
    "\n",
    "query = \"\"\"\n",
    "    // Find the total number of duplicate BREWERIES nodes\n",
    "    MATCH (b:BREWERIES)\n",
    "    WITH b.id AS breweryId, count(b) AS count\n",
    "    WHERE count > 1\n",
    "    RETURN count(breweryId) AS totalDuplicates\n",
    "\"\"\"\n",
    "result = execute_read(driver, query)\n",
    "pprint(result)"
   ]
  },
  {
   "cell_type": "markdown",
   "metadata": {},
   "source": [
    "> In total we have $50; 347$ duplicate **`BREWERIES`** ($\\frac{50\\;347}{100\\;694} \\approx 50\\%$)"
   ]
  },
  {
   "cell_type": "code",
   "execution_count": 37,
   "metadata": {},
   "outputs": [
    {
     "name": "stdout",
     "output_type": "stream",
     "text": [
      "[<Record breweryId=19730 id1=11865 id2=9671126 rels1=[<Relationship element_id='9431789' nodes=(<Node element_id='11865' labels=frozenset() properties={}>, <Node element_id='200' labels=frozenset() properties={}>) type='IN' properties={}>, <Relationship element_id='9254060' nodes=(<Node element_id='11865' labels=frozenset() properties={}>, <Node element_id='243356' labels=frozenset() properties={}>) type='BREWED' properties={}>, <Relationship element_id='9165745' nodes=(<Node element_id='11865' labels=frozenset() properties={}>, <Node element_id='155042' labels=frozenset() properties={}>) type='BREWED' properties={}>, <Relationship element_id='9108729' nodes=(<Node element_id='11865' labels=frozenset() properties={}>, <Node element_id='98026' labels=frozenset() properties={}>) type='BREWED' properties={}>] rels2=[]>,\n",
      " <Record breweryId=19730 id1=9671126 id2=11865 rels1=[] rels2=[<Relationship element_id='9431789' nodes=(<Node element_id='11865' labels=frozenset() properties={}>, <Node element_id='200' labels=frozenset() properties={}>) type='IN' properties={}>, <Relationship element_id='9254060' nodes=(<Node element_id='11865' labels=frozenset() properties={}>, <Node element_id='243356' labels=frozenset() properties={}>) type='BREWED' properties={}>, <Relationship element_id='9165745' nodes=(<Node element_id='11865' labels=frozenset() properties={}>, <Node element_id='155042' labels=frozenset() properties={}>) type='BREWED' properties={}>, <Relationship element_id='9108729' nodes=(<Node element_id='11865' labels=frozenset() properties={}>, <Node element_id='98026' labels=frozenset() properties={}>) type='BREWED' properties={}>]>]\n",
      "[<Record totalCases=100694>]\n"
     ]
    }
   ],
   "source": [
    "# Verify if the duplicate nodes have same relationships\n",
    "query = \"\"\"\n",
    "    // Verify if the duplicate nodes have the same relationships\n",
    "    MATCH (b:BREWERIES)\n",
    "    WITH b.id AS breweryId, count(b) AS count, collect(b) AS nodes\n",
    "    WHERE count > 1\n",
    "    WITH breweryId, nodes\n",
    "    UNWIND nodes AS node1\n",
    "    UNWIND nodes AS node2\n",
    "    WITH breweryId, node1, node2\n",
    "    WHERE id(node1) <> id(node2)\n",
    "    // Collect relationships for each node\n",
    "    OPTIONAL MATCH (node1)-[r1]-()\n",
    "    OPTIONAL MATCH (node2)-[r2]-()\n",
    "    WITH breweryId, node1, node2, collect(r1) AS rels1, collect(r2) AS rels2\n",
    "    // Compare relationships\n",
    "    WHERE rels1 <> rels2\n",
    "    RETURN breweryId, id(node1) AS id1, id(node2) AS id2, rels1, rels2\n",
    "    LIMIT 2\n",
    "\"\"\"\n",
    "result = execute_read(driver, query)\n",
    "pprint(result)\n",
    "\n",
    "query = \"\"\"\n",
    "    // Verify if the duplicate nodes have the same relationships\n",
    "    MATCH (b:BREWERIES)\n",
    "    WITH b.id AS breweryId, count(b) AS count, collect(b) AS nodes\n",
    "    WHERE count > 1\n",
    "    WITH breweryId, nodes\n",
    "    UNWIND nodes AS node1\n",
    "    UNWIND nodes AS node2\n",
    "    WITH breweryId, node1, node2\n",
    "    WHERE id(node1) <> id(node2)\n",
    "    // Collect relationships for each node\n",
    "    OPTIONAL MATCH (node1)-[r1]-()\n",
    "    OPTIONAL MATCH (node2)-[r2]-()\n",
    "    WITH breweryId, node1, node2, collect(r1) AS rels1, collect(r2) AS rels2\n",
    "    // Compare relationships\n",
    "    WHERE rels1 <> rels2\n",
    "    // Count how many cases\n",
    "    RETURN count(breweryId) AS totalCases\n",
    "\"\"\"\n",
    "result = execute_read(driver, query)\n",
    "pprint(result)"
   ]
  },
  {
   "cell_type": "code",
   "execution_count": 38,
   "metadata": {},
   "outputs": [
    {
     "name": "stdout",
     "output_type": "stream",
     "text": [
      "[<Record id(b)=11865 b={'types': 'Brewery', 'notes': 'No notes at this time.', 'name': 'Brouwerij Danny', 'state': 'nan', 'id': 19730}>,\n",
      " <Record id(b)=9671126 b={'types': 'Brewery', 'notes': 'No notes at this time.', 'name': 'Brouwerij Danny', 'state': 'nan', 'id': 19730}>]\n"
     ]
    }
   ],
   "source": [
    "# Test the code below\n",
    "# 2.2.* Find a BREWERIES node with name \"Brouwerij Danny\" and check if there are duplicates\n",
    "query = \"\"\"\n",
    "    MATCH (b:BREWERIES {name: \"Brouwerij Danny\"})\n",
    "    RETURN id(b), b{.*}\n",
    "\"\"\"\n",
    "result = execute_read(driver, query)\n",
    "pprint(result)"
   ]
  },
  {
   "cell_type": "code",
   "execution_count": 39,
   "metadata": {},
   "outputs": [
    {
     "name": "stdout",
     "output_type": "stream",
     "text": [
      "[<Record countryName='BE' count=2>,\n",
      " <Record countryName='US' count=2>,\n",
      " <Record countryName='GB' count=2>,\n",
      " <Record countryName='AU' count=2>,\n",
      " <Record countryName='IT' count=2>,\n",
      " <Record countryName='CA' count=2>,\n",
      " <Record countryName='GR' count=2>,\n",
      " <Record countryName='FR' count=2>,\n",
      " <Record countryName='AT' count=2>,\n",
      " <Record countryName='ES' count=2>]\n",
      "[<Record totalDuplicates=200>]\n"
     ]
    }
   ],
   "source": [
    "# 2.2. Find duplicate nodes if any (COUNTRIES)\n",
    "query = \"\"\"\n",
    "    // Find duplicate COUNTRIES nodes\n",
    "    MATCH (c:COUNTRIES)\n",
    "    WITH c.name AS countryName, count(c) AS count\n",
    "    WHERE count > 1\n",
    "    RETURN countryName, count\n",
    "    LIMIT 10\n",
    "\"\"\"\n",
    "result = execute_read(driver, query)\n",
    "pprint(result)\n",
    "\n",
    "query = \"\"\"\n",
    "    // Find the total number of duplicate COUNTRIES nodes\n",
    "    MATCH (c:COUNTRIES)\n",
    "    WITH c.name AS countryName, count(c) AS count\n",
    "    WHERE count > 1\n",
    "    RETURN count(countryName) AS totalDuplicates\n",
    "\"\"\"\n",
    "result = execute_read(driver, query)\n",
    "pprint(result)"
   ]
  },
  {
   "cell_type": "markdown",
   "metadata": {},
   "source": [
    "> In total we have $200$ duplicate **`COUNTRIES`** ($\\frac{200}{400} = 50\\%$)"
   ]
  },
  {
   "cell_type": "code",
   "execution_count": 40,
   "metadata": {},
   "outputs": [
    {
     "name": "stdout",
     "output_type": "stream",
     "text": [
      "[]\n"
     ]
    }
   ],
   "source": [
    "# Adicional checking: Making sure if the ISO codes are real/valid\n",
    "query = \"\"\"\n",
    "        MATCH (c:COUNTRIES)\n",
    "        WHERE NOT c.code IN ['AD', 'AE', 'AF', 'AG', 'AI', 'AL', 'AM', 'AO', 'AQ', 'AR', 'AS', 'AT', 'AU', 'AW', \n",
    "            'AX', 'AZ', 'BA', 'BB', 'BD', 'BE', 'BF', 'BG', 'BH', 'BI', 'BJ', 'BL', 'BM', 'BN', 'BO', 'BQ', 'BR', \n",
    "            'BS', 'BT', 'BV', 'BW', 'BY', 'BZ', 'CA', 'CC', 'CD', 'CF', 'CG', 'CH', 'CI', 'CK', 'CL', 'CM', 'CN', \n",
    "            'CO', 'CR', 'CU', 'CV', 'CW', 'CX', 'CY', 'CZ', 'DE', 'DJ', 'DK', 'DM', 'DO', 'DZ', 'EC', 'EE', 'EG', \n",
    "            'EH', 'ER', 'ES', 'ET', 'FI', 'FJ', 'FK', 'FM', 'FO', 'FR', 'GA', 'GB', 'GD', 'GE', 'GF', 'GG', 'GH', \n",
    "            'GI', 'GL', 'GM', 'GN', 'GP', 'GQ', 'GR', 'GS', 'GT', 'GU', 'GW', 'GY', 'HK', 'HM', 'HN', 'HR', 'HT', \n",
    "            'HU', 'ID', 'IE', 'IL', 'IM', 'IN', 'IO', 'IQ', 'IR', 'IS', 'IT', 'JE', 'JM', 'JO', 'JP', 'KE', 'KG', \n",
    "            'KH', 'KI', 'KM', 'KN', 'KP', 'KR', 'KW', 'KY', 'KZ', 'LA', 'LB', 'LC', 'LI', 'LK', 'LR', 'LS', 'LT', \n",
    "            'LU', 'LV', 'LY', 'MA', 'MC', 'MD', 'ME', 'MF', 'MG', 'MH', 'MK', 'ML', 'MM', 'MN', 'MO', 'MP', 'MQ', \n",
    "            'MR', 'MS', 'MT', 'MU', 'MV', 'MW', 'MX', 'MY', 'MZ', 'NA', 'NC', 'NE', 'NF', 'NG', 'NI', 'NL', 'NO', \n",
    "            'NP', 'NR', 'NU', 'NZ', 'OM', 'PA', 'PE', 'PF', 'PG', 'PH', 'PK', 'PL', 'PM', 'PN', 'PR', 'PS', 'PT', \n",
    "            'PW', 'PY', 'QA', 'RE', 'RO', 'RS', 'RU', 'RW', 'SA', 'SB', 'SC', 'SD', 'SE', 'SG', 'SH', 'SI', 'SJ', \n",
    "            'SK', 'SL', 'SM', 'SN', 'SO', 'SR', 'SS', 'ST', 'SV', 'SX', 'SY', 'SZ', 'TC', 'TD', 'TF', 'TG', 'TH', \n",
    "            'TJ', 'TK', 'TL', 'TM', 'TN', 'TO', 'TR', 'TT', 'TV', 'TW', 'TZ', 'UA', 'UG', 'UM', 'US', 'UY', 'UZ', \n",
    "            'VA', 'VC', 'VE', 'VG', 'VI', 'VN', 'VU', 'WF', 'WS', 'YE', 'YT', 'ZA', 'ZM', 'ZW']\n",
    "        RETURN c.name\n",
    "\"\"\"\n",
    "\n",
    "result = execute_read(driver, query)\n",
    "\n",
    "pprint(result)"
   ]
  },
  {
   "cell_type": "markdown",
   "metadata": {},
   "source": [
    "- The name used for countries is <a href=\"https://www.iban.com/country-codes\" target=\"_blank\">Alpha-2</a><br>\n",
    "- With the previous query we can see that we all `COUNTRIE.name` are codes that exists and are valid."
   ]
  },
  {
   "cell_type": "code",
   "execution_count": 41,
   "metadata": {},
   "outputs": [
    {
     "name": "stdout",
     "output_type": "stream",
     "text": [
      "[<Record totalCases=400>]\n"
     ]
    }
   ],
   "source": [
    "# # Verify if the duplicate nodes have same relationships\n",
    "# query = \"\"\"\n",
    "#     // Verify if the duplicate nodes have the same relationships\n",
    "#     MATCH (c:COUNTRIES)\n",
    "#     WITH c.name AS countryName, count(c) AS count, collect(c) AS nodes\n",
    "#     WHERE count > 1\n",
    "#     WITH countryName, nodes\n",
    "#     UNWIND nodes AS node1\n",
    "#     UNWIND nodes AS node2\n",
    "#     WITH countryName, node1, node2\n",
    "#     WHERE id(node1) <> id(node2)\n",
    "#     // Collect relationships for each node\n",
    "#     OPTIONAL MATCH (node1)-[r1]-()\n",
    "#     OPTIONAL MATCH (node2)-[r2]-()\n",
    "#     WITH countryName, node1, node2, collect(r1) AS rels1, collect(r2) AS rels2\n",
    "#     // Compare relationships\n",
    "#     WHERE rels1 <> rels2\n",
    "#     RETURN countryName, id(node1) AS id1, id(node2) AS id2, rels1, rels2\n",
    "#     LIMIT 1\n",
    "# \"\"\"\n",
    "# result = execute_read(driver, query)\n",
    "# pprint(result)                                                                        # Large Output\n",
    "\n",
    "query = \"\"\"\n",
    "    // Verify if the duplicate nodes have the same relationships\n",
    "    MATCH (c:COUNTRIES)\n",
    "    WITH c.name AS countryName, count(c) AS count, collect(c) AS nodes\n",
    "    WHERE count > 1\n",
    "    WITH countryName, nodes\n",
    "    UNWIND nodes AS node1\n",
    "    UNWIND nodes AS node2\n",
    "    WITH countryName, node1, node2\n",
    "    WHERE id(node1) <> id(node2)\n",
    "    // Collect relationships for each node\n",
    "    OPTIONAL MATCH (node1)-[r1]-()\n",
    "    OPTIONAL MATCH (node2)-[r2]-()\n",
    "    WITH countryName, node1, node2, collect(r1) AS rels1, collect(r2) AS rels2\n",
    "    // Compare relationships\n",
    "    WHERE rels1 <> rels2\n",
    "    // Count how many cases\n",
    "    RETURN count(countryName) AS totalCases\n",
    "\"\"\"\n",
    "result = execute_read(driver, query)\n",
    "pprint(result)"
   ]
  },
  {
   "cell_type": "code",
   "execution_count": 42,
   "metadata": {},
   "outputs": [
    {
     "name": "stdout",
     "output_type": "stream",
     "text": [
      "[<Record cityName='Erpe-Mere' count=2>,\n",
      " <Record cityName='Thousand Palms' count=2>,\n",
      " <Record cityName='Plant City' count=2>,\n",
      " <Record cityName='Oklahoma City' count=2>,\n",
      " <Record cityName='Brighton' count=2>,\n",
      " <Record cityName='Seattle' count=2>,\n",
      " <Record cityName='Mona Vale' count=2>,\n",
      " <Record cityName='Riccione (RN)' count=2>,\n",
      " <Record cityName='Belfast' count=2>,\n",
      " <Record cityName='Destin' count=2>]\n",
      "[<Record totalDuplicates=11665>]\n"
     ]
    }
   ],
   "source": [
    "# 2.2. Find duplicate nodes if any (CITIES)\n",
    "query = \"\"\"\n",
    "    // Find duplicate CITIES nodes\n",
    "    MATCH (c:CITIES)\n",
    "    WITH c.name AS cityName, count(c) AS count\n",
    "    WHERE count > 1\n",
    "    RETURN cityName, count\n",
    "    LIMIT 10\n",
    "\"\"\"\n",
    "result = execute_read(driver, query)\n",
    "pprint(result)\n",
    "\n",
    "query = \"\"\"\n",
    "    // Find the total number of duplicate CITIES nodes\n",
    "    MATCH (c:CITIES)\n",
    "    WITH c.name AS cityName, count(c) AS count\n",
    "    WHERE count > 1\n",
    "    RETURN count(cityName) AS totalDuplicates\n",
    "\"\"\"\n",
    "result = execute_read(driver, query)\n",
    "pprint(result)"
   ]
  },
  {
   "cell_type": "markdown",
   "metadata": {},
   "source": [
    "> In total we have $11; 665$ duplicate **`CITIES`** ($\\frac{11\\;665}{23\\;330} = 50\\%$)"
   ]
  },
  {
   "cell_type": "code",
   "execution_count": 43,
   "metadata": {},
   "outputs": [
    {
     "name": "stdout",
     "output_type": "stream",
     "text": [
      "[<Record cityName='Erpe-Mere' id1=200 id2=9659461 rels1=[<Relationship element_id='9482136' nodes=(<Node element_id='200' labels=frozenset() properties={}>, <Node element_id='0' labels=frozenset() properties={}>) type='IN' properties={}>, <Relationship element_id='9458134' nodes=(<Node element_id='38210' labels=frozenset() properties={}>, <Node element_id='200' labels=frozenset() properties={}>) type='IN' properties={}>, <Relationship element_id='9431789' nodes=(<Node element_id='11865' labels=frozenset() properties={}>, <Node element_id='200' labels=frozenset() properties={}>) type='IN' properties={}>] rels2=[]>,\n",
      " <Record cityName='Erpe-Mere' id1=9659461 id2=200 rels1=[] rels2=[<Relationship element_id='9482136' nodes=(<Node element_id='200' labels=frozenset() properties={}>, <Node element_id='0' labels=frozenset() properties={}>) type='IN' properties={}>, <Relationship element_id='9458134' nodes=(<Node element_id='38210' labels=frozenset() properties={}>, <Node element_id='200' labels=frozenset() properties={}>) type='IN' properties={}>, <Relationship element_id='9431789' nodes=(<Node element_id='11865' labels=frozenset() properties={}>, <Node element_id='200' labels=frozenset() properties={}>) type='IN' properties={}>]>]\n",
      "[<Record totalCases=23330>]\n"
     ]
    }
   ],
   "source": [
    "# Verify if the duplicate nodes have same relationships\n",
    "query = \"\"\"\n",
    "    // Verify if the duplicate nodes have the same relationships\n",
    "    MATCH (c:CITIES)\n",
    "    WITH c.name AS cityName, count(c) AS count, collect(c) AS nodes\n",
    "    WHERE count > 1\n",
    "    WITH cityName, nodes\n",
    "    UNWIND nodes AS node1\n",
    "    UNWIND nodes AS node2\n",
    "    WITH cityName, node1, node2\n",
    "    WHERE id(node1) <> id(node2)\n",
    "    // Collect relationships for each node\n",
    "    OPTIONAL MATCH (node1)-[r1]-()\n",
    "    OPTIONAL MATCH (node2)-[r2]-()\n",
    "    WITH cityName, node1, node2, collect(r1) AS rels1, collect(r2) AS rels2\n",
    "    // Compare relationships\n",
    "    WHERE rels1 <> rels2\n",
    "    RETURN cityName, id(node1) AS id1, id(node2) AS id2, rels1, rels2\n",
    "    LIMIT 2\n",
    "\"\"\"\n",
    "result = execute_read(driver, query)\n",
    "pprint(result)\n",
    "\n",
    "query = \"\"\"\n",
    "    // Verify if the duplicate nodes have the same relationships\n",
    "    MATCH (c:CITIES)\n",
    "    WITH c.name AS cityName, count(c) AS count, collect(c) AS nodes\n",
    "    WHERE count > 1\n",
    "    WITH cityName, nodes\n",
    "    UNWIND nodes AS node1\n",
    "    UNWIND nodes AS node2\n",
    "    WITH cityName, node1, node2\n",
    "    WHERE id(node1) <> id(node2)\n",
    "    // Collect relationships for each node\n",
    "    OPTIONAL MATCH (node1)-[r1]-()\n",
    "    OPTIONAL MATCH (node2)-[r2]-()\n",
    "    WITH cityName, node1, node2, collect(r1) AS rels1, collect(r2) AS rels2\n",
    "    // Compare relationships\n",
    "    WHERE rels1 <> rels2\n",
    "    // Count how many cases\n",
    "    RETURN count(cityName) AS totalCases\n",
    "\"\"\"\n",
    "result = execute_read(driver, query)\n",
    "pprint(result)"
   ]
  },
  {
   "cell_type": "code",
   "execution_count": 44,
   "metadata": {},
   "outputs": [
    {
     "name": "stdout",
     "output_type": "stream",
     "text": [
      "[<Record totalDuplicatesStyles=0>]\n",
      "[<Record totalDuplicatesUsers=0>]\n"
     ]
    }
   ],
   "source": [
    "# 2.2. Find duplicate nodes if any (STYLES & USERS)\n",
    "query = \"\"\"\n",
    "    // Find the total number of duplicate STYLES nodes\n",
    "    MATCH (s:STYLES)\n",
    "    WITH s.name AS styleName, count(s) AS count\n",
    "    WHERE count > 1\n",
    "    RETURN count(styleName) AS totalDuplicatesStyles\n",
    "\"\"\"\n",
    "result = execute_read(driver, query)\n",
    "pprint(result)\n",
    "\n",
    "query = \"\"\"\n",
    "    // Find the total number of duplicate USER nodes\n",
    "    MATCH (u:USER)\n",
    "    WITH u.name AS userName, count(u) AS count\n",
    "    WHERE count > 1\n",
    "    RETURN count(userName) AS totalDuplicatesUsers\n",
    "\"\"\"\n",
    "result = execute_read(driver, query)\n",
    "pprint(result)"
   ]
  },
  {
   "cell_type": "markdown",
   "metadata": {},
   "source": [
    "> As we already saw in the ***Statistical Analysis of the Database***, we don't have any duplicate **`STYLE`** and **`USER`** nodes."
   ]
  },
  {
   "cell_type": "code",
   "execution_count": 45,
   "metadata": {},
   "outputs": [
    {
     "name": "stdout",
     "output_type": "stream",
     "text": [
      "[<Record reviewId=6 count=2>,\n",
      " <Record reviewId=12 count=2>,\n",
      " <Record reviewId=28 count=2>,\n",
      " <Record reviewId=32 count=2>,\n",
      " <Record reviewId=45 count=2>,\n",
      " <Record reviewId=60 count=2>,\n",
      " <Record reviewId=86 count=2>,\n",
      " <Record reviewId=90 count=2>,\n",
      " <Record reviewId=92 count=2>,\n",
      " <Record reviewId=107 count=2>]\n",
      "[<Record totalDuplicates=3111>]\n"
     ]
    }
   ],
   "source": [
    "# 2.2. Find duplicate nodes if any (REVIEWS)\n",
    "query = \"\"\"\n",
    "    // Find duplicate REVIEWS nodes\n",
    "    MATCH (r:REVIEWS)\n",
    "    WITH r.id AS reviewId, count(r) AS count\n",
    "    WHERE count > 1\n",
    "    RETURN reviewId, count\n",
    "    LIMIT 10\n",
    "\"\"\"\n",
    "result = execute_read(driver, query)\n",
    "pprint(result)\n",
    "\n",
    "query = \"\"\"\n",
    "    // Find the total number of duplicate REVIEWS nodes\n",
    "    MATCH (r:REVIEWS)\n",
    "    WITH r.id AS reviewId, count(r) AS count\n",
    "    WHERE count > 1\n",
    "    RETURN count(reviewId) AS totalDuplicates\n",
    "\"\"\"\n",
    "result = execute_read(driver, query)\n",
    "pprint(result)"
   ]
  },
  {
   "cell_type": "markdown",
   "metadata": {},
   "source": [
    "> In total we have $3\\; 111$ duplicate **`REVIEWS`** ($\\frac{3\\;111}{2\\;549\\;252} \\approx 0.1\\%$)"
   ]
  },
  {
   "cell_type": "code",
   "execution_count": 46,
   "metadata": {},
   "outputs": [
    {
     "name": "stdout",
     "output_type": "stream",
     "text": [
      "[<Record reviewId=6 id1=421091 id2=10080352 rels1=[<Relationship element_id='9853094' nodes=(<Node element_id='421091' labels=frozenset() properties={}>, <Node element_id='9494332' labels=frozenset() properties={}>) type='POSTED' properties={}>, <Relationship element_id='14' nodes=(<Node element_id='384103' labels=frozenset() properties={}>, <Node element_id='421091' labels=frozenset() properties={}>) type='REVIEWED' properties={}>] rels2=[]>,\n",
      " <Record reviewId=6 id1=10080352 id2=421091 rels1=[] rels2=[<Relationship element_id='9853094' nodes=(<Node element_id='421091' labels=frozenset() properties={}>, <Node element_id='9494332' labels=frozenset() properties={}>) type='POSTED' properties={}>, <Relationship element_id='14' nodes=(<Node element_id='384103' labels=frozenset() properties={}>, <Node element_id='421091' labels=frozenset() properties={}>) type='REVIEWED' properties={}>]>]\n",
      "[<Record totalCases=6222>]\n"
     ]
    }
   ],
   "source": [
    "# Verify if the duplicate nodes have same relationships (REVIEWS)\n",
    "query = \"\"\"\n",
    "    // Verify if the duplicate nodes have the same relationships\n",
    "    MATCH (r:REVIEWS)\n",
    "    WITH r.id AS reviewId, count(r) AS count, collect(r) AS nodes\n",
    "    WHERE count > 1\n",
    "    WITH reviewId, nodes\n",
    "    UNWIND nodes AS node1\n",
    "    UNWIND nodes AS node2\n",
    "    WITH reviewId, node1, node2\n",
    "    WHERE id(node1) <> id(node2)\n",
    "    // Collect relationships for each node\n",
    "    OPTIONAL MATCH (node1)-[r1]-()\n",
    "    OPTIONAL MATCH (node2)-[r2]-()\n",
    "    WITH reviewId, node1, node2, collect(r1) AS rels1, collect(r2) AS rels2\n",
    "    // Compare relationships\n",
    "    WHERE rels1 <> rels2\n",
    "    RETURN reviewId, id(node1) AS id1, id(node2) AS id2, rels1, rels2\n",
    "    LIMIT 2\n",
    "\"\"\"\n",
    "result = execute_read(driver, query)\n",
    "pprint(result)\n",
    "\n",
    "query = \"\"\"\n",
    "    // Verify if the duplicate nodes have the same relationships\n",
    "    MATCH (r:REVIEWS)\n",
    "    WITH r.id AS reviewId, count(r) AS count, collect(r) AS nodes\n",
    "    WHERE count > 1\n",
    "    WITH reviewId, nodes\n",
    "    UNWIND nodes AS node1\n",
    "    UNWIND nodes AS node2\n",
    "    WITH reviewId, node1, node2\n",
    "    WHERE id(node1) <> id(node2)\n",
    "    // Collect relationships for each node\n",
    "    OPTIONAL MATCH (node1)-[r1]-()\n",
    "    OPTIONAL MATCH (node2)-[r2]-()\n",
    "    WITH reviewId, node1, node2, collect(r1) AS rels1, collect(r2) AS rels2\n",
    "    // Compare relationships\n",
    "    WHERE rels1 <> rels2\n",
    "    // Count how many cases\n",
    "    RETURN count(reviewId) AS totalCases\n",
    "\"\"\"\n",
    "result = execute_read(driver, query)\n",
    "pprint(result)"
   ]
  },
  {
   "cell_type": "markdown",
   "metadata": {},
   "source": [
    "##### **Summary Table of Duplicate Nodes**\n",
    "\n",
    "<center>\n",
    "\n",
    "| Nodes           | Total    | Duplicates | Percentage |\n",
    "|:---------------:|:--------:|:----------:|:----------:|\n",
    "| **`BEERS`**     | 417,746  | 58,873     | 14.1%      |\n",
    "| **`BREWERIES`** | 100,694  | 50,347     | 50.0%      |\n",
    "| **`COUNTRIES`** | 400      | 200        | 50.0%      |\n",
    "| **`CITIES`**    | 23,330   | 11,665     | 50.0%      |\n",
    "| **`STYLE`**     | 113      | 0          | 0.0%       |\n",
    "| **`USER`**      | 123,935  | 0          | 0.0%       |\n",
    "| **`REVIEWS`**   | 2,549,252| 3,111      | 0.1%       |\n",
    "\n",
    "</center>"
   ]
  },
  {
   "cell_type": "markdown",
   "metadata": {},
   "source": [
    "---"
   ]
  },
  {
   "cell_type": "markdown",
   "metadata": {},
   "source": [
    "#### **2.2.1. 🗑️ Remove Duplicate Nodes**"
   ]
  },
  {
   "cell_type": "code",
   "execution_count": 47,
   "metadata": {},
   "outputs": [
    {
     "name": "stdout",
     "output_type": "stream",
     "text": [
      "[<Record beerId=214879 count=2>]\n",
      "[<Record b=<Node element_id='62214' labels=frozenset({'BEERS'}) properties={'notes': 'No notes at this time.', 'abv': 4.0, 'name': 'Scottish Right', 'retired': True, 'state': 'IN', 'id': 214879, 'brewery_id': 44306, 'availability': ' Year-round'}> rels=[<Relationship element_id='9494215' nodes=(<Node element_id='62214' labels=frozenset({'BEERS'}) properties={'notes': 'No notes at this time.', 'abv': 4.0, 'name': 'Scottish Right', 'retired': True, 'state': 'IN', 'id': 214879, 'brewery_id': 44306, 'availability': ' Year-round'}>, <Node element_id='9494215' labels=frozenset() properties={}>) type='HAS_STYLE' properties={}>, <Relationship element_id='9072917' nodes=(<Node element_id='13515' labels=frozenset() properties={}>, <Node element_id='62214' labels=frozenset({'BEERS'}) properties={'notes': 'No notes at this time.', 'abv': 4.0, 'name': 'Scottish Right', 'retired': True, 'state': 'IN', 'id': 214879, 'brewery_id': 44306, 'availability': ' Year-round'}>) type='BREWED' properties={}>]>,\n",
      " <Record b=<Node element_id='9721475' labels=frozenset({'BEERS'}) properties={'notes': 'No notes at this time.', 'abv': 4.0, 'name': 'Scottish Right', 'retired': True, 'state': 'IN', 'id': 214879, 'brewery_id': 44306, 'availability': ' Year-round'}> rels=[]>]\n"
     ]
    }
   ],
   "source": [
    "# Test the code \n",
    "query = \"\"\"MATCH (b:BEERS) WITH b.id AS beerId, count(b) AS count WHERE count > 1 RETURN beerId, count LIMIT 1\"\"\"\n",
    "result = execute_read(driver, query)\n",
    "pprint(result)                           # beerId=214879\n",
    "\n",
    "# Compare relationships of the duplicate node beerId=214879 as we did before\n",
    "query = \"\"\"\n",
    "    MATCH (b:BEERS)\n",
    "    WHERE b.id = 214879\n",
    "    OPTIONAL MATCH (b)-[r1]-()\n",
    "    RETURN b, collect(r1) AS rels\n",
    "\"\"\"\n",
    "result = execute_read(driver, query)\n",
    "pprint(result)                           # Node element_id='9721475' dont have relationships"
   ]
  },
  {
   "cell_type": "code",
   "execution_count": 48,
   "metadata": {},
   "outputs": [
    {
     "name": "stdout",
     "output_type": "stream",
     "text": [
      "Nodes to keep and delete:\n",
      "Beer ID: 214879\n",
      "Keep Node: <Node element_id='62214' labels=frozenset({'BEERS'}) properties={'notes': 'No notes at this time.', 'abv': 4.0, 'name': 'Scottish Right', 'retired': True, 'state': 'IN', 'id': 214879, 'brewery_id': 44306, 'availability': ' Year-round'}>\n",
      "Delete Node: <Node element_id='9721475' labels=frozenset({'BEERS'}) properties={'notes': 'No notes at this time.', 'abv': 4.0, 'name': 'Scottish Right', 'retired': True, 'state': 'IN', 'id': 214879, 'brewery_id': 44306, 'availability': ' Year-round'}>\n"
     ]
    }
   ],
   "source": [
    "query = \"\"\"\n",
    "    MATCH (b:BEERS)\n",
    "    WITH b.id AS beerId, collect(b) AS nodes\n",
    "    WHERE size(nodes) > 1\n",
    "    WITH beerId, nodes[0] AS keepNode, nodes[1..] AS deleteNodes\n",
    "    \n",
    "    // Collect relationships of the node to keep\n",
    "    OPTIONAL MATCH (keepNode)-[rKeep]->(target)\n",
    "    WITH beerId, keepNode, deleteNodes, collect(rKeep) AS keepRels, collect(target) AS keepTargets\n",
    "    OPTIONAL MATCH (source)-[rKeepIn]->(keepNode)\n",
    "    WITH beerId, keepNode, deleteNodes, keepRels, keepTargets, collect(rKeepIn) AS keepRelsIn, collect(source) AS keepSources\n",
    "    \n",
    "    // Process each node to delete\n",
    "    UNWIND deleteNodes AS delNode\n",
    "    \n",
    "    // Collect relationships of the node to delete\n",
    "    OPTIONAL MATCH (delNode)-[rDel]->(delTarget)\n",
    "    WITH beerId, keepNode, delNode, keepRels, keepTargets, keepRelsIn, keepSources,\n",
    "         collect(rDel) AS delRels, collect(delTarget) AS delTargets\n",
    "    OPTIONAL MATCH (delSource)-[rDelIn]->(delNode)\n",
    "    WITH beerId, keepNode, delNode, keepRels, keepTargets, keepRelsIn, keepSources,\n",
    "         delRels, delTargets, collect(rDelIn) AS delRelsIn, collect(delSource) AS delSources\n",
    "    \n",
    "    // Only proceed if delNode has no relationships and keepNode has some\n",
    "    WHERE size(delRels) = 0 AND size(delRelsIn) = 0 AND (size(keepRels) > 0 OR size(keepRelsIn) > 0)\n",
    "   \n",
    "    // For debugging: return what was kept and deleted\n",
    "    RETURN beerId, keepNode, delNode\n",
    "    LIMIT 1                                          // Limit for testing\n",
    "\"\"\"\n",
    "result = execute_read(driver, query)\n",
    "\n",
    "print(\"Nodes to keep and delete:\")\n",
    "for rec in result:\n",
    "     print(\"Beer ID:\", rec[\"beerId\"])\n",
    "     print(\"Keep Node:\", rec[\"keepNode\"])\n",
    "     print(\"Delete Node:\", rec[\"delNode\"])"
   ]
  },
  {
   "cell_type": "code",
   "execution_count": 49,
   "metadata": {},
   "outputs": [
    {
     "name": "stdout",
     "output_type": "stream",
     "text": [
      "[<Record nodesDeleted=58873>]\n"
     ]
    }
   ],
   "source": [
    "# 2.2.1.1. (BEERS - Duplicate property: id) - Merge duplicates and delete nodes with no relationships \n",
    "query = \"\"\"\n",
    "    MATCH (b:BEERS)\n",
    "    WITH b.id AS beerId, collect(b) AS nodes\n",
    "    WHERE size(nodes) > 1\n",
    "    WITH beerId, nodes[0] AS keepNode, nodes[1..] AS deleteNodes\n",
    "    \n",
    "    // Collect relationships of the node to keep\n",
    "    OPTIONAL MATCH (keepNode)-[rKeep]->(target)\n",
    "    WITH beerId, keepNode, deleteNodes, collect(rKeep) AS keepRels, collect(target) AS keepTargets\n",
    "    OPTIONAL MATCH (source)-[rKeepIn]->(keepNode)\n",
    "    WITH beerId, keepNode, deleteNodes, keepRels, keepTargets, collect(rKeepIn) AS keepRelsIn, collect(source) AS keepSources\n",
    "    \n",
    "    // Process each node to delete\n",
    "    UNWIND deleteNodes AS delNode\n",
    "    \n",
    "    // Collect relationships of the node to delete\n",
    "    OPTIONAL MATCH (delNode)-[rDel]->(delTarget)\n",
    "    WITH beerId, keepNode, delNode, keepRels, keepTargets, keepRelsIn, keepSources,\n",
    "         collect(rDel) AS delRels, collect(delTarget) AS delTargets\n",
    "    OPTIONAL MATCH (delSource)-[rDelIn]->(delNode)\n",
    "    WITH beerId, keepNode, delNode, keepRels, keepTargets, keepRelsIn, keepSources,\n",
    "         delRels, delTargets, collect(rDelIn) AS delRelsIn, collect(delSource) AS delSources\n",
    "    \n",
    "    // Only proceed if delNode has no relationships and keepNode has some\n",
    "    WHERE size(delRels) = 0 AND size(delRelsIn) = 0 AND (size(keepRels) > 0 OR size(keepRelsIn) > 0)\n",
    "    \n",
    "    // Delete the node with no relationships\n",
    "    DELETE delNode\n",
    "    \n",
    "    // For debugging: return what was kept and deleted\n",
    "    // RETURN beerId, keepNode, delNode\n",
    "    // LIMIT 1                                          // Limit for testing\n",
    "    \n",
    "    // Return the number of nodes deleted\n",
    "    RETURN count(delNode) AS nodesDeleted   \n",
    "\"\"\"\n",
    "result = execute_write(driver, query)\n",
    "pprint(result)"
   ]
  },
  {
   "cell_type": "code",
   "execution_count": 50,
   "metadata": {},
   "outputs": [
    {
     "name": "stdout",
     "output_type": "stream",
     "text": [
      "[<Record totalNodesWithRelationships=358873 totalNodes=358873>]\n"
     ]
    }
   ],
   "source": [
    "# Check if all BEERS nodes have relationships\n",
    "query = \"\"\"\n",
    "    MATCH (b:BEERS)\n",
    "    WITH count(b) AS totalNodes\n",
    "    MATCH (b:BEERS)\n",
    "    WHERE EXISTS { (b)-[]-() }\n",
    "    RETURN count(b) AS totalNodesWithRelationships, totalNodes\n",
    "\"\"\"\n",
    "result = execute_read(driver, query)\n",
    "pprint(result)"
   ]
  },
  {
   "cell_type": "code",
   "execution_count": 51,
   "metadata": {},
   "outputs": [
    {
     "name": "stdout",
     "output_type": "stream",
     "text": [
      "[<Record totalDuplicates=0>]\n"
     ]
    }
   ],
   "source": [
    "# Verify the changes\n",
    "query = \"\"\"\n",
    "    MATCH (b:BEERS)\n",
    "    WITH b.id AS beerId, count(b) AS count\n",
    "    WHERE count > 1\n",
    "    RETURN count(beerId) AS totalDuplicates\n",
    "\"\"\"\n",
    "result = execute_read(driver, query)\n",
    "pprint(result)"
   ]
  },
  {
   "cell_type": "code",
   "execution_count": 52,
   "metadata": {},
   "outputs": [
    {
     "name": "stdout",
     "output_type": "stream",
     "text": [
      "BREWERIES duplicates removed (no relationships):\n",
      "[<Record nodesDeleted=50347>]\n"
     ]
    }
   ],
   "source": [
    "# 2.2.1.2. (BREWERIES - Duplicate property: id) - Merge duplicates and delete nodes with no relationships\n",
    "query = \"\"\"\n",
    "    MATCH (b:BREWERIES)\n",
    "    WITH b.id AS breweryId, collect(b) AS nodes\n",
    "    WHERE size(nodes) > 1\n",
    "    WITH breweryId, nodes[0] AS keepNode, nodes[1..] AS deleteNodes\n",
    "    // Collect relationships of the node to keep\n",
    "    OPTIONAL MATCH (keepNode)-[rKeep]->(target)\n",
    "    WITH breweryId, keepNode, deleteNodes, collect(rKeep) AS keepRels, collect(target) AS keepTargets\n",
    "    OPTIONAL MATCH (source)-[rKeepIn]->(keepNode)\n",
    "    WITH breweryId, keepNode, deleteNodes, keepRels, keepTargets, collect(rKeepIn) AS keepRelsIn, collect(source) AS keepSources\n",
    "    // Process each node to delete\n",
    "    UNWIND deleteNodes AS delNode\n",
    "    // Collect relationships of the node to delete\n",
    "    OPTIONAL MATCH (delNode)-[rDel]->(delTarget)\n",
    "    WITH breweryId, keepNode, delNode, keepRels, keepTargets, keepRelsIn, keepSources,\n",
    "         collect(rDel) AS delRels, collect(delTarget) AS delTargets\n",
    "    OPTIONAL MATCH (delSource)-[rDelIn]->(delNode)\n",
    "    WITH breweryId, keepNode, delNode, keepRels, keepTargets, keepRelsIn, keepSources,\n",
    "         delRels, delTargets, collect(rDelIn) AS delRelsIn, collect(delSource) AS delSources\n",
    "    // Only proceed if delNode has no relationships and keepNode has some\n",
    "    WHERE size(delRels) = 0 AND size(delRelsIn) = 0 AND (size(keepRels) > 0 OR size(keepRelsIn) > 0)\n",
    "    // Delete the node with no relationships\n",
    "    DELETE delNode\n",
    "    // Return the number of nodes deleted\n",
    "    RETURN count(delNode) AS nodesDeleted\n",
    "\"\"\"\n",
    "result = execute_write(driver, query)\n",
    "print(\"BREWERIES duplicates removed (no relationships):\")\n",
    "pprint(result)"
   ]
  },
  {
   "cell_type": "code",
   "execution_count": 53,
   "metadata": {},
   "outputs": [
    {
     "name": "stdout",
     "output_type": "stream",
     "text": [
      "[<Record totalNodesWithRelationships=50347 totalNodes=50347>]\n"
     ]
    }
   ],
   "source": [
    "# Check if all BREWERIES nodes have relationships\n",
    "query = \"\"\"\n",
    "    MATCH (b:BREWERIES)\n",
    "    WITH count(b) AS totalNodes\n",
    "    MATCH (b:BREWERIES)\n",
    "    WHERE EXISTS { (b)-[]-() }\n",
    "    RETURN count(b) AS totalNodesWithRelationships, totalNodes\n",
    "\"\"\"\n",
    "result = execute_read(driver, query)\n",
    "pprint(result)"
   ]
  },
  {
   "cell_type": "code",
   "execution_count": 54,
   "metadata": {},
   "outputs": [
    {
     "name": "stdout",
     "output_type": "stream",
     "text": [
      "[<Record totalDuplicates=0>]\n"
     ]
    }
   ],
   "source": [
    "# Verify the changes\n",
    "query = \"\"\"\n",
    "    MATCH (b:BREWERIES)\n",
    "    WITH b.id AS breweryId, count(b) AS count\n",
    "    WHERE count > 1\n",
    "    RETURN count(breweryId) AS totalDuplicates\n",
    "\"\"\"\n",
    "result = execute_read(driver, query)\n",
    "pprint(result)"
   ]
  },
  {
   "cell_type": "code",
   "execution_count": 55,
   "metadata": {},
   "outputs": [
    {
     "name": "stdout",
     "output_type": "stream",
     "text": [
      "CITIES duplicates removed (no relationships):\n",
      "[<Record nodesDeleted=11665>]\n"
     ]
    }
   ],
   "source": [
    "# 2.2.1.3. (CITIES - Duplicate property: name) - Merge duplicates and delete nodes with no relationships\n",
    "query = \"\"\"\n",
    "    MATCH (c:CITIES)\n",
    "    WITH c.name AS cityName, collect(c) AS nodes\n",
    "    WHERE size(nodes) > 1\n",
    "    WITH cityName, nodes[0] AS keepNode, nodes[1..] AS deleteNodes\n",
    "    // Collect relationships of the node to keep\n",
    "    OPTIONAL MATCH (keepNode)-[rKeep]->(target)\n",
    "    WITH cityName, keepNode, deleteNodes, collect(rKeep) AS keepRels, collect(target) AS keepTargets\n",
    "    OPTIONAL MATCH (source)-[rKeepIn]->(keepNode)\n",
    "    WITH cityName, keepNode, deleteNodes, keepRels, keepTargets, collect(rKeepIn) AS keepRelsIn, collect(source) AS keepSources\n",
    "    // Process each node to delete\n",
    "    UNWIND deleteNodes AS delNode\n",
    "    // Collect relationships of the node to delete\n",
    "    OPTIONAL MATCH (delNode)-[rDel]->(delTarget)\n",
    "    WITH cityName, keepNode, delNode, keepRels, keepTargets, keepRelsIn, keepSources,\n",
    "         collect(rDel) AS delRels, collect(delTarget) AS delTargets\n",
    "    OPTIONAL MATCH (delSource)-[rDelIn]->(delNode)\n",
    "    WITH cityName, keepNode, delNode, keepRels, keepTargets, keepRelsIn, keepSources,\n",
    "         delRels, delTargets, collect(rDelIn) AS delRelsIn, collect(delSource) AS delSources\n",
    "    // Only proceed if delNode has no relationships and keepNode has some\n",
    "    WHERE size(delRels) = 0 AND size(delRelsIn) = 0 AND (size(keepRels) > 0 OR size(keepRelsIn) > 0)\n",
    "    // Delete the node with no relationships\n",
    "    DELETE delNode\n",
    "    // Return the number of nodes deleted\n",
    "    RETURN count(delNode) AS nodesDeleted\n",
    "\"\"\"\n",
    "result = execute_write(driver, query)\n",
    "print(\"CITIES duplicates removed (no relationships):\")\n",
    "pprint(result)"
   ]
  },
  {
   "cell_type": "code",
   "execution_count": 56,
   "metadata": {},
   "outputs": [
    {
     "name": "stdout",
     "output_type": "stream",
     "text": [
      "[<Record totalNodesWithRelationships=11665 totalNodes=11665>]\n",
      "[<Record totalDuplicates=0>]\n"
     ]
    }
   ],
   "source": [
    "# Check if all CITIES nodes have relationships\n",
    "query = \"\"\"\n",
    "    MATCH (c:CITIES)\n",
    "    WITH count(c) AS totalNodes\n",
    "    MATCH (c:CITIES)\n",
    "    WHERE EXISTS { (c)-[]-() }\n",
    "    RETURN count(c) AS totalNodesWithRelationships, totalNodes\n",
    "\"\"\"\n",
    "result = execute_read(driver, query)\n",
    "pprint(result)\n",
    "\n",
    "# Verify the changes\n",
    "query = \"\"\"\n",
    "    MATCH (c:CITIES)\n",
    "    WITH c.name AS cityName, count(c) AS count\n",
    "    WHERE count > 1\n",
    "    RETURN count(cityName) AS totalDuplicates\n",
    "\"\"\"\n",
    "result = execute_read(driver, query)\n",
    "pprint(result)"
   ]
  },
  {
   "cell_type": "code",
   "execution_count": 57,
   "metadata": {},
   "outputs": [
    {
     "name": "stdout",
     "output_type": "stream",
     "text": [
      "COUNTRIES duplicates removed (no relationships):\n",
      "[<Record nodesDeleted=200>]\n"
     ]
    }
   ],
   "source": [
    "# 2.2.1.4. (COUNTRIES - Duplicate property: name) - Merge duplicates and delete nodes with no relationships\n",
    "query = \"\"\"\n",
    "    MATCH (c:COUNTRIES)\n",
    "    WITH c.name AS countryName, collect(c) AS nodes\n",
    "    WHERE size(nodes) > 1\n",
    "    WITH countryName, nodes[0] AS keepNode, nodes[1..] AS deleteNodes\n",
    "    // Collect relationships of the node to keep\n",
    "    OPTIONAL MATCH (keepNode)-[rKeep]->(target)\n",
    "    WITH countryName, keepNode, deleteNodes, collect(rKeep) AS keepRels, collect(target) AS keepTargets\n",
    "    OPTIONAL MATCH (source)-[rKeepIn]->(keepNode)\n",
    "    WITH countryName, keepNode, deleteNodes, keepRels, keepTargets, collect(rKeepIn) AS keepRelsIn, collect(source) AS keepSources\n",
    "    // Process each node to delete\n",
    "    UNWIND deleteNodes AS delNode\n",
    "    // Collect relationships of the node to delete\n",
    "    OPTIONAL MATCH (delNode)-[rDel]->(delTarget)\n",
    "    WITH countryName, keepNode, delNode, keepRels, keepTargets, keepRelsIn, keepSources,\n",
    "         collect(rDel) AS delRels, collect(delTarget) AS delTargets\n",
    "    OPTIONAL MATCH (delSource)-[rDelIn]->(delNode)\n",
    "    WITH countryName, keepNode, delNode, keepRels, keepTargets, keepRelsIn, keepSources,\n",
    "         delRels, delTargets, collect(rDelIn) AS delRelsIn, collect(delSource) AS delSources\n",
    "    // Only proceed if delNode has no relationships and keepNode has some\n",
    "    WHERE size(delRels) = 0 AND size(delRelsIn) = 0 AND (size(keepRels) > 0 OR size(keepRelsIn) > 0)\n",
    "    // Delete the node with no relationships\n",
    "    DELETE delNode\n",
    "    // Return the number of nodes deleted\n",
    "    RETURN count(delNode) AS nodesDeleted\n",
    "\"\"\"\n",
    "result = execute_write(driver, query)\n",
    "print(\"COUNTRIES duplicates removed (no relationships):\")\n",
    "pprint(result)"
   ]
  },
  {
   "cell_type": "code",
   "execution_count": 58,
   "metadata": {},
   "outputs": [
    {
     "name": "stdout",
     "output_type": "stream",
     "text": [
      "[<Record totalNodesWithRelationships=200 totalNodes=200>]\n",
      "[<Record totalDuplicates=0>]\n"
     ]
    }
   ],
   "source": [
    "# Check if all COUNTRIES nodes have relationships\n",
    "query = \"\"\"\n",
    "    MATCH (c:COUNTRIES)\n",
    "    WITH count(c) AS totalNodes\n",
    "    MATCH (c:COUNTRIES)\n",
    "    WHERE EXISTS { (c)-[]-() }\n",
    "    RETURN count(c) AS totalNodesWithRelationships, totalNodes\n",
    "\"\"\"\n",
    "result = execute_read(driver, query)\n",
    "pprint(result)\n",
    "\n",
    "# Verify the changes\n",
    "query = \"\"\"\n",
    "    MATCH (c:COUNTRIES)\n",
    "    WITH c.name AS countryName, count(c) AS count\n",
    "    WHERE count > 1\n",
    "    RETURN count(countryName) AS totalDuplicates\n",
    "\"\"\"\n",
    "result = execute_read(driver, query)\n",
    "pprint(result)"
   ]
  },
  {
   "cell_type": "code",
   "execution_count": 59,
   "metadata": {},
   "outputs": [
    {
     "name": "stdout",
     "output_type": "stream",
     "text": [
      "REVIEWS duplicates removed (no relationships):\n",
      "[<Record nodesDeleted=3111>]\n"
     ]
    }
   ],
   "source": [
    "# 2.2.1.5. (REVIEWS - Duplicate property: id) - Merge duplicates and delete nodes with no relationships\n",
    "query = \"\"\"\n",
    "    MATCH (r:REVIEWS)\n",
    "    WITH r.id AS reviewId, collect(r) AS nodes\n",
    "    WHERE size(nodes) > 1\n",
    "    WITH reviewId, nodes[0] AS keepNode, nodes[1..] AS deleteNodes\n",
    "    // Collect relationships of the node to keep\n",
    "    OPTIONAL MATCH (keepNode)-[rKeep]->(target)\n",
    "    WITH reviewId, keepNode, deleteNodes, collect(rKeep) AS keepRels, collect(target) AS keepTargets\n",
    "    OPTIONAL MATCH (source)-[rKeepIn]->(keepNode)\n",
    "    WITH reviewId, keepNode, deleteNodes, keepRels, keepTargets, collect(rKeepIn) AS keepRelsIn, collect(source) AS keepSources\n",
    "    // Process each node to delete\n",
    "    UNWIND deleteNodes AS delNode\n",
    "    // Collect relationships of the node to delete\n",
    "    OPTIONAL MATCH (delNode)-[rDel]->(delTarget)\n",
    "    WITH reviewId, keepNode, delNode, keepRels, keepTargets, keepRelsIn, keepSources,\n",
    "         collect(rDel) AS delRels, collect(delTarget) AS delTargets\n",
    "    OPTIONAL MATCH (delSource)-[rDelIn]->(delNode)\n",
    "    WITH reviewId, keepNode, delNode, keepRels, keepTargets, keepRelsIn, keepSources,\n",
    "         delRels, delTargets, collect(rDelIn) AS delRelsIn, collect(delSource) AS delSources\n",
    "    // Only proceed if delNode has no relationships and keepNode has some\n",
    "    WHERE size(delRels) = 0 AND size(delRelsIn) = 0 AND (size(keepRels) > 0 OR size(keepRelsIn) > 0)\n",
    "    // Delete the node with no relationships\n",
    "    DELETE delNode\n",
    "    // Return the number of nodes deleted\n",
    "    RETURN count(delNode) AS nodesDeleted\n",
    "\"\"\"\n",
    "result = execute_write(driver, query)\n",
    "print(\"REVIEWS duplicates removed (no relationships):\")\n",
    "pprint(result)"
   ]
  },
  {
   "cell_type": "code",
   "execution_count": 60,
   "metadata": {},
   "outputs": [
    {
     "name": "stdout",
     "output_type": "stream",
     "text": [
      "[<Record totalNodesWithRelationships=2538044 totalNodes=2546160>]\n",
      "[<Record totalDuplicates=0>]\n"
     ]
    }
   ],
   "source": [
    "# Check if all REVIEWS nodes have relationships\n",
    "query = \"\"\"\n",
    "    MATCH (r:REVIEWS)\n",
    "    WITH count(r) AS totalNodes\n",
    "    MATCH (r:REVIEWS)\n",
    "    WHERE EXISTS { (r)-[]-() }\n",
    "    RETURN count(r) AS totalNodesWithRelationships, totalNodes\n",
    "\"\"\"\n",
    "result = execute_read(driver, query)\n",
    "pprint(result)\n",
    "\n",
    "# Verify the changes\n",
    "query = \"\"\"\n",
    "    MATCH (r:REVIEWS)\n",
    "    WITH r.id AS reviewId, count(r) AS count\n",
    "    WHERE count > 1\n",
    "    RETURN count(reviewId) AS totalDuplicates\n",
    "\"\"\"\n",
    "result = execute_read(driver, query)\n",
    "pprint(result)"
   ]
  },
  {
   "cell_type": "code",
   "execution_count": 61,
   "metadata": {},
   "outputs": [
    {
     "name": "stdout",
     "output_type": "stream",
     "text": [
      "[<Record nodesWithoutRelationships=8116 sampleNodes=[<Node element_id='921375' labels=frozenset() properties={}>, <Node element_id='921921' labels=frozenset() properties={}>, <Node element_id='922467' labels=frozenset() properties={}>, <Node element_id='923013' labels=frozenset() properties={}>, <Node element_id='923559' labels=frozenset() properties={}>]>]\n"
     ]
    }
   ],
   "source": [
    "# [<Record totalNodesWithRelationships=2538044 totalNodes=2546160>] - There are REVIEW nodes without relationships\n",
    "# Nodes without relationships: 2,546,160 - 2,538,044 = 8,116.\n",
    "\n",
    "query = \"\"\"\n",
    "    // Count and sample REVIEWS nodes without relationships\n",
    "    MATCH (r:REVIEWS)\n",
    "    WHERE NOT EXISTS { (r)-[]-() }\n",
    "    WITH count(r) AS nodesWithoutRelationships, collect(r) AS nodes\n",
    "    RETURN nodesWithoutRelationships, nodes[0..5] AS sampleNodes        // Sample 5 nodes for inspection | Source: https://stackoverflow.com/questions/19075817/retrieving-subset-of-array-list-on-neo4j-node-property\n",
    "\"\"\"\n",
    "result = execute_read(driver, query)\n",
    "pprint(result)"
   ]
  },
  {
   "cell_type": "code",
   "execution_count": 62,
   "metadata": {},
   "outputs": [
    {
     "name": "stdout",
     "output_type": "stream",
     "text": [
      "[]\n"
     ]
    }
   ],
   "source": [
    "# Remove the nodes from the previous query\n",
    "query = \"\"\"\n",
    "    // Remove REVIEWS nodes without relationships\n",
    "    MATCH (r:REVIEWS)\n",
    "    WHERE NOT EXISTS { (r)-[]-() }\n",
    "    DETACH DELETE r\n",
    "\"\"\"\n",
    "result = execute_write(driver, query)\n",
    "pprint(result)"
   ]
  },
  {
   "cell_type": "code",
   "execution_count": 63,
   "metadata": {},
   "outputs": [
    {
     "name": "stdout",
     "output_type": "stream",
     "text": [
      "[<Record totalNodesWithoutRelationships=19>]\n"
     ]
    }
   ],
   "source": [
    "# Check if nodes of REVIEWS without relationships were removed\n",
    "query = \"\"\"\n",
    "    MATCH (r:REVIEWS)\n",
    "    WHERE NOT EXISTS { (r)-[]-() }\n",
    "    RETURN count(r) AS totalNodesWithoutRelationships\n",
    "\"\"\"\n",
    "result = execute_read(driver, query)\n",
    "pprint(result)"
   ]
  },
  {
   "cell_type": "markdown",
   "metadata": {},
   "source": [
    "### **2.3 Detect and Remove Errors**"
   ]
  },
  {
   "cell_type": "code",
   "execution_count": 64,
   "metadata": {},
   "outputs": [
    {
     "name": "stdout",
     "output_type": "stream",
     "text": [
      "Nodes without labels - Count and 5 examples:\n",
      "[<Record totalNodesWithoutLabels=0 sampleNodes=[]>]\n"
     ]
    }
   ],
   "source": [
    "# 2.3.1. Nodes without labels\n",
    "query = \"\"\"\n",
    "    MATCH (n)\n",
    "    WHERE isEmpty(labels(n))\n",
    "    WITH count(n) AS totalNodesWithoutLabels, collect(n) AS nodes\n",
    "    RETURN totalNodesWithoutLabels, nodes[0..5] AS sampleNodes\n",
    "\"\"\"\n",
    "result = execute_read(driver, query)\n",
    "print(\"Nodes without labels - Count and 5 examples:\")\n",
    "pprint(result)"
   ]
  },
  {
   "cell_type": "code",
   "execution_count": 65,
   "metadata": {},
   "outputs": [
    {
     "name": "stderr",
     "output_type": "stream",
     "text": [
      "Received notification from DBMS server: {severity: WARNING} {code: Neo.ClientNotification.Statement.FeatureDeprecationWarning} {category: } {title: This feature is deprecated and will be removed in future versions.} {description: A pattern expression should only be used in order to test the existence of a pattern. It should therefore only be used in contexts that evaluate to a boolean, e.g. inside the function exists() or in a WHERE-clause. All other uses are deprecated and should be replaced by a pattern comprehension.} {position: line: 11, column: 15, offset: 361} for query: '\\n    // What kind of nodes exist\\n    // Sample some nodes, reporting on property and relationship counts per node.\\n    MATCH (n) WHERE rand() <= 0.1\\n    RETURN\\n    DISTINCT labels(n),\\n    count(*) AS SampleSize,\\n    avg(size(keys(n))) as Avg_PropertyCount,\\n    min(size(keys(n))) as Min_PropertyCount,\\n    max(size(keys(n))) as Max_PropertyCount,\\n    avg(size( (n)-[]-() ) ) as Avg_RelationshipCount,\\n    min(size( (n)-[]-() ) ) as Min_RelationshipCount,\\n    max(size( (n)-[]-() ) ) as Max_RelationshipCount\\n'\n",
      "Received notification from DBMS server: {severity: WARNING} {code: Neo.ClientNotification.Statement.FeatureDeprecationWarning} {category: } {title: This feature is deprecated and will be removed in future versions.} {description: A pattern expression should only be used in order to test the existence of a pattern. It should therefore only be used in contexts that evaluate to a boolean, e.g. inside the function exists() or in a WHERE-clause. All other uses are deprecated and should be replaced by a pattern comprehension.} {position: line: 13, column: 15, offset: 469} for query: '\\n    // What kind of nodes exist\\n    // Sample some nodes, reporting on property and relationship counts per node.\\n    MATCH (n) WHERE rand() <= 0.1\\n    RETURN\\n    DISTINCT labels(n),\\n    count(*) AS SampleSize,\\n    avg(size(keys(n))) as Avg_PropertyCount,\\n    min(size(keys(n))) as Min_PropertyCount,\\n    max(size(keys(n))) as Max_PropertyCount,\\n    avg(size( (n)-[]-() ) ) as Avg_RelationshipCount,\\n    min(size( (n)-[]-() ) ) as Min_RelationshipCount,\\n    max(size( (n)-[]-() ) ) as Max_RelationshipCount\\n'\n",
      "Received notification from DBMS server: {severity: WARNING} {code: Neo.ClientNotification.Statement.FeatureDeprecationWarning} {category: } {title: This feature is deprecated and will be removed in future versions.} {description: A pattern expression should only be used in order to test the existence of a pattern. It should therefore only be used in contexts that evaluate to a boolean, e.g. inside the function exists() or in a WHERE-clause. All other uses are deprecated and should be replaced by a pattern comprehension.} {position: line: 12, column: 15, offset: 415} for query: '\\n    // What kind of nodes exist\\n    // Sample some nodes, reporting on property and relationship counts per node.\\n    MATCH (n) WHERE rand() <= 0.1\\n    RETURN\\n    DISTINCT labels(n),\\n    count(*) AS SampleSize,\\n    avg(size(keys(n))) as Avg_PropertyCount,\\n    min(size(keys(n))) as Min_PropertyCount,\\n    max(size(keys(n))) as Max_PropertyCount,\\n    avg(size( (n)-[]-() ) ) as Avg_RelationshipCount,\\n    min(size( (n)-[]-() ) ) as Min_RelationshipCount,\\n    max(size( (n)-[]-() ) ) as Max_RelationshipCount\\n'\n"
     ]
    },
    {
     "data": {
      "text/html": [
       "<div>\n",
       "<style scoped>\n",
       "    .dataframe tbody tr th:only-of-type {\n",
       "        vertical-align: middle;\n",
       "    }\n",
       "\n",
       "    .dataframe tbody tr th {\n",
       "        vertical-align: top;\n",
       "    }\n",
       "\n",
       "    .dataframe thead th {\n",
       "        text-align: right;\n",
       "    }\n",
       "</style>\n",
       "<table border=\"1\" class=\"dataframe\">\n",
       "  <thead>\n",
       "    <tr style=\"text-align: right;\">\n",
       "      <th></th>\n",
       "      <th>SampleSize</th>\n",
       "      <th>Avg_PropertyCount</th>\n",
       "      <th>Min_PropertyCount</th>\n",
       "      <th>Max_PropertyCount</th>\n",
       "      <th>Avg_RelationshipCount</th>\n",
       "      <th>Min_RelationshipCount</th>\n",
       "      <th>Max_RelationshipCount</th>\n",
       "    </tr>\n",
       "    <tr>\n",
       "      <th>Node Label</th>\n",
       "      <th></th>\n",
       "      <th></th>\n",
       "      <th></th>\n",
       "      <th></th>\n",
       "      <th></th>\n",
       "      <th></th>\n",
       "      <th></th>\n",
       "    </tr>\n",
       "  </thead>\n",
       "  <tbody>\n",
       "    <tr>\n",
       "      <th>[COUNTRIES]</th>\n",
       "      <td>15</td>\n",
       "      <td>1.000000</td>\n",
       "      <td>1</td>\n",
       "      <td>1</td>\n",
       "      <td>19.333333</td>\n",
       "      <td>1</td>\n",
       "      <td>158</td>\n",
       "    </tr>\n",
       "    <tr>\n",
       "      <th>[CITIES]</th>\n",
       "      <td>1178</td>\n",
       "      <td>1.000000</td>\n",
       "      <td>1</td>\n",
       "      <td>1</td>\n",
       "      <td>5.067063</td>\n",
       "      <td>2</td>\n",
       "      <td>182</td>\n",
       "    </tr>\n",
       "    <tr>\n",
       "      <th>[BREWERIES]</th>\n",
       "      <td>5014</td>\n",
       "      <td>5.000000</td>\n",
       "      <td>5</td>\n",
       "      <td>5</td>\n",
       "      <td>8.777623</td>\n",
       "      <td>1</td>\n",
       "      <td>923</td>\n",
       "    </tr>\n",
       "    <tr>\n",
       "      <th>[BEERS]</th>\n",
       "      <td>35871</td>\n",
       "      <td>7.892058</td>\n",
       "      <td>7</td>\n",
       "      <td>8</td>\n",
       "      <td>9.126648</td>\n",
       "      <td>2</td>\n",
       "      <td>4396</td>\n",
       "    </tr>\n",
       "    <tr>\n",
       "      <th>[REVIEWS]</th>\n",
       "      <td>253773</td>\n",
       "      <td>7.910475</td>\n",
       "      <td>5</td>\n",
       "      <td>10</td>\n",
       "      <td>1.999976</td>\n",
       "      <td>1</td>\n",
       "      <td>2</td>\n",
       "    </tr>\n",
       "    <tr>\n",
       "      <th>[STYLE]</th>\n",
       "      <td>7</td>\n",
       "      <td>1.000000</td>\n",
       "      <td>1</td>\n",
       "      <td>1</td>\n",
       "      <td>2337.142857</td>\n",
       "      <td>1333</td>\n",
       "      <td>3801</td>\n",
       "    </tr>\n",
       "    <tr>\n",
       "      <th>[USER]</th>\n",
       "      <td>12438</td>\n",
       "      <td>1.000000</td>\n",
       "      <td>1</td>\n",
       "      <td>1</td>\n",
       "      <td>20.528783</td>\n",
       "      <td>0</td>\n",
       "      <td>2344</td>\n",
       "    </tr>\n",
       "  </tbody>\n",
       "</table>\n",
       "</div>"
      ],
      "text/plain": [
       "             SampleSize  Avg_PropertyCount  Min_PropertyCount  \\\n",
       "Node Label                                                      \n",
       "[COUNTRIES]          15           1.000000                  1   \n",
       "[CITIES]           1178           1.000000                  1   \n",
       "[BREWERIES]        5014           5.000000                  5   \n",
       "[BEERS]           35871           7.892058                  7   \n",
       "[REVIEWS]        253773           7.910475                  5   \n",
       "[STYLE]               7           1.000000                  1   \n",
       "[USER]            12438           1.000000                  1   \n",
       "\n",
       "             Max_PropertyCount  Avg_RelationshipCount  Min_RelationshipCount  \\\n",
       "Node Label                                                                     \n",
       "[COUNTRIES]                  1              19.333333                      1   \n",
       "[CITIES]                     1               5.067063                      2   \n",
       "[BREWERIES]                  5               8.777623                      1   \n",
       "[BEERS]                      8               9.126648                      2   \n",
       "[REVIEWS]                   10               1.999976                      1   \n",
       "[STYLE]                      1            2337.142857                   1333   \n",
       "[USER]                       1              20.528783                      0   \n",
       "\n",
       "             Max_RelationshipCount  \n",
       "Node Label                          \n",
       "[COUNTRIES]                    158  \n",
       "[CITIES]                       182  \n",
       "[BREWERIES]                    923  \n",
       "[BEERS]                       4396  \n",
       "[REVIEWS]                        2  \n",
       "[STYLE]                       3801  \n",
       "[USER]                        2344  "
      ]
     },
     "execution_count": 65,
     "metadata": {},
     "output_type": "execute_result"
    }
   ],
   "source": [
    "# Re-do the query 1.11 to see Min_RelationshipCount and Max_RelationshipCount\n",
    "query = \"\"\"\n",
    "    // What kind of nodes exist\n",
    "    // Sample some nodes, reporting on property and relationship counts per node.\n",
    "    MATCH (n) WHERE rand() <= 0.1\n",
    "    RETURN\n",
    "    DISTINCT labels(n),\n",
    "    count(*) AS SampleSize,\n",
    "    avg(size(keys(n))) as Avg_PropertyCount,\n",
    "    min(size(keys(n))) as Min_PropertyCount,\n",
    "    max(size(keys(n))) as Max_PropertyCount,\n",
    "    avg(size( (n)-[]-() ) ) as Avg_RelationshipCount,\n",
    "    min(size( (n)-[]-() ) ) as Min_RelationshipCount,\n",
    "    max(size( (n)-[]-() ) ) as Max_RelationshipCount\n",
    "\"\"\"\n",
    "result = execute_read(driver, query)\n",
    "data = [dict(record) for record in result]\n",
    "df = pd.DataFrame(data)\n",
    "df.set_index(\"labels(n)\", inplace=True)\n",
    "df.index.name = \"Node Label\"\n",
    "df"
   ]
  },
  {
   "cell_type": "markdown",
   "metadata": {},
   "source": [
    "##### **Comments:**\n",
    "\n",
    "- **`Min_PropertyCount`**:\n",
    "  - After removing duplicates, the `Min_PropertyCount` increased for some node labels, indicating that some nodes with fewer properties were duplicates and have been removed.\n",
    "  - However, there are still `REVIEWS` and `USER` nodes with no relationships (`Min_RelationshipCount = 0`). This suggests that while duplicates were addressed, some nodes remain unconnected in the graph.\n",
    "\n",
    "- **`Max_RelationshipCount` for `REVIEWS`**:\n",
    "  - The `Max_RelationshipCount` for `REVIEWS` is 2, which is not expected since the primary relationship for `REVIEWS` is `REVIEWS - POSTED -> USER`."
   ]
  },
  {
   "cell_type": "code",
   "execution_count": 66,
   "metadata": {},
   "outputs": [
    {
     "name": "stdout",
     "output_type": "stream",
     "text": [
      "REVIEW nodes without relationships - Count and 2 examples:\n",
      "[<Record totalReviewsWithoutRelationships=19 sampleReviewNodes=[<Node element_id='921375' labels=frozenset() properties={}>, <Node element_id='921921' labels=frozenset() properties={}>]>]\n"
     ]
    }
   ],
   "source": [
    "# 2.3 - REVIEW nodes without relationships\n",
    "query = \"\"\"\n",
    "    // Count and sample REVIEW nodes without relationships\n",
    "    MATCH (r:REVIEWS)\n",
    "    WHERE NOT EXISTS { (r)-[]-() }\n",
    "    WITH count(r) AS totalReviewsWithoutRelationships, collect(r) AS reviewNodes\n",
    "    RETURN totalReviewsWithoutRelationships, reviewNodes[0..2] AS sampleReviewNodes\n",
    "\"\"\"\n",
    "result = execute_read(driver, query)\n",
    "print(\"REVIEW nodes without relationships - Count and 2 examples:\")\n",
    "pprint(result)"
   ]
  },
  {
   "cell_type": "code",
   "execution_count": 67,
   "metadata": {},
   "outputs": [
    {
     "name": "stdout",
     "output_type": "stream",
     "text": [
      "Total REVIEW nodes deleted (without relationships and properties): 19\n"
     ]
    }
   ],
   "source": [
    "# Query to remove REVIEW nodes without relationships and without properties\n",
    "query = \"\"\"\n",
    "    MATCH (r:REVIEWS)\n",
    "    WHERE NOT EXISTS((r)-[]-()) AND size(keys(r)) = 0\n",
    "    DELETE r\n",
    "    RETURN count(r) AS totalNodesDeleted\n",
    "\"\"\"\n",
    "\n",
    "# Execute the query\n",
    "try:\n",
    "    result = execute_write(driver, query)\n",
    "    print(f\"Total REVIEW nodes deleted (without relationships and properties): {result[0]['totalNodesDeleted']}\")\n",
    "except Exception as e:\n",
    "    print(f\"Error removing REVIEW nodes: {e}\")"
   ]
  },
  {
   "cell_type": "code",
   "execution_count": 68,
   "metadata": {},
   "outputs": [
    {
     "name": "stdout",
     "output_type": "stream",
     "text": [
      "[<Record totalNodesWithoutRelationships=19>]\n"
     ]
    }
   ],
   "source": [
    "# Verify if nodes of REVIEWS without relationships were removed\n",
    "query = \"\"\"\n",
    "    // Check if REVIEW nodes without relationships were removed\n",
    "    MATCH (r:REVIEWS)\n",
    "    WHERE NOT EXISTS { (r)-[]-() }\n",
    "    RETURN count(r) AS totalNodesWithoutRelationships\n",
    "\"\"\"\n",
    "result = execute_read(driver, query)\n",
    "pprint(result)"
   ]
  },
  {
   "cell_type": "markdown",
   "metadata": {},
   "source": [
    "<div class=\"alert alert-block alert-warning\">\n",
    "\n",
    "## **PERGUNTAR PROFª**"
   ]
  },
  {
   "cell_type": "code",
   "execution_count": 69,
   "metadata": {},
   "outputs": [
    {
     "name": "stdout",
     "output_type": "stream",
     "text": [
      "USER nodes without relationships - Count and 5 examples:\n",
      "[<Record totalUsersWithoutRelationships=17290 sampleUserNodes=[<Node element_id='9494578' labels=frozenset({'USER'}) properties={'name': 'Rick_Ereth'}>, <Node element_id='9495077' labels=frozenset({'USER'}) properties={'name': 'matttyt'}>, <Node element_id='9495143' labels=frozenset({'USER'}) properties={'name': 'ChaBrah'}>, <Node element_id='9495174' labels=frozenset({'USER'}) properties={'name': 'bbc0202'}>, <Node element_id='9495303' labels=frozenset({'USER'}) properties={'name': 'Kbenoit16'}>]>]\n"
     ]
    }
   ],
   "source": [
    "# 2.3. USER nodes without relationships \n",
    "query = \"\"\"\n",
    "    // Count and sample USER nodes without relationships\n",
    "    MATCH (u:USER)\n",
    "    WHERE NOT EXISTS { (u)-[]-() }\n",
    "    WITH count(u) AS totalUsersWithoutRelationships, collect(u) AS userNodes\n",
    "    RETURN totalUsersWithoutRelationships, userNodes[0..5] AS sampleUserNodes\n",
    "\"\"\"\n",
    "result = execute_read(driver, query)\n",
    "print(\"USER nodes without relationships - Count and 5 examples:\")\n",
    "pprint(result)"
   ]
  },
  {
   "cell_type": "markdown",
   "metadata": {},
   "source": [
    "- Since we don't know the exact origin of this data and where/how it was obtained, it might make sense for there to be **`USERS`** with no reviews (e.g., users who have created an account on the data retrieval page, but have never done a REVIEW). So, we will not remove these nodes.\n"
   ]
  },
  {
   "cell_type": "markdown",
   "metadata": {},
   "source": [
    "---"
   ]
  },
  {
   "cell_type": "code",
   "execution_count": 70,
   "metadata": {},
   "outputs": [
    {
     "name": "stdout",
     "output_type": "stream",
     "text": [
      "[<Record b.name=\"Earache: World's Shortest Album\" b.abv=100.0>,\n",
      " <Record b.name='Radiohead - OK Computer' b.abv=100.0>,\n",
      " <Record b.name='water' b.abv=100.0>,\n",
      " <Record b.name='Dark Reckoning' b.abv=80.0>]\n"
     ]
    }
   ],
   "source": [
    "# 2.3. BEERS.abv greater than 67.5\n",
    "query = \"\"\"\n",
    "    MATCH (b:BEERS)\n",
    "    WHERE b.abv > 67.5 OR b.abv < 0\n",
    "    RETURN b.name, b.abv\n",
    "    ORDER BY b.abv DESC\n",
    "\"\"\"\n",
    "result = execute_read(driver, query)\n",
    "pprint(result)"
   ]
  },
  {
   "cell_type": "markdown",
   "metadata": {},
   "source": [
    "Checking the **`BEERS`** node, we found that there are some beers with **`abv`** greater than **$67.5$**. After observing that cases, we found that the names of the beers are **`Earache: World's Shortest Album`** and **`Dark Reckoning`**, **`Radiohead - OK Computer`** and **`water`** and we researched about them and found that they are not beers, so we will remove them."
   ]
  },
  {
   "cell_type": "code",
   "execution_count": 71,
   "metadata": {},
   "outputs": [
    {
     "name": "stdout",
     "output_type": "stream",
     "text": [
      "[]\n"
     ]
    }
   ],
   "source": [
    "# 2.3. Remove nodes with BEERS.abv greater than 67.5\n",
    "query = \"\"\"\n",
    "    MATCH (b:BEERS)\n",
    "    WHERE b.abv > 67.5 OR b.abv < 0\n",
    "    DETACH DELETE b\n",
    "\"\"\"\n",
    "result = execute_write(driver, query)\n",
    "pprint(result)"
   ]
  },
  {
   "cell_type": "code",
   "execution_count": 72,
   "metadata": {},
   "outputs": [
    {
     "name": "stdout",
     "output_type": "stream",
     "text": [
      "[<Record totalBeers=0 sampleBeers=[]>]\n"
     ]
    }
   ],
   "source": [
    "# Verify the changes \n",
    "query = \"\"\"\n",
    "    // Count the number of BEERS nodes with abv > 67.5 and return the total and a sample\n",
    "    MATCH (b:BEERS)\n",
    "    WHERE b.abv > 67.5\n",
    "    WITH count(b) AS totalBeers, collect(b) AS beers\n",
    "    RETURN totalBeers, beers[0..5] AS sampleBeers\n",
    "\"\"\"\n",
    "result = execute_read(driver, query)\n",
    "pprint(result)"
   ]
  },
  {
   "cell_type": "markdown",
   "metadata": {},
   "source": [
    "### **2.4. 🧹 Remove Missing Values**"
   ]
  },
  {
   "cell_type": "code",
   "execution_count": null,
   "metadata": {},
   "outputs": [
    {
     "name": "stdout",
     "output_type": "stream",
     "text": [
      "\n",
      "\n",
      "Summary statistics of each property for each node label in the database (After Cleaning):\n"
     ]
    },
    {
     "name": "stderr",
     "output_type": "stream",
     "text": [
      "100%|██████████| 27/27 [06:36<00:00, 14.68s/it]\n"
     ]
    },
    {
     "data": {
      "text/html": [
       "<div>\n",
       "<style scoped>\n",
       "    .dataframe tbody tr th:only-of-type {\n",
       "        vertical-align: middle;\n",
       "    }\n",
       "\n",
       "    .dataframe tbody tr th {\n",
       "        vertical-align: top;\n",
       "    }\n",
       "\n",
       "    .dataframe thead th {\n",
       "        text-align: right;\n",
       "    }\n",
       "</style>\n",
       "<table border=\"1\" class=\"dataframe\">\n",
       "  <thead>\n",
       "    <tr style=\"text-align: right;\">\n",
       "      <th></th>\n",
       "      <th></th>\n",
       "      <th>Count</th>\n",
       "      <th>Distinct Count</th>\n",
       "      <th>Mean</th>\n",
       "      <th>Min</th>\n",
       "      <th>Max</th>\n",
       "      <th>Missing Count</th>\n",
       "      <th>Missing Count (%)</th>\n",
       "    </tr>\n",
       "    <tr>\n",
       "      <th>Node</th>\n",
       "      <th>Property</th>\n",
       "      <th></th>\n",
       "      <th></th>\n",
       "      <th></th>\n",
       "      <th></th>\n",
       "      <th></th>\n",
       "      <th></th>\n",
       "      <th></th>\n",
       "    </tr>\n",
       "  </thead>\n",
       "  <tbody>\n",
       "    <tr>\n",
       "      <th rowspan=\"8\" valign=\"top\">BEERS</th>\n",
       "      <th>abv</th>\n",
       "      <td>320072</td>\n",
       "      <td>937</td>\n",
       "      <td>6.53</td>\n",
       "      <td>0.01</td>\n",
       "      <td>67.50</td>\n",
       "      <td>38797</td>\n",
       "      <td>12.12</td>\n",
       "    </tr>\n",
       "    <tr>\n",
       "      <th>availability</th>\n",
       "      <td>358869</td>\n",
       "      <td>20</td>\n",
       "      <td>-</td>\n",
       "      <td>-</td>\n",
       "      <td>-</td>\n",
       "      <td>0</td>\n",
       "      <td>0</td>\n",
       "    </tr>\n",
       "    <tr>\n",
       "      <th>brewery_id</th>\n",
       "      <td>358869</td>\n",
       "      <td>16569</td>\n",
       "      <td>24 597.39</td>\n",
       "      <td>1</td>\n",
       "      <td>54144</td>\n",
       "      <td>0</td>\n",
       "      <td>0</td>\n",
       "    </tr>\n",
       "    <tr>\n",
       "      <th>id</th>\n",
       "      <td>358869</td>\n",
       "      <td>358869</td>\n",
       "      <td>189 239.20</td>\n",
       "      <td>3</td>\n",
       "      <td>374406</td>\n",
       "      <td>0</td>\n",
       "      <td>0</td>\n",
       "    </tr>\n",
       "    <tr>\n",
       "      <th>name</th>\n",
       "      <td>358869</td>\n",
       "      <td>298564</td>\n",
       "      <td>-</td>\n",
       "      <td>-</td>\n",
       "      <td>-</td>\n",
       "      <td>0</td>\n",
       "      <td>0</td>\n",
       "    </tr>\n",
       "    <tr>\n",
       "      <th>notes</th>\n",
       "      <td>358869</td>\n",
       "      <td>48313</td>\n",
       "      <td>-</td>\n",
       "      <td>-</td>\n",
       "      <td>-</td>\n",
       "      <td>46</td>\n",
       "      <td>0.01</td>\n",
       "    </tr>\n",
       "    <tr>\n",
       "      <th>retired</th>\n",
       "      <td>358869</td>\n",
       "      <td>2</td>\n",
       "      <td>-</td>\n",
       "      <td>-</td>\n",
       "      <td>-</td>\n",
       "      <td>0</td>\n",
       "      <td>0</td>\n",
       "    </tr>\n",
       "    <tr>\n",
       "      <th>state</th>\n",
       "      <td>358869</td>\n",
       "      <td>68</td>\n",
       "      <td>-</td>\n",
       "      <td>-</td>\n",
       "      <td>-</td>\n",
       "      <td>60726</td>\n",
       "      <td>16.92</td>\n",
       "    </tr>\n",
       "    <tr>\n",
       "      <th rowspan=\"5\" valign=\"top\">BREWERIES</th>\n",
       "      <th>id</th>\n",
       "      <td>50347</td>\n",
       "      <td>50347</td>\n",
       "      <td>27 870.51</td>\n",
       "      <td>1</td>\n",
       "      <td>54156</td>\n",
       "      <td>0</td>\n",
       "      <td>0</td>\n",
       "    </tr>\n",
       "    <tr>\n",
       "      <th>name</th>\n",
       "      <td>50347</td>\n",
       "      <td>45245</td>\n",
       "      <td>-</td>\n",
       "      <td>-</td>\n",
       "      <td>-</td>\n",
       "      <td>0</td>\n",
       "      <td>0</td>\n",
       "    </tr>\n",
       "    <tr>\n",
       "      <th>notes</th>\n",
       "      <td>50347</td>\n",
       "      <td>3271</td>\n",
       "      <td>-</td>\n",
       "      <td>-</td>\n",
       "      <td>-</td>\n",
       "      <td>85</td>\n",
       "      <td>0.17</td>\n",
       "    </tr>\n",
       "    <tr>\n",
       "      <th>state</th>\n",
       "      <td>50347</td>\n",
       "      <td>68</td>\n",
       "      <td>-</td>\n",
       "      <td>-</td>\n",
       "      <td>-</td>\n",
       "      <td>11271</td>\n",
       "      <td>22.39</td>\n",
       "    </tr>\n",
       "    <tr>\n",
       "      <th>types</th>\n",
       "      <td>50347</td>\n",
       "      <td>30</td>\n",
       "      <td>-</td>\n",
       "      <td>-</td>\n",
       "      <td>-</td>\n",
       "      <td>0</td>\n",
       "      <td>0</td>\n",
       "    </tr>\n",
       "    <tr>\n",
       "      <th>CITIES</th>\n",
       "      <th>name</th>\n",
       "      <td>11665</td>\n",
       "      <td>11665</td>\n",
       "      <td>-</td>\n",
       "      <td>-</td>\n",
       "      <td>-</td>\n",
       "      <td>1</td>\n",
       "      <td>0.01</td>\n",
       "    </tr>\n",
       "    <tr>\n",
       "      <th>COUNTRIES</th>\n",
       "      <th>name</th>\n",
       "      <td>200</td>\n",
       "      <td>200</td>\n",
       "      <td>-</td>\n",
       "      <td>-</td>\n",
       "      <td>-</td>\n",
       "      <td>1</td>\n",
       "      <td>0.50</td>\n",
       "    </tr>\n",
       "    <tr>\n",
       "      <th rowspan=\"10\" valign=\"top\">REVIEWS</th>\n",
       "      <th>beer_id</th>\n",
       "      <td>2538044</td>\n",
       "      <td>189395</td>\n",
       "      <td>77 311.79</td>\n",
       "      <td>3</td>\n",
       "      <td>373128</td>\n",
       "      <td>19</td>\n",
       "      <td>0.00</td>\n",
       "    </tr>\n",
       "    <tr>\n",
       "      <th>date</th>\n",
       "      <td>2538044</td>\n",
       "      <td>6379</td>\n",
       "      <td>-</td>\n",
       "      <td>-</td>\n",
       "      <td>-</td>\n",
       "      <td>19</td>\n",
       "      <td>0.00</td>\n",
       "    </tr>\n",
       "    <tr>\n",
       "      <th>feel</th>\n",
       "      <td>1477561</td>\n",
       "      <td>17</td>\n",
       "      <td>3.88</td>\n",
       "      <td>1</td>\n",
       "      <td>5</td>\n",
       "      <td>1060502</td>\n",
       "      <td>71.77</td>\n",
       "    </tr>\n",
       "    <tr>\n",
       "      <th>id</th>\n",
       "      <td>2538044</td>\n",
       "      <td>2538044</td>\n",
       "      <td>4 537 303.98</td>\n",
       "      <td>1</td>\n",
       "      <td>9073127</td>\n",
       "      <td>19</td>\n",
       "      <td>0.00</td>\n",
       "    </tr>\n",
       "    <tr>\n",
       "      <th>look</th>\n",
       "      <td>1477561</td>\n",
       "      <td>17</td>\n",
       "      <td>3.95</td>\n",
       "      <td>1</td>\n",
       "      <td>5</td>\n",
       "      <td>1060502</td>\n",
       "      <td>71.77</td>\n",
       "    </tr>\n",
       "    <tr>\n",
       "      <th>overall</th>\n",
       "      <td>1477561</td>\n",
       "      <td>17</td>\n",
       "      <td>3.92</td>\n",
       "      <td>1</td>\n",
       "      <td>5</td>\n",
       "      <td>1060502</td>\n",
       "      <td>71.77</td>\n",
       "    </tr>\n",
       "    <tr>\n",
       "      <th>score</th>\n",
       "      <td>2538044</td>\n",
       "      <td>401</td>\n",
       "      <td>3.89</td>\n",
       "      <td>1</td>\n",
       "      <td>5</td>\n",
       "      <td>19</td>\n",
       "      <td>0.00</td>\n",
       "    </tr>\n",
       "    <tr>\n",
       "      <th>smell</th>\n",
       "      <td>1477561</td>\n",
       "      <td>17</td>\n",
       "      <td>3.89</td>\n",
       "      <td>1</td>\n",
       "      <td>5</td>\n",
       "      <td>1060502</td>\n",
       "      <td>71.77</td>\n",
       "    </tr>\n",
       "    <tr>\n",
       "      <th>taste</th>\n",
       "      <td>1477561</td>\n",
       "      <td>17</td>\n",
       "      <td>3.92</td>\n",
       "      <td>1</td>\n",
       "      <td>5</td>\n",
       "      <td>1060502</td>\n",
       "      <td>71.77</td>\n",
       "    </tr>\n",
       "    <tr>\n",
       "      <th>text</th>\n",
       "      <td>2538044</td>\n",
       "      <td>812239</td>\n",
       "      <td>-</td>\n",
       "      <td>-</td>\n",
       "      <td>-</td>\n",
       "      <td>19</td>\n",
       "      <td>0.00</td>\n",
       "    </tr>\n",
       "    <tr>\n",
       "      <th>STYLE</th>\n",
       "      <th>name</th>\n",
       "      <td>113</td>\n",
       "      <td>113</td>\n",
       "      <td>-</td>\n",
       "      <td>-</td>\n",
       "      <td>-</td>\n",
       "      <td>1</td>\n",
       "      <td>0.88</td>\n",
       "    </tr>\n",
       "    <tr>\n",
       "      <th>USER</th>\n",
       "      <th>name</th>\n",
       "      <td>123935</td>\n",
       "      <td>123935</td>\n",
       "      <td>-</td>\n",
       "      <td>-</td>\n",
       "      <td>-</td>\n",
       "      <td>1</td>\n",
       "      <td>0.00</td>\n",
       "    </tr>\n",
       "  </tbody>\n",
       "</table>\n",
       "</div>"
      ],
      "text/plain": [
       "                          Count  Distinct Count          Mean   Min      Max  \\\n",
       "Node      Property                                                             \n",
       "BEERS     abv            320072             937          6.53  0.01    67.50   \n",
       "          availability   358869              20             -     -        -   \n",
       "          brewery_id     358869           16569     24 597.39     1    54144   \n",
       "          id             358869          358869    189 239.20     3   374406   \n",
       "          name           358869          298564             -     -        -   \n",
       "          notes          358869           48313             -     -        -   \n",
       "          retired        358869               2             -     -        -   \n",
       "          state          358869              68             -     -        -   \n",
       "BREWERIES id              50347           50347     27 870.51     1    54156   \n",
       "          name            50347           45245             -     -        -   \n",
       "          notes           50347            3271             -     -        -   \n",
       "          state           50347              68             -     -        -   \n",
       "          types           50347              30             -     -        -   \n",
       "CITIES    name            11665           11665             -     -        -   \n",
       "COUNTRIES name              200             200             -     -        -   \n",
       "REVIEWS   beer_id       2538044          189395     77 311.79     3   373128   \n",
       "          date          2538044            6379             -     -        -   \n",
       "          feel          1477561              17          3.88     1        5   \n",
       "          id            2538044         2538044  4 537 303.98     1  9073127   \n",
       "          look          1477561              17          3.95     1        5   \n",
       "          overall       1477561              17          3.92     1        5   \n",
       "          score         2538044             401          3.89     1        5   \n",
       "          smell         1477561              17          3.89     1        5   \n",
       "          taste         1477561              17          3.92     1        5   \n",
       "          text          2538044          812239             -     -        -   \n",
       "STYLE     name              113             113             -     -        -   \n",
       "USER      name           123935          123935             -     -        -   \n",
       "\n",
       "                        Missing Count Missing Count (%)  \n",
       "Node      Property                                       \n",
       "BEERS     abv                   38797             12.12  \n",
       "          availability              0                 0  \n",
       "          brewery_id                0                 0  \n",
       "          id                        0                 0  \n",
       "          name                      0                 0  \n",
       "          notes                    46              0.01  \n",
       "          retired                   0                 0  \n",
       "          state                 60726             16.92  \n",
       "BREWERIES id                        0                 0  \n",
       "          name                      0                 0  \n",
       "          notes                    85              0.17  \n",
       "          state                 11271             22.39  \n",
       "          types                     0                 0  \n",
       "CITIES    name                      1              0.01  \n",
       "COUNTRIES name                      1              0.50  \n",
       "REVIEWS   beer_id                  19              0.00  \n",
       "          date                     19              0.00  \n",
       "          feel                1060502             71.77  \n",
       "          id                       19              0.00  \n",
       "          look                1060502             71.77  \n",
       "          overall             1060502             71.77  \n",
       "          score                    19              0.00  \n",
       "          smell               1060502             71.77  \n",
       "          taste               1060502             71.77  \n",
       "          text                     19              0.00  \n",
       "STYLE     name                      1              0.88  \n",
       "USER      name                      1              0.00  "
      ]
     },
     "execution_count": 73,
     "metadata": {},
     "output_type": "execute_result"
    }
   ],
   "source": [
    "# Source: https://neo4j.com/docs/cypher-manual/current/clauses/remove/\n",
    "\n",
    "# 2.4 - Re-run the query 1.12 (Before Missing Values Handling)\n",
    "\n",
    "print(\"\\n\\nSummary statistics of each property for each node label in the database (After Cleaning):\")\n",
    "\n",
    "# Initialize a list to store statistics\n",
    "stats_list = []\n",
    "\n",
    "# Iterate over each property and calculate statistics\n",
    "for record in tqdm(properties_result):\n",
    "    nodeType = record['nodeType'].replace('`', '').replace(':', '')  # Remove backticks and ':'\n",
    "    propertyName = record['propertyName']\n",
    "    \n",
    "    # Construct query for each property\n",
    "    if propertyName.lower() in ['name', 'notes', 'state', 'availability', 'types', 'text']:\n",
    "        # String properties\n",
    "        stats_query = f\"\"\"\n",
    "            MATCH (n:{nodeType})\n",
    "            RETURN\n",
    "                '{nodeType}' AS nodeType,\n",
    "                '{propertyName}' AS propertyName,\n",
    "                COUNT(n.{propertyName}) AS count,\n",
    "                COUNT(DISTINCT n.{propertyName}) AS distinctCount,\n",
    "                '-' AS mean,\n",
    "                '-' AS min,\n",
    "                '-' AS max,\n",
    "                COUNT(CASE WHEN n.{propertyName} IS NULL OR n.{propertyName} = '' OR toLower(trim(n.{propertyName})) IN ['nan', 'null', 'none', '', ' '] THEN 1 ELSE NULL END) AS missingCount\n",
    "        \"\"\"\n",
    "    elif propertyName.lower() in ['retired', 'date']:\n",
    "        # Boolean & Date properties\n",
    "        stats_query = f\"\"\"\n",
    "            MATCH (n:{nodeType})\n",
    "            RETURN\n",
    "                '{nodeType}' AS nodeType,\n",
    "                '{propertyName}' AS propertyName,\n",
    "                COUNT(n.{propertyName}) AS count,\n",
    "                COUNT(DISTINCT n.{propertyName}) AS distinctCount,\n",
    "                '-' AS mean,\n",
    "                '-' AS min,\n",
    "                '-' AS max,\n",
    "                COUNT(CASE WHEN n.{propertyName} IS NULL THEN 1 ELSE NULL END) AS missingCount\n",
    "        \"\"\"\n",
    "    else:\n",
    "        # Numeric properties\n",
    "        stats_query = f\"\"\"\n",
    "            MATCH (n:{nodeType})\n",
    "            WITH n, n.{propertyName} AS value\n",
    "            RETURN\n",
    "                '{nodeType}' AS nodeType,\n",
    "                '{propertyName}' AS propertyName,\n",
    "                COUNT(value) AS count,\n",
    "                COUNT(DISTINCT value) AS distinctCount,\n",
    "                AVG(value) AS mean,\n",
    "                MIN(value) AS min,\n",
    "                MAX(value) AS max,\n",
    "                COUNT(CASE WHEN value IS NULL THEN 1 ELSE NULL END) AS missingCount\n",
    "        \"\"\"\n",
    "    \n",
    "    try:\n",
    "        stats_result = execute_read(driver, stats_query)\n",
    "        if stats_result:\n",
    "            stats_list.append(stats_result[0])\n",
    "    except Exception as e:\n",
    "        print(f\"Error processing {nodeType}.{propertyName}: {e}\")\n",
    "\n",
    "# Convert to DataFrame\n",
    "df = pd.DataFrame(stats_list, columns=['Node', 'Property', 'Count', 'Distinct Count', \n",
    "                                       'Mean', 'Min', 'Max', 'Missing Count'])                          # Convert the list to a DataFrame\n",
    "df['Missing Count (%)'] = (df['Missing Count'] / df['Count']) * 100                                     # Calculate the percentage of missing values\n",
    "df.set_index(['Node', 'Property'], inplace=True)                                                        # Set the index to Node and Property (Hierarchical Indexing)\n",
    "df.fillna('-', inplace=True)                                                                            # Fill NaN values with 0\n",
    "df = df.map(\n",
    "    lambda x: '{:,.0f}'.format(x).replace(',', ' ') if isinstance(x, float) and not np.isnan(x) and not np.isinf(x) and x == int(x) else\n",
    "              '{:,.2f}'.format(x).replace(',', ' ') if isinstance(x, float) and not np.isnan(x) and not np.isinf(x) else\n",
    "              x\n",
    ")                                                                                                                     # Format the DataFrame for better visualization\n",
    "df "
   ]
  },
  {
   "cell_type": "code",
   "execution_count": 74,
   "metadata": {},
   "outputs": [
    {
     "name": "stdout",
     "output_type": "stream",
     "text": [
      "\n",
      "Summary of nodes where properties were removed:\n",
      "Label: BEERS, Nodes Updated: 99569\n",
      "Label: BREWERIES, Nodes Updated: 11356\n",
      "Label: CITIES, Nodes Updated: 1\n",
      "Label: COUNTRIES, Nodes Updated: 1\n",
      "Label: REVIEWS, Nodes Updated: 5302586\n",
      "Label: STYLE, Nodes Updated: 1\n",
      "Label: USER, Nodes Updated: 1\n"
     ]
    }
   ],
   "source": [
    "# Removing missing properties from nodes and logging changes\n",
    "\n",
    "# List of nodes and properties with missing values\n",
    "missing_values = {\n",
    "    \"BEERS\": [\"abv\", \"state\", \"notes\"],\n",
    "    \"BREWERIES\": [\"notes\", \"state\"],\n",
    "    \"CITIES\": [\"name\"],\n",
    "    \"COUNTRIES\": [\"name\"],\n",
    "    \"REVIEWS\": [\"beer_id\", \"date\", \"feel\", \"id\", \"look\", \"overall\", \"score\", \"smell\", \"taste\", \"text\"],\n",
    "    \"STYLE\": [\"name\"],\n",
    "    \"USER\": [\"name\"]\n",
    "}\n",
    "\n",
    "# Dictionary to store how many nodes had properties removed\n",
    "nodes_updated_count = {}\n",
    "\n",
    "# Iterate over each node type and property to remove the missing property values\n",
    "for node_type, properties in missing_values.items():\n",
    "    for property in properties:\n",
    "        # Handle STRING properties\n",
    "        if property in ['name', 'notes', 'state', 'availability', 'types', 'text']:  \n",
    "            condition = f\"n.{property} IS NULL OR n.{property} = '' OR toLower(trim(COALESCE(n.{property}, ''))) IN ['nan', 'null', 'none', '', 'n/a', 'na']\"\n",
    "        # Handle NUMERIC properties (Double, Long)\n",
    "        elif property in ['abv', 'beer_id', 'score', 'feel', 'look', 'overall', 'smell', 'taste']:\n",
    "            condition = f\"n.{property} IS NULL\"\n",
    "        # Handle DATE properties\n",
    "        elif property in ['date']:\n",
    "            condition = f\"n.{property} IS NULL\"\n",
    "        else:\n",
    "            continue  # Skip unknown property types\n",
    "\n",
    "        # Query to count affected nodes\n",
    "        count_query = f\"\"\"\n",
    "            MATCH (n:{node_type})\n",
    "            WHERE {condition}\n",
    "            RETURN count(n) AS nodesUpdated\n",
    "        \"\"\"\n",
    "\n",
    "        # Execute count query\n",
    "        try:\n",
    "            count_result = execute_read(driver, count_query)\n",
    "            if count_result and count_result[0]['nodesUpdated'] > 0:\n",
    "                affected_nodes = count_result[0]['nodesUpdated']\n",
    "\n",
    "                # Query to remove the property\n",
    "                # Source: https://neo4j.com/docs/cypher-manual/current/clauses/remove/\n",
    "                remove_query = f\"\"\"\n",
    "                    MATCH (n:{node_type})\n",
    "                    WHERE {condition}\n",
    "                    REMOVE n.{property}\n",
    "                \"\"\"\n",
    "                \n",
    "                # Execute remove query\n",
    "                execute_write(driver, remove_query)\n",
    "\n",
    "                # Store the count of affected nodes\n",
    "                if node_type not in nodes_updated_count:\n",
    "                    nodes_updated_count[node_type] = 0\n",
    "                nodes_updated_count[node_type] += affected_nodes\n",
    "\n",
    "        except Exception as e:\n",
    "            print(f\"Error processing {node_type} nodes with missing {property}: {e}\")\n",
    "\n",
    "# Print summary of changes\n",
    "print(\"\\nSummary of nodes where properties were removed:\")\n",
    "for node, count in nodes_updated_count.items():\n",
    "    print(f\"Label: {node}, Nodes Updated: {count}\")"
   ]
  },
  {
   "cell_type": "code",
   "execution_count": 75,
   "metadata": {},
   "outputs": [
    {
     "name": "stdout",
     "output_type": "stream",
     "text": [
      "\n",
      "\n",
      "Summary statistics of each property for each node label in the database (After Cleaning):\n"
     ]
    },
    {
     "name": "stderr",
     "output_type": "stream",
     "text": [
      "100%|██████████| 27/27 [12:28<00:00, 27.71s/it] \n"
     ]
    },
    {
     "data": {
      "text/html": [
       "<div>\n",
       "<style scoped>\n",
       "    .dataframe tbody tr th:only-of-type {\n",
       "        vertical-align: middle;\n",
       "    }\n",
       "\n",
       "    .dataframe tbody tr th {\n",
       "        vertical-align: top;\n",
       "    }\n",
       "\n",
       "    .dataframe thead th {\n",
       "        text-align: right;\n",
       "    }\n",
       "</style>\n",
       "<table border=\"1\" class=\"dataframe\">\n",
       "  <thead>\n",
       "    <tr style=\"text-align: right;\">\n",
       "      <th></th>\n",
       "      <th></th>\n",
       "      <th>Count</th>\n",
       "      <th>Distinct Count</th>\n",
       "      <th>Mean</th>\n",
       "      <th>Min</th>\n",
       "      <th>Max</th>\n",
       "      <th>Missing Count</th>\n",
       "      <th>Missing Count (%)</th>\n",
       "    </tr>\n",
       "    <tr>\n",
       "      <th>Node</th>\n",
       "      <th>Property</th>\n",
       "      <th></th>\n",
       "      <th></th>\n",
       "      <th></th>\n",
       "      <th></th>\n",
       "      <th></th>\n",
       "      <th></th>\n",
       "      <th></th>\n",
       "    </tr>\n",
       "  </thead>\n",
       "  <tbody>\n",
       "    <tr>\n",
       "      <th rowspan=\"8\" valign=\"top\">BEERS</th>\n",
       "      <th>abv</th>\n",
       "      <td>320072</td>\n",
       "      <td>937</td>\n",
       "      <td>6.53</td>\n",
       "      <td>0.01</td>\n",
       "      <td>67.50</td>\n",
       "      <td>38797</td>\n",
       "      <td>12.12</td>\n",
       "    </tr>\n",
       "    <tr>\n",
       "      <th>availability</th>\n",
       "      <td>358869</td>\n",
       "      <td>20</td>\n",
       "      <td>-</td>\n",
       "      <td>-</td>\n",
       "      <td>-</td>\n",
       "      <td>0</td>\n",
       "      <td>0</td>\n",
       "    </tr>\n",
       "    <tr>\n",
       "      <th>brewery_id</th>\n",
       "      <td>358869</td>\n",
       "      <td>16569</td>\n",
       "      <td>24 597.39</td>\n",
       "      <td>1</td>\n",
       "      <td>54144</td>\n",
       "      <td>0</td>\n",
       "      <td>0</td>\n",
       "    </tr>\n",
       "    <tr>\n",
       "      <th>id</th>\n",
       "      <td>358869</td>\n",
       "      <td>358869</td>\n",
       "      <td>189 239.20</td>\n",
       "      <td>3</td>\n",
       "      <td>374406</td>\n",
       "      <td>0</td>\n",
       "      <td>0</td>\n",
       "    </tr>\n",
       "    <tr>\n",
       "      <th>name</th>\n",
       "      <td>358869</td>\n",
       "      <td>298564</td>\n",
       "      <td>-</td>\n",
       "      <td>-</td>\n",
       "      <td>-</td>\n",
       "      <td>0</td>\n",
       "      <td>0</td>\n",
       "    </tr>\n",
       "    <tr>\n",
       "      <th>notes</th>\n",
       "      <td>358823</td>\n",
       "      <td>48312</td>\n",
       "      <td>-</td>\n",
       "      <td>-</td>\n",
       "      <td>-</td>\n",
       "      <td>46</td>\n",
       "      <td>0.01</td>\n",
       "    </tr>\n",
       "    <tr>\n",
       "      <th>retired</th>\n",
       "      <td>358869</td>\n",
       "      <td>2</td>\n",
       "      <td>-</td>\n",
       "      <td>-</td>\n",
       "      <td>-</td>\n",
       "      <td>0</td>\n",
       "      <td>0</td>\n",
       "    </tr>\n",
       "    <tr>\n",
       "      <th>state</th>\n",
       "      <td>298143</td>\n",
       "      <td>67</td>\n",
       "      <td>-</td>\n",
       "      <td>-</td>\n",
       "      <td>-</td>\n",
       "      <td>60726</td>\n",
       "      <td>20.37</td>\n",
       "    </tr>\n",
       "    <tr>\n",
       "      <th rowspan=\"5\" valign=\"top\">BREWERIES</th>\n",
       "      <th>id</th>\n",
       "      <td>50347</td>\n",
       "      <td>50347</td>\n",
       "      <td>27 870.51</td>\n",
       "      <td>1</td>\n",
       "      <td>54156</td>\n",
       "      <td>0</td>\n",
       "      <td>0</td>\n",
       "    </tr>\n",
       "    <tr>\n",
       "      <th>name</th>\n",
       "      <td>50347</td>\n",
       "      <td>45245</td>\n",
       "      <td>-</td>\n",
       "      <td>-</td>\n",
       "      <td>-</td>\n",
       "      <td>0</td>\n",
       "      <td>0</td>\n",
       "    </tr>\n",
       "    <tr>\n",
       "      <th>notes</th>\n",
       "      <td>50262</td>\n",
       "      <td>3270</td>\n",
       "      <td>-</td>\n",
       "      <td>-</td>\n",
       "      <td>-</td>\n",
       "      <td>85</td>\n",
       "      <td>0.17</td>\n",
       "    </tr>\n",
       "    <tr>\n",
       "      <th>state</th>\n",
       "      <td>39076</td>\n",
       "      <td>67</td>\n",
       "      <td>-</td>\n",
       "      <td>-</td>\n",
       "      <td>-</td>\n",
       "      <td>11271</td>\n",
       "      <td>28.84</td>\n",
       "    </tr>\n",
       "    <tr>\n",
       "      <th>types</th>\n",
       "      <td>50347</td>\n",
       "      <td>30</td>\n",
       "      <td>-</td>\n",
       "      <td>-</td>\n",
       "      <td>-</td>\n",
       "      <td>0</td>\n",
       "      <td>0</td>\n",
       "    </tr>\n",
       "    <tr>\n",
       "      <th>CITIES</th>\n",
       "      <th>name</th>\n",
       "      <td>11664</td>\n",
       "      <td>11664</td>\n",
       "      <td>-</td>\n",
       "      <td>-</td>\n",
       "      <td>-</td>\n",
       "      <td>1</td>\n",
       "      <td>0.01</td>\n",
       "    </tr>\n",
       "    <tr>\n",
       "      <th>COUNTRIES</th>\n",
       "      <th>name</th>\n",
       "      <td>199</td>\n",
       "      <td>199</td>\n",
       "      <td>-</td>\n",
       "      <td>-</td>\n",
       "      <td>-</td>\n",
       "      <td>1</td>\n",
       "      <td>0.50</td>\n",
       "    </tr>\n",
       "    <tr>\n",
       "      <th rowspan=\"10\" valign=\"top\">REVIEWS</th>\n",
       "      <th>beer_id</th>\n",
       "      <td>2538044</td>\n",
       "      <td>189395</td>\n",
       "      <td>77 311.79</td>\n",
       "      <td>3</td>\n",
       "      <td>373128</td>\n",
       "      <td>19</td>\n",
       "      <td>0.00</td>\n",
       "    </tr>\n",
       "    <tr>\n",
       "      <th>date</th>\n",
       "      <td>2538044</td>\n",
       "      <td>6379</td>\n",
       "      <td>-</td>\n",
       "      <td>-</td>\n",
       "      <td>-</td>\n",
       "      <td>19</td>\n",
       "      <td>0.00</td>\n",
       "    </tr>\n",
       "    <tr>\n",
       "      <th>feel</th>\n",
       "      <td>1477561</td>\n",
       "      <td>17</td>\n",
       "      <td>3.88</td>\n",
       "      <td>1</td>\n",
       "      <td>5</td>\n",
       "      <td>1060502</td>\n",
       "      <td>71.77</td>\n",
       "    </tr>\n",
       "    <tr>\n",
       "      <th>id</th>\n",
       "      <td>2538044</td>\n",
       "      <td>2538044</td>\n",
       "      <td>4 537 303.98</td>\n",
       "      <td>1</td>\n",
       "      <td>9073127</td>\n",
       "      <td>19</td>\n",
       "      <td>0.00</td>\n",
       "    </tr>\n",
       "    <tr>\n",
       "      <th>look</th>\n",
       "      <td>1477561</td>\n",
       "      <td>17</td>\n",
       "      <td>3.95</td>\n",
       "      <td>1</td>\n",
       "      <td>5</td>\n",
       "      <td>1060502</td>\n",
       "      <td>71.77</td>\n",
       "    </tr>\n",
       "    <tr>\n",
       "      <th>overall</th>\n",
       "      <td>1477561</td>\n",
       "      <td>17</td>\n",
       "      <td>3.92</td>\n",
       "      <td>1</td>\n",
       "      <td>5</td>\n",
       "      <td>1060502</td>\n",
       "      <td>71.77</td>\n",
       "    </tr>\n",
       "    <tr>\n",
       "      <th>score</th>\n",
       "      <td>2538044</td>\n",
       "      <td>401</td>\n",
       "      <td>3.89</td>\n",
       "      <td>1</td>\n",
       "      <td>5</td>\n",
       "      <td>19</td>\n",
       "      <td>0.00</td>\n",
       "    </tr>\n",
       "    <tr>\n",
       "      <th>smell</th>\n",
       "      <td>1477561</td>\n",
       "      <td>17</td>\n",
       "      <td>3.89</td>\n",
       "      <td>1</td>\n",
       "      <td>5</td>\n",
       "      <td>1060502</td>\n",
       "      <td>71.77</td>\n",
       "    </tr>\n",
       "    <tr>\n",
       "      <th>taste</th>\n",
       "      <td>1477561</td>\n",
       "      <td>17</td>\n",
       "      <td>3.92</td>\n",
       "      <td>1</td>\n",
       "      <td>5</td>\n",
       "      <td>1060502</td>\n",
       "      <td>71.77</td>\n",
       "    </tr>\n",
       "    <tr>\n",
       "      <th>text</th>\n",
       "      <td>2538044</td>\n",
       "      <td>812239</td>\n",
       "      <td>-</td>\n",
       "      <td>-</td>\n",
       "      <td>-</td>\n",
       "      <td>19</td>\n",
       "      <td>0.00</td>\n",
       "    </tr>\n",
       "    <tr>\n",
       "      <th>STYLE</th>\n",
       "      <th>name</th>\n",
       "      <td>112</td>\n",
       "      <td>112</td>\n",
       "      <td>-</td>\n",
       "      <td>-</td>\n",
       "      <td>-</td>\n",
       "      <td>1</td>\n",
       "      <td>0.89</td>\n",
       "    </tr>\n",
       "    <tr>\n",
       "      <th>USER</th>\n",
       "      <th>name</th>\n",
       "      <td>123934</td>\n",
       "      <td>123934</td>\n",
       "      <td>-</td>\n",
       "      <td>-</td>\n",
       "      <td>-</td>\n",
       "      <td>1</td>\n",
       "      <td>0.00</td>\n",
       "    </tr>\n",
       "  </tbody>\n",
       "</table>\n",
       "</div>"
      ],
      "text/plain": [
       "                          Count  Distinct Count          Mean   Min      Max  \\\n",
       "Node      Property                                                             \n",
       "BEERS     abv            320072             937          6.53  0.01    67.50   \n",
       "          availability   358869              20             -     -        -   \n",
       "          brewery_id     358869           16569     24 597.39     1    54144   \n",
       "          id             358869          358869    189 239.20     3   374406   \n",
       "          name           358869          298564             -     -        -   \n",
       "          notes          358823           48312             -     -        -   \n",
       "          retired        358869               2             -     -        -   \n",
       "          state          298143              67             -     -        -   \n",
       "BREWERIES id              50347           50347     27 870.51     1    54156   \n",
       "          name            50347           45245             -     -        -   \n",
       "          notes           50262            3270             -     -        -   \n",
       "          state           39076              67             -     -        -   \n",
       "          types           50347              30             -     -        -   \n",
       "CITIES    name            11664           11664             -     -        -   \n",
       "COUNTRIES name              199             199             -     -        -   \n",
       "REVIEWS   beer_id       2538044          189395     77 311.79     3   373128   \n",
       "          date          2538044            6379             -     -        -   \n",
       "          feel          1477561              17          3.88     1        5   \n",
       "          id            2538044         2538044  4 537 303.98     1  9073127   \n",
       "          look          1477561              17          3.95     1        5   \n",
       "          overall       1477561              17          3.92     1        5   \n",
       "          score         2538044             401          3.89     1        5   \n",
       "          smell         1477561              17          3.89     1        5   \n",
       "          taste         1477561              17          3.92     1        5   \n",
       "          text          2538044          812239             -     -        -   \n",
       "STYLE     name              112             112             -     -        -   \n",
       "USER      name           123934          123934             -     -        -   \n",
       "\n",
       "                        Missing Count Missing Count (%)  \n",
       "Node      Property                                       \n",
       "BEERS     abv                   38797             12.12  \n",
       "          availability              0                 0  \n",
       "          brewery_id                0                 0  \n",
       "          id                        0                 0  \n",
       "          name                      0                 0  \n",
       "          notes                    46              0.01  \n",
       "          retired                   0                 0  \n",
       "          state                 60726             20.37  \n",
       "BREWERIES id                        0                 0  \n",
       "          name                      0                 0  \n",
       "          notes                    85              0.17  \n",
       "          state                 11271             28.84  \n",
       "          types                     0                 0  \n",
       "CITIES    name                      1              0.01  \n",
       "COUNTRIES name                      1              0.50  \n",
       "REVIEWS   beer_id                  19              0.00  \n",
       "          date                     19              0.00  \n",
       "          feel                1060502             71.77  \n",
       "          id                       19              0.00  \n",
       "          look                1060502             71.77  \n",
       "          overall             1060502             71.77  \n",
       "          score                    19              0.00  \n",
       "          smell               1060502             71.77  \n",
       "          taste               1060502             71.77  \n",
       "          text                     19              0.00  \n",
       "STYLE     name                      1              0.89  \n",
       "USER      name                      1              0.00  "
      ]
     },
     "execution_count": 75,
     "metadata": {},
     "output_type": "execute_result"
    }
   ],
   "source": [
    "# Re-run the query to see the changes after removing missing values\n",
    "print(\"\\n\\nSummary statistics of each property for each node label in the database (After Cleaning):\")\n",
    "\n",
    "# Initialize a list to store statistics\n",
    "stats_list = []\n",
    "\n",
    "# Iterate over each property and calculate statistics\n",
    "for record in tqdm(properties_result):\n",
    "    nodeType = record['nodeType'].replace('`', '').replace(':', '')  # Remove backticks and ':'\n",
    "    propertyName = record['propertyName']\n",
    "    \n",
    "    # Construct query for each property\n",
    "    if propertyName.lower() in ['name', 'notes', 'state', 'availability', 'types', 'text']:\n",
    "        # String properties\n",
    "        stats_query = f\"\"\"\n",
    "            MATCH (n:{nodeType})\n",
    "            RETURN\n",
    "                '{nodeType}' AS nodeType,\n",
    "                '{propertyName}' AS propertyName,\n",
    "                COUNT(n.{propertyName}) AS count,\n",
    "                COUNT(DISTINCT n.{propertyName}) AS distinctCount,\n",
    "                '-' AS mean,\n",
    "                '-' AS min,\n",
    "                '-' AS max,\n",
    "                COUNT(CASE WHEN n.{propertyName} IS NULL OR n.{propertyName} = '' OR toLower(trim(n.{propertyName})) IN ['nan', 'null', 'none', '', ' '] THEN 1 ELSE NULL END) AS missingCount\n",
    "        \"\"\"\n",
    "    elif propertyName.lower() in ['retired', 'date']:\n",
    "        # Boolean & Date properties\n",
    "        stats_query = f\"\"\"\n",
    "            MATCH (n:{nodeType})\n",
    "            RETURN\n",
    "                '{nodeType}' AS nodeType,\n",
    "                '{propertyName}' AS propertyName,\n",
    "                COUNT(n.{propertyName}) AS count,\n",
    "                COUNT(DISTINCT n.{propertyName}) AS distinctCount,\n",
    "                '-' AS mean,\n",
    "                '-' AS min,\n",
    "                '-' AS max,\n",
    "                COUNT(CASE WHEN n.{propertyName} IS NULL THEN 1 ELSE NULL END) AS missingCount\n",
    "        \"\"\"\n",
    "    else:\n",
    "        # Numeric properties\n",
    "        stats_query = f\"\"\"\n",
    "            MATCH (n:{nodeType})\n",
    "            WITH n, n.{propertyName} AS value\n",
    "            RETURN\n",
    "                '{nodeType}' AS nodeType,\n",
    "                '{propertyName}' AS propertyName,\n",
    "                COUNT(value) AS count,\n",
    "                COUNT(DISTINCT value) AS distinctCount,\n",
    "                AVG(value) AS mean,\n",
    "                MIN(value) AS min,\n",
    "                MAX(value) AS max,\n",
    "                COUNT(CASE WHEN value IS NULL THEN 1 ELSE NULL END) AS missingCount\n",
    "        \"\"\"\n",
    "    \n",
    "    try:\n",
    "        stats_result = execute_read(driver, stats_query)\n",
    "        if stats_result:\n",
    "            stats_list.append(stats_result[0])\n",
    "    except Exception as e:\n",
    "        print(f\"Error processing {nodeType}.{propertyName}: {e}\")\n",
    "\n",
    "# Convert to DataFrame\n",
    "df = pd.DataFrame(stats_list, columns=['Node', 'Property', 'Count', 'Distinct Count', \n",
    "                                       'Mean', 'Min', 'Max', 'Missing Count'])                          # Convert the list to a DataFrame\n",
    "df['Missing Count (%)'] = (df['Missing Count'] / df['Count']) * 100                                     # Calculate the percentage of missing values\n",
    "df.set_index(['Node', 'Property'], inplace=True)                                                        # Set the index to Node and Property (Hierarchical Indexing)\n",
    "df.fillna('-', inplace=True)                                                                            # Fill NaN values with 0\n",
    "df = df.map(\n",
    "    lambda x: '{:,.0f}'.format(x).replace(',', ' ') if isinstance(x, float) and not np.isnan(x) and not np.isinf(x) and x == int(x) else\n",
    "              '{:,.2f}'.format(x).replace(',', ' ') if isinstance(x, float) and not np.isnan(x) and not np.isinf(x) else\n",
    "              x\n",
    ")                                                                                                                     # Format the DataFrame for better visualization\n",
    "df "
   ]
  },
  {
   "cell_type": "code",
   "execution_count": 108,
   "metadata": {},
   "outputs": [
    {
     "name": "stdout",
     "output_type": "stream",
     "text": [
      "[<Record b=<Node element_id='62233' labels=frozenset({'BEERS'}) properties={'notes': 'No notes at this time.', 'name': 'Cerveza India', 'retired': True, 'id': 15645, 'brewery_id': 846, 'availability': ' Year-round'}>>]\n"
     ]
    }
   ],
   "source": [
    "# Check only one exame of the label BEERS to see if the property abv was removed\n",
    "query = \"\"\"\n",
    "    MATCH (b:BEERS)\n",
    "    WHERE b.abv IS NULL\n",
    "    RETURN b\n",
    "    LIMIT 1\n",
    "\"\"\"\n",
    "result = execute_read(driver, query)\n",
    "pprint(result)"
   ]
  },
  {
   "cell_type": "markdown",
   "metadata": {},
   "source": [
    "### **2.5. 📊 Change Schema** "
   ]
  },
  {
   "cell_type": "code",
   "execution_count": 76,
   "metadata": {},
   "outputs": [],
   "source": [
    "# Source: https://stackoverflow.com/questions/13816712/how-do-i-rename-relationships-in-neo4j\n",
    "\n",
    "# MATCH (n1)-[old:OLDNAMERELATIONSHIP]->(n2)\n",
    "# CREATE (n1)-[new:NEWNAMERELATIONSHIP]->(n2)\n",
    "# DELETE old\n",
    "# RETURN count(old) AS numDeletedRels, count(new) AS numNewRels"
   ]
  },
  {
   "cell_type": "code",
   "execution_count": 77,
   "metadata": {},
   "outputs": [
    {
     "name": "stdout",
     "output_type": "stream",
     "text": [
      "Final database schema visualized (node labels and relationships):\n",
      "\n",
      "Nodes: [<Node element_id='-12' labels=frozenset({'REVIEWS'}) properties={'name': 'REVIEWS', 'indexes': ['id'], 'constraints': []}>, <Node element_id='-11' labels=frozenset({'BEERS'}) properties={'name': 'BEERS', 'indexes': ['id'], 'constraints': []}>, <Node element_id='-8' labels=frozenset({'COUNTRIES'}) properties={'name': 'COUNTRIES', 'indexes': ['name'], 'constraints': []}>, <Node element_id='-10' labels=frozenset({'BREWERIES'}) properties={'name': 'BREWERIES', 'indexes': ['id'], 'constraints': []}>, <Node element_id='-13' labels=frozenset({'STYLE'}) properties={'name': 'STYLE', 'indexes': ['name'], 'constraints': []}>, <Node element_id='-9' labels=frozenset({'CITIES'}) properties={'name': 'CITIES', 'indexes': ['name'], 'constraints': []}>, <Node element_id='-14' labels=frozenset({'USER'}) properties={'name': 'USER', 'indexes': ['name'], 'constraints': []}>]\n",
      "Relationships: [<Relationship element_id='-9' nodes=(<Node element_id='-11' labels=frozenset({'BEERS'}) properties={'name': 'BEERS', 'indexes': ['id'], 'constraints': []}>, <Node element_id='-12' labels=frozenset({'REVIEWS'}) properties={'name': 'REVIEWS', 'indexes': ['id'], 'constraints': []}>) type='REVIEWED' properties={}>, <Relationship element_id='-10' nodes=(<Node element_id='-10' labels=frozenset({'BREWERIES'}) properties={'name': 'BREWERIES', 'indexes': ['id'], 'constraints': []}>, <Node element_id='-11' labels=frozenset({'BEERS'}) properties={'name': 'BEERS', 'indexes': ['id'], 'constraints': []}>) type='BREWED' properties={}>, <Relationship element_id='-12' nodes=(<Node element_id='-9' labels=frozenset({'CITIES'}) properties={'name': 'CITIES', 'indexes': ['name'], 'constraints': []}>, <Node element_id='-9' labels=frozenset({'CITIES'}) properties={'name': 'CITIES', 'indexes': ['name'], 'constraints': []}>) type='IN' properties={}>, <Relationship element_id='-13' nodes=(<Node element_id='-10' labels=frozenset({'BREWERIES'}) properties={'name': 'BREWERIES', 'indexes': ['id'], 'constraints': []}>, <Node element_id='-8' labels=frozenset({'COUNTRIES'}) properties={'name': 'COUNTRIES', 'indexes': ['name'], 'constraints': []}>) type='IN' properties={}>, <Relationship element_id='-14' nodes=(<Node element_id='-10' labels=frozenset({'BREWERIES'}) properties={'name': 'BREWERIES', 'indexes': ['id'], 'constraints': []}>, <Node element_id='-9' labels=frozenset({'CITIES'}) properties={'name': 'CITIES', 'indexes': ['name'], 'constraints': []}>) type='IN' properties={}>, <Relationship element_id='-11' nodes=(<Node element_id='-9' labels=frozenset({'CITIES'}) properties={'name': 'CITIES', 'indexes': ['name'], 'constraints': []}>, <Node element_id='-8' labels=frozenset({'COUNTRIES'}) properties={'name': 'COUNTRIES', 'indexes': ['name'], 'constraints': []}>) type='IN' properties={}>, <Relationship element_id='-15' nodes=(<Node element_id='-11' labels=frozenset({'BEERS'}) properties={'name': 'BEERS', 'indexes': ['id'], 'constraints': []}>, <Node element_id='-13' labels=frozenset({'STYLE'}) properties={'name': 'STYLE', 'indexes': ['name'], 'constraints': []}>) type='HAS_STYLE' properties={}>, <Relationship element_id='-16' nodes=(<Node element_id='-12' labels=frozenset({'REVIEWS'}) properties={'name': 'REVIEWS', 'indexes': ['id'], 'constraints': []}>, <Node element_id='-14' labels=frozenset({'USER'}) properties={'name': 'USER', 'indexes': ['name'], 'constraints': []}>) type='POSTED' properties={}>]\n"
     ]
    }
   ],
   "source": [
    "# 2.5. Visualize the final schema\n",
    "query = \"\"\"\n",
    "    CALL db.schema.visualization()\n",
    "\"\"\"\n",
    "result = execute_read(driver, query)\n",
    "print(\"Final database schema visualized (node labels and relationships):\\n\")\n",
    "print(\"Nodes:\", [record[\"nodes\"] for record in result][0])\n",
    "print(\"Relationships:\", [record[\"relationships\"] for record in result][0])"
   ]
  },
  {
   "cell_type": "markdown",
   "metadata": {},
   "source": [
    "<div class=\"alert alert-block alert-warning\">\n",
    "\n",
    "# **PERGUNTAR PROFª | A prof quer a imagem no final? Não dá para tirar as ligações que não existem , mas estão representadas! (??) e é preciso trocar as ligações?**\n",
    "\n",
    "<img src=\"./img/TheBeerProject_Schema.png\">\n",
    "\n",
    "<img src=\"./img/TheBeerProject_FinalSchema.png\" width=\"700\">\n",
    "\n",
    "</div>"
   ]
  },
  {
   "cell_type": "markdown",
   "metadata": {},
   "source": [
    "---"
   ]
  },
  {
   "cell_type": "markdown",
   "metadata": {},
   "source": [
    "## **3. Analytics department**"
   ]
  },
  {
   "cell_type": "code",
   "execution_count": 78,
   "metadata": {},
   "outputs": [
    {
     "name": "stdout",
     "output_type": "stream",
     "text": [
      "The beer with the most reviews is: IPA with 8771 reviews.\n"
     ]
    }
   ],
   "source": [
    "# 3. Analytics department requires the following information for the biweekly reporting: [5 points]\n",
    "#    3.1. How many reviews has the beer with the most reviews?\n",
    "query = \"\"\"\n",
    "    MATCH (b:BEERS)-[:REVIEWED]->(r:REVIEWS)\n",
    "    RETURN b.name AS BeerName, count(r) AS NumberOfReviews\n",
    "    ORDER BY NumberOfReviews DESC\n",
    "    LIMIT 1\n",
    "\"\"\"\n",
    "result = execute_read(driver, query)\n",
    "\n",
    "# Print the result\n",
    "print(\"The beer with the most reviews is:\", result[0][\"BeerName\"], \"with\", result[0][\"NumberOfReviews\"], \"reviews.\")"
   ]
  },
  {
   "cell_type": "code",
   "execution_count": null,
   "metadata": {},
   "outputs": [
    {
     "name": "stdout",
     "output_type": "stream",
     "text": [
      "The three users who wrote the most reviews are: \n",
      " - \u001b[1m1st\u001b[0m Sammy with 3756 reviews. \n",
      " - \u001b[1m2nd\u001b[0m acurtis with 3403 reviews. \n",
      " - \u001b[1m3rd\u001b[0m kylehay2004 with 3368 reviews.\n"
     ]
    }
   ],
   "source": [
    "# 3.2. Which three users wrote the most reviews about beers?\n",
    "#           REVIEWS - POSTED -> USER\n",
    "#           BEERS - REVIEWED -> REVIEWS\n",
    "\n",
    "query = \"\"\"\n",
    "    MATCH (r:BEERS)-[:REVIEWED]->(b:REVIEWS)-[:POSTED]->(u:USER)\n",
    "    RETURN u.name AS UserName, count(b) AS NumberOfReviews\n",
    "    ORDER BY NumberOfReviews DESC\n",
    "    LIMIT 3\n",
    "\"\"\"\n",
    "result = execute_read(driver, query)\n",
    "# Print the result\n",
    "print(\"The three users who wrote the most reviews are:\", \n",
    "        \"\\n - \\033[1m1st\\033[0m\", result[0][\"UserName\"], \"with\", result[0][\"NumberOfReviews\"], \"reviews.\",\n",
    "        \"\\n - \\033[1m2nd\\033[0m\", result[1][\"UserName\"], \"with\", result[1][\"NumberOfReviews\"], \"reviews.\",\n",
    "        \"\\n - \\033[1m3rd\\033[0m\", result[2][\"UserName\"], \"with\", result[2][\"NumberOfReviews\"], \"reviews.\")"
   ]
  },
  {
   "cell_type": "code",
   "execution_count": 80,
   "metadata": {},
   "outputs": [
    {
     "name": "stdout",
     "output_type": "stream",
     "text": [
      "Beers described with 'fruit', 'complex', 'nutty', and 'dark':\n",
      "\n",
      " 11188 beers found.\n"
     ]
    }
   ],
   "source": [
    "#    3.3. Find all beers that are described with following words: 'fruit', 'complex', 'nutty', 'dark'.\n",
    "query = \"\"\"\n",
    "    MATCH (b:BEERS)\n",
    "    WHERE toLower(b.notes) CONTAINS 'fruit' OR toLower(b.notes) CONTAINS 'complex' OR toLower(b.notes) CONTAINS 'nutty' OR toLower(b.notes) CONTAINS 'dark'\n",
    "    RETURN b.name AS BeerName, b.notes AS Description\n",
    "\"\"\"\n",
    "result = execute_read(driver, query)\n",
    "\n",
    "print(\"Beers described with 'fruit', 'complex', 'nutty', and 'dark':\")\n",
    "# for beer in result:\n",
    "#     print(\"-\\033[1m\", beer[\"BeerName\"], \"\\033[0m:\", beer[\"Description\"])\n",
    "    \n",
    "print(\"\\n\", len(result), \"beers found.\")"
   ]
  },
  {
   "cell_type": "markdown",
   "metadata": {},
   "source": [
    "<div class=\"alert alert-block alert-warning\">\n",
    "\n",
    "# **PERGUNTAR PROFª | Não percebi o que é suposto printar**\n",
    "\n",
    "</div>"
   ]
  },
  {
   "cell_type": "code",
   "execution_count": 81,
   "metadata": {},
   "outputs": [
    {
     "name": "stdout",
     "output_type": "stream",
     "text": [
      "The top three breweries with the largest variety of beer styles are: \n",
      " - \u001b[1m1st\u001b[0m Iron Hill Brewery & Restaurant with 94 styles. \n",
      " - \u001b[1m2nd\u001b[0m Rock Bottom Restaurant & Brewery with 93 styles. \n",
      " - \u001b[1m3rd\u001b[0m Goose Island Beer Co. with 88 styles.\n"
     ]
    }
   ],
   "source": [
    "#    3.4. Which top three breweries produce the largest variety of beer styles?\n",
    "query = \"\"\"\n",
    "    MATCH (brewery:BREWERIES)-[:BREWED]->(beer:BEERS)-[:HAS_STYLE]->(style:STYLE)\n",
    "    RETURN brewery.name AS BreweryName, count(DISTINCT style) AS StyleCount\n",
    "    ORDER BY StyleCount DESC\n",
    "    LIMIT 3\n",
    "\"\"\"\n",
    "result = execute_read(driver, query)\n",
    "print(\"The top three breweries with the largest variety of beer styles are:\",\n",
    "      \"\\n - \\033[1m1st\\033[0m\", result[0][\"BreweryName\"], \"with\", result[0][\"StyleCount\"], \"styles.\",\n",
    "      \"\\n - \\033[1m2nd\\033[0m\", result[1][\"BreweryName\"], \"with\", result[1][\"StyleCount\"], \"styles.\",\n",
    "      \"\\n - \\033[1m3rd\\033[0m\", result[2][\"BreweryName\"], \"with\", result[2][\"StyleCount\"], \"styles.\")"
   ]
  },
  {
   "cell_type": "code",
   "execution_count": 82,
   "metadata": {},
   "outputs": [
    {
     "name": "stdout",
     "output_type": "stream",
     "text": [
      "\u001b[1mThe country producing the most beer styles is:\u001b[0m US with 113 styles.\n"
     ]
    }
   ],
   "source": [
    "#    3.5. Which country produces the most beer styles?\n",
    "query = \"\"\"\n",
    "    MATCH (c:COUNTRIES)<-[:IN]-(ci:CITIES)<-[:IN]-(br:BREWERIES)-[:BREWED]->(b:BEERS)-[:HAS_STYLE]->(s:STYLE)\n",
    "    WITH c, count(DISTINCT s) AS NumberOfStyles\n",
    "    ORDER BY NumberOfStyles DESC\n",
    "    LIMIT 1\n",
    "    RETURN c.name AS CountryName, NumberOfStyles\n",
    "\"\"\"\n",
    "result = execute_read(driver, query)\n",
    "print(\"\\033[1mThe country producing the most beer styles is:\\033[0m\", result[0][\"CountryName\"], \"with\", result[0][\"NumberOfStyles\"], \"styles.\")"
   ]
  },
  {
   "cell_type": "markdown",
   "metadata": {},
   "source": [
    "---"
   ]
  },
  {
   "cell_type": "markdown",
   "metadata": {},
   "source": [
    "## **4. Market Analysis department**"
   ]
  },
  {
   "cell_type": "code",
   "execution_count": 83,
   "metadata": {},
   "outputs": [],
   "source": [
    "# 4. Market Analysis department in your company accesses and updates the trends data on the daily basis. \n",
    "#   Given that, consider how you need to optimize the database and its performance so that the following queries are efficient. \n",
    "#   Measure performance to communicate your improvements using PROFILE before final query. Answer the following: [4 points]"
   ]
  },
  {
   "cell_type": "markdown",
   "metadata": {},
   "source": [
    "<div class=\"alert alert-block alert-warning\">\n",
    "\n",
    "### **Escrever uma nota a dizer que já fizemos certas limpezas que potenciam a otimização das querys seguintes (NAs, Duplicates, Data Types)** (dizer que são exemplos)\n",
    "\n",
    "</div>"
   ]
  },
  {
   "cell_type": "code",
   "execution_count": 14,
   "metadata": {},
   "outputs": [],
   "source": [
    "# Function to profile a query and print key performance metrics\n",
    "# Source: https://neo4j.com/docs/api/python-driver/current/api.html\n",
    "def profile_query(query, description):\n",
    "    with driver.session() as session:\n",
    "        result = session.run(query)\n",
    "        \n",
    "        # Consume the summary to get performance metrics\n",
    "        summary = result.consume()\n",
    "        \n",
    "        # Extract key performance metrics\n",
    "        db_hits = summary.profile[\"args\"][\"DbHits\"]\n",
    "        cache_hits = summary.profile[\"args\"][\"PageCacheHits\"]\n",
    "        estimated_rows = summary.profile[\"args\"][\"EstimatedRows\"]\n",
    "        rows_returned = summary.profile[\"args\"][\"Rows\"]\n",
    "\n",
    "        # Print the results for comparison\n",
    "        print(f\"\\n🔹 {description} 🔹\")\n",
    "        print(f\"Database Hits (DbHits): {db_hits}\")\n",
    "        print(f\"Cache Hits (PageCacheHits): {cache_hits}\")\n",
    "        print(f\"Estimated Rows: {estimated_rows}\")\n",
    "        print(f\"Actual Rows Returned: {rows_returned}\\n\")\n",
    "\n",
    "        return {\n",
    "            \"Description\": description,\n",
    "            \"DbHits\": db_hits,\n",
    "            \"CacheHits\": cache_hits,\n",
    "            \"EstimatedRows\": estimated_rows,\n",
    "            \"RowsReturned\": rows_returned\n",
    "        }"
   ]
  },
  {
   "cell_type": "code",
   "execution_count": null,
   "metadata": {},
   "outputs": [],
   "source": [
    "# Function to create a INDEX on a property\n",
    "# https://neo4j.com/docs/cypher-manual/current/indexes/search-performance-indexes/managing-indexes/#list-indexes\n",
    "def create_index(driver, label, property):\n",
    "    query = f\"CREATE INDEX IF NOT EXISTS FOR (n:{label}) ON (n.{property})\"\n",
    "    return execute_write(driver, query)"
   ]
  },
  {
   "cell_type": "code",
   "execution_count": null,
   "metadata": {},
   "outputs": [],
   "source": [
    "#    4.1. Using ABV score, find 5 strongest beers, display their ABV score and the corresponding brewery? \n",
    "#          Keep in mind that the strongest known beer is Snake Venom, and deal with the error entries in the database.\n",
    "\n",
    "# 4.1. Find the 5 strongest beers by ABV score\n",
    "\n",
    "# # Before Optimization -                                                                 See in BROWSER\n",
    "# query = \"\"\"\n",
    "#     // PROFILE the query to find the 5 strongest beers by ABV score\n",
    "#     PROFILE MATCH (br:BREWERIES)-[:BREWED]->(b:BEERS)\n",
    "#     WHERE b.abv IS NOT NULL\n",
    "#     RETURN b.name AS beerName, b.abv AS abv, br.name AS breweryName\n",
    "#     ORDER BY b.abv DESC\n",
    "#     LIMIT 5\n",
    "# \"\"\"\n",
    "# result = execute_read(driver, query)\n",
    "# pprint(result)\n",
    "\n",
    "# # Create an index on the abv property of the BEERS nodes\n",
    "# query = \"\"\"\n",
    "#     CREATE INDEX IF NOT EXISTS FOR (b:BEERS) ON (b.abv)   // Create an index on the abv property of the BEERS nodes\n",
    "# \"\"\"                                                       // If we wanna remove it, see the index name in SHOW INDEXES and DROP INDEX index_name\n",
    "# \"\"\"\n",
    "# result = execute_write(driver, query)\n",
    "# pprint(result)\n",
    "\n",
    "\n",
    "# # After Optimization\n",
    "# query = \"\"\"\n",
    "#     // PROFILE the query to find the 5 strongest beers by ABV score\n",
    "#     PROFILE\n",
    "#     MATCH (br:BREWERIES)-[:BREWED]->(b:BEERS)\n",
    "#     WHERE b.abv > 0 AND b.abv <= 67.5 AND b.abv IS NOT NULL         // Filter out invalid ABV values (considering the highest valid ABV value)\n",
    "#     RETURN b.name AS beerName, b.abv AS abv, br.name AS breweryName\n",
    "#     ORDER BY b.abv DESC\n",
    "#     LIMIT 5\n",
    "# \"\"\"\n",
    "# result = execute_read(driver, query)\n",
    "# pprint(result)"
   ]
  },
  {
   "cell_type": "code",
   "execution_count": 11,
   "metadata": {},
   "outputs": [],
   "source": [
    "# Query BEFORE Optimization\n",
    "query_before = \"\"\"\n",
    "    // PROFILE the query to find the 5 strongest beers by ABV score\n",
    "    PROFILE MATCH (br:BREWERIES)-[:BREWED]->(b:BEERS)\n",
    "    WHERE b.abv IS NOT NULL\n",
    "    RETURN b.name AS beerName, b.abv AS abv, br.name AS breweryName\n",
    "    ORDER BY b.abv DESC\n",
    "    LIMIT 5\n",
    "\"\"\"\n",
    "\n",
    "# Query AFTER Optimization\n",
    "query_after = \"\"\"\n",
    "    PROFILE\n",
    "    MATCH (br:BREWERIES)-[:BREWED]->(b:BEERS)\n",
    "    WHERE b.abv > 0 AND b.abv <= 67.5 AND b.abv IS NOT NULL         // Filter out invalid ABV values (considering the highest valid ABV value)\n",
    "    RETURN b.name AS beerName, b.abv AS abv, br.name AS breweryName\n",
    "    ORDER BY b.abv DESC\n",
    "    LIMIT 5\n",
    "\"\"\""
   ]
  },
  {
   "cell_type": "code",
   "execution_count": 15,
   "metadata": {},
   "outputs": [
    {
     "name": "stdout",
     "output_type": "stream",
     "text": [
      "\n",
      "🔹 BEFORE Optimization - Find Strongest Beers 🔹\n",
      "Database Hits (DbHits): 0\n",
      "Cache Hits (PageCacheHits): 0\n",
      "Estimated Rows: 5.0\n",
      "Actual Rows Returned: 5\n",
      "\n",
      "\n",
      " 1st Result: \n",
      "[<Record beerName='Snake Venom' abv=67.5 breweryName='Brewmeister'>,\n",
      " <Record beerName='series 3' abv=66.0 breweryName='Redline Brewhouse'>,\n",
      " <Record beerName='Armageddon' abv=65.0 breweryName='Brewmeister'>,\n",
      " <Record beerName='Start The Future' abv=60.0 breweryName=\"Brouwerij 't Koelschip\">,\n",
      " <Record beerName='Schorschbräu Schorschbock 57%' abv=57.5 breweryName='Schorschbräu'>]\n",
      "\n",
      "🔹 AFTER Optimization - Find Strongest Beers 🔹\n",
      "Database Hits (DbHits): 0\n",
      "Cache Hits (PageCacheHits): 0\n",
      "Estimated Rows: 0.0\n",
      "Actual Rows Returned: 5\n",
      "\n",
      "\n",
      " 2nd Result: \n",
      "[<Record beerName='Snake Venom' abv=67.5 breweryName='Brewmeister'>,\n",
      " <Record beerName='series 3' abv=66.0 breweryName='Redline Brewhouse'>,\n",
      " <Record beerName='Armageddon' abv=65.0 breweryName='Brewmeister'>,\n",
      " <Record beerName='Start The Future' abv=60.0 breweryName=\"Brouwerij 't Koelschip\">,\n",
      " <Record beerName='Schorschbräu Schorschbock 57%' abv=57.5 breweryName='Schorschbräu'>]\n",
      "\n",
      "\n",
      "🔻 PERFORMANCE COMPARISON 🔻\n",
      "DbHits: 0 ➝ 0\n",
      "CacheHits: 0 ➝ 0\n",
      "EstimatedRows: 5.0 ➝ 0.0\n",
      "RowsReturned: 5 ➝ 5\n"
     ]
    }
   ],
   "source": [
    "# Run queries and compare performance\n",
    "before_metrics = profile_query(query_before, \"BEFORE Optimization - Find Strongest Beers\")\n",
    "print(\"\\n 1st Result: \")\n",
    "pprint(execute_read(driver, query_before))\n",
    "create_index(driver, \"BEERS\", \"abv\")\n",
    "after_metrics = profile_query(query_after, \"AFTER Optimization - Find Strongest Beers\")\n",
    "print(\"\\n 2nd Result: \")\n",
    "pprint(execute_read(driver, query_after))\n",
    "\n",
    "# Print comparison\n",
    "print(\"\\n\\n🔻 PERFORMANCE COMPARISON 🔻\")\n",
    "for key in before_metrics.keys():\n",
    "    if key != \"Description\":\n",
    "        print(f\"{key}: {before_metrics[key]} ➝ {after_metrics[key]}\")"
   ]
  },
  {
   "cell_type": "markdown",
   "metadata": {},
   "source": [
    "<center><img src=\"./img/PROFILEPlan_4.1.png\" width=\"700\"></center>"
   ]
  },
  {
   "cell_type": "markdown",
   "metadata": {},
   "source": [
    "---"
   ]
  },
  {
   "cell_type": "code",
   "execution_count": 27,
   "metadata": {},
   "outputs": [],
   "source": [
    "#     4.2. Using the answer from question 2 \n",
    "#               find the top 5 distict beer styles with \n",
    "#               the highest average score of smell + feel \n",
    "#               that were reviewed by the third most productive user. \n",
    "#          Keep in mind that cleaning the database earlier should ensure correct results.\n",
    "\n",
    "# query = \"\"\"\n",
    "#     PROFILE\n",
    "\n",
    "#     // 1st Match: Find the reviews of the third most productive user (name: 'kylehay2004' based on question 3.2)\n",
    "#     MATCH (u:USER {name: 'kylehay2004'})<-[:POSTED]-(r:REVIEWS)\n",
    "#     WHERE r.smell IS NOT NULL AND r.feel IS NOT NULL\n",
    "    \n",
    "#     // 2nd Match: Find the beer styles of the reviews\n",
    "#     MATCH (r)<-[:REVIEWED]-(b:BEERS)-[:HAS_STYLE]->(s:STYLE)\n",
    "    \n",
    "#     // 3rd Match: Calculate the average smell + feel score for each style\n",
    "#     RETURN s.name, AVG(toFloat(r.smell) + toFloat(r.feel)) AS avgSmellFeel       \n",
    "#     ORDER BY avgSmellFeel DESC\n",
    "#     LIMIT 5\n",
    "# \"\"\"\n",
    "# result = execute_read(driver, query)\n",
    "# print(\"Top 5 styles by smell + feel (unoptimized):\")\n",
    "# pprint(result)\n",
    "\n",
    "# # Create an index on the name property of the USER nodes & the smell and feel properties of the REVIEWS nodes & the style property of the STYLE nodes\n",
    "# # Source: https://neo4j.com/docs/cypher-manual/current/indexes/syntax/\n",
    "# list_of_indexes = [\n",
    "#     \"CREATE INDEX IF NOT EXISTS FOR (u:USER) ON (u.name)\",\n",
    "#     \"CREATE INDEX IF NOT EXISTS FOR (r:REVIEWS) ON (r.smell)\",\n",
    "#     \"CREATE INDEX IF NOT EXISTS FOR (r:REVIEWS) ON (r.feel)\",\n",
    "#     \"CREATE INDEX IF NOT EXISTS FOR (s:STYLE) ON (s.name)\"\n",
    "# ]\n",
    "# for query in list_of_indexes:\n",
    "#     result = execute_write(driver, query)\n",
    "#     pprint(result)\n",
    "\n",
    "# # After Optimization (Indexes + Query Optimization)\n",
    "# query = \"\"\"\n",
    "#     PROFILE\n",
    "#     MATCH (u:USER {name: 'kylehay2004'})<-[:POSTED]-(r:REVIEWS)<-[:REVIEWED]-(b:BEERS)-[:HAS_STYLE]->(s:STYLE)\n",
    "#     WHERE r.smell IS NOT NULL AND r.feel IS NOT NULL\n",
    "#     WITH s.name AS styleName, toFloat(r.smell) + toFloat(r.feel) AS smellFeel\n",
    "#     RETURN styleName, avg(smellFeel) AS avgSmellFeel\n",
    "#     ORDER BY avgSmellFeel DESC\n",
    "#     LIMIT 5\n",
    "# \"\"\"\n",
    "# result = execute_read(driver, query)\n",
    "# print(\"Top 5 styles by smell + feel (optimized):\")\n",
    "# pprint(result)"
   ]
  },
  {
   "cell_type": "code",
   "execution_count": 16,
   "metadata": {},
   "outputs": [],
   "source": [
    "# Query BEFORE Optimization\n",
    "query_before_2 = \"\"\"\n",
    "    PROFILE\n",
    "\n",
    "    // 1st Match: Find the reviews of the third most productive user (name: 'kylehay2004' based on question 3.2)\n",
    "    MATCH (u:USER {name: 'kylehay2004'})<-[:POSTED]-(r:REVIEWS)\n",
    "    WHERE r.smell IS NOT NULL AND r.feel IS NOT NULL\n",
    "    \n",
    "    // 2nd Match: Find the beer styles of the reviews\n",
    "    MATCH (r)<-[:REVIEWED]-(b:BEERS)-[:HAS_STYLE]->(s:STYLE)\n",
    "    \n",
    "    // 3rd Match: Calculate the average smell + feel score for each style\n",
    "    RETURN s.name, AVG(toFloat(r.smell) + toFloat(r.feel)) AS avgSmellFeel       \n",
    "    ORDER BY avgSmellFeel DESC\n",
    "    LIMIT 5\n",
    "\"\"\""
   ]
  },
  {
   "cell_type": "code",
   "execution_count": 17,
   "metadata": {},
   "outputs": [],
   "source": [
    "# Query AFTER Optimization\n",
    "query_after_2 = \"\"\"\n",
    "    PROFILE\n",
    "    MATCH (u:USER {name: 'kylehay2004'})<-[:POSTED]-(r:REVIEWS)<-[:REVIEWED]-(b:BEERS)-[:HAS_STYLE]->(s:STYLE)\n",
    "    WHERE r.smell IS NOT NULL AND r.feel IS NOT NULL\n",
    "    WITH s.name AS styleName, toFloat(r.smell) + toFloat(r.feel) AS smellFeel\n",
    "    RETURN styleName, avg(smellFeel) AS avgSmellFeel\n",
    "    ORDER BY avgSmellFeel DESC\n",
    "    LIMIT 5\n",
    "\"\"\""
   ]
  },
  {
   "cell_type": "code",
   "execution_count": 18,
   "metadata": {},
   "outputs": [
    {
     "name": "stdout",
     "output_type": "stream",
     "text": [
      "\n",
      "🔹 BEFORE Optimization - Find Top Beer Styles by Smell + Feel 🔹\n",
      "Database Hits (DbHits): 0\n",
      "Cache Hits (PageCacheHits): 0\n",
      "Estimated Rows: 5.0\n",
      "Actual Rows Returned: 5\n",
      "\n",
      "\n",
      " 1st Results:\n",
      "[<Record s.name='New England IPA' avgSmellFeel=8.654761904761903>,\n",
      " <Record s.name='American Imperial Stout' avgSmellFeel=8.546363636363628>,\n",
      " <Record s.name='Bière de Champagne / Bière Brut' avgSmellFeel=8.5>,\n",
      " <Record s.name='Belgian Fruit Lambic' avgSmellFeel=8.444444444444445>,\n",
      " <Record s.name='Belgian Gueuze' avgSmellFeel=8.42857142857143>]\n",
      "\n",
      "🔹 AFTER Optimization - Find Top Beer Styles by Smell + Feel 🔹\n",
      "Database Hits (DbHits): 0\n",
      "Cache Hits (PageCacheHits): 0\n",
      "Estimated Rows: 5.0\n",
      "Actual Rows Returned: 5\n",
      "\n",
      "\n",
      " 2nd Results:\n",
      "[<Record styleName='New England IPA' avgSmellFeel=8.654761904761903>,\n",
      " <Record styleName='American Imperial Stout' avgSmellFeel=8.546363636363628>,\n",
      " <Record styleName='Bière de Champagne / Bière Brut' avgSmellFeel=8.5>,\n",
      " <Record styleName='Belgian Fruit Lambic' avgSmellFeel=8.444444444444445>,\n",
      " <Record styleName='Belgian Gueuze' avgSmellFeel=8.42857142857143>]\n",
      "\n",
      "\n",
      "🔻 PERFORMANCE COMPARISON 🔻\n",
      "DbHits: 0 ➝ 0\n",
      "CacheHits: 0 ➝ 0\n",
      "EstimatedRows: 5.0 ➝ 5.0\n",
      "RowsReturned: 5 ➝ 5\n"
     ]
    }
   ],
   "source": [
    "# Run queries and compare performance\n",
    "before_metrics_2 = profile_query(query_before_2, \"BEFORE Optimization - Find Top Beer Styles by Smell + Feel\")\n",
    "print(\"\\n 1st Results:\")\n",
    "pprint(execute_read(driver, query_before_2))\n",
    "create_index(driver, \"USER\", \"name\")\n",
    "create_index(driver, \"REVIEWS\", \"smell\")\n",
    "create_index(driver, \"REVIEWS\", \"feel\")\n",
    "create_index(driver, \"STYLE\", \"name\")\n",
    "after_metrics_2 = profile_query(query_after_2, \"AFTER Optimization - Find Top Beer Styles by Smell + Feel\")\n",
    "print(\"\\n 2nd Results:\")\n",
    "pprint(execute_read(driver, query_after_2))\n",
    "\n",
    "# Print comparison\n",
    "print(\"\\n\\n🔻 PERFORMANCE COMPARISON 🔻\")\n",
    "for key in before_metrics_2.keys():\n",
    "    if key != \"Description\":\n",
    "        print(f\"{key}: {before_metrics_2[key]} ➝ {after_metrics_2[key]}\")"
   ]
  },
  {
   "cell_type": "markdown",
   "metadata": {},
   "source": [
    "<center><img src=\"./img/PROFILEPlan_4.2.png\" width=\"700\"></center>"
   ]
  },
  {
   "cell_type": "markdown",
   "metadata": {},
   "source": [
    "---"
   ]
  },
  {
   "cell_type": "markdown",
   "metadata": {},
   "source": [
    "## **5. Graph Algorithms**"
   ]
  },
  {
   "cell_type": "code",
   "execution_count": 93,
   "metadata": {},
   "outputs": [],
   "source": [
    "# 5. Answer **two out of four** of the following questions using Graph Algorithms (gds): \n",
    "#        [NB: make sure to clear the graph before using it again] For the quarterly report, Analytics department the follownig information. [6 points]\n",
    "#     1. Which two countries are most similiar when it comes to their top five most produced Beer styles?\n",
    "#     2. Which beer is the most popular when considering the number of users who reviewed it? \n",
    "#     3. Users are connected together by their reviews of beers, taking into consideration the \"smell\" score they assign as a weight, \n",
    "#        how many communities are formed from these relationships? How many users are in the three largest communities? \n",
    "#     4. Which user is the most influential when it comes to reviews of distinct beers by style?"
   ]
  },
  {
   "cell_type": "markdown",
   "metadata": {},
   "source": [
    "### **5.1. 🌍 Which two countries are most similiar when it comes to their top five most produced Beer styles?**"
   ]
  },
  {
   "cell_type": "markdown",
   "metadata": {},
   "source": [
    "<div class=\"alert alert-block alert-danger\">\n",
    "\n",
    "## **CONFIRMAR SE TEMOS DE POR ALGUMA COISA COM `IS NOT NULL`**\n",
    "\n",
    "- **VERIFICAÇÃO DO JOÃO**\n",
    "\n",
    "</div>"
   ]
  },
  {
   "cell_type": "code",
   "execution_count": 8,
   "metadata": {},
   "outputs": [
    {
     "name": "stdout",
     "output_type": "stream",
     "text": [
      "\n",
      "Top 5 Beer Styles per Country:\n",
      "Country: AD, Top Styles: ['American Blonde Ale', 'German Hefeweizen', 'English India Pale Ale (IPA)', 'Smoke Beer', 'German Doppelbock']\n",
      "Country: AE, Top Styles: ['Low Alcohol Beer', 'German Helles']\n",
      "Country: AG, Top Styles: ['American Pale Ale (APA)', 'Fruit and Field Beer', 'American Porter', 'American Light Lager', 'American Adjunct Lager']\n",
      "Country: AL, Top Styles: ['European Pale Lager', 'Bohemian Pilsener', 'American Amber / Red Lager', 'American Blonde Ale', 'German Maibock']\n",
      "Country: AM, Top Styles: ['European Pale Lager', 'Smoke Beer', 'Munich Dunkel Lager', 'Bohemian Pilsener', 'American Pale Ale (APA)']\n",
      "Country: AO, Top Styles: ['European Pale Lager']\n",
      "Country: AR, Top Styles: ['American IPA', 'American Pale Ale (APA)', 'Belgian Saison', 'American Amber / Red Ale', 'American Wild Ale']\n",
      "Country: AT, Top Styles: ['German Hefeweizen', 'German Märzen / Oktoberfest', 'European Pale Lager', 'German Pilsner', 'German Kellerbier / Zwickelbier']\n",
      "Country: AU, Top Styles: ['American IPA', 'American Pale Ale (APA)', 'American Imperial IPA', 'Belgian Saison', 'American Imperial Stout']\n",
      "Country: AW, Top Styles: ['American IPA', 'American Imperial IPA', 'American Pale Ale (APA)', 'American Porter', 'American Amber / Red Ale']\n",
      "Country: AZ, Top Styles: ['European Pale Lager', 'European Dark Lager', 'Bohemian Pilsener', 'European Strong Lager', 'European Export / Dortmunder']\n",
      "Country: BA, Top Styles: ['European Pale Lager', 'American IPA', 'European Dark Lager', 'American Stout', 'American Amber / Red Ale']\n",
      "Country: BB, Top Styles: ['English Sweet / Milk Stout', 'Fruit and Field Beer', 'American Lager', 'English Extra Special / Strong Bitter (ESB)', 'American Adjunct Lager']\n",
      "Country: BD, Top Styles: ['European Pale Lager']\n",
      "Country: BE, Top Styles: ['Belgian Pale Ale', 'Belgian Strong Pale Ale', 'Belgian Tripel', 'Belgian Strong Dark Ale', 'American IPA']\n",
      "Country: BF, Top Styles: ['European Pale Lager']\n",
      "Country: BG, Top Styles: ['European Pale Lager', 'Fruit and Field Beer', 'American IPA', 'American Pale Ale (APA)', 'American Adjunct Lager']\n",
      "Country: BJ, Top Styles: ['European Pale Lager']\n",
      "Country: BM, Top Styles: ['American IPA', 'American Pale Ale (APA)', 'Belgian Saison', 'American Porter', 'American Wild Ale']\n",
      "Country: BO, Top Styles: ['American Adjunct Lager', 'Bohemian Pilsener', 'Munich Dunkel Lager', 'German Pilsner', 'English Stout']\n",
      "Country: BR, Top Styles: ['American IPA', 'American Pale Ale (APA)', 'American Imperial IPA', 'German Hefeweizen', 'American Porter']\n",
      "Country: BS, Top Styles: ['American IPA', 'American Porter', 'American Pale Ale (APA)', 'American Stout', 'American Amber / Red Ale']\n",
      "Country: BT, Top Styles: ['German Hefeweizen', 'American Adjunct Lager', 'American Amber / Red Ale', 'English Stout', 'American Lager']\n",
      "Country: BW, Top Styles: ['Low Alcohol Beer']\n",
      "Country: BY, Top Styles: ['European Pale Lager', 'European Dark Lager', 'Baltic Porter', 'American Adjunct Lager', 'European Strong Lager']\n",
      "Country: BZ, Top Styles: ['American IPA', 'Belgian Saison', 'American Pale Ale (APA)', 'American Blonde Ale', 'German Hefeweizen']\n",
      "Country: CA, Top Styles: ['American IPA', 'American Pale Ale (APA)', 'Belgian Saison', 'American Imperial IPA', 'American Wild Ale']\n",
      "Country: CF, Top Styles: ['European Pale Lager']\n",
      "Country: CG, Top Styles: ['European Pale Lager', 'Vienna Lager', 'Munich Dunkel Lager', 'European Dark Lager']\n",
      "Country: CH, Top Styles: ['American Wild Ale', 'European Pale Lager', 'Belgian Saison', 'American IPA', 'French Bière de Garde']\n",
      "Country: CI, Top Styles: ['European Pale Lager', 'German Bock', 'American Malt Liquor']\n",
      "Country: CK, Top Styles: ['English Porter', 'English Pale Ale', 'American Lager']\n",
      "Country: CL, Top Styles: ['American IPA', 'American Pale Ale (APA)', 'American Imperial IPA', 'American Amber / Red Ale', 'American Imperial Stout']\n",
      "Country: CM, Top Styles: ['European Pale Lager', 'European Dark Lager']\n",
      "Country: CN, Top Styles: ['American Adjunct Lager', 'European Pale Lager', 'American IPA', 'American Pale Ale (APA)', 'American Stout']\n",
      "Country: CO, Top Styles: ['American Adjunct Lager', 'Low Alcohol Beer', 'American Light Lager', 'Fruit and Field Beer', 'English Brown Ale']\n",
      "Country: CR, Top Styles: ['American IPA', 'American Pale Ale (APA)', 'Belgian Saison', 'American Porter', 'American Imperial IPA']\n",
      "Country: CU, Top Styles: ['American IPA', 'American Pale Ale (APA)', 'American Porter', 'American Amber / Red Ale', 'American Imperial IPA']\n",
      "Country: CV, Top Styles: ['European Dark Lager', 'American Adjunct Lager', 'European Strong Lager', 'European Pale Lager']\n",
      "Country: CW, Top Styles: ['Fruit and Field Beer', 'Belgian Witbier', 'American Blonde Ale', 'German Märzen / Oktoberfest', 'English Brown Ale']\n",
      "Country: CY, Top Styles: ['English Pale Ale', 'American Adjunct Lager', 'American IPA', 'German Pilsner', 'German Weizenbock']\n",
      "Country: CZ, Top Styles: ['American IPA', 'Bohemian Pilsener', 'American Pale Ale (APA)', 'American Porter', 'American Amber / Red Ale']\n",
      "Country: DE, Top Styles: ['German Pilsner', 'German Hefeweizen', 'German Helles', 'German Kellerbier / Zwickelbier', 'German Märzen / Oktoberfest']\n",
      "Country: DK, Top Styles: ['American IPA', 'American Imperial Stout', 'American Pale Ale (APA)', 'European Pale Lager', 'American Wild Ale']\n",
      "Country: DM, Top Styles: ['American Adjunct Lager']\n",
      "Country: DO, Top Styles: ['American Adjunct Lager', 'American Light Lager', 'Low Alcohol Beer', 'American Amber / Red Lager', 'Bohemian Pilsener']\n",
      "Country: DZ, Top Styles: ['European Pale Lager', 'German Pilsner', 'European Strong Lager', 'European Dark Lager', 'Munich Dunkel Lager']\n",
      "Country: EC, Top Styles: ['American Pale Ale (APA)', 'American IPA', 'American Stout', 'American Blonde Ale', 'American Amber / Red Ale']\n",
      "Country: EE, Top Styles: ['American IPA', 'American Imperial Stout', 'European Pale Lager', 'Baltic Porter', 'American Imperial IPA']\n",
      "Country: EG, Top Styles: ['European Strong Lager', 'European Pale Lager', 'American Malt Liquor', 'German Hefeweizen', 'German Pilsner']\n",
      "Country: ER, Top Styles: ['German Pilsner', 'American Adjunct Lager', 'Low Alcohol Beer', 'Foreign / Export Stout']\n",
      "Country: ES, Top Styles: ['American IPA', 'American Pale Ale (APA)', 'American Imperial IPA', 'American Amber / Red Ale', 'American Porter']\n",
      "Country: ET, Top Styles: ['American IPA', 'American Pale Ale (APA)', 'American Porter', 'American Amber / Red Ale', 'American Imperial IPA']\n",
      "Country: FI, Top Styles: ['European Pale Lager', 'American IPA', 'American Pale Ale (APA)', 'German Hefeweizen', 'German Pilsner']\n",
      "Country: FJ, Top Styles: ['European Pale Lager', 'English Bitter', 'American Blonde Ale', 'American Adjunct Lager', 'American Malt Liquor']\n",
      "Country: FM, Top Styles: ['American Amber / Red Lager', 'Berliner Weisse']\n",
      "Country: FO, Top Styles: ['German Pilsner', 'European Pale Lager', 'American Amber / Red Ale', 'American Pale Ale (APA)', 'English Pale Ale']\n",
      "Country: FR, Top Styles: ['American IPA', 'Belgian Witbier', 'American Amber / Red Ale', 'American Pale Ale (APA)', 'French Bière de Garde']\n",
      "Country: GA, Top Styles: ['European Pale Lager']\n",
      "Country: GB, Top Styles: ['American IPA', 'English Bitter', 'American Pale Ale (APA)', 'English Pale Ale', 'American Imperial IPA']\n",
      "Country: GD, Top Styles: ['American Amber / Red Ale', 'American IPA', 'Belgian Witbier', 'American Blonde Ale', 'Belgian Tripel']\n",
      "Country: GE, Top Styles: ['European Pale Lager', 'European Dark Lager', 'German Kellerbier / Zwickelbier', 'European Strong Lager', 'German Hefeweizen']\n",
      "Country: GF, Top Styles: ['Belgian Witbier', 'Belgian Pale Ale', 'American Stout', 'American Blonde Ale']\n",
      "Country: GG, Top Styles: ['English Bitter', 'Winter Warmer', 'English Stout', 'American Adjunct Lager', 'English Dark Mild Ale']\n",
      "Country: GH, Top Styles: ['European Pale Lager', 'American Adjunct Lager', 'Foreign / Export Stout', 'Herb and Spice Beer', 'Fruit and Field Beer']\n",
      "Country: GL, Top Styles: ['German Pilsner', 'American Amber / Red Lager', 'European Pale Lager', 'Herb and Spice Beer', 'German Hefeweizen']\n",
      "Country: GM, Top Styles: ['European Pale Lager', 'European Export / Dortmunder']\n",
      "Country: GN, Top Styles: ['European Pale Lager']\n",
      "Country: GP, Top Styles: ['European Pale Lager', 'American Lager']\n",
      "Country: GQ, Top Styles: ['European Pale Lager']\n",
      "Country: GR, Top Styles: ['American IPA', 'American Imperial Stout', 'Belgian Saison', 'American Wild Ale', 'Berliner Weisse']\n",
      "Country: GT, Top Styles: ['American Adjunct Lager', 'American Light Lager', 'European Pale Lager', 'European Dark Lager', 'German Bock']\n",
      "Country: GU, Top Styles: ['American IPA', 'American Pale Ale (APA)', 'Fruit and Field Beer', 'American Imperial IPA', 'English Sweet / Milk Stout']\n",
      "Country: GW, Top Styles: ['European Pale Lager']\n",
      "Country: HK, Top Styles: ['American IPA', 'American Pale Ale (APA)', 'Belgian Witbier', 'American Wild Ale', 'Belgian Saison']\n",
      "Country: HN, Top Styles: ['American Stout', 'American Adjunct Lager', 'English Porter', 'American Pale Ale (APA)', 'Irish Red Ale']\n",
      "Country: HR, Top Styles: ['Fruit and Field Beer', 'European Pale Lager', 'American Pale Ale (APA)', 'American IPA', 'European Dark Lager']\n",
      "Country: HT, Top Styles: ['American Brown Ale', 'American Adjunct Lager']\n",
      "Country: HU, Top Styles: ['American IPA', 'European Pale Lager', 'Fruit and Field Beer', 'American Pale Ale (APA)', 'American Imperial IPA']\n",
      "Country: ID, Top Styles: ['English Stout', 'German Pilsner', 'European Pale Lager', 'American Lager', 'American Adjunct Lager']\n",
      "Country: IE, Top Styles: ['American IPA', 'American Pale Ale (APA)', 'American Amber / Red Ale', 'American Porter', 'American Imperial IPA']\n",
      "Country: IL, Top Styles: ['American IPA', 'American Pale Ale (APA)', 'German Hefeweizen', 'Belgian Witbier', 'European Pale Lager']\n",
      "Country: IM, Top Styles: ['American Stout', 'American IPA', 'English Bitter', 'American Pale Ale (APA)', 'American Pale Wheat Ale']\n",
      "Country: IN, Top Styles: ['American Adjunct Lager', 'European Pale Lager', 'European Strong Lager', 'American Malt Liquor', 'Belgian Witbier']\n",
      "Country: IQ, Top Styles: ['European Pale Lager']\n",
      "Country: IR, Top Styles: ['Low Alcohol Beer']\n",
      "Country: IS, Top Styles: ['American IPA', 'American Imperial Stout', 'American Pale Ale (APA)', 'European Pale Lager', 'Fruit and Field Beer']\n",
      "Country: IT, Top Styles: ['American IPA', 'American Pale Ale (APA)', 'Belgian Saison', 'American Amber / Red Ale', 'Belgian Witbier']\n",
      "Country: JE, Top Styles: ['German Maibock', 'German Eisbock', 'English Pale Ale', 'English India Pale Ale (IPA)', 'German Kellerbier / Zwickelbier']\n",
      "Country: JM, Top Styles: ['American IPA', 'American Pale Ale (APA)', 'Belgian Saison', 'American Imperial IPA', 'American Wild Ale']\n",
      "Country: JO, Top Styles: ['American Malt Liquor', 'American Adjunct Lager', 'Winter Warmer', 'American Porter', 'English Pale Ale']\n",
      "Country: JP, Top Styles: ['Japanese Happoshu', 'American IPA', 'Fruit and Field Beer', 'American Pale Ale (APA)', 'German Hefeweizen']\n",
      "Country: KE, Top Styles: ['European Pale Lager', 'German Märzen / Oktoberfest', 'English Stout', 'German Pilsner', 'American Light Lager']\n",
      "Country: KG, Top Styles: ['European Pale Lager', 'American Pale Wheat Ale', 'European Dark Lager', 'American Lager', 'Irish Red Ale']\n",
      "Country: KH, Top Styles: ['American IPA', 'European Pale Lager', 'Foreign / Export Stout', 'Belgian Witbier', 'American Adjunct Lager']\n",
      "Country: KP, Top Styles: ['European Pale Lager', 'German Schwarzbier', 'European Dark Lager', 'Belgian Witbier', 'German Hefeweizen']\n",
      "Country: KR, Top Styles: ['American Pale Ale (APA)', 'American IPA', 'American Stout', 'American Adjunct Lager', 'American Lager']\n",
      "Country: KY, Top Styles: ['American IPA', 'American Pale Ale (APA)', 'American Porter', 'American Amber / Red Ale', 'American Stout']\n",
      "Country: KZ, Top Styles: ['European Pale Lager', 'Bohemian Pilsener', 'European Dark Lager', 'European Strong Lager', 'German Hefeweizen']\n",
      "Country: LA, Top Styles: ['American Adjunct Lager', 'American Lager', 'Herb and Spice Beer', 'Vienna Lager', 'Belgian Witbier']\n",
      "Country: LB, Top Styles: ['Low Alcohol Beer', 'German Pilsner', 'European Pale Lager', 'Bohemian Pilsener', 'American Amber / Red Ale']\n",
      "Country: LC, Top Styles: ['Fruit and Field Beer', 'English Pale Ale', 'German Pilsner', 'Munich Dunkel Lager', 'American Amber / Red Ale']\n",
      "Country: LI, Top Styles: ['European Pale Lager', 'German Hefeweizen', 'Munich Dunkel Lager', 'English Sweet / Milk Stout', 'German Maibock']\n",
      "Country: LK, Top Styles: ['American Malt Liquor', 'European Strong Lager', 'Foreign / Export Stout', 'European Pale Lager', 'American Adjunct Lager']\n",
      "Country: LR, Top Styles: ['Belgian Strong Dark Ale', 'American IPA', 'American Pale Ale (APA)', 'American Stout', 'American Strong Ale']\n",
      "Country: LS, Top Styles: ['American Adjunct Lager']\n",
      "Country: LT, Top Styles: ['American IPA', 'American Pale Ale (APA)', 'European Pale Lager', 'Belgian Saison', 'American Porter']\n",
      "Country: LU, Top Styles: ['European Pale Lager', 'German Pilsner', 'Belgian Witbier', 'Munich Dunkel Lager', 'German Hefeweizen']\n",
      "Country: LV, Top Styles: ['European Pale Lager', 'American Pale Ale (APA)', 'American IPA', 'Russian Kvass', 'Belgian Saison']\n",
      "Country: LY, Top Styles: ['Low Alcohol Beer']\n",
      "Country: MA, Top Styles: ['European Pale Lager', 'European Strong Lager', 'American Barleywine', 'Low Alcohol Beer']\n",
      "Country: MC, Top Styles: ['German Pilsner', 'Herb and Spice Beer', 'Belgian Witbier', 'Fruit and Field Beer', 'Belgian Pale Ale']\n",
      "Country: MD, Top Styles: ['European Pale Lager', 'American IPA', 'Russian Kvass', 'American Wild Ale', 'American Pale Ale (APA)']\n",
      "Country: ME, Top Styles: ['European Pale Lager', 'American IPA', 'German Hefeweizen', 'European Dark Lager', 'German Märzen / Oktoberfest']\n",
      "Country: MG, Top Styles: ['Low Alcohol Beer', 'American Imperial Pilsner', 'American Amber / Red Lager', 'Belgian Witbier', 'American Amber / Red Ale']\n",
      "Country: MK, Top Styles: ['European Pale Lager', 'German Pilsner', 'European Dark Lager', 'German Rauchbier', 'Fruit and Field Beer']\n",
      "Country: MM, Top Styles: ['American Adjunct Lager', 'European Strong Lager', 'English Strong Ale', 'Herb and Spice Beer', 'Foreign / Export Stout']\n",
      "Country: MN, Top Styles: ['Munich Dunkel Lager', 'European Pale Lager', 'Vienna Lager', 'German Pilsner', 'German Kellerbier / Zwickelbier']\n",
      "Country: MO, Top Styles: ['European Pale Lager']\n",
      "Country: MQ, Top Styles: ['American Light Lager', 'English Porter', 'German Hefeweizen', 'American Pale Wheat Ale', 'American Amber / Red Ale']\n",
      "Country: MT, Top Styles: ['American Blonde Ale', 'European Pale Lager', 'English Pale Ale', 'English Bitter', 'English Strong Ale']\n",
      "Country: MU, Top Styles: ['American IPA', 'American Blonde Ale', 'European Strong Lager', 'European Pale Lager', 'American Lager']\n",
      "Country: MW, Top Styles: ['European Pale Lager', 'Vienna Lager', 'English Sweet / Milk Stout']\n",
      "Country: MX, Top Styles: ['American IPA', 'American Pale Ale (APA)', 'American Blonde Ale', 'American Adjunct Lager', 'American Amber / Red Ale']\n",
      "Country: MY, Top Styles: ['European Pale Lager', 'Belgian Witbier', 'European Dark Lager', 'American Adjunct Lager', 'Foreign / Export Stout']\n",
      "Country: MZ, Top Styles: ['American Adjunct Lager', 'European Pale Lager', 'Fruit and Field Beer', 'German Märzen / Oktoberfest']\n",
      "Country: NC, Top Styles: ['European Pale Lager', 'Fruit and Field Beer', 'American Lager', 'American Amber / Red Ale']\n",
      "Country: NE, Top Styles: ['European Pale Lager']\n",
      "Country: NG, Top Styles: ['European Pale Lager', 'American Adjunct Lager', 'Foreign / Export Stout', 'Low Alcohol Beer', 'European Dark Lager']\n",
      "Country: NI, Top Styles: ['American Blonde Ale', 'American Stout', 'American IPA', 'American Light Lager', 'European Pale Lager']\n",
      "Country: NL, Top Styles: ['American IPA', 'Russian Imperial Stout', 'American Imperial Stout', 'Belgian Saison', 'Belgian Tripel']\n",
      "Country: NO, Top Styles: ['American IPA', 'American Pale Ale (APA)', 'Belgian Saison', 'American Amber / Red Ale', 'American Imperial Stout']\n",
      "Country: NP, Top Styles: ['European Pale Lager', 'American Malt Liquor', 'American Lager', 'American Light Lager', 'American Adjunct Lager']\n",
      "Country: NZ, Top Styles: ['American IPA', 'American Imperial IPA', 'American Pale Ale (APA)', 'Belgian Saison', 'American Imperial Stout']\n",
      "Country: PA, Top Styles: ['American IPA', 'American Amber / Red Ale', 'American Pale Ale (APA)', 'American Adjunct Lager', 'American Pale Wheat Ale']\n",
      "Country: PE, Top Styles: ['American IPA', 'American Pale Ale (APA)', 'American Amber / Red Ale', 'American Adjunct Lager', 'Belgian Saison']\n",
      "Country: PF, Top Styles: ['European Pale Lager', 'American Adjunct Lager', 'American Amber / Red Lager', 'American Blonde Ale', 'Belgian Witbier']\n",
      "Country: PG, Top Styles: ['European Pale Lager', 'Foreign / Export Stout', 'American Adjunct Lager', 'European Export / Dortmunder']\n",
      "Country: PH, Top Styles: ['American IPA', 'American Pale Ale (APA)', 'Belgian Saison', 'American Imperial IPA', 'American Wild Ale']\n",
      "Country: PK, Top Styles: ['European Strong Lager', 'European Pale Lager']\n",
      "Country: PL, Top Styles: ['European Pale Lager', 'American IPA', 'American Pale Ale (APA)', 'Fruit and Field Beer', 'European Strong Lager']\n",
      "Country: PR, Top Styles: ['American IPA', 'American Amber / Red Ale', 'American Pale Ale (APA)', 'American Blonde Ale', 'Fruit and Field Beer']\n",
      "Country: PS, Top Styles: ['German Pilsner', 'Belgian Witbier', 'German Altbier', 'English Stout', 'Winter Warmer']\n",
      "Country: PT, Top Styles: ['American IPA', 'German Hefeweizen', 'American Pale Ale (APA)', 'Belgian Saison', 'American Imperial Stout']\n",
      "Country: PW, Top Styles: ['American Stout', 'American Blonde Ale', 'British Barleywine', 'Irish Dry Stout', 'American Amber / Red Ale']\n",
      "Country: PY, Top Styles: ['German Pilsner']\n",
      "Country: RE, Top Styles: ['Fruit and Field Beer', 'American Amber / Red Ale', 'Belgian Witbier', 'Herb and Spice Beer', 'American Blonde Ale']\n",
      "Country: RO, Top Styles: ['European Pale Lager', 'American IPA', 'American Pale Ale (APA)', 'Fruit and Field Beer', 'German Pilsner']\n",
      "Country: RS, Top Styles: ['American IPA', 'American Pale Ale (APA)', 'European Pale Lager', 'Fruit and Field Beer', 'German Pilsner']\n",
      "Country: RU, Top Styles: ['American IPA', 'European Pale Lager', 'American Pale Ale (APA)', 'American Imperial IPA', 'American Porter']\n",
      "Country: RW, Top Styles: ['European Pale Lager', 'European Dark Lager']\n",
      "Country: SB, Top Styles: ['European Pale Lager']\n",
      "Country: SC, Top Styles: ['European Pale Lager', 'English Strong Ale']\n",
      "Country: SE, Top Styles: ['American IPA', 'American Pale Ale (APA)', 'European Pale Lager', 'Belgian Saison', 'American Imperial Stout']\n",
      "Country: SG, Top Styles: ['American IPA', 'American Pale Ale (APA)', 'American Porter', 'American Amber / Red Ale', 'American Imperial IPA']\n",
      "Country: SI, Top Styles: ['European Pale Lager', 'American IPA', 'Fruit and Field Beer', 'American Pale Ale (APA)', 'English Pale Ale']\n",
      "Country: SK, Top Styles: ['Bohemian Pilsener', 'European Pale Lager', 'American IPA', 'European Dark Lager', 'American Pale Ale (APA)']\n",
      "Country: SM, Top Styles: ['German Pilsner', 'German Kellerbier / Zwickelbier', 'German Hefeweizen', 'European Pale Lager', 'English Pale Ale']\n",
      "Country: SN, Top Styles: ['European Pale Lager']\n",
      "Country: SR, Top Styles: ['European Pale Lager', 'Fruit and Field Beer', 'American Adjunct Lager', 'Foreign / Export Stout']\n",
      "Country: SS, Top Styles: ['American Adjunct Lager']\n",
      "Country: ST, Top Styles: ['European Pale Lager']\n",
      "Country: SV, Top Styles: ['American Light Lager', 'American Adjunct Lager', 'American Pale Wheat Ale', 'American Lager', 'Belgian Witbier']\n",
      "Country: SX, Top Styles: ['Belgian Saison', 'American Amber / Red Ale', 'German Hefeweizen', 'English Bitter', 'American Barleywine']\n",
      "Country: SY, Top Styles: ['German Hefeweizen', 'American IPA', 'European Pale Lager', 'American Adjunct Lager', 'American Porter']\n",
      "Country: SZ, Top Styles: ['European Pale Lager', 'Vienna Lager', 'Low Alcohol Beer']\n",
      "Country: TC, Top Styles: ['American Adjunct Lager', 'American Amber / Red Lager', 'English India Pale Ale (IPA)', 'Foreign / Export Stout', 'German Hefeweizen']\n",
      "Country: TD, Top Styles: ['European Pale Lager']\n",
      "Country: TG, Top Styles: ['German Pilsner', 'English Brown Ale', 'European Pale Lager']\n",
      "Country: TH, Top Styles: ['American Adjunct Lager', 'European Pale Lager', 'American Lager', 'American IPA', 'German Hefeweizen']\n",
      "Country: TJ, Top Styles: ['European Pale Lager']\n",
      "Country: TM, Top Styles: ['European Pale Lager', 'Vienna Lager']\n",
      "Country: TN, Top Styles: ['German Hefeweizen', 'Munich Dunkel Lager', 'German Helles', 'Low Alcohol Beer', 'European Pale Lager']\n",
      "Country: TO, Top Styles: ['European Pale Lager', 'European Export / Dortmunder', 'European Dark Lager']\n",
      "Country: TR, Top Styles: ['European Pale Lager', 'European Strong Lager', 'German Pilsner', 'German Hefeweizen', 'American IPA']\n",
      "Country: TT, Top Styles: ['Herb and Spice Beer', 'American Adjunct Lager', 'English Sweet / Milk Stout', 'Low Alcohol Beer', 'Bohemian Pilsener']\n",
      "Country: TW, Top Styles: ['Fruit and Field Beer', 'German Hefeweizen', 'American Adjunct Lager', 'American Pale Ale (APA)', 'German Pilsner']\n",
      "Country: TZ, Top Styles: ['European Pale Lager', 'American Adjunct Lager', 'English Stout', 'English Pale Ale', 'European Strong Lager']\n",
      "Country: UA, Top Styles: ['American IPA', 'American Pale Ale (APA)', 'American Porter', 'American Amber / Red Ale', 'Belgian Saison']\n",
      "Country: UG, Top Styles: ['European Pale Lager', 'American Adjunct Lager', 'European Strong Lager', 'American Lager', 'English Sweet / Milk Stout']\n",
      "Country: US, Top Styles: ['American IPA', 'American Pale Ale (APA)', 'American Imperial IPA', 'Belgian Saison', 'American Wild Ale']\n",
      "Country: UY, Top Styles: ['American IPA', 'American Blonde Ale', 'American Porter', 'American Amber / Red Ale', 'American Pale Ale (APA)']\n",
      "Country: UZ, Top Styles: ['European Pale Lager', 'German Pilsner', 'European Dark Lager', 'American Lager', 'American Light Lager']\n",
      "Country: VC, Top Styles: ['American Adjunct Lager', 'Foreign / Export Stout']\n",
      "Country: VE, Top Styles: ['American IPA', 'American Amber / Red Ale', 'American Imperial IPA', 'German Pilsner', 'American Blonde Ale']\n",
      "Country: VG, Top Styles: ['American Imperial IPA', 'American Lager']\n",
      "Country: VI, Top Styles: ['American IPA', 'American Pale Ale (APA)', 'Fruit and Field Beer', 'American Porter', 'Irish Red Ale']\n",
      "Country: VN, Top Styles: ['American IPA', 'American Adjunct Lager', 'Bohemian Pilsener', 'American Amber / Red Ale', 'American Pale Ale (APA)']\n",
      "Country: VU, Top Styles: ['European Pale Lager', 'English Porter', 'English Bitter', 'American Blonde Ale', 'American Lager']\n",
      "Country: WS, Top Styles: ['European Pale Lager', 'German Pilsner', 'European Strong Lager']\n",
      "Country: YT, Top Styles: ['European Pale Lager']\n",
      "Country: ZA, Top Styles: ['American IPA', 'American Pale Ale (APA)', 'European Pale Lager', 'American Blonde Ale', 'American Amber / Red Ale']\n",
      "Country: ZM, Top Styles: ['American Adjunct Lager', 'European Pale Lager']\n",
      "Country: ZW, Top Styles: ['European Pale Lager', 'American Adjunct Lager', 'English Pale Ale', 'English Stout', 'English Bitter']\n",
      "Country: None, Top Styles: ['American IPA', 'American Pale Ale (APA)', 'American Porter', 'American Amber / Red Ale', 'American Imperial IPA']\n"
     ]
    }
   ],
   "source": [
    "# Query to search for the top 5 most produced beer styles per country (All countries)\n",
    "query = \"\"\"\n",
    "    MATCH (c:COUNTRIES)<-[:IN]-(city:CITIES)<-[:IN]-(br:BREWERIES)-[:BREWED]->(b:BEERS)-[:HAS_STYLE]->(s:STYLE)\n",
    "    WITH c, s, COUNT(b) AS beer_count\n",
    "    ORDER BY c.name, beer_count DESC\n",
    "    WITH c, COLLECT(s.name)[0..5] AS top_styles  // Get the top 5 styles per country\n",
    "    RETURN c.name AS country, top_styles\n",
    "\"\"\"\n",
    "\n",
    "result = execute_read(driver, query)\n",
    "\n",
    "print(\"\\nTop 5 Beer Styles per Country:\")\n",
    "for rec in result:\n",
    "    print(f\"Country: {rec['country']}, Top Styles: {rec['top_styles']}\")"
   ]
  },
  {
   "cell_type": "code",
   "execution_count": 9,
   "metadata": {},
   "outputs": [
    {
     "name": "stdout",
     "output_type": "stream",
     "text": [
      "\n",
      "Countries with <5 Beer Styles: 54 out of 199 (27.14%)\n",
      "\n",
      "Detailed list:\n",
      "IR: 1 beer styles\n",
      "CG: 4 beer styles\n",
      "AE: 2 beer styles\n",
      "TD: 1 beer styles\n",
      "WS: 3 beer styles\n",
      "TO: 3 beer styles\n",
      "ER: 4 beer styles\n",
      "CK: 3 beer styles\n",
      "VC: 2 beer styles\n",
      "SR: 4 beer styles\n",
      "NE: 1 beer styles\n",
      "MZ: 4 beer styles\n",
      "RW: 2 beer styles\n",
      "NC: 4 beer styles\n",
      "TM: 2 beer styles\n",
      "SN: 1 beer styles\n",
      "AO: 1 beer styles\n",
      "MA: 4 beer styles\n",
      "BF: 1 beer styles\n",
      "GF: 4 beer styles\n",
      "HT: 2 beer styles\n",
      "DM: 1 beer styles\n",
      "VG: 2 beer styles\n",
      "CI: 3 beer styles\n",
      "GP: 2 beer styles\n",
      "ST: 1 beer styles\n",
      "BW: 1 beer styles\n",
      "SZ: 3 beer styles\n",
      "SB: 1 beer styles\n",
      "CM: 2 beer styles\n",
      "LS: 1 beer styles\n",
      "MO: 1 beer styles\n",
      "SC: 2 beer styles\n",
      "LY: 1 beer styles\n",
      "CV: 4 beer styles\n",
      "TJ: 1 beer styles\n",
      "PG: 4 beer styles\n",
      "SS: 1 beer styles\n",
      "PK: 2 beer styles\n",
      "YT: 1 beer styles\n",
      "CF: 1 beer styles\n",
      "GM: 2 beer styles\n",
      "IQ: 1 beer styles\n",
      "GQ: 1 beer styles\n",
      "PY: 1 beer styles\n",
      "BJ: 1 beer styles\n",
      "GW: 1 beer styles\n",
      "BD: 1 beer styles\n",
      "GN: 1 beer styles\n",
      "TG: 3 beer styles\n",
      "FM: 2 beer styles\n",
      "GA: 1 beer styles\n",
      "MW: 3 beer styles\n",
      "ZM: 2 beer styles\n"
     ]
    }
   ],
   "source": [
    "# Existis countries with less than 5 beer styles produced?\n",
    "query = \"\"\"\n",
    "    MATCH (c:COUNTRIES)\n",
    "    WHERE c.name IS NOT NULL\n",
    "    WITH COUNT(DISTINCT c) AS total_countries\n",
    "\n",
    "    MATCH (c:COUNTRIES)<-[:IN]-(city:CITIES)<-[:IN]-(b:BREWERIES)-[:BREWED]->(beer:BEERS)-[:HAS_STYLE]->(s:STYLE)\n",
    "    WITH c, COUNT(DISTINCT s) AS style_count, total_countries\n",
    "    WHERE style_count < 5\n",
    "\n",
    "    WITH COUNT(DISTINCT c) AS low_style_countries, total_countries, \n",
    "        COLLECT({country: c.name, style_count: style_count}) AS country_list\n",
    "\n",
    "    RETURN low_style_countries, total_countries, \n",
    "        ROUND((low_style_countries * 100.0) / total_countries, 2) AS percentage, \n",
    "        country_list\n",
    "\"\"\"\n",
    "\n",
    "result = execute_read(driver, query)\n",
    "\n",
    "# Print results\n",
    "for rec in result:\n",
    "    print(f\"\\nCountries with <5 Beer Styles: {rec['low_style_countries']} out of {rec['total_countries']} ({rec['percentage']}%)\\n\")\n",
    "    print(\"Detailed list:\")\n",
    "    for country in rec['country_list']:\n",
    "        print(f\"{country['country']}: {country['style_count']} beer styles\")"
   ]
  },
  {
   "cell_type": "markdown",
   "metadata": {},
   "source": [
    "> **Note** It mentions a total of $199$ countries instead of $200$ because we are removing the ghost country without a name"
   ]
  },
  {
   "cell_type": "code",
   "execution_count": 10,
   "metadata": {},
   "outputs": [
    {
     "name": "stdout",
     "output_type": "stream",
     "text": [
      "\n",
      "Sample of Countries and Their Beer Styles:\n",
      "US: ['German Märzen / Oktoberfest', 'Pumpkin Beer', 'English Sweet / Milk Stout', 'Winter Warmer', 'American Imperial IPA', 'Fruit and Field Beer', 'American Stout', 'American Amber / Red Ale', 'American Lager', 'American Brown Ale', 'American Pale Ale (APA)', 'American Pale Wheat Ale', 'American IPA', 'Bohemian Pilsener', 'Russian Imperial Stout', 'American Wild Ale', 'English Bitter', 'German Altbier', 'English Strong Ale', 'English Pale Ale', 'English India Pale Ale (IPA)', 'English Extra Special / Strong Bitter (ESB)', 'American Cream Ale', 'German Hefeweizen', 'English Oatmeal Stout', 'Scottish Ale', 'Irish Dry Stout', 'German Pilsner', 'Rye Beer', 'American Amber / Red Lager', 'German Dunkelweizen', 'English Porter', 'American Porter', 'American Blonde Ale', 'Belgian Pale Ale', 'Belgian Witbier', 'Scotch Ale / Wee Heavy', 'Belgian Tripel', 'American Barleywine', 'Belgian Dubbel', 'American Black Ale', 'Vienna Lager', 'American Imperial Stout', 'California Common / Steam Beer', 'German Kölsch', 'Belgian Strong Pale Ale', 'Belgian Dark Ale', 'Belgian IPA', 'Leipzig Gose', 'English Brown Ale', 'Belgian Saison', 'Baltic Porter', 'Belgian Quadrupel (Quad)', 'Irish Red Ale', 'Berliner Weisse', 'Belgian Fruit Lambic', 'English Old Ale', 'American Adjunct Lager', 'American Light Lager', 'European Dark Lager', 'New England IPA', 'British Barleywine', 'Robust Porter', 'Scottish Gruit / Ancient Herbed Ale', 'American Brut IPA', 'Smoke Beer', 'Chile Beer', 'German Roggenbier', 'Flanders Oud Bruin', 'American Imperial Pilsner', 'German Bock', 'Munich Dunkel Lager', 'English Pale Mild Ale', 'American Imperial Porter', 'German Kellerbier / Zwickelbier', 'English Dark Mild Ale', 'American Imperial Red Ale', 'German Doppelbock', 'German Helles', 'American Strong Ale', 'American Wheatwine Ale', 'American Dark Wheat Ale', 'Flanders Red Ale', 'Herb and Spice Beer', 'Foreign / Export Stout', 'German Maibock', 'Belgian Strong Dark Ale', 'Bière de Champagne / Bière Brut', 'Belgian Blonde Ale', 'Braggot', 'European Pale Lager', 'Smoke Porter', 'European Export / Dortmunder', 'American Brett', 'German Schwarzbier', 'German Weizenbock', 'German Eisbock', 'Low Alcohol Beer', 'German Kristalweizen', 'Japanese Rice Lager', 'French Bière de Garde', 'Belgian Lambic', 'American Malt Liquor', 'English Stout', 'German Rauchbier', 'Finnish Sahti', 'European Strong Lager', 'Belgian Gueuze', 'Russian Kvass', 'Belgian Faro', 'Japanese Happoshu', 'Wild/Sour Beers']\n",
      "CA: ['American Blonde Ale', 'Bohemian Pilsener', 'English Stout', 'American Pale Ale (APA)', 'Fruit and Field Beer', 'American Black Ale', 'American Amber / Red Ale', 'English India Pale Ale (IPA)', 'American Stout', 'American IPA', 'American Barleywine', 'American Imperial IPA', 'Chile Beer', 'American Imperial Stout', 'Herb and Spice Beer', 'Belgian Witbier', 'English Brown Ale', 'Belgian Saison', 'Scottish Gruit / Ancient Herbed Ale', 'American Wild Ale', 'German Pilsner', 'Belgian Pale Ale', 'English Oatmeal Stout', 'Smoke Beer', 'American Imperial Red Ale', 'French Bière de Garde', 'Pumpkin Beer', 'German Weizenbock', 'English Pale Ale', 'Scotch Ale / Wee Heavy', 'American Porter', 'Munich Dunkel Lager', 'English Sweet / Milk Stout', 'German Hefeweizen', 'Flanders Oud Bruin', 'Belgian IPA', 'German Dunkelweizen', 'American Cream Ale', 'German Bock', 'Flanders Red Ale', 'Irish Red Ale', 'American Lager', 'Russian Imperial Stout', 'Winter Warmer', 'American Pale Wheat Ale', 'Rye Beer', 'American Light Lager', 'Baltic Porter', 'Berliner Weisse', 'British Barleywine', 'American Strong Ale', 'Irish Dry Stout', 'German Doppelbock', 'English Extra Special / Strong Bitter (ESB)', 'Belgian Quadrupel (Quad)', 'English Bitter', 'Leipzig Gose', 'California Common / Steam Beer', 'Scottish Ale', 'German Kölsch', 'German Altbier', 'German Maibock', 'Belgian Dubbel', 'American Brown Ale', 'American Adjunct Lager', 'English Pale Mild Ale', 'Smoke Porter', 'English Old Ale', 'Belgian Tripel', 'Belgian Strong Dark Ale', 'American Brut IPA', 'English Dark Mild Ale', 'Vienna Lager', 'German Helles', 'Belgian Dark Ale', 'English Porter', 'New England IPA', 'German Schwarzbier', 'Foreign / Export Stout', 'German Märzen / Oktoberfest', 'German Kellerbier / Zwickelbier', 'European Dark Lager', 'American Imperial Porter', 'German Rauchbier', 'Braggot', 'American Amber / Red Lager', 'American Brett', 'European Pale Lager', 'Belgian Strong Pale Ale', 'Robust Porter', 'Belgian Blonde Ale', 'German Roggenbier', 'American Malt Liquor', 'American Imperial Pilsner', 'Low Alcohol Beer', 'American Dark Wheat Ale', 'English Strong Ale', 'Belgian Fruit Lambic', 'Belgian Faro', 'Belgian Gueuze', 'German Kristalweizen', 'European Strong Lager', 'European Export / Dortmunder', 'Japanese Rice Lager', 'American Wheatwine Ale', 'German Eisbock', 'Russian Kvass', 'Finnish Sahti', 'Belgian Lambic', 'Bière de Champagne / Bière Brut']\n",
      "GB: ['American Barleywine', 'Leipzig Gose', 'American Porter', 'American IPA', 'English Brown Ale', 'Russian Imperial Stout', 'American Imperial Stout', 'American Lager', 'Belgian IPA', 'American Pale Ale (APA)', 'Belgian Saison', 'American Cream Ale', 'German Hefeweizen', 'American Black Ale', 'English Sweet / Milk Stout', 'American Imperial IPA', 'Fruit and Field Beer', 'Scotch Ale / Wee Heavy', 'Herb and Spice Beer', 'German Pilsner', 'American Wild Ale', 'American Amber / Red Ale', 'English India Pale Ale (IPA)', 'Belgian Quadrupel (Quad)', 'American Blonde Ale', 'Braggot', 'New England IPA', 'American Imperial Pilsner', 'English Extra Special / Strong Bitter (ESB)', 'German Helles', 'European Pale Lager', 'European Dark Lager', 'American Stout', 'Belgian Strong Pale Ale', 'Bohemian Pilsener', 'American Pale Wheat Ale', 'English Dark Mild Ale', 'Belgian Fruit Lambic', 'Berliner Weisse', 'Belgian Witbier', 'German Kölsch', 'American Strong Ale', 'American Brown Ale', 'Smoke Beer', 'Scottish Ale', 'German Eisbock', 'German Weizenbock', 'Baltic Porter', 'Pumpkin Beer', 'Belgian Dubbel', 'American Brett', 'English Stout', 'Low Alcohol Beer', 'Vienna Lager', 'English Pale Ale', 'English Bitter', 'British Barleywine', 'German Altbier', 'Belgian Pale Ale', 'European Export / Dortmunder', 'English Porter', 'American Imperial Red Ale', 'Rye Beer', 'German Kellerbier / Zwickelbier', 'Belgian Strong Dark Ale', 'Foreign / Export Stout', 'Scottish Gruit / Ancient Herbed Ale', 'German Schwarzbier', 'English Oatmeal Stout', 'English Strong Ale', 'English Pale Mild Ale', 'German Dunkelweizen', 'English Old Ale', 'Winter Warmer', 'Robust Porter', 'Irish Red Ale', 'Belgian Blonde Ale', 'German Bock', 'American Adjunct Lager', 'California Common / Steam Beer', 'German Märzen / Oktoberfest', 'German Doppelbock', 'Irish Dry Stout', 'German Rauchbier', 'European Strong Lager', 'American Light Lager', 'French Bière de Garde', 'German Maibock', 'Belgian Tripel', 'German Roggenbier', 'American Amber / Red Lager', 'Flanders Oud Bruin', 'Flanders Red Ale', 'American Brut IPA', 'American Imperial Porter', 'Belgian Lambic', 'German Kristalweizen', 'Belgian Dark Ale', 'Chile Beer', 'Smoke Porter', 'Bière de Champagne / Bière Brut', 'American Wheatwine Ale', 'Russian Kvass', 'American Dark Wheat Ale', 'Munich Dunkel Lager', 'Finnish Sahti', 'American Malt Liquor', 'Belgian Gueuze', 'Japanese Rice Lager', 'Japanese Happoshu']\n",
      "AU: ['American Imperial IPA', 'American Stout', 'American Brown Ale', 'American Light Lager', 'American Pale Ale (APA)', 'American Lager', 'German Schwarzbier', 'Belgian Dark Ale', 'American IPA', 'Herb and Spice Beer', 'English Bitter', 'American Black Ale', 'Smoke Beer', 'American Amber / Red Ale', 'American Imperial Pilsner', 'American Wild Ale', 'Bohemian Pilsener', 'Belgian Saison', 'English Sweet / Milk Stout', 'California Common / Steam Beer', 'Winter Warmer', 'Scottish Ale', 'Fruit and Field Beer', 'English Brown Ale', 'Belgian Strong Pale Ale', 'English Pale Ale', 'English Porter', 'English India Pale Ale (IPA)', 'English Extra Special / Strong Bitter (ESB)', 'English Oatmeal Stout', 'Belgian Strong Dark Ale', 'German Pilsner', 'New England IPA', 'Belgian Witbier', 'Rye Beer', 'Belgian Pale Ale', 'German Hefeweizen', 'German Kölsch', 'American Porter', 'American Pale Wheat Ale', 'German Dunkelweizen', 'German Doppelbock', 'American Imperial Stout', 'American Blonde Ale', 'Robust Porter', 'Belgian Quadrupel (Quad)', 'Foreign / Export Stout', 'American Barleywine', 'Belgian IPA', 'German Eisbock', 'Belgian Tripel', 'Scotch Ale / Wee Heavy', 'Chile Beer', 'Pumpkin Beer', 'American Wheatwine Ale', 'American Strong Ale', 'Belgian Dubbel', 'German Weizenbock', 'Irish Dry Stout', 'German Helles', 'Russian Imperial Stout', 'German Bock', 'Berliner Weisse', 'American Cream Ale', 'Irish Red Ale', 'American Imperial Porter', 'French Bière de Garde', 'Vienna Lager', 'American Amber / Red Lager', 'European Dark Lager', 'English Pale Mild Ale', 'Leipzig Gose', 'American Adjunct Lager', 'English Dark Mild Ale', 'English Stout', 'Flanders Red Ale', 'Scottish Gruit / Ancient Herbed Ale', 'German Maibock', 'Belgian Fruit Lambic', 'Munich Dunkel Lager', 'British Barleywine', 'Belgian Blonde Ale', 'German Märzen / Oktoberfest', 'German Altbier', 'American Brut IPA', 'European Strong Lager', 'European Pale Lager', 'Belgian Lambic', 'Braggot', 'Baltic Porter', 'English Old Ale', 'German Rauchbier', 'American Brett', 'Flanders Oud Bruin', 'Low Alcohol Beer', 'Smoke Porter', 'Japanese Rice Lager', 'German Kellerbier / Zwickelbier', 'European Export / Dortmunder', 'Bière de Champagne / Bière Brut', 'German Kristalweizen', 'American Imperial Red Ale', 'Belgian Gueuze', 'English Strong Ale', 'German Roggenbier', 'American Dark Wheat Ale', 'Finnish Sahti', 'Russian Kvass', 'American Malt Liquor']\n",
      "BE: ['Belgian Dark Ale', 'Fruit and Field Beer', 'Belgian Pale Ale', 'Belgian Strong Pale Ale', 'Belgian Strong Dark Ale', 'Belgian Witbier', 'Belgian Saison', 'American IPA', 'Russian Imperial Stout', 'English Sweet / Milk Stout', 'American Wild Ale', 'American Imperial IPA', 'American Blonde Ale', 'Belgian Blonde Ale', 'Leipzig Gose', 'Belgian IPA', 'American Imperial Pilsner', 'American Stout', 'Belgian Tripel', 'Belgian Dubbel', 'Herb and Spice Beer', 'Belgian Fruit Lambic', 'Belgian Faro', 'Belgian Gueuze', 'Belgian Lambic', 'European Pale Lager', 'Winter Warmer', 'Low Alcohol Beer', 'Flanders Red Ale', 'German Pilsner', 'American Light Lager', 'Belgian Quadrupel (Quad)', 'Berliner Weisse', 'Smoke Beer', 'Flanders Oud Bruin', 'English Porter', 'Braggot', 'American Imperial Stout', 'English Bitter', 'German Eisbock', 'British Barleywine', 'English Brown Ale', 'American Brett', 'Smoke Porter', 'French Bière de Garde', 'American Black Ale', 'Irish Dry Stout', 'English Pale Ale', 'English Old Ale', 'Bière de Champagne / Bière Brut', 'Bohemian Pilsener', 'American Adjunct Lager', 'English Stout', 'Foreign / Export Stout', 'German Bock', 'European Export / Dortmunder', 'American Porter', 'Scotch Ale / Wee Heavy', 'American Barleywine', 'German Weizenbock', 'German Hefeweizen', 'German Altbier', 'New England IPA', 'German Märzen / Oktoberfest', 'German Helles', 'German Doppelbock', 'European Strong Lager', 'American Strong Ale', 'American Pale Ale (APA)', 'English India Pale Ale (IPA)', 'American Amber / Red Ale', 'English Strong Ale', 'Pumpkin Beer', 'English Oatmeal Stout', 'German Schwarzbier', 'Scottish Gruit / Ancient Herbed Ale', 'American Pale Wheat Ale', 'German Maibock', 'California Common / Steam Beer', 'American Brown Ale', 'American Imperial Red Ale', 'Scottish Ale', 'Irish Red Ale', 'American Cream Ale', 'German Kölsch', 'European Dark Lager', 'Baltic Porter', 'American Lager', 'English Extra Special / Strong Bitter (ESB)', 'Rye Beer', 'Chile Beer', 'German Dunkelweizen', 'English Dark Mild Ale', 'American Dark Wheat Ale', 'American Imperial Porter', 'Vienna Lager', 'Munich Dunkel Lager', 'German Roggenbier', 'German Rauchbier', 'American Amber / Red Lager', 'English Pale Mild Ale', 'German Kellerbier / Zwickelbier', 'American Malt Liquor', 'American Wheatwine Ale', 'German Kristalweizen', 'Robust Porter', 'Finnish Sahti', 'American Brut IPA']\n",
      "NZ: ['American Pale Ale (APA)', 'American Stout', 'English Bitter', 'German Pilsner', 'Belgian Witbier', 'English Dark Mild Ale', 'American Amber / Red Ale', 'American IPA', 'English Stout', 'English India Pale Ale (IPA)', 'Chile Beer', 'English Pale Ale', 'English Brown Ale', 'Belgian Saison', 'British Barleywine', 'English Porter', 'German Weizenbock', 'German Hefeweizen', 'Bohemian Pilsener', 'English Sweet / Milk Stout', 'American Imperial IPA', 'Baltic Porter', 'American Blonde Ale', 'Herb and Spice Beer', 'English Strong Ale', 'Fruit and Field Beer', 'American Imperial Pilsner', 'Munich Dunkel Lager', 'German Schwarzbier', 'American Porter', 'German Doppelbock', 'Belgian Tripel', 'European Pale Lager', 'German Helles', 'Leipzig Gose', 'Belgian Quadrupel (Quad)', 'German Rauchbier', 'Flanders Oud Bruin', 'Belgian Pale Ale', 'American Wild Ale', 'Flanders Red Ale', 'English Oatmeal Stout', 'Belgian IPA', 'English Extra Special / Strong Bitter (ESB)', 'Rye Beer', 'American Pale Wheat Ale', 'Smoke Beer', 'Belgian Strong Pale Ale', 'Winter Warmer', 'Belgian Strong Dark Ale', 'Belgian Dubbel', 'German Märzen / Oktoberfest', 'English Pale Mild Ale', 'Belgian Fruit Lambic', 'Belgian Gueuze', 'Scotch Ale / Wee Heavy', 'Russian Imperial Stout', 'Irish Red Ale', 'New England IPA', 'Berliner Weisse', 'American Brown Ale', 'American Light Lager', 'American Amber / Red Lager', 'Belgian Dark Ale', 'English Old Ale', 'American Imperial Stout', 'American Strong Ale', 'American Lager', 'American Barleywine', 'American Black Ale', 'American Cream Ale', 'American Adjunct Lager', 'Scottish Ale', 'German Kölsch', 'Vienna Lager', 'Irish Dry Stout', 'Belgian Blonde Ale', 'Belgian Lambic', 'German Maibock', 'German Bock', 'European Dark Lager', 'Pumpkin Beer', 'American Imperial Porter', 'German Altbier', 'German Dunkelweizen', 'American Dark Wheat Ale', 'European Export / Dortmunder', 'California Common / Steam Beer', 'German Eisbock', 'American Brett', 'Foreign / Export Stout', 'French Bière de Garde', 'Japanese Happoshu', 'Japanese Rice Lager', 'American Imperial Red Ale', 'Bière de Champagne / Bière Brut', 'German Roggenbier', 'Robust Porter', 'Scottish Gruit / Ancient Herbed Ale', 'Smoke Porter', 'German Kellerbier / Zwickelbier', 'German Kristalweizen', 'American Wheatwine Ale', 'Braggot', 'Low Alcohol Beer', 'European Strong Lager', 'American Malt Liquor', 'Finnish Sahti']\n",
      "RU: ['Russian Kvass', 'English Pale Ale', 'European Pale Lager', 'European Dark Lager', 'Bohemian Pilsener', 'European Strong Lager', 'American Lager', 'Fruit and Field Beer', 'American Adjunct Lager', 'American Amber / Red Lager', 'Low Alcohol Beer', 'German Helles', 'Herb and Spice Beer', 'American Malt Liquor', 'American Light Lager', 'Munich Dunkel Lager', 'Vienna Lager', 'German Kellerbier / Zwickelbier', 'German Hefeweizen', 'English Dark Mild Ale', 'American Amber / Red Ale', 'Belgian Saison', 'Winter Warmer', 'Leipzig Gose', 'American Pale Wheat Ale', 'American Stout', 'Rye Beer', 'American IPA', 'American Black Ale', 'English Oatmeal Stout', 'American Pale Ale (APA)', 'Belgian Strong Pale Ale', 'American Cream Ale', 'Pumpkin Beer', 'Belgian Strong Dark Ale', 'English Sweet / Milk Stout', 'Russian Imperial Stout', 'American Barleywine', 'American Wheatwine Ale', 'American Imperial IPA', 'Berliner Weisse', 'American Wild Ale', 'Belgian Gueuze', 'German Weizenbock', 'Belgian Quadrupel (Quad)', 'Baltic Porter', 'Belgian Witbier', 'German Märzen / Oktoberfest', 'English India Pale Ale (IPA)', 'American Porter', 'German Doppelbock', 'British Barleywine', 'German Maibock', 'Belgian Tripel', 'German Bock', 'German Pilsner', 'English Stout', 'Flanders Red Ale', 'English Porter', 'Irish Dry Stout', 'Smoke Beer', 'Irish Red Ale', 'Belgian IPA', 'American Imperial Stout', 'English Brown Ale', 'American Brown Ale', 'Belgian Fruit Lambic', 'Belgian Blonde Ale', 'German Schwarzbier', 'Scottish Ale', 'California Common / Steam Beer', 'American Blonde Ale', 'Braggot', 'German Kölsch', 'New England IPA', 'American Imperial Porter', 'American Imperial Pilsner', 'Foreign / Export Stout', 'English Strong Ale', 'French Bière de Garde', 'European Export / Dortmunder', 'German Kristalweizen', 'Flanders Oud Bruin', 'Belgian Pale Ale', 'German Roggenbier', 'American Strong Ale', 'German Dunkelweizen', 'Belgian Dubbel', 'Belgian Dark Ale', 'Scotch Ale / Wee Heavy', 'English Extra Special / Strong Bitter (ESB)', 'German Rauchbier', 'English Bitter', 'English Old Ale', 'American Imperial Red Ale', 'German Altbier', 'Smoke Porter', 'Chile Beer', 'American Dark Wheat Ale', 'Belgian Lambic', 'English Pale Mild Ale', 'American Brett', 'Robust Porter', 'Finnish Sahti', 'Scottish Gruit / Ancient Herbed Ale', 'German Eisbock', 'Bière de Champagne / Bière Brut', 'Japanese Rice Lager']\n",
      "DK: ['British Barleywine', 'Belgian Tripel', 'English Oatmeal Stout', 'English Sweet / Milk Stout', 'English Old Ale', 'American IPA', 'German Bock', 'Baltic Porter', 'Belgian Pale Ale', 'English Porter', 'German Dunkelweizen', 'German Roggenbier', 'American Adjunct Lager', 'Herb and Spice Beer', 'American Imperial Stout', 'English Dark Mild Ale', 'New England IPA', 'Belgian Quadrupel (Quad)', 'English Extra Special / Strong Bitter (ESB)', 'Vienna Lager', 'Belgian Strong Dark Ale', 'German Doppelbock', 'American Black Ale', 'German Hefeweizen', 'English India Pale Ale (IPA)', 'Fruit and Field Beer', 'Belgian Witbier', 'Braggot', 'American Amber / Red Ale', 'European Pale Lager', 'English Pale Ale', 'American Blonde Ale', 'German Schwarzbier', 'English Stout', 'English Strong Ale', 'American Porter', 'Pumpkin Beer', 'German Maibock', 'Belgian Dark Ale', 'American Brown Ale', 'Low Alcohol Beer', 'American Light Lager', 'European Export / Dortmunder', 'European Strong Lager', 'European Dark Lager', 'American Amber / Red Lager', 'Bohemian Pilsener', 'Foreign / Export Stout', 'German Pilsner', 'Belgian Blonde Ale', 'Belgian Strong Pale Ale', 'Belgian Saison', 'Russian Imperial Stout', 'American Imperial IPA', 'German Altbier', 'German Märzen / Oktoberfest', 'German Weizenbock', 'Belgian Dubbel', 'American Wild Ale', 'American Pale Wheat Ale', 'American Stout', 'Leipzig Gose', 'American Imperial Porter', 'American Pale Ale (APA)', 'Smoke Beer', 'Irish Red Ale', 'German Rauchbier', 'French Bière de Garde', 'English Brown Ale', 'Winter Warmer', 'American Barleywine', 'Belgian Fruit Lambic', 'Berliner Weisse', 'American Strong Ale', 'Scotch Ale / Wee Heavy', 'American Cream Ale', 'American Imperial Pilsner', 'Rye Beer', 'German Kellerbier / Zwickelbier', 'Flanders Red Ale', 'California Common / Steam Beer', 'American Lager', 'Belgian Lambic', 'Munich Dunkel Lager', 'Scottish Gruit / Ancient Herbed Ale', 'Irish Dry Stout', 'Chile Beer', 'Bière de Champagne / Bière Brut', 'Belgian IPA', 'American Imperial Red Ale', 'Smoke Porter', 'American Dark Wheat Ale', 'Belgian Gueuze', 'American Wheatwine Ale', 'German Kristalweizen', 'Scottish Ale', 'German Kölsch', 'Flanders Oud Bruin', 'German Helles', 'American Malt Liquor', 'Robust Porter', 'English Pale Mild Ale', 'German Eisbock', 'American Brett', 'Belgian Faro', 'English Bitter', 'Japanese Rice Lager']\n",
      "FR: ['American Imperial IPA', 'American IPA', 'American Pale Ale (APA)', 'Belgian Saison', 'American Brown Ale', 'American Wheatwine Ale', 'American Amber / Red Ale', 'English Porter', 'Belgian Strong Dark Ale', 'Belgian Tripel', 'Belgian Witbier', 'French Bière de Garde', 'Belgian Blonde Ale', 'American Blonde Ale', 'Belgian Dark Ale', 'English Pale Ale', 'English Bitter', 'English Oatmeal Stout', 'English Dark Mild Ale', 'Flanders Red Ale', 'American Barleywine', 'American Pale Wheat Ale', 'European Dark Lager', 'German Pilsner', 'English Stout', 'American Black Ale', 'Irish Dry Stout', 'Belgian Pale Ale', 'Herb and Spice Beer', 'Russian Imperial Stout', 'American Imperial Stout', 'Belgian IPA', 'American Wild Ale', 'Fruit and Field Beer', 'English Sweet / Milk Stout', 'Smoke Beer', 'American Porter', 'European Pale Lager', 'Rye Beer', 'American Stout', 'British Barleywine', 'English Strong Ale', 'Winter Warmer', 'Belgian Strong Pale Ale', 'Foreign / Export Stout', 'German Eisbock', 'Belgian Gueuze', 'Leipzig Gose', 'Scottish Gruit / Ancient Herbed Ale', 'Irish Red Ale', 'English India Pale Ale (IPA)', 'Vienna Lager', 'Low Alcohol Beer', 'Bohemian Pilsener', 'Scottish Ale', 'American Lager', 'European Strong Lager', 'Berliner Weisse', 'English Brown Ale', 'Belgian Dubbel', 'German Bock', 'American Light Lager', 'Munich Dunkel Lager', 'Baltic Porter', 'American Dark Wheat Ale', 'Pumpkin Beer', 'German Kölsch', 'German Doppelbock', 'German Rauchbier', 'English Old Ale', 'American Imperial Red Ale', 'American Cream Ale', 'German Hefeweizen', 'German Märzen / Oktoberfest', 'German Altbier', 'German Maibock', 'Belgian Fruit Lambic', 'German Helles', 'English Extra Special / Strong Bitter (ESB)', 'Scotch Ale / Wee Heavy', 'American Strong Ale', 'German Weizenbock', 'Smoke Porter', 'Chile Beer', 'German Dunkelweizen', 'California Common / Steam Beer', 'American Imperial Porter', 'Belgian Quadrupel (Quad)', 'American Adjunct Lager', 'German Schwarzbier', 'American Imperial Pilsner', 'Flanders Oud Bruin', 'Belgian Lambic', 'German Roggenbier', 'American Amber / Red Lager', 'English Pale Mild Ale', 'American Brett', 'German Kellerbier / Zwickelbier', 'European Export / Dortmunder', 'American Malt Liquor', 'German Kristalweizen', 'Braggot', 'Robust Porter', 'Finnish Sahti', 'New England IPA', 'Bière de Champagne / Bière Brut', 'American Brut IPA']\n",
      "IT: ['American Amber / Red Ale', 'California Common / Steam Beer', 'Belgian Witbier', 'American Pale Ale (APA)', 'American IPA', 'English India Pale Ale (IPA)', 'German Maibock', 'German Hefeweizen', 'German Schwarzbier', 'Herb and Spice Beer', 'German Pilsner', 'Belgian Strong Dark Ale', 'German Helles', 'German Märzen / Oktoberfest', 'German Bock', 'English Stout', 'English Strong Ale', 'Scottish Ale', 'Russian Imperial Stout', 'Scotch Ale / Wee Heavy', 'Flanders Red Ale', 'American Blonde Ale', 'American Imperial IPA', 'Belgian Dark Ale', 'American Lager', 'German Kölsch', 'English Porter', 'American Wild Ale', 'Belgian Pale Ale', 'English Pale Ale', 'Irish Dry Stout', 'English Oatmeal Stout', 'English Extra Special / Strong Bitter (ESB)', 'English Bitter', 'English Old Ale', 'Winter Warmer', 'Belgian Tripel', 'Bohemian Pilsener', 'Belgian Dubbel', 'European Pale Lager', 'Fruit and Field Beer', 'Belgian Strong Pale Ale', 'Pumpkin Beer', 'European Dark Lager', 'Vienna Lager', 'French Bière de Garde', 'Leipzig Gose', 'American Black Ale', 'Belgian Saison', 'Foreign / Export Stout', 'American Imperial Stout', 'Smoke Beer', 'British Barleywine', 'German Doppelbock', 'Munich Dunkel Lager', 'European Export / Dortmunder', 'English Brown Ale', 'German Kellerbier / Zwickelbier', 'Baltic Porter', 'American Imperial Pilsner', 'Belgian Lambic', 'Berliner Weisse', 'English Sweet / Milk Stout', 'Belgian IPA', 'American Barleywine', 'American Porter', 'German Dunkelweizen', 'American Pale Wheat Ale', 'New England IPA', 'Rye Beer', 'Belgian Fruit Lambic', 'German Eisbock', 'American Light Lager', 'American Brown Ale', 'German Altbier', 'German Rauchbier', 'American Amber / Red Lager', 'German Weizenbock', 'American Strong Ale', 'Belgian Quadrupel (Quad)', 'American Stout', 'Irish Red Ale', 'American Adjunct Lager', 'English Dark Mild Ale', 'European Strong Lager', 'English Pale Mild Ale', 'German Roggenbier', 'Low Alcohol Beer', 'American Brett', 'Bière de Champagne / Bière Brut', 'Flanders Oud Bruin', 'American Imperial Porter', 'Scottish Gruit / Ancient Herbed Ale', 'Finnish Sahti', 'American Imperial Red Ale', 'American Cream Ale', 'Smoke Porter', 'Chile Beer', 'American Dark Wheat Ale', 'Belgian Blonde Ale', 'Belgian Gueuze', 'American Malt Liquor', 'American Wheatwine Ale', 'German Kristalweizen', 'Braggot', 'Robust Porter', 'Japanese Rice Lager']\n",
      "ES: ['American Pale Ale (APA)', 'American Blonde Ale', 'American Amber / Red Ale', 'German Kölsch', 'Fruit and Field Beer', 'Belgian Witbier', 'British Barleywine', 'English Brown Ale', 'American Barleywine', 'American IPA', 'American Imperial IPA', 'American Brown Ale', 'Smoke Beer', 'Herb and Spice Beer', 'American Imperial Stout', 'Leipzig Gose', 'Belgian Saison', 'Braggot', 'Belgian Quadrupel (Quad)', 'American Black Ale', 'English Extra Special / Strong Bitter (ESB)', 'American Amber / Red Lager', 'American Porter', 'English Oatmeal Stout', 'Belgian Pale Ale', 'English Pale Mild Ale', 'Rye Beer', 'European Pale Lager', 'American Stout', 'New England IPA', 'American Wheatwine Ale', 'Belgian Dark Ale', 'Russian Imperial Stout', 'American Pale Wheat Ale', 'European Strong Lager', 'Belgian Fruit Lambic', 'German Schwarzbier', 'American Adjunct Lager', 'European Export / Dortmunder', 'Low Alcohol Beer', 'English Pale Ale', 'Foreign / Export Stout', 'German Pilsner', 'English Stout', 'Irish Red Ale', 'German Hefeweizen', 'Belgian Tripel', 'Belgian Dubbel', 'Belgian Blonde Ale', 'Belgian IPA', 'Belgian Strong Dark Ale', 'American Wild Ale', 'Winter Warmer', 'Irish Dry Stout', 'Munich Dunkel Lager', 'Vienna Lager', 'German Weizenbock', 'Scottish Ale', 'German Maibock', 'Pumpkin Beer', 'English Bitter', 'Bohemian Pilsener', 'English India Pale Ale (IPA)', 'Baltic Porter', 'Belgian Strong Pale Ale', 'Flanders Red Ale', 'German Eisbock', 'German Doppelbock', 'American Strong Ale', 'Berliner Weisse', 'German Kellerbier / Zwickelbier', 'German Rauchbier', 'European Dark Lager', 'German Helles', 'English Dark Mild Ale', 'American Lager', 'German Roggenbier', 'German Dunkelweizen', 'American Dark Wheat Ale', 'German Märzen / Oktoberfest', 'American Light Lager', 'American Cream Ale', 'Scotch Ale / Wee Heavy', 'English Old Ale', 'German Bock', 'Flanders Oud Bruin', 'English Porter', 'English Sweet / Milk Stout', 'French Bière de Garde', 'American Imperial Pilsner', 'American Brett', 'English Strong Ale', 'Smoke Porter', 'German Altbier', 'Robust Porter', 'Belgian Gueuze', 'American Imperial Porter', 'American Brut IPA', 'California Common / Steam Beer', 'Chile Beer', 'American Imperial Red Ale', 'Belgian Lambic', 'American Malt Liquor', 'German Kristalweizen', 'Finnish Sahti', 'Japanese Rice Lager']\n",
      "BR: ['American Adjunct Lager', 'English Old Ale', 'German Pilsner', 'American Amber / Red Ale', 'Belgian Saison', 'Vienna Lager', 'German Hefeweizen', 'German Roggenbier', 'Baltic Porter', 'American Brown Ale', 'Leipzig Gose', 'American Pale Ale (APA)', 'American Porter', 'German Märzen / Oktoberfest', 'American Lager', 'Bohemian Pilsener', 'American Pale Wheat Ale', 'American Malt Liquor', 'German Dunkelweizen', 'Belgian Blonde Ale', 'Fruit and Field Beer', 'American Black Ale', 'English India Pale Ale (IPA)', 'European Pale Lager', 'American IPA', 'Flanders Red Ale', 'English Oatmeal Stout', 'English Sweet / Milk Stout', 'American Imperial Stout', 'Belgian Dark Ale', 'Munich Dunkel Lager', 'German Bock', 'English Porter', 'American Imperial IPA', 'California Common / Steam Beer', 'American Wild Ale', 'Scotch Ale / Wee Heavy', 'English Stout', 'English Brown Ale', 'Berliner Weisse', 'British Barleywine', 'Belgian Witbier', 'American Stout', 'German Kellerbier / Zwickelbier', 'American Light Lager', 'English Pale Ale', 'English Dark Mild Ale', 'European Dark Lager', 'American Amber / Red Lager', 'German Schwarzbier', 'German Doppelbock', 'Rye Beer', 'American Blonde Ale', 'Irish Dry Stout', 'German Maibock', 'English Extra Special / Strong Bitter (ESB)', 'German Weizenbock', 'Irish Red Ale', 'Smoke Beer', 'Belgian Tripel', 'American Imperial Pilsner', 'Belgian Strong Dark Ale', 'Belgian Pale Ale', 'German Rauchbier', 'German Altbier', 'German Helles', 'European Export / Dortmunder', 'Low Alcohol Beer', 'American Barleywine', 'Belgian Strong Pale Ale', 'Russian Imperial Stout', 'Belgian Quadrupel (Quad)', 'Belgian Dubbel', 'Herb and Spice Beer', 'American Imperial Porter', 'English Bitter', 'Flanders Oud Bruin', 'Pumpkin Beer', 'German Kölsch', 'Scottish Ale', 'Winter Warmer', 'American Strong Ale', 'New England IPA', 'American Cream Ale', 'Chile Beer', 'English Pale Mild Ale', 'Belgian IPA', 'American Wheatwine Ale', 'French Bière de Garde', 'American Brett', 'Foreign / Export Stout', 'Smoke Porter', 'German Kristalweizen', 'American Imperial Red Ale', 'Belgian Fruit Lambic', 'American Dark Wheat Ale', 'Belgian Lambic', 'English Strong Ale', 'Belgian Gueuze', 'Braggot', 'Robust Porter', 'Finnish Sahti', 'American Brut IPA', 'Bière de Champagne / Bière Brut', 'European Strong Lager']\n",
      "LT: ['Herb and Spice Beer', 'European Pale Lager', 'Russian Kvass', 'German Hefeweizen', 'European Strong Lager', 'English Pale Mild Ale', 'Low Alcohol Beer', 'American Amber / Red Lager', 'Bohemian Pilsener', 'Fruit and Field Beer', 'Winter Warmer', 'English Pale Ale', 'European Dark Lager', 'American Adjunct Lager', 'American Amber / Red Ale', 'Belgian Dark Ale', 'American Blonde Ale', 'English Old Ale', 'American IPA', 'American Imperial IPA', 'American Brown Ale', 'Belgian Dubbel', 'English Sweet / Milk Stout', 'Belgian Strong Dark Ale', 'American Imperial Stout', 'English Brown Ale', 'American Imperial Red Ale', 'American Porter', 'Scottish Ale', 'German Pilsner', 'American Stout', 'American Pale Ale (APA)', 'American Pale Wheat Ale', 'Russian Imperial Stout', 'German Bock', 'American Light Lager', 'Belgian Strong Pale Ale', 'Irish Red Ale', 'American Cream Ale', 'German Kölsch', 'Belgian Witbier', 'German Märzen / Oktoberfest', 'German Altbier', 'American Barleywine', 'Belgian IPA', 'Belgian Saison', 'Pumpkin Beer', 'German Maibock', 'Belgian Pale Ale', 'Belgian Fruit Lambic', 'German Helles', 'Baltic Porter', 'American Lager', 'English Extra Special / Strong Bitter (ESB)', 'American Black Ale', 'Scotch Ale / Wee Heavy', 'American Wild Ale', 'Foreign / Export Stout', 'English Oatmeal Stout', 'Smoke Beer', 'Leipzig Gose', 'English Bitter', 'American Strong Ale', 'Irish Dry Stout', 'German Weizenbock', 'Rye Beer', 'Smoke Porter', 'Berliner Weisse', 'Chile Beer', 'German Dunkelweizen', 'California Common / Steam Beer', 'English Dark Mild Ale', 'English Porter', 'American Dark Wheat Ale', 'American Imperial Porter', 'German Doppelbock', 'Belgian Quadrupel (Quad)', 'Vienna Lager', 'German Schwarzbier', 'British Barleywine', 'American Imperial Pilsner', 'English India Pale Ale (IPA)', 'French Bière de Garde', 'Belgian Tripel', 'English Stout', 'Munich Dunkel Lager', 'Flanders Oud Bruin', 'Belgian Lambic', 'German Roggenbier', 'German Rauchbier', 'Belgian Blonde Ale', 'Flanders Red Ale', 'English Strong Ale', 'American Brett', 'German Kellerbier / Zwickelbier', 'Belgian Gueuze', 'European Export / Dortmunder', 'American Malt Liquor', 'American Wheatwine Ale', 'German Kristalweizen', 'Braggot', 'Robust Porter', 'Finnish Sahti', 'Scottish Gruit / Ancient Herbed Ale', 'New England IPA']\n",
      "UA: ['Russian Kvass', 'German Hefeweizen', 'Bohemian Pilsener', 'Munich Dunkel Lager', 'European Pale Lager', 'Belgian Witbier', 'European Dark Lager', 'American Adjunct Lager', 'American Amber / Red Lager', 'American IPA', 'English Sweet / Milk Stout', 'European Strong Lager', 'Fruit and Field Beer', 'German Pilsner', 'Belgian Dark Ale', 'German Helles', 'American Lager', 'Low Alcohol Beer', 'Baltic Porter', 'American Light Lager', 'Herb and Spice Beer', 'Leipzig Gose', 'Belgian Tripel', 'American Pale Ale (APA)', 'German Altbier', 'English Pale Ale', 'American Pale Wheat Ale', 'Belgian Pale Ale', 'English Porter', 'Belgian Saison', 'English Extra Special / Strong Bitter (ESB)', 'Russian Imperial Stout', 'Berliner Weisse', 'Irish Dry Stout', 'American Imperial IPA', 'American Stout', 'Belgian Strong Dark Ale', 'English Bitter', 'German Rauchbier', 'California Common / Steam Beer', 'German Schwarzbier', 'American Imperial Stout', 'Vienna Lager', 'European Export / Dortmunder', 'American Cream Ale', 'Belgian Blonde Ale', 'German Bock', 'American Blonde Ale', 'English Strong Ale', 'English India Pale Ale (IPA)', 'Belgian Quadrupel (Quad)', 'American Amber / Red Ale', 'German Doppelbock', 'Belgian Strong Pale Ale', 'American Barleywine', 'German Dunkelweizen', 'Winter Warmer', 'American Brown Ale', 'American Porter', 'German Märzen / Oktoberfest', 'Rye Beer', 'Belgian IPA', 'American Black Ale', 'Scotch Ale / Wee Heavy', 'American Imperial Pilsner', 'Irish Red Ale', 'American Strong Ale', 'German Kölsch', 'English Oatmeal Stout', 'American Wild Ale', 'Belgian Dubbel', 'German Kellerbier / Zwickelbier', 'German Kristalweizen', 'English Old Ale', 'English Brown Ale', 'American Imperial Red Ale', 'Scottish Ale', 'Pumpkin Beer', 'German Maibock', 'Belgian Fruit Lambic', 'Foreign / Export Stout', 'Smoke Beer', 'German Weizenbock', 'Smoke Porter', 'Chile Beer', 'English Dark Mild Ale', 'American Dark Wheat Ale', 'American Imperial Porter', 'British Barleywine', 'French Bière de Garde', 'English Stout', 'Flanders Oud Bruin', 'Belgian Lambic', 'German Roggenbier', 'Flanders Red Ale', 'English Pale Mild Ale', 'American Brett', 'Belgian Gueuze', 'American Malt Liquor', 'American Wheatwine Ale', 'Braggot', 'Robust Porter', 'Finnish Sahti', 'Scottish Gruit / Ancient Herbed Ale', 'Japanese Rice Lager']\n",
      "DE: ['German Helles', 'German Hefeweizen', 'Munich Dunkel Lager', 'German Kellerbier / Zwickelbier', 'Berliner Weisse', 'German Dunkelweizen', 'German Märzen / Oktoberfest', 'German Pilsner', 'German Doppelbock', 'German Kristalweizen', 'European Pale Lager', 'European Export / Dortmunder', 'Low Alcohol Beer', 'Fruit and Field Beer', 'American IPA', 'European Dark Lager', 'American Pale Ale (APA)', 'English Pale Ale', 'German Maibock', 'German Schwarzbier', 'Belgian Quadrupel (Quad)', 'Belgian Pale Ale', 'Belgian Dark Ale', 'Belgian Tripel', 'Belgian Strong Pale Ale', 'Russian Imperial Stout', 'Belgian Dubbel', 'Belgian Blonde Ale', 'Belgian Witbier', 'Belgian Saison', 'Belgian IPA', 'Belgian Strong Dark Ale', 'Herb and Spice Beer', 'Irish Dry Stout', 'American Blonde Ale', 'German Rauchbier', 'Vienna Lager', 'American Imperial Stout', 'English Stout', 'German Bock', 'German Altbier', 'Smoke Beer', 'English Brown Ale', 'American Wild Ale', 'German Kölsch', 'Scottish Gruit / Ancient Herbed Ale', 'Leipzig Gose', 'Baltic Porter', 'German Eisbock', 'Braggot', 'English Porter', 'American Porter', 'English Sweet / Milk Stout', 'Rye Beer', 'German Weizenbock', 'American Amber / Red Lager', 'English India Pale Ale (IPA)', 'American Imperial IPA', 'American Light Lager', 'American Pale Wheat Ale', 'Bohemian Pilsener', 'Scottish Ale', 'American Amber / Red Ale', 'New England IPA', 'Belgian Lambic', 'German Roggenbier', 'American Lager', 'French Bière de Garde', 'California Common / Steam Beer', 'American Imperial Pilsner', 'English Oatmeal Stout', 'Chile Beer', 'English Bitter', 'American Brown Ale', 'British Barleywine', 'English Old Ale', 'Scotch Ale / Wee Heavy', 'American Adjunct Lager', 'English Pale Mild Ale', 'American Strong Ale', 'American Black Ale', 'Pumpkin Beer', 'American Wheatwine Ale', 'Winter Warmer', 'American Barleywine', 'American Imperial Porter', 'American Brut IPA', 'English Strong Ale', 'European Strong Lager', 'Irish Red Ale', 'American Stout', 'Foreign / Export Stout', 'English Extra Special / Strong Bitter (ESB)', 'Smoke Porter', 'American Imperial Red Ale', 'American Brett', 'Flanders Red Ale', 'Bière de Champagne / Bière Brut', 'English Dark Mild Ale', 'American Cream Ale', 'Flanders Oud Bruin', 'Japanese Rice Lager', 'Belgian Gueuze', 'Russian Kvass']\n",
      "NL: ['Belgian Witbier', 'Belgian Dubbel', 'Russian Imperial Stout', 'German Bock', 'German Maibock', 'German Weizenbock', 'European Dark Lager', 'Belgian Tripel', 'Belgian Dark Ale', 'American Black Ale', 'Irish Red Ale', 'English Sweet / Milk Stout', 'Belgian Strong Dark Ale', 'German Kölsch', 'German Dunkelweizen', 'Belgian IPA', 'English Oatmeal Stout', 'American Imperial IPA', 'American Imperial Stout', 'American Amber / Red Ale', 'German Pilsner', 'Fruit and Field Beer', 'Belgian Saison', 'American Stout', 'Belgian Pale Ale', 'Belgian Blonde Ale', 'American Blonde Ale', 'American Lager', 'Bohemian Pilsener', 'Flanders Oud Bruin', 'American Wild Ale', 'Herb and Spice Beer', 'Belgian Fruit Lambic', 'Belgian Quadrupel (Quad)', 'Foreign / Export Stout', 'American Pale Ale (APA)', 'American IPA', 'English Porter', 'English India Pale Ale (IPA)', 'English Old Ale', 'American Barleywine', 'German Doppelbock', 'Scottish Gruit / Ancient Herbed Ale', 'Smoke Beer', 'Smoke Porter', 'Belgian Strong Pale Ale', 'American Porter', 'English Pale Ale', 'British Barleywine', 'American Brett', 'Baltic Porter', 'Scotch Ale / Wee Heavy', 'German Hefeweizen', 'European Pale Lager', 'Low Alcohol Beer', 'German Rauchbier', 'Winter Warmer', 'American Cream Ale', 'French Bière de Garde', 'English Dark Mild Ale', 'German Eisbock', 'New England IPA', 'German Altbier', 'English Strong Ale', 'American Pale Wheat Ale', 'German Schwarzbier', 'California Common / Steam Beer', 'American Wheatwine Ale', 'Pumpkin Beer', 'English Bitter', 'Braggot', 'American Strong Ale', 'Vienna Lager', 'Berliner Weisse', 'Leipzig Gose', 'Scottish Ale', 'Chile Beer', 'English Stout', 'German Märzen / Oktoberfest', 'Munich Dunkel Lager', 'American Light Lager', 'Rye Beer', 'English Extra Special / Strong Bitter (ESB)', 'American Brown Ale', 'English Brown Ale', 'Finnish Sahti', 'Flanders Red Ale', 'American Adjunct Lager', 'English Pale Mild Ale', 'German Kellerbier / Zwickelbier', 'American Imperial Porter', 'American Amber / Red Lager', 'European Strong Lager', 'European Export / Dortmunder', 'German Helles', 'Bière de Champagne / Bière Brut', 'American Imperial Pilsner', 'American Malt Liquor', 'German Roggenbier', 'Belgian Gueuze', 'Irish Dry Stout', 'German Kristalweizen', 'Belgian Lambic', 'Robust Porter']\n",
      "CZ: ['Bohemian Pilsener', 'American Amber / Red Ale', 'American IPA', 'German Rauchbier', 'Munich Dunkel Lager', 'Low Alcohol Beer', 'European Pale Lager', 'European Strong Lager', 'European Dark Lager', 'German Doppelbock', 'Russian Imperial Stout', 'Belgian Pale Ale', 'Vienna Lager', 'German Hefeweizen', 'Scottish Ale', 'American Black Ale', 'American Pale Ale (APA)', 'Fruit and Field Beer', 'Baltic Porter', 'German Altbier', 'American Light Lager', 'English India Pale Ale (IPA)', 'Winter Warmer', 'German Dunkelweizen', 'European Export / Dortmunder', 'German Schwarzbier', 'English Pale Ale', 'American Porter', 'American Amber / Red Lager', 'American Blonde Ale', 'Belgian IPA', 'German Roggenbier', 'English Oatmeal Stout', 'German Märzen / Oktoberfest', 'Foreign / Export Stout', 'Herb and Spice Beer', 'German Bock', 'American Brown Ale', 'English Stout', 'Smoke Beer', 'American Imperial IPA', 'German Maibock', 'American Wild Ale', 'American Pale Wheat Ale', 'English Sweet / Milk Stout', 'American Barleywine', 'Bière de Champagne / Bière Brut', 'Belgian Witbier', 'American Strong Ale', 'American Stout', 'Belgian Strong Dark Ale', 'American Lager', 'English Extra Special / Strong Bitter (ESB)', 'Belgian Blonde Ale', 'English Porter', 'American Adjunct Lager', 'Belgian Strong Pale Ale', 'German Kristalweizen', 'Belgian Dubbel', 'American Imperial Stout', 'American Imperial Pilsner', 'English Old Ale', 'English Brown Ale', 'American Imperial Red Ale', 'German Pilsner', 'Irish Red Ale', 'American Cream Ale', 'German Kölsch', 'Belgian Saison', 'Belgian Dark Ale', 'Pumpkin Beer', 'Belgian Fruit Lambic', 'German Helles', 'Scotch Ale / Wee Heavy', 'Leipzig Gose', 'English Bitter', 'Irish Dry Stout', 'German Weizenbock', 'Rye Beer', 'Smoke Porter', 'Berliner Weisse', 'Chile Beer', 'California Common / Steam Beer', 'English Dark Mild Ale', 'American Dark Wheat Ale', 'American Imperial Porter', 'Belgian Quadrupel (Quad)', 'British Barleywine', 'French Bière de Garde', 'Belgian Tripel', 'Flanders Oud Bruin', 'Belgian Lambic', 'Flanders Red Ale', 'English Strong Ale', 'English Pale Mild Ale', 'American Brett', 'German Kellerbier / Zwickelbier', 'Belgian Gueuze', 'American Malt Liquor', 'American Wheatwine Ale', 'Braggot', 'Robust Porter', 'Finnish Sahti']\n",
      "IE: ['Irish Red Ale', 'European Pale Lager', 'Irish Dry Stout', 'American Blonde Ale', 'English Old Ale', 'American IPA', 'Herb and Spice Beer', 'Fruit and Field Beer', 'American Amber / Red Ale', 'American Imperial IPA', 'American Brown Ale', 'Belgian Dubbel', 'English Sweet / Milk Stout', 'Belgian Strong Dark Ale', 'American Imperial Stout', 'English Brown Ale', 'American Imperial Red Ale', 'American Porter', 'Scottish Ale', 'German Pilsner', 'American Stout', 'American Pale Ale (APA)', 'American Pale Wheat Ale', 'Russian Imperial Stout', 'German Bock', 'American Light Lager', 'Belgian Strong Pale Ale', 'American Cream Ale', 'German Hefeweizen', 'German Kölsch', 'Belgian Witbier', 'German Märzen / Oktoberfest', 'German Altbier', 'American Barleywine', 'Belgian IPA', 'Belgian Saison', 'Belgian Dark Ale', 'Pumpkin Beer', 'German Maibock', 'Belgian Pale Ale', 'Belgian Fruit Lambic', 'European Dark Lager', 'Low Alcohol Beer', 'German Helles', 'Baltic Porter', 'American Lager', 'English Extra Special / Strong Bitter (ESB)', 'American Black Ale', 'English Pale Ale', 'Scotch Ale / Wee Heavy', 'American Wild Ale', 'Foreign / Export Stout', 'English Oatmeal Stout', 'Smoke Beer', 'Leipzig Gose', 'English Bitter', 'American Strong Ale', 'German Weizenbock', 'Rye Beer', 'Smoke Porter', 'Winter Warmer', 'Berliner Weisse', 'Bohemian Pilsener', 'Chile Beer', 'German Dunkelweizen', 'California Common / Steam Beer', 'English Dark Mild Ale', 'English Porter', 'American Dark Wheat Ale', 'American Imperial Porter', 'German Doppelbock', 'Belgian Quadrupel (Quad)', 'American Adjunct Lager', 'Vienna Lager', 'German Schwarzbier', 'British Barleywine', 'American Imperial Pilsner', 'English India Pale Ale (IPA)', 'French Bière de Garde', 'Belgian Tripel', 'English Stout', 'Munich Dunkel Lager', 'Flanders Oud Bruin', 'Belgian Lambic', 'German Roggenbier', 'German Rauchbier', 'American Amber / Red Lager', 'Belgian Blonde Ale', 'Flanders Red Ale', 'English Strong Ale', 'English Pale Mild Ale', 'American Brett', 'German Kellerbier / Zwickelbier', 'Belgian Gueuze', 'European Export / Dortmunder', 'American Malt Liquor', 'American Wheatwine Ale', 'German Kristalweizen', 'Braggot', 'Robust Porter', 'Finnish Sahti', 'New England IPA', 'Scottish Gruit / Ancient Herbed Ale']\n",
      "KY: ['Fruit and Field Beer', 'European Pale Lager', 'American Lager', 'American Light Lager', 'American Adjunct Lager', 'Foreign / Export Stout', 'German Bock', 'American Amber / Red Ale', 'Rye Beer', 'American Black Ale', 'American Brown Ale', 'American Imperial Stout', 'American IPA', 'American Pale Ale (APA)', 'English Pale Ale', 'Russian Imperial Stout', 'American Stout', 'American Blonde Ale', 'German Hefeweizen', 'American Porter', 'German Weizenbock', 'New England IPA', 'English Pale Mild Ale', 'English Extra Special / Strong Bitter (ESB)', 'English Porter', 'American Imperial IPA', 'English India Pale Ale (IPA)', 'English Brown Ale', 'American Strong Ale', 'American Wild Ale', 'Scottish Gruit / Ancient Herbed Ale', 'Belgian Saison', 'Leipzig Gose', 'Berliner Weisse', 'Belgian Witbier', 'English Old Ale', 'Herb and Spice Beer', 'Belgian Dubbel', 'English Sweet / Milk Stout', 'Belgian Strong Dark Ale', 'American Imperial Red Ale', 'Scottish Ale', 'German Pilsner', 'American Pale Wheat Ale', 'Belgian Strong Pale Ale', 'Irish Red Ale', 'American Cream Ale', 'German Kölsch', 'German Märzen / Oktoberfest', 'German Altbier', 'American Barleywine', 'Belgian IPA', 'Belgian Dark Ale', 'Pumpkin Beer', 'German Maibock', 'Belgian Pale Ale', 'Belgian Fruit Lambic', 'European Dark Lager', 'Low Alcohol Beer', 'German Helles', 'Baltic Porter', 'Scotch Ale / Wee Heavy', 'English Oatmeal Stout', 'Smoke Beer', 'English Bitter', 'Irish Dry Stout', 'Smoke Porter', 'Winter Warmer', 'Bohemian Pilsener', 'Chile Beer', 'German Dunkelweizen', 'California Common / Steam Beer', 'English Dark Mild Ale', 'American Dark Wheat Ale', 'American Imperial Porter', 'German Doppelbock', 'Belgian Quadrupel (Quad)', 'Vienna Lager', 'German Schwarzbier', 'British Barleywine', 'American Imperial Pilsner', 'French Bière de Garde', 'Belgian Tripel', 'English Stout', 'Munich Dunkel Lager', 'Flanders Oud Bruin', 'Belgian Lambic', 'German Roggenbier', 'German Rauchbier', 'American Amber / Red Lager', 'Belgian Blonde Ale', 'Flanders Red Ale', 'English Strong Ale', 'American Brett', 'German Kellerbier / Zwickelbier', 'Belgian Gueuze', 'European Export / Dortmunder', 'American Malt Liquor', 'American Wheatwine Ale', 'German Kristalweizen', 'Braggot', 'Robust Porter', 'Finnish Sahti']\n",
      "CR: ['German Hefeweizen', 'American IPA', 'American Imperial IPA', 'American Amber / Red Ale', 'American Blonde Ale', 'American Brown Ale', 'American Pale Ale (APA)', 'English Stout', 'American Imperial Pilsner', 'English India Pale Ale (IPA)', 'Fruit and Field Beer', 'English Strong Ale', 'German Pilsner', 'German Bock', 'German Märzen / Oktoberfest', 'English Pale Ale', 'German Dunkelweizen', 'Bohemian Pilsener', 'Foreign / Export Stout', 'Irish Red Ale', 'German Helles', 'English Extra Special / Strong Bitter (ESB)', 'English Porter', 'Irish Dry Stout', 'Russian Imperial Stout', 'Low Alcohol Beer', 'English Sweet / Milk Stout', 'American Pale Wheat Ale', 'American Porter', 'Belgian Saison', 'Leipzig Gose', 'Belgian Pale Ale', 'American Wild Ale', 'American Stout', 'Belgian Strong Pale Ale', 'French Bière de Garde', 'Belgian Witbier', 'Flanders Oud Bruin', 'American Lager', 'American Barleywine', 'Herb and Spice Beer', 'American Imperial Porter', 'American Black Ale', 'American Brett', 'Pumpkin Beer', 'Berliner Weisse', 'Scotch Ale / Wee Heavy', 'Belgian Quadrupel (Quad)', 'American Imperial Stout', 'Belgian Blonde Ale', 'Belgian IPA', 'English Bitter', 'English Brown Ale', 'Belgian Strong Dark Ale', 'Smoke Beer', 'American Light Lager', 'American Adjunct Lager', 'Munich Dunkel Lager', 'Belgian Dark Ale', 'German Kölsch', 'New England IPA', 'Winter Warmer', 'German Maibock', 'American Imperial Red Ale', 'Smoke Porter', 'Rye Beer', 'British Barleywine', 'California Common / Steam Beer', 'Scottish Ale', 'American Strong Ale', 'English Oatmeal Stout', 'German Altbier', 'German Weizenbock', 'Chile Beer', 'Belgian Tripel', 'German Schwarzbier', 'English Old Ale', 'Belgian Dubbel', 'American Cream Ale', 'European Pale Lager', 'Belgian Fruit Lambic', 'European Dark Lager', 'Baltic Porter', 'English Dark Mild Ale', 'American Dark Wheat Ale', 'German Doppelbock', 'Vienna Lager', 'Belgian Lambic', 'German Roggenbier', 'German Rauchbier', 'American Amber / Red Lager', 'Flanders Red Ale', 'English Pale Mild Ale', 'German Kellerbier / Zwickelbier', 'Belgian Gueuze', 'European Export / Dortmunder', 'American Malt Liquor', 'American Wheatwine Ale', 'German Kristalweizen', 'Braggot', 'Robust Porter', 'Finnish Sahti']\n",
      "SG: ['English Brown Ale', 'English India Pale Ale (IPA)', 'German Pilsner', 'Foreign / Export Stout', 'English Pale Ale', 'American Dark Wheat Ale', 'American Pale Wheat Ale', 'Irish Red Ale', 'American Strong Ale', 'American Lager', 'American Malt Liquor', 'Belgian Witbier', 'European Pale Lager', 'American Adjunct Lager', 'American Light Lager', 'European Strong Lager', 'American Amber / Red Ale', 'American IPA', 'English Bitter', 'American Brown Ale', 'American Blonde Ale', 'Belgian Saison', 'Fruit and Field Beer', 'Vienna Lager', 'Herb and Spice Beer', 'Bohemian Pilsener', 'American Pale Ale (APA)', 'Munich Dunkel Lager', 'German Helles', 'German Hefeweizen', 'German Märzen / Oktoberfest', 'Irish Dry Stout', 'German Kölsch', 'English Porter', 'German Bock', 'Scottish Ale', 'Belgian Strong Pale Ale', 'German Dunkelweizen', 'German Altbier', 'California Common / Steam Beer', 'American Imperial IPA', 'English Oatmeal Stout', 'American Porter', 'Belgian Dubbel', 'Belgian IPA', 'American Black Ale', 'Belgian Pale Ale', 'English Old Ale', 'English Sweet / Milk Stout', 'Belgian Strong Dark Ale', 'American Imperial Stout', 'American Imperial Red Ale', 'American Stout', 'Russian Imperial Stout', 'American Cream Ale', 'American Barleywine', 'Belgian Dark Ale', 'Pumpkin Beer', 'German Maibock', 'Belgian Fruit Lambic', 'European Dark Lager', 'Low Alcohol Beer', 'Baltic Porter', 'English Extra Special / Strong Bitter (ESB)', 'Scotch Ale / Wee Heavy', 'American Wild Ale', 'Smoke Beer', 'Leipzig Gose', 'German Weizenbock', 'Rye Beer', 'Smoke Porter', 'Winter Warmer', 'Berliner Weisse', 'Chile Beer', 'English Dark Mild Ale', 'American Imperial Porter', 'German Doppelbock', 'Belgian Quadrupel (Quad)', 'German Schwarzbier', 'British Barleywine', 'American Imperial Pilsner', 'French Bière de Garde', 'Belgian Tripel', 'English Stout', 'Flanders Oud Bruin', 'Belgian Lambic', 'German Roggenbier', 'German Rauchbier', 'American Amber / Red Lager', 'Belgian Blonde Ale', 'Flanders Red Ale', 'English Strong Ale', 'English Pale Mild Ale', 'American Brett', 'German Kellerbier / Zwickelbier', 'Belgian Gueuze', 'European Export / Dortmunder', 'American Wheatwine Ale', 'German Kristalweizen', 'Braggot', 'Robust Porter', 'Finnish Sahti']\n",
      "CU: ['American Blonde Ale', 'English Old Ale', 'American IPA', 'Herb and Spice Beer', 'Fruit and Field Beer', 'American Amber / Red Ale', 'American Imperial IPA', 'American Brown Ale', 'Belgian Dubbel', 'English Sweet / Milk Stout', 'Belgian Strong Dark Ale', 'American Imperial Stout', 'English Brown Ale', 'American Imperial Red Ale', 'American Porter', 'Scottish Ale', 'German Pilsner', 'American Stout', 'American Pale Ale (APA)', 'American Pale Wheat Ale', 'Russian Imperial Stout', 'German Bock', 'American Light Lager', 'Belgian Strong Pale Ale', 'Irish Red Ale', 'American Cream Ale', 'German Hefeweizen', 'German Kölsch', 'Belgian Witbier', 'German Märzen / Oktoberfest', 'German Altbier', 'American Barleywine', 'Belgian IPA', 'Belgian Saison', 'Belgian Dark Ale', 'Pumpkin Beer', 'German Maibock', 'European Pale Lager', 'Belgian Pale Ale', 'Belgian Fruit Lambic', 'European Dark Lager', 'Low Alcohol Beer', 'German Helles', 'Baltic Porter', 'American Lager', 'English Extra Special / Strong Bitter (ESB)', 'American Black Ale', 'English Pale Ale', 'Scotch Ale / Wee Heavy', 'American Wild Ale', 'Foreign / Export Stout', 'English Oatmeal Stout', 'Smoke Beer', 'Leipzig Gose', 'English Bitter', 'American Strong Ale', 'Irish Dry Stout', 'German Weizenbock', 'Rye Beer', 'Smoke Porter', 'Winter Warmer', 'Berliner Weisse', 'Bohemian Pilsener', 'Chile Beer', 'German Dunkelweizen', 'California Common / Steam Beer', 'English Dark Mild Ale', 'English Porter', 'American Dark Wheat Ale', 'American Imperial Porter', 'German Doppelbock', 'Belgian Quadrupel (Quad)', 'American Adjunct Lager', 'Vienna Lager', 'German Schwarzbier', 'British Barleywine', 'American Imperial Pilsner', 'English India Pale Ale (IPA)', 'French Bière de Garde', 'Belgian Tripel', 'English Stout', 'Munich Dunkel Lager', 'Flanders Oud Bruin', 'Belgian Lambic', 'German Roggenbier', 'German Rauchbier', 'American Amber / Red Lager', 'Belgian Blonde Ale', 'Flanders Red Ale', 'English Strong Ale', 'English Pale Mild Ale', 'American Brett', 'German Kellerbier / Zwickelbier', 'Belgian Gueuze', 'European Export / Dortmunder', 'American Malt Liquor', 'American Wheatwine Ale', 'German Kristalweizen', 'Braggot', 'Robust Porter', 'Finnish Sahti']\n",
      "ET: ['American Blonde Ale', 'English Old Ale', 'American IPA', 'Herb and Spice Beer', 'Fruit and Field Beer', 'American Amber / Red Ale', 'American Imperial IPA', 'American Brown Ale', 'Belgian Dubbel', 'English Sweet / Milk Stout', 'Belgian Strong Dark Ale', 'American Imperial Stout', 'English Brown Ale', 'American Imperial Red Ale', 'American Porter', 'Scottish Ale', 'German Pilsner', 'American Stout', 'American Pale Ale (APA)', 'American Pale Wheat Ale', 'Russian Imperial Stout', 'German Bock', 'American Light Lager', 'Belgian Strong Pale Ale', 'Irish Red Ale', 'American Cream Ale', 'German Hefeweizen', 'German Kölsch', 'Belgian Witbier', 'German Märzen / Oktoberfest', 'German Altbier', 'American Barleywine', 'Belgian IPA', 'Belgian Saison', 'Belgian Dark Ale', 'Pumpkin Beer', 'German Maibock', 'European Pale Lager', 'Belgian Pale Ale', 'Belgian Fruit Lambic', 'European Dark Lager', 'Low Alcohol Beer', 'German Helles', 'Baltic Porter', 'American Lager', 'English Extra Special / Strong Bitter (ESB)', 'American Black Ale', 'English Pale Ale', 'Scotch Ale / Wee Heavy', 'American Wild Ale', 'Foreign / Export Stout', 'English Oatmeal Stout', 'Smoke Beer', 'Leipzig Gose', 'English Bitter', 'American Strong Ale', 'Irish Dry Stout', 'German Weizenbock', 'Rye Beer', 'Smoke Porter', 'Winter Warmer', 'Berliner Weisse', 'Bohemian Pilsener', 'Chile Beer', 'German Dunkelweizen', 'California Common / Steam Beer', 'English Dark Mild Ale', 'English Porter', 'American Dark Wheat Ale', 'American Imperial Porter', 'German Doppelbock', 'Belgian Quadrupel (Quad)', 'American Adjunct Lager', 'Vienna Lager', 'German Schwarzbier', 'British Barleywine', 'American Imperial Pilsner', 'English India Pale Ale (IPA)', 'French Bière de Garde', 'Belgian Tripel', 'English Stout', 'Munich Dunkel Lager', 'Flanders Oud Bruin', 'Belgian Lambic', 'German Roggenbier', 'German Rauchbier', 'American Amber / Red Lager', 'Belgian Blonde Ale', 'Flanders Red Ale', 'English Strong Ale', 'English Pale Mild Ale', 'American Brett', 'German Kellerbier / Zwickelbier', 'Belgian Gueuze', 'European Export / Dortmunder', 'American Malt Liquor', 'American Wheatwine Ale', 'German Kristalweizen', 'Braggot', 'Robust Porter', 'Finnish Sahti']\n",
      "SE: ['European Dark Lager', 'English Extra Special / Strong Bitter (ESB)', 'Bohemian Pilsener', 'American Pale Wheat Ale', 'American Lager', 'English Brown Ale', 'European Export / Dortmunder', 'American IPA', 'American Brown Ale', 'English Stout', 'New England IPA', 'European Pale Lager', 'American Pale Ale (APA)', 'German Schwarzbier', 'American Imperial IPA', 'American Amber / Red Ale', 'American Imperial Pilsner', 'American Black Ale', 'English Bitter', 'German Pilsner', 'English India Pale Ale (IPA)', 'English Pale Ale', 'German Märzen / Oktoberfest', 'Belgian Saison', 'German Maibock', 'Vienna Lager', 'German Doppelbock', 'English Porter', 'American Light Lager', 'American Imperial Stout', 'American Blonde Ale', 'Belgian Tripel', 'Belgian Strong Pale Ale', 'French Bière de Garde', 'Belgian Witbier', 'American Porter', 'Winter Warmer', 'Russian Imperial Stout', 'Belgian IPA', 'Scotch Ale / Wee Heavy', 'European Strong Lager', 'German Hefeweizen', 'German Bock', 'German Altbier', 'California Common / Steam Beer', 'English Dark Mild Ale', 'English Strong Ale', 'Baltic Porter', 'Fruit and Field Beer', 'Munich Dunkel Lager', 'German Helles', 'Belgian Blonde Ale', 'Smoke Beer', 'Scottish Ale', 'Herb and Spice Beer', 'English Old Ale', 'Irish Dry Stout', 'Low Alcohol Beer', 'German Kellerbier / Zwickelbier', 'Belgian Dark Ale', 'Belgian Pale Ale', 'American Strong Ale', 'Belgian Dubbel', 'Belgian Strong Dark Ale', 'Berliner Weisse', 'Belgian Fruit Lambic', 'Finnish Sahti', 'British Barleywine', 'Leipzig Gose', 'American Barleywine', 'Rye Beer', 'American Stout', 'American Wild Ale', 'German Weizenbock', 'Belgian Quadrupel (Quad)', 'English Oatmeal Stout', 'American Amber / Red Lager', 'Irish Red Ale', 'English Sweet / Milk Stout', 'German Kölsch', 'Braggot', 'German Rauchbier', 'Foreign / Export Stout', 'English Pale Mild Ale', 'German Eisbock', 'Chile Beer', 'Belgian Lambic', 'American Imperial Porter', 'Flanders Oud Bruin', 'Flanders Red Ale', 'American Brett', 'American Adjunct Lager', 'American Cream Ale', 'American Wheatwine Ale', 'American Imperial Red Ale', 'Scottish Gruit / Ancient Herbed Ale', 'German Dunkelweizen', 'American Dark Wheat Ale', 'German Kristalweizen', 'Smoke Porter', 'Bière de Champagne / Bière Brut']\n",
      "GR: ['European Pale Lager', 'American Pale Ale (APA)', 'Bohemian Pilsener', 'American Imperial Pilsner', 'American Brown Ale', 'German Pilsner', 'German Kellerbier / Zwickelbier', 'German Hefeweizen', 'American Amber / Red Ale', 'Smoke Porter', 'Low Alcohol Beer', 'American Light Lager', 'English Bitter', 'American IPA', 'German Schwarzbier', 'Berliner Weisse', 'English Pale Ale', 'American Barleywine', 'American Imperial IPA', 'Belgian Witbier', 'American Imperial Stout', 'American Stout', 'Belgian Dark Ale', 'Scotch Ale / Wee Heavy', 'Fruit and Field Beer', 'American Lager', 'European Dark Lager', 'European Strong Lager', 'English Porter', 'American Porter', 'German Dunkelweizen', 'Munich Dunkel Lager', 'American Black Ale', 'Irish Red Ale', 'American Pale Wheat Ale', 'Belgian Pale Ale', 'Belgian Saison', 'Winter Warmer', 'Leipzig Gose', 'American Wild Ale', 'American Strong Ale', 'Russian Imperial Stout', 'American Blonde Ale', 'British Barleywine', 'Belgian IPA', 'Smoke Beer', 'Flanders Red Ale', 'Belgian Quadrupel (Quad)', 'Belgian Tripel', 'Irish Dry Stout', 'American Wheatwine Ale', 'American Malt Liquor', 'English Sweet / Milk Stout', 'Baltic Porter', 'Pumpkin Beer', 'English Oatmeal Stout', 'German Helles', 'Belgian Dubbel', 'Japanese Rice Lager', 'English Old Ale', 'New England IPA', 'American Imperial Porter', 'English Brown Ale', 'Belgian Strong Dark Ale', 'Scottish Ale', 'German Kölsch', 'Flanders Oud Bruin', 'Braggot', 'German Doppelbock', 'German Altbier', 'American Cream Ale', 'Rye Beer', 'Herb and Spice Beer', 'American Adjunct Lager', 'English Strong Ale', 'Foreign / Export Stout', 'California Common / Steam Beer', 'Belgian Fruit Lambic', 'German Maibock', 'French Bière de Garde', 'Finnish Sahti', 'Russian Kvass', 'Vienna Lager', 'German Rauchbier', 'English Extra Special / Strong Bitter (ESB)', 'German Bock', 'German Weizenbock', 'Belgian Strong Pale Ale', 'German Märzen / Oktoberfest', 'American Imperial Red Ale', 'English India Pale Ale (IPA)', 'Belgian Blonde Ale', 'English Dark Mild Ale', 'European Export / Dortmunder']\n",
      "JP: ['Belgian Witbier', 'German Hefeweizen', 'American Lager', 'Irish Red Ale', 'Munich Dunkel Lager', 'American IPA', 'German Maibock', 'German Pilsner', 'German Dunkelweizen', 'German Bock', 'German Kölsch', 'Winter Warmer', 'American Amber / Red Ale', 'Fruit and Field Beer', 'American Imperial IPA', 'Japanese Happoshu', 'Bohemian Pilsener', 'German Rauchbier', 'English India Pale Ale (IPA)', 'German Altbier', 'American Brown Ale', 'English Sweet / Milk Stout', 'English Brown Ale', 'English Oatmeal Stout', 'English Pale Ale', 'American Pale Wheat Ale', 'Belgian Pale Ale', 'German Helles', 'English Bitter', 'American Imperial Stout', 'American Pale Ale (APA)', 'European Pale Lager', 'British Barleywine', 'Japanese Rice Lager', 'English Stout', 'German Schwarzbier', 'German Weizenbock', 'German Märzen / Oktoberfest', 'German Doppelbock', 'Irish Dry Stout', 'Pumpkin Beer', 'California Common / Steam Beer', 'American Barleywine', 'American Blonde Ale', 'Belgian Saison', 'Herb and Spice Beer', 'Low Alcohol Beer', 'American Amber / Red Lager', 'American Adjunct Lager', 'European Export / Dortmunder', 'American Stout', 'English Extra Special / Strong Bitter (ESB)', 'American Porter', 'European Strong Lager', 'Vienna Lager', 'American Light Lager', 'Scotch Ale / Wee Heavy', 'European Dark Lager', 'American Strong Ale', 'Baltic Porter', 'Russian Imperial Stout', 'Belgian Tripel', 'Belgian Strong Dark Ale', 'Belgian Strong Pale Ale', 'German Kristalweizen', 'American Imperial Pilsner', 'American Malt Liquor', 'Foreign / Export Stout', 'American Wheatwine Ale', 'English Pale Mild Ale', 'English Porter', 'English Dark Mild Ale', 'German Roggenbier', 'Belgian Lambic', 'Smoke Beer', 'American Black Ale', 'English Old Ale', 'Belgian Fruit Lambic', 'American Wild Ale', 'Belgian IPA', 'Rye Beer', 'Belgian Dubbel', 'American Dark Wheat Ale', 'Scottish Ale', 'American Imperial Red Ale', 'Berliner Weisse', 'Leipzig Gose', 'German Eisbock', 'American Cream Ale', 'American Imperial Porter', 'Belgian Dark Ale', 'Smoke Porter', 'Belgian Blonde Ale', 'New England IPA']\n",
      "PL: ['European Pale Lager', 'European Strong Lager', 'Foreign / Export Stout', 'American Stout', 'American Pale Wheat Ale', 'German Pilsner', 'American Light Lager', 'German Doppelbock', 'Fruit and Field Beer', 'American IPA', 'American Imperial IPA', 'Belgian Saison', 'English Sweet / Milk Stout', 'American Blonde Ale', 'American Pale Ale (APA)', 'American Brown Ale', 'English Pale Mild Ale', 'Belgian IPA', 'American Amber / Red Ale', 'Smoke Beer', 'English Stout', 'Belgian Witbier', 'American Black Ale', 'Flanders Red Ale', 'American Barleywine', 'Bohemian Pilsener', 'German Schwarzbier', 'German Dunkelweizen', 'Belgian Pale Ale', 'German Kellerbier / Zwickelbier', 'German Hefeweizen', 'European Dark Lager', 'Baltic Porter', 'Russian Kvass', 'Herb and Spice Beer', 'Munich Dunkel Lager', 'German Bock', 'Belgian Blonde Ale', 'California Common / Steam Beer', 'American Imperial Stout', 'English Old Ale', 'Robust Porter', 'Russian Imperial Stout', 'American Wild Ale', 'English Bitter', 'New England IPA', 'German Rauchbier', 'English Oatmeal Stout', 'English Pale Ale', 'American Brett', 'Low Alcohol Beer', 'Winter Warmer', 'English India Pale Ale (IPA)', 'English Brown Ale', 'Irish Dry Stout', 'Vienna Lager', 'Belgian Tripel', 'Leipzig Gose', 'English Extra Special / Strong Bitter (ESB)', 'American Lager', 'English Porter', 'British Barleywine', 'Belgian Strong Pale Ale', 'American Strong Ale', 'American Cream Ale', 'German Märzen / Oktoberfest', 'Irish Red Ale', 'German Kristalweizen', 'Belgian Dubbel', 'Belgian Strong Dark Ale', 'German Weizenbock', 'Scotch Ale / Wee Heavy', 'American Porter', 'Belgian Fruit Lambic', 'Pumpkin Beer', 'Berliner Weisse', 'Rye Beer', 'Belgian Quadrupel (Quad)', 'German Roggenbier', 'Belgian Dark Ale', 'Braggot', 'English Dark Mild Ale', 'American Wheatwine Ale', 'German Altbier', 'European Export / Dortmunder', 'French Bière de Garde', 'German Helles', 'German Maibock', 'American Adjunct Lager', 'American Imperial Pilsner', 'American Malt Liquor', 'Finnish Sahti', 'Scottish Ale', 'German Eisbock']\n",
      "CH: ['German Kellerbier / Zwickelbier', 'European Pale Lager', 'European Dark Lager', 'German Pilsner', 'Herb and Spice Beer', 'Vienna Lager', 'German Schwarzbier', 'American Pale Ale (APA)', 'American Imperial Stout', 'Belgian Witbier', 'American Pale Wheat Ale', 'American Imperial IPA', 'Belgian Tripel', 'German Dunkelweizen', 'American Wheatwine Ale', 'English Sweet / Milk Stout', 'American IPA', 'Belgian Saison', 'Munich Dunkel Lager', 'Japanese Rice Lager', 'American Wild Ale', 'Fruit and Field Beer', 'Belgian Dubbel', 'English Stout', 'American Amber / Red Ale', 'German Kölsch', 'English Extra Special / Strong Bitter (ESB)', 'Flanders Red Ale', 'American Black Ale', 'Irish Red Ale', 'American Brett', 'Flanders Oud Bruin', 'American Brown Ale', 'Leipzig Gose', 'Irish Dry Stout', 'Belgian Fruit Lambic', 'German Altbier', 'German Helles', 'German Märzen / Oktoberfest', 'German Hefeweizen', 'English Pale Ale', 'Belgian Pale Ale', 'European Export / Dortmunder', 'American Porter', 'English Bitter', 'Winter Warmer', 'German Kristalweizen', 'American Blonde Ale', 'American Cream Ale', 'Belgian Dark Ale', 'Belgian Strong Pale Ale', 'Belgian Quadrupel (Quad)', 'American Barleywine', 'American Stout', 'Russian Imperial Stout', 'Scotch Ale / Wee Heavy', 'French Bière de Garde', 'Berliner Weisse', 'English India Pale Ale (IPA)', 'Belgian IPA', 'English Old Ale', 'German Maibock', 'German Bock', 'European Strong Lager', 'Bohemian Pilsener', 'German Weizenbock', 'British Barleywine', 'English Brown Ale', 'Rye Beer', 'Baltic Porter', 'Belgian Strong Dark Ale', 'American Strong Ale', 'English Dark Mild Ale', 'New England IPA', 'English Oatmeal Stout', 'German Doppelbock', 'American Amber / Red Lager', 'Scottish Ale', 'Pumpkin Beer', 'American Light Lager', 'American Lager', 'Belgian Blonde Ale', 'English Porter', 'Chile Beer', 'Smoke Beer', 'American Imperial Pilsner', 'California Common / Steam Beer', 'German Rauchbier', 'German Eisbock', 'Bière de Champagne / Bière Brut', 'Scottish Gruit / Ancient Herbed Ale']\n",
      "NO: ['German Pilsner', 'Vienna Lager', 'English Old Ale', 'English Porter', 'American IPA', 'Fruit and Field Beer', 'German Bock', 'German Maibock', 'German Doppelbock', 'American Pale Ale (APA)', 'English Stout', 'American Blonde Ale', 'American Amber / Red Ale', 'German Hefeweizen', 'American Pale Wheat Ale', 'Winter Warmer', 'American Imperial Stout', 'English Sweet / Milk Stout', 'American Imperial IPA', 'German Helles', 'Munich Dunkel Lager', 'Belgian Tripel', 'Smoke Beer', 'American Stout', 'American Brown Ale', 'English Strong Ale', 'Berliner Weisse', 'Belgian Saison', 'American Strong Ale', 'Belgian Witbier', 'American Black Ale', 'English Brown Ale', 'Belgian Pale Ale', 'American Amber / Red Lager', 'English India Pale Ale (IPA)', 'German Märzen / Oktoberfest', 'Leipzig Gose', 'European Export / Dortmunder', 'British Barleywine', 'Belgian Quadrupel (Quad)', 'Belgian Fruit Lambic', 'Herb and Spice Beer', 'Belgian Dubbel', 'Baltic Porter', 'American Porter', 'Scotch Ale / Wee Heavy', 'Irish Dry Stout', 'American Wild Ale', 'English Pale Ale', 'Scottish Ale', 'Belgian Blonde Ale', 'American Lager', 'European Pale Lager', 'American Adjunct Lager', 'European Strong Lager', 'Belgian IPA', 'Belgian Strong Pale Ale', 'English Oatmeal Stout', 'German Rauchbier', 'Russian Imperial Stout', 'California Common / Steam Beer', 'English Dark Mild Ale', 'Belgian Strong Dark Ale', 'French Bière de Garde', 'English Extra Special / Strong Bitter (ESB)', 'American Barleywine', 'German Dunkelweizen', 'Rye Beer', 'New England IPA', 'European Dark Lager', 'Flanders Red Ale', 'German Kristalweizen', 'English Bitter', 'Bohemian Pilsener', 'Scottish Gruit / Ancient Herbed Ale', 'Finnish Sahti', 'German Weizenbock', 'Belgian Dark Ale', 'Flanders Oud Bruin', 'Belgian Lambic', 'German Schwarzbier', 'Low Alcohol Beer', 'American Light Lager', 'Irish Red Ale', 'American Imperial Pilsner', 'Pumpkin Beer', 'American Imperial Porter', 'German Kölsch', 'German Altbier', 'American Cream Ale']\n",
      "PH: ['American Pale Ale (APA)', 'American IPA', 'German Hefeweizen', 'German Kölsch', 'American Wild Ale', 'Belgian Saison', 'Leipzig Gose', 'American Blonde Ale', 'American Imperial Stout', 'Belgian Dubbel', 'Belgian Strong Pale Ale', 'American Imperial IPA', 'French Bière de Garde', 'American Pale Wheat Ale', 'German Pilsner', 'Berliner Weisse', 'English Stout', 'Belgian Strong Dark Ale', 'German Schwarzbier', 'American Porter', 'California Common / Steam Beer', 'Japanese Happoshu', 'American Strong Ale', 'Belgian Pale Ale', 'Vienna Lager', 'American Amber / Red Ale', 'Belgian Tripel', 'German Weizenbock', 'American Brown Ale', 'Belgian Quadrupel (Quad)', 'Belgian Lambic', 'Bohemian Pilsener', 'English Bitter', 'American Barleywine', 'Belgian Dark Ale', 'English Pale Ale', 'Belgian Witbier', 'Irish Dry Stout', 'English Extra Special / Strong Bitter (ESB)', 'American Dark Wheat Ale', 'American Adjunct Lager', 'New England IPA', 'Scottish Gruit / Ancient Herbed Ale', 'English India Pale Ale (IPA)', 'European Dark Lager', 'European Export / Dortmunder', 'American Lager', 'American Amber / Red Lager', 'American Black Ale', 'Herb and Spice Beer', 'Fruit and Field Beer', 'Winter Warmer', 'German Rauchbier', 'Munich Dunkel Lager', 'American Cream Ale', 'German Märzen / Oktoberfest', 'Scotch Ale / Wee Heavy', 'Baltic Porter', 'English Oatmeal Stout', 'American Stout', 'Chile Beer', 'German Altbier', 'German Dunkelweizen', 'Irish Red Ale', 'English Brown Ale', 'British Barleywine', 'Rye Beer', 'English Dark Mild Ale', 'English Sweet / Milk Stout', 'Pumpkin Beer', 'German Bock', 'European Strong Lager', 'American Light Lager', 'American Malt Liquor', 'Belgian IPA', 'American Imperial Pilsner', 'Belgian Blonde Ale', 'Scottish Ale', 'Smoke Beer', 'Russian Imperial Stout', 'English Old Ale', 'English Porter', 'German Helles', 'American Brett', 'Belgian Fruit Lambic', 'German Maibock', 'German Doppelbock', 'English Strong Ale', 'American Imperial Red Ale', 'American Imperial Porter']\n",
      "CL: ['American Barleywine', 'European Pale Lager', 'European Strong Lager', 'Low Alcohol Beer', 'Belgian Pale Ale', 'Fruit and Field Beer', 'American Stout', 'American Imperial IPA', 'American Blonde Ale', 'Pumpkin Beer', 'American Imperial Stout', 'American Pale Wheat Ale', 'American Amber / Red Ale', 'American Pale Ale (APA)', 'American IPA', 'Irish Dry Stout', 'German Doppelbock', 'Irish Red Ale', 'Scottish Ale', 'American Brown Ale', 'American Porter', 'Belgian Strong Dark Ale', 'German Schwarzbier', 'American Adjunct Lager', 'American Light Lager', 'Russian Imperial Stout', 'Belgian Saison', 'German Pilsner', 'German Altbier', 'German Bock', 'English Pale Ale', 'English India Pale Ale (IPA)', 'English Stout', 'American Strong Ale', 'Bohemian Pilsener', 'Chile Beer', 'American Black Ale', 'Herb and Spice Beer', 'European Export / Dortmunder', 'German Hefeweizen', 'Foreign / Export Stout', 'English Oatmeal Stout', 'Scotch Ale / Wee Heavy', 'Belgian Dark Ale', 'English Porter', 'English Strong Ale', 'German Dunkelweizen', 'English Sweet / Milk Stout', 'American Lager', 'American Amber / Red Lager', 'German Maibock', 'English Extra Special / Strong Bitter (ESB)', 'Belgian Tripel', 'Belgian Dubbel', 'English Brown Ale', 'American Imperial Pilsner', 'Belgian Quadrupel (Quad)', 'American Imperial Red Ale', 'German Märzen / Oktoberfest', 'Belgian Blonde Ale', 'Baltic Porter', 'Rye Beer', 'American Cream Ale', 'Braggot', 'Leipzig Gose', 'American Wild Ale', 'German Weizenbock', 'American Brett', 'German Kölsch', 'English Dark Mild Ale', 'Belgian IPA', 'Flanders Red Ale', 'Smoke Beer', 'American Imperial Porter', 'American Dark Wheat Ale', 'English Old Ale', 'British Barleywine', 'German Roggenbier', 'Winter Warmer', 'English Bitter', 'Smoke Porter', 'Belgian Witbier', 'California Common / Steam Beer', 'Scottish Gruit / Ancient Herbed Ale', 'Berliner Weisse', 'Vienna Lager', 'American Wheatwine Ale', 'Japanese Rice Lager', 'European Dark Lager']\n",
      "AR: ['American IPA', 'American Amber / Red Ale', 'American Imperial Stout', 'American Blonde Ale', 'American Imperial IPA', 'English Stout', 'English Porter', 'Pumpkin Beer', 'American Pale Ale (APA)', 'German Hefeweizen', 'American Brown Ale', 'Belgian Strong Dark Ale', 'English Old Ale', 'Belgian Tripel', 'Fruit and Field Beer', 'Belgian Strong Pale Ale', 'Flanders Red Ale', 'Belgian Witbier', 'American Porter', 'American Stout', 'American Wild Ale', 'Belgian Saison', 'Belgian Dubbel', 'American Pale Wheat Ale', 'Belgian Quadrupel (Quad)', 'Belgian Pale Ale', 'Belgian Dark Ale', 'Scotch Ale / Wee Heavy', 'Bière de Champagne / Bière Brut', 'Belgian Fruit Lambic', 'German Kölsch', 'American Black Ale', 'American Lager', 'Belgian IPA', 'American Barleywine', 'American Cream Ale', 'Irish Red Ale', 'Chile Beer', 'British Barleywine', 'American Imperial Porter', 'Low Alcohol Beer', 'English Sweet / Milk Stout', 'Bohemian Pilsener', 'German Bock', 'Irish Dry Stout', 'English India Pale Ale (IPA)', 'Scottish Ale', 'Vienna Lager', 'German Doppelbock', 'German Helles', 'German Rauchbier', 'German Pilsner', 'Herb and Spice Beer', 'German Märzen / Oktoberfest', 'Smoke Beer', 'German Weizenbock', 'American Adjunct Lager', 'American Amber / Red Lager', 'Berliner Weisse', 'English Extra Special / Strong Bitter (ESB)', 'English Oatmeal Stout', 'Russian Imperial Stout', 'German Altbier', 'English Bitter', 'American Light Lager', 'English Pale Ale', 'English Strong Ale', 'German Kristalweizen', 'European Pale Lager', 'Foreign / Export Stout', 'American Malt Liquor', 'European Dark Lager', 'Belgian Blonde Ale', 'Baltic Porter', 'German Dunkelweizen', 'American Strong Ale', 'American Dark Wheat Ale', 'German Schwarzbier', 'English Brown Ale', 'Winter Warmer', 'Rye Beer', 'Flanders Oud Bruin', 'California Common / Steam Beer', 'English Dark Mild Ale', 'German Maibock', 'American Imperial Pilsner', 'French Bière de Garde', 'Leipzig Gose']\n",
      "MX: ['American Brown Ale', 'German Hefeweizen', 'American Amber / Red Lager', 'American Pale Ale (APA)', 'English Oatmeal Stout', 'German Helles', 'Bohemian Pilsener', 'Munich Dunkel Lager', 'American Adjunct Lager', 'German Schwarzbier', 'German Kölsch', 'German Märzen / Oktoberfest', 'German Bock', 'American Amber / Red Ale', 'English Porter', 'American Imperial IPA', 'American Porter', 'American IPA', 'American Black Ale', 'Russian Imperial Stout', 'American Blonde Ale', 'Belgian Witbier', 'American Strong Ale', 'American Pale Wheat Ale', 'American Stout', 'Chile Beer', 'English Stout', 'Belgian Saison', 'Winter Warmer', 'German Altbier', 'American Lager', 'English India Pale Ale (IPA)', 'German Weizenbock', 'English Strong Ale', 'Irish Red Ale', 'English Brown Ale', 'European Export / Dortmunder', 'American Light Lager', 'Vienna Lager', 'Belgian Pale Ale', 'Japanese Rice Lager', 'Herb and Spice Beer', 'German Pilsner', 'Fruit and Field Beer', 'European Dark Lager', 'English Extra Special / Strong Bitter (ESB)', 'American Imperial Stout', 'American Barleywine', 'Berliner Weisse', 'English Pale Ale', 'English Sweet / Milk Stout', 'Pumpkin Beer', 'English Pale Mild Ale', 'German Maibock', 'California Common / Steam Beer', 'Belgian Quadrupel (Quad)', 'Belgian IPA', 'Robust Porter', 'American Cream Ale', 'Belgian Strong Pale Ale', 'Belgian Dubbel', 'Irish Dry Stout', 'Belgian Strong Dark Ale', 'Scottish Ale', 'American Imperial Red Ale', 'Braggot', 'Foreign / Export Stout', 'Scottish Gruit / Ancient Herbed Ale', 'English Bitter', 'French Bière de Garde', 'Leipzig Gose', 'American Wild Ale', 'Belgian Tripel', 'Smoke Beer', 'Low Alcohol Beer', 'Baltic Porter', 'German Rauchbier', 'Belgian Dark Ale', 'German Dunkelweizen', 'German Kristalweizen', 'British Barleywine', 'American Malt Liquor', 'Rye Beer', 'Belgian Blonde Ale', 'English Old Ale', 'Scotch Ale / Wee Heavy']\n",
      "AT: ['Chile Beer', 'German Maibock', 'German Pilsner', 'American Stout', 'German Hefeweizen', 'German Schwarzbier', 'German Märzen / Oktoberfest', 'German Kellerbier / Zwickelbier', 'German Doppelbock', 'German Helles', 'Herb and Spice Beer', 'Pumpkin Beer', 'Munich Dunkel Lager', 'German Bock', 'European Pale Lager', 'German Dunkelweizen', 'Fruit and Field Beer', 'Low Alcohol Beer', 'New England IPA', 'Vienna Lager', 'American IPA', 'English Porter', 'American Pale Ale (APA)', 'German Altbier', 'English Pale Ale', 'American Imperial Pilsner', 'English Strong Ale', 'Leipzig Gose', 'German Kölsch', 'American Imperial IPA', 'Rye Beer', 'European Export / Dortmunder', 'English Stout', 'Scottish Ale', 'British Barleywine', 'German Eisbock', 'European Strong Lager', 'Scotch Ale / Wee Heavy', 'Russian Imperial Stout', 'English Sweet / Milk Stout', 'English Oatmeal Stout', 'American Wild Ale', 'Berliner Weisse', 'Smoke Porter', 'Belgian Tripel', 'Belgian Saison', 'American Black Ale', 'American Porter', 'Smoke Beer', 'German Weizenbock', 'Baltic Porter', 'German Rauchbier', 'European Dark Lager', 'German Roggenbier', 'Belgian Witbier', 'German Kristalweizen', 'American Light Lager', 'Bohemian Pilsener', 'Belgian Strong Pale Ale', 'Belgian Strong Dark Ale', 'Bière de Champagne / Bière Brut', 'American Amber / Red Ale', 'Irish Dry Stout', 'American Brown Ale', 'American Blonde Ale', 'English India Pale Ale (IPA)', 'Winter Warmer', 'English Extra Special / Strong Bitter (ESB)', 'American Imperial Stout', 'Flanders Oud Bruin', 'American Brett', 'Irish Red Ale', 'Belgian Pale Ale', 'Belgian IPA', 'American Amber / Red Lager', 'French Bière de Garde', 'English Brown Ale', 'Flanders Red Ale', 'Belgian Blonde Ale', 'Foreign / Export Stout', 'English Bitter', 'American Barleywine', 'Belgian Dubbel']\n",
      "FI: ['American IPA', 'English Bitter', 'American Amber / Red Ale', 'American Pale Wheat Ale', 'Scottish Gruit / Ancient Herbed Ale', 'American Stout', 'American Pale Ale (APA)', 'American Imperial IPA', 'American Porter', 'German Pilsner', 'English India Pale Ale (IPA)', 'Vienna Lager', 'German Schwarzbier', 'American Lager', 'German Roggenbier', 'German Kristalweizen', 'Pumpkin Beer', 'Munich Dunkel Lager', 'German Märzen / Oktoberfest', 'European Pale Lager', 'German Bock', 'German Doppelbock', 'English Brown Ale', 'Belgian Saison', 'European Dark Lager', 'Herb and Spice Beer', 'Belgian Strong Pale Ale', 'Baltic Porter', 'European Export / Dortmunder', 'German Hefeweizen', 'Finnish Sahti', 'Fruit and Field Beer', 'English Extra Special / Strong Bitter (ESB)', 'Low Alcohol Beer', 'American Amber / Red Lager', 'European Strong Lager', 'American Adjunct Lager', 'American Blonde Ale', 'American Light Lager', 'Smoke Beer', 'Belgian Dark Ale', 'Belgian Witbier', 'Rye Beer', 'English Porter', 'English Strong Ale', 'Bohemian Pilsener', 'Berliner Weisse', 'German Dunkelweizen', 'American Barleywine', 'American Imperial Porter', 'Belgian Strong Dark Ale', 'American Brown Ale', 'Russian Imperial Stout', 'English Oatmeal Stout', 'English Sweet / Milk Stout', 'British Barleywine', 'Braggot', 'Belgian Pale Ale', 'German Maibock', 'German Rauchbier', 'Irish Dry Stout', 'English Pale Ale', 'Belgian Dubbel', 'Belgian Blonde Ale', 'American Imperial Stout', 'German Helles', 'California Common / Steam Beer', 'Winter Warmer', 'English Stout', 'Irish Red Ale', 'Belgian IPA', 'American Wild Ale', 'German Weizenbock', 'German Kölsch', 'German Kellerbier / Zwickelbier', 'Scotch Ale / Wee Heavy', 'Belgian Tripel', 'American Black Ale', 'Chile Beer', 'Scottish Ale', 'American Cream Ale']\n",
      "PT: ['Belgian Strong Pale Ale', 'German Hefeweizen', 'Herb and Spice Beer', 'European Dark Lager', 'Scotch Ale / Wee Heavy', 'American Cream Ale', 'Fruit and Field Beer', 'American Imperial Stout', 'Belgian Strong Dark Ale', 'Belgian Quadrupel (Quad)', 'Bohemian Pilsener', 'English Stout', 'Belgian Blonde Ale', 'American IPA', 'Belgian Tripel', 'English India Pale Ale (IPA)', 'Irish Red Ale', 'American Imperial Red Ale', 'Irish Dry Stout', 'Winter Warmer', 'British Barleywine', 'Belgian Dubbel', 'European Pale Lager', 'American Imperial IPA', 'Belgian Saison', 'Belgian Dark Ale', 'American Barleywine', 'Berliner Weisse', 'American Amber / Red Ale', 'English Extra Special / Strong Bitter (ESB)', 'American Wild Ale', 'Low Alcohol Beer', 'American Adjunct Lager', 'Bière de Champagne / Bière Brut', 'European Strong Lager', 'Russian Imperial Stout', 'Munich Dunkel Lager', 'American Amber / Red Lager', 'English Brown Ale', 'English Pale Ale', 'German Weizenbock', 'American Lager', 'Belgian Pale Ale', 'German Dunkelweizen', 'American Wheatwine Ale', 'English Porter', 'American Pale Ale (APA)', 'English Oatmeal Stout', 'Smoke Beer', 'American Stout', 'New England IPA', 'American Black Ale', 'Belgian Witbier', 'German Schwarzbier', 'German Kölsch', 'German Pilsner', 'German Bock', 'French Bière de Garde', 'German Helles', 'Baltic Porter', 'Flanders Red Ale', 'Pumpkin Beer', 'German Doppelbock', 'Leipzig Gose', 'American Brett', 'Vienna Lager', 'English Old Ale', 'Rye Beer', 'American Brown Ale', 'California Common / Steam Beer', 'Finnish Sahti', 'Scottish Ale', 'English Sweet / Milk Stout', 'American Pale Wheat Ale', 'Belgian Gueuze']\n",
      "HU: ['Herb and Spice Beer', 'German Dunkelweizen', 'American IPA', 'American Pale Ale (APA)', 'English Strong Ale', 'English Pale Ale', 'German Hefeweizen', 'English Porter', 'European Pale Lager', 'Fruit and Field Beer', 'Munich Dunkel Lager', 'Belgian Saison', 'English Stout', 'Belgian Dubbel', 'American Brown Ale', 'English India Pale Ale (IPA)', 'German Pilsner', 'Belgian Witbier', 'American Adjunct Lager', 'Vienna Lager', 'European Strong Lager', 'German Doppelbock', 'Irish Red Ale', 'California Common / Steam Beer', 'German Helles', 'German Bock', 'Belgian Fruit Lambic', 'American Imperial Pilsner', 'American Imperial IPA', 'European Dark Lager', 'Baltic Porter', 'American Pale Wheat Ale', 'American Lager', 'New England IPA', 'Belgian IPA', 'Bohemian Pilsener', 'Low Alcohol Beer', 'American Light Lager', 'German Altbier', 'American Imperial Stout', 'American Black Ale', 'American Blonde Ale', 'Russian Imperial Stout', 'American Stout', 'Winter Warmer', 'Braggot', 'English Bitter', 'American Wheatwine Ale', 'Belgian Tripel', 'British Barleywine', 'American Barleywine', 'German Kölsch', 'English Sweet / Milk Stout', 'American Amber / Red Ale', 'Belgian Pale Ale', 'American Imperial Porter', 'Smoke Beer', 'Scottish Ale', 'American Porter', 'American Wild Ale', 'American Brett', 'German Kellerbier / Zwickelbier', 'English Oatmeal Stout', 'Irish Dry Stout', 'German Weizenbock', 'American Strong Ale', 'Berliner Weisse', 'Leipzig Gose', 'Foreign / Export Stout', 'German Märzen / Oktoberfest', 'European Export / Dortmunder', 'German Kristalweizen']\n",
      "EE: ['Baltic Porter', 'Smoke Beer', 'American Porter', 'English Oatmeal Stout', 'Belgian Saison', 'American Brown Ale', 'English Porter', 'Rye Beer', 'Foreign / Export Stout', 'American IPA', 'American Stout', 'Russian Imperial Stout', 'American Imperial Stout', 'American Pale Ale (APA)', 'Bière de Champagne / Bière Brut', 'American Amber / Red Ale', 'American Imperial IPA', 'American Black Ale', 'European Pale Lager', 'European Dark Lager', 'American Barleywine', 'Chile Beer', 'Herb and Spice Beer', 'Fruit and Field Beer', 'German Kellerbier / Zwickelbier', 'American Pale Wheat Ale', 'German Dunkelweizen', 'German Pilsner', 'German Hefeweizen', 'German Helles', 'American Wild Ale', 'English Pale Ale', 'American Lager', 'Flanders Red Ale', 'American Strong Ale', 'Scotch Ale / Wee Heavy', 'Leipzig Gose', 'Scottish Gruit / Ancient Herbed Ale', 'Pumpkin Beer', 'British Barleywine', 'Berliner Weisse', 'Belgian Witbier', 'German Weizenbock', 'Irish Dry Stout', 'Finnish Sahti', 'Belgian IPA', 'New England IPA', 'Munich Dunkel Lager', 'German Märzen / Oktoberfest', 'European Export / Dortmunder', 'German Altbier', 'English Old Ale', 'Russian Kvass', 'American Blonde Ale', 'German Bock', 'European Strong Lager', 'American Adjunct Lager', 'Low Alcohol Beer', 'German Schwarzbier', 'Vienna Lager', 'German Doppelbock', 'Bohemian Pilsener', 'Braggot', 'American Light Lager', 'Belgian Strong Dark Ale', 'Belgian Strong Pale Ale', 'English Sweet / Milk Stout', 'English India Pale Ale (IPA)']\n",
      "CN: ['European Pale Lager', 'American Adjunct Lager', 'American Pale Wheat Ale', 'American Amber / Red Lager', 'American Stout', 'American IPA', 'Belgian Witbier', 'English Sweet / Milk Stout', 'American Pale Ale (APA)', 'English India Pale Ale (IPA)', 'American Lager', 'American Light Lager', 'English Stout', 'German Bock', 'Belgian Saison', 'German Doppelbock', 'German Schwarzbier', 'Fruit and Field Beer', 'American Porter', 'German Hefeweizen', 'English Brown Ale', 'Pumpkin Beer', 'English Oatmeal Stout', 'American Imperial IPA', 'Baltic Porter', 'English Extra Special / Strong Bitter (ESB)', 'Berliner Weisse', 'Belgian Dubbel', 'American Amber / Red Ale', 'California Common / Steam Beer', 'American Black Ale', 'Bohemian Pilsener', 'American Imperial Stout', 'German Märzen / Oktoberfest', 'Herb and Spice Beer', 'Smoke Porter', 'German Helles', 'American Brown Ale', 'Belgian Quadrupel (Quad)', 'American Blonde Ale', 'German Pilsner', 'German Altbier', 'Vienna Lager', 'Scottish Ale', 'European Dark Lager', 'Japanese Rice Lager', 'Low Alcohol Beer', 'European Export / Dortmunder', 'American Barleywine', 'English Pale Ale', 'American Wheatwine Ale', 'Scotch Ale / Wee Heavy', 'German Weizenbock', 'English Porter', 'German Kölsch', 'English Dark Mild Ale', 'Belgian Tripel', 'Belgian Blonde Ale', 'British Barleywine', 'Belgian IPA', 'American Imperial Red Ale', 'American Strong Ale', 'English Bitter', 'Belgian Dark Ale', 'Smoke Beer', 'Foreign / Export Stout']\n",
      "ZA: ['Irish Red Ale', 'Berliner Weisse', 'English Pale Mild Ale', 'English India Pale Ale (IPA)', 'English Porter', 'American Blonde Ale', 'European Pale Lager', 'American IPA', 'German Kristalweizen', 'American Imperial IPA', 'Bohemian Pilsener', 'Belgian Saison', 'Scottish Ale', 'British Barleywine', 'English Sweet / Milk Stout', 'English Bitter', 'American Pale Ale (APA)', 'English Oatmeal Stout', 'German Hefeweizen', 'American Pale Wheat Ale', 'American Porter', 'German Pilsner', 'English Stout', 'Belgian Witbier', 'Irish Dry Stout', 'European Dark Lager', 'American Amber / Red Ale', 'California Common / Steam Beer', 'English Extra Special / Strong Bitter (ESB)', 'English Strong Ale', 'American Adjunct Lager', 'Belgian Strong Pale Ale', 'Fruit and Field Beer', 'Belgian Tripel', 'German Schwarzbier', 'German Maibock', 'European Strong Lager', 'Belgian Dark Ale', 'English Brown Ale', 'German Weizenbock', 'English Pale Ale', 'American Wild Ale', 'Russian Imperial Stout', 'German Helles', 'American Black Ale', 'Belgian Dubbel', 'American Lager', 'American Strong Ale', 'Pumpkin Beer', 'American Stout', 'German Märzen / Oktoberfest', 'Munich Dunkel Lager', 'Herb and Spice Beer', 'German Altbier', 'Belgian Strong Dark Ale', 'American Barleywine', 'Bière de Champagne / Bière Brut', 'American Amber / Red Lager', 'Vienna Lager', 'Belgian Pale Ale', 'American Light Lager', 'Flanders Oud Bruin', 'German Kölsch', 'German Rauchbier', 'English Dark Mild Ale', 'American Cream Ale']\n",
      "JM: ['English Bitter', 'English India Pale Ale (IPA)', 'English Old Ale', 'American Cream Ale', 'English Pale Ale', 'English Extra Special / Strong Bitter (ESB)', 'Herb and Spice Beer', 'Munich Dunkel Lager', 'Fruit and Field Beer', 'European Pale Lager', 'American Light Lager', 'English Porter', 'English Sweet / Milk Stout', 'American Lager', 'Irish Red Ale', 'American IPA', 'German Dunkelweizen', 'American Imperial IPA', 'American Pale Ale (APA)', 'Belgian Saison', 'American Pale Wheat Ale', 'American Brown Ale', 'Belgian Witbier', 'American Wild Ale', 'Belgian Tripel', 'European Strong Lager', 'German Hefeweizen', 'Leipzig Gose', 'English Pale Mild Ale', 'German Rauchbier', 'American Blonde Ale', 'English Oatmeal Stout', 'American Stout', 'Berliner Weisse', 'California Common / Steam Beer', 'Russian Imperial Stout', 'American Porter', 'Belgian Strong Dark Ale', 'Flanders Red Ale', 'Belgian Pale Ale', 'Bohemian Pilsener', 'German Helles', 'American Imperial Stout', 'American Brett', 'American Amber / Red Ale', 'Rye Beer', 'American Black Ale', 'Belgian IPA', 'Foreign / Export Stout', 'English Stout', 'Smoke Beer', 'German Doppelbock', 'American Barleywine', 'American Adjunct Lager', 'American Amber / Red Lager', 'English Brown Ale', 'Scotch Ale / Wee Heavy', 'German Schwarzbier', 'German Altbier', 'Irish Dry Stout', 'American Strong Ale', 'German Märzen / Oktoberfest', 'Belgian Dubbel', 'Belgian Dark Ale']\n",
      "KR: ['American Lager', 'Winter Warmer', 'American Blonde Ale', 'German Hefeweizen', 'Belgian Saison', 'Baltic Porter', 'English Brown Ale', 'American Amber / Red Ale', 'American IPA', 'American Pale Wheat Ale', 'Belgian Dark Ale', 'American Imperial Pilsner', 'English Stout', 'Leipzig Gose', 'Rye Beer', 'American Pale Ale (APA)', 'Pumpkin Beer', 'Belgian Blonde Ale', 'Scottish Ale', 'American Porter', 'American Wild Ale', 'Belgian IPA', 'Berliner Weisse', 'English Extra Special / Strong Bitter (ESB)', 'American Stout', 'Belgian Witbier', 'German Pilsner', 'European Pale Lager', 'German Dunkelweizen', 'Foreign / Export Stout', 'Fruit and Field Beer', 'American Black Ale', 'Belgian Strong Pale Ale', 'American Barleywine', 'Munich Dunkel Lager', 'American Adjunct Lager', 'American Malt Liquor', 'Low Alcohol Beer', 'English Dark Mild Ale', 'European Dark Lager', 'American Light Lager', 'Japanese Happoshu', 'German Maibock', 'English India Pale Ale (IPA)', 'Vienna Lager', 'American Imperial Stout', 'American Imperial IPA', 'German Weizenbock', 'American Brown Ale', 'New England IPA', 'Irish Red Ale', 'English Sweet / Milk Stout', 'English Pale Mild Ale', 'English Oatmeal Stout', 'Bohemian Pilsener', 'English Bitter', 'English Pale Ale', 'German Schwarzbier', 'American Amber / Red Lager', 'Japanese Rice Lager', 'Irish Dry Stout', 'German Bock']\n",
      "IM: ['English Bitter', 'American IPA', 'American Pale Ale (APA)', 'English Extra Special / Strong Bitter (ESB)', 'English Pale Ale', 'German Altbier', 'English Porter', 'English Dark Mild Ale', 'American Pale Wheat Ale', 'English India Pale Ale (IPA)', 'American Amber / Red Lager', 'American Lager', 'American Imperial IPA', 'Belgian Dubbel', 'Scotch Ale / Wee Heavy', 'American Stout', 'English Old Ale', 'American Wild Ale', 'American Porter', 'Belgian Saison', 'German Doppelbock', 'Foreign / Export Stout', 'Herb and Spice Beer', 'English Sweet / Milk Stout', 'Baltic Porter', 'Fruit and Field Beer', 'American Brown Ale', 'Chile Beer', 'German Dunkelweizen', 'English Oatmeal Stout', 'Scottish Gruit / Ancient Herbed Ale', 'French Bière de Garde', 'English Pale Mild Ale', 'Smoke Porter', 'German Rauchbier', 'American Imperial Stout', 'American Blonde Ale', 'Scottish Ale', 'Belgian Tripel', 'German Pilsner', 'American Cream Ale', 'Russian Imperial Stout', 'English Brown Ale', 'German Weizenbock', 'American Barleywine', 'American Wheatwine Ale', 'Pumpkin Beer', 'German Helles', 'Belgian Gueuze', 'American Black Ale', 'American Strong Ale', 'Irish Dry Stout', 'Smoke Beer', 'German Kölsch', 'American Amber / Red Ale', 'Rye Beer', 'Vienna Lager', 'Irish Red Ale', 'German Märzen / Oktoberfest', 'Winter Warmer', 'English Stout']\n",
      "IS: ['American Pale Wheat Ale', 'Belgian Saison', 'American Brown Ale', 'Winter Warmer', 'American Pale Ale (APA)', 'English Porter', 'Smoke Beer', 'Belgian Dubbel', 'American Imperial Stout', 'American IPA', 'Belgian Witbier', 'Fruit and Field Beer', 'American Barleywine', 'American Amber / Red Ale', 'Belgian Pale Ale', 'German Weizenbock', 'Herb and Spice Beer', 'Russian Imperial Stout', 'California Common / Steam Beer', 'Irish Red Ale', 'American Porter', 'German Doppelbock', 'Scotch Ale / Wee Heavy', 'English Stout', 'American Light Lager', 'English Pale Ale', 'American Adjunct Lager', 'Low Alcohol Beer', 'German Pilsner', 'American Stout', 'English Brown Ale', 'German Bock', 'European Strong Lager', 'English Extra Special / Strong Bitter (ESB)', 'Vienna Lager', 'European Pale Lager', 'American Imperial IPA', 'American Blonde Ale', 'Braggot', 'English Dark Mild Ale', 'Belgian Strong Pale Ale', 'Baltic Porter', 'Belgian IPA', 'German Hefeweizen', 'American Wild Ale', 'American Lager', 'Belgian Quadrupel (Quad)', 'American Wheatwine Ale', 'Belgian Strong Dark Ale', 'Bohemian Pilsener', 'New England IPA', 'English Bitter', 'European Dark Lager', 'Leipzig Gose', 'German Schwarzbier', 'German Märzen / Oktoberfest', 'Munich Dunkel Lager', 'German Altbier', 'English Sweet / Milk Stout', 'German Kölsch', 'German Helles']\n",
      "IL: ['Smoke Beer', 'English Porter', 'American IPA', 'American Imperial IPA', 'American Pale Ale (APA)', 'Belgian Dark Ale', 'Belgian Witbier', 'American Malt Liquor', 'German Kellerbier / Zwickelbier', 'American Porter', 'European Strong Lager', 'American Lager', 'European Pale Lager', 'Munich Dunkel Lager', 'Russian Kvass', 'Bohemian Pilsener', 'Winter Warmer', 'Belgian Pale Ale', 'English Pale Ale', 'Irish Dry Stout', 'German Hefeweizen', 'French Bière de Garde', 'Foreign / Export Stout', 'Belgian Blonde Ale', 'American Imperial Stout', 'Belgian Strong Pale Ale', 'American Amber / Red Ale', 'Fruit and Field Beer', 'English India Pale Ale (IPA)', 'American Pale Wheat Ale', 'American Blonde Ale', 'Belgian Strong Dark Ale', 'German Bock', 'German Rauchbier', 'Baltic Porter', 'English Old Ale', 'Scottish Ale', 'American Brown Ale', 'American Stout', 'American Wild Ale', 'Herb and Spice Beer', 'American Black Ale', 'English Pale Mild Ale', 'English Stout', 'Belgian Saison', 'Irish Red Ale', 'Belgian Tripel', 'German Dunkelweizen', 'American Amber / Red Lager', 'English Extra Special / Strong Bitter (ESB)', 'German Pilsner', 'German Doppelbock', 'English Oatmeal Stout', 'German Roggenbier', 'English Dark Mild Ale', 'English Strong Ale', 'German Maibock', 'American Adjunct Lager', 'European Dark Lager', 'Vienna Lager']\n",
      "BM: ['English India Pale Ale (IPA)', 'American Black Ale', 'English Bitter', 'Bohemian Pilsener', 'English Porter', 'German Hefeweizen', 'American Pale Ale (APA)', 'American Wild Ale', 'American IPA', 'American Stout', 'Leipzig Gose', 'New England IPA', 'American Brett', 'Belgian Saison', 'American Imperial IPA', 'English Pale Mild Ale', 'American Brown Ale', 'American Barleywine', 'Belgian Witbier', 'American Blonde Ale', 'Rye Beer', 'Pumpkin Beer', 'English Oatmeal Stout', 'Scotch Ale / Wee Heavy', 'Belgian IPA', 'Flanders Red Ale', 'American Porter', 'Irish Red Ale', 'Belgian Strong Dark Ale', 'American Imperial Stout', 'French Bière de Garde', 'German Pilsner', 'American Imperial Red Ale', 'German Bock', 'Fruit and Field Beer', 'German Märzen / Oktoberfest', 'English Sweet / Milk Stout', 'English Brown Ale', 'Baltic Porter', 'American Pale Wheat Ale', 'Belgian Tripel', 'Winter Warmer', 'Russian Imperial Stout', 'Foreign / Export Stout', 'English Pale Ale', 'American Amber / Red Ale', 'Belgian Dubbel', 'German Schwarzbier', 'American Strong Ale', 'Berliner Weisse', 'American Brut IPA', 'English Extra Special / Strong Bitter (ESB)', 'Irish Dry Stout', 'English Old Ale', 'Smoke Beer', 'German Dunkelweizen', 'Belgian Strong Pale Ale', 'American Imperial Porter', 'Belgian Lambic']\n",
      "RO: ['European Pale Lager', 'English India Pale Ale (IPA)', 'English Extra Special / Strong Bitter (ESB)', 'German Pilsner', 'German Hefeweizen', 'American Pale Ale (APA)', 'American IPA', 'German Märzen / Oktoberfest', 'American Amber / Red Lager', 'American Lager', 'German Kellerbier / Zwickelbier', 'European Strong Lager', 'Belgian Witbier', 'British Barleywine', 'Low Alcohol Beer', 'Belgian IPA', 'Bohemian Pilsener', 'Belgian Pale Ale', 'Belgian Dark Ale', 'Fruit and Field Beer', 'German Bock', 'German Helles', 'European Dark Lager', 'English Pale Ale', 'American Imperial IPA', 'German Schwarzbier', 'English Oatmeal Stout', 'English Sweet / Milk Stout', 'Berliner Weisse', 'Smoke Beer', 'American Pale Wheat Ale', 'American Porter', 'American Imperial Stout', 'Winter Warmer', 'American Black Ale', 'New England IPA', 'American Stout', 'Russian Imperial Stout', 'Herb and Spice Beer', 'American Amber / Red Ale', 'Belgian Saison', 'Belgian Dubbel', 'German Weizenbock', 'American Brown Ale', 'English Porter', 'American Blonde Ale', 'Munich Dunkel Lager', 'Belgian Strong Dark Ale', 'Belgian Tripel', 'Vienna Lager', 'Leipzig Gose', 'German Kölsch', 'Pumpkin Beer', 'English Bitter', 'English Stout', 'Scotch Ale / Wee Heavy', 'Belgian Quadrupel (Quad)', 'Belgian Blonde Ale']\n",
      "AW: ['American Porter', 'German Hefeweizen', 'American IPA', 'Belgian Saison', 'American Pale Ale (APA)', 'German Kölsch', 'British Barleywine', 'American Imperial IPA', 'English Oatmeal Stout', 'Scottish Gruit / Ancient Herbed Ale', 'American Stout', 'Berliner Weisse', 'American Amber / Red Ale', 'American Brown Ale', 'Belgian Witbier', 'American Imperial Stout', 'California Common / Steam Beer', 'Belgian Pale Ale', 'Baltic Porter', 'Belgian Strong Dark Ale', 'Belgian Dubbel', 'American Blonde Ale', 'American Wild Ale', 'Scotch Ale / Wee Heavy', 'Belgian Quadrupel (Quad)', 'Low Alcohol Beer', 'American Lager', 'American Strong Ale', 'Belgian Tripel', 'Flanders Red Ale', 'European Pale Lager', 'Vienna Lager', 'German Pilsner', 'English Extra Special / Strong Bitter (ESB)', 'American Pale Wheat Ale', 'American Barleywine', 'Winter Warmer', 'American Adjunct Lager', 'Fruit and Field Beer', 'German Dunkelweizen', 'English Pale Ale', 'American Wheatwine Ale', 'Japanese Rice Lager', 'German Bock', 'Bohemian Pilsener', 'German Märzen / Oktoberfest', 'German Doppelbock', 'European Dark Lager', 'English India Pale Ale (IPA)', 'American Black Ale', 'Russian Imperial Stout', 'English Sweet / Milk Stout', 'English Brown Ale', 'Foreign / Export Stout']\n",
      "RS: ['American Pale Ale (APA)', 'American Stout', 'American Imperial IPA', 'European Strong Lager', 'European Pale Lager', 'American Amber / Red Lager', 'Bohemian Pilsener', 'Fruit and Field Beer', 'German Hefeweizen', 'German Schwarzbier', 'American Cream Ale', 'German Dunkelweizen', 'American Pale Wheat Ale', 'European Dark Lager', 'German Pilsner', 'American Light Lager', 'Vienna Lager', 'American IPA', 'Herb and Spice Beer', 'Belgian Strong Pale Ale', 'American Lager', 'English Stout', 'English Pale Ale', 'American Imperial Stout', 'American Amber / Red Ale', 'Belgian Pale Ale', 'Belgian Witbier', 'English Porter', 'Belgian Blonde Ale', 'American Porter', 'English India Pale Ale (IPA)', 'Belgian Fruit Lambic', 'Belgian IPA', 'English Pale Mild Ale', 'Irish Dry Stout', 'Winter Warmer', 'German Kellerbier / Zwickelbier', 'Belgian Saison', 'Smoke Beer', 'Russian Kvass', 'English Extra Special / Strong Bitter (ESB)', 'German Märzen / Oktoberfest', 'Rye Beer', 'American Adjunct Lager', 'German Doppelbock', 'English Oatmeal Stout', 'Scotch Ale / Wee Heavy', 'Berliner Weisse', 'American Malt Liquor', 'American Strong Ale', 'American Black Ale', 'German Helles', 'German Altbier', 'German Kölsch']\n",
      "PA: ['American Brown Ale', 'American Pale Ale (APA)', 'American Pale Wheat Ale', 'American IPA', 'American Stout', 'German Hefeweizen', 'English India Pale Ale (IPA)', 'English Extra Special / Strong Bitter (ESB)', 'Belgian Saison', 'Fruit and Field Beer', 'American Amber / Red Ale', 'Herb and Spice Beer', 'American Adjunct Lager', 'American Light Lager', 'American Black Ale', 'English Porter', 'Belgian Pale Ale', 'English Pale Ale', 'German Pilsner', 'Irish Dry Stout', 'American Blonde Ale', 'English Brown Ale', 'Belgian Witbier', 'European Pale Lager', 'American Wild Ale', 'European Dark Lager', 'Berliner Weisse', 'American Imperial IPA', 'Leipzig Gose', 'German Rauchbier', 'American Barleywine', 'American Imperial Stout', 'German Kölsch', 'English Sweet / Milk Stout', 'American Lager', 'American Imperial Pilsner', 'American Amber / Red Lager', 'Irish Red Ale', 'German Märzen / Oktoberfest', 'Scotch Ale / Wee Heavy', 'Winter Warmer', 'American Porter', 'American Imperial Red Ale', 'Belgian Quadrupel (Quad)', 'Belgian Tripel', 'French Bière de Garde', 'Rye Beer', 'Scottish Ale', 'Chile Beer', 'California Common / Steam Beer', 'Belgian Strong Dark Ale', 'Russian Imperial Stout', 'German Doppelbock']\n",
      "UY: ['American Blonde Ale', 'English Porter', 'English Pale Ale', 'German Hefeweizen', 'Scottish Ale', 'American Stout', 'Scotch Ale / Wee Heavy', 'American Cream Ale', 'English Sweet / Milk Stout', 'American IPA', 'Belgian Dubbel', 'British Barleywine', 'Foreign / Export Stout', 'Low Alcohol Beer', 'German Pilsner', 'Munich Dunkel Lager', 'American Amber / Red Ale', 'American Adjunct Lager', 'American Amber / Red Lager', 'American Porter', 'European Pale Lager', 'American Pale Ale (APA)', 'English Oatmeal Stout', 'English India Pale Ale (IPA)', 'Belgian Witbier', 'Irish Red Ale', 'German Kölsch', 'Belgian Pale Ale', 'Belgian IPA', 'Belgian Blonde Ale', 'Belgian Strong Dark Ale', 'Fruit and Field Beer', 'Herb and Spice Beer', 'Pumpkin Beer', 'English Old Ale', 'Belgian Tripel', 'Belgian Strong Pale Ale', 'Flanders Red Ale', 'American Imperial IPA', 'American Wild Ale', 'Belgian Saison', 'American Pale Wheat Ale', 'Belgian Quadrupel (Quad)', 'Belgian Dark Ale', 'Bière de Champagne / Bière Brut', 'Belgian Fruit Lambic', 'American Black Ale', 'American Lager', 'American Barleywine', 'Chile Beer', 'American Imperial Porter']\n",
      "VN: ['American Adjunct Lager', 'German Pilsner', 'European Pale Lager', 'German Schwarzbier', 'German Altbier', 'Bohemian Pilsener', 'Belgian Witbier', 'American Amber / Red Ale', 'Munich Dunkel Lager', 'American Pale Ale (APA)', 'German Hefeweizen', 'Vienna Lager', 'English Stout', 'Herb and Spice Beer', 'English Porter', 'American IPA', 'American Cream Ale', 'American Imperial IPA', 'New England IPA', 'American Imperial Stout', 'American Blonde Ale', 'European Export / Dortmunder', 'American Porter', 'English Old Ale', 'Belgian Saison', 'American Pale Wheat Ale', 'American Barleywine', 'German Kölsch', 'Berliner Weisse', 'English Extra Special / Strong Bitter (ESB)', 'Fruit and Field Beer', 'Belgian Pale Ale', 'Leipzig Gose', 'Belgian Strong Pale Ale', 'European Dark Lager', 'Irish Red Ale', 'German Helles', 'American Amber / Red Lager', 'Belgian Strong Dark Ale', 'Braggot', 'American Wild Ale', 'American Brown Ale', 'English Sweet / Milk Stout', 'English India Pale Ale (IPA)', 'Winter Warmer', 'Foreign / Export Stout', 'Smoke Beer', 'Pumpkin Beer', 'Rye Beer']\n",
      "EC: ['American Amber / Red Ale', 'American Brown Ale', 'American Pale Ale (APA)', 'American Stout', 'Belgian Tripel', 'Belgian Witbier', 'American Porter', 'American Cream Ale', 'American IPA', 'German Helles', 'English Pale Ale', 'Irish Red Ale', 'English Porter', 'German Pilsner', 'Bohemian Pilsener', 'Belgian Strong Dark Ale', 'Belgian Strong Pale Ale', 'American Amber / Red Lager', 'Herb and Spice Beer', 'English India Pale Ale (IPA)', 'English Oatmeal Stout', 'Belgian Saison', 'American Blonde Ale', 'Scottish Ale', 'German Altbier', 'German Kristalweizen', 'German Kölsch', 'American Black Ale', 'American Light Lager', 'Vienna Lager', 'American Adjunct Lager', 'German Doppelbock', 'Fruit and Field Beer', 'Belgian IPA', 'German Hefeweizen', 'American Barleywine', 'American Imperial Stout', 'German Maibock', 'Smoke Beer', 'Low Alcohol Beer', 'Russian Imperial Stout', 'German Eisbock', 'Belgian Pale Ale', 'Munich Dunkel Lager']\n",
      "BS: ['American Porter', 'Winter Warmer', 'American Pale Ale (APA)', 'Pumpkin Beer', 'American Dark Wheat Ale', 'German Märzen / Oktoberfest', 'American Blonde Ale', 'English Brown Ale', 'American Pale Wheat Ale', 'American Adjunct Lager', 'Munich Dunkel Lager', 'English Bitter', 'English Oatmeal Stout', 'American Stout', 'German Maibock', 'English Pale Mild Ale', 'Berliner Weisse', 'Belgian Saison', 'American Amber / Red Ale', 'American Barleywine', 'German Kölsch', 'American IPA', 'American Imperial Stout', 'American Imperial IPA', 'German Altbier', 'New England IPA', 'American Brown Ale', 'American Lager', 'American Wild Ale', 'American Strong Ale', 'American Black Ale', 'Belgian Pale Ale', 'American Amber / Red Lager', 'American Light Lager', 'Foreign / Export Stout', 'European Pale Lager', 'American Malt Liquor', 'Fruit and Field Beer', 'Belgian Witbier', 'Herb and Spice Beer', 'Bohemian Pilsener', 'American Cream Ale', 'Russian Imperial Stout']\n",
      "IN: ['European Pale Lager', 'European Strong Lager', 'American Malt Liquor', 'American Adjunct Lager', 'German Kellerbier / Zwickelbier', 'American IPA', 'Belgian Witbier', 'American Strong Ale', 'American Lager', 'American Light Lager', 'German Hefeweizen', 'European Dark Lager', 'German Pilsner', 'American Blonde Ale', 'English India Pale Ale (IPA)', 'English Stout', 'Belgian Pale Ale', 'American Brown Ale', 'American Pale Ale (APA)', 'American Pale Wheat Ale', 'English Porter', 'English Pale Ale', 'Irish Red Ale', 'Irish Dry Stout', 'American Imperial IPA', 'Belgian Strong Pale Ale', 'Herb and Spice Beer', 'Bohemian Pilsener', 'Belgian Tripel', 'German Märzen / Oktoberfest', 'English Strong Ale', 'American Stout', 'Belgian IPA', 'German Helles', 'Belgian Blonde Ale', 'Fruit and Field Beer', 'Belgian Quadrupel (Quad)', 'American Amber / Red Ale', 'German Doppelbock', 'Scottish Ale', 'German Weizenbock', 'German Kölsch']\n",
      "LR: ['European Pale Lager', 'European Dark Lager', 'American Imperial IPA', 'American IPA', 'New England IPA', 'American Pale Ale (APA)', 'American Lager', 'German Hefeweizen', 'American Stout', 'English Extra Special / Strong Bitter (ESB)', 'Belgian Strong Dark Ale', 'Belgian Dubbel', 'German Dunkelweizen', 'German Altbier', 'Bohemian Pilsener', 'German Doppelbock', 'German Märzen / Oktoberfest', 'Fruit and Field Beer', 'Belgian Strong Pale Ale', 'American Light Lager', 'Vienna Lager', 'American Amber / Red Ale', 'German Maibock', 'American Blonde Ale', 'American Amber / Red Lager', 'American Brown Ale', 'German Kölsch', 'English Oatmeal Stout', 'Belgian Pale Ale', 'American Adjunct Lager', 'German Pilsner', 'English Brown Ale', 'American Pale Wheat Ale', 'Belgian Saison', 'English Sweet / Milk Stout', 'Belgian Tripel', 'American Imperial Stout', 'American Strong Ale', 'Leipzig Gose', 'Belgian Witbier', 'American Porter', 'Munich Dunkel Lager']\n",
      "LV: ['German Kellerbier / Zwickelbier', 'European Pale Lager', 'German Bock', 'Russian Kvass', 'Munich Dunkel Lager', 'Herb and Spice Beer', 'Vienna Lager', 'German Pilsner', 'American Porter', 'American Brown Ale', 'American Pale Ale (APA)', 'American Imperial IPA', 'American IPA', 'Pumpkin Beer', 'American Stout', 'European Export / Dortmunder', 'Belgian Saison', 'Bohemian Pilsener', 'European Strong Lager', 'American Amber / Red Lager', 'German Schwarzbier', 'English Bitter', 'American Amber / Red Ale', 'Belgian Dark Ale', 'Belgian Witbier', 'Fruit and Field Beer', 'British Barleywine', 'Braggot', 'Belgian Strong Pale Ale', 'American Imperial Stout', 'English Brown Ale', 'Baltic Porter', 'English Pale Ale', 'English Oatmeal Stout', 'Leipzig Gose', 'European Dark Lager', 'Smoke Beer', 'German Hefeweizen', 'American Blonde Ale', 'Belgian Dubbel', 'American Lager', 'German Märzen / Oktoberfest']\n",
      "CO: ['German Hefeweizen', 'German Märzen / Oktoberfest', 'Belgian Dubbel', 'German Helles', 'Low Alcohol Beer', 'German Bock', 'Fruit and Field Beer', 'American Light Lager', 'German Pilsner', 'American Adjunct Lager', 'English Brown Ale', 'English Porter', 'American Blonde Ale', 'Belgian Strong Pale Ale', 'Irish Dry Stout', 'Belgian Pale Ale', 'European Pale Lager', 'American Amber / Red Ale', 'Belgian Witbier', 'English India Pale Ale (IPA)', 'German Kölsch', 'English Oatmeal Stout', 'Irish Red Ale', 'American IPA', 'American Lager', 'Vienna Lager', 'European Strong Lager', 'American Imperial IPA', 'American Stout', 'American Cream Ale', 'English Bitter', 'English Pale Mild Ale', 'American Porter', 'English Pale Ale', 'American Strong Ale', 'English Stout', 'Scottish Ale', 'Bohemian Pilsener', 'English Dark Mild Ale', 'American Pale Ale (APA)', 'German Kristalweizen']\n",
      "SI: ['Rye Beer', 'European Pale Lager', 'German Doppelbock', 'Vienna Lager', 'German Hefeweizen', 'Fruit and Field Beer', 'Bohemian Pilsener', 'Munich Dunkel Lager', 'Herb and Spice Beer', 'American Light Lager', 'German Pilsner', 'European Export / Dortmunder', 'American Lager', 'American Adjunct Lager', 'American Black Ale', 'American Pale Ale (APA)', 'American IPA', 'American Imperial IPA', 'Belgian Pale Ale', 'American Imperial Stout', 'English Pale Ale', 'English Stout', 'American Brut IPA', 'English Sweet / Milk Stout', 'American Amber / Red Ale', 'American Stout', 'Smoke Beer', 'Belgian Witbier', 'Robust Porter', 'English India Pale Ale (IPA)', 'American Brown Ale', 'American Porter', 'English Brown Ale', 'English Porter', 'English Extra Special / Strong Bitter (ESB)', 'German Kellerbier / Zwickelbier', 'European Strong Lager', 'German Bock', 'European Dark Lager', 'Russian Imperial Stout']\n",
      "HK: ['American Lager', 'American Imperial IPA', 'German Hefeweizen', 'American IPA', 'English Oatmeal Stout', 'Smoke Beer', 'Winter Warmer', 'American Pale Ale (APA)', 'Fruit and Field Beer', 'Belgian Saison', 'American Pale Wheat Ale', 'New England IPA', 'English Pale Ale', 'American Stout', 'Belgian Witbier', 'German Pilsner', 'Foreign / Export Stout', 'Berliner Weisse', 'Bohemian Pilsener', 'Vienna Lager', 'European Pale Lager', 'English India Pale Ale (IPA)', 'American Imperial Stout', 'American Black Ale', 'Rye Beer', 'American Wild Ale', 'Leipzig Gose', 'American Brut IPA', 'German Weizenbock', 'American Blonde Ale', 'American Brown Ale', 'American Amber / Red Lager', 'English Dark Mild Ale', 'Bière de Champagne / Bière Brut', 'English Porter', 'Belgian Dubbel', 'American Amber / Red Ale', 'Belgian Tripel', 'American Porter']\n",
      "BG: ['European Pale Lager', 'German Pilsner', 'German Bock', 'Belgian Blonde Ale', 'European Dark Lager', 'Fruit and Field Beer', 'English Oatmeal Stout', 'Herb and Spice Beer', 'American Black Ale', 'American Stout', 'American Adjunct Lager', 'Munich Dunkel Lager', 'Low Alcohol Beer', 'German Maibock', 'American Amber / Red Ale', 'German Hefeweizen', 'English Bitter', 'English Pale Ale', 'Belgian Saison', 'English Porter', 'English India Pale Ale (IPA)', 'Belgian Dubbel', 'American IPA', 'Bohemian Pilsener', 'American Pale Ale (APA)', 'German Schwarzbier', 'German Kellerbier / Zwickelbier', 'Smoke Beer', 'American Porter', 'German Helles', 'Irish Dry Stout', 'American Pale Wheat Ale', 'Berliner Weisse', 'English Sweet / Milk Stout', 'American Imperial IPA', 'Vienna Lager', 'American Blonde Ale', 'Foreign / Export Stout']\n",
      "VE: ['German Pilsner', 'American Light Lager', 'American Amber / Red Ale', 'American Lager', 'American Amber / Red Lager', 'European Pale Lager', 'European Strong Lager', 'English Brown Ale', 'English India Pale Ale (IPA)', 'Belgian Pale Ale', 'Belgian Dark Ale', 'Irish Red Ale', 'American Blonde Ale', 'Smoke Beer', 'German Dunkelweizen', 'Belgian Tripel', 'American Imperial IPA', 'American Pale Ale (APA)', 'American IPA', 'Rye Beer', 'Pumpkin Beer', 'Herb and Spice Beer', 'Vienna Lager', 'American Black Ale', 'Belgian Saison', 'American Porter', 'Belgian Dubbel', 'American Pale Wheat Ale', 'Baltic Porter', 'American Imperial Stout', 'American Brown Ale', 'Belgian IPA', 'German Hefeweizen', 'American Stout', 'English Oatmeal Stout', 'German Weizenbock', 'German Kölsch', 'English Strong Ale']\n",
      "HR: ['German Helles', 'European Pale Lager', 'Munich Dunkel Lager', 'German Märzen / Oktoberfest', 'English Pale Ale', 'American IPA', 'Vienna Lager', 'American Pale Ale (APA)', 'Bohemian Pilsener', 'German Schwarzbier', 'European Dark Lager', 'Fruit and Field Beer', 'Russian Imperial Stout', 'American Pale Wheat Ale', 'American Porter', 'English Bitter', 'American Brown Ale', 'New England IPA', 'Foreign / Export Stout', 'Berliner Weisse', 'English Stout', 'English India Pale Ale (IPA)', 'Rye Beer', 'German Dunkelweizen', 'American Light Lager', 'Belgian Witbier', 'European Strong Lager', 'Low Alcohol Beer', 'American Amber / Red Lager', 'German Hefeweizen', 'American Blonde Ale', 'Irish Red Ale', 'American Adjunct Lager', 'American Amber / Red Ale', 'American Imperial IPA', 'German Maibock', 'English Old Ale']\n",
      "BZ: ['Foreign / Export Stout', 'American Stout', 'American Adjunct Lager', 'English Sweet / Milk Stout', 'European Pale Lager', 'American Light Lager', 'American Lager', 'American IPA', 'Belgian Saison', 'American Imperial Pilsner', 'Belgian Pale Ale', 'Belgian Strong Dark Ale', 'Belgian Blonde Ale', 'Belgian IPA', 'Belgian Tripel', 'American Pale Ale (APA)', 'American Wild Ale', 'Belgian Quadrupel (Quad)', 'American Blonde Ale', 'New England IPA', 'Fruit and Field Beer', 'Irish Dry Stout', 'Belgian Dubbel', 'American Imperial IPA', 'German Hefeweizen', 'Bohemian Pilsener', 'American Imperial Stout', 'German Schwarzbier', 'American Brown Ale', 'American Porter', 'American Amber / Red Ale', 'German Pilsner', 'German Weizenbock', 'English Bitter', 'American Barleywine', 'English Extra Special / Strong Bitter (ESB)']\n",
      "PR: ['German Schwarzbier', 'European Dark Lager', 'American Lager', 'German Roggenbier', 'German Kölsch', 'German Hefeweizen', 'German Märzen / Oktoberfest', 'American Amber / Red Ale', 'English Oatmeal Stout', 'American IPA', 'Flanders Oud Bruin', 'American Light Lager', 'American Pale Ale (APA)', 'American Adjunct Lager', 'Fruit and Field Beer', 'German Bock', 'Low Alcohol Beer', 'English Sweet / Milk Stout', 'Bohemian Pilsener', 'American Blonde Ale', 'German Helles', 'American Pale Wheat Ale', 'American Brown Ale', 'American Imperial Stout', 'Belgian Saison', 'German Doppelbock', 'American Stout', 'American Imperial IPA', 'American Black Ale', 'Smoke Porter', 'Vienna Lager', 'Irish Red Ale', 'Belgian Dubbel', 'English Porter', 'American Porter', 'Scottish Ale']\n",
      "VI: ['English Oatmeal Stout', 'American IPA', 'American Amber / Red Lager', 'Irish Red Ale', 'American Brown Ale', 'American Pale Ale (APA)', 'American Stout', 'American Imperial Stout', 'American Blonde Ale', 'Winter Warmer', 'Fruit and Field Beer', 'American Imperial IPA', 'Belgian Witbier', 'American Amber / Red Ale', 'English Brown Ale', 'American Porter', 'German Dunkelweizen', 'American Lager', 'Scottish Gruit / Ancient Herbed Ale', 'Bohemian Pilsener', 'German Doppelbock', 'Belgian Dubbel', 'American Adjunct Lager', 'English Porter', 'English India Pale Ale (IPA)', 'Vienna Lager', 'American Cream Ale', 'German Märzen / Oktoberfest', 'Herb and Spice Beer', 'German Weizenbock', 'Belgian Strong Dark Ale', 'English Strong Ale', 'Irish Dry Stout', 'English Pale Ale', 'German Helles', 'Belgian Saison']\n",
      "PE: ['American Pale Ale (APA)', 'Belgian Saison', 'American Strong Ale', 'English Pale Ale', 'American Amber / Red Ale', 'American Porter', 'American IPA', 'American Blonde Ale', 'Belgian Strong Pale Ale', 'Belgian Tripel', 'Belgian Pale Ale', 'American Barleywine', 'American Pale Wheat Ale', 'American Imperial Stout', 'German Kölsch', 'American Brown Ale', 'German Dunkelweizen', 'Irish Dry Stout', 'English Oatmeal Stout', 'American Lager', 'German Märzen / Oktoberfest', 'German Hefeweizen', 'American Adjunct Lager', 'Fruit and Field Beer', 'German Pilsner', 'European Dark Lager', 'European Pale Lager', 'American Black Ale', 'American Stout', 'German Schwarzbier', 'English Sweet / Milk Stout', 'American Amber / Red Lager', 'Belgian Witbier', 'Scottish Ale', 'British Barleywine']\n",
      "TW: ['Belgian Dubbel', 'Belgian Strong Dark Ale', 'Fruit and Field Beer', 'German Hefeweizen', 'American Pale Ale (APA)', 'Belgian Tripel', 'American Adjunct Lager', 'Japanese Rice Lager', 'Foreign / Export Stout', 'Belgian Fruit Lambic', 'Munich Dunkel Lager', 'Belgian Saison', 'German Pilsner', 'American Amber / Red Ale', 'English India Pale Ale (IPA)', 'American IPA', 'German Roggenbier', 'American Imperial Stout', 'American Pale Wheat Ale', 'Belgian Witbier', 'American Lager', 'American Light Lager', 'European Pale Lager', 'English Stout', 'American Amber / Red Lager', 'European Dark Lager', 'Scotch Ale / Wee Heavy', 'English Pale Ale', 'Vienna Lager', 'Leipzig Gose', 'American Imperial IPA', 'California Common / Steam Beer', 'English Porter', 'Herb and Spice Beer']\n",
      "SK: ['California Common / Steam Beer', 'American Black Ale', 'American Amber / Red Ale', 'American Porter', 'European Dark Lager', 'Fruit and Field Beer', 'Low Alcohol Beer', 'Baltic Porter', 'Bohemian Pilsener', 'European Pale Lager', 'Munich Dunkel Lager', 'Braggot', 'American Pale Wheat Ale', 'American Amber / Red Lager', 'American IPA', 'Herb and Spice Beer', 'American Imperial IPA', 'Leipzig Gose', 'European Strong Lager', 'American Pale Ale (APA)', 'American Adjunct Lager', 'German Pilsner', 'Pumpkin Beer', 'Vienna Lager', 'English India Pale Ale (IPA)', 'Russian Imperial Stout', 'English Stout', 'American Imperial Pilsner', 'German Schwarzbier', 'English Pale Ale', 'German Märzen / Oktoberfest', 'German Hefeweizen', 'German Rauchbier']\n",
      "TR: ['European Pale Lager', 'European Strong Lager', 'Vienna Lager', 'German Märzen / Oktoberfest', 'Bohemian Pilsener', 'German Pilsner', 'European Dark Lager', 'American Cream Ale', 'American Amber / Red Ale', 'German Rauchbier', 'German Kölsch', 'German Hefeweizen', 'American IPA', 'Fruit and Field Beer', 'Winter Warmer', 'English Porter', 'Herb and Spice Beer', 'American Blonde Ale', 'English Pale Ale', 'American Malt Liquor', 'Irish Red Ale', 'Low Alcohol Beer', 'German Dunkelweizen', 'Berliner Weisse', 'American Light Lager', 'American Adjunct Lager', 'Irish Dry Stout', 'German Helles', 'American Stout', 'German Doppelbock', 'English India Pale Ale (IPA)']\n",
      "KH: ['American IPA', 'American Blonde Ale', 'Belgian Saison', 'German Hefeweizen', 'American Porter', 'English Pale Ale', 'American Amber / Red Ale', 'European Pale Lager', 'Foreign / Export Stout', 'German Kellerbier / Zwickelbier', 'American Pale Wheat Ale', 'Bohemian Pilsener', 'Munich Dunkel Lager', 'European Dark Lager', 'German Pilsner', 'Belgian Witbier', 'German Helles', 'American Black Ale', 'English Bitter', 'American Adjunct Lager', 'American Lager', 'American Pale Ale (APA)', 'English Sweet / Milk Stout', 'European Strong Lager', 'American Stout', 'Herb and Spice Beer', 'German Weizenbock', 'German Kölsch', 'American Cream Ale']\n",
      "BY: ['Baltic Porter', 'European Dark Lager', 'American Adjunct Lager', 'European Pale Lager', 'American Light Lager', 'European Strong Lager', 'Belgian Strong Dark Ale', 'Herb and Spice Beer', 'Irish Red Ale', 'Low Alcohol Beer', 'German Hefeweizen', 'Russian Kvass', 'English India Pale Ale (IPA)', 'Smoke Beer', 'German Dunkelweizen', 'Munich Dunkel Lager', 'Fruit and Field Beer', 'German Pilsner', 'Foreign / Export Stout', 'Vienna Lager', 'American Pale Ale (APA)', 'American IPA', 'Bohemian Pilsener', 'Belgian Fruit Lambic', 'European Export / Dortmunder', 'Belgian Witbier', 'German Kellerbier / Zwickelbier', 'English Pale Ale']\n",
      "LU: ['German Pilsner', 'Belgian Witbier', 'Belgian Dark Ale', 'European Pale Lager', 'Munich Dunkel Lager', 'German Hefeweizen', 'American IPA', 'American Stout', 'German Dunkelweizen', 'Belgian Blonde Ale', 'Fruit and Field Beer', 'European Dark Lager', 'Belgian Tripel', 'Belgian Pale Ale', 'German Kellerbier / Zwickelbier', 'German Maibock', 'Bohemian Pilsener', 'American Amber / Red Ale', 'English Brown Ale', 'German Helles', 'Vienna Lager', 'Belgian Strong Pale Ale', 'New England IPA', 'American Pale Wheat Ale', 'Belgian IPA', 'English Porter', 'American Pale Ale (APA)', 'American Imperial Stout']\n",
      "KE: ['Vienna Lager', 'European Pale Lager', 'Herb and Spice Beer', 'German Märzen / Oktoberfest', 'English Porter', 'German Maibock', 'English Stout', 'English Bitter', 'English Brown Ale', 'German Kristalweizen', 'Belgian Tripel', 'German Pilsner', 'English Pale Ale', 'Fruit and Field Beer', 'German Kölsch', 'German Dunkelweizen', 'Belgian Dubbel', 'German Hefeweizen', 'American Light Lager', 'American Adjunct Lager', 'Bohemian Pilsener', 'European Strong Lager', 'American Lager', 'American Brown Ale', 'American IPA', 'American Amber / Red Ale', 'Belgian Witbier']\n",
      "AG: ['American Pale Ale (APA)', 'American Stout', 'American Pale Wheat Ale', 'Irish Red Ale', 'Fruit and Field Beer', 'Belgian Pale Ale', 'American IPA', 'Irish Dry Stout', 'American Porter', 'English Pale Ale', 'American Cream Ale', 'American Brown Ale', 'American Amber / Red Ale', 'American Blonde Ale', 'American Imperial IPA', 'Belgian Saison', 'American Lager', 'American Malt Liquor', 'German Märzen / Oktoberfest', 'American Imperial Pilsner', 'American Light Lager', 'American Adjunct Lager', 'American Amber / Red Lager', 'English India Pale Ale (IPA)', 'Winter Warmer', 'California Common / Steam Beer']\n",
      "CY: ['German Pilsner', 'English Pale Ale', 'German Weizenbock', 'American Adjunct Lager', 'American Blonde Ale', 'Belgian Witbier', 'American Amber / Red Ale', 'Bohemian Pilsener', 'Belgian Saison', 'English Oatmeal Stout', 'American IPA', 'American Pale Ale (APA)', 'American Barleywine', 'German Schwarzbier', 'Belgian Strong Pale Ale', 'English Stout', 'American Amber / Red Lager', 'English Porter', 'American Light Lager', 'German Märzen / Oktoberfest', 'Vienna Lager', 'English Extra Special / Strong Bitter (ESB)', 'English Bitter', 'Irish Red Ale', 'English Pale Mild Ale', 'English Brown Ale']\n",
      "NI: ['American Blonde Ale', 'American Imperial IPA', 'American Stout', 'Fruit and Field Beer', 'Belgian Witbier', 'American IPA', 'German Hefeweizen', 'American Pale Ale (APA)', 'American Amber / Red Ale', 'German Kellerbier / Zwickelbier', 'German Märzen / Oktoberfest', 'American Brown Ale', 'German Kölsch', 'German Altbier', 'Irish Dry Stout', 'English Pale Ale', 'American Light Lager', 'German Doppelbock', 'European Pale Lager', 'European Dark Lager', 'Low Alcohol Beer', 'European Strong Lager', 'American Adjunct Lager', 'American Lager', 'American Wild Ale', 'Belgian Saison']\n",
      "JE: ['English Pale Ale', 'English Brown Ale', 'American Amber / Red Ale', 'English Bitter', 'English India Pale Ale (IPA)', 'European Pale Lager', 'Winter Warmer', 'Herb and Spice Beer', 'English Strong Ale', 'American Brown Ale', 'English Stout', 'English Dark Mild Ale', 'German Maibock', 'British Barleywine', 'German Eisbock', 'German Bock', 'German Kellerbier / Zwickelbier', 'German Helles', 'English Extra Special / Strong Bitter (ESB)', 'Pumpkin Beer', 'American Imperial Stout', 'German Märzen / Oktoberfest', 'Bohemian Pilsener', 'German Doppelbock', 'Vienna Lager']\n",
      "MD: ['English Sweet / Milk Stout', 'American IPA', 'European Pale Lager', 'Munich Dunkel Lager', 'Russian Kvass', 'American Amber / Red Ale', 'Fruit and Field Beer', 'American Adjunct Lager', 'European Strong Lager', 'American Wild Ale', 'German Weizenbock', 'German Hefeweizen', 'American Pale Ale (APA)', 'Irish Dry Stout', 'British Barleywine', 'American Porter', 'English Porter', 'Berliner Weisse', 'American Stout', 'Belgian Witbier', 'American Lager', 'German Pilsner', 'American Brut IPA', 'German Kellerbier / Zwickelbier', 'Vienna Lager']\n",
      "TH: ['American IPA', 'American Adjunct Lager', 'Belgian Witbier', 'Foreign / Export Stout', 'American Pale Ale (APA)', 'European Pale Lager', 'German Hefeweizen', 'American Brown Ale', 'American Pale Wheat Ale', 'American Lager', 'Fruit and Field Beer', 'European Dark Lager', 'Japanese Rice Lager', 'American Imperial IPA', 'German Pilsner', 'Munich Dunkel Lager', 'German Helles', 'German Schwarzbier', 'English Pale Mild Ale', 'American Light Lager', 'American Amber / Red Ale', 'English Bitter', 'American Porter', 'English Porter', 'English Extra Special / Strong Bitter (ESB)']\n",
      "BA: ['American Imperial IPA', 'English Brown Ale', 'American Pale Ale (APA)', 'American Strong Ale', 'American Stout', 'American IPA', 'Rye Beer', 'American Barleywine', 'European Dark Lager', 'European Pale Lager', 'American Amber / Red Ale', 'English Porter', 'Belgian Pale Ale', 'Smoke Beer', 'Fruit and Field Beer', 'German Hefeweizen', 'American Cream Ale', 'English Pale Ale', 'German Kellerbier / Zwickelbier', 'Low Alcohol Beer', 'Bohemian Pilsener', 'German Schwarzbier']\n",
      "GT: ['American Adjunct Lager', 'German Weizenbock', 'English India Pale Ale (IPA)', 'Belgian Witbier', 'English Stout', 'European Pale Lager', 'American Amber / Red Ale', 'European Dark Lager', 'German Bock', 'American Lager', 'American Light Lager', 'Vienna Lager', 'Fruit and Field Beer', 'American Porter', 'American Brown Ale', 'Belgian Pale Ale', 'Scottish Ale', 'American IPA', 'German Hefeweizen', 'American Blonde Ale']\n",
      "LB: ['American Amber / Red Ale', 'Belgian Witbier', 'Belgian Tripel', 'American Imperial Stout', 'Herb and Spice Beer', 'European Pale Lager', 'English Porter', 'American Black Ale', 'American IPA', 'English India Pale Ale (IPA)', 'English Stout', 'American Barleywine', 'Irish Dry Stout', 'Irish Red Ale', 'Bohemian Pilsener', 'German Pilsner', 'Fruit and Field Beer', 'Low Alcohol Beer', 'Munich Dunkel Lager', 'European Strong Lager']\n",
      "GU: ['American Imperial IPA', 'English Sweet / Milk Stout', 'Belgian Saison', 'Scottish Ale', 'American Black Ale', 'American Pale Ale (APA)', 'English Strong Ale', 'American IPA', 'American Lager', 'Irish Red Ale', 'German Märzen / Oktoberfest', 'American Porter', 'American Blonde Ale', 'American Brown Ale', 'Belgian Tripel', 'Smoke Porter', 'Fruit and Field Beer', 'Herb and Spice Beer', 'American Adjunct Lager']\n",
      "GL: ['German Pilsner', 'German Hefeweizen', 'German Maibock', 'German Doppelbock', 'American Lager', 'American Amber / Red Ale', 'German Kölsch', 'American Amber / Red Lager', 'Munich Dunkel Lager', 'European Pale Lager', 'German Altbier', 'English Brown Ale', 'English Pale Ale', 'Herb and Spice Beer', 'Vienna Lager', 'Winter Warmer', 'American Pale Ale (APA)', 'German Bock']\n",
      "MT: ['American Blonde Ale', 'Leipzig Gose', 'English Bitter', 'Irish Dry Stout', 'English Strong Ale', 'Belgian Witbier', 'English India Pale Ale (IPA)', 'European Pale Lager', 'Bohemian Pilsener', 'European Strong Lager', 'Fruit and Field Beer', 'European Export / Dortmunder', 'English Pale Ale', 'English Pale Mild Ale', 'English Sweet / Milk Stout', 'American Adjunct Lager', 'English Porter', 'Belgian Dubbel']\n",
      "BB: ['American Lager', 'Bohemian Pilsener', 'American Brown Ale', 'Belgian Witbier', 'Irish Red Ale', 'English Extra Special / Strong Bitter (ESB)', 'English Sweet / Milk Stout', 'American Pale Ale (APA)', 'Fruit and Field Beer', 'Irish Dry Stout', 'American Adjunct Lager', 'English Dark Mild Ale', 'Low Alcohol Beer', 'American Light Lager', 'German Pilsner', 'American Amber / Red Ale', 'European Strong Lager']\n",
      "BO: ['German Pilsner', 'English Stout', 'American Brown Ale', 'German Helles', 'Bohemian Pilsener', 'Munich Dunkel Lager', 'American Adjunct Lager', 'German Schwarzbier', 'American Amber / Red Lager', 'German Kölsch', 'German Märzen / Oktoberfest', 'German Bock', 'American Amber / Red Ale', 'German Kellerbier / Zwickelbier', 'Belgian Witbier', 'Belgian Pale Ale']\n",
      "ID: ['English Stout', 'European Strong Lager', 'European Pale Lager', 'American Lager', 'Irish Dry Stout', 'American Adjunct Lager', 'American Blonde Ale', 'American Amber / Red Ale', 'American Pale Ale (APA)', 'German Pilsner', 'Bohemian Pilsener', 'Low Alcohol Beer', 'Foreign / Export Stout', 'Belgian Witbier', 'Fruit and Field Beer', 'German Dunkelweizen']\n",
      "FO: ['American Amber / Red Ale', 'American Pale Ale (APA)', 'English Pale Ale', 'American Porter', 'American Imperial Pilsner', 'American Amber / Red Lager', 'European Pale Lager', 'American Imperial Stout', 'Bohemian Pilsener', 'European Dark Lager', 'German Pilsner', 'American Stout', 'European Strong Lager', 'German Märzen / Oktoberfest', 'Vienna Lager']\n",
      "MN: ['American Lager', 'Munich Dunkel Lager', 'Bohemian Pilsener', 'Vienna Lager', 'German Maibock', 'German Pilsner', 'European Export / Dortmunder', 'European Pale Lager', 'German Doppelbock', 'German Kellerbier / Zwickelbier', 'German Weizenbock', 'German Hefeweizen', 'German Märzen / Oktoberfest', 'German Kristalweizen', 'European Dark Lager']\n",
      "MU: ['European Strong Lager', 'European Pale Lager', 'American Lager', 'Fruit and Field Beer', 'Belgian Tripel', 'Belgian Witbier', 'German Märzen / Oktoberfest', 'American IPA', 'American Blonde Ale', 'German Helles', 'Belgian Strong Dark Ale', 'Smoke Beer', 'German Weizenbock', 'Belgian Quadrupel (Quad)', 'American Imperial Stout']\n",
      "SV: ['American Pale Wheat Ale', 'American Lager', 'Belgian Witbier', 'German Hefeweizen', 'American IPA', 'Irish Dry Stout', 'American Amber / Red Ale', 'German Märzen / Oktoberfest', 'American Blonde Ale', 'Vienna Lager', 'American Light Lager', 'European Pale Lager', 'European Dark Lager', 'American Adjunct Lager', 'German Pilsner']\n",
      "GE: ['European Pale Lager', 'European Strong Lager', 'European Dark Lager', 'German Kellerbier / Zwickelbier', 'German Hefeweizen', 'German Rauchbier', 'German Schwarzbier', 'Russian Kvass', 'American Adjunct Lager', 'Baltic Porter', 'English Porter', 'German Helles', 'German Pilsner', 'Bohemian Pilsener']\n",
      "SY: ['European Pale Lager', 'American Adjunct Lager', 'German Hefeweizen', 'American Porter', 'Belgian Fruit Lambic', 'Rye Beer', 'American IPA', 'Irish Dry Stout', 'American Imperial IPA', 'American Brown Ale', 'American Light Lager', 'American Amber / Red Ale', 'American Black Ale', 'German Pilsner']\n",
      "AM: ['European Pale Lager', 'Munich Dunkel Lager', 'Bohemian Pilsener', 'American Pale Ale (APA)', 'English Oatmeal Stout', 'American Blonde Ale', 'American Imperial IPA', 'American IPA', 'Vienna Lager', 'Smoke Beer', 'European Dark Lager', 'American Adjunct Lager', 'American Light Lager']\n",
      "JO: ['American Malt Liquor', 'American Adjunct Lager', 'American Porter', 'English Pale Ale', 'Winter Warmer', 'Baltic Porter', 'Irish Red Ale', 'German Pilsner', 'American Blonde Ale', 'English India Pale Ale (IPA)', 'Leipzig Gose', 'American Stout', 'Scotch Ale / Wee Heavy']\n",
      "SX: ['American Amber / Red Ale', 'German Hefeweizen', 'Belgian Saison', 'English Bitter', 'American Barleywine', 'American Porter', 'English Dark Mild Ale', 'Flanders Red Ale', 'American IPA', 'American Imperial Stout', 'American Pale Ale (APA)', 'American Lager', 'Fruit and Field Beer']\n",
      "TZ: ['English Stout', 'English Pale Ale', 'European Strong Lager', 'Vienna Lager', 'European Pale Lager', 'Fruit and Field Beer', 'English Sweet / Milk Stout', 'American Adjunct Lager', 'German Pilsner', 'American Malt Liquor', 'English Bitter', 'American Light Lager', 'American Amber / Red Ale']\n",
      "EG: ['American Malt Liquor', 'European Pale Lager', 'European Strong Lager', 'German Hefeweizen', 'German Pilsner', 'Low Alcohol Beer', 'American Amber / Red Lager', 'German Märzen / Oktoberfest', 'American Light Lager', 'European Export / Dortmunder', 'American Adjunct Lager', 'Foreign / Export Stout']\n",
      "MK: ['German Pilsner', 'European Pale Lager', 'Fruit and Field Beer', 'German Kellerbier / Zwickelbier', 'European Dark Lager', 'European Strong Lager', 'German Dunkelweizen', 'German Rauchbier', 'German Hefeweizen', 'English India Pale Ale (IPA)', 'English Porter', 'American Amber / Red Lager']\n",
      "RE: ['American Amber / Red Ale', 'Fruit and Field Beer', 'Belgian Witbier', 'European Pale Lager', 'American Blonde Ale', 'Belgian Dark Ale', 'Herb and Spice Beer', 'Belgian Pale Ale', 'Belgian Blonde Ale', 'American Porter', 'Belgian Tripel', 'Belgian Dubbel']\n",
      "HN: ['American Stout', 'English Porter', 'American Pale Ale (APA)', 'Irish Red Ale', 'American Blonde Ale', 'American Imperial IPA', 'American Black Ale', 'Rye Beer', 'American Brown Ale', 'American Adjunct Lager', 'German Pilsner']\n",
      "KG: ['European Pale Lager', 'American Pale Wheat Ale', 'European Dark Lager', 'American Lager', 'Irish Red Ale', 'Foreign / Export Stout', 'Bohemian Pilsener', 'German Kölsch', 'European Export / Dortmunder', 'German Märzen / Oktoberfest', 'Munich Dunkel Lager']\n",
      "KZ: ['European Pale Lager', 'Bohemian Pilsener', 'German Hefeweizen', 'German Kellerbier / Zwickelbier', 'Munich Dunkel Lager', 'German Pilsner', 'European Dark Lager', 'Belgian Witbier', 'European Strong Lager', 'Fruit and Field Beer', 'American Adjunct Lager']\n",
      "PS: ['English Stout', 'German Altbier', 'German Pilsner', 'Winter Warmer', 'Belgian Witbier', 'Low Alcohol Beer', 'English India Pale Ale (IPA)', 'German Bock', 'Belgian Pale Ale', 'Herb and Spice Beer', 'Foreign / Export Stout']\n",
      "LC: ['English Pale Ale', 'Fruit and Field Beer', 'German Pilsner', 'Munich Dunkel Lager', 'American Amber / Red Ale', 'American Porter', 'Foreign / Export Stout', 'English Sweet / Milk Stout', 'European Pale Lager', 'American Adjunct Lager']\n",
      "SM: ['German Kellerbier / Zwickelbier', 'German Hefeweizen', 'European Pale Lager', 'English Pale Ale', 'American Amber / Red Ale', 'German Pilsner', 'American IPA', 'Smoke Beer', 'English Brown Ale', 'English Bitter']\n",
      "TT: ['Low Alcohol Beer', 'English Sweet / Milk Stout', 'Bohemian Pilsener', 'American IPA', 'American Adjunct Lager', 'European Dark Lager', 'Herb and Spice Beer', 'German Helles', 'Foreign / Export Stout', 'American Light Lager']\n",
      "ZW: ['English Pale Ale', 'English Stout', 'English Bitter', 'European Pale Lager', 'English India Pale Ale (IPA)', 'Belgian Pale Ale', 'American Amber / Red Ale', 'Bohemian Pilsener', 'American Adjunct Lager', 'American Light Lager']\n",
      "AL: ['European Pale Lager', 'Bohemian Pilsener', 'American Amber / Red Lager', 'American Blonde Ale', 'German Maibock', 'German Hefeweizen', 'German Märzen / Oktoberfest', 'Munich Dunkel Lager', 'European Dark Lager']\n",
      "DZ: ['European Pale Lager', 'German Pilsner', 'European Strong Lager', 'European Dark Lager', 'Munich Dunkel Lager', 'English Pale Ale', 'American Strong Ale', 'American Light Lager', 'English Brown Ale']\n",
      "ME: ['European Pale Lager', 'American IPA', 'German Hefeweizen', 'European Dark Lager', 'German Märzen / Oktoberfest', 'Fruit and Field Beer', 'American Adjunct Lager', 'German Kellerbier / Zwickelbier', 'German Doppelbock']\n",
      "MG: ['Low Alcohol Beer', 'Belgian Witbier', 'American Imperial Pilsner', 'American Amber / Red Ale', 'American Amber / Red Lager', 'German Pilsner', 'German Hefeweizen', 'Fruit and Field Beer', 'American Blonde Ale']\n",
      "UZ: ['European Pale Lager', 'American Light Lager', 'American Adjunct Lager', 'German Pilsner', 'Munich Dunkel Lager', 'European Dark Lager', 'Vienna Lager', 'American Lager', 'American Imperial Pilsner']\n",
      "AD: ['American Blonde Ale', 'German Hefeweizen', 'English India Pale Ale (IPA)', 'Smoke Beer', 'German Doppelbock', 'Foreign / Export Stout', 'American Pale Ale (APA)', 'German Pilsner']\n",
      "GG: ['English Bitter', 'Winter Warmer', 'English Stout', 'American Adjunct Lager', 'English Dark Mild Ale', 'American IPA', 'English Pale Ale', 'American Amber / Red Ale']\n",
      "LA: ['American Adjunct Lager', 'American Lager', 'Vienna Lager', 'Belgian Witbier', 'European Dark Lager', 'Japanese Rice Lager', 'American Light Lager', 'Herb and Spice Beer']\n",
      "LI: ['German Hefeweizen', 'European Pale Lager', 'Munich Dunkel Lager', 'English Sweet / Milk Stout', 'German Maibock', 'Belgian Witbier', 'German Helles', 'English India Pale Ale (IPA)']\n",
      "LK: ['American Malt Liquor', 'Foreign / Export Stout', 'European Strong Lager', 'American Adjunct Lager', 'European Pale Lager', 'English Stout', 'Belgian Witbier', 'Irish Red Ale']\n",
      "CW: ['Belgian Witbier', 'American Blonde Ale', 'German Märzen / Oktoberfest', 'English Brown Ale', 'American IPA', 'Fruit and Field Beer', 'European Pale Lager']\n",
      "GD: ['American Amber / Red Ale', 'Belgian Witbier', 'American Blonde Ale', 'Belgian Tripel', 'American IPA', 'English Extra Special / Strong Bitter (ESB)', 'American Porter']\n",
      "KP: ['European Pale Lager', 'German Schwarzbier', 'European Dark Lager', 'Belgian Witbier', 'German Hefeweizen', 'American Blonde Ale', 'American Adjunct Lager']\n",
      "MY: ['Belgian Witbier', 'European Pale Lager', 'European Dark Lager', 'American Adjunct Lager', 'Foreign / Export Stout', 'American Malt Liquor', 'Low Alcohol Beer']\n",
      "NP: ['German Kölsch', 'American Malt Liquor', 'European Pale Lager', 'American Lager', 'American Light Lager', 'American Adjunct Lager', 'European Strong Lager']\n",
      "VU: ['European Pale Lager', 'English Porter', 'English Bitter', 'American Blonde Ale', 'American Lager', 'European Strong Lager', 'Fruit and Field Beer']\n",
      "BT: ['German Hefeweizen', 'American Amber / Red Ale', 'English Stout', 'American Adjunct Lager', 'American Lager', 'American Malt Liquor']\n",
      "MM: ['English Strong Ale', 'American Adjunct Lager', 'Herb and Spice Beer', 'European Strong Lager', 'Foreign / Export Stout', 'English Stout']\n",
      "PF: ['European Pale Lager', 'American Adjunct Lager', 'American Amber / Red Lager', 'American Blonde Ale', 'Belgian Witbier', 'American Amber / Red Ale']\n",
      "AZ: ['European Pale Lager', 'European Dark Lager', 'Bohemian Pilsener', 'European Strong Lager', 'European Export / Dortmunder']\n",
      "DO: ['American Adjunct Lager', 'Low Alcohol Beer', 'American Amber / Red Lager', 'Bohemian Pilsener', 'American Light Lager']\n",
      "FJ: ['American Blonde Ale', 'European Pale Lager', 'English Bitter', 'American Adjunct Lager', 'American Malt Liquor']\n",
      "GH: ['European Pale Lager', 'American Adjunct Lager', 'Foreign / Export Stout', 'Herb and Spice Beer', 'Fruit and Field Beer']\n",
      "MC: ['Herb and Spice Beer', 'German Pilsner', 'Belgian Witbier', 'Fruit and Field Beer', 'Belgian Pale Ale']\n",
      "MQ: ['American Light Lager', 'English Porter', 'German Hefeweizen', 'American Pale Wheat Ale', 'American Amber / Red Ale']\n",
      "NG: ['European Pale Lager', 'Foreign / Export Stout', 'Low Alcohol Beer', 'American Adjunct Lager', 'European Dark Lager']\n",
      "PW: ['American Stout', 'American Blonde Ale', 'British Barleywine', 'Irish Dry Stout', 'American Amber / Red Ale']\n",
      "TC: ['American Adjunct Lager', 'American Amber / Red Lager', 'English India Pale Ale (IPA)', 'Foreign / Export Stout', 'German Hefeweizen']\n",
      "TN: ['Low Alcohol Beer', 'European Pale Lager', 'German Hefeweizen', 'Munich Dunkel Lager', 'German Helles']\n",
      "UG: ['European Strong Lager', 'American Adjunct Lager', 'European Pale Lager', 'American Lager', 'English Sweet / Milk Stout']\n",
      "CG: ['European Pale Lager', 'Vienna Lager', 'Munich Dunkel Lager', 'European Dark Lager']\n",
      "CV: ['European Dark Lager', 'American Adjunct Lager', 'European Strong Lager', 'European Pale Lager']\n",
      "ER: ['German Pilsner', 'American Adjunct Lager', 'Low Alcohol Beer', 'Foreign / Export Stout']\n",
      "GF: ['Belgian Witbier', 'Belgian Pale Ale', 'American Stout', 'American Blonde Ale']\n",
      "MA: ['American Barleywine', 'European Pale Lager', 'European Strong Lager', 'Low Alcohol Beer']\n",
      "MZ: ['European Pale Lager', 'American Adjunct Lager', 'Fruit and Field Beer', 'German Märzen / Oktoberfest']\n",
      "NC: ['Fruit and Field Beer', 'European Pale Lager', 'American Lager', 'American Amber / Red Ale']\n",
      "PG: ['European Pale Lager', 'Foreign / Export Stout', 'American Adjunct Lager', 'European Export / Dortmunder']\n",
      "SR: ['European Pale Lager', 'Fruit and Field Beer', 'American Adjunct Lager', 'Foreign / Export Stout']\n",
      "CI: ['European Pale Lager', 'German Bock', 'American Malt Liquor']\n",
      "CK: ['English Porter', 'English Pale Ale', 'American Lager']\n",
      "MW: ['Vienna Lager', 'European Pale Lager', 'English Sweet / Milk Stout']\n",
      "SZ: ['Vienna Lager', 'European Pale Lager', 'Low Alcohol Beer']\n",
      "TG: ['German Pilsner', 'English Brown Ale', 'European Pale Lager']\n",
      "TO: ['European Pale Lager', 'European Export / Dortmunder', 'European Dark Lager']\n",
      "WS: ['European Pale Lager', 'German Pilsner', 'European Strong Lager']\n",
      "AE: ['Low Alcohol Beer', 'German Helles']\n",
      "CM: ['European Pale Lager', 'European Dark Lager']\n",
      "FM: ['American Amber / Red Lager', 'Berliner Weisse']\n",
      "GM: ['European Pale Lager', 'European Export / Dortmunder']\n",
      "GP: ['European Pale Lager', 'American Lager']\n",
      "HT: ['American Brown Ale', 'American Adjunct Lager']\n",
      "PK: ['European Strong Lager', 'European Pale Lager']\n",
      "RW: ['European Pale Lager', 'European Dark Lager']\n",
      "SC: ['European Pale Lager', 'English Strong Ale']\n",
      "TM: ['European Pale Lager', 'Vienna Lager']\n",
      "VC: ['American Adjunct Lager', 'Foreign / Export Stout']\n",
      "VG: ['American Imperial IPA', 'American Lager']\n",
      "ZM: ['American Adjunct Lager', 'European Pale Lager']\n",
      "AO: ['European Pale Lager']\n",
      "BD: ['European Pale Lager']\n",
      "BF: ['European Pale Lager']\n",
      "BJ: ['European Pale Lager']\n",
      "BW: ['Low Alcohol Beer']\n",
      "CF: ['European Pale Lager']\n",
      "DM: ['American Adjunct Lager']\n",
      "GA: ['European Pale Lager']\n",
      "GN: ['European Pale Lager']\n",
      "GQ: ['European Pale Lager']\n",
      "GW: ['European Pale Lager']\n",
      "IQ: ['European Pale Lager']\n",
      "IR: ['Low Alcohol Beer']\n",
      "LS: ['American Adjunct Lager']\n",
      "LY: ['Low Alcohol Beer']\n",
      "MO: ['European Pale Lager']\n",
      "NE: ['European Pale Lager']\n",
      "PY: ['German Pilsner']\n",
      "SB: ['European Pale Lager']\n",
      "SN: ['European Pale Lager']\n",
      "SS: ['American Adjunct Lager']\n",
      "ST: ['European Pale Lager']\n",
      "TD: ['European Pale Lager']\n",
      "TJ: ['European Pale Lager']\n",
      "YT: ['European Pale Lager']\n"
     ]
    }
   ],
   "source": [
    "# Distinct beer styles produced by each country \n",
    "query = \"\"\"\n",
    "    MATCH (c:COUNTRIES)<-[:IN]-(city:CITIES)<-[:IN]-(b:BREWERIES)-[:BREWED]->(beer:BEERS)-[:HAS_STYLE]->(s:STYLE)\n",
    "    WHERE c.name IS NOT NULL\n",
    "    WITH c.name AS country, COLLECT(DISTINCT s.name) AS styles\n",
    "    RETURN country, styles\n",
    "    ORDER BY size(styles) DESC\n",
    "\"\"\"\n",
    "\n",
    "result = execute_read(driver, query)\n",
    "\n",
    "print(\"\\nSample of Countries and Their Beer Styles:\")\n",
    "for rec in result:\n",
    "    print(f\"{rec['country']}: {rec['styles']}\")"
   ]
  },
  {
   "cell_type": "markdown",
   "metadata": {},
   "source": [
    "<div class=\"alert alert-block alert-warning\">\n",
    "\n",
    "##### **Applying Node Similarity Algorithm**\n",
    "\n",
    "Logic followed (Chatgpt)\n",
    "\n",
    "1. Filters out countries with fewer than 5 beer styles\n",
    "\n",
    "- Only includes countries with at least 5 distinct beer styles in the graph and have c.name different from NULL\n",
    "- This ensures that similarity is only computed for countries with a sufficiently diverse beer production.\n",
    "\n",
    "2. Creates a weighted graph between countries and beer styles\n",
    "\n",
    "- Each country node (COUNTRIES) is connected to its top 5 most produced beer styles (STYLE).\n",
    "- The relationship weight is the number of beers in that country belonging to each style.\n",
    "3. Runs the Node Similarity algorithm using these weighted connections\n",
    "\n",
    "- Instead of just checking if two countries share beer styles, the algorithm considers how much beer is produced in each style.\n",
    "- If two countries produce the same styles but in very different proportions, they will have lower similarity.\n",
    "- If two countries produce the same styles in similar proportions, they will have higher similarity.\n",
    "\n",
    "> **ALTERAR COMMENT**\n",
    "\n",
    "</div>"
   ]
  },
  {
   "cell_type": "markdown",
   "metadata": {},
   "source": [
    "<div class=\"alert alert-block alert-danger\">\n",
    "\n",
    "# **PERGUNTAR PROFª**\n",
    "\n",
    "</div>"
   ]
  },
  {
   "cell_type": "code",
   "execution_count": null,
   "metadata": {},
   "outputs": [],
   "source": [
    "# 5.1. Which two countries are most similiar when it comes to their top five most produced Beer styles?\n",
    "# Step 0 - Clear graph\n",
    "try:\n",
    "    query = \"\"\"CALL gds.graph.drop('beerGraphMostSimilar') YIELD graphName;\"\"\"\n",
    "    result = execute_read(driver, query)\n",
    "    pprint(result)\n",
    "except Exception as e:\n",
    "    pprint(e)"
   ]
  },
  {
   "cell_type": "code",
   "execution_count": 97,
   "metadata": {},
   "outputs": [
    {
     "name": "stdout",
     "output_type": "stream",
     "text": [
      "[<Record nodeQuery=\"MATCH (n)\\n             WHERE head(labels(n)) = 'COUNTRIES' OR head(labels(n)) = 'STYLE'\\n             RETURN id(n) AS id\" relationshipQuery='MATCH (c:COUNTRIES)<-[:IN]-(:CITIES)<-[:IN]-(:BREWERIES)-[:BREWED]->(b:BEERS)-[:HAS_STYLE]->(s:STYLE)\\n             WITH c, s, count(b) AS beerCount\\n             ORDER BY beerCount DESC\\n             WITH c, collect({styleId: id(s), count: beerCount})[0..5] AS topStyles\\n             UNWIND topStyles AS styleData\\n             RETURN id(c) AS source, styleData.styleId AS target' graphName='beerGraphMostSimilar' nodeCount=313 relationshipCount=813 projectMillis=56670>]\n"
     ]
    }
   ],
   "source": [
    "# Step 1 - Create an appropriate graph\n",
    "try:\n",
    "    query = \"\"\"\n",
    "        CALL gds.graph.project.cypher(\n",
    "            'beerGraphMostSimilar',\n",
    "\n",
    "            // Node projection: Include COUNTRIES and STYLE nodes (200 + 113 = 313 nodes)\n",
    "            \"MATCH (n)\n",
    "             WHERE head(labels(n)) = 'COUNTRIES' OR head(labels(n)) = 'STYLE'\n",
    "             RETURN id(n) AS id\",\n",
    "\n",
    "            // Relationships: COUNTRIES to top 5 most produced STYLEs\n",
    "            \"MATCH (c:COUNTRIES)<-[:IN]-(:CITIES)<-[:IN]-(:BREWERIES)-[:BREWED]->(b:BEERS)-[:HAS_STYLE]->(s:STYLE)\n",
    "             WITH c, s, count(b) AS beerCount\n",
    "             ORDER BY beerCount DESC\n",
    "             WITH c, collect({styleId: id(s), count: beerCount})[0..5] AS topStyles\n",
    "             UNWIND topStyles AS styleData\n",
    "             RETURN id(c) AS source, styleData.styleId AS target\"\n",
    "        )\n",
    "    \"\"\"\n",
    "    result = execute_read(driver, query)\n",
    "    pprint(result)\n",
    "except Exception as e:\n",
    "    print(f\"Error projecting graph: {e}\")"
   ]
  },
  {
   "cell_type": "code",
   "execution_count": null,
   "metadata": {},
   "outputs": [],
   "source": [
    "#  graphName='beerGraphMostSimilar' nodeCount=313 relationshipCount=813"
   ]
  },
  {
   "cell_type": "code",
   "execution_count": 99,
   "metadata": {},
   "outputs": [
    {
     "name": "stdout",
     "output_type": "stream",
     "text": [
      "[<Record source=1 target=9494220 count=38566 country='US'>,\n",
      " <Record source=1 target=9494228 count=17929 country='US'>,\n",
      " <Record source=1 target=9494236 count=16417 country='US'>,\n",
      " <Record source=1 target=9494241 count=15182 country='US'>,\n",
      " <Record source=1 target=9494237 count=11416 country='US'>,\n",
      " <Record source=5 target=9494220 count=4107 country='CA'>,\n",
      " <Record source=5 target=9494228 count=2501 country='CA'>,\n",
      " <Record source=5 target=9494241 count=2224 country='CA'>,\n",
      " <Record source=5 target=9494236 count=1655 country='CA'>,\n",
      " <Record source=5 target=9494237 count=1313 country='CA'>]\n"
     ]
    }
   ],
   "source": [
    "# Step 1.2 - Run relationship query\n",
    "try:\n",
    "    query = \"\"\"\n",
    "        MATCH (c:COUNTRIES)<-[:IN]-(:CITIES)<-[:IN]-(:BREWERIES)-[:BREWED]->(b:BEERS)-[:HAS_STYLE]->(s:STYLE)\n",
    "        WITH c, s, count(b) AS beerCount\n",
    "        ORDER BY beerCount DESC\n",
    "        WITH c, collect({styleId: id(s), count: beerCount})[0..5] AS topStyles\n",
    "        UNWIND topStyles AS styleData\n",
    "        RETURN id(c) AS source, styleData.styleId AS target, styleData.count AS count, c.name AS country\n",
    "        LIMIT 10\n",
    "    \"\"\"\n",
    "    result = execute_read(driver, query)\n",
    "    pprint(result)\n",
    "except Exception as e:\n",
    "    print(f\"Error projecting graph: {e}\")"
   ]
  },
  {
   "cell_type": "markdown",
   "metadata": {},
   "source": [
    "<div class=\"alert alert-block alert-warning\">\n",
    "\n",
    "##### **DECIDIR QUAL DOS RESULTADOS POR**\n",
    "\n",
    "</div>"
   ]
  },
  {
   "cell_type": "code",
   "execution_count": null,
   "metadata": {},
   "outputs": [],
   "source": [
    "# Step 1 - Create an Appropriate Graph\n",
    "try:\n",
    "    query = \"\"\"\n",
    "    CALL gds.graph.project.cypher(\n",
    "        'beer_style_graph',\n",
    "\n",
    "        // Node projection: Include COUNTRIES and STYLE nodes (200 + 113 = 313 nodes)\n",
    "        \"MATCH (n)\n",
    "        WHERE head(labels(n)) = 'COUNTRIES' OR head(labels(n)) = 'STYLE'\n",
    "        RETURN id(n) AS id\",\n",
    "\n",
    "        // Relationships: COUNTRIES to top 5 most produced STYLEs (excluding countries with less than 5 styles and without a name)\n",
    "        \"MATCH (c:COUNTRIES)<-[:IN]-(city:CITIES)<-[:IN]-(b:BREWERIES)-[:BREWED]->(beer:BEERS)-[:HAS_STYLE]->(s:STYLE)\n",
    "        WHERE size([(c)<-[:IN]-(:CITIES)<-[:IN]-(:BREWERIES)-[:BREWED]->(:BEERS)-[:HAS_STYLE]->(:STYLE) | 1]) >= 5 and c.name IS NOT NULL\n",
    "        WITH c, s, count(beer) AS beerCount\n",
    "        ORDER BY beerCount DESC\n",
    "        WITH c, collect({styleId: id(s), count: beerCount})[0..5] AS topStyles\n",
    "        UNWIND topStyles AS styleData\n",
    "        RETURN id(c) AS source, styleData.styleId AS target, styleData.count AS weight\"\n",
    "        \n",
    "    )\n",
    "    \"\"\"\n",
    "    result = execute_read(driver, query)\n",
    "    pprint(result)\n",
    "except Exception as e:\n",
    "    print(f\"Error projecting graph: {e}\")"
   ]
  },
  {
   "cell_type": "code",
   "execution_count": null,
   "metadata": {},
   "outputs": [
    {
     "name": "stdout",
     "output_type": "stream",
     "text": [
      "Most similar countries:\n",
      "[<Record Country1='US' Country2='PH' similarity=1.0>,\n",
      " <Record Country1='US' Country2='JM' similarity=1.0>]\n"
     ]
    }
   ],
   "source": [
    "# Step 2 - Run the Node Similarity Algorithm\n",
    "try:\n",
    "    query = \"\"\"\n",
    "        CALL gds.nodeSimilarity.stream('beerGraphMostSimilar')\n",
    "        YIELD node1, node2, similarity\n",
    "        WITH gds.util.asNode(node1).name AS Country1,\n",
    "             gds.util.asNode(node2).name AS Country2, similarity\n",
    "        RETURN Country1, Country2, similarity\n",
    "        ORDER BY similarity DESC\n",
    "        LIMIT 2\n",
    "    \"\"\"\n",
    "    result = execute_read(driver, query)\n",
    "    pprint(result)\n",
    "except Exception as e:\n",
    "    print(f\"Error running similarity: {e}\")"
   ]
  },
  {
   "cell_type": "code",
   "execution_count": null,
   "metadata": {},
   "outputs": [],
   "source": [
    "print(\"\\033[1mMost Similar Countries Based on Beer Styles:\\033[1m\")\n",
    "for rec in result:\n",
    "    print(f\"{rec['Country1']} and {rec['Country2']} - Similarity: {rec['similarity']:.2f}\")"
   ]
  },
  {
   "cell_type": "markdown",
   "metadata": {},
   "source": [
    "#### **Comments**\n",
    "\n",
    "- The similarity between countries based on their top five most produced beer styles can be calculated using the Jaccard Similarity Coefficient. This coefficient measures the similarity between two sets by dividing the size of the intersection by the size of the union of the two sets.\n",
    "\n",
    "**Results**\n",
    "\n"
   ]
  },
  {
   "cell_type": "markdown",
   "metadata": {},
   "source": [
    "---"
   ]
  },
  {
   "cell_type": "markdown",
   "metadata": {},
   "source": [
    "### **5.2. 🍺 Which beer is the most popular when considering the number of users who reviewed it?**"
   ]
  },
  {
   "cell_type": "code",
   "execution_count": 37,
   "metadata": {},
   "outputs": [
    {
     "name": "stdout",
     "output_type": "stream",
     "text": [
      "[<Record graphName='beerGraphMostPopular'>]\n"
     ]
    }
   ],
   "source": [
    "# 5.2. Which beer is the most popular when considering the number of users who reviewed it?\n",
    "\n",
    "# Step 0 - Clear graph\n",
    "try:\n",
    "    query = \"\"\"CALL gds.graph.drop('beerGraphMostPopular') YIELD graphName;\"\"\"\n",
    "    result = execute_read(driver, query)\n",
    "    pprint(result)\n",
    "except Exception as e:\n",
    "    pprint(e)"
   ]
  },
  {
   "cell_type": "code",
   "execution_count": 38,
   "metadata": {},
   "outputs": [
    {
     "name": "stdout",
     "output_type": "stream",
     "text": [
      "[<Record nodeQuery=\"MATCH (n)\\n             WHERE head(labels(n)) = 'BEERS' OR head(labels(n)) = 'USER'\\n             RETURN id(n) AS id\" relationshipQuery='MATCH (b:BEERS)-[:REVIEWED]->(r:REVIEWS)-[:POSTED]->(u:USER)\\n             RETURN id(b) AS source, id(u) AS target' graphName='beerGraphMostPopular' nodeCount=482804 relationshipCount=2537991 projectMillis=554328>]\n"
     ]
    }
   ],
   "source": [
    "# Step 1 - Create an appropriate graph\n",
    "try:\n",
    "    query = \"\"\"\n",
    "        CALL gds.graph.project.cypher(\n",
    "            'beerGraphMostPopular',\n",
    "\n",
    "            // Node projection: Include BEERS and USER nodes\n",
    "            \"MATCH (n)\n",
    "             WHERE head(labels(n)) = 'BEERS' OR head(labels(n)) = 'USER'\n",
    "             RETURN id(n) AS id\",\n",
    "\n",
    "            // Relationships: BEERS to USERs who reviewed them\n",
    "            \"MATCH (b:BEERS)-[:REVIEWED]->(r:REVIEWS)-[:POSTED]->(u:USER)\n",
    "             RETURN id(b) AS source, id(u) AS target\"\n",
    "        )\n",
    "    \"\"\"\n",
    "    result = execute_read(driver, query)\n",
    "    pprint(result)\n",
    "except Exception as e:\n",
    "    print(f\"Error creating graph: {e}\")"
   ]
  },
  {
   "cell_type": "code",
   "execution_count": null,
   "metadata": {},
   "outputs": [],
   "source": [
    "# graphName='beerGraphMostPopular' nodeCount=482804 relationshipCount=2537991"
   ]
  },
  {
   "cell_type": "code",
   "execution_count": 47,
   "metadata": {},
   "outputs": [
    {
     "name": "stdout",
     "output_type": "stream",
     "text": [
      "Verification: Multiple reviews found in original data (expected, but graph should deduplicate):\n",
      "[<Record beerId=41626 userName=None relationshipCount=2>,\n",
      " <Record beerId=64228 userName=None relationshipCount=3>,\n",
      " <Record beerId=55081 userName=None relationshipCount=4>,\n",
      " <Record beerId=35754 userName=None relationshipCount=2>,\n",
      " <Record beerId=33832 userName=None relationshipCount=2>]\n"
     ]
    }
   ],
   "source": [
    "# Step 1.1 - Verify the graph has only 1 relationship between BEERS and USER\n",
    "try:\n",
    "    query = \"\"\"\n",
    "        MATCH (b:BEERS)-[:REVIEWED]->(r:REVIEWS)-[:POSTED]->(u:USER)\n",
    "        WITH b, u, count(r) AS reviewCount\n",
    "        WHERE reviewCount > 1\n",
    "        RETURN b.id AS beerId, u.name AS userName, reviewCount AS relationshipCount\n",
    "        LIMIT 5\n",
    "    \"\"\"\n",
    "    result = execute_read(driver, query)\n",
    "    if not result:\n",
    "        print(\"Verification: Only 1 relationship exists between each BEERS and USER pair in the original data.\")\n",
    "    else:\n",
    "        print(\"Verification: Multiple reviews found in original data (expected, but graph should deduplicate):\")\n",
    "        pprint(result)\n",
    "except Exception as e:\n",
    "    print(f\"Error verifying graph: {e}\")"
   ]
  },
  {
   "cell_type": "code",
   "execution_count": 51,
   "metadata": {},
   "outputs": [
    {
     "name": "stdout",
     "output_type": "stream",
     "text": [
      "Verification: Only 1 relationship exists between each BEERS and USER pair in the original data.\n"
     ]
    }
   ],
   "source": [
    "# Step 1.1 - Verify the graph has only 1 relationship between BEERS and USER\n",
    "try:\n",
    "    query = \"\"\"\n",
    "        MATCH (b:BEERS)-[:REVIEWED]->(r:REVIEWS)-[:POSTED]->(u:USER)\n",
    "        WITH b, u, count(r) AS reviewCount\n",
    "        WHERE reviewCount > 1 AND b.id IS NOT NULL AND u.name IS NOT NULL\n",
    "        RETURN b.id AS beerId, u.name AS userName, reviewCount AS relationshipCount\n",
    "        LIMIT 5\n",
    "    \"\"\"\n",
    "    result = execute_read(driver, query)\n",
    "    if not result:\n",
    "        print(\"Verification: Only 1 relationship exists between each BEERS and USER pair in the original data.\")\n",
    "    else:\n",
    "        print(\"Verification: Multiple reviews found in original data (expected, but graph should deduplicate):\")\n",
    "        pprint(result)\n",
    "except Exception as e:\n",
    "    print(f\"Error verifying graph: {e}\")"
   ]
  },
  {
   "cell_type": "code",
   "execution_count": null,
   "metadata": {},
   "outputs": [
    {
     "name": "stdout",
     "output_type": "stream",
     "text": [
      "[<Record beerId=41626 userName=None relationshipCount=2>,\n",
      " <Record beerId=64228 userName=None relationshipCount=3>,\n",
      " <Record beerId=55081 userName=None relationshipCount=4>,\n",
      " <Record beerId=35754 userName=None relationshipCount=2>,\n",
      " <Record beerId=33832 userName=None relationshipCount=2>]\n"
     ]
    }
   ],
   "source": [
    "# Step 1.2. Not consider more than one review per user for the same beer\n",
    "query = \"\"\"\n",
    "    MATCH (b:BEERS)-[:REVIEWED]->(r:REVIEWS)-[:POSTED]->(u:USER)\n",
    "    WITH DISTINCT b, u, count(r) AS reviewCount\n",
    "    WHERE reviewCount > 1 \n",
    "    RETURN b.id AS beerId, u.name AS userName, reviewCount AS relationshipCount\n",
    "    LIMIT 5\n",
    "\"\"\"\n",
    "result = execute_read(driver, query)\n",
    "pprint(result)"
   ]
  },
  {
   "cell_type": "code",
   "execution_count": null,
   "metadata": {},
   "outputs": [
    {
     "name": "stdout",
     "output_type": "stream",
     "text": [
      "Most popular beer by number of users who reviewed it:\n",
      "[<Record BeerName='Breakfast Stout' NumberOfReviews=4833.0>,\n",
      " <Record BeerName='90 Minute IPA' NumberOfReviews=4394.0>,\n",
      " <Record BeerName='Pliny The Elder' NumberOfReviews=4218.0>,\n",
      " <Record BeerName='Two Hearted Ale' NumberOfReviews=4174.0>,\n",
      " <Record BeerName='Heady Topper' NumberOfReviews=3974.0>,\n",
      " <Record BeerName='Sculpin IPA' NumberOfReviews=3962.0>,\n",
      " <Record BeerName='Hopslam Ale' NumberOfReviews=3844.0>,\n",
      " <Record BeerName='KBS (Kentucky Breakfast Stout)' NumberOfReviews=3711.0>,\n",
      " <Record BeerName='Bourbon County Brand Stout' NumberOfReviews=3615.0>,\n",
      " <Record BeerName='Old Rasputin' NumberOfReviews=3531.0>]\n"
     ]
    }
   ],
   "source": [
    "# Step 2 - Run a centrality algorithm to find the most popular beer\n",
    "# Source: https://neo4j.com/docs/graph-data-science/current/algorithms/degree-centrality/\n",
    "try:\n",
    "    query = \"\"\"\n",
    "        CALL gds.degree.stream('beerGraphMostPopular')\n",
    "        YIELD nodeId, score\n",
    "        WITH gds.util.asNode(nodeId).name AS BeerName, score AS NumberOfReviews\n",
    "        RETURN BeerName, NumberOfReviews\n",
    "        ORDER BY NumberOfReviews DESC\n",
    "        LIMIT 10\n",
    "    \"\"\"\n",
    "    result = execute_read(driver, query)\n",
    "    print(\"Most popular beer by number of users who reviewed it:\")\n",
    "    pprint(result)\n",
    "except Exception as e:\n",
    "    print(f\"Error running centrality: {e}\")"
   ]
  },
  {
   "cell_type": "code",
   "execution_count": 43,
   "metadata": {},
   "outputs": [
    {
     "name": "stdout",
     "output_type": "stream",
     "text": [
      "Most popular beer by number of users who reviewed it:\n",
      "[<Record BeerName='IPA' NumberOfUsers=6884>,\n",
      " <Record BeerName='Breakfast Stout' NumberOfUsers=4930>,\n",
      " <Record BeerName='Porter' NumberOfUsers=4737>,\n",
      " <Record BeerName='90 Minute IPA' NumberOfUsers=4394>,\n",
      " <Record BeerName='Imperial Stout' NumberOfUsers=4263>]\n"
     ]
    }
   ],
   "source": [
    "# Query to find the most popular beer by the number of users who reviewed it\n",
    "query = \"\"\"\n",
    "    MATCH (b:BEERS)-[:REVIEWED]->(r:REVIEWS)-[:POSTED]->(u:USER)\n",
    "    RETURN b.name AS BeerName, count(DISTINCT u) AS NumberOfUsers\n",
    "    ORDER BY NumberOfUsers DESC\n",
    "    LIMIT 5\n",
    "\"\"\"\n",
    "result = execute_read(driver, query)\n",
    "print(\"Most popular beer by number of users who reviewed it:\")\n",
    "pprint(result)"
   ]
  },
  {
   "cell_type": "code",
   "execution_count": null,
   "metadata": {},
   "outputs": [
    {
     "name": "stdout",
     "output_type": "stream",
     "text": [
      "Most popular beer by number of users who reviewed it:\n",
      "[<Record beerId=52211 userName='bluejacket74' reviewCount=1>,\n",
      " <Record beerId=86149 userName='bluejacket74' reviewCount=1>,\n",
      " <Record beerId=104855 userName='bluejacket74' reviewCount=1>,\n",
      " <Record beerId=143877 userName='bluejacket74' reviewCount=1>,\n",
      " <Record beerId=61128 userName='bluejacket74' reviewCount=1>]\n"
     ]
    }
   ],
   "source": [
    "# Query to find the most popular beer by the number of users who reviewed it\n",
    "query = \"\"\"\n",
    "    MATCH (b:BEERS)-[:REVIEWED]->(r:REVIEWS)-[:POSTED]->(u:USER)\n",
    "    WITH DISTINCT b, u\n",
    "    WHERE b.id IS NOT NULL AND u.name IS NOT NULL\n",
    "    RETURN b.id AS beerId, u.name AS userName, count(u) AS reviewCount\n",
    "    ORDER BY reviewCount DESC\n",
    "    LIMIT 5\n",
    "\"\"\"\n",
    "result = execute_read(driver, query)\n",
    "print(\"Most popular beer by number of users who reviewed it:\")\n",
    "pprint(result)"
   ]
  },
  {
   "cell_type": "markdown",
   "metadata": {},
   "source": [
    "<div class=\"alert alert-block alert-danger\">\n",
    "\n",
    "## **🚨NÃO DEU IGUAL À QUERY SIMPLES ACIMA! 🚨**"
   ]
  },
  {
   "cell_type": "markdown",
   "metadata": {},
   "source": [
    "---"
   ]
  },
  {
   "cell_type": "markdown",
   "metadata": {},
   "source": [
    "### **5.4. 📝 Which user is the most influential when it comes to reviews of distinct beers by style?**"
   ]
  },
  {
   "cell_type": "code",
   "execution_count": 103,
   "metadata": {},
   "outputs": [
    {
     "name": "stdout",
     "output_type": "stream",
     "text": [
      "ClientError('Failed to invoke procedure `gds.graph.drop`: Caused by: java.util.NoSuchElementException: Graph with name `beerReviewGraphMostInfluential` does not exist on database `neo4j`. It might exist on another database.')\n"
     ]
    }
   ],
   "source": [
    "# Step 0 - Clear graph\n",
    "try:\n",
    "    query = \"\"\"CALL gds.graph.drop('beerReviewGraphMostInfluential') YIELD graphName;\"\"\"\n",
    "    result = execute_read(driver, query)\n",
    "    pprint(result)\n",
    "except Exception as e:\n",
    "    pprint(e)"
   ]
  },
  {
   "cell_type": "code",
   "execution_count": 104,
   "metadata": {},
   "outputs": [
    {
     "name": "stdout",
     "output_type": "stream",
     "text": [
      "[<Record NumberOfStyles=113 NumberOfUsers=106645 TotalDistinctBeers=2537753>]\n"
     ]
    }
   ],
   "source": [
    "# Number of distinct beers reviewed by users\n",
    "query = \"\"\"\n",
    "    MATCH (u:USER)<-[:POSTED]-(:REVIEWS)<-[:REVIEWED]-(b:BEERS)-[:HAS_STYLE]->(s:STYLE)\n",
    "    WITH u, s, count(DISTINCT b) AS distinctBeers\n",
    "    RETURN count(DISTINCT s) AS NumberOfStyles, count(DISTINCT u) AS NumberOfUsers, sum(distinctBeers) AS TotalDistinctBeers\n",
    "\"\"\"\n",
    "result = execute_read(driver, query)\n",
    "pprint(result)"
   ]
  },
  {
   "cell_type": "code",
   "execution_count": 105,
   "metadata": {},
   "outputs": [
    {
     "name": "stdout",
     "output_type": "stream",
     "text": [
      "[<Record nodeQuery='MATCH (n) WHERE n:USER OR n:STYLE RETURN id(n) AS id' relationshipQuery='MATCH (u:USER)<-[:POSTED]-(:REVIEWS)<-[:REVIEWED]-(b:BEERS)-[:HAS_STYLE]->(s:STYLE)\\n             WITH u, s, count(DISTINCT b) AS distinctBeers\\n             RETURN id(u) AS source, id(s) AS target, distinctBeers AS weight' graphName='beerReviewGraphMostInfluential' nodeCount=124048 relationshipCount=893394 projectMillis=112683>]\n"
     ]
    }
   ],
   "source": [
    "# Step 1 - Create the Graph\n",
    "try:\n",
    "    query = \"\"\"\n",
    "        CALL gds.graph.project.cypher(\n",
    "            'beerReviewGraphMostInfluential',\n",
    "            \n",
    "            // Nodes: USER and STYLE\n",
    "            'MATCH (n) WHERE n:USER OR n:STYLE RETURN id(n) AS id',\n",
    "            \n",
    "             // Relationships: USER to STYLE via distinct beers reviewed\n",
    "            'MATCH (u:USER)<-[:POSTED]-(:REVIEWS)<-[:REVIEWED]-(b:BEERS)-[:HAS_STYLE]->(s:STYLE)\n",
    "             WITH u, s, count(DISTINCT b) AS distinctBeers\n",
    "             RETURN id(u) AS source, id(s) AS target, distinctBeers AS weight'\n",
    "        )\n",
    "    \"\"\"\n",
    "    result = execute_read(driver, query)\n",
    "    pprint(result)\n",
    "except Exception as e:\n",
    "    pprint(e)"
   ]
  },
  {
   "cell_type": "code",
   "execution_count": null,
   "metadata": {},
   "outputs": [],
   "source": [
    "# graphName='beerReviewGraphMostInfluential' nodeCount=124_048 relationshipCount=893_394"
   ]
  },
  {
   "cell_type": "code",
   "execution_count": 41,
   "metadata": {},
   "outputs": [
    {
     "name": "stdout",
     "output_type": "stream",
     "text": [
      "[<Record source=9494459 target=9494220 weight=387>,\n",
      " <Record source=9494470 target=9494220 weight=382>,\n",
      " <Record source=9495389 target=9494220 weight=379>,\n",
      " <Record source=9495292 target=9494220 weight=367>,\n",
      " <Record source=9494633 target=9494220 weight=360>,\n",
      " <Record source=9494459 target=9494241 weight=352>,\n",
      " <Record source=9495151 target=9494220 weight=342>,\n",
      " <Record source=9494459 target=9494237 weight=337>,\n",
      " <Record source=9494682 target=9494220 weight=326>,\n",
      " <Record source=9494767 target=9494220 weight=322>]\n"
     ]
    }
   ],
   "source": [
    "# Query to calculate user based on the number of distinct beers reviewed by style\n",
    "query = \"\"\"\n",
    "    MATCH (u:USER)<-[:POSTED]-(:REVIEWS)<-[:REVIEWED]-(b:BEERS)-[:HAS_STYLE]->(s:STYLE)\n",
    "    WITH u, s, count(DISTINCT b) AS distinctBeers\n",
    "    RETURN id(u) AS source, id(s) AS target, distinctBeers AS weight\n",
    "    ORDER BY weight DESC\n",
    "    LIMIT 10\n",
    "\"\"\"\n",
    "result = execute_read(driver, query)\n",
    "pprint(result)"
   ]
  },
  {
   "cell_type": "code",
   "execution_count": 107,
   "metadata": {},
   "outputs": [
    {
     "name": "stdout",
     "output_type": "stream",
     "text": [
      "Most influential users by beer reviews across styles:\n",
      "[<Record username='American IPA' score=1837.8293276018699>,\n",
      " <Record username='American Imperial IPA' score=1337.6323127285552>,\n",
      " <Record username='American Imperial Stout' score=750.5777123781654>,\n",
      " <Record username='American Pale Ale (APA)' score=631.3762677718211>,\n",
      " <Record username='Russian Imperial Stout' score=356.3576606152439>,\n",
      " <Record username='American Porter' score=302.40946886296024>,\n",
      " <Record username='Fruit and Field Beer' score=300.3043547353978>,\n",
      " <Record username='Belgian Saison' score=296.9869531999581>,\n",
      " <Record username='New England IPA' score=284.96372700942555>,\n",
      " <Record username='American Amber / Red Ale' score=268.0152379580384>]\n"
     ]
    }
   ],
   "source": [
    "# Step 2: Run the PageRank Algorithm\n",
    "try:\n",
    "    query = \"\"\"\n",
    "        CALL gds.pageRank.stream('beerReviewGraphMostInfluential', {relationshipWeightProperty: 'weight'})\n",
    "        YIELD nodeId, score\n",
    "        WITH gds.util.asNode(nodeId).name AS username, score\n",
    "        RETURN username, score\n",
    "        ORDER BY score DESC\n",
    "        LIMIT 10\n",
    "    \"\"\"\n",
    "    result = execute_read(driver, query)\n",
    "    print(\"Most influential users by beer reviews across styles:\")\n",
    "    pprint(result)\n",
    "except Exception as e:\n",
    "    pprint(e)"
   ]
  },
  {
   "cell_type": "markdown",
   "metadata": {},
   "source": [
    "<div class=\"alert alert-block alert-danger\">\n",
    "\n",
    "# **PERGUNTAR PROFª**\n",
    "\n",
    "</div>"
   ]
  },
  {
   "cell_type": "markdown",
   "metadata": {},
   "source": [
    "#### **Comments**"
   ]
  },
  {
   "cell_type": "markdown",
   "metadata": {},
   "source": [
    "---"
   ]
  },
  {
   "cell_type": "markdown",
   "metadata": {},
   "source": [
    "## **🔗 Bibliography/References**\n",
    "\n",
    "**[[1]](https://www.hopsandhopes.nl/en/beers/snake-venom)** Hops & Hopes. (2025). Snake Venom. Nederlands; Hops&Hopes. https://www.hopsandhopes.nl/en/beers/snake-venom"
   ]
  }
 ],
 "metadata": {
  "hide_input": false,
  "kernelspec": {
   "display_name": "bdmm",
   "language": "python",
   "name": "python3"
  },
  "language_info": {
   "codemirror_mode": {
    "name": "ipython",
    "version": 3
   },
   "file_extension": ".py",
   "mimetype": "text/x-python",
   "name": "python",
   "nbconvert_exporter": "python",
   "pygments_lexer": "ipython3",
   "version": "3.12.9"
  },
  "toc": {
   "base_numbering": 1,
   "nav_menu": {},
   "number_sections": true,
   "sideBar": true,
   "skip_h1_title": false,
   "title_cell": "Table of Contents",
   "title_sidebar": "Contents",
   "toc_cell": false,
   "toc_position": {},
   "toc_section_display": true,
   "toc_window_display": false
  },
  "varInspector": {
   "cols": {
    "lenName": 16,
    "lenType": 16,
    "lenVar": 40
   },
   "kernels_config": {
    "python": {
     "delete_cmd_postfix": "",
     "delete_cmd_prefix": "del ",
     "library": "var_list.py",
     "varRefreshCmd": "print(var_dic_list())"
    },
    "r": {
     "delete_cmd_postfix": ") ",
     "delete_cmd_prefix": "rm(",
     "library": "var_list.r",
     "varRefreshCmd": "cat(var_dic_list()) "
    }
   },
   "types_to_exclude": [
    "module",
    "function",
    "builtin_function_or_method",
    "instance",
    "_Feature"
   ],
   "window_display": false
  }
 },
 "nbformat": 4,
 "nbformat_minor": 4
}
