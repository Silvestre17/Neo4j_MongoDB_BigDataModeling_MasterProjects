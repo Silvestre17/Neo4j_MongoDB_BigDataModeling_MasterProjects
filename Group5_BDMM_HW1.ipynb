{
 "cells": [
  {
   "cell_type": "markdown",
   "metadata": {},
   "source": [
    "# **Big Data Modeling and Management Assigment - Homework 1**"
   ]
  },
  {
   "cell_type": "markdown",
   "metadata": {},
   "source": [
    "# **Submission**\n",
    "\n",
    "GROUP NUMBER: **5**\n",
    "\n",
    "GROUP MEMBERS:\n",
    "\n",
    "|STUDENT NAME|STUDENT NUMBER|\n",
    "|:---:|:---:|\n",
    "|Alexandre Gonçalves|20240738|\n",
    "|André Silvestre|20240502|\n",
    "|Filipa Pereira|20240509|\n",
    "|João Henriques|20240499|\n",
    "|Umeima Mahomed|20240543|"
   ]
  },
  {
   "cell_type": "markdown",
   "metadata": {},
   "source": [
    "## **🍺 The Beer project  🍺** \n",
    "\n",
    "As it was shown in classes, graph databases are a natural way of navegating related information. For this first project we will be taking a graph database to analyse beer and breweries!   \n",
    "\n",
    "The project datasets are based on [kaggle](https://www.kaggle.com/ehallmar/beers-breweries-and-beer-reviews), released by Evan Hallmark. \n",
    "\n",
    "### **Problem description**\n",
    "\n",
    "Imagine you are working in the Data Management department of Analytics company.\n",
    "Explore the database via python neo4j connector and/or the graphical tool in the NEO4J webpage. Answer the questions while adjusting the database to meet the needs of your colleagues.\n",
    "Please record and keep track of your database changes, and submit the file with all cells run and with the output shown.\n",
    "\n",
    "### **Questions**\n",
    "\n",
    "1. Explore the database: get familiar with current schema, elements and other important database parameters. [1 point]\n",
    "2. Adjust the database and mention reasoning behind: e.g. clean errors, remove redundancies, adjust schema as necessary. Visualize the final version of database schema. [4 points]\n",
    "3. Analytics department requires the following information for the biweekly reporting: [5 points]\n",
    "    1. How many reviews has the beer with the most reviews?\n",
    "    2. Which three users wrote the most reviews about beers?\n",
    "    3. Find all beers that are described with following words: 'fruit', 'complex', 'nutty', 'dark'.\n",
    "    4. Which top three breweries produce the largest variety of beer styles?\n",
    "    5. Which country produces the most beer styles?\n",
    "4. Market Analysis department in your company accesses and updates the trends data on the daily basis. Given that, consider how you need to optimize the database and its performance so that the following queries are efficient. Measure performance to communicate your improvements using PROFILE before final query. Answer the following: [4 points]\n",
    "    1. Using ABV score, find five strongest beers, display their ABV score and the corresponding brewery? Keep in mind that the strongest known beer is Snake Venom, and deal with the error entries in the database.\n",
    "    2. Using the answer from question 2, find the top 5 distict beer styles with the highest average score of smell + feel that were reviewed by the third most productive user. Keep in mind that cleaning the database earlier should ensure correct results.\n",
    "5. Answer **two out of four** of the following questions using Graph Algorithms (gds): [NB: make sure to clear the graph before using it again] For the quarterly report, Analytics department the follownig information. [6 points]\n",
    "    1. Which two countries are most similiar when it comes to their top five most produced Beer styles?\n",
    "    2. Which beer is the most popular when considering the number of users who reviewed it? \n",
    "    3. Users are connected together by their reviews of beers, taking into consideration the \"smell\" score they assign as a weight, how many communities are formed from these relationships? How many users are in the three largest communities? \n",
    "    4. Which user is the most influential when it comes to reviews of distinct beers by style?\n",
    " \n",
    "### **Groups** \n",
    "\n",
    "Groups should have 4 people maximum. Please mark which group you are here: https://shorturl.at/zE0QP \n",
    "\n",
    "### **Submission**      \n",
    "\n",
    "The code used to produce the results and to-the-point explations should be uploaded to moodle. They should have a clear reference to the group, either on the file name or on the document itself. Preferably one Jupyter notebook per group.\n",
    "\n",
    "Delivery date: Until the **midnight of March 18, 2025**\n",
    "\n",
    "### **Evaluation**   \n",
    "\n",
    "This will be 20% of the final grade.   \n",
    "Each solution will be evaluated on 2 components: correctness of results and efficiency of the query (based on database schema).  \n",
    "All code will go through plagiarism automated checks. Groups with the same code will undergo investigation."
   ]
  },
  {
   "cell_type": "markdown",
   "metadata": {},
   "source": [
    "## **Loading the Database**\n",
    "\n",
    "Be sure that you **don't have** the neo4j docker container from the classes running (you can Stop it in the desktop app or with the command \"`docker stop Neo4JLab`\")\n",
    "\n",
    "\n",
    "The default container does not have any data whatsoever, we will have to load a database into our docker image:\n",
    "- Download and unzip the `Neo4JHWData` file provided in Moodle.\n",
    "- Copy the path of the `Neo4JHWData` folder of the unziped file, e.g. `C:/PATH/Neo4JHWData/data`.\n",
    "- Download and unzip the `Neo4JPlugins` file provided in Moodle.\n",
    "- Copy the path of the `Neo4JPlugins` folder of the unziped file, e.g. `C:/PATH/Neo4Jplugins`.\n",
    "- Change the code below accordingly. As you might have noticed, you do not have a user called `nunoa`, please use the appropriate path that you got from the previous step. Be sure that you have a neo4j docker container running: \\\n",
    "\n",
    "`docker run --name Neo4JHW2025 -p 7474:7474 -p 7687:7687 -d -v \"c:\\PATH\\Neo4JPlugins\":/plugins -v \"c:\\PATH\\Neo4JHWData\\data\":/data --env NEO4J_AUTH=neo4j/test --env NEO4J_dbms_connector_https_advertised__address=\"localhost:7473\" --env NEO4J_dbms_connector_http_advertised__address=\"localhost:7474\" --env NEO4J_dbms_connector_bolt_advertised__address=\"localhost:7687\" --env NEO4J_dbms_security_procedures_unrestricted=gds.* --env NEO4J_dbms_security_procedures_allowlist=\"gds.*\" neo4j:4.4.5`\n",
    "\n",
    "- Since Neo4j is trying to recognize a new database folder, this might take a bit (let's say 3 minutes), so don't worry.\n",
    "\n",
    "If the neo4j browser fails to load gds plugins, run the following in the Command Prompt before creating the container again:\n",
    "`// Remove stopped containers //\n",
    "docker container prune -f\n",
    "// Remove unused images //\n",
    "docker image prune -a -f\n",
    "// Remove unused volumes //\n",
    "docker volume prune -f\n",
    "// Remove unused networks //\n",
    "docker network prune -f\n",
    "// Remove all unused resources in one command //\n",
    "docker system prune -a -f`"
   ]
  },
  {
   "cell_type": "code",
   "execution_count": 1,
   "metadata": {
    "ExecuteTime": {
     "end_time": "2024-02-29T21:45:57.447501Z",
     "start_time": "2024-02-29T21:45:56.625014Z"
    }
   },
   "outputs": [],
   "source": [
    "from neo4j import GraphDatabase\n",
    "from pprint import pprint\n",
    "\n",
    "# Extra\n",
    "import pandas as pd               # For data manipulation\n",
    "import numpy as np                # For numerical operations\n",
    "from tqdm import tqdm             # Progress bar\n",
    "import time                       # For calculating time of execution\n",
    "\n",
    "# Disable FutureWarning messages\n",
    "import warnings\n",
    "warnings.simplefilter(action='ignore', category=FutureWarning)"
   ]
  },
  {
   "cell_type": "code",
   "execution_count": 2,
   "metadata": {
    "ExecuteTime": {
     "end_time": "2024-02-29T21:46:09.652569Z",
     "start_time": "2024-02-29T21:46:09.648166Z"
    }
   },
   "outputs": [],
   "source": [
    "NEO4J_URI=\"neo4j://localhost:7687\"\n",
    "NEO4J_USERNAME=\"neo4j\"\n",
    "NEO4J_PASSWORD=\"test\""
   ]
  },
  {
   "cell_type": "code",
   "execution_count": 3,
   "metadata": {
    "ExecuteTime": {
     "end_time": "2024-02-29T21:46:10.939324Z",
     "start_time": "2024-02-29T21:46:10.934651Z"
    }
   },
   "outputs": [],
   "source": [
    "driver = GraphDatabase.driver(NEO4J_URI, auth=(NEO4J_USERNAME, NEO4J_PASSWORD), )"
   ]
  },
  {
   "cell_type": "code",
   "execution_count": 4,
   "metadata": {
    "ExecuteTime": {
     "end_time": "2024-02-29T21:46:14.291655Z",
     "start_time": "2024-02-29T21:46:14.286865Z"
    }
   },
   "outputs": [],
   "source": [
    "def execute_read(driver, query):    \n",
    "    with driver.session(database=\"neo4j\") as session:\n",
    "        result = session.execute_read(lambda tx, query: list(tx.run(query)), query)\n",
    "    return result"
   ]
  },
  {
   "cell_type": "code",
   "execution_count": 5,
   "metadata": {},
   "outputs": [],
   "source": [
    "def execute_write(driver, query):\n",
    "    with driver.session(database=\"neo4j\") as session:\n",
    "        # Write transactions allow the driver to handle retries and transient errors\n",
    "        result = session.execute_write(lambda tx, query: list(tx.run(query)), query)\n",
    "    return result"
   ]
  },
  {
   "cell_type": "markdown",
   "metadata": {},
   "source": [
    "---"
   ]
  },
  {
   "cell_type": "markdown",
   "metadata": {},
   "source": [
    "# **👨‍💻 Answering the questions**\n",
    "\n",
    "## **1. Explore the database**"
   ]
  },
  {
   "cell_type": "code",
   "execution_count": 6,
   "metadata": {},
   "outputs": [
    {
     "name": "stdout",
     "output_type": "stream",
     "text": [
      "Labels of all nodes in the database:\n",
      "[<Record label='COUNTRIES'>,\n",
      " <Record label='CITIES'>,\n",
      " <Record label='BREWERIES'>,\n",
      " <Record label='BEERS'>,\n",
      " <Record label='REVIEWS'>,\n",
      " <Record label='STYLE'>,\n",
      " <Record label='USER'>]\n"
     ]
    }
   ],
   "source": [
    "# 1. Explore the database: get familiar with current schema, elements and other important database parameters. [1 point]\n",
    "\n",
    "# 1.1. Get the labels of all nodes in the database\n",
    "query = \"\"\"\n",
    "    CALL db.labels()\n",
    "\"\"\"\n",
    "result = execute_read(driver, query)\n",
    "print(\"Labels of all nodes in the database:\")\n",
    "pprint(result)"
   ]
  },
  {
   "cell_type": "markdown",
   "metadata": {},
   "source": [
    "- This query retrieves all distinct labels used across the nodes in the database. The output shows the different categories of entities represented in our graph (e.g., **`COUNTRIES`**, **`BEERS`**, **`USER`**, etc)."
   ]
  },
  {
   "cell_type": "code",
   "execution_count": 7,
   "metadata": {},
   "outputs": [
    {
     "name": "stdout",
     "output_type": "stream",
     "text": [
      "Relationship types in the database:\n",
      "[<Record relationshipType='REVIEWED'>,\n",
      " <Record relationshipType='BREWED'>,\n",
      " <Record relationshipType='IN'>,\n",
      " <Record relationshipType='HAS_STYLE'>,\n",
      " <Record relationshipType='POSTED'>]\n"
     ]
    }
   ],
   "source": [
    "# 1.2. Get the relationship types in the database\n",
    "query = \"\"\"\n",
    "    CALL db.relationshipTypes()\n",
    "\"\"\"\n",
    "result = execute_read(driver, query)\n",
    "print(\"Relationship types in the database:\")\n",
    "pprint(result)"
   ]
  },
  {
   "cell_type": "markdown",
   "metadata": {},
   "source": [
    "- This query identifies all the different relationship types present in the graph. Knowing the relationship types helps understand how the entities are connected, giving an overview of the graph's structure (e.g., **`REVIEWED`**, **`BREWED`**, **`HAS_STYLE`**, etc)."
   ]
  },
  {
   "cell_type": "code",
   "execution_count": 8,
   "metadata": {},
   "outputs": [
    {
     "name": "stdout",
     "output_type": "stream",
     "text": [
      "[<Record count=3215489>]\n"
     ]
    }
   ],
   "source": [
    "# 1.3. Get the number of nodes in the database\n",
    "query = \"\"\"\n",
    "    MATCH (n)\n",
    "    RETURN count(n) as count\n",
    "\"\"\"\n",
    "result = execute_read(driver, query)\n",
    "pprint(result)"
   ]
  },
  {
   "cell_type": "code",
   "execution_count": 9,
   "metadata": {},
   "outputs": [
    {
     "name": "stdout",
     "output_type": "stream",
     "text": [
      "[<Record count=5856205>]\n"
     ]
    }
   ],
   "source": [
    "# 1.4. Get the number of relationships in the database\n",
    "query = \"\"\"\n",
    "    MATCH ()-[r]->()\n",
    "    RETURN count(r) as count\n",
    "\"\"\"\n",
    "result = execute_read(driver, query)\n",
    "pprint(result)"
   ]
  },
  {
   "cell_type": "markdown",
   "metadata": {},
   "source": [
    "- In total we have $3\\;215\\;489$ nodes and $5\\;856\\;205$ relationships."
   ]
  },
  {
   "cell_type": "code",
   "execution_count": 10,
   "metadata": {},
   "outputs": [
    {
     "name": "stdout",
     "output_type": "stream",
     "text": [
      "[<Record label=['COUNTRIES'] count=400>,\n",
      " <Record label=['CITIES'] count=23330>,\n",
      " <Record label=['BREWERIES'] count=100694>,\n",
      " <Record label=['BEERS'] count=417746>,\n",
      " <Record label=['REVIEWS'] count=2549252>,\n",
      " <Record label=['STYLE'] count=113>,\n",
      " <Record label=['USER'] count=123935>]\n"
     ]
    }
   ],
   "source": [
    "# 1.5. Get the number of nodes per label in the database\n",
    "query = \"\"\"\n",
    "    MATCH (n)\n",
    "    RETURN labels(n) as label, count(n) as count\n",
    "\"\"\"\n",
    "result = execute_read(driver, query)\n",
    "pprint(result)"
   ]
  },
  {
   "cell_type": "markdown",
   "metadata": {},
   "source": [
    "- With this query we can see that we have $7$ different types of nodes in the database: **`COUNTRIES`** with $400$ nodes, **`CITIES`** with $23\\;330$ nodes, **`BREWERIES`** with $100\\;694$ nodes, **`BEERS`** with $417\\;746$ nodes, **`REVIEWS`** with $2\\;549\\;252$ nodes, **`STYLE`** with $113$ nodes and **`USER`** with $123\\;935$ nodes."
   ]
  },
  {
   "cell_type": "code",
   "execution_count": 11,
   "metadata": {},
   "outputs": [
    {
     "name": "stdout",
     "output_type": "stream",
     "text": [
      "[<Record type='POSTED' NumberOfRelationships=2538044>,\n",
      " <Record type='REVIEWED' NumberOfRelationships=2537991>,\n",
      " <Record type='BREWED' NumberOfRelationships=358873>,\n",
      " <Record type='HAS_STYLE' NumberOfRelationships=358873>,\n",
      " <Record type='IN' NumberOfRelationships=62424>]\n"
     ]
    }
   ],
   "source": [
    "# 1.6. Get the number of relationships per type in the database\n",
    "query = \"\"\"\n",
    "    MATCH ()-[r]->()\n",
    "    RETURN type(r) as type, count(r) as NumberOfRelationships\n",
    "    ORDER BY NumberOfRelationships DESC\n",
    "\"\"\"\n",
    "result = execute_read(driver, query)\n",
    "pprint(result)"
   ]
  },
  {
   "cell_type": "markdown",
   "metadata": {},
   "source": [
    "- We also have $5$ different types of relationships in the database: **`POSTED`** with $2\\;538\\;044$ relationships, **`REVIEWED`** with $2\\;537\\;991$ relationships, **`BREWED`** with $358\\;873$ relationships, **`HAS_STYLE`** with $358\\;873$ relationships and **`IN`** with $62\\;424$ relationships."
   ]
  },
  {
   "cell_type": "code",
   "execution_count": 12,
   "metadata": {},
   "outputs": [
    {
     "name": "stdout",
     "output_type": "stream",
     "text": [
      "Properties and types for each node label:\n",
      "Node Label: :`BEERS`        | Property: abv             | Type(s): String               | Mandatory: True\n",
      "Node Label: :`BEERS`        | Property: availability    | Type(s): String               | Mandatory: True\n",
      "Node Label: :`BEERS`        | Property: brewery_id      | Type(s): String               | Mandatory: True\n",
      "Node Label: :`BEERS`        | Property: id              | Type(s): String               | Mandatory: True\n",
      "Node Label: :`BEERS`        | Property: name            | Type(s): String               | Mandatory: True\n",
      "Node Label: :`BEERS`        | Property: notes           | Type(s): String               | Mandatory: True\n",
      "Node Label: :`BEERS`        | Property: retired         | Type(s): String               | Mandatory: True\n",
      "Node Label: :`BEERS`        | Property: state           | Type(s): String               | Mandatory: True\n",
      "Node Label: :`BREWERIES`    | Property: id              | Type(s): String               | Mandatory: True\n",
      "Node Label: :`BREWERIES`    | Property: name            | Type(s): String               | Mandatory: True\n",
      "Node Label: :`BREWERIES`    | Property: notes           | Type(s): String               | Mandatory: True\n",
      "Node Label: :`BREWERIES`    | Property: state           | Type(s): String               | Mandatory: True\n",
      "Node Label: :`BREWERIES`    | Property: types           | Type(s): String               | Mandatory: True\n",
      "Node Label: :`CITIES`       | Property: name            | Type(s): String               | Mandatory: True\n",
      "Node Label: :`COUNTRIES`    | Property: name            | Type(s): String               | Mandatory: True\n",
      "Node Label: :`REVIEWS`      | Property: beer_id         | Type(s): String               | Mandatory: True\n",
      "Node Label: :`REVIEWS`      | Property: date            | Type(s): String               | Mandatory: True\n",
      "Node Label: :`REVIEWS`      | Property: feel            | Type(s): String               | Mandatory: True\n",
      "Node Label: :`REVIEWS`      | Property: id              | Type(s): String               | Mandatory: True\n",
      "Node Label: :`REVIEWS`      | Property: look            | Type(s): String               | Mandatory: True\n",
      "Node Label: :`REVIEWS`      | Property: overall         | Type(s): String               | Mandatory: True\n",
      "Node Label: :`REVIEWS`      | Property: score           | Type(s): String               | Mandatory: True\n",
      "Node Label: :`REVIEWS`      | Property: smell           | Type(s): String               | Mandatory: True\n",
      "Node Label: :`REVIEWS`      | Property: taste           | Type(s): String               | Mandatory: True\n",
      "Node Label: :`REVIEWS`      | Property: text            | Type(s): String               | Mandatory: True\n",
      "Node Label: :`STYLE`        | Property: name            | Type(s): String               | Mandatory: True\n",
      "Node Label: :`USER`         | Property: name            | Type(s): String               | Mandatory: True\n"
     ]
    }
   ],
   "source": [
    "# 1.7. For each node label, get a list of properties and their types\n",
    "\n",
    "# This query uses the built-in procedure db.schema.nodeTypeProperties() available in Neo4j 4.x+\n",
    "# It returns, for each node label (nodeType), each property (propertyName) and its type(s) (propertyTypes)\n",
    "# Source: https://neo4j.com/docs/operations-manual/current/procedures/#procedure_db_schema_nodetypeproperties\n",
    "query = \"\"\"\n",
    "    CALL db.schema.nodeTypeProperties() YIELD nodeType, propertyName, propertyTypes, mandatory\n",
    "    RETURN nodeType, propertyName, propertyTypes, mandatory\n",
    "    ORDER BY nodeType, propertyName\n",
    "\"\"\"\n",
    "result = execute_read(driver, query)\n",
    "print(\"Properties and types for each node label:\")\n",
    "for rec in result:\n",
    "    print(f\"Node Label: {rec['nodeType']:<15} | Property: {rec['propertyName']:<15} | Type(s): {', '.join(rec['propertyTypes']):<20} | Mandatory: {rec['mandatory']}\")"
   ]
  },
  {
   "cell_type": "code",
   "execution_count": 13,
   "metadata": {},
   "outputs": [
    {
     "name": "stdout",
     "output_type": "stream",
     "text": [
      "Example of 1 node for each label:\n",
      "Node Label: ['COUNTRIES'] | Node: <Node element_id='0' labels=frozenset({'COUNTRIES'}) properties={'name': 'BE'}>\n",
      "Node Label: ['CITIES'] | Node: <Node element_id='200' labels=frozenset({'CITIES'}) properties={'name': 'Erpe-Mere'}>\n",
      "Node Label: ['BREWERIES'] | Node: <Node element_id='11865' labels=frozenset({'BREWERIES'}) properties={'types': 'Brewery', 'notes': 'No notes at this time.', 'name': 'Brouwerij Danny', 'id': '19730', 'state': 'nan'}>\n",
      "Node Label: ['BEERS'] | Node: <Node element_id='62212' labels=frozenset({'BEERS'}) properties={'notes': 'No notes at this time.', 'abv': '7.3', 'name': 'Olde Cogitator', 'retired': 'f', 'state': 'CA', 'id': '202522', 'availability': ' Rotating', 'brewery_id': '2199'}>\n",
      "Node Label: ['REVIEWS'] | Node: <Node element_id='421086' labels=frozenset({'REVIEWS'}) properties={'date': '2017-12-21', 'score': '4.5', 'taste': '4.5', 'feel': '4.5', 'overall': '4.5', 'beer_id': '125646', 'text': '\\xa0\\xa0', 'id': '1', 'smell': '4.5', 'look': '4.5'}>\n",
      "Node Label: ['STYLE'] | Node: <Node element_id='9494213' labels=frozenset({'STYLE'}) properties={'name': 'English Oatmeal Stout'}>\n",
      "Node Label: ['USER'] | Node: <Node element_id='9494326' labels=frozenset({'USER'}) properties={'name': 'bluejacket74'}>\n"
     ]
    }
   ],
   "source": [
    "# 1.7.1. Get a example of 1 node for each label\n",
    "query = \"\"\"\n",
    "    MATCH (n)\n",
    "    WITH DISTINCT labels(n) AS label, collect(n) AS nodes\n",
    "    RETURN label, nodes[0] AS exampleNode\n",
    "\"\"\"\n",
    "\n",
    "# Explanation:\n",
    "# 1. MATCH (n):                                             Match all nodes in the database\n",
    "# 2. WITH DISTINCT labels(n) AS label, collect(n) AS nodes: For each node, get its labels and collect the node itself\n",
    "# 3. RETURN label, nodes[0] AS exampleNode:                 Return the label and an example node for each label\n",
    "\n",
    "result = execute_read(driver, query)\n",
    "print(\"Example of 1 node for each label:\")\n",
    "for rec in result:\n",
    "    print(f\"Node Label: {rec['label']} | Node: {rec['exampleNode']}\")"
   ]
  },
  {
   "cell_type": "markdown",
   "metadata": {},
   "source": [
    "- All **properties of the nodes** are in **`strings`** format, so we will have to convert them to the correct format in order to make the queries more efficient.\n",
    "\n",
    "**List of Properties to convert:**\n",
    "- **`abv`** in **`BEERS`** nodes to **`float`**.\n",
    "- **`score`**, **`taste`**, **`feel`**, **`overall`**, **`smell`** and **`look`** in **`REVIEWS`** nodes to **`float`**.\n",
    "- **`id`** in **`BEERS`**, **`BREWERIES`** and **`REVIEWS`** nodes to **`int`**.\n",
    "- **`date`** in **`REVIEWS`** nodes to **`date`**.\n"
   ]
  },
  {
   "cell_type": "code",
   "execution_count": 14,
   "metadata": {},
   "outputs": [
    {
     "name": "stdout",
     "output_type": "stream",
     "text": [
      "Properties and types for each relationship type:\n",
      "Relationship Type: :`BREWED` | Property: None | Type(s): None\n",
      "Relationship Type: :`HAS_STYLE` | Property: None | Type(s): None\n",
      "Relationship Type: :`IN` | Property: None | Type(s): None\n",
      "Relationship Type: :`POSTED` | Property: None | Type(s): None\n",
      "Relationship Type: :`REVIEWED` | Property: None | Type(s): None\n"
     ]
    }
   ],
   "source": [
    "# 1.8. For each relationship type, get a list of properties and their types (relTypeProperties)\n",
    "query = \"\"\"\n",
    "    CALL db.schema.relTypeProperties() YIELD relType, propertyName, propertyTypes\n",
    "    RETURN relType, propertyName, propertyTypes\n",
    "    ORDER BY relType, propertyName\n",
    "\"\"\"\n",
    "result = execute_read(driver, query)\n",
    "print(\"Properties and types for each relationship type:\")\n",
    "for rec in result:\n",
    "    print(\"Relationship Type:\", rec[\"relType\"], \"| Property:\", rec[\"propertyName\"], \"| Type(s):\", rec[\"propertyTypes\"])"
   ]
  },
  {
   "cell_type": "markdown",
   "metadata": {},
   "source": [
    "- All **relationships** don't have any properties."
   ]
  },
  {
   "cell_type": "code",
   "execution_count": 15,
   "metadata": {},
   "outputs": [
    {
     "name": "stdout",
     "output_type": "stream",
     "text": [
      "[<Record node1=['REVIEWS'] relationship='POSTED' node2=['USER'] NumberOfRelationships=2538044>,\n",
      " <Record node1=['BEERS'] relationship='REVIEWED' node2=['REVIEWS'] NumberOfRelationships=2537991>,\n",
      " <Record node1=['BREWERIES'] relationship='BREWED' node2=['BEERS'] NumberOfRelationships=358873>,\n",
      " <Record node1=['BEERS'] relationship='HAS_STYLE' node2=['STYLE'] NumberOfRelationships=358873>,\n",
      " <Record node1=['BREWERIES'] relationship='IN' node2=['CITIES'] NumberOfRelationships=50347>,\n",
      " <Record node1=['CITIES'] relationship='IN' node2=['COUNTRIES'] NumberOfRelationships=12077>]\n"
     ]
    }
   ],
   "source": [
    "# 1.8.1. Get the number of relationships associated with each connections (node label - relationship -> node label)\n",
    "query = \"\"\"\n",
    "    MATCH (n)-[r]->(m)\n",
    "    RETURN labels(n) as node1, type(r) as relationship, labels(m) as node2, count(r) as NumberOfRelationships\n",
    "    ORDER BY NumberOfRelationships DESC\n",
    "\"\"\"\n",
    "result = execute_read(driver, query)\n",
    "pprint(result)"
   ]
  },
  {
   "cell_type": "code",
   "execution_count": 16,
   "metadata": {},
   "outputs": [
    {
     "name": "stdout",
     "output_type": "stream",
     "text": [
      "Schema of connections (node label - relationship -> node label):\n",
      "BEERS - HAS_STYLE -> STYLE\n",
      "BEERS - REVIEWED -> REVIEWS\n",
      "BREWERIES - BREWED -> BEERS\n",
      "BREWERIES - IN -> CITIES\n",
      "CITIES - IN -> COUNTRIES\n",
      "REVIEWS - POSTED -> USER\n"
     ]
    }
   ],
   "source": [
    "# 1.9. For each pair of nodes, print the connection and its direction\n",
    "query = \"\"\"\n",
    "    MATCH (a)-[r]->(b)\n",
    "    WITH DISTINCT head(labels(a)) AS StartLabel, type(r) AS Relationship, head(labels(b)) AS EndLabel\n",
    "    RETURN StartLabel, Relationship, EndLabel\n",
    "    ORDER BY StartLabel, Relationship, EndLabel\n",
    "\"\"\"\n",
    "result = execute_read(driver, query)\n",
    "print(\"Schema of connections (node label - relationship -> node label):\")\n",
    "for rec in result:\n",
    "    print(rec[\"StartLabel\"], \"-\", rec[\"Relationship\"], \"->\", rec[\"EndLabel\"])"
   ]
  },
  {
   "cell_type": "markdown",
   "metadata": {},
   "source": [
    "#### **🧮 Summary of the Database Schema**\n",
    "\n",
    "<center>\n",
    "\n",
    "|     |   **Node Labels**  | **Properties**                                                     |**Total number of nodes**|\n",
    "|:---:|:------------------:|:-------------------------------------------------------------------|:-----------------------:|\n",
    "|**1**| `COUNTRIES`        | name                                                               |400                      |\n",
    "|**2**| `CITIES`           | name                                                               |23330                    |\n",
    "|**3**| `BREWERIES`        | notes, types, id, name, state                                      |100694                   |\n",
    "|**4**| `BEERS`            | notes, abv, name, state, id, retired, availability, brewery_id     |417746                   |\n",
    "|**5**| `REVIEWS`          | text, smell, look, taste, feel, overall, beer_id, id, date, score  |2549271                  | \n",
    "|**6**| `STYLE`            | name                                                               |113                      |\n",
    "|**7**| `USER`             | name                                                               |123935                   |\n",
    "\n",
    "<br><br>\n",
    "\n",
    "|     |  **Relationship Types**  | **Total number of relationships** |\n",
    "|:---:|:------------------------:|:---------------------------------:|\n",
    "|**1**| `POSTED`                 |2538044                            |\n",
    "|**2**| `REVIEWED`               |2537991                            |\n",
    "|**3**| `BREWED`                 |358873                             |\n",
    "|**4**| `HAS_STYLE`              |358873                             |\n",
    "|**5**| `IN`                     |62424                              |\n",
    "\n",
    "\n",
    "\n",
    "</center>"
   ]
  },
  {
   "cell_type": "code",
   "execution_count": 17,
   "metadata": {},
   "outputs": [
    {
     "name": "stdout",
     "output_type": "stream",
     "text": [
      "Schema visualization:\n",
      "[<Record nodes=[<Node element_id='-5' labels=frozenset({'REVIEWS'}) properties={'name': 'REVIEWS', 'indexes': ['id'], 'constraints': []}>, <Node element_id='-4' labels=frozenset({'BEERS'}) properties={'name': 'BEERS', 'indexes': ['id'], 'constraints': []}>, <Node element_id='-1' labels=frozenset({'COUNTRIES'}) properties={'name': 'COUNTRIES', 'indexes': ['name'], 'constraints': []}>, <Node element_id='-3' labels=frozenset({'BREWERIES'}) properties={'name': 'BREWERIES', 'indexes': ['id'], 'constraints': []}>, <Node element_id='-6' labels=frozenset({'STYLE'}) properties={'name': 'STYLE', 'indexes': ['name'], 'constraints': []}>, <Node element_id='-2' labels=frozenset({'CITIES'}) properties={'name': 'CITIES', 'indexes': ['name'], 'constraints': []}>, <Node element_id='-7' labels=frozenset({'USER'}) properties={'name': 'USER', 'indexes': ['name'], 'constraints': []}>] relationships=[<Relationship element_id='-1' nodes=(<Node element_id='-4' labels=frozenset({'BEERS'}) properties={'name': 'BEERS', 'indexes': ['id'], 'constraints': []}>, <Node element_id='-5' labels=frozenset({'REVIEWS'}) properties={'name': 'REVIEWS', 'indexes': ['id'], 'constraints': []}>) type='REVIEWED' properties={}>, <Relationship element_id='-2' nodes=(<Node element_id='-3' labels=frozenset({'BREWERIES'}) properties={'name': 'BREWERIES', 'indexes': ['id'], 'constraints': []}>, <Node element_id='-4' labels=frozenset({'BEERS'}) properties={'name': 'BEERS', 'indexes': ['id'], 'constraints': []}>) type='BREWED' properties={}>, <Relationship element_id='-3' nodes=(<Node element_id='-2' labels=frozenset({'CITIES'}) properties={'name': 'CITIES', 'indexes': ['name'], 'constraints': []}>, <Node element_id='-1' labels=frozenset({'COUNTRIES'}) properties={'name': 'COUNTRIES', 'indexes': ['name'], 'constraints': []}>) type='IN' properties={}>, <Relationship element_id='-5' nodes=(<Node element_id='-3' labels=frozenset({'BREWERIES'}) properties={'name': 'BREWERIES', 'indexes': ['id'], 'constraints': []}>, <Node element_id='-1' labels=frozenset({'COUNTRIES'}) properties={'name': 'COUNTRIES', 'indexes': ['name'], 'constraints': []}>) type='IN' properties={}>, <Relationship element_id='-6' nodes=(<Node element_id='-3' labels=frozenset({'BREWERIES'}) properties={'name': 'BREWERIES', 'indexes': ['id'], 'constraints': []}>, <Node element_id='-2' labels=frozenset({'CITIES'}) properties={'name': 'CITIES', 'indexes': ['name'], 'constraints': []}>) type='IN' properties={}>, <Relationship element_id='-4' nodes=(<Node element_id='-2' labels=frozenset({'CITIES'}) properties={'name': 'CITIES', 'indexes': ['name'], 'constraints': []}>, <Node element_id='-2' labels=frozenset({'CITIES'}) properties={'name': 'CITIES', 'indexes': ['name'], 'constraints': []}>) type='IN' properties={}>, <Relationship element_id='-7' nodes=(<Node element_id='-4' labels=frozenset({'BEERS'}) properties={'name': 'BEERS', 'indexes': ['id'], 'constraints': []}>, <Node element_id='-6' labels=frozenset({'STYLE'}) properties={'name': 'STYLE', 'indexes': ['name'], 'constraints': []}>) type='HAS_STYLE' properties={}>, <Relationship element_id='-8' nodes=(<Node element_id='-5' labels=frozenset({'REVIEWS'}) properties={'name': 'REVIEWS', 'indexes': ['id'], 'constraints': []}>, <Node element_id='-7' labels=frozenset({'USER'}) properties={'name': 'USER', 'indexes': ['name'], 'constraints': []}>) type='POSTED' properties={}>]>]\n"
     ]
    }
   ],
   "source": [
    "# 1.10 Visualize the schema of the database\n",
    "query = \"\"\"\n",
    "    // What is related, and how\n",
    "    CALL db.schema.visualization()\n",
    "\"\"\"\n",
    "result = execute_read(driver, query)\n",
    "print(\"Schema visualization:\")\n",
    "pprint(result)"
   ]
  },
  {
   "cell_type": "markdown",
   "metadata": {},
   "source": [
    "> Running the previous query in **`http://localhost:7474/browser/`** we get the following output:\n",
    "\n",
    "<center><img src=\"./img/graph_withoutCleaning.svg\" width=\"500\"></center>\n",
    "\n",
    "**NOTE:** Although the relationship **`IN`** between **`CITIES`** and itself is shown in the image, it is not present in the database as we can see in the previous query (**1.9.**).\n"
   ]
  },
  {
   "cell_type": "code",
   "execution_count": 18,
   "metadata": {},
   "outputs": [
    {
     "name": "stderr",
     "output_type": "stream",
     "text": [
      "Received notification from DBMS server: {severity: WARNING} {code: Neo.ClientNotification.Statement.FeatureDeprecationWarning} {category: } {title: This feature is deprecated and will be removed in future versions.} {description: A pattern expression should only be used in order to test the existence of a pattern. It should therefore only be used in contexts that evaluate to a boolean, e.g. inside the function exists() or in a WHERE-clause. All other uses are deprecated and should be replaced by a pattern comprehension.} {position: line: 12, column: 23, offset: 447} for query: '\\n    // What kind of nodes exist\\n    // Sample some nodes, reporting on property and relationship counts per node.\\n    MATCH (n) \\n    RETURN\\n        DISTINCT labels(n),\\n            count(*) AS NodeCount,\\n            avg(size(keys(n))) as Avg_PropertyCount,\\n            min(size(keys(n))) as Min_PropertyCount,\\n            max(size(keys(n))) as Max_PropertyCount,\\n            avg(size( (n)-[]-() ) ) as Avg_RelationshipCount,\\n            min(size( (n)-[]-() ) ) as Min_RelationshipCount,\\n            max(size( (n)-[]-() ) ) as Max_RelationshipCount\\n'\n",
      "Received notification from DBMS server: {severity: WARNING} {code: Neo.ClientNotification.Statement.FeatureDeprecationWarning} {category: } {title: This feature is deprecated and will be removed in future versions.} {description: A pattern expression should only be used in order to test the existence of a pattern. It should therefore only be used in contexts that evaluate to a boolean, e.g. inside the function exists() or in a WHERE-clause. All other uses are deprecated and should be replaced by a pattern comprehension.} {position: line: 11, column: 23, offset: 385} for query: '\\n    // What kind of nodes exist\\n    // Sample some nodes, reporting on property and relationship counts per node.\\n    MATCH (n) \\n    RETURN\\n        DISTINCT labels(n),\\n            count(*) AS NodeCount,\\n            avg(size(keys(n))) as Avg_PropertyCount,\\n            min(size(keys(n))) as Min_PropertyCount,\\n            max(size(keys(n))) as Max_PropertyCount,\\n            avg(size( (n)-[]-() ) ) as Avg_RelationshipCount,\\n            min(size( (n)-[]-() ) ) as Min_RelationshipCount,\\n            max(size( (n)-[]-() ) ) as Max_RelationshipCount\\n'\n",
      "Received notification from DBMS server: {severity: WARNING} {code: Neo.ClientNotification.Statement.FeatureDeprecationWarning} {category: } {title: This feature is deprecated and will be removed in future versions.} {description: A pattern expression should only be used in order to test the existence of a pattern. It should therefore only be used in contexts that evaluate to a boolean, e.g. inside the function exists() or in a WHERE-clause. All other uses are deprecated and should be replaced by a pattern comprehension.} {position: line: 13, column: 23, offset: 509} for query: '\\n    // What kind of nodes exist\\n    // Sample some nodes, reporting on property and relationship counts per node.\\n    MATCH (n) \\n    RETURN\\n        DISTINCT labels(n),\\n            count(*) AS NodeCount,\\n            avg(size(keys(n))) as Avg_PropertyCount,\\n            min(size(keys(n))) as Min_PropertyCount,\\n            max(size(keys(n))) as Max_PropertyCount,\\n            avg(size( (n)-[]-() ) ) as Avg_RelationshipCount,\\n            min(size( (n)-[]-() ) ) as Min_RelationshipCount,\\n            max(size( (n)-[]-() ) ) as Max_RelationshipCount\\n'\n"
     ]
    },
    {
     "name": "stdout",
     "output_type": "stream",
     "text": [
      "Description of the database:\n"
     ]
    },
    {
     "data": {
      "text/html": [
       "<div>\n",
       "<style scoped>\n",
       "    .dataframe tbody tr th:only-of-type {\n",
       "        vertical-align: middle;\n",
       "    }\n",
       "\n",
       "    .dataframe tbody tr th {\n",
       "        vertical-align: top;\n",
       "    }\n",
       "\n",
       "    .dataframe thead th {\n",
       "        text-align: right;\n",
       "    }\n",
       "</style>\n",
       "<table border=\"1\" class=\"dataframe\">\n",
       "  <thead>\n",
       "    <tr style=\"text-align: right;\">\n",
       "      <th></th>\n",
       "      <th>NodeCount</th>\n",
       "      <th>Avg_PropertyCount</th>\n",
       "      <th>Min_PropertyCount</th>\n",
       "      <th>Max_PropertyCount</th>\n",
       "      <th>Avg_RelationshipCount</th>\n",
       "      <th>Min_RelationshipCount</th>\n",
       "      <th>Max_RelationshipCount</th>\n",
       "    </tr>\n",
       "    <tr>\n",
       "      <th>Node Label</th>\n",
       "      <th></th>\n",
       "      <th></th>\n",
       "      <th></th>\n",
       "      <th></th>\n",
       "      <th></th>\n",
       "      <th></th>\n",
       "      <th></th>\n",
       "    </tr>\n",
       "  </thead>\n",
       "  <tbody>\n",
       "    <tr>\n",
       "      <th>[COUNTRIES]</th>\n",
       "      <td>400</td>\n",
       "      <td>1.0</td>\n",
       "      <td>1</td>\n",
       "      <td>1</td>\n",
       "      <td>30.192500</td>\n",
       "      <td>0</td>\n",
       "      <td>4959</td>\n",
       "    </tr>\n",
       "    <tr>\n",
       "      <th>[CITIES]</th>\n",
       "      <td>23330</td>\n",
       "      <td>1.0</td>\n",
       "      <td>1</td>\n",
       "      <td>1</td>\n",
       "      <td>2.675697</td>\n",
       "      <td>0</td>\n",
       "      <td>513</td>\n",
       "    </tr>\n",
       "    <tr>\n",
       "      <th>[BREWERIES]</th>\n",
       "      <td>100694</td>\n",
       "      <td>5.0</td>\n",
       "      <td>5</td>\n",
       "      <td>5</td>\n",
       "      <td>4.063996</td>\n",
       "      <td>0</td>\n",
       "      <td>1230</td>\n",
       "    </tr>\n",
       "    <tr>\n",
       "      <th>[BEERS]</th>\n",
       "      <td>417746</td>\n",
       "      <td>8.0</td>\n",
       "      <td>8</td>\n",
       "      <td>8</td>\n",
       "      <td>7.793580</td>\n",
       "      <td>0</td>\n",
       "      <td>4835</td>\n",
       "    </tr>\n",
       "    <tr>\n",
       "      <th>[REVIEWS]</th>\n",
       "      <td>2549252</td>\n",
       "      <td>10.0</td>\n",
       "      <td>10</td>\n",
       "      <td>10</td>\n",
       "      <td>1.991186</td>\n",
       "      <td>0</td>\n",
       "      <td>2</td>\n",
       "    </tr>\n",
       "    <tr>\n",
       "      <th>[STYLE]</th>\n",
       "      <td>113</td>\n",
       "      <td>1.0</td>\n",
       "      <td>1</td>\n",
       "      <td>1</td>\n",
       "      <td>3175.867257</td>\n",
       "      <td>1</td>\n",
       "      <td>44719</td>\n",
       "    </tr>\n",
       "    <tr>\n",
       "      <th>[USER]</th>\n",
       "      <td>123935</td>\n",
       "      <td>1.0</td>\n",
       "      <td>1</td>\n",
       "      <td>1</td>\n",
       "      <td>20.478832</td>\n",
       "      <td>0</td>\n",
       "      <td>3756</td>\n",
       "    </tr>\n",
       "  </tbody>\n",
       "</table>\n",
       "</div>"
      ],
      "text/plain": [
       "             NodeCount  Avg_PropertyCount  Min_PropertyCount  \\\n",
       "Node Label                                                     \n",
       "[COUNTRIES]        400                1.0                  1   \n",
       "[CITIES]         23330                1.0                  1   \n",
       "[BREWERIES]     100694                5.0                  5   \n",
       "[BEERS]         417746                8.0                  8   \n",
       "[REVIEWS]      2549252               10.0                 10   \n",
       "[STYLE]            113                1.0                  1   \n",
       "[USER]          123935                1.0                  1   \n",
       "\n",
       "             Max_PropertyCount  Avg_RelationshipCount  Min_RelationshipCount  \\\n",
       "Node Label                                                                     \n",
       "[COUNTRIES]                  1              30.192500                      0   \n",
       "[CITIES]                     1               2.675697                      0   \n",
       "[BREWERIES]                  5               4.063996                      0   \n",
       "[BEERS]                      8               7.793580                      0   \n",
       "[REVIEWS]                   10               1.991186                      0   \n",
       "[STYLE]                      1            3175.867257                      1   \n",
       "[USER]                       1              20.478832                      0   \n",
       "\n",
       "             Max_RelationshipCount  \n",
       "Node Label                          \n",
       "[COUNTRIES]                   4959  \n",
       "[CITIES]                       513  \n",
       "[BREWERIES]                   1230  \n",
       "[BEERS]                       4835  \n",
       "[REVIEWS]                        2  \n",
       "[STYLE]                      44719  \n",
       "[USER]                        3756  "
      ]
     },
     "execution_count": 18,
     "metadata": {},
     "output_type": "execute_result"
    }
   ],
   "source": [
    "# 1.11 Get a description of the database\n",
    "#      Source of the query: http://localhost:7474/browser/ > Favorites > Sample Scripts > Data Profiling > What kind of nodes exist\n",
    "query = \"\"\"\n",
    "    // What kind of nodes exist\n",
    "    // Sample some nodes, reporting on property and relationship counts per node.\n",
    "    MATCH (n) \n",
    "    RETURN\n",
    "        DISTINCT labels(n),\n",
    "            count(*) AS NodeCount,\n",
    "            avg(size(keys(n))) as Avg_PropertyCount,\n",
    "            min(size(keys(n))) as Min_PropertyCount,\n",
    "            max(size(keys(n))) as Max_PropertyCount,\n",
    "            avg(size( (n)-[]-() ) ) as Avg_RelationshipCount,\n",
    "            min(size( (n)-[]-() ) ) as Min_RelationshipCount,\n",
    "            max(size( (n)-[]-() ) ) as Max_RelationshipCount\n",
    "\"\"\"\n",
    "\n",
    "result = execute_read(driver, query)\n",
    "\n",
    "# Convert the result to Pandas DataFrame for better visualization\n",
    "data = [dict(record) for record in result]\n",
    "df = pd.DataFrame(data)\n",
    "df.set_index(\"labels(n)\", inplace=True)\n",
    "df.index.name = \"Node Label\"\n",
    "print(\"Description of the database:\")\n",
    "df"
   ]
  },
  {
   "cell_type": "markdown",
   "metadata": {},
   "source": [
    "- **Orphan Nodes**: Nodes with `Min_RelationshipCount` of 0 are considered orphan nodes, meaning they are not connected to any other nodes in the graph. These nodes may represent incomplete data or entities that have not yet been linked to the rest of the dataset.\n",
    "    - In this database, there are orphan nodes of type `COUNTRIES`, `CITIES`, `BREWERIES`, `BEERS`, `REVIEWS`, and `USER`.\n",
    "\n",
    "- **`Min_PropertyCount` and `Max_PropertyCount`**: The consistency in `Min_PropertyCount` and `Max_PropertyCount` across all labels suggests that each node type has a uniform set of properties."
   ]
  },
  {
   "cell_type": "code",
   "execution_count": 19,
   "metadata": {},
   "outputs": [
    {
     "name": "stderr",
     "output_type": "stream",
     "text": [
      "100%|██████████| 27/27 [09:36<00:00, 21.36s/it]\n"
     ]
    },
    {
     "data": {
      "text/html": [
       "<div>\n",
       "<style scoped>\n",
       "    .dataframe tbody tr th:only-of-type {\n",
       "        vertical-align: middle;\n",
       "    }\n",
       "\n",
       "    .dataframe tbody tr th {\n",
       "        vertical-align: top;\n",
       "    }\n",
       "\n",
       "    .dataframe thead th {\n",
       "        text-align: right;\n",
       "    }\n",
       "</style>\n",
       "<table border=\"1\" class=\"dataframe\">\n",
       "  <thead>\n",
       "    <tr style=\"text-align: right;\">\n",
       "      <th></th>\n",
       "      <th></th>\n",
       "      <th>Count</th>\n",
       "      <th>Distinct Count</th>\n",
       "      <th>Mean</th>\n",
       "      <th>Min</th>\n",
       "      <th>Max</th>\n",
       "      <th>Missing Count</th>\n",
       "      <th>Missing Count (%)</th>\n",
       "    </tr>\n",
       "    <tr>\n",
       "      <th>Node</th>\n",
       "      <th>Property</th>\n",
       "      <th></th>\n",
       "      <th></th>\n",
       "      <th></th>\n",
       "      <th></th>\n",
       "      <th></th>\n",
       "      <th></th>\n",
       "      <th></th>\n",
       "    </tr>\n",
       "  </thead>\n",
       "  <tbody>\n",
       "    <tr>\n",
       "      <th rowspan=\"8\" valign=\"top\">BEERS</th>\n",
       "      <th>abv</th>\n",
       "      <td>372718</td>\n",
       "      <td>939</td>\n",
       "      <td>6.53</td>\n",
       "      <td>0.01</td>\n",
       "      <td>100</td>\n",
       "      <td>45028</td>\n",
       "      <td>12.08</td>\n",
       "    </tr>\n",
       "    <tr>\n",
       "      <th>availability</th>\n",
       "      <td>417746</td>\n",
       "      <td>20</td>\n",
       "      <td>-</td>\n",
       "      <td>-</td>\n",
       "      <td>-</td>\n",
       "      <td>0</td>\n",
       "      <td>0</td>\n",
       "    </tr>\n",
       "    <tr>\n",
       "      <th>brewery_id</th>\n",
       "      <td>417746</td>\n",
       "      <td>16569</td>\n",
       "      <td>24 592.84</td>\n",
       "      <td>1</td>\n",
       "      <td>54 144</td>\n",
       "      <td>0</td>\n",
       "      <td>0</td>\n",
       "    </tr>\n",
       "    <tr>\n",
       "      <th>id</th>\n",
       "      <td>417746</td>\n",
       "      <td>358873</td>\n",
       "      <td>189 196.88</td>\n",
       "      <td>3</td>\n",
       "      <td>374 406</td>\n",
       "      <td>0</td>\n",
       "      <td>0</td>\n",
       "    </tr>\n",
       "    <tr>\n",
       "      <th>name</th>\n",
       "      <td>417746</td>\n",
       "      <td>298567</td>\n",
       "      <td>-</td>\n",
       "      <td>-</td>\n",
       "      <td>-</td>\n",
       "      <td>0</td>\n",
       "      <td>0</td>\n",
       "    </tr>\n",
       "    <tr>\n",
       "      <th>notes</th>\n",
       "      <td>417746</td>\n",
       "      <td>48313</td>\n",
       "      <td>-</td>\n",
       "      <td>-</td>\n",
       "      <td>-</td>\n",
       "      <td>55</td>\n",
       "      <td>0.01</td>\n",
       "    </tr>\n",
       "    <tr>\n",
       "      <th>retired</th>\n",
       "      <td>417746</td>\n",
       "      <td>2</td>\n",
       "      <td>-</td>\n",
       "      <td>-</td>\n",
       "      <td>-</td>\n",
       "      <td>0</td>\n",
       "      <td>0</td>\n",
       "    </tr>\n",
       "    <tr>\n",
       "      <th>state</th>\n",
       "      <td>417746</td>\n",
       "      <td>68</td>\n",
       "      <td>-</td>\n",
       "      <td>-</td>\n",
       "      <td>-</td>\n",
       "      <td>70831</td>\n",
       "      <td>16.96</td>\n",
       "    </tr>\n",
       "    <tr>\n",
       "      <th rowspan=\"5\" valign=\"top\">BREWERIES</th>\n",
       "      <th>id</th>\n",
       "      <td>100694</td>\n",
       "      <td>50347</td>\n",
       "      <td>27 870.51</td>\n",
       "      <td>1</td>\n",
       "      <td>54 156</td>\n",
       "      <td>0</td>\n",
       "      <td>0</td>\n",
       "    </tr>\n",
       "    <tr>\n",
       "      <th>name</th>\n",
       "      <td>100694</td>\n",
       "      <td>45245</td>\n",
       "      <td>-</td>\n",
       "      <td>-</td>\n",
       "      <td>-</td>\n",
       "      <td>0</td>\n",
       "      <td>0</td>\n",
       "    </tr>\n",
       "    <tr>\n",
       "      <th>notes</th>\n",
       "      <td>100694</td>\n",
       "      <td>3271</td>\n",
       "      <td>-</td>\n",
       "      <td>-</td>\n",
       "      <td>-</td>\n",
       "      <td>170</td>\n",
       "      <td>0.17</td>\n",
       "    </tr>\n",
       "    <tr>\n",
       "      <th>state</th>\n",
       "      <td>100694</td>\n",
       "      <td>68</td>\n",
       "      <td>-</td>\n",
       "      <td>-</td>\n",
       "      <td>-</td>\n",
       "      <td>22542</td>\n",
       "      <td>22.39</td>\n",
       "    </tr>\n",
       "    <tr>\n",
       "      <th>types</th>\n",
       "      <td>100694</td>\n",
       "      <td>30</td>\n",
       "      <td>-</td>\n",
       "      <td>-</td>\n",
       "      <td>-</td>\n",
       "      <td>0</td>\n",
       "      <td>0</td>\n",
       "    </tr>\n",
       "    <tr>\n",
       "      <th>CITIES</th>\n",
       "      <th>name</th>\n",
       "      <td>23330</td>\n",
       "      <td>11665</td>\n",
       "      <td>-</td>\n",
       "      <td>-</td>\n",
       "      <td>-</td>\n",
       "      <td>2</td>\n",
       "      <td>0.01</td>\n",
       "    </tr>\n",
       "    <tr>\n",
       "      <th>COUNTRIES</th>\n",
       "      <th>name</th>\n",
       "      <td>400</td>\n",
       "      <td>200</td>\n",
       "      <td>-</td>\n",
       "      <td>-</td>\n",
       "      <td>-</td>\n",
       "      <td>2</td>\n",
       "      <td>0.50</td>\n",
       "    </tr>\n",
       "    <tr>\n",
       "      <th rowspan=\"10\" valign=\"top\">REVIEWS</th>\n",
       "      <th>beer_id</th>\n",
       "      <td>2549252</td>\n",
       "      <td>189645</td>\n",
       "      <td>77 459.01</td>\n",
       "      <td>3</td>\n",
       "      <td>373 128</td>\n",
       "      <td>0</td>\n",
       "      <td>0</td>\n",
       "    </tr>\n",
       "    <tr>\n",
       "      <th>date</th>\n",
       "      <td>2549252</td>\n",
       "      <td>6379</td>\n",
       "      <td>-</td>\n",
       "      <td>-</td>\n",
       "      <td>-</td>\n",
       "      <td>19</td>\n",
       "      <td>0.00</td>\n",
       "    </tr>\n",
       "    <tr>\n",
       "      <th>feel</th>\n",
       "      <td>1484819</td>\n",
       "      <td>17</td>\n",
       "      <td>3.89</td>\n",
       "      <td>1</td>\n",
       "      <td>5</td>\n",
       "      <td>1064433</td>\n",
       "      <td>71.69</td>\n",
       "    </tr>\n",
       "    <tr>\n",
       "      <th>id</th>\n",
       "      <td>2549252</td>\n",
       "      <td>2546141</td>\n",
       "      <td>4 517 442.86</td>\n",
       "      <td>1</td>\n",
       "      <td>9 073 127</td>\n",
       "      <td>0</td>\n",
       "      <td>0</td>\n",
       "    </tr>\n",
       "    <tr>\n",
       "      <th>look</th>\n",
       "      <td>1484819</td>\n",
       "      <td>17</td>\n",
       "      <td>3.95</td>\n",
       "      <td>1</td>\n",
       "      <td>5</td>\n",
       "      <td>1064433</td>\n",
       "      <td>71.69</td>\n",
       "    </tr>\n",
       "    <tr>\n",
       "      <th>overall</th>\n",
       "      <td>1484819</td>\n",
       "      <td>17</td>\n",
       "      <td>3.92</td>\n",
       "      <td>1</td>\n",
       "      <td>5</td>\n",
       "      <td>1064433</td>\n",
       "      <td>71.69</td>\n",
       "    </tr>\n",
       "    <tr>\n",
       "      <th>score</th>\n",
       "      <td>2549252</td>\n",
       "      <td>401</td>\n",
       "      <td>3.89</td>\n",
       "      <td>1</td>\n",
       "      <td>5</td>\n",
       "      <td>0</td>\n",
       "      <td>0</td>\n",
       "    </tr>\n",
       "    <tr>\n",
       "      <th>smell</th>\n",
       "      <td>1484819</td>\n",
       "      <td>17</td>\n",
       "      <td>3.89</td>\n",
       "      <td>1</td>\n",
       "      <td>5</td>\n",
       "      <td>1064433</td>\n",
       "      <td>71.69</td>\n",
       "    </tr>\n",
       "    <tr>\n",
       "      <th>taste</th>\n",
       "      <td>1484819</td>\n",
       "      <td>17</td>\n",
       "      <td>3.92</td>\n",
       "      <td>1</td>\n",
       "      <td>5</td>\n",
       "      <td>1064433</td>\n",
       "      <td>71.69</td>\n",
       "    </tr>\n",
       "    <tr>\n",
       "      <th>text</th>\n",
       "      <td>2549252</td>\n",
       "      <td>814333</td>\n",
       "      <td>-</td>\n",
       "      <td>-</td>\n",
       "      <td>-</td>\n",
       "      <td>19</td>\n",
       "      <td>0.00</td>\n",
       "    </tr>\n",
       "    <tr>\n",
       "      <th>STYLE</th>\n",
       "      <th>name</th>\n",
       "      <td>113</td>\n",
       "      <td>113</td>\n",
       "      <td>-</td>\n",
       "      <td>-</td>\n",
       "      <td>-</td>\n",
       "      <td>1</td>\n",
       "      <td>0.88</td>\n",
       "    </tr>\n",
       "    <tr>\n",
       "      <th>USER</th>\n",
       "      <th>name</th>\n",
       "      <td>123935</td>\n",
       "      <td>123935</td>\n",
       "      <td>-</td>\n",
       "      <td>-</td>\n",
       "      <td>-</td>\n",
       "      <td>1</td>\n",
       "      <td>0.00</td>\n",
       "    </tr>\n",
       "  </tbody>\n",
       "</table>\n",
       "</div>"
      ],
      "text/plain": [
       "                          Count  Distinct Count          Mean   Min  \\\n",
       "Node      Property                                                    \n",
       "BEERS     abv            372718             939          6.53  0.01   \n",
       "          availability   417746              20             -     -   \n",
       "          brewery_id     417746           16569     24 592.84     1   \n",
       "          id             417746          358873    189 196.88     3   \n",
       "          name           417746          298567             -     -   \n",
       "          notes          417746           48313             -     -   \n",
       "          retired        417746               2             -     -   \n",
       "          state          417746              68             -     -   \n",
       "BREWERIES id             100694           50347     27 870.51     1   \n",
       "          name           100694           45245             -     -   \n",
       "          notes          100694            3271             -     -   \n",
       "          state          100694              68             -     -   \n",
       "          types          100694              30             -     -   \n",
       "CITIES    name            23330           11665             -     -   \n",
       "COUNTRIES name              400             200             -     -   \n",
       "REVIEWS   beer_id       2549252          189645     77 459.01     3   \n",
       "          date          2549252            6379             -     -   \n",
       "          feel          1484819              17          3.89     1   \n",
       "          id            2549252         2546141  4 517 442.86     1   \n",
       "          look          1484819              17          3.95     1   \n",
       "          overall       1484819              17          3.92     1   \n",
       "          score         2549252             401          3.89     1   \n",
       "          smell         1484819              17          3.89     1   \n",
       "          taste         1484819              17          3.92     1   \n",
       "          text          2549252          814333             -     -   \n",
       "STYLE     name              113             113             -     -   \n",
       "USER      name           123935          123935             -     -   \n",
       "\n",
       "                              Max  Missing Count Missing Count (%)  \n",
       "Node      Property                                                  \n",
       "BEERS     abv                 100          45028             12.08  \n",
       "          availability          -              0                 0  \n",
       "          brewery_id       54 144              0                 0  \n",
       "          id              374 406              0                 0  \n",
       "          name                  -              0                 0  \n",
       "          notes                 -             55              0.01  \n",
       "          retired               -              0                 0  \n",
       "          state                 -          70831             16.96  \n",
       "BREWERIES id               54 156              0                 0  \n",
       "          name                  -              0                 0  \n",
       "          notes                 -            170              0.17  \n",
       "          state                 -          22542             22.39  \n",
       "          types                 -              0                 0  \n",
       "CITIES    name                  -              2              0.01  \n",
       "COUNTRIES name                  -              2              0.50  \n",
       "REVIEWS   beer_id         373 128              0                 0  \n",
       "          date                  -             19              0.00  \n",
       "          feel                  5        1064433             71.69  \n",
       "          id            9 073 127              0                 0  \n",
       "          look                  5        1064433             71.69  \n",
       "          overall               5        1064433             71.69  \n",
       "          score                 5              0                 0  \n",
       "          smell                 5        1064433             71.69  \n",
       "          taste                 5        1064433             71.69  \n",
       "          text                  -             19              0.00  \n",
       "STYLE     name                  -              1              0.88  \n",
       "USER      name                  -              1              0.00  "
      ]
     },
     "execution_count": 19,
     "metadata": {},
     "output_type": "execute_result"
    }
   ],
   "source": [
    "# 1.12 Get a summary statistics of each property for each node label in the database\n",
    "#     Source of the query: https://neo4j.com/blog/developer/data-profiling-holistic-view-neo4j/\n",
    "#                          https://neo4j.com/docs/cypher-manual/current/functions/aggregating/\n",
    "\n",
    "# Get all properties for each node label\n",
    "query = \"\"\"\n",
    "    CALL db.schema.nodeTypeProperties() YIELD nodeType, propertyName\n",
    "    WITH nodeType, propertyName\n",
    "    ORDER BY nodeType, propertyName\n",
    "    RETURN nodeType, propertyName\n",
    "\"\"\"\n",
    "properties_result = execute_read(driver, query)\n",
    "\n",
    "# Initialize a list to store statistics\n",
    "stats_list = []\n",
    "\n",
    "# Iterate over each property and calculate statistics\n",
    "for record in tqdm(properties_result):\n",
    "    nodeType = record['nodeType'].replace('`', '').replace(':', '')  # Remove backticks and ':'\n",
    "    propertyName = record['propertyName']\n",
    "    \n",
    "    # Construct query for each property\n",
    "    if propertyName.lower() in ['name', 'notes', 'state', 'availability', 'retired', 'types', 'date', 'text']:\n",
    "        # String properties\n",
    "        stats_query = f\"\"\"\n",
    "            MATCH (n:{nodeType})\n",
    "            RETURN\n",
    "                '{nodeType}' AS nodeType,\n",
    "                '{propertyName}' AS propertyName,\n",
    "                COUNT(n.{propertyName}) AS count,\n",
    "                COUNT(DISTINCT n.{propertyName}) AS distinctCount,\n",
    "                '-' AS mean,\n",
    "                '-' AS min,\n",
    "                '-' AS max,\n",
    "                COUNT(CASE WHEN n.{propertyName} IS NULL OR n.{propertyName} = '' OR toLower(trim(n.{propertyName})) IN ['nan', 'null', 'none', ' '] THEN 1 ELSE NULL END) AS missingCount\n",
    "        \"\"\"\n",
    "    else:\n",
    "        # Numeric properties\n",
    "        stats_query = f\"\"\"\n",
    "            MATCH (n:{nodeType})\n",
    "            WITH n, toFloat(n.{propertyName}) AS value\n",
    "            WHERE n.{propertyName} IS NOT NULL\n",
    "            RETURN\n",
    "                '{nodeType}' AS nodeType,\n",
    "                '{propertyName}' AS propertyName,\n",
    "                COUNT(value) AS count,\n",
    "                COUNT(DISTINCT value) AS distinctCount,\n",
    "                AVG(value) AS mean,\n",
    "                MIN(value) AS min,\n",
    "                MAX(value) AS max,\n",
    "                COUNT(CASE WHEN n.{propertyName} IS NULL OR n.{propertyName} = '' OR toLower(trim(n.{propertyName})) IN ['nan', 'null', 'none', ''] THEN 1 ELSE NULL END) AS missingCount\n",
    "        \"\"\"\n",
    "    \n",
    "    try:\n",
    "        stats_result = execute_read(driver, stats_query)\n",
    "        if stats_result:\n",
    "            stats_list.append(stats_result[0])\n",
    "    except Exception as e:\n",
    "        print(f\"Error processing {nodeType}.{propertyName}: {e}\")\n",
    "\n",
    "# Convert to DataFrame\n",
    "df = pd.DataFrame(stats_list, columns=['Node', 'Property', 'Count', 'Distinct Count', \n",
    "                                       'Mean', 'Min', 'Max', 'Missing Count'])                          # Convert the list to a DataFrame\n",
    "df['Missing Count (%)'] = (df['Missing Count'] / df['Count']) * 100                                     # Calculate the percentage of missing values\n",
    "df.set_index(['Node', 'Property'], inplace=True)                                                        # Set the index to Node and Property (Hierarchical Indexing)\n",
    "df.fillna('-', inplace=True)                                                                            # Fill NaN values with 0\n",
    "df = df.map(\n",
    "    lambda x: '{:,.0f}'.format(x).replace(',', ' ') if isinstance(x, float) and not np.isnan(x) and not np.isinf(x) and x == int(x) else\n",
    "              '{:,.2f}'.format(x).replace(',', ' ') if isinstance(x, float) and not np.isnan(x) and not np.isinf(x) else\n",
    "              x\n",
    ")                                                                                                                     # Format the DataFrame for better visualization\n",
    "df \n",
    "\n",
    "## Time of Execution: 2m (1st query) + 07min 38s (2nd query) = 9m 38s"
   ]
  },
  {
   "cell_type": "markdown",
   "metadata": {},
   "source": [
    "<div class=\"alert alert-block alert-info\" style=\"color: white; background-color: rgb(110, 3, 3); border: 0px; -moz-border-radius: 10px; -webkit-border-radius: 10px;\">\n",
    "\n",
    "#### **🖼️ Statistical Analysis of the Database**\n",
    "\n",
    "</div>\n",
    "\n",
    "**BEERS**\n",
    "- **`abv`**: According to [Hops & Hopes (2025)](https://www.hopsandhopes.nl/en/beers/snake-venom) the world's strongest beer is **Snake Venom** with **67.5% ABV**. We can see that the **maximum** value in the database is **100**, so we will need to verify the beers with more than **67.5% ABV**.\n",
    "- **`availability`** have **$20$** different values. We will check what are the possible values.\n",
    "- **`brewery_id`**: In total we have **$417\\;746$** brewery_ids, but **$16\\;569$** distinct brewery_ids. It is possible that some breweries have more than one beer.\n",
    "- **`id`**: In total we have **$417\\;746$** ids, but **$358\\;873$** distinct ids. We need to check the duplicates.\n",
    "- **`name`**: In total we have **$417\\;746$** names, but **$298\\;567$** distinct names. It is possible that some beers have the same name.\n",
    "- **`notes`**: In total we have **$417\\;746$** notes, but **$48\\;313$** distinct notes. Same as the **`name`** property, it is possible that some beers have the same notes.\n",
    "- **`retired`** have **$2$** different values - **`True`** and **`False`**.\n",
    "- **`state`** have **$68$** different values. We will check what are the possible values.\n",
    "\n",
    "**BREWERIES**\n",
    "\n",
    "- **`id`**: In total we have **$100\\;694$** ids, but **$50\\;347$** distinct ids. As in **`BEERS`**, it is possible that some breweries have more than one beer.\n",
    "- **`name`**: In total we have **$100\\;694$** names, but **$45\\;245$** distinct names. We need to check the duplicates.\n",
    "- **`notes`**: In total we have **$100\\;694$** notes, but **$3\\;271$** distinct notes. Same as the **`name`** property, it is possible that some breweries have the same notes.\n",
    "- **`state`** have **$68$** different values (the same as in **`BEERS`**). We will check what are the possible values.\n",
    "- **`types`** have **$30$** different values. We will check what are the possible values.\n",
    "\n",
    "**CITIES**\n",
    "\n",
    "- **`name`**: In total we have **$23\\;330$** names, but **$11\\;665$** distinct names. We need to check the duplicates.\n",
    "\n",
    "**COUNTRIES**\n",
    "\n",
    "- **`name`**: In total we have **$400$** names, but **$200$** distinct names. We need to check the duplicates.\n",
    "\n",
    "**REVIEWS**\n",
    "\n",
    "- **`beer_id`**: In total we have **$2\\;549\\;252$** beer_ids, but **$189\\;645$** distinct beer_ids. It is possible that some beers have more than one review.\n",
    "- **`date`**: We need to convert this property to **`date`** format.\n",
    "- **`feel`**, **`look`**, **`overall`**, **`smell`**, **`taste`** and **`score`**: We need to convert these properties to **`float`** format, but we can see that the values are already clean, because the **`Min`** and **`Max`** values are between **$1$** and **$5$**.\n",
    "- **`id`**: In total we have **$2\\;549\\;252$** ids, but **$2\\;546\\;141$** distinct ids. We need to check the duplicates.\n",
    "- **`text`**: In total we have **$2\\;549\\;252$** texts, but **$814\\;333$** distinct texts. It is possible that some reviews have the same text.\n",
    "\n",
    "**STYLE**\n",
    "\n",
    "- **`name`**: In total we have **$113$** names and distinct names, so we don't need to check the duplicates.\n",
    "\n",
    "**USER**\n",
    "\n",
    "- **`name`**: In total we have **$123\\;935$** names and distinct names, so we don't need to check the duplicates."
   ]
  },
  {
   "cell_type": "markdown",
   "metadata": {},
   "source": [
    "---"
   ]
  },
  {
   "cell_type": "markdown",
   "metadata": {},
   "source": [
    "## **2. Adjust the database**\n",
    "\n",
    "- Adjust the database and mention reasoning behind: \n",
    "    - Clean errors, \n",
    "    - Remove redundancies, \n",
    "    - Adjust schema as necessary\n",
    "    - Visualize the final version of database schema. [4 points]"
   ]
  },
  {
   "cell_type": "code",
   "execution_count": 20,
   "metadata": {},
   "outputs": [],
   "source": [
    "# 2. Adjust the database and mention reasoning behind: \n",
    "#    e.g. clean errors, remove redundancies, adjust schema as necessary. \n",
    "# Visualize the final version of database schema. [4 points]"
   ]
  },
  {
   "cell_type": "markdown",
   "metadata": {},
   "source": [
    "### **2.1. 🔢🔠 Adjust the data types**"
   ]
  },
  {
   "cell_type": "markdown",
   "metadata": {},
   "source": [
    "To improve query performance and data integrity, it is crucial to convert properties storing IDs into an appropriate numerical type.\n",
    "\n",
    "- This operation includes converting:\n",
    "  - The `brewery_id` and `id` properties of the `BEERS` nodes, `id` of the `BREWERIES` nodes, and `beer_id` and `id` properties of the `REVIEWS` nodes.\n",
    "  - The `date` property of the `REVIEWS` nodes will be converted to a `date` type.\n",
    "  - The `abv`, `score`, `taste`, `feel`, `overall`, `smell`, and `look` properties of the `BEERS` and `REVIEWS` nodes will be converted to `float` type."
   ]
  },
  {
   "cell_type": "code",
   "execution_count": 21,
   "metadata": {},
   "outputs": [
    {
     "name": "stdout",
     "output_type": "stream",
     "text": [
      "[]\n",
      "[]\n"
     ]
    }
   ],
   "source": [
    "# 2.1. Convert BEERS.brewery_id, BEERS.id, BREWERIES.id, REVIEWS.beer_id, REVIEWS.id to integer\n",
    "# Convert BEERS.brewery_id and BEERS.id to integer\n",
    "query = \"\"\"\n",
    "    MATCH (n:BEERS)\n",
    "    SET n.brewery_id = toInteger(n.brewery_id)\n",
    "    SET n.id = toInteger(n.id);\n",
    "\"\"\"\n",
    "result = execute_write(driver, query)\n",
    "pprint(result)\n",
    "\n",
    "# Convert BREWERIES.id to integer\n",
    "query = \"\"\"\n",
    "    MATCH (n:BREWERIES)\n",
    "    SET n.id = toInteger(n.id);\n",
    "\"\"\"\n",
    "result = execute_write(driver, query)\n",
    "pprint(result)\n",
    "\n",
    "# # Convert REVIEWS.beer_id and REVIEWS.id to integer\n",
    "# query = \"\"\"\n",
    "#     MATCH (n:REVIEWS)\n",
    "#     SET n.beer_id = toInteger(n.beer_id)\n",
    "#     SET n.id = toInteger(n.id)\n",
    "# \"\"\"\n",
    "# result = execute_write(driver, query)\n",
    "# pprint(result)\n",
    "\n",
    "# {code: Neo.DatabaseError.Statement.ExecutionFailed} {message: Java heap space}"
   ]
  },
  {
   "cell_type": "markdown",
   "metadata": {},
   "source": [
    "When we run the previous query we raise an error\n",
    "\n",
    "```\n",
    "DatabaseError                             Traceback (most recent call last)\n",
    "....\n",
    "DatabaseError: {code: Neo.DatabaseError.Statement.ExecutionFailed} {message: Java heap space}\n",
    "\n",
    "\n",
    "Transaction failed and will be retried in 0.8927118089735324s (There is not enough memory to perform the current task. Please try increasing 'dbms.memory.heap.max_size' in the neo4j configuration (normally in 'conf/neo4j.conf' or, if you are using Neo4j Desktop, found through the user interface) or if you are running an embedded installation increase the heap by using '-Xmx' command line flag, and then restart the database.)\n",
    "```\n",
    "\n",
    "> To solve this problem we try to **increase the heap size** of the database, but we still get the same error. So after some research we create a function with help of the **`AI`** to ***Batch Processing*** the writing in the database.\n"
   ]
  },
  {
   "cell_type": "code",
   "execution_count": 22,
   "metadata": {},
   "outputs": [],
   "source": [
    "# Source: X. (2025). Grok 3 Beta — The Age of Reasoning Agents (Mar 07 version)[Large Language Model]. X.ai. https://x.ai/blog/grok-3\n",
    "#         Mistral. (2025). Le Chat - Mistral AI (Mar 07 version)[Large Language Model]. Mistral.ai. https://chat.mistral.ai/\n",
    "\n",
    "def execute_batch_write(driver, node_label, operation_clause, total_nodes, batch_size=100_000, desc=\"Processing batches\"):\n",
    "    \"\"\"\n",
    "    Process write operations in batches for a given node label.\n",
    "\n",
    "    Parameters:\n",
    "    - driver: Neo4j driver instance.\n",
    "    - node_label: String, the label of nodes to process (e.g., 'REVIEWS', 'BEERS').\n",
    "    - operation_clause: String, the Cypher clause to execute on matched nodes (e.g., 'SET n.prop = value').\n",
    "    - total_nodes: Integer, total number of nodes to process.\n",
    "    - batch_size: Integer, number of nodes per batch (default: 50,000).\n",
    "    - desc: String, description for tqdm progress bar (default: 'Processing batches').\n",
    "\n",
    "    Returns:\n",
    "    - None (prints progress and errors if any).\n",
    "    \"\"\"\n",
    "    for offset in tqdm(range(0, total_nodes, batch_size), desc=desc):\n",
    "        print(f\"Processing batch from offset {offset} to {offset + batch_size}\")\n",
    "        \n",
    "        # Base query template with SKIP and LIMIT integREVIEWED correctly\n",
    "        batch_query = f\"\"\"\n",
    "            MATCH (n:{node_label})\n",
    "            WITH n\n",
    "            SKIP {offset} LIMIT {batch_size}\n",
    "            {operation_clause}\n",
    "            RETURN COUNT(*)\n",
    "        \"\"\"\n",
    "        # print(batch_query.strip())  # Show the query for debugging\n",
    "        \n",
    "        try:\n",
    "            execute_write(driver, batch_query)\n",
    "        except Exception as e:\n",
    "            print(f\"Error at offset {offset}: {e}\")\n",
    "            break"
   ]
  },
  {
   "cell_type": "code",
   "execution_count": 23,
   "metadata": {},
   "outputs": [
    {
     "name": "stderr",
     "output_type": "stream",
     "text": [
      "Converting REVIEWS ids to integer:   0%|          | 0/26 [00:00<?, ?it/s]"
     ]
    },
    {
     "name": "stdout",
     "output_type": "stream",
     "text": [
      "Processing batch from offset 0 to 100000\n"
     ]
    },
    {
     "name": "stderr",
     "output_type": "stream",
     "text": [
      "Converting REVIEWS ids to integer:   4%|▍         | 1/26 [00:10<04:34, 10.96s/it]"
     ]
    },
    {
     "name": "stdout",
     "output_type": "stream",
     "text": [
      "Processing batch from offset 100000 to 200000\n"
     ]
    },
    {
     "name": "stderr",
     "output_type": "stream",
     "text": [
      "Converting REVIEWS ids to integer:   8%|▊         | 2/26 [00:14<02:42,  6.75s/it]"
     ]
    },
    {
     "name": "stdout",
     "output_type": "stream",
     "text": [
      "Processing batch from offset 200000 to 300000\n"
     ]
    },
    {
     "name": "stderr",
     "output_type": "stream",
     "text": [
      "Converting REVIEWS ids to integer:  12%|█▏        | 3/26 [00:30<04:12, 10.96s/it]"
     ]
    },
    {
     "name": "stdout",
     "output_type": "stream",
     "text": [
      "Processing batch from offset 300000 to 400000\n"
     ]
    },
    {
     "name": "stderr",
     "output_type": "stream",
     "text": [
      "Converting REVIEWS ids to integer:  15%|█▌        | 4/26 [00:39<03:38,  9.94s/it]"
     ]
    },
    {
     "name": "stdout",
     "output_type": "stream",
     "text": [
      "Processing batch from offset 400000 to 500000\n"
     ]
    },
    {
     "name": "stderr",
     "output_type": "stream",
     "text": [
      "Converting REVIEWS ids to integer:  19%|█▉        | 5/26 [00:46<03:08,  8.96s/it]"
     ]
    },
    {
     "name": "stdout",
     "output_type": "stream",
     "text": [
      "Processing batch from offset 500000 to 600000\n"
     ]
    },
    {
     "name": "stderr",
     "output_type": "stream",
     "text": [
      "Converting REVIEWS ids to integer:  23%|██▎       | 6/26 [01:05<04:06, 12.31s/it]"
     ]
    },
    {
     "name": "stdout",
     "output_type": "stream",
     "text": [
      "Processing batch from offset 600000 to 700000\n"
     ]
    },
    {
     "name": "stderr",
     "output_type": "stream",
     "text": [
      "Converting REVIEWS ids to integer:  27%|██▋       | 7/26 [01:12<03:21, 10.60s/it]"
     ]
    },
    {
     "name": "stdout",
     "output_type": "stream",
     "text": [
      "Processing batch from offset 700000 to 800000\n"
     ]
    },
    {
     "name": "stderr",
     "output_type": "stream",
     "text": [
      "Converting REVIEWS ids to integer:  31%|███       | 8/26 [01:19<02:49,  9.43s/it]"
     ]
    },
    {
     "name": "stdout",
     "output_type": "stream",
     "text": [
      "Processing batch from offset 800000 to 900000\n"
     ]
    },
    {
     "name": "stderr",
     "output_type": "stream",
     "text": [
      "Converting REVIEWS ids to integer:  35%|███▍      | 9/26 [01:27<02:36,  9.20s/it]"
     ]
    },
    {
     "name": "stdout",
     "output_type": "stream",
     "text": [
      "Processing batch from offset 900000 to 1000000\n"
     ]
    },
    {
     "name": "stderr",
     "output_type": "stream",
     "text": [
      "Converting REVIEWS ids to integer:  38%|███▊      | 10/26 [01:48<03:24, 12.77s/it]"
     ]
    },
    {
     "name": "stdout",
     "output_type": "stream",
     "text": [
      "Processing batch from offset 1000000 to 1100000\n"
     ]
    },
    {
     "name": "stderr",
     "output_type": "stream",
     "text": [
      "Converting REVIEWS ids to integer:  42%|████▏     | 11/26 [01:55<02:45, 11.06s/it]"
     ]
    },
    {
     "name": "stdout",
     "output_type": "stream",
     "text": [
      "Processing batch from offset 1100000 to 1200000\n"
     ]
    },
    {
     "name": "stderr",
     "output_type": "stream",
     "text": [
      "Converting REVIEWS ids to integer:  46%|████▌     | 12/26 [02:03<02:18,  9.91s/it]"
     ]
    },
    {
     "name": "stdout",
     "output_type": "stream",
     "text": [
      "Processing batch from offset 1200000 to 1300000\n"
     ]
    },
    {
     "name": "stderr",
     "output_type": "stream",
     "text": [
      "Converting REVIEWS ids to integer:  50%|█████     | 13/26 [02:10<01:57,  9.05s/it]"
     ]
    },
    {
     "name": "stdout",
     "output_type": "stream",
     "text": [
      "Processing batch from offset 1300000 to 1400000\n"
     ]
    },
    {
     "name": "stderr",
     "output_type": "stream",
     "text": [
      "Converting REVIEWS ids to integer:  54%|█████▍    | 14/26 [02:28<02:23, 11.97s/it]"
     ]
    },
    {
     "name": "stdout",
     "output_type": "stream",
     "text": [
      "Processing batch from offset 1400000 to 1500000\n"
     ]
    },
    {
     "name": "stderr",
     "output_type": "stream",
     "text": [
      "Converting REVIEWS ids to integer:  58%|█████▊    | 15/26 [02:36<01:57, 10.68s/it]"
     ]
    },
    {
     "name": "stdout",
     "output_type": "stream",
     "text": [
      "Processing batch from offset 1500000 to 1600000\n"
     ]
    },
    {
     "name": "stderr",
     "output_type": "stream",
     "text": [
      "Converting REVIEWS ids to integer:  62%|██████▏   | 16/26 [02:43<01:36,  9.62s/it]"
     ]
    },
    {
     "name": "stdout",
     "output_type": "stream",
     "text": [
      "Processing batch from offset 1600000 to 1700000\n"
     ]
    },
    {
     "name": "stderr",
     "output_type": "stream",
     "text": [
      "Converting REVIEWS ids to integer:  65%|██████▌   | 17/26 [02:51<01:20,  8.93s/it]"
     ]
    },
    {
     "name": "stdout",
     "output_type": "stream",
     "text": [
      "Processing batch from offset 1700000 to 1800000\n"
     ]
    },
    {
     "name": "stderr",
     "output_type": "stream",
     "text": [
      "Converting REVIEWS ids to integer:  69%|██████▉   | 18/26 [03:09<01:33, 11.67s/it]"
     ]
    },
    {
     "name": "stdout",
     "output_type": "stream",
     "text": [
      "Processing batch from offset 1800000 to 1900000\n"
     ]
    },
    {
     "name": "stderr",
     "output_type": "stream",
     "text": [
      "Converting REVIEWS ids to integer:  73%|███████▎  | 19/26 [03:15<01:11, 10.22s/it]"
     ]
    },
    {
     "name": "stdout",
     "output_type": "stream",
     "text": [
      "Processing batch from offset 1900000 to 2000000\n"
     ]
    },
    {
     "name": "stderr",
     "output_type": "stream",
     "text": [
      "Converting REVIEWS ids to integer:  77%|███████▋  | 20/26 [03:23<00:56,  9.46s/it]"
     ]
    },
    {
     "name": "stdout",
     "output_type": "stream",
     "text": [
      "Processing batch from offset 2000000 to 2100000\n"
     ]
    },
    {
     "name": "stderr",
     "output_type": "stream",
     "text": [
      "Converting REVIEWS ids to integer:  81%|████████  | 21/26 [03:31<00:44,  8.87s/it]"
     ]
    },
    {
     "name": "stdout",
     "output_type": "stream",
     "text": [
      "Processing batch from offset 2100000 to 2200000\n"
     ]
    },
    {
     "name": "stderr",
     "output_type": "stream",
     "text": [
      "Converting REVIEWS ids to integer:  85%|████████▍ | 22/26 [03:50<00:48, 12.06s/it]"
     ]
    },
    {
     "name": "stdout",
     "output_type": "stream",
     "text": [
      "Processing batch from offset 2200000 to 2300000\n"
     ]
    },
    {
     "name": "stderr",
     "output_type": "stream",
     "text": [
      "Converting REVIEWS ids to integer:  88%|████████▊ | 23/26 [03:57<00:31, 10.43s/it]"
     ]
    },
    {
     "name": "stdout",
     "output_type": "stream",
     "text": [
      "Processing batch from offset 2300000 to 2400000\n"
     ]
    },
    {
     "name": "stderr",
     "output_type": "stream",
     "text": [
      "Converting REVIEWS ids to integer:  92%|█████████▏| 24/26 [04:04<00:18,  9.40s/it]"
     ]
    },
    {
     "name": "stdout",
     "output_type": "stream",
     "text": [
      "Processing batch from offset 2400000 to 2500000\n"
     ]
    },
    {
     "name": "stderr",
     "output_type": "stream",
     "text": [
      "Converting REVIEWS ids to integer:  96%|█████████▌| 25/26 [04:10<00:08,  8.59s/it]"
     ]
    },
    {
     "name": "stdout",
     "output_type": "stream",
     "text": [
      "Processing batch from offset 2500000 to 2600000\n"
     ]
    },
    {
     "name": "stderr",
     "output_type": "stream",
     "text": [
      "Converting REVIEWS ids to integer: 100%|██████████| 26/26 [04:25<00:00, 10.21s/it]\n"
     ]
    }
   ],
   "source": [
    "# Total node counts from your exploration (1.5)\n",
    "total_reviews = 2_549_252\n",
    "operation_clause = \"SET n.beer_id = toInteger(n.beer_id), n.id = toInteger(n.id)\"\n",
    "execute_batch_write(driver, \"REVIEWS\", operation_clause, total_reviews, desc=\"Converting REVIEWS ids to integer\")"
   ]
  },
  {
   "cell_type": "code",
   "execution_count": 24,
   "metadata": {},
   "outputs": [
    {
     "name": "stdout",
     "output_type": "stream",
     "text": [
      "[<Record n.brewery_id=2199 n.id=202522>,\n",
      " <Record n.brewery_id=18604 n.id=82352>,\n",
      " <Record n.brewery_id=44306 n.id=214879>,\n",
      " <Record n.brewery_id=4378 n.id=320009>,\n",
      " <Record n.brewery_id=44617 n.id=246438>]\n",
      "[<Record n.id=19730>,\n",
      " <Record n.id=32541>,\n",
      " <Record n.id=44736>,\n",
      " <Record n.id=23372>,\n",
      " <Record n.id=35328>]\n",
      "[<Record n.beer_id=125646 n.id=1>,\n",
      " <Record n.beer_id=125646 n.id=2>,\n",
      " <Record n.beer_id=125646 n.id=3>,\n",
      " <Record n.beer_id=125646 n.id=4>,\n",
      " <Record n.beer_id=125646 n.id=6>]\n"
     ]
    }
   ],
   "source": [
    "# Verify the changes\n",
    "query = \"\"\"\n",
    "    MATCH (n:BEERS)\n",
    "    RETURN n.brewery_id, n.id\n",
    "    LIMIT 5\n",
    "\"\"\"\n",
    "result = execute_read(driver, query)\n",
    "pprint(result)\n",
    "\n",
    "query = \"\"\"\n",
    "    MATCH (n:BREWERIES)\n",
    "    RETURN n.id\n",
    "    LIMIT 5\n",
    "\"\"\"\n",
    "result = execute_read(driver, query)\n",
    "pprint(result)\n",
    "\n",
    "query = \"\"\"\n",
    "    MATCH (n:REVIEWS)\n",
    "    RETURN n.beer_id, n.id\n",
    "    LIMIT 5\n",
    "\"\"\"\n",
    "result = execute_read(driver, query)\n",
    "pprint(result)"
   ]
  },
  {
   "cell_type": "code",
   "execution_count": 25,
   "metadata": {},
   "outputs": [
    {
     "name": "stdout",
     "output_type": "stream",
     "text": [
      "[]\n"
     ]
    },
    {
     "name": "stderr",
     "output_type": "stream",
     "text": [
      "Converting REVIEWS properties to float:   0%|          | 0/11 [00:00<?, ?it/s]"
     ]
    },
    {
     "name": "stdout",
     "output_type": "stream",
     "text": [
      "Processing batch from offset 0 to 250000\n"
     ]
    },
    {
     "name": "stderr",
     "output_type": "stream",
     "text": [
      "Converting REVIEWS properties to float:   9%|▉         | 1/11 [00:31<05:16, 31.69s/it]"
     ]
    },
    {
     "name": "stdout",
     "output_type": "stream",
     "text": [
      "Processing batch from offset 250000 to 500000\n"
     ]
    },
    {
     "name": "stderr",
     "output_type": "stream",
     "text": [
      "Converting REVIEWS properties to float:  18%|█▊        | 2/11 [00:53<03:54, 26.07s/it]"
     ]
    },
    {
     "name": "stdout",
     "output_type": "stream",
     "text": [
      "Processing batch from offset 500000 to 750000\n"
     ]
    },
    {
     "name": "stderr",
     "output_type": "stream",
     "text": [
      "Converting REVIEWS properties to float:  27%|██▋       | 3/11 [01:29<04:02, 30.37s/it]"
     ]
    },
    {
     "name": "stdout",
     "output_type": "stream",
     "text": [
      "Processing batch from offset 750000 to 1000000\n"
     ]
    },
    {
     "name": "stderr",
     "output_type": "stream",
     "text": [
      "Converting REVIEWS properties to float:  36%|███▋      | 4/11 [01:50<03:07, 26.72s/it]"
     ]
    },
    {
     "name": "stdout",
     "output_type": "stream",
     "text": [
      "Processing batch from offset 1000000 to 1250000\n"
     ]
    },
    {
     "name": "stderr",
     "output_type": "stream",
     "text": [
      "Converting REVIEWS properties to float:  45%|████▌     | 5/11 [02:29<03:06, 31.12s/it]"
     ]
    },
    {
     "name": "stdout",
     "output_type": "stream",
     "text": [
      "Processing batch from offset 1250000 to 1500000\n"
     ]
    },
    {
     "name": "stderr",
     "output_type": "stream",
     "text": [
      "Converting REVIEWS properties to float:  55%|█████▍    | 6/11 [03:07<02:47, 33.42s/it]"
     ]
    },
    {
     "name": "stdout",
     "output_type": "stream",
     "text": [
      "Processing batch from offset 1500000 to 1750000\n"
     ]
    },
    {
     "name": "stderr",
     "output_type": "stream",
     "text": [
      "Converting REVIEWS properties to float:  64%|██████▎   | 7/11 [03:30<01:59, 29.96s/it]"
     ]
    },
    {
     "name": "stdout",
     "output_type": "stream",
     "text": [
      "Processing batch from offset 1750000 to 2000000\n"
     ]
    },
    {
     "name": "stderr",
     "output_type": "stream",
     "text": [
      "Converting REVIEWS properties to float:  73%|███████▎  | 8/11 [04:04<01:34, 31.41s/it]"
     ]
    },
    {
     "name": "stdout",
     "output_type": "stream",
     "text": [
      "Processing batch from offset 2000000 to 2250000\n"
     ]
    },
    {
     "name": "stderr",
     "output_type": "stream",
     "text": [
      "Converting REVIEWS properties to float:  82%|████████▏ | 9/11 [04:26<00:57, 28.56s/it]"
     ]
    },
    {
     "name": "stdout",
     "output_type": "stream",
     "text": [
      "Processing batch from offset 2250000 to 2500000\n"
     ]
    },
    {
     "name": "stderr",
     "output_type": "stream",
     "text": [
      "Converting REVIEWS properties to float:  91%|█████████ | 10/11 [04:59<00:29, 29.79s/it]"
     ]
    },
    {
     "name": "stdout",
     "output_type": "stream",
     "text": [
      "Processing batch from offset 2500000 to 2750000\n"
     ]
    },
    {
     "name": "stderr",
     "output_type": "stream",
     "text": [
      "Converting REVIEWS properties to float: 100%|██████████| 11/11 [05:03<00:00, 27.61s/it]\n"
     ]
    }
   ],
   "source": [
    "# 2.1. Convert BEERS.abv, REVIEWS.look, REVIEWS.overall, REVIEWS.score, REVIEWS.smell, REVIEWS.taste to float\n",
    "query = \"\"\"\n",
    "    MATCH (n:BEERS)\n",
    "    SET n.abv = toFloat(n.abv);\n",
    "\"\"\"\n",
    "result = execute_write(driver, query)\n",
    "pprint(result)\n",
    "\n",
    "# query = \"\"\"\n",
    "#     MATCH (n:REVIEWS)\n",
    "#     SET n.feel = toFloat(n.feel)\n",
    "#     SET n.look = toFloat(n.look)\n",
    "#     SET n.overall = toFloat(n.overall)\n",
    "#     SET n.score = toFloat(n.score)\n",
    "#     SET n.smell = toFloat(n.smell)\n",
    "#     SET n.taste = toFloat(n.taste)\n",
    "# \"\"\"\n",
    "# result = execute_write(driver, query)\n",
    "# pprint(result)                                      # Original query failed due to Java heap space error\n",
    "\n",
    "# Total node counts from your exploration (1.5)\n",
    "total_reviews = 2_549_252\n",
    "\n",
    "# Convert REVIEWS properties to float in batches\n",
    "operation_clause = \"\"\"\n",
    "    SET n.feel = toFloat(n.feel),\n",
    "        n.look = toFloat(n.look), \n",
    "        n.overall = toFloat(n.overall), \n",
    "        n.score = toFloat(n.score), \n",
    "        n.smell = toFloat(n.smell), \n",
    "        n.taste = toFloat(n.taste)\n",
    "\"\"\"\n",
    "execute_batch_write(driver, \"REVIEWS\", operation_clause, total_reviews, batch_size=250_000,  desc=\"Converting REVIEWS properties to float\")"
   ]
  },
  {
   "cell_type": "code",
   "execution_count": 26,
   "metadata": {},
   "outputs": [
    {
     "name": "stdout",
     "output_type": "stream",
     "text": [
      "[<Record n.abv=7.3>,\n",
      " <Record n.abv=10.4>,\n",
      " <Record n.abv=4.0>,\n",
      " <Record n.abv=8.7>,\n",
      " <Record n.abv=5.1>]\n",
      "[<Record n.look=4.5 n.overall=4.5 n.score=4.5 n.smell=4.5 n.taste=4.5>,\n",
      " <Record n.look=4.75 n.overall=4.75 n.score=4.75 n.smell=4.75 n.taste=4.75>,\n",
      " <Record n.look=4.75 n.overall=4.5 n.score=4.58 n.smell=4.75 n.taste=4.5>,\n",
      " <Record n.look=4.25 n.overall=4.25 n.score=4.31 n.smell=4.5 n.taste=4.25>,\n",
      " <Record n.look=4.75 n.overall=4.75 n.score=4.69 n.smell=4.5 n.taste=4.75>]\n"
     ]
    }
   ],
   "source": [
    "# Verify the changes\n",
    "query = \"\"\"\n",
    "    MATCH (n:BEERS)\n",
    "    RETURN n.abv\n",
    "    LIMIT 5\n",
    "\"\"\"\n",
    "result = execute_read(driver, query)\n",
    "pprint(result)\n",
    "\n",
    "query = \"\"\"\n",
    "    MATCH (n:REVIEWS)\n",
    "    RETURN n.look, n.overall, n.score, n.smell, n.taste\n",
    "    LIMIT 5\n",
    "\"\"\"\n",
    "result = execute_read(driver, query)\n",
    "pprint(result)"
   ]
  },
  {
   "cell_type": "code",
   "execution_count": 27,
   "metadata": {},
   "outputs": [
    {
     "name": "stdout",
     "output_type": "stream",
     "text": [
      "[<Record date='2017-12-21'>,\n",
      " <Record date='2017-12-20'>,\n",
      " <Record date='2017-12-19'>,\n",
      " <Record date='2017-12-10'>,\n",
      " <Record date='2017-12-09'>]\n"
     ]
    }
   ],
   "source": [
    "# 2.1. Convert REVIEWS.date to date format\n",
    "#      Source: https://neo4j.com/developer/kb/neo4j-string-to-date/\n",
    "\n",
    "# Confirm that the date format is in the correct format (YYYY-MM-DD)\n",
    "query = \"\"\"\n",
    "    MATCH (n:REVIEWS)\n",
    "    WITH n.date AS date\n",
    "    RETURN DISTINCT date\n",
    "    LIMIT 5\n",
    "\"\"\"\n",
    "result = execute_read(driver, query)\n",
    "pprint(result)"
   ]
  },
  {
   "cell_type": "code",
   "execution_count": 28,
   "metadata": {},
   "outputs": [
    {
     "name": "stderr",
     "output_type": "stream",
     "text": [
      "Converting REVIEWS date to date format:   0%|          | 0/11 [00:00<?, ?it/s]"
     ]
    },
    {
     "name": "stdout",
     "output_type": "stream",
     "text": [
      "Processing batch from offset 0 to 250000\n"
     ]
    },
    {
     "name": "stderr",
     "output_type": "stream",
     "text": [
      "Converting REVIEWS date to date format:   9%|▉         | 1/11 [00:07<01:11,  7.12s/it]"
     ]
    },
    {
     "name": "stdout",
     "output_type": "stream",
     "text": [
      "Processing batch from offset 250000 to 500000\n"
     ]
    },
    {
     "name": "stderr",
     "output_type": "stream",
     "text": [
      "Converting REVIEWS date to date format:  18%|█▊        | 2/11 [00:12<00:54,  6.11s/it]"
     ]
    },
    {
     "name": "stdout",
     "output_type": "stream",
     "text": [
      "Processing batch from offset 500000 to 750000\n"
     ]
    },
    {
     "name": "stderr",
     "output_type": "stream",
     "text": [
      "Converting REVIEWS date to date format:  27%|██▋       | 3/11 [00:19<00:51,  6.40s/it]"
     ]
    },
    {
     "name": "stdout",
     "output_type": "stream",
     "text": [
      "Processing batch from offset 750000 to 1000000\n"
     ]
    },
    {
     "name": "stderr",
     "output_type": "stream",
     "text": [
      "Converting REVIEWS date to date format:  36%|███▋      | 4/11 [00:26<00:46,  6.62s/it]"
     ]
    },
    {
     "name": "stdout",
     "output_type": "stream",
     "text": [
      "Processing batch from offset 1000000 to 1250000\n"
     ]
    },
    {
     "name": "stderr",
     "output_type": "stream",
     "text": [
      "Converting REVIEWS date to date format:  45%|████▌     | 5/11 [00:33<00:40,  6.74s/it]"
     ]
    },
    {
     "name": "stdout",
     "output_type": "stream",
     "text": [
      "Processing batch from offset 1250000 to 1500000\n"
     ]
    },
    {
     "name": "stderr",
     "output_type": "stream",
     "text": [
      "Converting REVIEWS date to date format:  55%|█████▍    | 6/11 [00:42<00:37,  7.45s/it]"
     ]
    },
    {
     "name": "stdout",
     "output_type": "stream",
     "text": [
      "Processing batch from offset 1500000 to 1750000\n"
     ]
    },
    {
     "name": "stderr",
     "output_type": "stream",
     "text": [
      "Converting REVIEWS date to date format:  64%|██████▎   | 7/11 [01:01<00:45, 11.25s/it]"
     ]
    },
    {
     "name": "stdout",
     "output_type": "stream",
     "text": [
      "Processing batch from offset 1750000 to 2000000\n"
     ]
    },
    {
     "name": "stderr",
     "output_type": "stream",
     "text": [
      "Converting REVIEWS date to date format:  73%|███████▎  | 8/11 [01:08<00:29,  9.97s/it]"
     ]
    },
    {
     "name": "stdout",
     "output_type": "stream",
     "text": [
      "Processing batch from offset 2000000 to 2250000\n"
     ]
    },
    {
     "name": "stderr",
     "output_type": "stream",
     "text": [
      "Converting REVIEWS date to date format:  82%|████████▏ | 9/11 [01:15<00:18,  9.00s/it]"
     ]
    },
    {
     "name": "stdout",
     "output_type": "stream",
     "text": [
      "Processing batch from offset 2250000 to 2500000\n"
     ]
    },
    {
     "name": "stderr",
     "output_type": "stream",
     "text": [
      "Converting REVIEWS date to date format:  91%|█████████ | 10/11 [01:22<00:08,  8.48s/it]"
     ]
    },
    {
     "name": "stdout",
     "output_type": "stream",
     "text": [
      "Processing batch from offset 2500000 to 2750000\n"
     ]
    },
    {
     "name": "stderr",
     "output_type": "stream",
     "text": [
      "Converting REVIEWS date to date format: 100%|██████████| 11/11 [01:23<00:00,  7.63s/it]\n"
     ]
    }
   ],
   "source": [
    "# Total node counts from your exploration (1.5)\n",
    "total_reviews = 2_549_252\n",
    "\n",
    "# Convert REVIEWS.date to date format in batches\n",
    "operation_clause = \"\"\"\n",
    "    SET n.date = date(n.date)\n",
    "\"\"\"\n",
    "execute_batch_write(driver, \"REVIEWS\", operation_clause, total_reviews, batch_size=250_000, desc=\"Converting REVIEWS date to date format\")"
   ]
  },
  {
   "cell_type": "code",
   "execution_count": 29,
   "metadata": {},
   "outputs": [
    {
     "name": "stdout",
     "output_type": "stream",
     "text": [
      "[<Record n.date=neo4j.time.Date(2017, 12, 21)>,\n",
      " <Record n.date=neo4j.time.Date(2017, 12, 21)>,\n",
      " <Record n.date=neo4j.time.Date(2017, 12, 20)>,\n",
      " <Record n.date=neo4j.time.Date(2017, 12, 20)>,\n",
      " <Record n.date=neo4j.time.Date(2017, 12, 19)>]\n"
     ]
    }
   ],
   "source": [
    "# Verify the changes\n",
    "query = \"\"\"\n",
    "    MATCH (n:REVIEWS)\n",
    "    RETURN n.date\n",
    "    LIMIT 5\n",
    "\"\"\"\n",
    "result = execute_read(driver, query)\n",
    "pprint(result)"
   ]
  },
  {
   "cell_type": "code",
   "execution_count": 30,
   "metadata": {},
   "outputs": [
    {
     "name": "stdout",
     "output_type": "stream",
     "text": [
      "[]\n"
     ]
    }
   ],
   "source": [
    "# Convert BEERS.retired to boolean format\n",
    "query = \"\"\"\n",
    "    MATCH (r:BEERS)\n",
    "    SET r.retired = CASE \n",
    "            WHEN toLower(trim(r.retired)) = 't' THEN true \n",
    "            WHEN toLower(trim(r.retired)) = 'f' THEN false \n",
    "            ELSE r.retired\n",
    "        END \n",
    "\"\"\"\n",
    "result = execute_write(driver, query)\n",
    "pprint(result)"
   ]
  },
  {
   "cell_type": "code",
   "execution_count": 31,
   "metadata": {},
   "outputs": [
    {
     "name": "stdout",
     "output_type": "stream",
     "text": [
      "[<Record n.retired=False>,\n",
      " <Record n.retired=False>,\n",
      " <Record n.retired=True>,\n",
      " <Record n.retired=False>,\n",
      " <Record n.retired=False>]\n"
     ]
    }
   ],
   "source": [
    "# Verify the changes\n",
    "query = \"\"\"\n",
    "    MATCH (n:BEERS)\n",
    "    RETURN n.retired\n",
    "    LIMIT 5\n",
    "\"\"\"\n",
    "result = execute_read(driver, query)\n",
    "pprint(result)"
   ]
  },
  {
   "cell_type": "code",
   "execution_count": 32,
   "metadata": {},
   "outputs": [
    {
     "name": "stdout",
     "output_type": "stream",
     "text": [
      "Properties and types for each node label:\n",
      "Node Label: :`BEERS`        | Property: abv             | Type(s): Double               | Mandatory: False\n",
      "Node Label: :`BEERS`        | Property: availability    | Type(s): String               | Mandatory: True\n",
      "Node Label: :`BEERS`        | Property: brewery_id      | Type(s): Long                 | Mandatory: True\n",
      "Node Label: :`BEERS`        | Property: id              | Type(s): Long                 | Mandatory: True\n",
      "Node Label: :`BEERS`        | Property: name            | Type(s): String               | Mandatory: True\n",
      "Node Label: :`BEERS`        | Property: notes           | Type(s): String               | Mandatory: True\n",
      "Node Label: :`BEERS`        | Property: retired         | Type(s): Boolean              | Mandatory: True\n",
      "Node Label: :`BEERS`        | Property: state           | Type(s): String               | Mandatory: True\n",
      "Node Label: :`BREWERIES`    | Property: id              | Type(s): Long                 | Mandatory: True\n",
      "Node Label: :`BREWERIES`    | Property: name            | Type(s): String               | Mandatory: True\n",
      "Node Label: :`BREWERIES`    | Property: notes           | Type(s): String               | Mandatory: True\n",
      "Node Label: :`BREWERIES`    | Property: state           | Type(s): String               | Mandatory: True\n",
      "Node Label: :`BREWERIES`    | Property: types           | Type(s): String               | Mandatory: True\n",
      "Node Label: :`CITIES`       | Property: name            | Type(s): String               | Mandatory: True\n",
      "Node Label: :`COUNTRIES`    | Property: name            | Type(s): String               | Mandatory: True\n",
      "Node Label: :`REVIEWS`      | Property: beer_id         | Type(s): Long                 | Mandatory: True\n",
      "Node Label: :`REVIEWS`      | Property: date            | Type(s): Date                 | Mandatory: True\n",
      "Node Label: :`REVIEWS`      | Property: feel            | Type(s): Double               | Mandatory: False\n",
      "Node Label: :`REVIEWS`      | Property: id              | Type(s): Long                 | Mandatory: True\n",
      "Node Label: :`REVIEWS`      | Property: look            | Type(s): Double               | Mandatory: False\n",
      "Node Label: :`REVIEWS`      | Property: overall         | Type(s): Double               | Mandatory: False\n",
      "Node Label: :`REVIEWS`      | Property: score           | Type(s): Double               | Mandatory: True\n",
      "Node Label: :`REVIEWS`      | Property: smell           | Type(s): Double               | Mandatory: False\n",
      "Node Label: :`REVIEWS`      | Property: taste           | Type(s): Double               | Mandatory: False\n",
      "Node Label: :`REVIEWS`      | Property: text            | Type(s): String               | Mandatory: True\n",
      "Node Label: :`STYLE`        | Property: name            | Type(s): String               | Mandatory: True\n",
      "Node Label: :`USER`         | Property: name            | Type(s): String               | Mandatory: True\n"
     ]
    }
   ],
   "source": [
    "# Re-run the statistics query (1.7 & 1.12) to get the updated schema after the data type conversions\n",
    "\n",
    "# Get all properties for each node label\n",
    "query = \"\"\"\n",
    "    CALL db.schema.nodeTypeProperties() \n",
    "    YIELD nodeType, propertyName, propertyTypes, mandatory \n",
    "    WITH nodeType, propertyName, propertyTypes, mandatory \n",
    "    ORDER BY nodeType, propertyName \n",
    "    RETURN nodeType, propertyName, propertyTypes, mandatory\n",
    "\"\"\"\n",
    "properties_result = execute_read(driver, query)\n",
    "\n",
    "print(\"Properties and types for each node label:\")\n",
    "for rec in properties_result:\n",
    "    print(f\"Node Label: {rec['nodeType']:<15} | Property: {rec['propertyName']:<15} | Type(s): {', '.join(rec['propertyTypes']):<20} | Mandatory: {rec['mandatory']}\")"
   ]
  },
  {
   "cell_type": "markdown",
   "metadata": {},
   "source": [
    "- After converting the properties to the correct data types, we can see that the ***Mandatory Properties*** are different from the previous query. This means that we have missing values in the properties that we converted. We will have to check the missing values for other properties."
   ]
  },
  {
   "cell_type": "code",
   "execution_count": 33,
   "metadata": {},
   "outputs": [
    {
     "name": "stdout",
     "output_type": "stream",
     "text": [
      "\n",
      "\n",
      "Summary statistics of each property for each node label in the database:\n"
     ]
    },
    {
     "name": "stderr",
     "output_type": "stream",
     "text": [
      "100%|██████████| 27/27 [08:13<00:00, 18.26s/it]\n"
     ]
    },
    {
     "data": {
      "text/html": [
       "<div>\n",
       "<style scoped>\n",
       "    .dataframe tbody tr th:only-of-type {\n",
       "        vertical-align: middle;\n",
       "    }\n",
       "\n",
       "    .dataframe tbody tr th {\n",
       "        vertical-align: top;\n",
       "    }\n",
       "\n",
       "    .dataframe thead th {\n",
       "        text-align: right;\n",
       "    }\n",
       "</style>\n",
       "<table border=\"1\" class=\"dataframe\">\n",
       "  <thead>\n",
       "    <tr style=\"text-align: right;\">\n",
       "      <th></th>\n",
       "      <th></th>\n",
       "      <th>Count</th>\n",
       "      <th>Distinct Count</th>\n",
       "      <th>Mean</th>\n",
       "      <th>Min</th>\n",
       "      <th>Max</th>\n",
       "      <th>Missing Count</th>\n",
       "      <th>Missing Count (%)</th>\n",
       "    </tr>\n",
       "    <tr>\n",
       "      <th>Node</th>\n",
       "      <th>Property</th>\n",
       "      <th></th>\n",
       "      <th></th>\n",
       "      <th></th>\n",
       "      <th></th>\n",
       "      <th></th>\n",
       "      <th></th>\n",
       "      <th></th>\n",
       "    </tr>\n",
       "  </thead>\n",
       "  <tbody>\n",
       "    <tr>\n",
       "      <th rowspan=\"8\" valign=\"top\">BEERS</th>\n",
       "      <th>abv</th>\n",
       "      <td>372718</td>\n",
       "      <td>939</td>\n",
       "      <td>6.53</td>\n",
       "      <td>0.01</td>\n",
       "      <td>100</td>\n",
       "      <td>45028</td>\n",
       "      <td>12.08</td>\n",
       "    </tr>\n",
       "    <tr>\n",
       "      <th>availability</th>\n",
       "      <td>417746</td>\n",
       "      <td>20</td>\n",
       "      <td>-</td>\n",
       "      <td>-</td>\n",
       "      <td>-</td>\n",
       "      <td>0</td>\n",
       "      <td>0</td>\n",
       "    </tr>\n",
       "    <tr>\n",
       "      <th>brewery_id</th>\n",
       "      <td>417746</td>\n",
       "      <td>16569</td>\n",
       "      <td>24 592.84</td>\n",
       "      <td>1</td>\n",
       "      <td>54144</td>\n",
       "      <td>0</td>\n",
       "      <td>0</td>\n",
       "    </tr>\n",
       "    <tr>\n",
       "      <th>id</th>\n",
       "      <td>417746</td>\n",
       "      <td>358873</td>\n",
       "      <td>189 196.88</td>\n",
       "      <td>3</td>\n",
       "      <td>374406</td>\n",
       "      <td>0</td>\n",
       "      <td>0</td>\n",
       "    </tr>\n",
       "    <tr>\n",
       "      <th>name</th>\n",
       "      <td>417746</td>\n",
       "      <td>298567</td>\n",
       "      <td>-</td>\n",
       "      <td>-</td>\n",
       "      <td>-</td>\n",
       "      <td>0</td>\n",
       "      <td>0</td>\n",
       "    </tr>\n",
       "    <tr>\n",
       "      <th>notes</th>\n",
       "      <td>417746</td>\n",
       "      <td>48313</td>\n",
       "      <td>-</td>\n",
       "      <td>-</td>\n",
       "      <td>-</td>\n",
       "      <td>55</td>\n",
       "      <td>0.01</td>\n",
       "    </tr>\n",
       "    <tr>\n",
       "      <th>retired</th>\n",
       "      <td>417746</td>\n",
       "      <td>2</td>\n",
       "      <td>-</td>\n",
       "      <td>-</td>\n",
       "      <td>-</td>\n",
       "      <td>0</td>\n",
       "      <td>0</td>\n",
       "    </tr>\n",
       "    <tr>\n",
       "      <th>state</th>\n",
       "      <td>417746</td>\n",
       "      <td>68</td>\n",
       "      <td>-</td>\n",
       "      <td>-</td>\n",
       "      <td>-</td>\n",
       "      <td>70831</td>\n",
       "      <td>16.96</td>\n",
       "    </tr>\n",
       "    <tr>\n",
       "      <th rowspan=\"5\" valign=\"top\">BREWERIES</th>\n",
       "      <th>id</th>\n",
       "      <td>100694</td>\n",
       "      <td>50347</td>\n",
       "      <td>27 870.51</td>\n",
       "      <td>1</td>\n",
       "      <td>54156</td>\n",
       "      <td>0</td>\n",
       "      <td>0</td>\n",
       "    </tr>\n",
       "    <tr>\n",
       "      <th>name</th>\n",
       "      <td>100694</td>\n",
       "      <td>45245</td>\n",
       "      <td>-</td>\n",
       "      <td>-</td>\n",
       "      <td>-</td>\n",
       "      <td>0</td>\n",
       "      <td>0</td>\n",
       "    </tr>\n",
       "    <tr>\n",
       "      <th>notes</th>\n",
       "      <td>100694</td>\n",
       "      <td>3271</td>\n",
       "      <td>-</td>\n",
       "      <td>-</td>\n",
       "      <td>-</td>\n",
       "      <td>170</td>\n",
       "      <td>0.17</td>\n",
       "    </tr>\n",
       "    <tr>\n",
       "      <th>state</th>\n",
       "      <td>100694</td>\n",
       "      <td>68</td>\n",
       "      <td>-</td>\n",
       "      <td>-</td>\n",
       "      <td>-</td>\n",
       "      <td>22542</td>\n",
       "      <td>22.39</td>\n",
       "    </tr>\n",
       "    <tr>\n",
       "      <th>types</th>\n",
       "      <td>100694</td>\n",
       "      <td>30</td>\n",
       "      <td>-</td>\n",
       "      <td>-</td>\n",
       "      <td>-</td>\n",
       "      <td>0</td>\n",
       "      <td>0</td>\n",
       "    </tr>\n",
       "    <tr>\n",
       "      <th>CITIES</th>\n",
       "      <th>name</th>\n",
       "      <td>23330</td>\n",
       "      <td>11665</td>\n",
       "      <td>-</td>\n",
       "      <td>-</td>\n",
       "      <td>-</td>\n",
       "      <td>2</td>\n",
       "      <td>0.01</td>\n",
       "    </tr>\n",
       "    <tr>\n",
       "      <th>COUNTRIES</th>\n",
       "      <th>name</th>\n",
       "      <td>400</td>\n",
       "      <td>200</td>\n",
       "      <td>-</td>\n",
       "      <td>-</td>\n",
       "      <td>-</td>\n",
       "      <td>2</td>\n",
       "      <td>0.50</td>\n",
       "    </tr>\n",
       "    <tr>\n",
       "      <th rowspan=\"10\" valign=\"top\">REVIEWS</th>\n",
       "      <th>beer_id</th>\n",
       "      <td>2549252</td>\n",
       "      <td>189645</td>\n",
       "      <td>77 459.01</td>\n",
       "      <td>3</td>\n",
       "      <td>373128</td>\n",
       "      <td>19</td>\n",
       "      <td>0.00</td>\n",
       "    </tr>\n",
       "    <tr>\n",
       "      <th>date</th>\n",
       "      <td>2549252</td>\n",
       "      <td>6379</td>\n",
       "      <td>-</td>\n",
       "      <td>-</td>\n",
       "      <td>-</td>\n",
       "      <td>19</td>\n",
       "      <td>0.00</td>\n",
       "    </tr>\n",
       "    <tr>\n",
       "      <th>feel</th>\n",
       "      <td>1484819</td>\n",
       "      <td>17</td>\n",
       "      <td>3.89</td>\n",
       "      <td>1</td>\n",
       "      <td>5</td>\n",
       "      <td>1064452</td>\n",
       "      <td>71.69</td>\n",
       "    </tr>\n",
       "    <tr>\n",
       "      <th>id</th>\n",
       "      <td>2549252</td>\n",
       "      <td>2546141</td>\n",
       "      <td>4 517 442.86</td>\n",
       "      <td>1</td>\n",
       "      <td>9073127</td>\n",
       "      <td>19</td>\n",
       "      <td>0.00</td>\n",
       "    </tr>\n",
       "    <tr>\n",
       "      <th>look</th>\n",
       "      <td>1484819</td>\n",
       "      <td>17</td>\n",
       "      <td>3.95</td>\n",
       "      <td>1</td>\n",
       "      <td>5</td>\n",
       "      <td>1064452</td>\n",
       "      <td>71.69</td>\n",
       "    </tr>\n",
       "    <tr>\n",
       "      <th>overall</th>\n",
       "      <td>1484819</td>\n",
       "      <td>17</td>\n",
       "      <td>3.92</td>\n",
       "      <td>1</td>\n",
       "      <td>5</td>\n",
       "      <td>1064452</td>\n",
       "      <td>71.69</td>\n",
       "    </tr>\n",
       "    <tr>\n",
       "      <th>score</th>\n",
       "      <td>2549252</td>\n",
       "      <td>401</td>\n",
       "      <td>3.89</td>\n",
       "      <td>1</td>\n",
       "      <td>5</td>\n",
       "      <td>19</td>\n",
       "      <td>0.00</td>\n",
       "    </tr>\n",
       "    <tr>\n",
       "      <th>smell</th>\n",
       "      <td>1484819</td>\n",
       "      <td>17</td>\n",
       "      <td>3.89</td>\n",
       "      <td>1</td>\n",
       "      <td>5</td>\n",
       "      <td>1064452</td>\n",
       "      <td>71.69</td>\n",
       "    </tr>\n",
       "    <tr>\n",
       "      <th>taste</th>\n",
       "      <td>1484819</td>\n",
       "      <td>17</td>\n",
       "      <td>3.92</td>\n",
       "      <td>1</td>\n",
       "      <td>5</td>\n",
       "      <td>1064452</td>\n",
       "      <td>71.69</td>\n",
       "    </tr>\n",
       "    <tr>\n",
       "      <th>text</th>\n",
       "      <td>2549252</td>\n",
       "      <td>814333</td>\n",
       "      <td>-</td>\n",
       "      <td>-</td>\n",
       "      <td>-</td>\n",
       "      <td>19</td>\n",
       "      <td>0.00</td>\n",
       "    </tr>\n",
       "    <tr>\n",
       "      <th>STYLE</th>\n",
       "      <th>name</th>\n",
       "      <td>113</td>\n",
       "      <td>113</td>\n",
       "      <td>-</td>\n",
       "      <td>-</td>\n",
       "      <td>-</td>\n",
       "      <td>1</td>\n",
       "      <td>0.88</td>\n",
       "    </tr>\n",
       "    <tr>\n",
       "      <th>USER</th>\n",
       "      <th>name</th>\n",
       "      <td>123935</td>\n",
       "      <td>123935</td>\n",
       "      <td>-</td>\n",
       "      <td>-</td>\n",
       "      <td>-</td>\n",
       "      <td>1</td>\n",
       "      <td>0.00</td>\n",
       "    </tr>\n",
       "  </tbody>\n",
       "</table>\n",
       "</div>"
      ],
      "text/plain": [
       "                          Count  Distinct Count          Mean   Min      Max  \\\n",
       "Node      Property                                                             \n",
       "BEERS     abv            372718             939          6.53  0.01      100   \n",
       "          availability   417746              20             -     -        -   \n",
       "          brewery_id     417746           16569     24 592.84     1    54144   \n",
       "          id             417746          358873    189 196.88     3   374406   \n",
       "          name           417746          298567             -     -        -   \n",
       "          notes          417746           48313             -     -        -   \n",
       "          retired        417746               2             -     -        -   \n",
       "          state          417746              68             -     -        -   \n",
       "BREWERIES id             100694           50347     27 870.51     1    54156   \n",
       "          name           100694           45245             -     -        -   \n",
       "          notes          100694            3271             -     -        -   \n",
       "          state          100694              68             -     -        -   \n",
       "          types          100694              30             -     -        -   \n",
       "CITIES    name            23330           11665             -     -        -   \n",
       "COUNTRIES name              400             200             -     -        -   \n",
       "REVIEWS   beer_id       2549252          189645     77 459.01     3   373128   \n",
       "          date          2549252            6379             -     -        -   \n",
       "          feel          1484819              17          3.89     1        5   \n",
       "          id            2549252         2546141  4 517 442.86     1  9073127   \n",
       "          look          1484819              17          3.95     1        5   \n",
       "          overall       1484819              17          3.92     1        5   \n",
       "          score         2549252             401          3.89     1        5   \n",
       "          smell         1484819              17          3.89     1        5   \n",
       "          taste         1484819              17          3.92     1        5   \n",
       "          text          2549252          814333             -     -        -   \n",
       "STYLE     name              113             113             -     -        -   \n",
       "USER      name           123935          123935             -     -        -   \n",
       "\n",
       "                        Missing Count Missing Count (%)  \n",
       "Node      Property                                       \n",
       "BEERS     abv                   45028             12.08  \n",
       "          availability              0                 0  \n",
       "          brewery_id                0                 0  \n",
       "          id                        0                 0  \n",
       "          name                      0                 0  \n",
       "          notes                    55              0.01  \n",
       "          retired                   0                 0  \n",
       "          state                 70831             16.96  \n",
       "BREWERIES id                        0                 0  \n",
       "          name                      0                 0  \n",
       "          notes                   170              0.17  \n",
       "          state                 22542             22.39  \n",
       "          types                     0                 0  \n",
       "CITIES    name                      2              0.01  \n",
       "COUNTRIES name                      2              0.50  \n",
       "REVIEWS   beer_id                  19              0.00  \n",
       "          date                     19              0.00  \n",
       "          feel                1064452             71.69  \n",
       "          id                       19              0.00  \n",
       "          look                1064452             71.69  \n",
       "          overall             1064452             71.69  \n",
       "          score                    19              0.00  \n",
       "          smell               1064452             71.69  \n",
       "          taste               1064452             71.69  \n",
       "          text                     19              0.00  \n",
       "STYLE     name                      1              0.88  \n",
       "USER      name                      1              0.00  "
      ]
     },
     "execution_count": 33,
     "metadata": {},
     "output_type": "execute_result"
    }
   ],
   "source": [
    "print(\"\\n\\nSummary statistics of each property for each node label in the database:\")\n",
    "\n",
    "# Initialize a list to store statistics\n",
    "stats_list = []\n",
    "\n",
    "# Iterate over each property and calculate statistics\n",
    "for record in tqdm(properties_result):\n",
    "    nodeType = record['nodeType'].replace('`', '').replace(':', '')  # Remove backticks and ':'\n",
    "    propertyName = record['propertyName']\n",
    "    \n",
    "    # Construct query for each property\n",
    "    if propertyName.lower() in ['name', 'notes', 'state', 'availability', 'types', 'text']:\n",
    "        # String properties\n",
    "        stats_query = f\"\"\"\n",
    "            MATCH (n:{nodeType})\n",
    "            RETURN\n",
    "                '{nodeType}' AS nodeType,\n",
    "                '{propertyName}' AS propertyName,\n",
    "                COUNT(n.{propertyName}) AS count,\n",
    "                COUNT(DISTINCT n.{propertyName}) AS distinctCount,\n",
    "                '-' AS mean,\n",
    "                '-' AS min,\n",
    "                '-' AS max,\n",
    "                COUNT(CASE WHEN n.{propertyName} IS NULL OR n.{propertyName} = '' OR toLower(trim(n.{propertyName})) IN ['nan', 'null', 'none', ' '] THEN 1 ELSE NULL END) AS missingCount\n",
    "        \"\"\"\n",
    "    elif propertyName.lower() in ['retired', 'date']:\n",
    "        # Boolean & Date properties\n",
    "        stats_query = f\"\"\"\n",
    "            MATCH (n:{nodeType})\n",
    "            RETURN\n",
    "                '{nodeType}' AS nodeType,\n",
    "                '{propertyName}' AS propertyName,\n",
    "                COUNT(n.{propertyName}) AS count,\n",
    "                COUNT(DISTINCT n.{propertyName}) AS distinctCount,\n",
    "                '-' AS mean,\n",
    "                '-' AS min,\n",
    "                '-' AS max,\n",
    "                COUNT(CASE WHEN n.{propertyName} IS NULL THEN 1 ELSE NULL END) AS missingCount\n",
    "        \"\"\"\n",
    "    else:\n",
    "        # Numeric properties\n",
    "        stats_query = f\"\"\"\n",
    "            MATCH (n:{nodeType})\n",
    "            WITH n, n.{propertyName} AS value\n",
    "            RETURN\n",
    "                '{nodeType}' AS nodeType,\n",
    "                '{propertyName}' AS propertyName,\n",
    "                COUNT(value) AS count,\n",
    "                COUNT(DISTINCT value) AS distinctCount,\n",
    "                AVG(value) AS mean,\n",
    "                MIN(value) AS min,\n",
    "                MAX(value) AS max,\n",
    "                COUNT(CASE WHEN value IS NULL THEN 1 ELSE NULL END) AS missingCount\n",
    "        \"\"\"\n",
    "    \n",
    "    try:\n",
    "        stats_result = execute_read(driver, stats_query)\n",
    "        if stats_result:\n",
    "            stats_list.append(stats_result[0])\n",
    "    except Exception as e:\n",
    "        print(f\"Error processing {nodeType}.{propertyName}: {e}\")\n",
    "\n",
    "# Convert to DataFrame\n",
    "df = pd.DataFrame(stats_list, columns=['Node', 'Property', 'Count', 'Distinct Count', \n",
    "                                       'Mean', 'Min', 'Max', 'Missing Count'])                          # Convert the list to a DataFrame\n",
    "df['Missing Count (%)'] = (df['Missing Count'] / df['Count']) * 100                                     # Calculate the percentage of missing values\n",
    "df.set_index(['Node', 'Property'], inplace=True)                                                        # Set the index to Node and Property (Hierarchical Indexing)\n",
    "df.fillna('-', inplace=True)                                                                            # Fill NaN values with 0\n",
    "df = df.map(\n",
    "    lambda x: '{:,.0f}'.format(x).replace(',', ' ') if isinstance(x, float) and not np.isnan(x) and not np.isinf(x) and x == int(x) else\n",
    "              '{:,.2f}'.format(x).replace(',', ' ') if isinstance(x, float) and not np.isnan(x) and not np.isinf(x) else\n",
    "              x\n",
    ")                                                                                                                     # Format the DataFrame for better visualization\n",
    "df "
   ]
  },
  {
   "cell_type": "markdown",
   "metadata": {},
   "source": [
    "### **2.2. 🔄️ Find Duplicate Nodes**"
   ]
  },
  {
   "cell_type": "markdown",
   "metadata": {},
   "source": [
    "For each **node label**, we will find the **duplicates** based on the **`id`** property (or **`name`** for the ones that don't have an **`id`** property). We will then check if both duplicates have the same relationships. The summary of this analysis is presented in the last cell of this section."
   ]
  },
  {
   "cell_type": "code",
   "execution_count": 34,
   "metadata": {},
   "outputs": [
    {
     "name": "stdout",
     "output_type": "stream",
     "text": [
      "[<Record beerId=214879 count=2>,\n",
      " <Record beerId=8036 count=2>,\n",
      " <Record beerId=265827 count=2>,\n",
      " <Record beerId=110318 count=2>,\n",
      " <Record beerId=138971 count=2>,\n",
      " <Record beerId=199068 count=2>,\n",
      " <Record beerId=80010 count=2>,\n",
      " <Record beerId=55175 count=2>,\n",
      " <Record beerId=55 count=2>,\n",
      " <Record beerId=354484 count=2>]\n",
      "[<Record totalDuplicates=58873>]\n"
     ]
    }
   ],
   "source": [
    "# 2.2. Find duplicate nodes if any (BEERS)\n",
    "query = \"\"\"\n",
    "    // Find duplicate BEERS nodes\n",
    "    MATCH (b:BEERS)\n",
    "    WITH b.id AS beerId, count(b) AS count\n",
    "    WHERE count > 1\n",
    "    RETURN beerId, count\n",
    "    LIMIT 10\n",
    "\"\"\"\n",
    "result = execute_read(driver, query)\n",
    "pprint(result)\n",
    "\n",
    "query = \"\"\"\n",
    "    // Find the total number of duplicate BEERS nodes\n",
    "    MATCH (b:BEERS)\n",
    "    WITH b.id AS beerId, count(b) AS count\n",
    "    WHERE count > 1\n",
    "    RETURN count(beerId) AS totalDuplicates\n",
    "\"\"\"\n",
    "result = execute_read(driver, query)\n",
    "pprint(result)"
   ]
  },
  {
   "cell_type": "markdown",
   "metadata": {},
   "source": [
    "> In total we have $58873$ duplicate **`BEERS`** ($\\frac{58\\;873}{417\\;746} \\approx 14.1\\%$)"
   ]
  },
  {
   "cell_type": "code",
   "execution_count": 35,
   "metadata": {},
   "outputs": [
    {
     "name": "stdout",
     "output_type": "stream",
     "text": [
      "[<Record beerId=214879 id1=62214 id2=9721475 rels1=[<Relationship element_id='9494215' nodes=(<Node element_id='62214' labels=frozenset() properties={}>, <Node element_id='9494215' labels=frozenset() properties={}>) type='HAS_STYLE' properties={}>, <Relationship element_id='9072917' nodes=(<Node element_id='13515' labels=frozenset() properties={}>, <Node element_id='62214' labels=frozenset() properties={}>) type='BREWED' properties={}>] rels2=[]>,\n",
      " <Record beerId=214879 id1=9721475 id2=62214 rels1=[] rels2=[<Relationship element_id='9494215' nodes=(<Node element_id='62214' labels=frozenset() properties={}>, <Node element_id='9494215' labels=frozenset() properties={}>) type='HAS_STYLE' properties={}>, <Relationship element_id='9072917' nodes=(<Node element_id='13515' labels=frozenset() properties={}>, <Node element_id='62214' labels=frozenset() properties={}>) type='BREWED' properties={}>]>]\n",
      "[<Record totalCases=117746>]\n"
     ]
    }
   ],
   "source": [
    "# Verify if the duplicate nodes have same relationships\n",
    "query = \"\"\"\n",
    "    // Verify if the duplicate nodes have the same relationships\n",
    "    MATCH (b:BEERS)\n",
    "    WITH b.id AS beerId, count(b) AS count, collect(b) AS nodes\n",
    "    WHERE count > 1\n",
    "    WITH beerId, nodes\n",
    "    UNWIND nodes AS node1\n",
    "    UNWIND nodes AS node2\n",
    "    WITH beerId, node1, node2\n",
    "    WHERE id(node1) <> id(node2)\n",
    "    // Collect relationships for each node\n",
    "    OPTIONAL MATCH (node1)-[r1]-()\n",
    "    OPTIONAL MATCH (node2)-[r2]-()\n",
    "    WITH beerId, node1, node2, collect(r1) AS rels1, collect(r2) AS rels2\n",
    "    // Compare relationships\n",
    "    WHERE rels1 <> rels2\n",
    "    RETURN beerId, id(node1) AS id1, id(node2) AS id2, rels1, rels2\n",
    "    LIMIT 2\n",
    "\"\"\"\n",
    "result = execute_read(driver, query)\n",
    "pprint(result)\n",
    "\n",
    "query = \"\"\"\n",
    "    // Verify if the duplicate nodes have the same relationships\n",
    "    MATCH (b:BEERS)\n",
    "    WITH b.id AS beerId, count(b) AS count, collect(b) AS nodes\n",
    "    WHERE count > 1\n",
    "    WITH beerId, nodes\n",
    "    UNWIND nodes AS node1\n",
    "    UNWIND nodes AS node2\n",
    "    WITH beerId, node1, node2\n",
    "    WHERE id(node1) <> id(node2)\n",
    "    // Collect relationships for each node\n",
    "    OPTIONAL MATCH (node1)-[r1]-()\n",
    "    OPTIONAL MATCH (node2)-[r2]-()\n",
    "    WITH beerId, node1, node2, collect(r1) AS rels1, collect(r2) AS rels2\n",
    "    // Compare relationships\n",
    "    WHERE rels1 <> rels2\n",
    "    // Count how many cases\n",
    "    RETURN count(beerId) AS totalCases\n",
    "\"\"\"\n",
    "result = execute_read(driver, query)\n",
    "pprint(result)"
   ]
  },
  {
   "cell_type": "code",
   "execution_count": 36,
   "metadata": {},
   "outputs": [
    {
     "name": "stdout",
     "output_type": "stream",
     "text": [
      "[<Record breweryId=19730 breweryName='Brouwerij Danny' count=2>,\n",
      " <Record breweryId=32541 breweryName='Coachella Valley Brewing Co' count=2>,\n",
      " <Record breweryId=44736 breweryName=\"Beef 'O' Brady's\" count=2>,\n",
      " <Record breweryId=23372 breweryName='Broadway Wine Merchant' count=2>,\n",
      " <Record breweryId=35328 breweryName='Brighton Beer Dispensary (DUPLICATE)' count=2>,\n",
      " <Record breweryId=31561 breweryName=\"Teddy's Tavern\" count=2>,\n",
      " <Record breweryId=35975 breweryName='Modus Operandi Brewing Co.' count=2>,\n",
      " <Record breweryId=5618 breweryName='Hops! Beer Restaurant & Pizza' count=2>,\n",
      " <Record breweryId=30916 breweryName=\"Kelly's Cellars\" count=2>,\n",
      " <Record breweryId=41278 breweryName='The Other End' count=2>]\n",
      "[<Record totalDuplicates=50347>]\n"
     ]
    }
   ],
   "source": [
    "# 2.2 Find duplicate nodes if any (BREWERIES)\n",
    "query = \"\"\"\n",
    "    // Find duplicate BREWERIES nodes\n",
    "    MATCH (b:BREWERIES)\n",
    "    WITH b.id AS breweryId, b.name AS breweryName, count(b) AS count\n",
    "    WHERE count > 1\n",
    "    RETURN breweryId, breweryName, count\n",
    "    LIMIT 10\n",
    "\"\"\"\n",
    "result = execute_read(driver, query)\n",
    "pprint(result)\n",
    "\n",
    "query = \"\"\"\n",
    "    // Find the total number of duplicate BREWERIES nodes\n",
    "    MATCH (b:BREWERIES)\n",
    "    WITH b.id AS breweryId, count(b) AS count\n",
    "    WHERE count > 1\n",
    "    RETURN count(breweryId) AS totalDuplicates\n",
    "\"\"\"\n",
    "result = execute_read(driver, query)\n",
    "pprint(result)"
   ]
  },
  {
   "cell_type": "markdown",
   "metadata": {},
   "source": [
    "> In total we have $50; 347$ duplicate **`BREWERIES`** ($\\frac{50\\;347}{100\\;694} \\approx 50\\%$)"
   ]
  },
  {
   "cell_type": "code",
   "execution_count": 37,
   "metadata": {},
   "outputs": [
    {
     "name": "stdout",
     "output_type": "stream",
     "text": [
      "[<Record breweryId=19730 id1=11865 id2=9671126 rels1=[<Relationship element_id='9431789' nodes=(<Node element_id='11865' labels=frozenset() properties={}>, <Node element_id='200' labels=frozenset() properties={}>) type='IN' properties={}>, <Relationship element_id='9254060' nodes=(<Node element_id='11865' labels=frozenset() properties={}>, <Node element_id='243356' labels=frozenset() properties={}>) type='BREWED' properties={}>, <Relationship element_id='9165745' nodes=(<Node element_id='11865' labels=frozenset() properties={}>, <Node element_id='155042' labels=frozenset() properties={}>) type='BREWED' properties={}>, <Relationship element_id='9108729' nodes=(<Node element_id='11865' labels=frozenset() properties={}>, <Node element_id='98026' labels=frozenset() properties={}>) type='BREWED' properties={}>] rels2=[]>,\n",
      " <Record breweryId=19730 id1=9671126 id2=11865 rels1=[] rels2=[<Relationship element_id='9431789' nodes=(<Node element_id='11865' labels=frozenset() properties={}>, <Node element_id='200' labels=frozenset() properties={}>) type='IN' properties={}>, <Relationship element_id='9254060' nodes=(<Node element_id='11865' labels=frozenset() properties={}>, <Node element_id='243356' labels=frozenset() properties={}>) type='BREWED' properties={}>, <Relationship element_id='9165745' nodes=(<Node element_id='11865' labels=frozenset() properties={}>, <Node element_id='155042' labels=frozenset() properties={}>) type='BREWED' properties={}>, <Relationship element_id='9108729' nodes=(<Node element_id='11865' labels=frozenset() properties={}>, <Node element_id='98026' labels=frozenset() properties={}>) type='BREWED' properties={}>]>]\n",
      "[<Record totalCases=100694>]\n"
     ]
    }
   ],
   "source": [
    "# Verify if the duplicate nodes have same relationships\n",
    "query = \"\"\"\n",
    "    // Verify if the duplicate nodes have the same relationships\n",
    "    MATCH (b:BREWERIES)\n",
    "    WITH b.id AS breweryId, count(b) AS count, collect(b) AS nodes\n",
    "    WHERE count > 1\n",
    "    WITH breweryId, nodes\n",
    "    UNWIND nodes AS node1\n",
    "    UNWIND nodes AS node2\n",
    "    WITH breweryId, node1, node2\n",
    "    WHERE id(node1) <> id(node2)\n",
    "    // Collect relationships for each node\n",
    "    OPTIONAL MATCH (node1)-[r1]-()\n",
    "    OPTIONAL MATCH (node2)-[r2]-()\n",
    "    WITH breweryId, node1, node2, collect(r1) AS rels1, collect(r2) AS rels2\n",
    "    // Compare relationships\n",
    "    WHERE rels1 <> rels2\n",
    "    RETURN breweryId, id(node1) AS id1, id(node2) AS id2, rels1, rels2\n",
    "    LIMIT 2\n",
    "\"\"\"\n",
    "result = execute_read(driver, query)\n",
    "pprint(result)\n",
    "\n",
    "query = \"\"\"\n",
    "    // Verify if the duplicate nodes have the same relationships\n",
    "    MATCH (b:BREWERIES)\n",
    "    WITH b.id AS breweryId, count(b) AS count, collect(b) AS nodes\n",
    "    WHERE count > 1\n",
    "    WITH breweryId, nodes\n",
    "    UNWIND nodes AS node1\n",
    "    UNWIND nodes AS node2\n",
    "    WITH breweryId, node1, node2\n",
    "    WHERE id(node1) <> id(node2)\n",
    "    // Collect relationships for each node\n",
    "    OPTIONAL MATCH (node1)-[r1]-()\n",
    "    OPTIONAL MATCH (node2)-[r2]-()\n",
    "    WITH breweryId, node1, node2, collect(r1) AS rels1, collect(r2) AS rels2\n",
    "    // Compare relationships\n",
    "    WHERE rels1 <> rels2\n",
    "    // Count how many cases\n",
    "    RETURN count(breweryId) AS totalCases\n",
    "\"\"\"\n",
    "result = execute_read(driver, query)\n",
    "pprint(result)"
   ]
  },
  {
   "cell_type": "code",
   "execution_count": 38,
   "metadata": {},
   "outputs": [
    {
     "name": "stdout",
     "output_type": "stream",
     "text": [
      "[<Record id(b)=11865 b={'types': 'Brewery', 'notes': 'No notes at this time.', 'name': 'Brouwerij Danny', 'state': 'nan', 'id': 19730}>,\n",
      " <Record id(b)=9671126 b={'types': 'Brewery', 'notes': 'No notes at this time.', 'name': 'Brouwerij Danny', 'state': 'nan', 'id': 19730}>]\n"
     ]
    }
   ],
   "source": [
    "# Test the code below\n",
    "# 2.2.* Find a BREWERIES node with name \"Brouwerij Danny\" and check if there are duplicates\n",
    "query = \"\"\"\n",
    "    MATCH (b:BREWERIES {name: \"Brouwerij Danny\"})\n",
    "    RETURN id(b), b{.*}\n",
    "\"\"\"\n",
    "result = execute_read(driver, query)\n",
    "pprint(result)"
   ]
  },
  {
   "cell_type": "code",
   "execution_count": 39,
   "metadata": {},
   "outputs": [
    {
     "name": "stdout",
     "output_type": "stream",
     "text": [
      "[<Record countryName='BE' count=2>,\n",
      " <Record countryName='US' count=2>,\n",
      " <Record countryName='GB' count=2>,\n",
      " <Record countryName='AU' count=2>,\n",
      " <Record countryName='IT' count=2>,\n",
      " <Record countryName='CA' count=2>,\n",
      " <Record countryName='GR' count=2>,\n",
      " <Record countryName='FR' count=2>,\n",
      " <Record countryName='AT' count=2>,\n",
      " <Record countryName='ES' count=2>]\n",
      "[<Record totalDuplicates=200>]\n"
     ]
    }
   ],
   "source": [
    "# 2.2. Find duplicate nodes if any (COUNTRIES)\n",
    "query = \"\"\"\n",
    "    // Find duplicate COUNTRIES nodes\n",
    "    MATCH (c:COUNTRIES)\n",
    "    WITH c.name AS countryName, count(c) AS count\n",
    "    WHERE count > 1\n",
    "    RETURN countryName, count\n",
    "    LIMIT 10\n",
    "\"\"\"\n",
    "result = execute_read(driver, query)\n",
    "pprint(result)\n",
    "\n",
    "query = \"\"\"\n",
    "    // Find the total number of duplicate COUNTRIES nodes\n",
    "    MATCH (c:COUNTRIES)\n",
    "    WITH c.name AS countryName, count(c) AS count\n",
    "    WHERE count > 1\n",
    "    RETURN count(countryName) AS totalDuplicates\n",
    "\"\"\"\n",
    "result = execute_read(driver, query)\n",
    "pprint(result)"
   ]
  },
  {
   "cell_type": "markdown",
   "metadata": {},
   "source": [
    "> In total we have $200$ duplicate **`COUNTRIES`** ($\\frac{200}{400} = 50\\%$)"
   ]
  },
  {
   "cell_type": "code",
   "execution_count": 40,
   "metadata": {},
   "outputs": [
    {
     "name": "stdout",
     "output_type": "stream",
     "text": [
      "[]\n"
     ]
    }
   ],
   "source": [
    "# Adicional checking: Making sure if the ISO codes are real/valid\n",
    "query = \"\"\"\n",
    "        MATCH (c:COUNTRIES)\n",
    "        WHERE NOT c.code IN ['AD', 'AE', 'AF', 'AG', 'AI', 'AL', 'AM', 'AO', 'AQ', 'AR', 'AS', 'AT', 'AU', 'AW', \n",
    "            'AX', 'AZ', 'BA', 'BB', 'BD', 'BE', 'BF', 'BG', 'BH', 'BI', 'BJ', 'BL', 'BM', 'BN', 'BO', 'BQ', 'BR', \n",
    "            'BS', 'BT', 'BV', 'BW', 'BY', 'BZ', 'CA', 'CC', 'CD', 'CF', 'CG', 'CH', 'CI', 'CK', 'CL', 'CM', 'CN', \n",
    "            'CO', 'CR', 'CU', 'CV', 'CW', 'CX', 'CY', 'CZ', 'DE', 'DJ', 'DK', 'DM', 'DO', 'DZ', 'EC', 'EE', 'EG', \n",
    "            'EH', 'ER', 'ES', 'ET', 'FI', 'FJ', 'FK', 'FM', 'FO', 'FR', 'GA', 'GB', 'GD', 'GE', 'GF', 'GG', 'GH', \n",
    "            'GI', 'GL', 'GM', 'GN', 'GP', 'GQ', 'GR', 'GS', 'GT', 'GU', 'GW', 'GY', 'HK', 'HM', 'HN', 'HR', 'HT', \n",
    "            'HU', 'ID', 'IE', 'IL', 'IM', 'IN', 'IO', 'IQ', 'IR', 'IS', 'IT', 'JE', 'JM', 'JO', 'JP', 'KE', 'KG', \n",
    "            'KH', 'KI', 'KM', 'KN', 'KP', 'KR', 'KW', 'KY', 'KZ', 'LA', 'LB', 'LC', 'LI', 'LK', 'LR', 'LS', 'LT', \n",
    "            'LU', 'LV', 'LY', 'MA', 'MC', 'MD', 'ME', 'MF', 'MG', 'MH', 'MK', 'ML', 'MM', 'MN', 'MO', 'MP', 'MQ', \n",
    "            'MR', 'MS', 'MT', 'MU', 'MV', 'MW', 'MX', 'MY', 'MZ', 'NA', 'NC', 'NE', 'NF', 'NG', 'NI', 'NL', 'NO', \n",
    "            'NP', 'NR', 'NU', 'NZ', 'OM', 'PA', 'PE', 'PF', 'PG', 'PH', 'PK', 'PL', 'PM', 'PN', 'PR', 'PS', 'PT', \n",
    "            'PW', 'PY', 'QA', 'RE', 'RO', 'RS', 'RU', 'RW', 'SA', 'SB', 'SC', 'SD', 'SE', 'SG', 'SH', 'SI', 'SJ', \n",
    "            'SK', 'SL', 'SM', 'SN', 'SO', 'SR', 'SS', 'ST', 'SV', 'SX', 'SY', 'SZ', 'TC', 'TD', 'TF', 'TG', 'TH', \n",
    "            'TJ', 'TK', 'TL', 'TM', 'TN', 'TO', 'TR', 'TT', 'TV', 'TW', 'TZ', 'UA', 'UG', 'UM', 'US', 'UY', 'UZ', \n",
    "            'VA', 'VC', 'VE', 'VG', 'VI', 'VN', 'VU', 'WF', 'WS', 'YE', 'YT', 'ZA', 'ZM', 'ZW']\n",
    "        RETURN c.name\n",
    "\"\"\"\n",
    "\n",
    "result = execute_read(driver, query)\n",
    "\n",
    "pprint(result)"
   ]
  },
  {
   "cell_type": "markdown",
   "metadata": {},
   "source": [
    "- The name used for countries is <a href=\"https://www.iban.com/country-codes\" target=\"_blank\">Alpha-2</a><br>\n",
    "- With the previous query we can see that we all `COUNTRIE.name` are codes that exists and are valid."
   ]
  },
  {
   "cell_type": "code",
   "execution_count": 41,
   "metadata": {},
   "outputs": [
    {
     "name": "stdout",
     "output_type": "stream",
     "text": [
      "[<Record totalCases=400>]\n"
     ]
    }
   ],
   "source": [
    "# # Verify if the duplicate nodes have same relationships\n",
    "# query = \"\"\"\n",
    "#     // Verify if the duplicate nodes have the same relationships\n",
    "#     MATCH (c:COUNTRIES)\n",
    "#     WITH c.name AS countryName, count(c) AS count, collect(c) AS nodes\n",
    "#     WHERE count > 1\n",
    "#     WITH countryName, nodes\n",
    "#     UNWIND nodes AS node1\n",
    "#     UNWIND nodes AS node2\n",
    "#     WITH countryName, node1, node2\n",
    "#     WHERE id(node1) <> id(node2)\n",
    "#     // Collect relationships for each node\n",
    "#     OPTIONAL MATCH (node1)-[r1]-()\n",
    "#     OPTIONAL MATCH (node2)-[r2]-()\n",
    "#     WITH countryName, node1, node2, collect(r1) AS rels1, collect(r2) AS rels2\n",
    "#     // Compare relationships\n",
    "#     WHERE rels1 <> rels2\n",
    "#     RETURN countryName, id(node1) AS id1, id(node2) AS id2, rels1, rels2\n",
    "#     LIMIT 1\n",
    "# \"\"\"\n",
    "# result = execute_read(driver, query)\n",
    "# pprint(result)                                                                        # Large Output\n",
    "\n",
    "query = \"\"\"\n",
    "    // Verify if the duplicate nodes have the same relationships\n",
    "    MATCH (c:COUNTRIES)\n",
    "    WITH c.name AS countryName, count(c) AS count, collect(c) AS nodes\n",
    "    WHERE count > 1\n",
    "    WITH countryName, nodes\n",
    "    UNWIND nodes AS node1\n",
    "    UNWIND nodes AS node2\n",
    "    WITH countryName, node1, node2\n",
    "    WHERE id(node1) <> id(node2)\n",
    "    // Collect relationships for each node\n",
    "    OPTIONAL MATCH (node1)-[r1]-()\n",
    "    OPTIONAL MATCH (node2)-[r2]-()\n",
    "    WITH countryName, node1, node2, collect(r1) AS rels1, collect(r2) AS rels2\n",
    "    // Compare relationships\n",
    "    WHERE rels1 <> rels2\n",
    "    // Count how many cases\n",
    "    RETURN count(countryName) AS totalCases\n",
    "\"\"\"\n",
    "result = execute_read(driver, query)\n",
    "pprint(result)"
   ]
  },
  {
   "cell_type": "code",
   "execution_count": 42,
   "metadata": {},
   "outputs": [
    {
     "name": "stdout",
     "output_type": "stream",
     "text": [
      "[<Record cityName='Erpe-Mere' count=2>,\n",
      " <Record cityName='Thousand Palms' count=2>,\n",
      " <Record cityName='Plant City' count=2>,\n",
      " <Record cityName='Oklahoma City' count=2>,\n",
      " <Record cityName='Brighton' count=2>,\n",
      " <Record cityName='Seattle' count=2>,\n",
      " <Record cityName='Mona Vale' count=2>,\n",
      " <Record cityName='Riccione (RN)' count=2>,\n",
      " <Record cityName='Belfast' count=2>,\n",
      " <Record cityName='Destin' count=2>]\n",
      "[<Record totalDuplicates=11665>]\n"
     ]
    }
   ],
   "source": [
    "# 2.2. Find duplicate nodes if any (CITIES)\n",
    "query = \"\"\"\n",
    "    // Find duplicate CITIES nodes\n",
    "    MATCH (c:CITIES)\n",
    "    WITH c.name AS cityName, count(c) AS count\n",
    "    WHERE count > 1\n",
    "    RETURN cityName, count\n",
    "    LIMIT 10\n",
    "\"\"\"\n",
    "result = execute_read(driver, query)\n",
    "pprint(result)\n",
    "\n",
    "query = \"\"\"\n",
    "    // Find the total number of duplicate CITIES nodes\n",
    "    MATCH (c:CITIES)\n",
    "    WITH c.name AS cityName, count(c) AS count\n",
    "    WHERE count > 1\n",
    "    RETURN count(cityName) AS totalDuplicates\n",
    "\"\"\"\n",
    "result = execute_read(driver, query)\n",
    "pprint(result)"
   ]
  },
  {
   "cell_type": "markdown",
   "metadata": {},
   "source": [
    "> In total we have $11; 665$ duplicate **`CITIES`** ($\\frac{11\\;665}{23\\;330} = 50\\%$)"
   ]
  },
  {
   "cell_type": "code",
   "execution_count": 43,
   "metadata": {},
   "outputs": [
    {
     "name": "stdout",
     "output_type": "stream",
     "text": [
      "[<Record cityName='Erpe-Mere' id1=200 id2=9659461 rels1=[<Relationship element_id='9482136' nodes=(<Node element_id='200' labels=frozenset() properties={}>, <Node element_id='0' labels=frozenset() properties={}>) type='IN' properties={}>, <Relationship element_id='9458134' nodes=(<Node element_id='38210' labels=frozenset() properties={}>, <Node element_id='200' labels=frozenset() properties={}>) type='IN' properties={}>, <Relationship element_id='9431789' nodes=(<Node element_id='11865' labels=frozenset() properties={}>, <Node element_id='200' labels=frozenset() properties={}>) type='IN' properties={}>] rels2=[]>,\n",
      " <Record cityName='Erpe-Mere' id1=9659461 id2=200 rels1=[] rels2=[<Relationship element_id='9482136' nodes=(<Node element_id='200' labels=frozenset() properties={}>, <Node element_id='0' labels=frozenset() properties={}>) type='IN' properties={}>, <Relationship element_id='9458134' nodes=(<Node element_id='38210' labels=frozenset() properties={}>, <Node element_id='200' labels=frozenset() properties={}>) type='IN' properties={}>, <Relationship element_id='9431789' nodes=(<Node element_id='11865' labels=frozenset() properties={}>, <Node element_id='200' labels=frozenset() properties={}>) type='IN' properties={}>]>]\n",
      "[<Record totalCases=23330>]\n"
     ]
    }
   ],
   "source": [
    "# Verify if the duplicate nodes have same relationships\n",
    "query = \"\"\"\n",
    "    // Verify if the duplicate nodes have the same relationships\n",
    "    MATCH (c:CITIES)\n",
    "    WITH c.name AS cityName, count(c) AS count, collect(c) AS nodes\n",
    "    WHERE count > 1\n",
    "    WITH cityName, nodes\n",
    "    UNWIND nodes AS node1\n",
    "    UNWIND nodes AS node2\n",
    "    WITH cityName, node1, node2\n",
    "    WHERE id(node1) <> id(node2)\n",
    "    // Collect relationships for each node\n",
    "    OPTIONAL MATCH (node1)-[r1]-()\n",
    "    OPTIONAL MATCH (node2)-[r2]-()\n",
    "    WITH cityName, node1, node2, collect(r1) AS rels1, collect(r2) AS rels2\n",
    "    // Compare relationships\n",
    "    WHERE rels1 <> rels2\n",
    "    RETURN cityName, id(node1) AS id1, id(node2) AS id2, rels1, rels2\n",
    "    LIMIT 2\n",
    "\"\"\"\n",
    "result = execute_read(driver, query)\n",
    "pprint(result)\n",
    "\n",
    "query = \"\"\"\n",
    "    // Verify if the duplicate nodes have the same relationships\n",
    "    MATCH (c:CITIES)\n",
    "    WITH c.name AS cityName, count(c) AS count, collect(c) AS nodes\n",
    "    WHERE count > 1\n",
    "    WITH cityName, nodes\n",
    "    UNWIND nodes AS node1\n",
    "    UNWIND nodes AS node2\n",
    "    WITH cityName, node1, node2\n",
    "    WHERE id(node1) <> id(node2)\n",
    "    // Collect relationships for each node\n",
    "    OPTIONAL MATCH (node1)-[r1]-()\n",
    "    OPTIONAL MATCH (node2)-[r2]-()\n",
    "    WITH cityName, node1, node2, collect(r1) AS rels1, collect(r2) AS rels2\n",
    "    // Compare relationships\n",
    "    WHERE rels1 <> rels2\n",
    "    // Count how many cases\n",
    "    RETURN count(cityName) AS totalCases\n",
    "\"\"\"\n",
    "result = execute_read(driver, query)\n",
    "pprint(result)"
   ]
  },
  {
   "cell_type": "code",
   "execution_count": 44,
   "metadata": {},
   "outputs": [
    {
     "name": "stdout",
     "output_type": "stream",
     "text": [
      "[<Record totalDuplicatesStyles=0>]\n",
      "[<Record totalDuplicatesUsers=0>]\n"
     ]
    }
   ],
   "source": [
    "# 2.2. Find duplicate nodes if any (STYLES & USERS)\n",
    "query = \"\"\"\n",
    "    // Find the total number of duplicate STYLES nodes\n",
    "    MATCH (s:STYLES)\n",
    "    WITH s.name AS styleName, count(s) AS count\n",
    "    WHERE count > 1\n",
    "    RETURN count(styleName) AS totalDuplicatesStyles\n",
    "\"\"\"\n",
    "result = execute_read(driver, query)\n",
    "pprint(result)\n",
    "\n",
    "query = \"\"\"\n",
    "    // Find the total number of duplicate USER nodes\n",
    "    MATCH (u:USER)\n",
    "    WITH u.name AS userName, count(u) AS count\n",
    "    WHERE count > 1\n",
    "    RETURN count(userName) AS totalDuplicatesUsers\n",
    "\"\"\"\n",
    "result = execute_read(driver, query)\n",
    "pprint(result)"
   ]
  },
  {
   "cell_type": "markdown",
   "metadata": {},
   "source": [
    "> As we already saw in the ***Statistical Analysis of the Database***, we don't have any duplicate **`STYLE`** and **`USER`** nodes."
   ]
  },
  {
   "cell_type": "code",
   "execution_count": 45,
   "metadata": {},
   "outputs": [
    {
     "name": "stdout",
     "output_type": "stream",
     "text": [
      "[<Record reviewId=6 count=2>,\n",
      " <Record reviewId=12 count=2>,\n",
      " <Record reviewId=28 count=2>,\n",
      " <Record reviewId=32 count=2>,\n",
      " <Record reviewId=45 count=2>,\n",
      " <Record reviewId=60 count=2>,\n",
      " <Record reviewId=86 count=2>,\n",
      " <Record reviewId=90 count=2>,\n",
      " <Record reviewId=92 count=2>,\n",
      " <Record reviewId=107 count=2>]\n",
      "[<Record totalDuplicates=3111>]\n"
     ]
    }
   ],
   "source": [
    "# 2.2. Find duplicate nodes if any (REVIEWS)\n",
    "query = \"\"\"\n",
    "    // Find duplicate REVIEWS nodes\n",
    "    MATCH (r:REVIEWS)\n",
    "    WITH r.id AS reviewId, count(r) AS count\n",
    "    WHERE count > 1\n",
    "    RETURN reviewId, count\n",
    "    LIMIT 10\n",
    "\"\"\"\n",
    "result = execute_read(driver, query)\n",
    "pprint(result)\n",
    "\n",
    "query = \"\"\"\n",
    "    // Find the total number of duplicate REVIEWS nodes\n",
    "    MATCH (r:REVIEWS)\n",
    "    WITH r.id AS reviewId, count(r) AS count\n",
    "    WHERE count > 1\n",
    "    RETURN count(reviewId) AS totalDuplicates\n",
    "\"\"\"\n",
    "result = execute_read(driver, query)\n",
    "pprint(result)"
   ]
  },
  {
   "cell_type": "markdown",
   "metadata": {},
   "source": [
    "> In total we have $3\\; 111$ duplicate **`REVIEWS`** ($\\frac{3\\;111}{2\\;549\\;252} \\approx 0.1\\%$)"
   ]
  },
  {
   "cell_type": "code",
   "execution_count": 46,
   "metadata": {},
   "outputs": [
    {
     "name": "stdout",
     "output_type": "stream",
     "text": [
      "[<Record reviewId=6 id1=421091 id2=10080352 rels1=[<Relationship element_id='9853094' nodes=(<Node element_id='421091' labels=frozenset() properties={}>, <Node element_id='9494332' labels=frozenset() properties={}>) type='POSTED' properties={}>, <Relationship element_id='14' nodes=(<Node element_id='384103' labels=frozenset() properties={}>, <Node element_id='421091' labels=frozenset() properties={}>) type='REVIEWED' properties={}>] rels2=[]>,\n",
      " <Record reviewId=6 id1=10080352 id2=421091 rels1=[] rels2=[<Relationship element_id='9853094' nodes=(<Node element_id='421091' labels=frozenset() properties={}>, <Node element_id='9494332' labels=frozenset() properties={}>) type='POSTED' properties={}>, <Relationship element_id='14' nodes=(<Node element_id='384103' labels=frozenset() properties={}>, <Node element_id='421091' labels=frozenset() properties={}>) type='REVIEWED' properties={}>]>]\n",
      "[<Record totalCases=6222>]\n"
     ]
    }
   ],
   "source": [
    "# Verify if the duplicate nodes have same relationships (REVIEWS)\n",
    "query = \"\"\"\n",
    "    // Verify if the duplicate nodes have the same relationships\n",
    "    MATCH (r:REVIEWS)\n",
    "    WITH r.id AS reviewId, count(r) AS count, collect(r) AS nodes\n",
    "    WHERE count > 1\n",
    "    WITH reviewId, nodes\n",
    "    UNWIND nodes AS node1\n",
    "    UNWIND nodes AS node2\n",
    "    WITH reviewId, node1, node2\n",
    "    WHERE id(node1) <> id(node2)\n",
    "    // Collect relationships for each node\n",
    "    OPTIONAL MATCH (node1)-[r1]-()\n",
    "    OPTIONAL MATCH (node2)-[r2]-()\n",
    "    WITH reviewId, node1, node2, collect(r1) AS rels1, collect(r2) AS rels2\n",
    "    // Compare relationships\n",
    "    WHERE rels1 <> rels2\n",
    "    RETURN reviewId, id(node1) AS id1, id(node2) AS id2, rels1, rels2\n",
    "    LIMIT 2\n",
    "\"\"\"\n",
    "result = execute_read(driver, query)\n",
    "pprint(result)\n",
    "\n",
    "query = \"\"\"\n",
    "    // Verify if the duplicate nodes have the same relationships\n",
    "    MATCH (r:REVIEWS)\n",
    "    WITH r.id AS reviewId, count(r) AS count, collect(r) AS nodes\n",
    "    WHERE count > 1\n",
    "    WITH reviewId, nodes\n",
    "    UNWIND nodes AS node1\n",
    "    UNWIND nodes AS node2\n",
    "    WITH reviewId, node1, node2\n",
    "    WHERE id(node1) <> id(node2)\n",
    "    // Collect relationships for each node\n",
    "    OPTIONAL MATCH (node1)-[r1]-()\n",
    "    OPTIONAL MATCH (node2)-[r2]-()\n",
    "    WITH reviewId, node1, node2, collect(r1) AS rels1, collect(r2) AS rels2\n",
    "    // Compare relationships\n",
    "    WHERE rels1 <> rels2\n",
    "    // Count how many cases\n",
    "    RETURN count(reviewId) AS totalCases\n",
    "\"\"\"\n",
    "result = execute_read(driver, query)\n",
    "pprint(result)"
   ]
  },
  {
   "cell_type": "markdown",
   "metadata": {},
   "source": [
    "##### **Summary Table of Duplicate Nodes**\n",
    "\n",
    "<center>\n",
    "\n",
    "| Nodes           | Total    | Duplicates | Percentage |\n",
    "|:---------------:|:--------:|:----------:|:----------:|\n",
    "| **`BEERS`**     | 417,746  | 58,873     | 14.1%      |\n",
    "| **`BREWERIES`** | 100,694  | 50,347     | 50.0%      |\n",
    "| **`COUNTRIES`** | 400      | 200        | 50.0%      |\n",
    "| **`CITIES`**    | 23,330   | 11,665     | 50.0%      |\n",
    "| **`STYLE`**     | 113      | 0          | 0.0%       |\n",
    "| **`USER`**      | 123,935  | 0          | 0.0%       |\n",
    "| **`REVIEWS`**   | 2,549,252| 3,111      | 0.1%       |\n",
    "\n",
    "</center>"
   ]
  },
  {
   "cell_type": "markdown",
   "metadata": {},
   "source": [
    "---"
   ]
  },
  {
   "cell_type": "markdown",
   "metadata": {},
   "source": [
    "#### **2.2.1. 🗑️ Remove Duplicate Nodes**"
   ]
  },
  {
   "cell_type": "markdown",
   "metadata": {},
   "source": [
    "##### **First Case of Duplicate Nodes (One Node with Relationships and the Other Without)**\n",
    "\n",
    "> After identifying the duplicate nodes, we **collects the relationships** for the node to **keep** and checks if the duplicate nodes have any relationships. **Nodes with no relationships are deleted.**"
   ]
  },
  {
   "cell_type": "code",
   "execution_count": 47,
   "metadata": {},
   "outputs": [
    {
     "name": "stdout",
     "output_type": "stream",
     "text": [
      "[<Record beerId=214879 count=2>]\n",
      "[<Record b=<Node element_id='62214' labels=frozenset({'BEERS'}) properties={'notes': 'No notes at this time.', 'abv': 4.0, 'name': 'Scottish Right', 'retired': True, 'state': 'IN', 'id': 214879, 'brewery_id': 44306, 'availability': ' Year-round'}> rels=[<Relationship element_id='9494215' nodes=(<Node element_id='62214' labels=frozenset({'BEERS'}) properties={'notes': 'No notes at this time.', 'abv': 4.0, 'name': 'Scottish Right', 'retired': True, 'state': 'IN', 'id': 214879, 'brewery_id': 44306, 'availability': ' Year-round'}>, <Node element_id='9494215' labels=frozenset() properties={}>) type='HAS_STYLE' properties={}>, <Relationship element_id='9072917' nodes=(<Node element_id='13515' labels=frozenset() properties={}>, <Node element_id='62214' labels=frozenset({'BEERS'}) properties={'notes': 'No notes at this time.', 'abv': 4.0, 'name': 'Scottish Right', 'retired': True, 'state': 'IN', 'id': 214879, 'brewery_id': 44306, 'availability': ' Year-round'}>) type='BREWED' properties={}>]>,\n",
      " <Record b=<Node element_id='9721475' labels=frozenset({'BEERS'}) properties={'notes': 'No notes at this time.', 'abv': 4.0, 'name': 'Scottish Right', 'retired': True, 'state': 'IN', 'id': 214879, 'brewery_id': 44306, 'availability': ' Year-round'}> rels=[]>]\n"
     ]
    }
   ],
   "source": [
    "# Test the code \n",
    "query = \"\"\"MATCH (b:BEERS) WITH b.id AS beerId, count(b) AS count WHERE count > 1 RETURN beerId, count LIMIT 1\"\"\"\n",
    "result = execute_read(driver, query)\n",
    "pprint(result)                           # beerId=214879\n",
    "\n",
    "# Compare relationships of the duplicate node beerId=214879 as we did before\n",
    "query = \"\"\"\n",
    "    MATCH (b:BEERS)\n",
    "    WHERE b.id = 214879\n",
    "    OPTIONAL MATCH (b)-[r1]-()\n",
    "    RETURN b, collect(r1) AS rels\n",
    "\"\"\"\n",
    "result = execute_read(driver, query)\n",
    "pprint(result)                           # Node element_id='9721475' dont have relationships"
   ]
  },
  {
   "cell_type": "code",
   "execution_count": 48,
   "metadata": {},
   "outputs": [
    {
     "name": "stdout",
     "output_type": "stream",
     "text": [
      "Nodes to keep and delete:\n",
      "Beer ID: 214879\n",
      "Keep Node: <Node element_id='62214' labels=frozenset({'BEERS'}) properties={'notes': 'No notes at this time.', 'abv': 4.0, 'name': 'Scottish Right', 'retired': True, 'state': 'IN', 'id': 214879, 'brewery_id': 44306, 'availability': ' Year-round'}>\n",
      "Delete Node: <Node element_id='9721475' labels=frozenset({'BEERS'}) properties={'notes': 'No notes at this time.', 'abv': 4.0, 'name': 'Scottish Right', 'retired': True, 'state': 'IN', 'id': 214879, 'brewery_id': 44306, 'availability': ' Year-round'}>\n"
     ]
    }
   ],
   "source": [
    "query = \"\"\"\n",
    "    MATCH (b:BEERS)\n",
    "    WITH b.id AS beerId, collect(b) AS nodes\n",
    "    WHERE size(nodes) > 1\n",
    "    WITH beerId, nodes[0] AS keepNode, nodes[1..] AS deleteNodes\n",
    "    \n",
    "    // Collect relationships of the node to keep\n",
    "    OPTIONAL MATCH (keepNode)-[rKeep]->(target)\n",
    "    WITH beerId, keepNode, deleteNodes, collect(rKeep) AS keepRels, collect(target) AS keepTargets\n",
    "    OPTIONAL MATCH (source)-[rKeepIn]->(keepNode)\n",
    "    WITH beerId, keepNode, deleteNodes, keepRels, keepTargets, collect(rKeepIn) AS keepRelsIn, collect(source) AS keepSources\n",
    "    \n",
    "    // Process each node to delete\n",
    "    UNWIND deleteNodes AS delNode\n",
    "    \n",
    "    // Collect relationships of the node to delete\n",
    "    OPTIONAL MATCH (delNode)-[rDel]->(delTarget)\n",
    "    WITH beerId, keepNode, delNode, keepRels, keepTargets, keepRelsIn, keepSources,\n",
    "         collect(rDel) AS delRels, collect(delTarget) AS delTargets\n",
    "    OPTIONAL MATCH (delSource)-[rDelIn]->(delNode)\n",
    "    WITH beerId, keepNode, delNode, keepRels, keepTargets, keepRelsIn, keepSources,\n",
    "         delRels, delTargets, collect(rDelIn) AS delRelsIn, collect(delSource) AS delSources\n",
    "    \n",
    "    // Only proceed if delNode has no relationships and keepNode has some\n",
    "    WHERE size(delRels) = 0 AND size(delRelsIn) = 0 AND (size(keepRels) > 0 OR size(keepRelsIn) > 0)\n",
    "   \n",
    "    // For debugging: return what was kept and deleted\n",
    "    RETURN beerId, keepNode, delNode\n",
    "    LIMIT 1                                          // Limit for testing\n",
    "\"\"\"\n",
    "result = execute_read(driver, query)\n",
    "\n",
    "print(\"Nodes to keep and delete:\")\n",
    "for rec in result:\n",
    "     print(\"Beer ID:\", rec[\"beerId\"])\n",
    "     print(\"Keep Node:\", rec[\"keepNode\"])\n",
    "     print(\"Delete Node:\", rec[\"delNode\"])"
   ]
  },
  {
   "cell_type": "code",
   "execution_count": 49,
   "metadata": {},
   "outputs": [
    {
     "name": "stdout",
     "output_type": "stream",
     "text": [
      "[<Record nodesDeleted=58873>]\n"
     ]
    }
   ],
   "source": [
    "# 2.2.1.1. (BEERS - Duplicate property: id) - Merge duplicates and delete nodes with no relationships \n",
    "query = \"\"\"\n",
    "    MATCH (b:BEERS)\n",
    "    WITH b.id AS beerId, collect(b) AS nodes\n",
    "    WHERE size(nodes) > 1\n",
    "    WITH beerId, nodes[0] AS keepNode, nodes[1..] AS deleteNodes\n",
    "    \n",
    "    // Collect relationships of the node to keep\n",
    "    OPTIONAL MATCH (keepNode)-[rKeep]->(target)\n",
    "    WITH beerId, keepNode, deleteNodes, collect(rKeep) AS keepRels, collect(target) AS keepTargets\n",
    "    OPTIONAL MATCH (source)-[rKeepIn]->(keepNode)\n",
    "    WITH beerId, keepNode, deleteNodes, keepRels, keepTargets, collect(rKeepIn) AS keepRelsIn, collect(source) AS keepSources\n",
    "    \n",
    "    // Process each node to delete\n",
    "    UNWIND deleteNodes AS delNode\n",
    "    \n",
    "    // Collect relationships of the node to delete\n",
    "    OPTIONAL MATCH (delNode)-[rDel]->(delTarget)\n",
    "    WITH beerId, keepNode, delNode, keepRels, keepTargets, keepRelsIn, keepSources,\n",
    "         collect(rDel) AS delRels, collect(delTarget) AS delTargets\n",
    "    OPTIONAL MATCH (delSource)-[rDelIn]->(delNode)\n",
    "    WITH beerId, keepNode, delNode, keepRels, keepTargets, keepRelsIn, keepSources,\n",
    "         delRels, delTargets, collect(rDelIn) AS delRelsIn, collect(delSource) AS delSources\n",
    "    \n",
    "    // Only proceed if delNode has no relationships and keepNode has some\n",
    "    WHERE size(delRels) = 0 AND size(delRelsIn) = 0 AND (size(keepRels) > 0 OR size(keepRelsIn) > 0)\n",
    "    \n",
    "    // Delete the node with no relationships\n",
    "    DELETE delNode\n",
    "    \n",
    "    // For debugging: return what was kept and deleted\n",
    "    // RETURN beerId, keepNode, delNode\n",
    "    // LIMIT 1                                          // Limit for testing\n",
    "    \n",
    "    // Return the number of nodes deleted\n",
    "    RETURN count(delNode) AS nodesDeleted   \n",
    "\"\"\"\n",
    "result = execute_write(driver, query)\n",
    "pprint(result)"
   ]
  },
  {
   "cell_type": "code",
   "execution_count": 50,
   "metadata": {},
   "outputs": [
    {
     "name": "stdout",
     "output_type": "stream",
     "text": [
      "[<Record totalNodesWithRelationships=358873 totalNodes=358873>]\n"
     ]
    }
   ],
   "source": [
    "# Check if all BEERS nodes have relationships\n",
    "query = \"\"\"\n",
    "    MATCH (b:BEERS)\n",
    "    WITH count(b) AS totalNodes\n",
    "    MATCH (b:BEERS)\n",
    "    WHERE EXISTS { (b)-[]-() }\n",
    "    RETURN count(b) AS totalNodesWithRelationships, totalNodes\n",
    "\"\"\"\n",
    "result = execute_read(driver, query)\n",
    "pprint(result)"
   ]
  },
  {
   "cell_type": "code",
   "execution_count": 51,
   "metadata": {},
   "outputs": [
    {
     "name": "stdout",
     "output_type": "stream",
     "text": [
      "[<Record totalDuplicates=0>]\n"
     ]
    }
   ],
   "source": [
    "# Verify the changes\n",
    "query = \"\"\"\n",
    "    MATCH (b:BEERS)\n",
    "    WITH b.id AS beerId, count(b) AS count\n",
    "    WHERE count > 1\n",
    "    RETURN count(beerId) AS totalDuplicates\n",
    "\"\"\"\n",
    "result = execute_read(driver, query)\n",
    "pprint(result)"
   ]
  },
  {
   "cell_type": "code",
   "execution_count": 52,
   "metadata": {},
   "outputs": [
    {
     "name": "stdout",
     "output_type": "stream",
     "text": [
      "BREWERIES duplicates removed (no relationships):\n",
      "[<Record nodesDeleted=50347>]\n"
     ]
    }
   ],
   "source": [
    "# 2.2.1.2. (BREWERIES - Duplicate property: id) - Merge duplicates and delete nodes with no relationships\n",
    "query = \"\"\"\n",
    "    MATCH (b:BREWERIES)\n",
    "    WITH b.id AS breweryId, collect(b) AS nodes\n",
    "    WHERE size(nodes) > 1\n",
    "    WITH breweryId, nodes[0] AS keepNode, nodes[1..] AS deleteNodes\n",
    "    // Collect relationships of the node to keep\n",
    "    OPTIONAL MATCH (keepNode)-[rKeep]->(target)\n",
    "    WITH breweryId, keepNode, deleteNodes, collect(rKeep) AS keepRels, collect(target) AS keepTargets\n",
    "    OPTIONAL MATCH (source)-[rKeepIn]->(keepNode)\n",
    "    WITH breweryId, keepNode, deleteNodes, keepRels, keepTargets, collect(rKeepIn) AS keepRelsIn, collect(source) AS keepSources\n",
    "    // Process each node to delete\n",
    "    UNWIND deleteNodes AS delNode\n",
    "    // Collect relationships of the node to delete\n",
    "    OPTIONAL MATCH (delNode)-[rDel]->(delTarget)\n",
    "    WITH breweryId, keepNode, delNode, keepRels, keepTargets, keepRelsIn, keepSources,\n",
    "         collect(rDel) AS delRels, collect(delTarget) AS delTargets\n",
    "    OPTIONAL MATCH (delSource)-[rDelIn]->(delNode)\n",
    "    WITH breweryId, keepNode, delNode, keepRels, keepTargets, keepRelsIn, keepSources,\n",
    "         delRels, delTargets, collect(rDelIn) AS delRelsIn, collect(delSource) AS delSources\n",
    "    // Only proceed if delNode has no relationships and keepNode has some\n",
    "    WHERE size(delRels) = 0 AND size(delRelsIn) = 0 AND (size(keepRels) > 0 OR size(keepRelsIn) > 0)\n",
    "    // Delete the node with no relationships\n",
    "    DELETE delNode\n",
    "    // Return the number of nodes deleted\n",
    "    RETURN count(delNode) AS nodesDeleted\n",
    "\"\"\"\n",
    "result = execute_write(driver, query)\n",
    "print(\"BREWERIES duplicates removed (no relationships):\")\n",
    "pprint(result)"
   ]
  },
  {
   "cell_type": "code",
   "execution_count": 53,
   "metadata": {},
   "outputs": [
    {
     "name": "stdout",
     "output_type": "stream",
     "text": [
      "[<Record totalNodesWithRelationships=50347 totalNodes=50347>]\n"
     ]
    }
   ],
   "source": [
    "# Check if all BREWERIES nodes have relationships\n",
    "query = \"\"\"\n",
    "    MATCH (b:BREWERIES)\n",
    "    WITH count(b) AS totalNodes\n",
    "    MATCH (b:BREWERIES)\n",
    "    WHERE EXISTS { (b)-[]-() }\n",
    "    RETURN count(b) AS totalNodesWithRelationships, totalNodes\n",
    "\"\"\"\n",
    "result = execute_read(driver, query)\n",
    "pprint(result)"
   ]
  },
  {
   "cell_type": "code",
   "execution_count": 54,
   "metadata": {},
   "outputs": [
    {
     "name": "stdout",
     "output_type": "stream",
     "text": [
      "[<Record totalDuplicates=0>]\n"
     ]
    }
   ],
   "source": [
    "# Verify the changes\n",
    "query = \"\"\"\n",
    "    MATCH (b:BREWERIES)\n",
    "    WITH b.id AS breweryId, count(b) AS count\n",
    "    WHERE count > 1\n",
    "    RETURN count(breweryId) AS totalDuplicates\n",
    "\"\"\"\n",
    "result = execute_read(driver, query)\n",
    "pprint(result)"
   ]
  },
  {
   "cell_type": "code",
   "execution_count": 55,
   "metadata": {},
   "outputs": [
    {
     "name": "stdout",
     "output_type": "stream",
     "text": [
      "CITIES duplicates removed (no relationships):\n",
      "[<Record nodesDeleted=11665>]\n"
     ]
    }
   ],
   "source": [
    "# 2.2.1.3. (CITIES - Duplicate property: name) - Merge duplicates and delete nodes with no relationships\n",
    "query = \"\"\"\n",
    "    MATCH (c:CITIES)\n",
    "    WITH c.name AS cityName, collect(c) AS nodes\n",
    "    WHERE size(nodes) > 1\n",
    "    WITH cityName, nodes[0] AS keepNode, nodes[1..] AS deleteNodes\n",
    "    // Collect relationships of the node to keep\n",
    "    OPTIONAL MATCH (keepNode)-[rKeep]->(target)\n",
    "    WITH cityName, keepNode, deleteNodes, collect(rKeep) AS keepRels, collect(target) AS keepTargets\n",
    "    OPTIONAL MATCH (source)-[rKeepIn]->(keepNode)\n",
    "    WITH cityName, keepNode, deleteNodes, keepRels, keepTargets, collect(rKeepIn) AS keepRelsIn, collect(source) AS keepSources\n",
    "    // Process each node to delete\n",
    "    UNWIND deleteNodes AS delNode\n",
    "    // Collect relationships of the node to delete\n",
    "    OPTIONAL MATCH (delNode)-[rDel]->(delTarget)\n",
    "    WITH cityName, keepNode, delNode, keepRels, keepTargets, keepRelsIn, keepSources,\n",
    "         collect(rDel) AS delRels, collect(delTarget) AS delTargets\n",
    "    OPTIONAL MATCH (delSource)-[rDelIn]->(delNode)\n",
    "    WITH cityName, keepNode, delNode, keepRels, keepTargets, keepRelsIn, keepSources,\n",
    "         delRels, delTargets, collect(rDelIn) AS delRelsIn, collect(delSource) AS delSources\n",
    "    // Only proceed if delNode has no relationships and keepNode has some\n",
    "    WHERE size(delRels) = 0 AND size(delRelsIn) = 0 AND (size(keepRels) > 0 OR size(keepRelsIn) > 0)\n",
    "    // Delete the node with no relationships\n",
    "    DELETE delNode\n",
    "    // Return the number of nodes deleted\n",
    "    RETURN count(delNode) AS nodesDeleted\n",
    "\"\"\"\n",
    "result = execute_write(driver, query)\n",
    "print(\"CITIES duplicates removed (no relationships):\")\n",
    "pprint(result)"
   ]
  },
  {
   "cell_type": "code",
   "execution_count": 56,
   "metadata": {},
   "outputs": [
    {
     "name": "stdout",
     "output_type": "stream",
     "text": [
      "[<Record totalNodesWithRelationships=11665 totalNodes=11665>]\n",
      "[<Record totalDuplicates=0>]\n"
     ]
    }
   ],
   "source": [
    "# Check if all CITIES nodes have relationships\n",
    "query = \"\"\"\n",
    "    MATCH (c:CITIES)\n",
    "    WITH count(c) AS totalNodes\n",
    "    MATCH (c:CITIES)\n",
    "    WHERE EXISTS { (c)-[]-() }\n",
    "    RETURN count(c) AS totalNodesWithRelationships, totalNodes\n",
    "\"\"\"\n",
    "result = execute_read(driver, query)\n",
    "pprint(result)\n",
    "\n",
    "# Verify the changes\n",
    "query = \"\"\"\n",
    "    MATCH (c:CITIES)\n",
    "    WITH c.name AS cityName, count(c) AS count\n",
    "    WHERE count > 1\n",
    "    RETURN count(cityName) AS totalDuplicates\n",
    "\"\"\"\n",
    "result = execute_read(driver, query)\n",
    "pprint(result)"
   ]
  },
  {
   "cell_type": "code",
   "execution_count": 57,
   "metadata": {},
   "outputs": [
    {
     "name": "stdout",
     "output_type": "stream",
     "text": [
      "COUNTRIES duplicates removed (no relationships):\n",
      "[<Record nodesDeleted=200>]\n"
     ]
    }
   ],
   "source": [
    "# 2.2.1.4. (COUNTRIES - Duplicate property: name) - Merge duplicates and delete nodes with no relationships\n",
    "query = \"\"\"\n",
    "    MATCH (c:COUNTRIES)\n",
    "    WITH c.name AS countryName, collect(c) AS nodes\n",
    "    WHERE size(nodes) > 1\n",
    "    WITH countryName, nodes[0] AS keepNode, nodes[1..] AS deleteNodes\n",
    "    // Collect relationships of the node to keep\n",
    "    OPTIONAL MATCH (keepNode)-[rKeep]->(target)\n",
    "    WITH countryName, keepNode, deleteNodes, collect(rKeep) AS keepRels, collect(target) AS keepTargets\n",
    "    OPTIONAL MATCH (source)-[rKeepIn]->(keepNode)\n",
    "    WITH countryName, keepNode, deleteNodes, keepRels, keepTargets, collect(rKeepIn) AS keepRelsIn, collect(source) AS keepSources\n",
    "    // Process each node to delete\n",
    "    UNWIND deleteNodes AS delNode\n",
    "    // Collect relationships of the node to delete\n",
    "    OPTIONAL MATCH (delNode)-[rDel]->(delTarget)\n",
    "    WITH countryName, keepNode, delNode, keepRels, keepTargets, keepRelsIn, keepSources,\n",
    "         collect(rDel) AS delRels, collect(delTarget) AS delTargets\n",
    "    OPTIONAL MATCH (delSource)-[rDelIn]->(delNode)\n",
    "    WITH countryName, keepNode, delNode, keepRels, keepTargets, keepRelsIn, keepSources,\n",
    "         delRels, delTargets, collect(rDelIn) AS delRelsIn, collect(delSource) AS delSources\n",
    "    // Only proceed if delNode has no relationships and keepNode has some\n",
    "    WHERE size(delRels) = 0 AND size(delRelsIn) = 0 AND (size(keepRels) > 0 OR size(keepRelsIn) > 0)\n",
    "    // Delete the node with no relationships\n",
    "    DELETE delNode\n",
    "    // Return the number of nodes deleted\n",
    "    RETURN count(delNode) AS nodesDeleted\n",
    "\"\"\"\n",
    "result = execute_write(driver, query)\n",
    "print(\"COUNTRIES duplicates removed (no relationships):\")\n",
    "pprint(result)"
   ]
  },
  {
   "cell_type": "code",
   "execution_count": 58,
   "metadata": {},
   "outputs": [
    {
     "name": "stdout",
     "output_type": "stream",
     "text": [
      "[<Record totalNodesWithRelationships=200 totalNodes=200>]\n",
      "[<Record totalDuplicates=0>]\n"
     ]
    }
   ],
   "source": [
    "# Check if all COUNTRIES nodes have relationships\n",
    "query = \"\"\"\n",
    "    MATCH (c:COUNTRIES)\n",
    "    WITH count(c) AS totalNodes\n",
    "    MATCH (c:COUNTRIES)\n",
    "    WHERE EXISTS { (c)-[]-() }\n",
    "    RETURN count(c) AS totalNodesWithRelationships, totalNodes\n",
    "\"\"\"\n",
    "result = execute_read(driver, query)\n",
    "pprint(result)\n",
    "\n",
    "# Verify the changes\n",
    "query = \"\"\"\n",
    "    MATCH (c:COUNTRIES)\n",
    "    WITH c.name AS countryName, count(c) AS count\n",
    "    WHERE count > 1\n",
    "    RETURN count(countryName) AS totalDuplicates\n",
    "\"\"\"\n",
    "result = execute_read(driver, query)\n",
    "pprint(result)"
   ]
  },
  {
   "cell_type": "code",
   "execution_count": 59,
   "metadata": {},
   "outputs": [
    {
     "name": "stdout",
     "output_type": "stream",
     "text": [
      "REVIEWS duplicates removed (no relationships):\n",
      "[<Record nodesDeleted=3111>]\n"
     ]
    }
   ],
   "source": [
    "# 2.2.1.5. (REVIEWS - Duplicate property: id) - Merge duplicates and delete nodes with no relationships\n",
    "query = \"\"\"\n",
    "    MATCH (r:REVIEWS)\n",
    "    WITH r.id AS reviewId, collect(r) AS nodes\n",
    "    WHERE size(nodes) > 1\n",
    "    WITH reviewId, nodes[0] AS keepNode, nodes[1..] AS deleteNodes\n",
    "    // Collect relationships of the node to keep\n",
    "    OPTIONAL MATCH (keepNode)-[rKeep]->(target)\n",
    "    WITH reviewId, keepNode, deleteNodes, collect(rKeep) AS keepRels, collect(target) AS keepTargets\n",
    "    OPTIONAL MATCH (source)-[rKeepIn]->(keepNode)\n",
    "    WITH reviewId, keepNode, deleteNodes, keepRels, keepTargets, collect(rKeepIn) AS keepRelsIn, collect(source) AS keepSources\n",
    "    // Process each node to delete\n",
    "    UNWIND deleteNodes AS delNode\n",
    "    // Collect relationships of the node to delete\n",
    "    OPTIONAL MATCH (delNode)-[rDel]->(delTarget)\n",
    "    WITH reviewId, keepNode, delNode, keepRels, keepTargets, keepRelsIn, keepSources,\n",
    "         collect(rDel) AS delRels, collect(delTarget) AS delTargets\n",
    "    OPTIONAL MATCH (delSource)-[rDelIn]->(delNode)\n",
    "    WITH reviewId, keepNode, delNode, keepRels, keepTargets, keepRelsIn, keepSources,\n",
    "         delRels, delTargets, collect(rDelIn) AS delRelsIn, collect(delSource) AS delSources\n",
    "    // Only proceed if delNode has no relationships and keepNode has some\n",
    "    WHERE size(delRels) = 0 AND size(delRelsIn) = 0 AND (size(keepRels) > 0 OR size(keepRelsIn) > 0)\n",
    "    // Delete the node with no relationships\n",
    "    DELETE delNode\n",
    "    // Return the number of nodes deleted\n",
    "    RETURN count(delNode) AS nodesDeleted\n",
    "\"\"\"\n",
    "result = execute_write(driver, query)\n",
    "print(\"REVIEWS duplicates removed (no relationships):\")\n",
    "pprint(result)"
   ]
  },
  {
   "cell_type": "code",
   "execution_count": 60,
   "metadata": {},
   "outputs": [
    {
     "name": "stdout",
     "output_type": "stream",
     "text": [
      "[<Record totalNodesWithRelationships=2538044 totalNodes=2546160>]\n",
      "[<Record totalDuplicates=0>]\n"
     ]
    }
   ],
   "source": [
    "# Check if all REVIEWS nodes have relationships\n",
    "query = \"\"\"\n",
    "    MATCH (r:REVIEWS)\n",
    "    WITH count(r) AS totalNodes\n",
    "    MATCH (r:REVIEWS)\n",
    "    WHERE EXISTS { (r)-[]-() }\n",
    "    RETURN count(r) AS totalNodesWithRelationships, totalNodes\n",
    "\"\"\"\n",
    "result = execute_read(driver, query)\n",
    "pprint(result)\n",
    "\n",
    "# Verify the changes\n",
    "query = \"\"\"\n",
    "    MATCH (r:REVIEWS)\n",
    "    WITH r.id AS reviewId, count(r) AS count\n",
    "    WHERE count > 1\n",
    "    RETURN count(reviewId) AS totalDuplicates\n",
    "\"\"\"\n",
    "result = execute_read(driver, query)\n",
    "pprint(result)"
   ]
  },
  {
   "cell_type": "code",
   "execution_count": 61,
   "metadata": {},
   "outputs": [
    {
     "name": "stdout",
     "output_type": "stream",
     "text": [
      "[<Record nodesWithoutRelationships=8116 sampleNodes=[<Node element_id='921375' labels=frozenset() properties={}>, <Node element_id='921921' labels=frozenset() properties={}>, <Node element_id='922467' labels=frozenset() properties={}>, <Node element_id='923013' labels=frozenset() properties={}>, <Node element_id='923559' labels=frozenset() properties={}>]>]\n"
     ]
    }
   ],
   "source": [
    "# [<Record totalNodesWithRelationships=2538044 totalNodes=2546160>] - There are REVIEW nodes without relationships\n",
    "# Nodes without relationships: 2,546,160 - 2,538,044 = 8,116.\n",
    "\n",
    "query = \"\"\"\n",
    "    // Count and sample REVIEWS nodes without relationships\n",
    "    MATCH (r:REVIEWS)\n",
    "    WHERE NOT EXISTS { (r)-[]-() }\n",
    "    WITH count(r) AS nodesWithoutRelationships, collect(r) AS nodes\n",
    "    RETURN nodesWithoutRelationships, nodes[0..5] AS sampleNodes        // Sample 5 nodes for inspection | Source: https://stackoverflow.com/questions/19075817/retrieving-subset-of-array-list-on-neo4j-node-property\n",
    "\"\"\"\n",
    "result = execute_read(driver, query)\n",
    "pprint(result)"
   ]
  },
  {
   "cell_type": "code",
   "execution_count": 62,
   "metadata": {},
   "outputs": [
    {
     "name": "stdout",
     "output_type": "stream",
     "text": [
      "[]\n"
     ]
    }
   ],
   "source": [
    "# Remove the nodes from the previous query\n",
    "query = \"\"\"\n",
    "    // Remove REVIEWS nodes without relationships\n",
    "    MATCH (r:REVIEWS)\n",
    "    WHERE NOT EXISTS { (r)-[]-() }\n",
    "    DETACH DELETE r\n",
    "\"\"\"\n",
    "result = execute_write(driver, query)\n",
    "pprint(result)"
   ]
  },
  {
   "cell_type": "code",
   "execution_count": 63,
   "metadata": {},
   "outputs": [
    {
     "name": "stdout",
     "output_type": "stream",
     "text": [
      "[<Record totalNodesWithoutRelationships=19>]\n"
     ]
    }
   ],
   "source": [
    "# Check if nodes of REVIEWS without relationships were removed\n",
    "query = \"\"\"\n",
    "    MATCH (r:REVIEWS)\n",
    "    WHERE NOT EXISTS { (r)-[]-() }\n",
    "    RETURN count(r) AS totalNodesWithoutRelationships\n",
    "\"\"\"\n",
    "result = execute_read(driver, query)\n",
    "pprint(result)"
   ]
  },
  {
   "cell_type": "markdown",
   "metadata": {},
   "source": [
    "> Since all duplicated nodes are the ***1st Case*** (one node with relationships and the other without), we don't need to check other combinations of duplicates.\n",
    "\n",
    "- We deleted **$58\\;873$** duplicate **`BEERS`** nodes.\n",
    "- We deleted **$50\\;347$** duplicate **`BREWERIES`** nodes.\n",
    "- We deleted **$200$** duplicate **`COUNTRIES`** nodes.\n",
    "- We deleted **$11\\;665$** duplicate **`CITIES`** nodes.\n",
    "- We deleted **$3\\;111$** duplicate **`REVIEWS`** nodes.\n",
    "- We didn't delete any duplicate **`STYLE`** or **`USER`** nodes."
   ]
  },
  {
   "cell_type": "markdown",
   "metadata": {},
   "source": [
    "### **2.3 Detect and Remove Errors**\n",
    "\n",
    "In this section, we will check for errors in the database. We will look for the following types of errors:\n",
    "- **Nodes without labels**: We will check if there are any nodes without labels.\n",
    "- **Nodes without relationships**: We will check if there are any nodes without relationships.\n",
    "- **Invalid `abv` values**: We will check if there are any beers with an `abv` value greater than **67.5%**.\n",
    "\n",
    "\n",
    "**Note**: We don't need to check **`score`**, **`taste`**, **`feel`**, **`overall`**, **`smell`** and **`look`** properties because we already converted them to **`float`** and the values are between **$1$** and **$5$**."
   ]
  },
  {
   "cell_type": "code",
   "execution_count": 64,
   "metadata": {},
   "outputs": [
    {
     "name": "stdout",
     "output_type": "stream",
     "text": [
      "Nodes without labels - Count and 5 examples:\n",
      "[<Record totalNodesWithoutLabels=0 sampleNodes=[]>]\n"
     ]
    }
   ],
   "source": [
    "# 2.3.1. Nodes without labels\n",
    "query = \"\"\"\n",
    "    MATCH (n)\n",
    "    WHERE isEmpty(labels(n))\n",
    "    WITH count(n) AS totalNodesWithoutLabels, collect(n) AS nodes\n",
    "    RETURN totalNodesWithoutLabels, nodes[0..5] AS sampleNodes\n",
    "\"\"\"\n",
    "result = execute_read(driver, query)\n",
    "print(\"Nodes without labels - Count and 5 examples:\")\n",
    "pprint(result)"
   ]
  },
  {
   "cell_type": "markdown",
   "metadata": {},
   "source": [
    "- We don't have any nodes without labels."
   ]
  },
  {
   "cell_type": "code",
   "execution_count": 65,
   "metadata": {},
   "outputs": [
    {
     "name": "stderr",
     "output_type": "stream",
     "text": [
      "Received notification from DBMS server: {severity: WARNING} {code: Neo.ClientNotification.Statement.FeatureDeprecationWarning} {category: } {title: This feature is deprecated and will be removed in future versions.} {description: A pattern expression should only be used in order to test the existence of a pattern. It should therefore only be used in contexts that evaluate to a boolean, e.g. inside the function exists() or in a WHERE-clause. All other uses are deprecated and should be replaced by a pattern comprehension.} {position: line: 11, column: 15, offset: 340} for query: '\\n    // What kind of nodes exist\\n    // Sample some nodes, reporting on property and relationship counts per node.\\n    MATCH (n)\\n    RETURN\\n    DISTINCT labels(n),\\n    count(*) AS NodeCount,\\n    avg(size(keys(n))) as Avg_PropertyCount,\\n    min(size(keys(n))) as Min_PropertyCount,\\n    max(size(keys(n))) as Max_PropertyCount,\\n    avg(size( (n)-[]-() ) ) as Avg_RelationshipCount,\\n    min(size( (n)-[]-() ) ) as Min_RelationshipCount,\\n    max(size( (n)-[]-() ) ) as Max_RelationshipCount\\n'\n",
      "Received notification from DBMS server: {severity: WARNING} {code: Neo.ClientNotification.Statement.FeatureDeprecationWarning} {category: } {title: This feature is deprecated and will be removed in future versions.} {description: A pattern expression should only be used in order to test the existence of a pattern. It should therefore only be used in contexts that evaluate to a boolean, e.g. inside the function exists() or in a WHERE-clause. All other uses are deprecated and should be replaced by a pattern comprehension.} {position: line: 12, column: 15, offset: 394} for query: '\\n    // What kind of nodes exist\\n    // Sample some nodes, reporting on property and relationship counts per node.\\n    MATCH (n)\\n    RETURN\\n    DISTINCT labels(n),\\n    count(*) AS NodeCount,\\n    avg(size(keys(n))) as Avg_PropertyCount,\\n    min(size(keys(n))) as Min_PropertyCount,\\n    max(size(keys(n))) as Max_PropertyCount,\\n    avg(size( (n)-[]-() ) ) as Avg_RelationshipCount,\\n    min(size( (n)-[]-() ) ) as Min_RelationshipCount,\\n    max(size( (n)-[]-() ) ) as Max_RelationshipCount\\n'\n",
      "Received notification from DBMS server: {severity: WARNING} {code: Neo.ClientNotification.Statement.FeatureDeprecationWarning} {category: } {title: This feature is deprecated and will be removed in future versions.} {description: A pattern expression should only be used in order to test the existence of a pattern. It should therefore only be used in contexts that evaluate to a boolean, e.g. inside the function exists() or in a WHERE-clause. All other uses are deprecated and should be replaced by a pattern comprehension.} {position: line: 13, column: 15, offset: 448} for query: '\\n    // What kind of nodes exist\\n    // Sample some nodes, reporting on property and relationship counts per node.\\n    MATCH (n)\\n    RETURN\\n    DISTINCT labels(n),\\n    count(*) AS NodeCount,\\n    avg(size(keys(n))) as Avg_PropertyCount,\\n    min(size(keys(n))) as Min_PropertyCount,\\n    max(size(keys(n))) as Max_PropertyCount,\\n    avg(size( (n)-[]-() ) ) as Avg_RelationshipCount,\\n    min(size( (n)-[]-() ) ) as Min_RelationshipCount,\\n    max(size( (n)-[]-() ) ) as Max_RelationshipCount\\n'\n"
     ]
    },
    {
     "data": {
      "text/html": [
       "<div>\n",
       "<style scoped>\n",
       "    .dataframe tbody tr th:only-of-type {\n",
       "        vertical-align: middle;\n",
       "    }\n",
       "\n",
       "    .dataframe tbody tr th {\n",
       "        vertical-align: top;\n",
       "    }\n",
       "\n",
       "    .dataframe thead th {\n",
       "        text-align: right;\n",
       "    }\n",
       "</style>\n",
       "<table border=\"1\" class=\"dataframe\">\n",
       "  <thead>\n",
       "    <tr style=\"text-align: right;\">\n",
       "      <th></th>\n",
       "      <th>NodeCount</th>\n",
       "      <th>Avg_PropertyCount</th>\n",
       "      <th>Min_PropertyCount</th>\n",
       "      <th>Max_PropertyCount</th>\n",
       "      <th>Avg_RelationshipCount</th>\n",
       "      <th>Min_RelationshipCount</th>\n",
       "      <th>Max_RelationshipCount</th>\n",
       "    </tr>\n",
       "    <tr>\n",
       "      <th>Node Label</th>\n",
       "      <th></th>\n",
       "      <th></th>\n",
       "      <th></th>\n",
       "      <th></th>\n",
       "      <th></th>\n",
       "      <th></th>\n",
       "      <th></th>\n",
       "    </tr>\n",
       "  </thead>\n",
       "  <tbody>\n",
       "    <tr>\n",
       "      <th>[COUNTRIES]</th>\n",
       "      <td>200</td>\n",
       "      <td>1.000000</td>\n",
       "      <td>1</td>\n",
       "      <td>1</td>\n",
       "      <td>60.385000</td>\n",
       "      <td>1</td>\n",
       "      <td>4959</td>\n",
       "    </tr>\n",
       "    <tr>\n",
       "      <th>[CITIES]</th>\n",
       "      <td>11665</td>\n",
       "      <td>1.000000</td>\n",
       "      <td>1</td>\n",
       "      <td>1</td>\n",
       "      <td>5.351393</td>\n",
       "      <td>2</td>\n",
       "      <td>513</td>\n",
       "    </tr>\n",
       "    <tr>\n",
       "      <th>[BREWERIES]</th>\n",
       "      <td>50347</td>\n",
       "      <td>5.000000</td>\n",
       "      <td>5</td>\n",
       "      <td>5</td>\n",
       "      <td>8.127992</td>\n",
       "      <td>1</td>\n",
       "      <td>1230</td>\n",
       "    </tr>\n",
       "    <tr>\n",
       "      <th>[BEERS]</th>\n",
       "      <td>358873</td>\n",
       "      <td>7.891892</td>\n",
       "      <td>7</td>\n",
       "      <td>8</td>\n",
       "      <td>9.072115</td>\n",
       "      <td>2</td>\n",
       "      <td>4835</td>\n",
       "    </tr>\n",
       "    <tr>\n",
       "      <th>[REVIEWS]</th>\n",
       "      <td>2538044</td>\n",
       "      <td>7.910826</td>\n",
       "      <td>5</td>\n",
       "      <td>10</td>\n",
       "      <td>1.999979</td>\n",
       "      <td>1</td>\n",
       "      <td>2</td>\n",
       "    </tr>\n",
       "    <tr>\n",
       "      <th>[STYLE]</th>\n",
       "      <td>113</td>\n",
       "      <td>1.000000</td>\n",
       "      <td>1</td>\n",
       "      <td>1</td>\n",
       "      <td>3175.867257</td>\n",
       "      <td>1</td>\n",
       "      <td>44719</td>\n",
       "    </tr>\n",
       "    <tr>\n",
       "      <th>[USER]</th>\n",
       "      <td>123935</td>\n",
       "      <td>1.000000</td>\n",
       "      <td>1</td>\n",
       "      <td>1</td>\n",
       "      <td>20.478832</td>\n",
       "      <td>0</td>\n",
       "      <td>3756</td>\n",
       "    </tr>\n",
       "  </tbody>\n",
       "</table>\n",
       "</div>"
      ],
      "text/plain": [
       "             NodeCount  Avg_PropertyCount  Min_PropertyCount  \\\n",
       "Node Label                                                     \n",
       "[COUNTRIES]        200           1.000000                  1   \n",
       "[CITIES]         11665           1.000000                  1   \n",
       "[BREWERIES]      50347           5.000000                  5   \n",
       "[BEERS]         358873           7.891892                  7   \n",
       "[REVIEWS]      2538044           7.910826                  5   \n",
       "[STYLE]            113           1.000000                  1   \n",
       "[USER]          123935           1.000000                  1   \n",
       "\n",
       "             Max_PropertyCount  Avg_RelationshipCount  Min_RelationshipCount  \\\n",
       "Node Label                                                                     \n",
       "[COUNTRIES]                  1              60.385000                      1   \n",
       "[CITIES]                     1               5.351393                      2   \n",
       "[BREWERIES]                  5               8.127992                      1   \n",
       "[BEERS]                      8               9.072115                      2   \n",
       "[REVIEWS]                   10               1.999979                      1   \n",
       "[STYLE]                      1            3175.867257                      1   \n",
       "[USER]                       1              20.478832                      0   \n",
       "\n",
       "             Max_RelationshipCount  \n",
       "Node Label                          \n",
       "[COUNTRIES]                   4959  \n",
       "[CITIES]                       513  \n",
       "[BREWERIES]                   1230  \n",
       "[BEERS]                       4835  \n",
       "[REVIEWS]                        2  \n",
       "[STYLE]                      44719  \n",
       "[USER]                        3756  "
      ]
     },
     "execution_count": 65,
     "metadata": {},
     "output_type": "execute_result"
    }
   ],
   "source": [
    "# Re-do the query 1.11 to see Min_RelationshipCount and Max_RelationshipCount\n",
    "query = \"\"\"\n",
    "    // What kind of nodes exist\n",
    "    // Sample some nodes, reporting on property and relationship counts per node.\n",
    "    MATCH (n)\n",
    "    RETURN\n",
    "    DISTINCT labels(n),\n",
    "    count(*) AS NodeCount,\n",
    "    avg(size(keys(n))) as Avg_PropertyCount,\n",
    "    min(size(keys(n))) as Min_PropertyCount,\n",
    "    max(size(keys(n))) as Max_PropertyCount,\n",
    "    avg(size( (n)-[]-() ) ) as Avg_RelationshipCount,\n",
    "    min(size( (n)-[]-() ) ) as Min_RelationshipCount,\n",
    "    max(size( (n)-[]-() ) ) as Max_RelationshipCount\n",
    "\"\"\"\n",
    "result = execute_read(driver, query)\n",
    "data = [dict(record) for record in result]\n",
    "df = pd.DataFrame(data)\n",
    "df.set_index(\"labels(n)\", inplace=True)\n",
    "df.index.name = \"Node Label\"\n",
    "df"
   ]
  },
  {
   "cell_type": "markdown",
   "metadata": {},
   "source": [
    "##### **Comments | Errors**\n",
    "\n",
    "- **`Min_PropertyCount`**:\n",
    "  - After removing duplicates, the `Min_PropertyCount` increased for some node labels, indicating that some nodes with fewer properties were duplicates and have been removed.\n",
    "  - However, there are still `REVIEWS` and `USER` nodes with no relationships (`Min_RelationshipCount = 0`). This suggests that while duplicates were addressed, some nodes remain unconnected in the graph.\n",
    "\n",
    "- **`Max_RelationshipCount` for `REVIEWS`**:\n",
    "  - The `Max_RelationshipCount` for `REVIEWS` is 2, which is not expected since the primary relationship for `REVIEWS` is `REVIEWS - POSTED -> USER`."
   ]
  },
  {
   "cell_type": "code",
   "execution_count": 66,
   "metadata": {},
   "outputs": [
    {
     "name": "stdout",
     "output_type": "stream",
     "text": [
      "[<Record totalNodesWithoutRelationships=17290>]\n"
     ]
    }
   ],
   "source": [
    "# 2.3 - REVIEW nodes without relationships (ALL)\n",
    "query = \"\"\"\n",
    "    MATCH (wr)\n",
    "    WHERE NOT EXISTS { (wr)-[]-() }\n",
    "    RETURN count(wr) AS totalNodesWithoutRelationships\n",
    "\"\"\"\n",
    "result = execute_read(driver, query)\n",
    "pprint(result)"
   ]
  },
  {
   "cell_type": "code",
   "execution_count": 67,
   "metadata": {},
   "outputs": [
    {
     "name": "stdout",
     "output_type": "stream",
     "text": [
      "REVIEW nodes without relationships - Count and 2 examples:\n",
      "[<Record totalReviewsWithoutRelationships=1 r=<Node element_id='921375' labels=frozenset() properties={}>>,\n",
      " <Record totalReviewsWithoutRelationships=1 r=<Node element_id='921921' labels=frozenset() properties={}>>,\n",
      " <Record totalReviewsWithoutRelationships=1 r=<Node element_id='922467' labels=frozenset() properties={}>>,\n",
      " <Record totalReviewsWithoutRelationships=1 r=<Node element_id='923013' labels=frozenset() properties={}>>,\n",
      " <Record totalReviewsWithoutRelationships=1 r=<Node element_id='923559' labels=frozenset() properties={}>>,\n",
      " <Record totalReviewsWithoutRelationships=1 r=<Node element_id='924105' labels=frozenset() properties={}>>,\n",
      " <Record totalReviewsWithoutRelationships=1 r=<Node element_id='924651' labels=frozenset() properties={}>>,\n",
      " <Record totalReviewsWithoutRelationships=1 r=<Node element_id='925197' labels=frozenset() properties={}>>,\n",
      " <Record totalReviewsWithoutRelationships=1 r=<Node element_id='925743' labels=frozenset() properties={}>>,\n",
      " <Record totalReviewsWithoutRelationships=1 r=<Node element_id='926289' labels=frozenset() properties={}>>,\n",
      " <Record totalReviewsWithoutRelationships=1 r=<Node element_id='926835' labels=frozenset() properties={}>>,\n",
      " <Record totalReviewsWithoutRelationships=1 r=<Node element_id='927381' labels=frozenset() properties={}>>,\n",
      " <Record totalReviewsWithoutRelationships=1 r=<Node element_id='927927' labels=frozenset() properties={}>>,\n",
      " <Record totalReviewsWithoutRelationships=1 r=<Node element_id='928473' labels=frozenset() properties={}>>,\n",
      " <Record totalReviewsWithoutRelationships=1 r=<Node element_id='929019' labels=frozenset() properties={}>>,\n",
      " <Record totalReviewsWithoutRelationships=1 r=<Node element_id='929565' labels=frozenset() properties={}>>,\n",
      " <Record totalReviewsWithoutRelationships=1 r=<Node element_id='930111' labels=frozenset() properties={}>>,\n",
      " <Record totalReviewsWithoutRelationships=1 r=<Node element_id='930657' labels=frozenset() properties={}>>,\n",
      " <Record totalReviewsWithoutRelationships=1 r=<Node element_id='931203' labels=frozenset() properties={}>>]\n"
     ]
    }
   ],
   "source": [
    "# 2.3 - REVIEW nodes without relationships (REVIEWS)\n",
    "query = \"\"\"\n",
    "    // Count and sample REVIEW nodes without relationships\n",
    "    MATCH (r:REVIEWS)\n",
    "    WHERE NOT EXISTS { (r)-[]-() }\n",
    "    WITH count(r) AS totalReviewsWithoutRelationships, r\n",
    "    RETURN totalReviewsWithoutRelationships, r\n",
    "\"\"\"\n",
    "result = execute_read(driver, query)\n",
    "print(\"REVIEW nodes without relationships - Count and 2 examples:\")\n",
    "pprint(result)"
   ]
  },
  {
   "cell_type": "markdown",
   "metadata": {},
   "source": [
    "- After searching for the **`REVIEW`** nodes without relationships, we found **19** nodes. All this nodes don't have properties (except the **`<id>`** property associated to each node in *Neo4J*). So we will try delete them."
   ]
  },
  {
   "cell_type": "code",
   "execution_count": 68,
   "metadata": {},
   "outputs": [
    {
     "name": "stdout",
     "output_type": "stream",
     "text": [
      "Total REVIEW nodes deleted (without relationships and properties): 19\n"
     ]
    }
   ],
   "source": [
    "# Query to remove REVIEW nodes without relationships and without properties\n",
    "query = \"\"\"\n",
    "    MATCH (r:REVIEWS)\n",
    "    WHERE NOT EXISTS((r)-[]-()) AND size(keys(r)) = 0\n",
    "    DELETE r\n",
    "    RETURN count(r) AS totalNodesDeleted\n",
    "\"\"\"\n",
    "\n",
    "# Execute the query\n",
    "try:\n",
    "    result = execute_write(driver, query)\n",
    "    print(f\"Total REVIEW nodes deleted (without relationships and properties): {result[0]['totalNodesDeleted']}\")\n",
    "except Exception as e:\n",
    "    print(f\"Error removing REVIEW nodes: {e}\")"
   ]
  },
  {
   "cell_type": "code",
   "execution_count": 69,
   "metadata": {},
   "outputs": [
    {
     "name": "stdout",
     "output_type": "stream",
     "text": [
      "[<Record totalNodesWithoutRelationships=19>]\n"
     ]
    }
   ],
   "source": [
    "# Verify if nodes of REVIEWS without relationships were removed\n",
    "query = \"\"\"\n",
    "    // Check if REVIEW nodes without relationships were removed\n",
    "    MATCH (r:REVIEWS)\n",
    "    WHERE NOT EXISTS { (r)-[]-() }\n",
    "    RETURN count(r) AS totalNodesWithoutRelationships\n",
    "\"\"\"\n",
    "result = execute_read(driver, query)\n",
    "pprint(result)"
   ]
  },
  {
   "cell_type": "markdown",
   "metadata": {},
   "source": [
    "- For some reason, we can't delete the **`REVIEW`** nodes without relationships. We will try to delete this nodes doing a **`MATCH`** with the **`<id>`** property of the nodes. "
   ]
  },
  {
   "cell_type": "code",
   "execution_count": 70,
   "metadata": {},
   "outputs": [
    {
     "name": "stdout",
     "output_type": "stream",
     "text": [
      "Total REVIEW nodes deleted (without relationships and properties): 0\n",
      "Total REVIEW nodes deleted (without relationships and properties): 0\n",
      "Total REVIEW nodes deleted (without relationships and properties): 0\n",
      "Total REVIEW nodes deleted (without relationships and properties): 0\n",
      "Total REVIEW nodes deleted (without relationships and properties): 0\n",
      "Total REVIEW nodes deleted (without relationships and properties): 0\n",
      "Total REVIEW nodes deleted (without relationships and properties): 0\n",
      "Total REVIEW nodes deleted (without relationships and properties): 0\n",
      "Total REVIEW nodes deleted (without relationships and properties): 0\n",
      "Total REVIEW nodes deleted (without relationships and properties): 0\n",
      "Total REVIEW nodes deleted (without relationships and properties): 0\n",
      "Total REVIEW nodes deleted (without relationships and properties): 0\n",
      "Total REVIEW nodes deleted (without relationships and properties): 0\n",
      "Total REVIEW nodes deleted (without relationships and properties): 0\n",
      "Total REVIEW nodes deleted (without relationships and properties): 0\n",
      "Total REVIEW nodes deleted (without relationships and properties): 0\n",
      "Total REVIEW nodes deleted (without relationships and properties): 0\n",
      "Total REVIEW nodes deleted (without relationships and properties): 0\n",
      "Total REVIEW nodes deleted (without relationships and properties): 0\n"
     ]
    }
   ],
   "source": [
    "# - Query to remove REVIEW nodes without relationships and without properties (2nd try - Using <id> property)\n",
    "\n",
    "list_of_ids_to_remove = ['921375', '921921', '922467', '923013', '923559', '924105', '924651', '925197', '925743', '926289', \n",
    "                         '926835', '927381', '927927', '928473', '929019', '929565', '930111', '930657', '931203']\n",
    "\n",
    "# Iterate over the list of IDs to remove\n",
    "for review_id in list_of_ids_to_remove:\n",
    "    query = f\"\"\"\n",
    "        MATCH (r:REVIEWS)\n",
    "        WHERE id(r) = {review_id}\n",
    "        DELETE r\n",
    "        RETURN count(r) AS totalNodesDeleted\n",
    "    \"\"\"\n",
    "    # Execute the query\n",
    "    try:\n",
    "        result = execute_write(driver, query)\n",
    "        print(f\"Total REVIEW nodes deleted (without relationships and properties): {result[0]['totalNodesDeleted']}\")\n",
    "    except Exception as e:\n",
    "        print(f\"Error removing REVIEW nodes: {e}\")"
   ]
  },
  {
   "cell_type": "code",
   "execution_count": 71,
   "metadata": {},
   "outputs": [
    {
     "name": "stdout",
     "output_type": "stream",
     "text": [
      "[<Record totalNodesWithoutRelationships=19>]\n"
     ]
    }
   ],
   "source": [
    "# Verify if nodes of REVIEWS without relationships were removed\n",
    "query = \"\"\"\n",
    "    // Check if REVIEW nodes without relationships were removed\n",
    "    MATCH (r:REVIEWS)\n",
    "    WHERE NOT EXISTS { (r)-[]-() }\n",
    "    RETURN count(r) AS totalNodesWithoutRelationships\n",
    "\"\"\"\n",
    "result = execute_read(driver, query)\n",
    "pprint(result)"
   ]
  },
  {
   "cell_type": "code",
   "execution_count": 72,
   "metadata": {},
   "outputs": [
    {
     "name": "stdout",
     "output_type": "stream",
     "text": [
      "[<Record totalNodesDeleted=0>]\n"
     ]
    }
   ],
   "source": [
    "# Query to remove REVIEW nodes without relationships and without properties (3rd try - Match all nodes without relationships and not considering USER nodes)\n",
    "\n",
    "query = \"\"\"\n",
    "\n",
    "    // Find all nodes without relationships\n",
    "    MATCH (wr)\n",
    "    WHERE NOT EXISTS((wr)-[]-())\n",
    "    \n",
    "    // Exclude USER nodes\n",
    "    MATCH (wr)\n",
    "    WHERE NOT wr:USER\n",
    "    \n",
    "    // Remove the nodes\n",
    "    // DELETE wr                                // Before deleting, we test the query to see how many nodes will be deleted\n",
    "    \n",
    "    // Return the number of nodes deleted\n",
    "    RETURN count(wr) AS totalNodesDeleted\n",
    "\"\"\"\n",
    "result = execute_write(driver, query)\n",
    "pprint(result)"
   ]
  },
  {
   "cell_type": "markdown",
   "metadata": {},
   "source": [
    "> After try 3 different ways to delete the **`REVIEW`** nodes without relationships, we still have **$19$** nodes.\n",
    "\n",
    "- Since this nodes will not be counted in the queries, we will leave them in the database. "
   ]
  },
  {
   "cell_type": "code",
   "execution_count": 73,
   "metadata": {},
   "outputs": [
    {
     "name": "stdout",
     "output_type": "stream",
     "text": [
      "USER nodes without relationships - Count and 5 examples:\n",
      "[<Record totalUsersWithoutRelationships=17290 sampleUserNodes=[<Node element_id='9494578' labels=frozenset({'USER'}) properties={'name': 'Rick_Ereth'}>, <Node element_id='9495077' labels=frozenset({'USER'}) properties={'name': 'matttyt'}>, <Node element_id='9495143' labels=frozenset({'USER'}) properties={'name': 'ChaBrah'}>, <Node element_id='9495174' labels=frozenset({'USER'}) properties={'name': 'bbc0202'}>, <Node element_id='9495303' labels=frozenset({'USER'}) properties={'name': 'Kbenoit16'}>]>]\n"
     ]
    }
   ],
   "source": [
    "# 2.3. USER nodes without relationships \n",
    "query = \"\"\"\n",
    "    // Count and sample USER nodes without relationships\n",
    "    MATCH (u:USER)\n",
    "    WHERE NOT EXISTS { (u)-[]-() }\n",
    "    WITH count(u) AS totalUsersWithoutRelationships, collect(u) AS userNodes\n",
    "    RETURN totalUsersWithoutRelationships, userNodes[0..5] AS sampleUserNodes\n",
    "\"\"\"\n",
    "result = execute_read(driver, query)\n",
    "print(\"USER nodes without relationships - Count and 5 examples:\")\n",
    "pprint(result)"
   ]
  },
  {
   "cell_type": "markdown",
   "metadata": {},
   "source": [
    "- Since we don't know the exact origin of this data and where/how it was obtained, it might make sense for there to be **`USERS`** with no reviews (e.g., users who have created an account on the data retrieval page, but have never done a REVIEW). So, we will not remove these nodes.\n"
   ]
  },
  {
   "cell_type": "markdown",
   "metadata": {},
   "source": [
    "---"
   ]
  },
  {
   "cell_type": "code",
   "execution_count": 74,
   "metadata": {},
   "outputs": [
    {
     "name": "stdout",
     "output_type": "stream",
     "text": [
      "[<Record b.name=\"Earache: World's Shortest Album\" b.abv=100.0>,\n",
      " <Record b.name='Radiohead - OK Computer' b.abv=100.0>,\n",
      " <Record b.name='water' b.abv=100.0>,\n",
      " <Record b.name='Dark Reckoning' b.abv=80.0>]\n"
     ]
    }
   ],
   "source": [
    "# 2.3. BEERS.abv greater than 67.5\n",
    "query = \"\"\"\n",
    "    MATCH (b:BEERS)\n",
    "    WHERE b.abv > 67.5 OR b.abv < 0\n",
    "    RETURN b.name, b.abv\n",
    "    ORDER BY b.abv DESC\n",
    "\"\"\"\n",
    "result = execute_read(driver, query)\n",
    "pprint(result)"
   ]
  },
  {
   "cell_type": "markdown",
   "metadata": {},
   "source": [
    "Checking the **`BEERS`** node, we found that there are some beers with **`abv`** greater than **$67.5$**. After observing that cases, we found that the names of the beers are **`Earache: World's Shortest Album`** and **`Dark Reckoning`**, **`Radiohead - OK Computer`** and **`water`** and we researched about them and found that they are not beers, so we will remove them."
   ]
  },
  {
   "cell_type": "code",
   "execution_count": 75,
   "metadata": {},
   "outputs": [
    {
     "name": "stdout",
     "output_type": "stream",
     "text": [
      "[]\n"
     ]
    }
   ],
   "source": [
    "# 2.3. Remove nodes with BEERS.abv greater than 67.5\n",
    "query = \"\"\"\n",
    "    MATCH (b:BEERS)\n",
    "    WHERE b.abv > 67.5 OR b.abv < 0\n",
    "    DETACH DELETE b\n",
    "\"\"\"\n",
    "result = execute_write(driver, query)\n",
    "pprint(result)"
   ]
  },
  {
   "cell_type": "code",
   "execution_count": 76,
   "metadata": {},
   "outputs": [
    {
     "name": "stdout",
     "output_type": "stream",
     "text": [
      "[<Record totalBeers=0 sampleBeers=[]>]\n"
     ]
    }
   ],
   "source": [
    "# Verify the changes \n",
    "query = \"\"\"\n",
    "    // Count the number of BEERS nodes with abv > 67.5 and return the total and a sample\n",
    "    MATCH (b:BEERS)\n",
    "    WHERE b.abv > 67.5\n",
    "    WITH count(b) AS totalBeers, collect(b) AS beers\n",
    "    RETURN totalBeers, beers[0..5] AS sampleBeers\n",
    "\"\"\"\n",
    "result = execute_read(driver, query)\n",
    "pprint(result)"
   ]
  },
  {
   "cell_type": "markdown",
   "metadata": {},
   "source": [
    "### **2.4. 🧹 Remove Missing Values**\n",
    "\n",
    "In this section, we check for missing values in the database. In our view, it makes sense to clean this data to fully leverage one of the key **advantages** of NoSQL graph databases like **Neo4j**: ***flexibility***. \n",
    "\n",
    "Unlike relational databases, where each row must conform to a predefined schema, graph databases allow nodes to have a variable number of properties. This flexibility can, in theory, optimize storage by reducing unnecessary data."
   ]
  },
  {
   "cell_type": "code",
   "execution_count": 77,
   "metadata": {},
   "outputs": [
    {
     "name": "stdout",
     "output_type": "stream",
     "text": [
      "\n",
      "\n",
      "Summary statistics of each property for each node label in the database (After Cleaning):\n"
     ]
    },
    {
     "name": "stderr",
     "output_type": "stream",
     "text": [
      "100%|██████████| 27/27 [06:49<00:00, 15.16s/it]\n"
     ]
    },
    {
     "data": {
      "text/html": [
       "<div>\n",
       "<style scoped>\n",
       "    .dataframe tbody tr th:only-of-type {\n",
       "        vertical-align: middle;\n",
       "    }\n",
       "\n",
       "    .dataframe tbody tr th {\n",
       "        vertical-align: top;\n",
       "    }\n",
       "\n",
       "    .dataframe thead th {\n",
       "        text-align: right;\n",
       "    }\n",
       "</style>\n",
       "<table border=\"1\" class=\"dataframe\">\n",
       "  <thead>\n",
       "    <tr style=\"text-align: right;\">\n",
       "      <th></th>\n",
       "      <th></th>\n",
       "      <th>Count</th>\n",
       "      <th>Distinct Count</th>\n",
       "      <th>Mean</th>\n",
       "      <th>Min</th>\n",
       "      <th>Max</th>\n",
       "      <th>Missing Count</th>\n",
       "      <th>Missing Count (%)</th>\n",
       "    </tr>\n",
       "    <tr>\n",
       "      <th>Node</th>\n",
       "      <th>Property</th>\n",
       "      <th></th>\n",
       "      <th></th>\n",
       "      <th></th>\n",
       "      <th></th>\n",
       "      <th></th>\n",
       "      <th></th>\n",
       "      <th></th>\n",
       "    </tr>\n",
       "  </thead>\n",
       "  <tbody>\n",
       "    <tr>\n",
       "      <th rowspan=\"8\" valign=\"top\">BEERS</th>\n",
       "      <th>abv</th>\n",
       "      <td>320072</td>\n",
       "      <td>937</td>\n",
       "      <td>6.53</td>\n",
       "      <td>0.01</td>\n",
       "      <td>67.50</td>\n",
       "      <td>38797</td>\n",
       "      <td>12.12</td>\n",
       "    </tr>\n",
       "    <tr>\n",
       "      <th>availability</th>\n",
       "      <td>358869</td>\n",
       "      <td>20</td>\n",
       "      <td>-</td>\n",
       "      <td>-</td>\n",
       "      <td>-</td>\n",
       "      <td>0</td>\n",
       "      <td>0</td>\n",
       "    </tr>\n",
       "    <tr>\n",
       "      <th>brewery_id</th>\n",
       "      <td>358869</td>\n",
       "      <td>16569</td>\n",
       "      <td>24 597.39</td>\n",
       "      <td>1</td>\n",
       "      <td>54144</td>\n",
       "      <td>0</td>\n",
       "      <td>0</td>\n",
       "    </tr>\n",
       "    <tr>\n",
       "      <th>id</th>\n",
       "      <td>358869</td>\n",
       "      <td>358869</td>\n",
       "      <td>189 239.20</td>\n",
       "      <td>3</td>\n",
       "      <td>374406</td>\n",
       "      <td>0</td>\n",
       "      <td>0</td>\n",
       "    </tr>\n",
       "    <tr>\n",
       "      <th>name</th>\n",
       "      <td>358869</td>\n",
       "      <td>298564</td>\n",
       "      <td>-</td>\n",
       "      <td>-</td>\n",
       "      <td>-</td>\n",
       "      <td>0</td>\n",
       "      <td>0</td>\n",
       "    </tr>\n",
       "    <tr>\n",
       "      <th>notes</th>\n",
       "      <td>358869</td>\n",
       "      <td>48313</td>\n",
       "      <td>-</td>\n",
       "      <td>-</td>\n",
       "      <td>-</td>\n",
       "      <td>46</td>\n",
       "      <td>0.01</td>\n",
       "    </tr>\n",
       "    <tr>\n",
       "      <th>retired</th>\n",
       "      <td>358869</td>\n",
       "      <td>2</td>\n",
       "      <td>-</td>\n",
       "      <td>-</td>\n",
       "      <td>-</td>\n",
       "      <td>0</td>\n",
       "      <td>0</td>\n",
       "    </tr>\n",
       "    <tr>\n",
       "      <th>state</th>\n",
       "      <td>358869</td>\n",
       "      <td>68</td>\n",
       "      <td>-</td>\n",
       "      <td>-</td>\n",
       "      <td>-</td>\n",
       "      <td>60726</td>\n",
       "      <td>16.92</td>\n",
       "    </tr>\n",
       "    <tr>\n",
       "      <th rowspan=\"5\" valign=\"top\">BREWERIES</th>\n",
       "      <th>id</th>\n",
       "      <td>50347</td>\n",
       "      <td>50347</td>\n",
       "      <td>27 870.51</td>\n",
       "      <td>1</td>\n",
       "      <td>54156</td>\n",
       "      <td>0</td>\n",
       "      <td>0</td>\n",
       "    </tr>\n",
       "    <tr>\n",
       "      <th>name</th>\n",
       "      <td>50347</td>\n",
       "      <td>45245</td>\n",
       "      <td>-</td>\n",
       "      <td>-</td>\n",
       "      <td>-</td>\n",
       "      <td>0</td>\n",
       "      <td>0</td>\n",
       "    </tr>\n",
       "    <tr>\n",
       "      <th>notes</th>\n",
       "      <td>50347</td>\n",
       "      <td>3271</td>\n",
       "      <td>-</td>\n",
       "      <td>-</td>\n",
       "      <td>-</td>\n",
       "      <td>85</td>\n",
       "      <td>0.17</td>\n",
       "    </tr>\n",
       "    <tr>\n",
       "      <th>state</th>\n",
       "      <td>50347</td>\n",
       "      <td>68</td>\n",
       "      <td>-</td>\n",
       "      <td>-</td>\n",
       "      <td>-</td>\n",
       "      <td>11271</td>\n",
       "      <td>22.39</td>\n",
       "    </tr>\n",
       "    <tr>\n",
       "      <th>types</th>\n",
       "      <td>50347</td>\n",
       "      <td>30</td>\n",
       "      <td>-</td>\n",
       "      <td>-</td>\n",
       "      <td>-</td>\n",
       "      <td>0</td>\n",
       "      <td>0</td>\n",
       "    </tr>\n",
       "    <tr>\n",
       "      <th>CITIES</th>\n",
       "      <th>name</th>\n",
       "      <td>11665</td>\n",
       "      <td>11665</td>\n",
       "      <td>-</td>\n",
       "      <td>-</td>\n",
       "      <td>-</td>\n",
       "      <td>1</td>\n",
       "      <td>0.01</td>\n",
       "    </tr>\n",
       "    <tr>\n",
       "      <th>COUNTRIES</th>\n",
       "      <th>name</th>\n",
       "      <td>200</td>\n",
       "      <td>200</td>\n",
       "      <td>-</td>\n",
       "      <td>-</td>\n",
       "      <td>-</td>\n",
       "      <td>1</td>\n",
       "      <td>0.50</td>\n",
       "    </tr>\n",
       "    <tr>\n",
       "      <th rowspan=\"10\" valign=\"top\">REVIEWS</th>\n",
       "      <th>beer_id</th>\n",
       "      <td>2538044</td>\n",
       "      <td>189395</td>\n",
       "      <td>77 311.79</td>\n",
       "      <td>3</td>\n",
       "      <td>373128</td>\n",
       "      <td>19</td>\n",
       "      <td>0.00</td>\n",
       "    </tr>\n",
       "    <tr>\n",
       "      <th>date</th>\n",
       "      <td>2538044</td>\n",
       "      <td>6379</td>\n",
       "      <td>-</td>\n",
       "      <td>-</td>\n",
       "      <td>-</td>\n",
       "      <td>19</td>\n",
       "      <td>0.00</td>\n",
       "    </tr>\n",
       "    <tr>\n",
       "      <th>feel</th>\n",
       "      <td>1477561</td>\n",
       "      <td>17</td>\n",
       "      <td>3.88</td>\n",
       "      <td>1</td>\n",
       "      <td>5</td>\n",
       "      <td>1060502</td>\n",
       "      <td>71.77</td>\n",
       "    </tr>\n",
       "    <tr>\n",
       "      <th>id</th>\n",
       "      <td>2538044</td>\n",
       "      <td>2538044</td>\n",
       "      <td>4 537 303.98</td>\n",
       "      <td>1</td>\n",
       "      <td>9073127</td>\n",
       "      <td>19</td>\n",
       "      <td>0.00</td>\n",
       "    </tr>\n",
       "    <tr>\n",
       "      <th>look</th>\n",
       "      <td>1477561</td>\n",
       "      <td>17</td>\n",
       "      <td>3.95</td>\n",
       "      <td>1</td>\n",
       "      <td>5</td>\n",
       "      <td>1060502</td>\n",
       "      <td>71.77</td>\n",
       "    </tr>\n",
       "    <tr>\n",
       "      <th>overall</th>\n",
       "      <td>1477561</td>\n",
       "      <td>17</td>\n",
       "      <td>3.92</td>\n",
       "      <td>1</td>\n",
       "      <td>5</td>\n",
       "      <td>1060502</td>\n",
       "      <td>71.77</td>\n",
       "    </tr>\n",
       "    <tr>\n",
       "      <th>score</th>\n",
       "      <td>2538044</td>\n",
       "      <td>401</td>\n",
       "      <td>3.89</td>\n",
       "      <td>1</td>\n",
       "      <td>5</td>\n",
       "      <td>19</td>\n",
       "      <td>0.00</td>\n",
       "    </tr>\n",
       "    <tr>\n",
       "      <th>smell</th>\n",
       "      <td>1477561</td>\n",
       "      <td>17</td>\n",
       "      <td>3.89</td>\n",
       "      <td>1</td>\n",
       "      <td>5</td>\n",
       "      <td>1060502</td>\n",
       "      <td>71.77</td>\n",
       "    </tr>\n",
       "    <tr>\n",
       "      <th>taste</th>\n",
       "      <td>1477561</td>\n",
       "      <td>17</td>\n",
       "      <td>3.92</td>\n",
       "      <td>1</td>\n",
       "      <td>5</td>\n",
       "      <td>1060502</td>\n",
       "      <td>71.77</td>\n",
       "    </tr>\n",
       "    <tr>\n",
       "      <th>text</th>\n",
       "      <td>2538044</td>\n",
       "      <td>812239</td>\n",
       "      <td>-</td>\n",
       "      <td>-</td>\n",
       "      <td>-</td>\n",
       "      <td>19</td>\n",
       "      <td>0.00</td>\n",
       "    </tr>\n",
       "    <tr>\n",
       "      <th>STYLE</th>\n",
       "      <th>name</th>\n",
       "      <td>113</td>\n",
       "      <td>113</td>\n",
       "      <td>-</td>\n",
       "      <td>-</td>\n",
       "      <td>-</td>\n",
       "      <td>1</td>\n",
       "      <td>0.88</td>\n",
       "    </tr>\n",
       "    <tr>\n",
       "      <th>USER</th>\n",
       "      <th>name</th>\n",
       "      <td>123935</td>\n",
       "      <td>123935</td>\n",
       "      <td>-</td>\n",
       "      <td>-</td>\n",
       "      <td>-</td>\n",
       "      <td>1</td>\n",
       "      <td>0.00</td>\n",
       "    </tr>\n",
       "  </tbody>\n",
       "</table>\n",
       "</div>"
      ],
      "text/plain": [
       "                          Count  Distinct Count          Mean   Min      Max  \\\n",
       "Node      Property                                                             \n",
       "BEERS     abv            320072             937          6.53  0.01    67.50   \n",
       "          availability   358869              20             -     -        -   \n",
       "          brewery_id     358869           16569     24 597.39     1    54144   \n",
       "          id             358869          358869    189 239.20     3   374406   \n",
       "          name           358869          298564             -     -        -   \n",
       "          notes          358869           48313             -     -        -   \n",
       "          retired        358869               2             -     -        -   \n",
       "          state          358869              68             -     -        -   \n",
       "BREWERIES id              50347           50347     27 870.51     1    54156   \n",
       "          name            50347           45245             -     -        -   \n",
       "          notes           50347            3271             -     -        -   \n",
       "          state           50347              68             -     -        -   \n",
       "          types           50347              30             -     -        -   \n",
       "CITIES    name            11665           11665             -     -        -   \n",
       "COUNTRIES name              200             200             -     -        -   \n",
       "REVIEWS   beer_id       2538044          189395     77 311.79     3   373128   \n",
       "          date          2538044            6379             -     -        -   \n",
       "          feel          1477561              17          3.88     1        5   \n",
       "          id            2538044         2538044  4 537 303.98     1  9073127   \n",
       "          look          1477561              17          3.95     1        5   \n",
       "          overall       1477561              17          3.92     1        5   \n",
       "          score         2538044             401          3.89     1        5   \n",
       "          smell         1477561              17          3.89     1        5   \n",
       "          taste         1477561              17          3.92     1        5   \n",
       "          text          2538044          812239             -     -        -   \n",
       "STYLE     name              113             113             -     -        -   \n",
       "USER      name           123935          123935             -     -        -   \n",
       "\n",
       "                        Missing Count Missing Count (%)  \n",
       "Node      Property                                       \n",
       "BEERS     abv                   38797             12.12  \n",
       "          availability              0                 0  \n",
       "          brewery_id                0                 0  \n",
       "          id                        0                 0  \n",
       "          name                      0                 0  \n",
       "          notes                    46              0.01  \n",
       "          retired                   0                 0  \n",
       "          state                 60726             16.92  \n",
       "BREWERIES id                        0                 0  \n",
       "          name                      0                 0  \n",
       "          notes                    85              0.17  \n",
       "          state                 11271             22.39  \n",
       "          types                     0                 0  \n",
       "CITIES    name                      1              0.01  \n",
       "COUNTRIES name                      1              0.50  \n",
       "REVIEWS   beer_id                  19              0.00  \n",
       "          date                     19              0.00  \n",
       "          feel                1060502             71.77  \n",
       "          id                       19              0.00  \n",
       "          look                1060502             71.77  \n",
       "          overall             1060502             71.77  \n",
       "          score                    19              0.00  \n",
       "          smell               1060502             71.77  \n",
       "          taste               1060502             71.77  \n",
       "          text                     19              0.00  \n",
       "STYLE     name                      1              0.88  \n",
       "USER      name                      1              0.00  "
      ]
     },
     "execution_count": 77,
     "metadata": {},
     "output_type": "execute_result"
    }
   ],
   "source": [
    "# Source: https://neo4j.com/docs/cypher-manual/current/clauses/remove/\n",
    "\n",
    "# 2.4 - Re-run the query 1.12 (Before Missing Values Handling)\n",
    "\n",
    "print(\"\\n\\nSummary statistics of each property for each node label in the database (After Cleaning):\")\n",
    "\n",
    "# Initialize a list to store statistics\n",
    "stats_list = []\n",
    "\n",
    "# Iterate over each property and calculate statistics\n",
    "for record in tqdm(properties_result):\n",
    "    nodeType = record['nodeType'].replace('`', '').replace(':', '')  # Remove backticks and ':'\n",
    "    propertyName = record['propertyName']\n",
    "    \n",
    "    # Construct query for each property\n",
    "    if propertyName.lower() in ['name', 'notes', 'state', 'availability', 'types', 'text']:\n",
    "        # String properties\n",
    "        stats_query = f\"\"\"\n",
    "            MATCH (n:{nodeType})\n",
    "            RETURN\n",
    "                '{nodeType}' AS nodeType,\n",
    "                '{propertyName}' AS propertyName,\n",
    "                COUNT(n.{propertyName}) AS count,\n",
    "                COUNT(DISTINCT n.{propertyName}) AS distinctCount,\n",
    "                '-' AS mean,\n",
    "                '-' AS min,\n",
    "                '-' AS max,\n",
    "                COUNT(CASE WHEN n.{propertyName} IS NULL OR n.{propertyName} = '' OR toLower(trim(n.{propertyName})) IN ['nan', 'null', 'none', '', ' '] THEN 1 ELSE NULL END) AS missingCount\n",
    "        \"\"\"\n",
    "    elif propertyName.lower() in ['retired', 'date']:\n",
    "        # Boolean & Date properties\n",
    "        stats_query = f\"\"\"\n",
    "            MATCH (n:{nodeType})\n",
    "            RETURN\n",
    "                '{nodeType}' AS nodeType,\n",
    "                '{propertyName}' AS propertyName,\n",
    "                COUNT(n.{propertyName}) AS count,\n",
    "                COUNT(DISTINCT n.{propertyName}) AS distinctCount,\n",
    "                '-' AS mean,\n",
    "                '-' AS min,\n",
    "                '-' AS max,\n",
    "                COUNT(CASE WHEN n.{propertyName} IS NULL THEN 1 ELSE NULL END) AS missingCount\n",
    "        \"\"\"\n",
    "    else:\n",
    "        # Numeric properties\n",
    "        stats_query = f\"\"\"\n",
    "            MATCH (n:{nodeType})\n",
    "            WITH n, n.{propertyName} AS value\n",
    "            RETURN\n",
    "                '{nodeType}' AS nodeType,\n",
    "                '{propertyName}' AS propertyName,\n",
    "                COUNT(value) AS count,\n",
    "                COUNT(DISTINCT value) AS distinctCount,\n",
    "                AVG(value) AS mean,\n",
    "                MIN(value) AS min,\n",
    "                MAX(value) AS max,\n",
    "                COUNT(CASE WHEN value IS NULL THEN 1 ELSE NULL END) AS missingCount\n",
    "        \"\"\"\n",
    "    \n",
    "    try:\n",
    "        stats_result = execute_read(driver, stats_query)\n",
    "        if stats_result:\n",
    "            stats_list.append(stats_result[0])\n",
    "    except Exception as e:\n",
    "        print(f\"Error processing {nodeType}.{propertyName}: {e}\")\n",
    "\n",
    "# Convert to DataFrame\n",
    "df = pd.DataFrame(stats_list, columns=['Node', 'Property', 'Count', 'Distinct Count', \n",
    "                                       'Mean', 'Min', 'Max', 'Missing Count'])                          # Convert the list to a DataFrame\n",
    "df['Missing Count (%)'] = (df['Missing Count'] / df['Count']) * 100                                     # Calculate the percentage of missing values\n",
    "df.set_index(['Node', 'Property'], inplace=True)                                                        # Set the index to Node and Property (Hierarchical Indexing)\n",
    "df.fillna('-', inplace=True)                                                                            # Fill NaN values with 0\n",
    "df = df.map(\n",
    "    lambda x: '{:,.0f}'.format(x).replace(',', ' ') if isinstance(x, float) and not np.isnan(x) and not np.isinf(x) and x == int(x) else\n",
    "              '{:,.2f}'.format(x).replace(',', ' ') if isinstance(x, float) and not np.isnan(x) and not np.isinf(x) else\n",
    "              x\n",
    ")                                                                                                                     # Format the DataFrame for better visualization\n",
    "df "
   ]
  },
  {
   "cell_type": "code",
   "execution_count": 78,
   "metadata": {},
   "outputs": [
    {
     "name": "stdout",
     "output_type": "stream",
     "text": [
      "\n",
      "Summary of nodes where properties were removed:\n",
      "Label: BEERS, Nodes Updated: 99569\n",
      "Label: BREWERIES, Nodes Updated: 11356\n",
      "Label: CITIES, Nodes Updated: 1\n",
      "Label: COUNTRIES, Nodes Updated: 1\n",
      "Label: REVIEWS, Nodes Updated: 5302586\n",
      "Label: STYLE, Nodes Updated: 1\n",
      "Label: USER, Nodes Updated: 1\n"
     ]
    }
   ],
   "source": [
    "# Removing missing properties from nodes and logging changes\n",
    "\n",
    "# List of nodes and properties with missing values\n",
    "missing_values = {\n",
    "    \"BEERS\": [\"abv\", \"state\", \"notes\"],\n",
    "    \"BREWERIES\": [\"notes\", \"state\"],\n",
    "    \"CITIES\": [\"name\"],\n",
    "    \"COUNTRIES\": [\"name\"],\n",
    "    \"REVIEWS\": [\"beer_id\", \"date\", \"feel\", \"id\", \"look\", \"overall\", \"score\", \"smell\", \"taste\", \"text\"],\n",
    "    \"STYLE\": [\"name\"],\n",
    "    \"USER\": [\"name\"]\n",
    "}\n",
    "\n",
    "# Dictionary to store how many nodes had properties removed\n",
    "nodes_updated_count = {}\n",
    "\n",
    "# Iterate over each node type and property to remove the missing property values\n",
    "for node_type, properties in missing_values.items():\n",
    "    for property in properties:\n",
    "        # Handle STRING properties\n",
    "        if property in ['name', 'notes', 'state', 'availability', 'types', 'text']:  \n",
    "            condition = f\"n.{property} IS NULL OR n.{property} = '' OR toLower(trim(COALESCE(n.{property}, ''))) IN ['nan', 'null', 'none', '', 'n/a', 'na']\"\n",
    "        # Handle NUMERIC properties (Double, Long)\n",
    "        elif property in ['abv', 'beer_id', 'score', 'feel', 'look', 'overall', 'smell', 'taste']:\n",
    "            condition = f\"n.{property} IS NULL\"\n",
    "        # Handle DATE properties\n",
    "        elif property in ['date']:\n",
    "            condition = f\"n.{property} IS NULL\"\n",
    "        else:\n",
    "            continue  # Skip unknown property types\n",
    "\n",
    "        # Query to count affected nodes\n",
    "        count_query = f\"\"\"\n",
    "            MATCH (n:{node_type})\n",
    "            WHERE {condition}\n",
    "            RETURN count(n) AS nodesUpdated\n",
    "        \"\"\"\n",
    "\n",
    "        # Execute count query\n",
    "        try:\n",
    "            count_result = execute_read(driver, count_query)\n",
    "            if count_result and count_result[0]['nodesUpdated'] > 0:\n",
    "                affected_nodes = count_result[0]['nodesUpdated']\n",
    "\n",
    "                # Query to remove the property\n",
    "                # Source: https://neo4j.com/docs/cypher-manual/current/clauses/remove/\n",
    "                remove_query = f\"\"\"\n",
    "                    MATCH (n:{node_type})\n",
    "                    WHERE {condition}\n",
    "                    REMOVE n.{property}\n",
    "                \"\"\"\n",
    "                \n",
    "                # Execute remove query\n",
    "                execute_write(driver, remove_query)\n",
    "\n",
    "                # Store the count of affected nodes\n",
    "                if node_type not in nodes_updated_count:\n",
    "                    nodes_updated_count[node_type] = 0\n",
    "                nodes_updated_count[node_type] += affected_nodes\n",
    "\n",
    "        except Exception as e:\n",
    "            print(f\"Error processing {node_type} nodes with missing {property}: {e}\")\n",
    "\n",
    "# Print summary of changes\n",
    "print(\"\\nSummary of nodes where properties were removed:\")\n",
    "for node, count in nodes_updated_count.items():\n",
    "    print(f\"Label: {node}, Nodes Updated: {count}\")"
   ]
  },
  {
   "cell_type": "code",
   "execution_count": 11,
   "metadata": {},
   "outputs": [
    {
     "name": "stdout",
     "output_type": "stream",
     "text": [
      "Node Type: BEERS, Property: abv, Missing Count: 38797\n",
      "Node Type: BEERS, Property: state, Missing Count: 60726\n",
      "Node Type: BEERS, Property: notes, Missing Count: 46\n",
      "Example Node: <Node element_id='83399' labels=frozenset({'BEERS'}) properties={'abv': 6.7, 'name': 'The Bubble', 'retired': True, 'id': 281066, 'state': 'IL', 'availability': ' Limited (brewed once)', 'brewery_id': 18006}> \n",
      "\n",
      "Node Type: BREWERIES, Property: notes, Missing Count: 85\n",
      "Node Type: BREWERIES, Property: state, Missing Count: 11271\n",
      "Example Node: <Node element_id='11865' labels=frozenset({'BREWERIES'}) properties={'types': 'Brewery', 'notes': 'No notes at this time.', 'name': 'Brouwerij Danny', 'id': 19730}> \n",
      "\n",
      "Node Type: CITIES, Property: name, Missing Count: 1\n",
      "Example Node: <Node element_id='656' labels=frozenset({'CITIES'}) properties={}> \n",
      "\n",
      "Node Type: COUNTRIES, Property: name, Missing Count: 1\n",
      "Example Node: <Node element_id='133' labels=frozenset({'COUNTRIES'}) properties={}> \n",
      "\n",
      "Node Type: REVIEWS, Property: beer_id, Missing Count: 19\n",
      "Node Type: REVIEWS, Property: date, Missing Count: 19\n",
      "Node Type: REVIEWS, Property: feel, Missing Count: 1060502\n",
      "Node Type: REVIEWS, Property: id, Missing Count: 19\n",
      "Node Type: REVIEWS, Property: look, Missing Count: 1060502\n",
      "Node Type: REVIEWS, Property: overall, Missing Count: 1060502\n",
      "Node Type: REVIEWS, Property: score, Missing Count: 19\n",
      "Node Type: REVIEWS, Property: smell, Missing Count: 1060502\n",
      "Node Type: REVIEWS, Property: taste, Missing Count: 1060502\n",
      "Node Type: REVIEWS, Property: text, Missing Count: 19\n",
      "Example Node: <Node element_id='921375' labels=frozenset() properties={}> \n",
      "\n",
      "Node Type: STYLE, Property: name, Missing Count: 1\n",
      "Example Node: <Node element_id='9494325' labels=frozenset({'STYLE'}) properties={}> \n",
      "\n",
      "Node Type: USER, Property: name, Missing Count: 1\n",
      "Example Node: <Node element_id='9502520' labels=frozenset({'USER'}) properties={}> \n",
      "\n"
     ]
    }
   ],
   "source": [
    "# Confirm that missing values have been removed\n",
    "for node_type, properties in missing_values.items():\n",
    "    for property in properties:\n",
    "        query = f\"\"\"\n",
    "            // Count the number of nodes with missing values for the property and return 1 example node\n",
    "            MATCH (n:{node_type})\n",
    "            WHERE n.{property} IS NULL OR n.{property} = ''\n",
    "            RETURN count(n) AS missingCount, collect(n)[0] AS exampleNode\n",
    "        \"\"\"\n",
    "        result = execute_read(driver, query)\n",
    "        print(f\"Node Type: {node_type}, Property: {property}, Missing Count: {result[0]['missingCount']}\")\n",
    "    print(f\"Example Node: {result[0]['exampleNode']} \\n\")"
   ]
  },
  {
   "cell_type": "code",
   "execution_count": 12,
   "metadata": {},
   "outputs": [
    {
     "name": "stdout",
     "output_type": "stream",
     "text": [
      "[<Record b=<Node element_id='62233' labels=frozenset({'BEERS'}) properties={'notes': 'No notes at this time.', 'name': 'Cerveza India', 'retired': True, 'id': 15645, 'brewery_id': 846, 'availability': ' Year-round'}>>]\n"
     ]
    }
   ],
   "source": [
    "# Check one node of the label BEERS to see if the property abv was removed\n",
    "query = \"\"\"\n",
    "    MATCH (b:BEERS)\n",
    "    WHERE b.abv IS NULL\n",
    "    RETURN b\n",
    "    LIMIT 1\n",
    "\"\"\"\n",
    "result = execute_read(driver, query)\n",
    "pprint(result)"
   ]
  },
  {
   "cell_type": "markdown",
   "metadata": {},
   "source": [
    "### **2.5. 📊 Change Schema** \n",
    "\n",
    "In this section, we will change the schema of the database to make it more efficient and to better represent the relationships between the nodes. \n",
    "\n",
    "\n",
    "**Considerations/Questions**:\n",
    "\n",
    "Based on the analysis of the database, we can make the following considerations:\n",
    "- Each `CITY` is in a `COUNTRY`. [Because we have a `COUNTRY` node with a `CITY` relationship and `Min_RelationshipCount` = 1]\n",
    "- Each `BREWERY` is in a `CITY`. [Because we have a `CITY` node with a `BREWERY` relationship and `Min_RelationshipCount` = 1]\n",
    "- Each `BEER` is brewed by a unique `BREWERY`. [Because we have a `BREWERY` node with a `BEER` relationship and `Min_RelationshipCount` = 1]\n",
    "- Each `REVIEW` is about a `BEER` and is written by a `USER`. [Because we have a `BEER` node with a `REVIEW` relationship and a `USER` node with a `REVIEW` relationship and `Min_RelationshipCount` = 1]\n",
    "  - One `USER` can write multiple `REVIEWS`?                 \n",
    "  - One `REVIEW` can be written by multiple `USER`?\n",
    "  - One `REVIEW` can be about multiple `BEER`?\n",
    "- Each `BEER` has a `STYLE`. [Because we have a `BEER` node with a `STYLE` relationship and `Min_RelationshipCount` = 1]\n",
    "  - One `BEER` can have multiple `STYLE`?"
   ]
  },
  {
   "cell_type": "code",
   "execution_count": null,
   "metadata": {},
   "outputs": [],
   "source": [
    "# Query to check if 'One `USER` can write multiple `REVIEWS`'\n",
    "query = \"\"\"\n",
    "    MATCH (u:USER)<-[:POSTED]-(r:REVIEWS)\n",
    "    WITH u, count(r) AS reviewCount\n",
    "    WHERE reviewCount > 1\n",
    "    RETURN count(u) AS totalUsersWithMultipleReviews\n",
    "\"\"\"\n",
    "result = execute_read(driver, query)\n",
    "pprint(result)"
   ]
  },
  {
   "cell_type": "code",
   "execution_count": null,
   "metadata": {},
   "outputs": [],
   "source": [
    "# Query to check if 'One `USER` can write multiple `REVIEWS` for the same `BEER`'\n",
    "query = \"\"\"\n",
    "    MATCH (u:USER)<-[:POSTED]-(r:REVIEWS)<-[:REVIEWED]-(b:BEERS)\n",
    "    WITH u, b, count(r) AS reviewCount\n",
    "    WHERE reviewCount > 1\n",
    "    RETURN count(u) AS totalUsersWithMultipleReviewsForSameBeer\n",
    "\"\"\"\n",
    "result = execute_read(driver, query)\n",
    "pprint(result)"
   ]
  },
  {
   "cell_type": "code",
   "execution_count": null,
   "metadata": {},
   "outputs": [],
   "source": [
    "# Query to check if 'One `REVIEW` can be written by multiple `USER`'\n",
    "query = \"\"\"\n",
    "    MATCH (u:USER)<-[:POSTED]-(r:REVIEWS)\n",
    "    WITH r, count(u) AS userCount\n",
    "    WHERE userCount > 1\n",
    "    RETURN count(r) AS totalReviewsWithMultipleUsers\n",
    "\"\"\"\n",
    "result = execute_read(driver, query)\n",
    "pprint(result)"
   ]
  },
  {
   "cell_type": "code",
   "execution_count": null,
   "metadata": {},
   "outputs": [],
   "source": [
    "# Query to check if 'One `REVIEW` can be about multiple `BEER`'\n",
    "query = \"\"\"\n",
    "    MATCH (r:REVIEWS)<-[:REVIEWED]-(b:BEERS)\n",
    "    WITH r, count(b) AS beerCount\n",
    "    WHERE beerCount > 1\n",
    "    RETURN count(r) AS totalReviewsWithMultipleBeers\n",
    "\"\"\"\n",
    "result = execute_read(driver, query)\n",
    "pprint(result)"
   ]
  },
  {
   "cell_type": "code",
   "execution_count": null,
   "metadata": {},
   "outputs": [],
   "source": [
    "# Query to check if 'One `BEER` can have multiple `STYLE`'\n",
    "query = \"\"\"\n",
    "    MATCH (b:BEERS)-[:HAS_STYLE]->(s:STYLE)\n",
    "    WITH b, count(s) AS styleCount\n",
    "    WHERE styleCount > 1\n",
    "    RETURN count(b) AS totalBeersWithMultipleStyles\n",
    "\"\"\"\n",
    "result = execute_read(driver, query)\n",
    "pprint(result)"
   ]
  },
  {
   "cell_type": "markdown",
   "metadata": {},
   "source": [
    "---"
   ]
  },
  {
   "cell_type": "markdown",
   "metadata": {},
   "source": [
    "\n",
    "#### **Schema Adjustments Considerations**\n",
    "\n",
    "> After this considerations and verifications, we will create a new relationship between `USER` and `BEER` nodes, called **`RATED`**. \n",
    "\n",
    "This relationship aims to create a shorter path between **`USER`** and **`BEER`** nodes, reducing the current 2-hop path (```USER -[:POSTED]-> REVIEWS -[:REVIEWED]-> BEER```) to a single hop. we will merge `REVIEWS` nodes in the `USER` and `BEER` nodes, creating a direct ```USER -[:RATED]-> BEERS``` relationship with **review properties** (`score`, `date`, etc.) as relationship properties. This change will make subsequent queries — such as finding beers REVIEWED by a user or simplified queries like *Which beers has a user reviewed?* — more efficient and performant by minimizing traversals across the $2.5M$ **`REVIEWS`** nodes.\n",
    "\n",
    "<br>\n",
    "\n",
    "---\n",
    "\n",
    "<br>\n",
    "\n",
    "> Another action the group considered was **renaming relationships** or **changing their direction**. For example, some relationship names could be more intuitive, such as `POSTED` from `USER` to `REVIEWS` instead of the reverse, or `REVIEWED` from `REVIEWS` to `BEERS`. However, since these changes would not impact query results or optimize the dataset, the final decision was to prioritize the remaining exercises over these modifications."
   ]
  },
  {
   "cell_type": "markdown",
   "metadata": {},
   "source": [
    "---"
   ]
  },
  {
   "cell_type": "markdown",
   "metadata": {},
   "source": [
    "**For Comparison:**"
   ]
  },
  {
   "cell_type": "code",
   "execution_count": null,
   "metadata": {},
   "outputs": [],
   "source": [
    "# Before Optimization (Using the Longer Path)\n",
    "query = \"\"\"\n",
    "    PROFILE\n",
    "    MATCH (u:USER)<-[:POSTED]-(r:REVIEWS)<-[:REVIEWED]-(b:BEERS)\n",
    "    RETURN COUNT(*)\n",
    "    LIMIT 1000\n",
    "\"\"\"\n",
    "\n",
    "start_time = time.time()  # Start timer\n",
    "result_before = execute_read(driver, query)\n",
    "time_before = time.time() - start_time  # Calculate execution time\n",
    "\n",
    "print(f\"Before Optimization: {result_before[0]} (Execution Time: {time_before:.2f} seconds)\")"
   ]
  },
  {
   "cell_type": "markdown",
   "metadata": {},
   "source": [
    "---"
   ]
  },
  {
   "cell_type": "code",
   "execution_count": null,
   "metadata": {},
   "outputs": [],
   "source": [
    "# Create a function execute_batch_write as in 2.1. to create the new relationship\n",
    "\n",
    "# Function to process write operations in batches with deletion\n",
    "def execute_batch_write_relationship(driver, match_clause, condition_clause, relationship_clause, delete_clause, total_nodes, batch_size=10_000, desc=\"Processing batches\"):\n",
    "    \"\"\"\n",
    "    Process write operations in batches for relationship creation and node deletion.\n",
    "    Parameters:\n",
    "    - driver: Neo4j driver instance.\n",
    "    - match_clause: String, the Cypher MATCH clause to execute on matched nodes.\n",
    "    - condition_clause: String, the Cypher WHERE/WITH clause to filter nodes.\n",
    "    - relationship_clause: String, the Cypher MERGE clause to create the relationship.\n",
    "    - delete_clause: String, the Cypher DELETE clause to remove nodes/relationships.\n",
    "    - total_nodes: Integer, total number of nodes to process.\n",
    "    - batch_size: Integer, number of nodes per batch (default: 10,000).\n",
    "    - desc: String, description for tqdm progress bar (default: 'Processing batches').\n",
    "    Returns:\n",
    "    - Tuple of (processed relationships, deleted reviews).\n",
    "    \"\"\"\n",
    "    total_processed = 0\n",
    "    total_deleted = 0\n",
    "\n",
    "    for offset in tqdm(range(0, total_nodes, batch_size), desc=desc):\n",
    "        batch_query = f\"\"\"\n",
    "            {match_clause}\n",
    "            {condition_clause}\n",
    "            // SKIP {offset}        // Since we are deleting, we don't need to skip\n",
    "            LIMIT {batch_size}\n",
    "            {relationship_clause}\n",
    "            // {delete_clause}     // We try to delete the nodes to optimize the query \n",
    "                                   // (but erase a error in the query -  code: Neo.DatabaseError.Transaction.TransactionCommitFailed | \n",
    "                                   //                                    message: Unable to complete transaction.\n",
    "            RETURN count(rev) AS createdRelationships, count(r) AS deletedReviews\n",
    "        \"\"\"\n",
    "        try:\n",
    "            # print(batch_query)                                          # Print the batch query for debugging\n",
    "            result = execute_write(driver, batch_query)\n",
    "            for record in result:\n",
    "                created = record['createdRelationships']\n",
    "                deleted = record['deletedReviews']\n",
    "                total_processed += created\n",
    "                total_deleted += deleted\n",
    "                # print(f\"Batch at offset {offset}: Created {created} RATED relationships, Deleted {deleted} REVIEWS\")\n",
    "        except Exception as e:\n",
    "            print(f\"Error at offset {offset}: {e}\")\n",
    "            break\n",
    "    \n",
    "    return total_processed, total_deleted"
   ]
  },
  {
   "cell_type": "code",
   "execution_count": null,
   "metadata": {},
   "outputs": [],
   "source": [
    "# Step 1: Count total REVIEWS for verification\n",
    "query = \"\"\"\n",
    "    MATCH (r:REVIEWS)\n",
    "    RETURN count(r) AS totalReviews\n",
    "\"\"\"\n",
    "result = execute_read(driver, query)\n",
    "total_reviews = result[0]['totalReviews']\n",
    "print(f\"Total REVIEWS before processing: {total_reviews}\")             # 2538063 - 19 = 2538044"
   ]
  },
  {
   "cell_type": "code",
   "execution_count": null,
   "metadata": {},
   "outputs": [],
   "source": [
    "# Step 2: Create RATED relationship and delete REVIEWS in batches\n",
    "\n",
    "# Source: https://neo4j.com/docs/cypher-manual/current/clauses/merge/#merge-merge-on-a-relationship\n",
    "#         https://neo4j.com/docs/cypher-manual/current/functions/scalar/#functions-coalesce\n",
    "# Create the RATED relationship between USER and BEER nodes\n",
    "\"\"\"\n",
    "    // Path to create the RATED relationship between USER and BEER nodes\n",
    "    MATCH (u:USER)<-[:POSTED]-(r:REVIEWS)<-[:REVIEWED]-(b:BEERS)\n",
    "    WITH u, r, b\n",
    "    // Create the RATED relationship\n",
    "    MERGE (u)-[rev:RATED]->(b)\n",
    "    // Set the properties of the relationship - Set properties conditionally only if they exist and are not null\n",
    "    SET\n",
    "        rev.id = COALESCE(r.id, rev.id),                               // COALESCE - Will return the first non-null value (Otherwise, return NULL)\n",
    "        rev.beer_id = COALESCE(r.beer_id, rev.beer_id),\n",
    "        rev.date = COALESCE(r.date, rev.date),\n",
    "        rev.feel = COALESCE(r.feel, rev.feel),\n",
    "        rev.look = COALESCE(r.look, rev.look),\n",
    "        rev.overall = COALESCE(r.overall, rev.overall),\n",
    "        rev.score = COALESCE(r.score, rev.score),\n",
    "        rev.smell = COALESCE(r.smell, rev.smell),\n",
    "        rev.taste = COALESCE(r.taste, rev.taste),\n",
    "        rev.text = COALESCE(r.text, rev.text)\n",
    "    // Delete the REVIEW node after creating the RATED relationship (DETACH DELETE - Source: https://neo4j.com/docs/cypher-manual/current/clauses/delete/#delete-delete-a-node)\n",
    "    DETACH DELETE r\n",
    "\"\"\"\n",
    "\n",
    "# Run the batch write operation\n",
    "result = execute_batch_write_relationship(\n",
    "    driver,\n",
    "    match_clause=\"MATCH (u:USER)<-[:POSTED]-(r:REVIEWS)<-[:REVIEWED]-(b:BEERS)\",\n",
    "    condition_clause=\"WITH u, r, b\",\n",
    "    relationship_clause=\"MERGE (u)-[rev:RATED]->(b) SET rev.id = COALESCE(r.id, rev.id), rev.beer_id = COALESCE(r.beer_id, rev.beer_id), rev.date = COALESCE(r.date, rev.date), rev.feel = COALESCE(r.feel, rev.feel), rev.look = COALESCE(r.look, rev.look), rev.overall = COALESCE(r.overall, rev.overall), rev.score = COALESCE(r.score, rev.score), rev.smell = COALESCE(r.smell, rev.smell), rev.taste = COALESCE(r.taste, rev.taste), rev.text = COALESCE(r.text, rev.text)\",\n",
    "    delete_clause=\"DETACH DELETE r\",\n",
    "    total_nodes=2_538_063,                                  # Total REVIEWS to process\n",
    "    batch_size=1000,                                        # Batch size\n",
    "    desc=\"Creating RATED relationship and deleting REVIEWS\"\n",
    ")"
   ]
  },
  {
   "cell_type": "markdown",
   "metadata": {},
   "source": [
    "> "
   ]
  },
  {
   "cell_type": "code",
   "execution_count": null,
   "metadata": {},
   "outputs": [],
   "source": [
    "# Step 3: Extract results\n",
    "total_processed, total_deleted = result\n",
    "print(f\"Total RATED relationships created: {total_processed}\")\n",
    "print(f\"Total REVIEWS deleted: {total_deleted}\")"
   ]
  },
  {
   "cell_type": "code",
   "execution_count": null,
   "metadata": {},
   "outputs": [],
   "source": [
    "# Step 4: Verify counts match\n",
    "print(f\"Verification: Total RATED relationships ({total_processed}) matches total REVIEWS ({total_reviews}): {total_processed == total_reviews}\")\n",
    "print(f\"Verification: Total deleted REVIEWS ({total_deleted}) matches original count ({total_reviews}): {total_deleted == total_reviews}\")"
   ]
  },
  {
   "cell_type": "code",
   "execution_count": null,
   "metadata": {},
   "outputs": [],
   "source": [
    "# Step 5: Check for remaining REVIEWS nodes\n",
    "try:\n",
    "    query = \"\"\"\n",
    "        MATCH (r:REVIEWS)\n",
    "        RETURN count(r) AS remainingReviews\n",
    "    \"\"\"\n",
    "    result = execute_read(driver, query)\n",
    "    remaining_reviews = result[0]['remainingReviews']\n",
    "    print(f\"Remaining REVIEWS nodes after deletion: {remaining_reviews}\")\n",
    "    if remaining_reviews == 0:\n",
    "        print(\"Verification: All REVIEWS nodes successfully deleted.\")\n",
    "    else:\n",
    "        print(\"Warning: Some REVIEWS nodes remain.\")\n",
    "except Exception as e:\n",
    "    print(f\"Error checking remaining REVIEWS: {e}\")"
   ]
  },
  {
   "cell_type": "code",
   "execution_count": null,
   "metadata": {},
   "outputs": [],
   "source": [
    "# Verify the relationships created\n",
    "query = \"\"\"\n",
    "    MATCH (u:USER)-[:RATED]->(b:BEERS)\n",
    "    RETURN count(*) AS totalRatings\n",
    "\"\"\"\n",
    "result = execute_read(driver, query)\n",
    "pprint(result)"
   ]
  },
  {
   "cell_type": "markdown",
   "metadata": {},
   "source": [
    "- As expected, the **`RATED`** relationship total ($2\\;538\\;063$) is the same as the **`REVIEWS`** nodes total ($2\\;538\\;063$), because we are only considering one **review** for each **`USER`** and **`BEER`** node."
   ]
  },
  {
   "cell_type": "markdown",
   "metadata": {},
   "source": [
    "> After creating the **`REVIEWED`** relationship, we created a new **relationship** between **`BREWERIES`** and **`COUNTRY`** nodes, called **`LOCATED`**. This relationship aims to create a shorter path between **`BREWERIES`** and **`COUNTRY`** nodes, reducing the current 2-hop path (```BREWERIES -[:IN]-> CITIES -[:IN]-> COUNTRIES```) to a single hop. This optimization will make subsequent queries — such as finding the country of a brewery — more efficient and performant by minimizing traversals across the $11\\;665$ **`CITIES`** nodes."
   ]
  },
  {
   "cell_type": "code",
   "execution_count": null,
   "metadata": {},
   "outputs": [],
   "source": [
    "# Every `BREWERIES` has a `COUNTRY` associated with it\n",
    "query = \"\"\"\n",
    "    // Count the number of BREWERIES nodes without a COUNTRY relationship\n",
    "    MATCH (b:BREWERIES)\n",
    "    WHERE NOT (b)-[:IN]->(:CITIES)-[:IN]->(:COUNTRIES)\n",
    "    RETURN COUNT(b)\n",
    "\"\"\"\n",
    "result = execute_read(driver, query)\n",
    "pprint(result)"
   ]
  },
  {
   "cell_type": "code",
   "execution_count": null,
   "metadata": {},
   "outputs": [],
   "source": [
    "# Step 1: Count total BREWERIES for verification\n",
    "query = \"\"\"\n",
    "    MATCH (b:BREWERIES)\n",
    "    RETURN count(b) AS totalBreweries\n",
    "\"\"\"\n",
    "result = execute_read(driver, query)\n",
    "total_breweries = result[0]['totalBreweries']\n",
    "print(f\"Total BREWERIES before processing: {total_breweries}\")\n",
    "\n",
    "\n",
    "# Count the number of COUNTRIES nodes with a BREWERIES relationship\n",
    "query = \"\"\"\n",
    "    // Count the number of COUNTRIES nodes with a BREWERIES relationship\n",
    "    MATCH (c:COUNTRIES)<-[:IN]-(:CITIES)<-[:IN]-(:BREWERIES)\n",
    "    RETURN COUNT(c) AS totalCountriesWithBreweries\n",
    "\"\"\"\n",
    "result = execute_read(driver, query)\n",
    "print(f\"Total COUNTRIES with BREWERIES relationship: {result[0]['totalCountriesWithBreweries']}\")"
   ]
  },
  {
   "cell_type": "code",
   "execution_count": null,
   "metadata": {},
   "outputs": [],
   "source": [
    "# Step 2: Create LOCATED_IN relationship between BREWERIES and COUNTRIES nodes\n",
    "query = \"\"\"\n",
    "    // Path to create the LOCATED_IN relationship between BREWERIES and COUNTRIES nodes\n",
    "    MATCH (b:BREWERIES)-[:IN]->(c:CITIES)-[:IN]->(co:COUNTRIES)\n",
    "    \n",
    "    // Ensure that the relationship does not exist\n",
    "    WHERE NOT (b)-[:LOCATED_IN]->(co)\n",
    "    \n",
    "    // Create the LOCATED_IN relationship\n",
    "    MERGE (b)-[:LOCATED_IN]->(co)\n",
    "\"\"\"\n",
    "result = execute_write(driver, query)\n",
    "pprint(result)"
   ]
  },
  {
   "cell_type": "code",
   "execution_count": null,
   "metadata": {},
   "outputs": [],
   "source": [
    "# Step 3: Verify the relationships created\n",
    "query = \"\"\"\n",
    "    MATCH (b:BREWERIES)-[:LOCATED_IN]->(co:COUNTRIES)\n",
    "    RETURN count(*) AS totalRelationships\n",
    "\"\"\"\n",
    "result = execute_read(driver, query)\n",
    "pprint(result)"
   ]
  },
  {
   "cell_type": "markdown",
   "metadata": {},
   "source": [
    "> AAAAAAAAAAAAAAAA\n",
    "\n",
    "<div class=\"alert alert-block alert-success\">\n",
    "\n",
    "**ESCREVER**\n",
    "\n",
    "</div>"
   ]
  },
  {
   "cell_type": "code",
   "execution_count": null,
   "metadata": {},
   "outputs": [],
   "source": [
    "# Just to clarification, rename the relationship between CITIES and COUNTRIES to BELONGS_TO\n",
    "\n",
    "# Step 1: Count existing IN relationships between CITIES and COUNTRIES for verification \n",
    "query = \"\"\"\n",
    "    MATCH (c:CITIES)-[:IN]->(co:COUNTRIES)\n",
    "    RETURN count(*) AS originalInRelationships\n",
    "\"\"\"\n",
    "result = execute_read(driver, query)\n",
    "original_count = result[0]['originalInRelationships']\n",
    "print(f\"Original IN relationships between CITIES and COUNTRIES: {original_count}\")"
   ]
  },
  {
   "cell_type": "code",
   "execution_count": null,
   "metadata": {},
   "outputs": [],
   "source": [
    "# Step 2: Create new BELONGS_TO relationships and remove old IN relationships\n",
    "query = \"\"\"\n",
    "    // Rename the relationship between CITIES and COUNTRIES to BELONGS_TO\n",
    "    MATCH (c:CITIES)-[r:IN]->(co:COUNTRIES)\n",
    "    MERGE (c)-[:BELONGS_TO]->(co)\n",
    "    DELETE r\n",
    "\"\"\"\n",
    "result = execute_write(driver, query)\n",
    "pprint(result)"
   ]
  },
  {
   "cell_type": "code",
   "execution_count": null,
   "metadata": {},
   "outputs": [],
   "source": [
    "# Step 3: Verify no remaining IN relationships\n",
    "query = \"\"\"\n",
    "    MATCH (c:CITIES)-[:IN]->(co:COUNTRIES)\n",
    "    RETURN count(*) AS remainingInRelationships\n",
    "\"\"\"\n",
    "result = execute_read(driver, query)\n",
    "remaining_count = result[0]['remainingInRelationships']\n",
    "print(f\"Remaining IN relationships between CITIES and COUNTRIES: {remaining_count}\")"
   ]
  },
  {
   "cell_type": "code",
   "execution_count": null,
   "metadata": {},
   "outputs": [],
   "source": [
    "# 2.5. Visualize the final schema\n",
    "query = \"\"\"\n",
    "    CALL db.schema.visualization()\n",
    "\"\"\"\n",
    "result = execute_read(driver, query)\n",
    "print(\"Final database schema visualized (node labels and relationships):\\n\")\n",
    "print(\"Nodes:\", [record[\"nodes\"] for record in result][0])\n",
    "print(\"Relationships:\", [record[\"relationships\"] for record in result][0])"
   ]
  },
  {
   "cell_type": "markdown",
   "metadata": {},
   "source": [
    "<img src=\"./img/TheBeerProject_FinalSchema.png\" width=\"700\">"
   ]
  },
  {
   "cell_type": "markdown",
   "metadata": {},
   "source": [
    "---"
   ]
  },
  {
   "cell_type": "markdown",
   "metadata": {},
   "source": [
    "## **3. Analytics department**"
   ]
  },
  {
   "cell_type": "code",
   "execution_count": null,
   "metadata": {},
   "outputs": [],
   "source": [
    "# 3. Analytics department requires the following information for the biweekly reporting: [5 points]\n",
    "#    3.1. How many reviews has the beer with the most reviews?\n",
    "query = \"\"\"\n",
    "    MATCH (b:BEERS)-[:REVIEWED]->(r:REVIEWS)\n",
    "    RETURN b.name AS BeerName, count(r) AS NumberOfReviews\n",
    "    ORDER BY NumberOfReviews DESC\n",
    "    LIMIT 1\n",
    "\"\"\"\n",
    "result = execute_read(driver, query)\n",
    "\n",
    "# Print the result\n",
    "print(\"The beer with the most reviews is:\", result[0][\"BeerName\"], \"with\", result[0][\"NumberOfReviews\"], \"reviews.\")"
   ]
  },
  {
   "cell_type": "code",
   "execution_count": null,
   "metadata": {},
   "outputs": [],
   "source": [
    "# 3.2. Which three users wrote the most reviews about beers?\n",
    "#           REVIEWS - POSTED -> USER\n",
    "#           BEERS - REVIEWED -> REVIEWS\n",
    "\n",
    "query = \"\"\"\n",
    "    MATCH (r:BEERS)-[:REVIEWED]->(b:REVIEWS)-[:POSTED]->(u:USER)\n",
    "    RETURN u.name AS UserName, count(b) AS NumberOfReviews\n",
    "    ORDER BY NumberOfReviews DESC\n",
    "    LIMIT 3\n",
    "\"\"\"\n",
    "result = execute_read(driver, query)\n",
    "# Print the result\n",
    "print(\"The three users who wrote the most reviews are:\", \n",
    "        \"\\n - \\033[1m1st\\033[0m\", result[0][\"UserName\"], \"with\", result[0][\"NumberOfReviews\"], \"reviews.\",\n",
    "        \"\\n - \\033[1m2nd\\033[0m\", result[1][\"UserName\"], \"with\", result[1][\"NumberOfReviews\"], \"reviews.\",\n",
    "        \"\\n - \\033[1m3rd\\033[0m\", result[2][\"UserName\"], \"with\", result[2][\"NumberOfReviews\"], \"reviews.\")"
   ]
  },
  {
   "cell_type": "code",
   "execution_count": null,
   "metadata": {},
   "outputs": [],
   "source": [
    "#    3.3. Find all beers that are described with following words: 'fruit', 'complex', 'nutty', 'dark'.\n",
    "query = \"\"\"\n",
    "    MATCH (b:BEERS)\n",
    "    \n",
    "    // Filter the beers with the given words in the notes property (case-insensitive)\n",
    "    // WHERE toLower(b.notes) CONTAINS 'fruit' AND toLower(b.notes) CONTAINS 'complex' AND toLower(b.notes) CONTAINS 'nutty' AND toLower(b.notes) CONTAINS 'dark'\n",
    "    \n",
    "    // Alternative more optimized query using regular expressions (Source: https://neo4j.com/docs/cypher-manual/current/clauses/where/#query-where-regex)\n",
    "    WHERE toLower(b.notes) =~ '.*fruit.*complex.*nutty.*dark.*'    \n",
    "    RETURN b.name AS BeerName, b.notes AS Description\n",
    "\"\"\"\n",
    "result = execute_read(driver, query)\n",
    "\n",
    "print(\"Beers described with 'fruit', 'complex', 'nutty', and 'dark':\")\n",
    "# for beer in result:\n",
    "#     print(\"-\\033[1m\", beer[\"BeerName\"], \"\\033[0m:\", beer[\"Description\"])\n",
    "    \n",
    "print(\"\\n\", len(result), \"beers found.\")"
   ]
  },
  {
   "cell_type": "code",
   "execution_count": null,
   "metadata": {},
   "outputs": [],
   "source": []
  },
  {
   "cell_type": "markdown",
   "metadata": {},
   "source": [
    "<div class=\"alert alert-block alert-warning\">\n",
    "\n",
    "# **PERGUNTAR PROFª | Não percebi o que é suposto printar**\n",
    "\n",
    "</div>"
   ]
  },
  {
   "cell_type": "code",
   "execution_count": null,
   "metadata": {},
   "outputs": [],
   "source": [
    "#    3.4. Which top three breweries produce the largest variety of beer styles?\n",
    "query = \"\"\"\n",
    "    MATCH (brewery:BREWERIES)-[:BREWED]->(beer:BEERS)-[:HAS_STYLE]->(style:STYLE)\n",
    "    RETURN brewery.name AS BreweryName, count(DISTINCT style) AS StyleCount\n",
    "    ORDER BY StyleCount DESC\n",
    "    LIMIT 3\n",
    "\"\"\"\n",
    "result = execute_read(driver, query)\n",
    "print(\"The top three breweries with the largest variety of beer styles are:\",\n",
    "      \"\\n - \\033[1m1st\\033[0m\", result[0][\"BreweryName\"], \"with\", result[0][\"StyleCount\"], \"styles.\",\n",
    "      \"\\n - \\033[1m2nd\\033[0m\", result[1][\"BreweryName\"], \"with\", result[1][\"StyleCount\"], \"styles.\",\n",
    "      \"\\n - \\033[1m3rd\\033[0m\", result[2][\"BreweryName\"], \"with\", result[2][\"StyleCount\"], \"styles.\")"
   ]
  },
  {
   "cell_type": "code",
   "execution_count": null,
   "metadata": {},
   "outputs": [],
   "source": [
    "#    3.5. Which country produces the most beer styles?\n",
    "query = \"\"\"\n",
    "    MATCH (c:COUNTRIES)<-[:IN]-(ci:CITIES)<-[:IN]-(br:BREWERIES)-[:BREWED]->(b:BEERS)-[:HAS_STYLE]->(s:STYLE)\n",
    "    WITH c, count(DISTINCT s) AS NumberOfStyles\n",
    "    ORDER BY NumberOfStyles DESC\n",
    "    LIMIT 1\n",
    "    RETURN c.name AS CountryName, NumberOfStyles\n",
    "\"\"\"\n",
    "result = execute_read(driver, query)\n",
    "print(\"\\033[1mThe country producing the most beer styles is:\\033[0m\", result[0][\"CountryName\"], \"with\", result[0][\"NumberOfStyles\"], \"styles.\")"
   ]
  },
  {
   "cell_type": "markdown",
   "metadata": {},
   "source": [
    "---"
   ]
  },
  {
   "cell_type": "markdown",
   "metadata": {},
   "source": [
    "## **4. Market Analysis department**"
   ]
  },
  {
   "cell_type": "code",
   "execution_count": null,
   "metadata": {},
   "outputs": [],
   "source": [
    "# 4. Market Analysis department in your company accesses and updates the trends data on the daily basis. \n",
    "#   Given that, consider how you need to optimize the database and its performance so that the following queries are efficient. \n",
    "#   Measure performance to communicate your improvements using PROFILE before final query. Answer the following: [4 points]"
   ]
  },
  {
   "cell_type": "markdown",
   "metadata": {},
   "source": [
    "<div class=\"alert alert-block alert-warning\">\n",
    "\n",
    "### **Escrever uma nota a dizer que já fizemos certas limpezas que potenciam a otimização das querys seguintes (NAs, Duplicates, Data Types)** (dizer que são exemplos)\n",
    "\n",
    "</div>"
   ]
  },
  {
   "cell_type": "code",
   "execution_count": null,
   "metadata": {},
   "outputs": [],
   "source": [
    "# Function to profile a query and print key performance metrics\n",
    "# Source: https://neo4j.com/docs/api/python-driver/current/api.html\n",
    "def profile_query(query, description):\n",
    "    with driver.session() as session:\n",
    "        result = session.run(query)\n",
    "        \n",
    "        # Consume the summary to get performance metrics\n",
    "        summary = result.consume()\n",
    "        \n",
    "        # Extract key performance metrics\n",
    "        db_hits = summary.profile[\"args\"][\"DbHits\"]\n",
    "        cache_hits = summary.profile[\"args\"][\"PageCacheHits\"]\n",
    "        estimated_rows = summary.profile[\"args\"][\"EstimatedRows\"]\n",
    "        rows_returned = summary.profile[\"args\"][\"Rows\"]\n",
    "\n",
    "        # Print the results for comparison\n",
    "        print(f\"\\n🔹 {description} 🔹\")\n",
    "        print(f\"Database Hits (DbHits): {db_hits}\")\n",
    "        print(f\"Cache Hits (PageCacheHits): {cache_hits}\")\n",
    "        print(f\"Estimated Rows: {estimated_rows}\")\n",
    "        print(f\"Actual Rows Returned: {rows_returned}\\n\")\n",
    "\n",
    "        return {\n",
    "            \"Description\": description,\n",
    "            \"DbHits\": db_hits,\n",
    "            \"CacheHits\": cache_hits,\n",
    "            \"EstimatedRows\": estimated_rows,\n",
    "            \"RowsReturned\": rows_returned\n",
    "        }"
   ]
  },
  {
   "cell_type": "code",
   "execution_count": null,
   "metadata": {},
   "outputs": [],
   "source": [
    "# Function to create a INDEX on a property\n",
    "# https://neo4j.com/docs/cypher-manual/current/indexes/search-performance-indexes/managing-indexes/#list-indexes\n",
    "def create_index(driver, label, property):\n",
    "    query = f\"CREATE INDEX IF NOT EXISTS FOR (n:{label}) ON (n.{property})\"\n",
    "    return execute_write(driver, query)"
   ]
  },
  {
   "cell_type": "code",
   "execution_count": null,
   "metadata": {},
   "outputs": [],
   "source": [
    "#    4.1. Using ABV score, find 5 strongest beers, display their ABV score and the corresponding brewery? \n",
    "#          Keep in mind that the strongest known beer is Snake Venom, and deal with the error entries in the database.\n",
    "\n",
    "# 4.1. Find the 5 strongest beers by ABV score\n",
    "\n",
    "# # Before Optimization -                                                                 See in BROWSER\n",
    "# query = \"\"\"\n",
    "#     // PROFILE the query to find the 5 strongest beers by ABV score\n",
    "#     PROFILE MATCH (br:BREWERIES)-[:BREWED]->(b:BEERS)\n",
    "#     WHERE b.abv IS NOT NULL\n",
    "#     RETURN b.name AS beerName, b.abv AS abv, br.name AS breweryName\n",
    "#     ORDER BY b.abv DESC\n",
    "#     LIMIT 5\n",
    "# \"\"\"\n",
    "# result = execute_read(driver, query)\n",
    "# pprint(result)\n",
    "\n",
    "# # Create an index on the abv property of the BEERS nodes\n",
    "# query = \"\"\"\n",
    "#     CREATE INDEX IF NOT EXISTS FOR (b:BEERS) ON (b.abv)   // Create an index on the abv property of the BEERS nodes\n",
    "# \"\"\"                                                       // If we wanna remove it, see the index name in SHOW INDEXES and DROP INDEX index_name\n",
    "# \"\"\"\n",
    "# result = execute_write(driver, query)\n",
    "# pprint(result)\n",
    "\n",
    "\n",
    "# # After Optimization\n",
    "# query = \"\"\"\n",
    "#     // PROFILE the query to find the 5 strongest beers by ABV score\n",
    "#     PROFILE\n",
    "#     MATCH (br:BREWERIES)-[:BREWED]->(b:BEERS)\n",
    "#     WHERE b.abv > 0 AND b.abv <= 67.5 AND b.abv IS NOT NULL         // Filter out invalid ABV values (considering the highest valid ABV value)\n",
    "#     RETURN b.name AS beerName, b.abv AS abv, br.name AS breweryName\n",
    "#     ORDER BY b.abv DESC\n",
    "#     LIMIT 5\n",
    "# \"\"\"\n",
    "# result = execute_read(driver, query)\n",
    "# pprint(result)"
   ]
  },
  {
   "cell_type": "code",
   "execution_count": null,
   "metadata": {},
   "outputs": [],
   "source": [
    "# Query BEFORE Optimization\n",
    "query_before = \"\"\"\n",
    "    // PROFILE the query to find the 5 strongest beers by ABV score\n",
    "    PROFILE MATCH (br:BREWERIES)-[:BREWED]->(b:BEERS)\n",
    "    WHERE b.abv IS NOT NULL\n",
    "    RETURN b.name AS beerName, b.abv AS abv, br.name AS breweryName\n",
    "    ORDER BY b.abv DESC\n",
    "    LIMIT 5\n",
    "\"\"\"\n",
    "\n",
    "# Query AFTER Optimization\n",
    "query_after = \"\"\"\n",
    "    PROFILE\n",
    "    MATCH (br:BREWERIES)-[:BREWED]->(b:BEERS)\n",
    "    WHERE b.abv > 0 AND b.abv <= 67.5 AND b.abv IS NOT NULL         // Filter out invalid ABV values (considering the highest valid ABV value)\n",
    "    RETURN b.name AS beerName, b.abv AS abv, br.name AS breweryName\n",
    "    ORDER BY b.abv DESC\n",
    "    LIMIT 5\n",
    "\"\"\""
   ]
  },
  {
   "cell_type": "code",
   "execution_count": null,
   "metadata": {},
   "outputs": [],
   "source": [
    "# Run queries and compare performance\n",
    "before_metrics = profile_query(query_before, \"BEFORE Optimization - Find Strongest Beers\")\n",
    "print(\"\\n 1st Result: \")\n",
    "pprint(execute_read(driver, query_before))\n",
    "create_index(driver, \"BEERS\", \"abv\")\n",
    "after_metrics = profile_query(query_after, \"AFTER Optimization - Find Strongest Beers\")\n",
    "print(\"\\n 2nd Result: \")\n",
    "pprint(execute_read(driver, query_after))\n",
    "\n",
    "# Print comparison\n",
    "print(\"\\n\\n🔻 PERFORMANCE COMPARISON 🔻\")\n",
    "for key in before_metrics.keys():\n",
    "    if key != \"Description\":\n",
    "        print(f\"{key}: {before_metrics[key]} ➝ {after_metrics[key]}\")"
   ]
  },
  {
   "cell_type": "markdown",
   "metadata": {},
   "source": [
    "<center><img src=\"./img/PROFILEPlan_4.1.png\" width=\"700\"></center>"
   ]
  },
  {
   "cell_type": "markdown",
   "metadata": {},
   "source": [
    "---"
   ]
  },
  {
   "cell_type": "code",
   "execution_count": null,
   "metadata": {},
   "outputs": [],
   "source": [
    "#     4.2. Using the answer from question 2 \n",
    "#               find the top 5 distict beer styles with \n",
    "#               the highest average score of smell + feel \n",
    "#               that were reviewed by the third most productive user. \n",
    "#          Keep in mind that cleaning the database earlier should ensure correct results.\n",
    "\n",
    "# query = \"\"\"\n",
    "#     PROFILE\n",
    "\n",
    "#     // 1st Match: Find the reviews of the third most productive user (name: 'kylehay2004' based on question 3.2)\n",
    "#     MATCH (u:USER {name: 'kylehay2004'})<-[:POSTED]-(r:REVIEWS)\n",
    "#     WHERE r.smell IS NOT NULL AND r.feel IS NOT NULL\n",
    "    \n",
    "#     // 2nd Match: Find the beer styles of the reviews\n",
    "#     MATCH (r)<-[:REVIEWED]-(b:BEERS)-[:HAS_STYLE]->(s:STYLE)\n",
    "    \n",
    "#     // 3rd Match: Calculate the average smell + feel score for each style\n",
    "#     RETURN s.name, AVG(toFloat(r.smell) + toFloat(r.feel)) AS avgSmellFeel       \n",
    "#     ORDER BY avgSmellFeel DESC\n",
    "#     LIMIT 5\n",
    "# \"\"\"\n",
    "# result = execute_read(driver, query)\n",
    "# print(\"Top 5 styles by smell + feel (unoptimized):\")\n",
    "# pprint(result)\n",
    "\n",
    "# # Create an index on the name property of the USER nodes & the smell and feel properties of the REVIEWS nodes & the style property of the STYLE nodes\n",
    "# # Source: https://neo4j.com/docs/cypher-manual/current/indexes/syntax/\n",
    "# list_of_indexes = [\n",
    "#     \"CREATE INDEX IF NOT EXISTS FOR (u:USER) ON (u.name)\",\n",
    "#     \"CREATE INDEX IF NOT EXISTS FOR (r:REVIEWS) ON (r.smell)\",\n",
    "#     \"CREATE INDEX IF NOT EXISTS FOR (r:REVIEWS) ON (r.feel)\",\n",
    "#     \"CREATE INDEX IF NOT EXISTS FOR (s:STYLE) ON (s.name)\"\n",
    "# ]\n",
    "# for query in list_of_indexes:\n",
    "#     result = execute_write(driver, query)\n",
    "#     pprint(result)\n",
    "\n",
    "# # After Optimization (Indexes + Query Optimization)\n",
    "# query = \"\"\"\n",
    "#     PROFILE\n",
    "#     MATCH (u:USER {name: 'kylehay2004'})<-[:POSTED]-(r:REVIEWS)<-[:REVIEWED]-(b:BEERS)-[:HAS_STYLE]->(s:STYLE)\n",
    "#     WHERE r.smell IS NOT NULL AND r.feel IS NOT NULL\n",
    "#     WITH s.name AS styleName, toFloat(r.smell) + toFloat(r.feel) AS smellFeel\n",
    "#     RETURN styleName, avg(smellFeel) AS avgSmellFeel\n",
    "#     ORDER BY avgSmellFeel DESC\n",
    "#     LIMIT 5\n",
    "# \"\"\"\n",
    "# result = execute_read(driver, query)\n",
    "# print(\"Top 5 styles by smell + feel (optimized):\")\n",
    "# pprint(result)"
   ]
  },
  {
   "cell_type": "code",
   "execution_count": null,
   "metadata": {},
   "outputs": [],
   "source": [
    "# Query BEFORE Optimization\n",
    "query_before_2 = \"\"\"\n",
    "    PROFILE\n",
    "\n",
    "    // 1st Match: Find the reviews of the third most productive user (name: 'kylehay2004' based on question 3.2)\n",
    "    MATCH (u:USER {name: 'kylehay2004'})<-[:POSTED]-(r:REVIEWS)\n",
    "    WHERE r.smell IS NOT NULL AND r.feel IS NOT NULL\n",
    "    \n",
    "    // 2nd Match: Find the beer styles of the reviews\n",
    "    MATCH (r)<-[:REVIEWED]-(b:BEERS)-[:HAS_STYLE]->(s:STYLE)\n",
    "    \n",
    "    // 3rd Match: Calculate the average smell + feel score for each style\n",
    "    RETURN s.name, AVG(toFloat(r.smell) + toFloat(r.feel)) AS avgSmellFeel       \n",
    "    ORDER BY avgSmellFeel DESC\n",
    "    LIMIT 5\n",
    "\"\"\""
   ]
  },
  {
   "cell_type": "code",
   "execution_count": null,
   "metadata": {},
   "outputs": [],
   "source": [
    "# Query AFTER Optimization\n",
    "query_after_2 = \"\"\"\n",
    "    PROFILE\n",
    "    MATCH (u:USER {name: 'kylehay2004'})<-[:POSTED]-(r:REVIEWS)<-[:REVIEWED]-(b:BEERS)-[:HAS_STYLE]->(s:STYLE)\n",
    "    WHERE r.smell IS NOT NULL AND r.feel IS NOT NULL\n",
    "    WITH s.name AS styleName, toFloat(r.smell) + toFloat(r.feel) AS smellFeel\n",
    "    RETURN styleName, avg(smellFeel) AS avgSmellFeel\n",
    "    ORDER BY avgSmellFeel DESC\n",
    "    LIMIT 5\n",
    "\"\"\""
   ]
  },
  {
   "cell_type": "code",
   "execution_count": null,
   "metadata": {},
   "outputs": [],
   "source": [
    "# Run queries and compare performance\n",
    "before_metrics_2 = profile_query(query_before_2, \"BEFORE Optimization - Find Top Beer Styles by Smell + Feel\")\n",
    "print(\"\\n 1st Results:\")\n",
    "pprint(execute_read(driver, query_before_2))\n",
    "create_index(driver, \"USER\", \"name\")\n",
    "create_index(driver, \"REVIEWS\", \"smell\")\n",
    "create_index(driver, \"REVIEWS\", \"feel\")\n",
    "create_index(driver, \"STYLE\", \"name\")\n",
    "after_metrics_2 = profile_query(query_after_2, \"AFTER Optimization - Find Top Beer Styles by Smell + Feel\")\n",
    "print(\"\\n 2nd Results:\")\n",
    "pprint(execute_read(driver, query_after_2))\n",
    "\n",
    "# Print comparison\n",
    "print(\"\\n\\n🔻 PERFORMANCE COMPARISON 🔻\")\n",
    "for key in before_metrics_2.keys():\n",
    "    if key != \"Description\":\n",
    "        print(f\"{key}: {before_metrics_2[key]} ➝ {after_metrics_2[key]}\")"
   ]
  },
  {
   "cell_type": "markdown",
   "metadata": {},
   "source": [
    "<center><img src=\"./img/PROFILEPlan_4.2.png\" width=\"700\"></center>"
   ]
  },
  {
   "cell_type": "markdown",
   "metadata": {},
   "source": [
    "---"
   ]
  },
  {
   "cell_type": "markdown",
   "metadata": {},
   "source": [
    "## **5. Graph Algorithms**"
   ]
  },
  {
   "cell_type": "code",
   "execution_count": null,
   "metadata": {},
   "outputs": [],
   "source": [
    "# 5. Answer **two out of four** of the following questions using Graph Algorithms (gds): \n",
    "#        [NB: make sure to clear the graph before using it again] For the quarterly report, Analytics department the follownig information. [6 points]\n",
    "#     1. Which two countries are most similiar when it comes to their top five most produced Beer styles?\n",
    "#     2. Which beer is the most popular when considering the number of users who reviewed it? \n",
    "#     3. Users are connected together by their reviews of beers, taking into consideration the \"smell\" score they assign as a weight, \n",
    "#        how many communities are formed from these relationships? How many users are in the three largest communities? \n",
    "#     4. Which user is the most influential when it comes to reviews of distinct beers by style?"
   ]
  },
  {
   "cell_type": "markdown",
   "metadata": {},
   "source": [
    "### **5.1. 🌍 Which two countries are most similiar when it comes to their top five most produced Beer styles?**"
   ]
  },
  {
   "cell_type": "markdown",
   "metadata": {},
   "source": [
    "<div class=\"alert alert-block alert-danger\">\n",
    "\n",
    "## **CONFIRMAR SE TEMOS DE POR ALGUMA COISA COM `IS NOT NULL`**\n",
    "\n",
    "- **VERIFICAÇÃO DO JOÃO**\n",
    "\n",
    "</div>"
   ]
  },
  {
   "cell_type": "code",
   "execution_count": null,
   "metadata": {},
   "outputs": [],
   "source": [
    "# Query to search for the top 5 most produced beer styles per country (All countries)\n",
    "query = \"\"\"\n",
    "    MATCH (c:COUNTRIES)<-[:IN]-(city:CITIES)<-[:IN]-(br:BREWERIES)-[:BREWED]->(b:BEERS)-[:HAS_STYLE]->(s:STYLE)\n",
    "    WITH c, s, COUNT(b) AS beer_count\n",
    "    ORDER BY c.name, beer_count DESC\n",
    "    WITH c, COLLECT(s.name)[0..5] AS top_styles  // Get the top 5 styles per country\n",
    "    RETURN c.name AS country, top_styles\n",
    "\"\"\"\n",
    "\n",
    "result = execute_read(driver, query)\n",
    "\n",
    "print(\"\\nTop 5 Beer Styles per Country:\")\n",
    "for rec in result:\n",
    "    print(f\"Country: {rec['country']}, Top Styles: {rec['top_styles']}\")"
   ]
  },
  {
   "cell_type": "code",
   "execution_count": null,
   "metadata": {},
   "outputs": [],
   "source": [
    "# Existis countries with less than 5 beer styles produced?\n",
    "query = \"\"\"\n",
    "    MATCH (c:COUNTRIES)\n",
    "    WHERE c.name IS NOT NULL\n",
    "    WITH COUNT(DISTINCT c) AS total_countries\n",
    "\n",
    "    MATCH (c:COUNTRIES)<-[:IN]-(city:CITIES)<-[:IN]-(b:BREWERIES)-[:BREWED]->(beer:BEERS)-[:HAS_STYLE]->(s:STYLE)\n",
    "    WITH c, COUNT(DISTINCT s) AS style_count, total_countries\n",
    "    WHERE style_count < 5\n",
    "\n",
    "    WITH COUNT(DISTINCT c) AS low_style_countries, total_countries, \n",
    "        COLLECT({country: c.name, style_count: style_count}) AS country_list\n",
    "\n",
    "    RETURN low_style_countries, total_countries, \n",
    "        ROUND((low_style_countries * 100.0) / total_countries, 2) AS percentage, \n",
    "        country_list\n",
    "\"\"\"\n",
    "\n",
    "result = execute_read(driver, query)\n",
    "\n",
    "# Print results\n",
    "for rec in result:\n",
    "    print(f\"\\nCountries with <5 Beer Styles: {rec['low_style_countries']} out of {rec['total_countries']} ({rec['percentage']}%)\\n\")\n",
    "    print(\"Detailed list:\")\n",
    "    for country in rec['country_list']:\n",
    "        print(f\"{country['country']}: {country['style_count']} beer styles\")"
   ]
  },
  {
   "cell_type": "markdown",
   "metadata": {},
   "source": [
    "> **Note** It mentions a total of $199$ countries instead of $200$ because we are removing the ghost country without a name"
   ]
  },
  {
   "cell_type": "code",
   "execution_count": null,
   "metadata": {},
   "outputs": [],
   "source": [
    "# Distinct beer styles produced by each country \n",
    "query = \"\"\"\n",
    "    MATCH (c:COUNTRIES)<-[:IN]-(city:CITIES)<-[:IN]-(b:BREWERIES)-[:BREWED]->(beer:BEERS)-[:HAS_STYLE]->(s:STYLE)\n",
    "    WHERE c.name IS NOT NULL\n",
    "    WITH c.name AS country, COLLECT(DISTINCT s.name) AS styles\n",
    "    RETURN country, styles\n",
    "    ORDER BY size(styles) DESC\n",
    "\"\"\"\n",
    "\n",
    "result = execute_read(driver, query)\n",
    "\n",
    "print(\"\\nSample of Countries and Their Beer Styles:\")\n",
    "for rec in result:\n",
    "    print(f\"{rec['country']}: {rec['styles']}\")"
   ]
  },
  {
   "cell_type": "markdown",
   "metadata": {},
   "source": [
    "<div class=\"alert alert-block alert-warning\">\n",
    "\n",
    "##### **Applying Node Similarity Algorithm**\n",
    "\n",
    "Logic followed (Chatgpt)\n",
    "\n",
    "1. Filters out countries with fewer than 5 beer styles\n",
    "\n",
    "- Only includes countries with at least 5 distinct beer styles in the graph and have c.name different from NULL\n",
    "- This ensures that similarity is only computed for countries with a sufficiently diverse beer production.\n",
    "\n",
    "2. Creates a weighted graph between countries and beer styles\n",
    "\n",
    "- Each country node (COUNTRIES) is connected to its top 5 most produced beer styles (STYLE).\n",
    "- The relationship weight is the number of beers in that country belonging to each style.\n",
    "3. Runs the Node Similarity algorithm using these weighted connections\n",
    "\n",
    "- Instead of just checking if two countries share beer styles, the algorithm considers how much beer is produced in each style.\n",
    "- If two countries produce the same styles but in very different proportions, they will have lower similarity.\n",
    "- If two countries produce the same styles in similar proportions, they will have higher similarity.\n",
    "\n",
    "> **ALTERAR COMMENT**\n",
    "\n",
    "</div>"
   ]
  },
  {
   "cell_type": "markdown",
   "metadata": {},
   "source": [
    "<div class=\"alert alert-block alert-danger\">\n",
    "\n",
    "# **PERGUNTAR PROFª**\n",
    "\n",
    "</div>"
   ]
  },
  {
   "cell_type": "code",
   "execution_count": null,
   "metadata": {},
   "outputs": [],
   "source": [
    "# 5.1. Which two countries are most similiar when it comes to their top five most produced Beer styles?\n",
    "# Step 0 - Clear graph\n",
    "try:\n",
    "    query = \"\"\"CALL gds.graph.drop('beerGraphMostSimilar') YIELD graphName;\"\"\"\n",
    "    result = execute_read(driver, query)\n",
    "    pprint(result)\n",
    "except Exception as e:\n",
    "    pprint(e)"
   ]
  },
  {
   "cell_type": "code",
   "execution_count": null,
   "metadata": {},
   "outputs": [],
   "source": [
    "# Step 1 - Create an appropriate graph\n",
    "try:\n",
    "    query = \"\"\"\n",
    "        CALL gds.graph.project.cypher(\n",
    "            'beerGraphMostSimilar',\n",
    "\n",
    "            // Node projection: Include COUNTRIES and STYLE nodes (200 + 113 = 313 nodes)\n",
    "            \"MATCH (n)\n",
    "             WHERE head(labels(n)) = 'COUNTRIES' OR head(labels(n)) = 'STYLE'\n",
    "             RETURN id(n) AS id\",\n",
    "\n",
    "            // Relationships: COUNTRIES to top 5 most produced STYLEs\n",
    "            \"MATCH (c:COUNTRIES)<-[:IN]-(:CITIES)<-[:IN]-(:BREWERIES)-[:BREWED]->(b:BEERS)-[:HAS_STYLE]->(s:STYLE)\n",
    "             WITH c, s, count(b) AS beerCount\n",
    "             ORDER BY beerCount DESC\n",
    "             WITH c, collect({styleId: id(s), count: beerCount})[0..5] AS topStyles\n",
    "             UNWIND topStyles AS styleData\n",
    "             RETURN id(c) AS source, styleData.styleId AS target\"\n",
    "        )\n",
    "    \"\"\"\n",
    "    result = execute_read(driver, query)\n",
    "    pprint(result)\n",
    "except Exception as e:\n",
    "    print(f\"Error projecting graph: {e}\")"
   ]
  },
  {
   "cell_type": "code",
   "execution_count": null,
   "metadata": {},
   "outputs": [],
   "source": [
    "#  graphName='beerGraphMostSimilar' nodeCount=313 relationshipCount=813"
   ]
  },
  {
   "cell_type": "code",
   "execution_count": null,
   "metadata": {},
   "outputs": [],
   "source": [
    "# Step 1.2 - Run relationship query\n",
    "try:\n",
    "    query = \"\"\"\n",
    "        MATCH (c:COUNTRIES)<-[:IN]-(:CITIES)<-[:IN]-(:BREWERIES)-[:BREWED]->(b:BEERS)-[:HAS_STYLE]->(s:STYLE)\n",
    "        WITH c, s, count(b) AS beerCount\n",
    "        ORDER BY beerCount DESC\n",
    "        WITH c, collect({styleId: id(s), count: beerCount})[0..5] AS topStyles\n",
    "        UNWIND topStyles AS styleData\n",
    "        RETURN id(c) AS source, styleData.styleId AS target, styleData.count AS count, c.name AS country\n",
    "        LIMIT 10\n",
    "    \"\"\"\n",
    "    result = execute_read(driver, query)\n",
    "    pprint(result)\n",
    "except Exception as e:\n",
    "    print(f\"Error projecting graph: {e}\")"
   ]
  },
  {
   "cell_type": "markdown",
   "metadata": {},
   "source": [
    "<div class=\"alert alert-block alert-warning\">\n",
    "\n",
    "##### **DECIDIR QUAL DOS RESULTADOS POR**\n",
    "\n",
    "</div>"
   ]
  },
  {
   "cell_type": "code",
   "execution_count": null,
   "metadata": {},
   "outputs": [],
   "source": [
    "# Step 1 - Create an Appropriate Graph\n",
    "try:\n",
    "    query = \"\"\"\n",
    "    CALL gds.graph.project.cypher(\n",
    "        'beer_style_graph',\n",
    "\n",
    "        // Node projection: Include COUNTRIES and STYLE nodes (200 + 113 = 313 nodes)\n",
    "        \"MATCH (n)\n",
    "        WHERE head(labels(n)) = 'COUNTRIES' OR head(labels(n)) = 'STYLE'\n",
    "        RETURN id(n) AS id\",\n",
    "\n",
    "        // Relationships: COUNTRIES to top 5 most produced STYLEs (excluding countries with less than 5 styles and without a name)\n",
    "        \"MATCH (c:COUNTRIES)<-[:IN]-(city:CITIES)<-[:IN]-(b:BREWERIES)-[:BREWED]->(beer:BEERS)-[:HAS_STYLE]->(s:STYLE)\n",
    "        WHERE size([(c)<-[:IN]-(:CITIES)<-[:IN]-(:BREWERIES)-[:BREWED]->(:BEERS)-[:HAS_STYLE]->(:STYLE) | 1]) >= 5 and c.name IS NOT NULL\n",
    "        WITH c, s, count(beer) AS beerCount\n",
    "        ORDER BY beerCount DESC\n",
    "        WITH c, collect({styleId: id(s), count: beerCount})[0..5] AS topStyles\n",
    "        UNWIND topStyles AS styleData\n",
    "        RETURN id(c) AS source, styleData.styleId AS target, styleData.count AS weight\"\n",
    "        \n",
    "    )\n",
    "    \"\"\"\n",
    "    result = execute_read(driver, query)\n",
    "    pprint(result)\n",
    "except Exception as e:\n",
    "    print(f\"Error projecting graph: {e}\")"
   ]
  },
  {
   "cell_type": "code",
   "execution_count": null,
   "metadata": {},
   "outputs": [],
   "source": [
    "# Step 2 - Run the Node Similarity Algorithm\n",
    "try:\n",
    "    query = \"\"\"\n",
    "        CALL gds.nodeSimilarity.stream('beerGraphMostSimilar')\n",
    "        YIELD node1, node2, similarity\n",
    "        WITH gds.util.asNode(node1).name AS Country1,\n",
    "             gds.util.asNode(node2).name AS Country2, similarity\n",
    "        RETURN Country1, Country2, similarity\n",
    "        ORDER BY similarity DESC\n",
    "        LIMIT 2\n",
    "    \"\"\"\n",
    "    result = execute_read(driver, query)\n",
    "    pprint(result)\n",
    "except Exception as e:\n",
    "    print(f\"Error running similarity: {e}\")"
   ]
  },
  {
   "cell_type": "code",
   "execution_count": null,
   "metadata": {},
   "outputs": [],
   "source": [
    "print(\"\\033[1mMost Similar Countries Based on Beer Styles:\\033[1m\")\n",
    "for rec in result:\n",
    "    print(f\"{rec['Country1']} and {rec['Country2']} - Similarity: {rec['similarity']:.2f}\")"
   ]
  },
  {
   "cell_type": "markdown",
   "metadata": {},
   "source": [
    "#### **Comments**\n",
    "\n",
    "- The similarity between countries based on their top five most produced beer styles can be calculated using the Jaccard Similarity Coefficient. This coefficient measures the similarity between two sets by dividing the size of the intersection by the size of the union of the two sets.\n",
    "\n",
    "**Results**\n",
    "\n"
   ]
  },
  {
   "cell_type": "markdown",
   "metadata": {},
   "source": [
    "---"
   ]
  },
  {
   "cell_type": "markdown",
   "metadata": {},
   "source": [
    "### **5.2. 🍺 Which beer is the most popular when considering the number of users who reviewed it?**"
   ]
  },
  {
   "cell_type": "code",
   "execution_count": null,
   "metadata": {},
   "outputs": [],
   "source": [
    "# 5.2. Which beer is the most popular when considering the number of users who reviewed it?\n",
    "\n",
    "# Step 0 - Clear graph\n",
    "try:\n",
    "    query = \"\"\"CALL gds.graph.drop('beerGraphMostPopular') YIELD graphName;\"\"\"\n",
    "    result = execute_read(driver, query)\n",
    "    pprint(result)\n",
    "except Exception as e:\n",
    "    pprint(e)"
   ]
  },
  {
   "cell_type": "code",
   "execution_count": null,
   "metadata": {},
   "outputs": [],
   "source": [
    "# Step 1 - Create an appropriate graph\n",
    "try:\n",
    "    query = \"\"\"\n",
    "        CALL gds.graph.project.cypher(\n",
    "            'beerGraphMostPopular',\n",
    "\n",
    "            // Node projection: Include BEERS and USER nodes\n",
    "            \"MATCH (n)\n",
    "             WHERE head(labels(n)) = 'BEERS' OR head(labels(n)) = 'USER'\n",
    "             RETURN id(n) AS id\",\n",
    "\n",
    "            // Relationships: BEERS to USERs who reviewed them\n",
    "            \"MATCH (b:BEERS)-[:REVIEWED]->(r:REVIEWS)-[:POSTED]->(u:USER)\n",
    "             RETURN id(b) AS source, id(u) AS target\"\n",
    "        )\n",
    "    \"\"\"\n",
    "    result = execute_read(driver, query)\n",
    "    pprint(result)\n",
    "except Exception as e:\n",
    "    print(f\"Error creating graph: {e}\")"
   ]
  },
  {
   "cell_type": "code",
   "execution_count": null,
   "metadata": {},
   "outputs": [],
   "source": [
    "# graphName='beerGraphMostPopular' nodeCount=482804 relationshipCount=2537991"
   ]
  },
  {
   "cell_type": "code",
   "execution_count": null,
   "metadata": {},
   "outputs": [],
   "source": [
    "# Step 1.1 - Verify the graph has only 1 relationship between BEERS and USER\n",
    "try:\n",
    "    query = \"\"\"\n",
    "        MATCH (b:BEERS)-[:REVIEWED]->(r:REVIEWS)-[:POSTED]->(u:USER)\n",
    "        WITH b, u, count(r) AS reviewCount\n",
    "        WHERE reviewCount > 1\n",
    "        RETURN b.id AS beerId, u.name AS userName, reviewCount AS relationshipCount\n",
    "        LIMIT 5\n",
    "    \"\"\"\n",
    "    result = execute_read(driver, query)\n",
    "    if not result:\n",
    "        print(\"Verification: Only 1 relationship exists between each BEERS and USER pair in the original data.\")\n",
    "    else:\n",
    "        print(\"Verification: Multiple reviews found in original data (expected, but graph should deduplicate):\")\n",
    "        pprint(result)\n",
    "except Exception as e:\n",
    "    print(f\"Error verifying graph: {e}\")"
   ]
  },
  {
   "cell_type": "code",
   "execution_count": null,
   "metadata": {},
   "outputs": [],
   "source": [
    "# Step 1.1 - Verify the graph has only 1 relationship between BEERS and USER\n",
    "try:\n",
    "    query = \"\"\"\n",
    "        MATCH (b:BEERS)-[:REVIEWED]->(r:REVIEWS)-[:POSTED]->(u:USER)\n",
    "        WITH b, u, count(r) AS reviewCount\n",
    "        WHERE reviewCount > 1 AND b.id IS NOT NULL AND u.name IS NOT NULL\n",
    "        RETURN b.id AS beerId, u.name AS userName, reviewCount AS relationshipCount\n",
    "        LIMIT 5\n",
    "    \"\"\"\n",
    "    result = execute_read(driver, query)\n",
    "    if not result:\n",
    "        print(\"Verification: Only 1 relationship exists between each BEERS and USER pair in the original data.\")\n",
    "    else:\n",
    "        print(\"Verification: Multiple reviews found in original data (expected, but graph should deduplicate):\")\n",
    "        pprint(result)\n",
    "except Exception as e:\n",
    "    print(f\"Error verifying graph: {e}\")"
   ]
  },
  {
   "cell_type": "code",
   "execution_count": null,
   "metadata": {},
   "outputs": [],
   "source": [
    "# Step 1.2. Not consider more than one review per user for the same beer\n",
    "query = \"\"\"\n",
    "    MATCH (b:BEERS)-[:REVIEWED]->(r:REVIEWS)-[:POSTED]->(u:USER)\n",
    "    WITH DISTINCT b, u, count(r) AS reviewCount\n",
    "    WHERE reviewCount > 1 \n",
    "    RETURN b.id AS beerId, u.name AS userName, reviewCount AS relationshipCount\n",
    "    LIMIT 5\n",
    "\"\"\"\n",
    "result = execute_read(driver, query)\n",
    "pprint(result)"
   ]
  },
  {
   "cell_type": "code",
   "execution_count": null,
   "metadata": {},
   "outputs": [],
   "source": [
    "# Step 2 - Run a centrality algorithm to find the most popular beer\n",
    "# Source: https://neo4j.com/docs/graph-data-science/current/algorithms/degree-centrality/\n",
    "try:\n",
    "    query = \"\"\"\n",
    "        CALL gds.degree.stream('beerGraphMostPopular')\n",
    "        YIELD nodeId, score\n",
    "        WITH gds.util.asNode(nodeId).name AS BeerName, score AS NumberOfReviews\n",
    "        RETURN BeerName, NumberOfReviews\n",
    "        ORDER BY NumberOfReviews DESC\n",
    "        LIMIT 10\n",
    "    \"\"\"\n",
    "    result = execute_read(driver, query)\n",
    "    print(\"Most popular beer by number of users who reviewed it:\")\n",
    "    pprint(result)\n",
    "except Exception as e:\n",
    "    print(f\"Error running centrality: {e}\")"
   ]
  },
  {
   "cell_type": "code",
   "execution_count": null,
   "metadata": {},
   "outputs": [],
   "source": [
    "# Query to find the most popular beer by the number of users who reviewed it\n",
    "query = \"\"\"\n",
    "    MATCH (b:BEERS)-[:REVIEWED]->(r:REVIEWS)-[:POSTED]->(u:USER)\n",
    "    RETURN b.name AS BeerName, count(DISTINCT u) AS NumberOfUsers\n",
    "    ORDER BY NumberOfUsers DESC\n",
    "    LIMIT 5\n",
    "\"\"\"\n",
    "result = execute_read(driver, query)\n",
    "print(\"Most popular beer by number of users who reviewed it:\")\n",
    "pprint(result)"
   ]
  },
  {
   "cell_type": "code",
   "execution_count": null,
   "metadata": {},
   "outputs": [],
   "source": [
    "# Query to find the most popular beer by the number of users who reviewed it\n",
    "query = \"\"\"\n",
    "    MATCH (b:BEERS)-[:REVIEWED]->(r:REVIEWS)-[:POSTED]->(u:USER)\n",
    "    WITH DISTINCT b, u\n",
    "    WHERE b.id IS NOT NULL AND u.name IS NOT NULL\n",
    "    RETURN b.id AS beerId, u.name AS userName, count(u) AS reviewCount\n",
    "    ORDER BY reviewCount DESC\n",
    "    LIMIT 5\n",
    "\"\"\"\n",
    "result = execute_read(driver, query)\n",
    "print(\"Most popular beer by number of users who reviewed it:\")\n",
    "pprint(result)"
   ]
  },
  {
   "cell_type": "markdown",
   "metadata": {},
   "source": [
    "<div class=\"alert alert-block alert-danger\">\n",
    "\n",
    "## **🚨NÃO DEU IGUAL À QUERY SIMPLES ACIMA! 🚨**"
   ]
  },
  {
   "cell_type": "markdown",
   "metadata": {},
   "source": [
    "---"
   ]
  },
  {
   "cell_type": "markdown",
   "metadata": {},
   "source": [
    "## **🔗 Bibliography/References**\n",
    "\n",
    "**[[1]](https://www.hopsandhopes.nl/en/beers/snake-venom)** Hops & Hopes. (2025). Snake Venom. Nederlands; Hops&Hopes. https://www.hopsandhopes.nl/en/beers/snake-venom"
   ]
  }
 ],
 "metadata": {
  "hide_input": false,
  "kernelspec": {
   "display_name": "bdmm",
   "language": "python",
   "name": "python3"
  },
  "language_info": {
   "codemirror_mode": {
    "name": "ipython",
    "version": 3
   },
   "file_extension": ".py",
   "mimetype": "text/x-python",
   "name": "python",
   "nbconvert_exporter": "python",
   "pygments_lexer": "ipython3",
   "version": "3.12.9"
  },
  "toc": {
   "base_numbering": 1,
   "nav_menu": {},
   "number_sections": true,
   "sideBar": true,
   "skip_h1_title": false,
   "title_cell": "Table of Contents",
   "title_sidebar": "Contents",
   "toc_cell": false,
   "toc_position": {},
   "toc_section_display": true,
   "toc_window_display": false
  },
  "varInspector": {
   "cols": {
    "lenName": 16,
    "lenType": 16,
    "lenVar": 40
   },
   "kernels_config": {
    "python": {
     "delete_cmd_postfix": "",
     "delete_cmd_prefix": "del ",
     "library": "var_list.py",
     "varRefreshCmd": "print(var_dic_list())"
    },
    "r": {
     "delete_cmd_postfix": ") ",
     "delete_cmd_prefix": "rm(",
     "library": "var_list.r",
     "varRefreshCmd": "cat(var_dic_list()) "
    }
   },
   "types_to_exclude": [
    "module",
    "function",
    "builtin_function_or_method",
    "instance",
    "_Feature"
   ],
   "window_display": false
  }
 },
 "nbformat": 4,
 "nbformat_minor": 4
}
